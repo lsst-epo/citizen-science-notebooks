{
 "cells": [
  {
   "cell_type": "markdown",
   "id": "40b39781-6a1b-40eb-a86b-b5b371d0993f",
   "metadata": {},
   "source": [
    "# Citizen Science Notebook - TAP Tutorial\n",
    "This notebook demonstrates the usage of using the TAP query service to curate tabular data and send it to Zooniverse"
   ]
  },
  {
   "cell_type": "markdown",
   "id": "2450d25d",
   "metadata": {},
   "source": [
    "## Create a Zooniverse Account\n",
    "If you haven't already, [create a Zooniverse account here.](https://www.zooniverse.org/)\n",
    "After creating your account, return to this notebook."
   ]
  },
  {
   "cell_type": "markdown",
   "id": "7b87346d",
   "metadata": {},
   "source": [
    "## Load Pipeline and Log in to Zooniverse\n",
    "Now that you have a Zooniverse account, log into the Zooniverse(Panoptes) client."
   ]
  },
  {
   "cell_type": "code",
   "execution_count": 1,
   "id": "697a97ac-44ea-4c17-9a72-84dbb0f116c6",
   "metadata": {
    "execution": {
     "iopub.execute_input": "2023-07-13T18:46:22.420167Z",
     "iopub.status.busy": "2023-07-13T18:46:22.419317Z",
     "iopub.status.idle": "2023-07-13T18:46:24.512253Z",
     "shell.execute_reply": "2023-07-13T18:46:24.511347Z",
     "shell.execute_reply.started": "2023-07-13T18:46:22.420138Z"
    },
    "tags": []
   },
   "outputs": [],
   "source": [
    "import utils"
   ]
  },
  {
   "cell_type": "code",
   "execution_count": 2,
   "id": "44b69d57-88da-49af-afa5-aee11b895881",
   "metadata": {
    "execution": {
     "iopub.execute_input": "2023-07-13T18:46:47.699074Z",
     "iopub.status.busy": "2023-07-13T18:46:47.698171Z",
     "iopub.status.idle": "2023-07-13T18:47:06.144371Z",
     "shell.execute_reply": "2023-07-13T18:47:06.143401Z",
     "shell.execute_reply.started": "2023-07-13T18:46:47.699040Z"
    },
    "tags": []
   },
   "outputs": [
    {
     "name": "stdout",
     "output_type": "stream",
     "text": [
      "Installing external dependencies...\n",
      "Done installing external dependencies!\n",
      "Loading and running utilities to establish a link with Zooniverse\n",
      "Enter your Zooniverse username followed by password below\n",
      "Enter your Zooniverse credentials...\n"
     ]
    },
    {
     "name": "stdin",
     "output_type": "stream",
     "text": [
      "Username:  ericrosas\n",
      " ········\n"
     ]
    },
    {
     "name": "stdout",
     "output_type": "stream",
     "text": [
      "You now are logged in to the Zooniverse platform.\n"
     ]
    }
   ],
   "source": [
    "email = \"erosas@lsst.org\" # Email associated with Zooniverse account \n",
    "slug_name = \"ericrosas/test-project\" # Do not include the leading forward-slash, see above \n",
    "%run Citizen_Science_Install.ipynb\n",
    "\n",
    "from rubin_citsci_core_pipeline import CitSciPipeline\n",
    "print(\"Loading and running utilities to establish a link with Zooniverse\")\n",
    "print(\"Enter your Zooniverse username followed by password below\")\n",
    "cit_sci_pipeline = CitSciPipeline()\n",
    "cit_sci_pipeline.login_to_zooniverse(slug_name, email)"
   ]
  },
  {
   "cell_type": "markdown",
   "id": "87b3885c-fef1-4fe2-a1d5-5110da3664f7",
   "metadata": {},
   "source": [
    "## Use TAP Query Service\n",
    "Curate data suitable for citizen science projects via the TAP query service."
   ]
  },
  {
   "cell_type": "code",
   "execution_count": 3,
   "id": "90813c05-0348-4622-91a8-c9b6d6a77eef",
   "metadata": {
    "execution": {
     "iopub.execute_input": "2023-07-13T18:48:31.956172Z",
     "iopub.status.busy": "2023-07-13T18:48:31.955627Z",
     "iopub.status.idle": "2023-07-13T18:48:40.970627Z",
     "shell.execute_reply": "2023-07-13T18:48:40.969705Z",
     "shell.execute_reply.started": "2023-07-13T18:48:31.956144Z"
    },
    "tags": []
   },
   "outputs": [
    {
     "name": "stdout",
     "output_type": "stream",
     "text": [
      "[{'sourceId': '3d5491b9-726c-400e-8c78-ca55478cb301', 'objectId': 1248658181060565752, 'coord_dec': -44.4733666, 'Coord_ra': 50.8958107, 'g_ra': 50.8958259, 'i_ra': 50.8958107, 'r_ra': 50.8958177, 'u_ra': 50.8958031, 'y_ra': 50.8958752, 'z_ra': 50.8958031, 'g_decl': -44.4733667, 'i_decl': -44.4733666, 'r_decl': -44.4733883, 'u_decl': -44.4733777, 'y_decl': -44.4733565, 'z_decl': -44.4733777, 'g_bdFluxB': 126.7471051, 'i_bdFluxB': 230.367934, 'r_bdFluxB': 165.6162871, 'u_bdFluxB': 45.635395, 'y_bdFluxB': 415.2613789, 'z_bdFluxB': 179.645831, 'g_bdFluxD': 123.586586, 'i_bdFluxD': 227.6617612, 'r_bdFluxD': 158.0980862, 'u_bdFluxD': 47.0597137, 'y_bdFluxD': 415.5121105, 'z_bdFluxD': 169.9774523, 'g_bdReB': 0.7538444, 'i_bdReB': 0.3435149, 'r_bdReB': 0.3666287, 'u_bdReB': 2.0192645, 'y_bdReB': 1.8398567, 'z_bdReB': 1.8817219, 'g_bdReD': 1.0052545, 'i_bdReD': 0.4712263, 'r_bdReD': 0.1047354, 'u_bdReD': 1.9135257, 'y_bdReD': 1.8477496, 'z_bdReD': 1.9595287}, {'sourceId': '7461a290-5d5c-4603-943e-b16298932456', 'objectId': 1248658181060565735, 'coord_dec': -44.4737665, 'Coord_ra': 50.9028206, 'g_ra': 50.9027213, 'i_ra': 50.9028206, 'r_ra': 50.9027122, 'u_ra': 50.9027322, 'y_ra': 50.9027372, 'z_ra': 50.902728, 'g_decl': -44.4738002, 'i_decl': -44.4737665, 'r_decl': -44.4737329, 'u_decl': -44.4737634, 'y_decl': -44.4737979, 'z_decl': -44.4737961, 'g_bdFluxB': 69.7559829, 'i_bdFluxB': 354.9627383, 'r_bdFluxB': 94.3047921, 'u_bdFluxB': 107.8613937, 'y_bdFluxB': 1152.7361098, 'z_bdFluxB': 555.453287, 'g_bdFluxD': 69.1645863, 'i_bdFluxD': 323.7443316, 'r_bdFluxD': 94.025873, 'u_bdFluxD': 104.0601369, 'y_bdFluxD': 1171.1534232, 'z_bdFluxD': 499.3960242, 'g_bdReB': 0.500545, 'i_bdReB': 2.2132847, 'r_bdReB': 0.2966862, 'u_bdReB': 1.9299623, 'y_bdReB': 2.2623168, 'z_bdReB': 0.8065952, 'g_bdReD': 0.7559647, 'i_bdReD': 2.2250623, 'r_bdReD': 0.3057874, 'u_bdReD': 2.1463629, 'y_bdReD': 2.8843947, 'z_bdReD': 0.0155719}, {'sourceId': 'c1a4ec91-4a76-4b2b-a9e4-95cb1fc12379', 'objectId': 1248658181060565736, 'coord_dec': -44.4736801, 'Coord_ra': 50.6937435, 'g_ra': 50.6937012, 'i_ra': 50.6937435, 'r_ra': 50.6937399, 'u_ra': 50.6937012, 'y_ra': 50.6937012, 'z_ra': 50.6937409, 'g_decl': -44.4736736, 'i_decl': -44.4736801, 'r_decl': -44.4736894, 'u_decl': -44.4736736, 'y_decl': -44.4736736, 'z_decl': -44.4737124, 'g_bdFluxB': 42.2972494, 'i_bdFluxB': 277.4722175, 'r_bdFluxB': 117.9619771, 'u_bdFluxB': 64.085422, 'y_bdFluxB': 280.0909169, 'z_bdFluxB': 522.6855559, 'g_bdFluxD': 42.634884, 'i_bdFluxD': 243.372158, 'r_bdFluxD': 97.4831982, 'u_bdFluxD': 104.0929942, 'y_bdFluxD': 258.1473703, 'z_bdFluxD': 494.4759342, 'g_bdReB': 1.9914564, 'i_bdReB': 1.6562374, 'r_bdReB': 1.7095936, 'u_bdReB': 1.9840927, 'y_bdReB': 1.9214809, 'z_bdReB': 1.2012323, 'g_bdReD': 2.1634355, 'i_bdReD': 1.5054927, 'r_bdReD': 1.3060795, 'u_bdReD': 2.870495, 'y_bdReD': 2.0393703, 'z_bdReD': 1.2557084}, {'sourceId': '4162ce6a-7099-40da-a290-f4443b4c5a0c', 'objectId': 1248658181060565737, 'coord_dec': -44.4737381, 'Coord_ra': 50.8989646, 'g_ra': 50.8990193, 'i_ra': 50.8989646, 'r_ra': 50.8990089, 'u_ra': 50.8989953, 'y_ra': 50.8990663, 'z_ra': 50.8989557, 'g_decl': -44.4736547, 'i_decl': -44.4737381, 'r_decl': -44.4737536, 'u_decl': -44.4737651, 'y_decl': -44.4732072, 'z_decl': -44.4737038, 'g_bdFluxB': 72.8974534, 'i_bdFluxB': 295.7820137, 'r_bdFluxB': 157.6391018, 'u_bdFluxB': 34.37014, 'y_bdFluxB': 429.7944174, 'z_bdFluxB': 415.1717817, 'g_bdFluxD': 73.2959092, 'i_bdFluxD': 295.82738, 'r_bdFluxD': 144.0528805, 'u_bdFluxD': 34.3364684, 'y_bdFluxD': 414.5582744, 'z_bdFluxD': 437.3475891, 'g_bdReB': 0.0251934, 'i_bdReB': 0.0221031, 'r_bdReB': 1.3954262, 'u_bdReB': 0.0136831, 'y_bdReB': 0.0137454, 'z_bdReB': 0.2517341, 'g_bdReD': 0.1692352, 'i_bdReD': 0.0136622, 'r_bdReD': 1.4759445, 'u_bdReD': 0.0137011, 'y_bdReD': 0.209548, 'z_bdReD': 0.4889591}, {'sourceId': '09efd9ce-c258-4dd5-aae6-6d2abb3fa571', 'objectId': 1248658181060565739, 'coord_dec': -44.4739135, 'Coord_ra': 50.7950714, 'g_ra': 50.7950612, 'i_ra': 50.7950714, 'r_ra': 50.7950729, 'u_ra': 50.7950538, 'y_ra': 50.7950695, 'z_ra': 50.7950682, 'g_decl': -44.4738855, 'i_decl': -44.4739135, 'r_decl': -44.4739081, 'u_decl': -44.4738804, 'y_decl': -44.4739222, 'z_decl': -44.4739275, 'g_bdFluxB': 1390.7409273, 'i_bdFluxB': 5362.7131208, 'r_bdFluxB': 2353.4242406, 'u_bdFluxB': 1234.5898235, 'y_bdFluxB': 8028.9473812, 'z_bdFluxB': 8202.2545196, 'g_bdFluxD': 1294.7626312, 'i_bdFluxD': 4595.6162141, 'r_bdFluxD': 2053.2044007, 'u_bdFluxD': 1168.7496475, 'y_bdFluxD': 7644.0258149, 'z_bdFluxD': 7014.5699776, 'g_bdReB': 1.1918403, 'i_bdReB': 1.9485861, 'r_bdReB': 1.7293964, 'u_bdReB': 1.0572263, 'y_bdReB': 1.3618546, 'z_bdReB': 2.0586379, 'g_bdReD': 1.3296376, 'i_bdReD': 1.6953906, 'r_bdReD': 1.578125, 'u_bdReD': 1.2434289, 'y_bdReD': 1.6405027, 'z_bdReD': 1.7796709}, {'sourceId': 'dd1aaf74-a5cc-491a-9a82-e75373d7b5ff', 'objectId': 1248658181060565740, 'coord_dec': -44.4737202, 'Coord_ra': 50.8477863, 'g_ra': 50.8477653, 'i_ra': 50.8477863, 'r_ra': 50.8477385, 'u_ra': 50.847769, 'y_ra': 50.847769, 'z_ra': 50.8476616, 'g_decl': -44.4736275, 'i_decl': -44.4737202, 'r_decl': -44.4736911, 'u_decl': -44.4737212, 'y_decl': -44.4737212, 'z_decl': -44.4737096, 'g_bdFluxB': 20.0309236, 'i_bdFluxB': 187.133904, 'r_bdFluxB': 60.4850496, 'u_bdFluxB': 107.7170046, 'y_bdFluxB': 116.3728114, 'z_bdFluxB': 69.0943546, 'g_bdFluxD': 22.2285954, 'i_bdFluxD': 187.2537153, 'r_bdFluxD': 60.5283845, 'u_bdFluxD': 98.6885117, 'y_bdFluxD': 119.0522145, 'z_bdFluxD': 57.0075794, 'g_bdReB': 0.0181827, 'i_bdReB': 0.014059, 'r_bdReB': 0.0211647, 'u_bdReB': 1.8626856, 'y_bdReB': 0.3020373, 'z_bdReB': 0.0263849, 'g_bdReD': 0.0124481, 'i_bdReD': 0.0159928, 'r_bdReD': 0.0227477, 'u_bdReD': 1.8587281, 'y_bdReD': 0.7178616, 'z_bdReD': 0.0230614}, {'sourceId': '1a991bd8-40a1-4a98-b94d-a5d89cb7e563', 'objectId': 1248658181060565741, 'coord_dec': -44.4736163, 'Coord_ra': 50.7849643, 'g_ra': 50.784973, 'i_ra': 50.7849643, 'r_ra': 50.7849821, 'u_ra': 50.7849692, 'y_ra': 50.7849715, 'z_ra': 50.7849982, 'g_decl': -44.4736022, 'i_decl': -44.4736163, 'r_decl': -44.4736014, 'u_decl': -44.4736028, 'y_decl': -44.4736033, 'z_decl': -44.4736128, 'g_bdFluxB': 300.6614813, 'i_bdFluxB': 543.9168481, 'r_bdFluxB': 427.0141282, 'u_bdFluxB': 307.5588685, 'y_bdFluxB': 1254.9851611, 'z_bdFluxB': 1176.4184756, 'g_bdFluxD': 299.8091422, 'i_bdFluxD': 544.2781048, 'r_bdFluxD': 425.3946211, 'u_bdFluxD': 304.1746221, 'y_bdFluxD': 1375.3268445, 'z_bdFluxD': 1150.3331182, 'g_bdReB': 0.148492, 'i_bdReB': 0.0194926, 'r_bdReB': 0.499266, 'u_bdReB': 0.4526225, 'y_bdReB': 0.5514315, 'z_bdReB': 0.3907417, 'g_bdReD': 0.1904755, 'i_bdReD': 0.0276006, 'r_bdReD': 0.7629329, 'u_bdReD': 0.5908097, 'y_bdReD': 1.5835086, 'z_bdReD': 0.4613851}, {'sourceId': '8b4d78ac-31e6-44d3-a9ac-d11b3f263cfb', 'objectId': 1248658181060565744, 'coord_dec': -44.4743148, 'Coord_ra': 50.830712, 'g_ra': 50.8307179, 'i_ra': 50.830712, 'r_ra': 50.8307256, 'u_ra': 50.8307194, 'y_ra': 50.8307194, 'z_ra': 50.8307467, 'g_decl': -44.4743056, 'i_decl': -44.4743148, 'r_decl': -44.4743286, 'u_decl': -44.474331, 'y_decl': -44.474331, 'z_decl': -44.4743672, 'g_bdFluxB': 135.9040401, 'i_bdFluxB': 441.5066043, 'r_bdFluxB': 242.6956085, 'u_bdFluxB': 19.7412695, 'y_bdFluxB': 628.8417611, 'z_bdFluxB': 694.7875483, 'g_bdFluxD': 122.4556284, 'i_bdFluxD': 441.9528461, 'r_bdFluxD': 241.8459275, 'u_bdFluxD': 25.856112, 'y_bdFluxD': 595.6943223, 'z_bdFluxD': 639.7540426, 'g_bdReB': 1.9205222, 'i_bdReB': 0.1046815, 'r_bdReB': 0.0786407, 'u_bdReB': 0.5573315, 'y_bdReB': 2.0710069, 'z_bdReB': 1.8493198, 'g_bdReD': 2.0308642, 'i_bdReD': 0.1038274, 'r_bdReD': 0.0925949, 'u_bdReD': 1.828783, 'y_bdReD': 2.3490602, 'z_bdReD': 1.8746188}, {'sourceId': 'ac602100-a614-462a-b5bc-3ede7dd2951d', 'objectId': 1248658181060565745, 'coord_dec': -44.4733571, 'Coord_ra': 50.8165907, 'g_ra': 50.8167388, 'i_ra': 50.8165907, 'r_ra': 50.816604, 'u_ra': 50.8166408, 'y_ra': 50.8165961, 'z_ra': 50.8165788, 'g_decl': -44.4733426, 'i_decl': -44.4733571, 'r_decl': -44.473365, 'u_decl': -44.4733784, 'y_decl': -44.4733101, 'z_decl': -44.4733553, 'g_bdFluxB': 249.5345148, 'i_bdFluxB': 807.3187599, 'r_bdFluxB': 538.3088024, 'u_bdFluxB': 126.1165243, 'y_bdFluxB': 1338.1038881, 'z_bdFluxB': 1000.3939815, 'g_bdFluxD': 220.2448988, 'i_bdFluxD': 795.6508276, 'r_bdFluxD': 488.421687, 'u_bdFluxD': 105.8923264, 'y_bdFluxD': 1338.9002154, 'z_bdFluxD': 1000.972831, 'g_bdReB': 2.8797705, 'i_bdReB': 0.6536716, 'r_bdReB': 1.7326212, 'u_bdReB': 0.9320224, 'y_bdReB': 0.0154047, 'z_bdReB': 0.0131534, 'g_bdReD': 2.4761937, 'i_bdReD': 0.9194031, 'r_bdReD': 1.7826877, 'u_bdReD': 0.2318388, 'y_bdReD': 0.0202953, 'z_bdReD': 0.0320226}, {'sourceId': '0e443e13-7bfe-41a9-a8fa-11a9c4861b16', 'objectId': 1248658181060565747, 'coord_dec': -44.4729884, 'Coord_ra': 50.9800455, 'g_ra': 50.9800489, 'i_ra': 50.9800455, 'r_ra': 50.9800527, 'u_ra': 50.9800042, 'y_ra': 50.9800372, 'z_ra': 50.9800472, 'g_decl': -44.4729885, 'i_decl': -44.4729884, 'r_decl': -44.4729876, 'u_decl': -44.472978, 'y_decl': -44.4729917, 'z_decl': -44.4729847, 'g_bdFluxB': 17460.607538, 'i_bdFluxB': 50404.7023346, 'r_bdFluxB': 39026.3497785, 'u_bdFluxB': 5129.5418265, 'y_bdFluxB': 53709.2076401, 'z_bdFluxB': 55938.2171512, 'g_bdFluxD': 9780.5405551, 'i_bdFluxD': 27911.3964927, 'r_bdFluxD': 21480.1371202, 'u_bdFluxD': 3048.6832792, 'y_bdFluxD': 34299.9792907, 'z_bdFluxD': 32066.4545168, 'g_bdReB': 11.9750343, 'i_bdReB': 12.1316419, 'r_bdReB': 12.1576006, 'u_bdReB': 10.6146088, 'y_bdReB': 9.6069009, 'z_bdReB': 11.3380539, 'g_bdReD': 4.6673793, 'i_bdReD': 4.6112207, 'r_bdReD': 4.5963051, 'u_bdReD': 4.4907942, 'y_bdReD': 4.6057659, 'z_bdReD': 4.5537811}]\n",
      "./delete_me/manifest.csv\n"
     ]
    },
    {
     "name": "stderr",
     "output_type": "stream",
     "text": [
      "/opt/lsst/software/stack/conda/miniconda3-py38_4.9.2/envs/lsst-scipipe-6.0.0/lib/python3.10/site-packages/pyvo/dal/query.py:322: DALOverflowWarning: Partial result set. Potential causes MAXREC, async storage space, etc.\n",
      "  warn(\"Partial result set. Potential causes MAXREC, async storage space, etc.\",\n"
     ]
    }
   ],
   "source": [
    "# Load up the TAP query service\n",
    "from lsst.rsp import get_tap_service, retrieve_query\n",
    "service = get_tap_service(\"tap\")\n",
    "\n",
    "batch_dir = \"./delete_me/\"\n",
    "\n",
    "### Object table query\n",
    "object_results = service.search(\"SELECT objectId, coord_dec, Coord_ra, g_ra, i_ra, r_ra, u_ra, y_ra, z_ra, g_decl, i_decl, r_decl, u_decl, y_decl, z_decl, g_bdFluxB, i_bdFluxB, r_bdFluxB, u_bdFluxB, y_bdFluxB, z_bdFluxB, g_bdFluxD, i_bdFluxD, r_bdFluxD, u_bdFluxD, y_bdFluxD, z_bdFluxD, g_bdReB, i_bdReB, r_bdReB, u_bdReB, y_bdReB, z_bdReB, g_bdReD, i_bdReD, r_bdReD, u_bdReD, y_bdReD, z_bdReD \"\\\n",
    "                         \"FROM dp02_dc2_catalogs.Object\", maxrec=10)\n",
    "\n",
    "result_dict = utils.make_manifest_with_tabular_data(object_results, batch_dir)\n",
    "# print(result_dict)\n",
    "\n",
    "manifest_location = cit_sci_pipeline.write_manifest_file(result_dict, batch_dir)\n",
    "print(manifest_location)\n",
    "\n",
    "\n",
    "\n",
    "\n",
    "\n",
    "\n",
    "# ### DiaObject table query\n",
    "# dia_object_results = service.search(\"SELECT decl, ra, gPSFluxChi2, iPSFluxChi2, rPSFluxChi2, uPSFluxChi2, yPSFluxChi2, zPSFluxChi2, gPSFluxMax, iPSFluxMax, rPSFluxMax, uPSFluxMax, yPSFluxMax, zPSFluxMax, gPSFluxMin, iPSFluxMin, rPSFluxMin, uPSFluxMin, yPSFluxMin, zPSFluxMin, gPSFluxMean, iPSFluxMean, rPSFluxMean, uPSFluxMean, yPSFluxMean, zPSFluxMean, gPSFluxNdata, iPSFluxNdata, rPSFluxNdata, uPSFluxNdata, yPSFluxNdata, zPSFluxNdata \"\\\n",
    "#                          \"FROM dp02_dc2_catalogs.DiaObject\", maxrec=10)\n",
    "# # dia_object_results_tab = dia_object_results.to_table()\n",
    "# # dia_object_results_tab\n",
    "# dia_object_results_csv = create_csv_string_from_tabular_data(dia_object_results)\n",
    "# # dia_object_results_csv\n",
    "\n",
    "# ### ForcedSource table query\n",
    "# forced_source_results = service.search(\"SELECT forcedSourceId, objectId, parentObjectId, coord_ra, coord_dec, skymap, tract, patch, band, ccdVisitId, detect_isPatchInner, detect_isPrimary, detect_isTractInner,localBackground_instFluxErr, localBackground_instFlux, localPhotoCalibErr, localPhotoCalib_flag, localPhotoCalib, localWcs_CDMatrix_1_1, localWcs_CDMatrix_1_2, localWcs_CDMatrix_2_1, localWcs_CDMatrix_2_2, localWcs_flag, pixelFlags_bad, pixelFlags_crCenter, pixelFlags_cr, pixelFlags_edge, pixelFlags_interpolatedCenter, pixelFlags_interpolated, pixelFlags_saturatedCenter, pixelFlags_saturated, pixelFlags_suspectCenter, pixelFlags_suspect, psfDiffFluxErr, psfDiffFlux_flag, psfDiffFlux, psfFluxErr, psfFlux_flag, psfFlux \"\\\n",
    "#                          \"FROM dp02_dc2_catalogs.ForcedSource\", maxrec=10)\n",
    "# # forced_source_results_tab = forced_source_results.to_table()\n",
    "# # forced_source_results_tab\n"
   ]
  },
  {
   "cell_type": "markdown",
   "id": "5082536e-5cc6-4261-8bce-721e5bc0afe9",
   "metadata": {},
   "source": [
    "## Create a new subject set\n",
    "Run this before running the \"Send Data\" cell."
   ]
  },
  {
   "cell_type": "code",
   "execution_count": null,
   "id": "9cb27552-1f98-4930-a72f-1a09f1118834",
   "metadata": {},
   "outputs": [],
   "source": [
    "subject_set_name = \"\" # give your subject set a name\n",
    "subject_set_name"
   ]
  },
  {
   "cell_type": "markdown",
   "id": "54fc771b-ac2b-4304-ad5b-3819c78e0cfb",
   "metadata": {},
   "source": [
    "## Send the cutouts to Zooniverse\n",
    "Don't click the below cell multiple times, the upload will fail if multiple runs are attempted."
   ]
  },
  {
   "cell_type": "code",
   "execution_count": 38,
   "id": "af2d4d05-5925-4891-988e-1bf027ca1000",
   "metadata": {},
   "outputs": [
    {
     "name": "stdout",
     "output_type": "stream",
     "text": [
      "uploading for object query\n",
      "uploaded zip guid: 2e88fb75-a7f1-48ef-bb03-bc65d6a60649\n",
      "uploading for diaObject query\n",
      "uploaded zip guid: 9717ea95-d8c9-4ffc-9256-59e2750dc227\n",
      "uploading for forcedSource query\n",
      "uploaded zip guid: 72230706-e4e3-4d92-b377-dacff847cd62\n"
     ]
    },
    {
     "ename": "NameError",
     "evalue": "name 'h' is not defined",
     "output_type": "error",
     "traceback": [
      "\u001b[0;31m---------------------------------------------------------------------------\u001b[0m",
      "\u001b[0;31mNameError\u001b[0m                                 Traceback (most recent call last)",
      "Input \u001b[0;32mIn [37]\u001b[0m, in \u001b[0;36malert_edc_of_new_citsci_data\u001b[0;34m(vendor_batch_id, dataType, tabularGuid)\u001b[0m\n\u001b[1;32m    217\u001b[0m \u001b[38;5;28;01mtry\u001b[39;00m:\n\u001b[0;32m--> 218\u001b[0m     edc_endpoint \u001b[38;5;241m=\u001b[39m \u001b[38;5;124m\"\u001b[39m\u001b[38;5;124mhttps://rsp-data-exporter-dot-skyviewer.uw.r.appspot.com/citizen-science-bucket-ingest?email=\u001b[39m\u001b[38;5;124m\"\u001b[39m \u001b[38;5;241m+\u001b[39m email \u001b[38;5;241m+\u001b[39m \u001b[38;5;124m\"\u001b[39m\u001b[38;5;124m&vendor_project_id=\u001b[39m\u001b[38;5;124m\"\u001b[39m \u001b[38;5;241m+\u001b[39m \u001b[43mproject_id_str\u001b[49m \u001b[38;5;241m+\u001b[39m \u001b[38;5;124m\"\u001b[39m\u001b[38;5;124m&guid=\u001b[39m\u001b[38;5;124m\"\u001b[39m \u001b[38;5;241m+\u001b[39m tabularGuid \u001b[38;5;241m+\u001b[39m \u001b[38;5;124m\"\u001b[39m\u001b[38;5;124m&vendor_batch_id=\u001b[39m\u001b[38;5;124m\"\u001b[39m \u001b[38;5;241m+\u001b[39m \u001b[38;5;28mstr\u001b[39m(vendor_batch_id) \u001b[38;5;241m+\u001b[39m \u001b[38;5;124m\"\u001b[39m\u001b[38;5;124m&debug=True\u001b[39m\u001b[38;5;124m\"\u001b[39m\n\u001b[1;32m    219\u001b[0m     response \u001b[38;5;241m=\u001b[39m urllib\u001b[38;5;241m.\u001b[39mrequest\u001b[38;5;241m.\u001b[39murlopen(edc_endpoint)\u001b[38;5;241m.\u001b[39mread()\n",
      "\u001b[0;31mNameError\u001b[0m: name 'project_id_str' is not defined",
      "\nDuring handling of the above exception, another exception occurred:\n",
      "\u001b[0;31mNameError\u001b[0m                                 Traceback (most recent call last)",
      "Input \u001b[0;32mIn [38]\u001b[0m, in \u001b[0;36m<cell line: 6>\u001b[0;34m()\u001b[0m\n\u001b[1;32m      1\u001b[0m \u001b[38;5;66;03m# pp = pprint.PrettyPrinter(indent=2)\u001b[39;00m\n\u001b[1;32m      2\u001b[0m \u001b[38;5;66;03m# h = display(display_id='my-display')\u001b[39;00m\n\u001b[1;32m      3\u001b[0m \u001b[38;5;66;03m# h.display(None)\u001b[39;00m\n\u001b[1;32m      5\u001b[0m __cit_sci_data_type \u001b[38;5;241m=\u001b[39m _TABULAR_DATA \u001b[38;5;66;03m# Important: DO NOT change this value\u001b[39;00m\n\u001b[0;32m----> 6\u001b[0m \u001b[43msend_data\u001b[49m\u001b[43m(\u001b[49m\u001b[38;5;124;43m\"\u001b[39;49m\u001b[38;5;124;43mtabular test\u001b[39;49m\u001b[38;5;124;43m\"\u001b[39;49m\u001b[43m,\u001b[49m\u001b[43m \u001b[49m\u001b[43mobject_results_csv\u001b[49m\u001b[43m,\u001b[49m\u001b[43m \u001b[49m\u001b[43mdia_object_results_csv\u001b[49m\u001b[43m,\u001b[49m\u001b[43m \u001b[49m\u001b[43mforced_source_results_csv\u001b[49m\u001b[43m)\u001b[49m\n",
      "Input \u001b[0;32mIn [37]\u001b[0m, in \u001b[0;36msend_data\u001b[0;34m(subject_set_name, object_tabular_data, dia_object_tabular_data, forced_object_tabular_data)\u001b[0m\n\u001b[1;32m    112\u001b[0m \u001b[38;5;28mprint\u001b[39m(\u001b[38;5;124m\"\u001b[39m\u001b[38;5;124muploading for forcedSource query\u001b[39m\u001b[38;5;124m\"\u001b[39m)\n\u001b[1;32m    113\u001b[0m upload_csv_zip(forced_source_zip_path)\n\u001b[0;32m--> 115\u001b[0m edc_response \u001b[38;5;241m=\u001b[39m json\u001b[38;5;241m.\u001b[39mloads(\u001b[43malert_edc_of_new_citsci_data\u001b[49m\u001b[43m(\u001b[49m\u001b[38;5;124;43m\"\u001b[39;49m\u001b[38;5;124;43mtabular_test_data\u001b[39;49m\u001b[38;5;124;43m\"\u001b[39;49m\u001b[43m,\u001b[49m\u001b[43m \u001b[49m\u001b[43m_TABULAR_DATA\u001b[49m\u001b[43m,\u001b[49m\u001b[43m \u001b[49m\u001b[43mobject_zip_path\u001b[49m\u001b[43m[\u001b[49m\u001b[38;5;241;43m2\u001b[39;49m\u001b[43m]\u001b[49m\u001b[43m)\u001b[49m)\n\u001b[1;32m    116\u001b[0m edc_response2 \u001b[38;5;241m=\u001b[39m json\u001b[38;5;241m.\u001b[39mloads(alert_edc_of_new_citsci_data(\u001b[38;5;124m\"\u001b[39m\u001b[38;5;124mtabular_test_data\u001b[39m\u001b[38;5;124m\"\u001b[39m, _TABULAR_DATA, dia_object_zip_path[\u001b[38;5;241m2\u001b[39m]))\n\u001b[1;32m    117\u001b[0m edc_response3 \u001b[38;5;241m=\u001b[39m json\u001b[38;5;241m.\u001b[39mloads(alert_edc_of_new_citsci_data(\u001b[38;5;124m\"\u001b[39m\u001b[38;5;124mtabular_test_data\u001b[39m\u001b[38;5;124m\"\u001b[39m, _TABULAR_DATA, forced_source_zip_path[\u001b[38;5;241m2\u001b[39m]))\n",
      "Input \u001b[0;32mIn [37]\u001b[0m, in \u001b[0;36malert_edc_of_new_citsci_data\u001b[0;34m(vendor_batch_id, dataType, tabularGuid)\u001b[0m\n\u001b[1;32m    221\u001b[0m     \u001b[38;5;28;01mreturn\u001b[39;00m manifestUrl\n\u001b[1;32m    222\u001b[0m \u001b[38;5;28;01mexcept\u001b[39;00m \u001b[38;5;167;01mException\u001b[39;00m \u001b[38;5;28;01mas\u001b[39;00m e:\n\u001b[1;32m    223\u001b[0m     \u001b[38;5;66;03m# clean_up_unused_subject_set()\u001b[39;00m\n\u001b[0;32m--> 224\u001b[0m     \u001b[43mh\u001b[49m\u001b[38;5;241m.\u001b[39mupdate(e)\n\u001b[1;32m    225\u001b[0m     \u001b[38;5;28;01mreturn\u001b[39;00m\n",
      "\u001b[0;31mNameError\u001b[0m: name 'h' is not defined"
     ]
    }
   ],
   "source": [
    "cit_sci_pipeline.send_tabular_data(subject_set_name, manifest_location)"
   ]
  },
  {
   "cell_type": "markdown",
   "id": "5ab46347-49f3-441a-b5e7-0deb863c4c7e",
   "metadata": {},
   "source": [
    "## Show additional messages\n",
    "After running the above cell and receiving the message that the transfer has completed, run the below cell to show additional messages that were accrued during processing."
   ]
  },
  {
   "cell_type": "code",
   "execution_count": null,
   "id": "88d98c07-8981-4946-8ce0-71a32ae54a64",
   "metadata": {},
   "outputs": [],
   "source": [
    "print(edc_response[\"messages\"])"
   ]
  },
  {
   "cell_type": "markdown",
   "id": "bbe3f232-6b1b-4e3f-80b6-b3775cce8bb2",
   "metadata": {},
   "source": [
    "## Explicitly check the status of your data batch\n",
    "Is the send_data() call above stalling on \"Notifying the Rubin EPO Data Center...\" step? Run the below cell every few minutes to check the status of your data. Large datasets can cause the response to get lost, but that does not necessarily mean that your data was not sent to Zooniverse."
   ]
  },
  {
   "cell_type": "code",
   "execution_count": null,
   "id": "085e54d1-4872-4467-988c-8f2ac87f9850",
   "metadata": {},
   "outputs": [],
   "source": [
    "res = check_status()\n",
    "print(res[\"status\"])\n",
    "print(res[\"manifest_url\"])\n",
    "print(res[\"messages\"])\n",
    "if res[\"status\"] == \"success\":\n",
    "    global manifest_url\n",
    "    manifest_url = res[\"manifest_url\"]\n",
    "    send_zooniverse_manifest()"
   ]
  },
  {
   "cell_type": "markdown",
   "id": "8bcfd009-fea5-4a09-b83f-f65431819b29",
   "metadata": {},
   "source": [
    "## IMPORTANT! Run the below cell to activate the Rubin Citizen Science SDK"
   ]
  },
  {
   "cell_type": "code",
   "execution_count": 39,
   "id": "330f0ec7-df55-4df4-a590-732871fd5074",
   "metadata": {},
   "outputs": [
    {
     "name": "stdout",
     "output_type": "stream",
     "text": [
      "Loaded Citizen Science SDK\n"
     ]
    }
   ],
   "source": [
    "# HiPS astrocutout libraries\n",
    "from astroquery.hips2fits import hips2fits\n",
    "from IPython.display import display\n",
    "import matplotlib.pyplot as plt\n",
    "from matplotlib.colors import Colormap\n",
    "import astropy.units as u\n",
    "from astropy.coordinates import Longitude, Latitude, Angle\n",
    "\n",
    "# Zooniverse libraries\n",
    "# from panoptes_client import Panoptes, Project, SubjectSet\n",
    "\n",
    "# GCP libraries\n",
    "from google.cloud import storage\n",
    "\n",
    "# Import organizational libraries\n",
    "import time\n",
    "import uuid\n",
    "import os\n",
    "import shutil\n",
    "import pprint\n",
    "import pdb\n",
    "import json\n",
    "import urllib.request\n",
    "import subprocess\n",
    "\n",
    "# Prep work\n",
    "global email\n",
    "# hips = 'https://storage.googleapis.com/hips-data/images'\n",
    "# pp = pprint.PrettyPrinter(indent=2)\n",
    "# working_message = \"Status updating...\"\n",
    "# vendor_batch_id = 0\n",
    "_TABULAR_DATA = \"TABULAR_DATA\"\n",
    "# project_id = project.id\n",
    "guid = \"\"\n",
    "# cutouts_dir = \"\"\n",
    "# progress_message = \"\"\n",
    "# manifest_url = \"\"\n",
    "edc_response = \"\"\n",
    "timestamp = None\n",
    "before_zip = 0\n",
    "after_zip = 0\n",
    "\n",
    "def clean_up_unused_subject_set():\n",
    "    global client\n",
    "    global vendor_batch_id\n",
    "    h.update(\"Cleaning up unused subject set on the Zooniverse platform, vendor_batch_id : \" + str(vendor_batch_id))\n",
    "    \n",
    "    ss, etag = client.get(path=\"/subject_sets/\" + str(vendor_batch_id))\n",
    "    \n",
    "    json_response = client.delete(path='/subject_sets/' + str(vendor_batch_id), headers={\"If-Match\":etag})\n",
    "    \n",
    "    return\n",
    "\n",
    "def send_zooniverse_manifest():\n",
    "    # import json\n",
    "    global vendor_batch_id\n",
    "    global manifest_url\n",
    "    global client\n",
    "    # subject_set.id\n",
    "    # h.update(\"Sending project manifest to Zoonverse...\")\n",
    "    h.update(\"subject_set.id: \" + str(vendor_batch_id) + \"; manifest: \" + manifest_url);\n",
    "\n",
    "    payload = {\"subject_set_imports\": {\"source_url\": manifest_url, \"links\": {\"subject_set\": str(vendor_batch_id)}}}\n",
    "\n",
    "    json_response, etag = client.post(path='/subject_set_imports', json=payload)\n",
    "    return\n",
    "\n",
    "def create_new_subject_set(name):\n",
    "    h.update(\"Creating a new Zooniverse subject set\")\n",
    "    # Create a new subject set\n",
    "    global project\n",
    "    global panoptes_client\n",
    "    global vendor_batch_id\n",
    "    h.update(project.id)\n",
    "    subject_set = panoptes_client.SubjectSet()\n",
    "    subject_set.links.project = project\n",
    "\n",
    "    # Give the subject set a display name (that will only be visible to you on the Zooniverse platform)\n",
    "    subject_set.display_name = name \n",
    "\n",
    "    subject_set.save()\n",
    "    project.reload()\n",
    "    vendor_batch_id = subject_set.id\n",
    "    return vendor_batch_id\n",
    "\n",
    "def check_status():\n",
    "    # global guid\n",
    "    guid = \"01b080e8-75b2-437d-ab7e-f8ec3be038a9\"\n",
    "    status_uri = \"https://rsp-data-exporter-e3g4rcii3q-uc.a.run.app/citizen-science-ingest-status?guid=\" + guid\n",
    "    raw_response = urllib.request.urlopen(status_uri).read()\n",
    "    response = raw_response.decode('UTF-8')\n",
    "    return json.loads(response)\n",
    "\n",
    "\n",
    "# Validates that the RSP user is allowed to create a new subject set\n",
    "def send_data(subject_set_name, object_tabular_data = None, dia_object_tabular_data = None, forced_object_tabular_data = None):\n",
    "    # h.update(\"Checking batch status\")\n",
    "    global manifest_url, edc_response\n",
    "    # if has_active_batch() == True:\n",
    "    #     h.update(\"Active batch exists!!! Continuing because this notebook is in debug mode\")\n",
    "    #    # raise CitizenScienceError(\"You cannot send another batch of data while a subject set is still active on the Zooniverse platform - you can only send a new batch of data if all subject sets associated to a project have been completed.\")\n",
    "    if __cit_sci_data_type == _TABULAR_DATA:\n",
    "        # Convert in-memory CSV to CSV file then zip and return path/filename\n",
    "        object_zip_path = zip_tabular_data(object_tabular_data)\n",
    "        dia_object_zip_path = zip_tabular_data(dia_object_tabular_data)\n",
    "        forced_source_zip_path = zip_tabular_data(forced_object_tabular_data)\n",
    "        \n",
    "        print(\"uploading for object query\")\n",
    "        upload_csv_zip(object_zip_path)\n",
    "        print(\"uploading for diaObject query\")\n",
    "        upload_csv_zip(dia_object_zip_path)\n",
    "        print(\"uploading for forcedSource query\")\n",
    "        upload_csv_zip(forced_source_zip_path)\n",
    "        \n",
    "        edc_response = json.loads(alert_edc_of_new_citsci_data(\"tabular_test_data\", _TABULAR_DATA, object_zip_path[2]))\n",
    "        edc_response2 = json.loads(alert_edc_of_new_citsci_data(\"tabular_test_data\", _TABULAR_DATA, dia_object_zip_path[2]))\n",
    "        edc_response3 = json.loads(alert_edc_of_new_citsci_data(\"tabular_test_data\", _TABULAR_DATA, forced_source_zip_path[2]))\n",
    "                                                                                                                   \n",
    "        print(\"EDC Responses:\")\n",
    "        print(edc_response)\n",
    "        print(edc_response2)\n",
    "        print(edc_response3)\n",
    "        \n",
    "        # subject_set_id = create_new_subject_set(subject_set_name)\n",
    "        # if timestamp != None and ((round(time.time() * 1000)) - timestamp) > 300000:\n",
    "        #     h.update(\"You must wait five minutes between sending batches of data, please try again in a few minutes.\")\n",
    "        #     clean_up_unused_subject_set()\n",
    "        #     return # It has been less than 5 minutes since the user sent their last batch\n",
    "        # else:\n",
    "        #     timestamp = round(time.time() * 1000)\n",
    "        \n",
    "        # edc_response = json.loads(alert_edc_of_new_citsci_data(subject_set_id, _TABULAR_DATA))\n",
    "\n",
    "    # else:\n",
    "    #     send_butler_data_to_edc()\n",
    "    #     subject_set_id = create_new_subject_set(subject_set_name)\n",
    "    #     manifest_url = send_butler_data_to_edc()\n",
    "    \n",
    "    if edc_response[\"status\"] == \"success\":\n",
    "        # manifest_url = edc_response[\"manifest_url\"]\n",
    "        if len(edc_response[\"messages\"]) > 0:\n",
    "            # h.update(edc_response[\"messages\"])\n",
    "            print(edc_response[\"messages\"])\n",
    "        else:\n",
    "            print(\"finished processing\")\n",
    "            # h.update(manifest_url)\n",
    "    else:\n",
    "        print(\"something bad happened!!\")\n",
    "        # clean_up_unused_subject_set()\n",
    "        # # raise CitizenScienceError(edc_response[\"messages\"])\n",
    "        # h.update(edc_response)\n",
    "        return\n",
    "\n",
    "    # send_zooniverse_manifest()\n",
    "    # h.update(\"Transfer process complete, but further processing is required on the Zooniverse platform and you will receive an email at \" + email)\n",
    "    return\n",
    "\n",
    "def zip_tabular_data(tabular_data):\n",
    "    # global before_zip, after_zip\n",
    "    # before_zip = round(time.time() * 1000)\n",
    "    \n",
    "    global guid\n",
    "    guid = str(uuid.uuid4())\n",
    "    tabular_data_dir = \"./project/citizen-science/tabular-data/\"\n",
    "    data_dir = tabular_data_dir + guid\n",
    "    os.mkdir(data_dir);\n",
    "    \n",
    "    # h.update(\"Duplicating astro cutouts for testing purposes.\")\n",
    "    # beginning of temporary testing code\n",
    "    # for x in range(10005): # create 100 cutouts from the one cutout image\n",
    "    #     plt.imsave(data_dir + \"/cutout-\" + str(round(time.time() * 1000)) + \"-\" + str(x) + \".png\", result)\n",
    "    # end of temporary testing code\n",
    "    \n",
    "    # Save CSV files\n",
    "    # with open(os.path.join(data_dir, \"/tabular-data-\" + str(round(time.time() * 1000))) + \".csv\", \"w\") as newCSV:\n",
    "    #     newCSV.write(tabular_data)\n",
    "    #     shutil.make_archive(tabular_data_dir + guid, 'zip', data_dir)\n",
    "    #     return [tabular_data_dir + guid + '.zip', guid + '.zip', guid]\n",
    "    outFileName = data_dir + \"/tabular-data-\" + str(round(time.time() * 1000)) + \".csv\"\n",
    "    outFile = open(outFileName, \"w\")\n",
    "    outFile.write(tabular_data)\n",
    "    outFile.close()\n",
    "    shutil.make_archive(tabular_data_dir + guid, 'zip', data_dir)\n",
    "    \n",
    "    return [tabular_data_dir + guid + '.zip', guid + '.zip', guid]\n",
    "    \n",
    "    #subprocess.check_output(\"zip_tool\"\n",
    "    # h.update(\"Zipping up all the astro cutouts - this can take a few minutes with large data sets, but unlikely more than 10 minutes.\")\n",
    "    \n",
    "    \n",
    "    # after_zip = round(time.time() * 1000)\n",
    "    \n",
    "\n",
    "def upload_csv_zip(zip_path):\n",
    "    # global before_zip, after_zip\n",
    "    # h.update(\"Uploading the citizen science data, zipping up took : \")\n",
    "    bucket_name = \"citizen-science-data\"\n",
    "    # service_account_key = \"skyviewer-398f28c943e8.json\" # replace this with the GCP key provided to you\n",
    "    destination_blob_name = zip_path[1]\n",
    "    source_file_name = zip_path[0]\n",
    "    \n",
    "    print(\"uploaded zip guid: \" + zip_path[2])\n",
    "\n",
    "    storage_client = storage.Client()\n",
    "    bucket = storage_client.bucket(bucket_name)\n",
    "    blob = bucket.blob(destination_blob_name)\n",
    "\n",
    "    blob.upload_from_filename(source_file_name)\n",
    "    return\n",
    "\n",
    "def alert_edc_of_new_citsci_data(vendor_batch_id, dataType, tabularGuid):\n",
    "    # project_id_str = str(project_id)\n",
    "    # h.update(\"Notifying the Rubin EPO Data Center of the new data, which will finish processing of the data and notify Zooniverse\")\n",
    "    # h.update(\"Vendor batch ID : \" + str(vendor_batch_id))\n",
    "    # global guid\n",
    "    \n",
    "    try:\n",
    "        edc_endpoint = \"https://rsp-data-exporter-dot-skyviewer.uw.r.appspot.com/citizen-science-bucket-ingest?email=\" + email + \"&vendor_project_id=\" + project_id_str + \"&guid=\" + tabularGuid + \"&vendor_batch_id=\" + str(vendor_batch_id) + \"&debug=True\"\n",
    "        response = urllib.request.urlopen(edc_endpoint).read()\n",
    "        # manifestUrl = response.decode('UTF-8')\n",
    "        return manifestUrl\n",
    "    except Exception as e:\n",
    "        # clean_up_unused_subject_set()\n",
    "        # h.update(e)\n",
    "        return\n",
    "\n",
    "\n",
    "def send_butler_data_to_edc():\n",
    "    h.update(\"Notifying the Rubin EPO Data Center of the new data, which will finish processing of the data and notify Zooniverse\")\n",
    "    edcEndpoint = \"https://rsp-data-exporter-e3g4rcii3q-uc.a.run.app/citizen-science-butler-ingest?email=\" + email + \"&collection=\" + datasetId + \"&sourceId=\" + sourceId + \"&vendorProjectId=\" + str(projectId) + \"&vendor_batch_id=\" + str(vendor_batch_id)\n",
    "    print('Processing data for Zooniverse, this may take up to a few minutes.')\n",
    "    response = urllib.request.urlopen(edcEndpoint).read()\n",
    "    manifestUrl = response.decode('UTF-8')\n",
    "    return\n",
    "\n",
    "def has_active_batch():\n",
    "    active_batch = False\n",
    "    for subject_set in project.links.subject_sets:\n",
    "        for completeness_percent in list(subject_set.completeness.values()):\n",
    "            if completeness_percent == 1.0:\n",
    "                active_batch = True\n",
    "                break\n",
    "        if active_batch:\n",
    "            break\n",
    "    return active_batch\n",
    "\n",
    "# Custom error handling for this notebook\n",
    "class CitizenScienceError(Exception):\n",
    "   \n",
    "    # Constructor or Initializer\n",
    "    def __init__(self, value):\n",
    "        self.value = value\n",
    "   \n",
    "    # __str__ is to print() the value\n",
    "    def __str__(self):\n",
    "        return(repr(self.value))\n",
    "    \n",
    "print(\"Loaded Citizen Science SDK\")\n",
    "                            "
   ]
  },
  {
   "cell_type": "code",
   "execution_count": null,
   "id": "a861ca86-03dd-4e49-9063-ecd365745bfa",
   "metadata": {},
   "outputs": [],
   "source": [
    "print(guid)"
   ]
  },
  {
   "cell_type": "code",
   "execution_count": null,
   "id": "e679df45-1991-459f-9d73-8adecc1aeafd",
   "metadata": {},
   "outputs": [],
   "source": []
  },
  {
   "cell_type": "code",
   "execution_count": null,
   "id": "ec6ca7a4-71d7-42a7-b95d-32f832336aba",
   "metadata": {},
   "outputs": [],
   "source": []
  }
 ],
 "metadata": {
  "kernelspec": {
   "display_name": "LSST",
   "language": "python",
   "name": "lsst"
  },
  "language_info": {
   "codemirror_mode": {
    "name": "ipython",
    "version": 3
   },
   "file_extension": ".py",
   "mimetype": "text/x-python",
   "name": "python",
   "nbconvert_exporter": "python",
   "pygments_lexer": "ipython3",
   "version": "3.10.10"
  }
 },
 "nbformat": 4,
 "nbformat_minor": 5
}
