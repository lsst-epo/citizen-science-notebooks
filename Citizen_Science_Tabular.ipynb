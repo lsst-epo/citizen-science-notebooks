{
 "cells": [
  {
   "cell_type": "markdown",
   "id": "40b39781-6a1b-40eb-a86b-b5b371d0993f",
   "metadata": {},
   "source": [
    "# Citizen Science Notebook Work-In-Progress - Tabular Data Tutorial\n",
    "This notebook demonstrates the usage of using the TAP query service to curate tabular data. It is currently _NOT_ possible to send tabular data to Zooniverse."
   ]
  },
  {
   "cell_type": "markdown",
   "id": "2450d25d",
   "metadata": {},
   "source": [
    "## Create a Zooniverse Account\n",
    "If you haven't already, [create a Zooniverse account here.](https://www.zooniverse.org/)\n",
    "After creating your account, return to this notebook."
   ]
  },
  {
   "cell_type": "markdown",
   "id": "7b87346d",
   "metadata": {},
   "source": [
    "## Load Pipeline and Log in to Zooniverse\n",
    "Now that you have a Zooniverse account, log into the Zooniverse(Panoptes) client."
   ]
  },
  {
   "cell_type": "code",
   "execution_count": null,
   "id": "697a97ac-44ea-4c17-9a72-84dbb0f116c6",
   "metadata": {
    "tags": []
   },
   "outputs": [],
   "source": [
    "import utils"
   ]
  },
  {
   "cell_type": "code",
   "execution_count": null,
   "id": "44b69d57-88da-49af-afa5-aee11b895881",
   "metadata": {
    "tags": []
   },
   "outputs": [],
   "source": [
    "email = \"\" # Email associated with Zooniverse account \n",
    "slug_name = \"\" # Do not include the leading forward-slash, see above \n",
    "%run Citizen_Science_Install.ipynb\n",
    "\n",
    "from rubin_citsci_core_pipeline import CitSciPipeline\n",
    "print(\"Loading and running utilities to establish a link with Zooniverse\")\n",
    "print(\"Enter your Zooniverse username followed by password below\")\n",
    "cit_sci_pipeline = CitSciPipeline()\n",
    "cit_sci_pipeline.login_to_zooniverse(slug_name, email)"
   ]
  },
  {
   "cell_type": "markdown",
   "id": "87b3885c-fef1-4fe2-a1d5-5110da3664f7",
   "metadata": {},
   "source": [
    "## Use TAP Query Service\n",
    "Curate data suitable for citizen science projects via the TAP query service."
   ]
  },
  {
   "cell_type": "code",
   "execution_count": null,
   "id": "90813c05-0348-4622-91a8-c9b6d6a77eef",
   "metadata": {
    "tags": []
   },
   "outputs": [],
   "source": [
    "# Load up the TAP query service\n",
    "from lsst.rsp import get_tap_service, retrieve_query\n",
    "service = get_tap_service(\"tap\")\n",
    "\n",
    "batch_dir = \"./tabular_data/\"\n",
    "\n",
    "### Object table query\n",
    "object_results = service.search(\"SELECT objectId, coord_dec, Coord_ra, g_ra, i_ra, r_ra, u_ra, y_ra, z_ra, g_decl, i_decl, r_decl, u_decl, y_decl, z_decl, g_bdFluxB, i_bdFluxB, r_bdFluxB, u_bdFluxB, y_bdFluxB, z_bdFluxB, g_bdFluxD, i_bdFluxD, r_bdFluxD, u_bdFluxD, y_bdFluxD, z_bdFluxD, g_bdReB, i_bdReB, r_bdReB, u_bdReB, y_bdReB, z_bdReB, g_bdReD, i_bdReD, r_bdReD, u_bdReD, y_bdReD, z_bdReD \"\\\n",
    "                         \"FROM dp02_dc2_catalogs.Object\", maxrec=10)\n",
    "\n",
    "result_dict = utils.make_manifest_with_tabular_data(object_results, batch_dir)\n",
    "# print(result_dict)\n",
    "\n",
    "manifest_location = cit_sci_pipeline.write_manifest_file(result_dict, batch_dir)\n",
    "print(manifest_location)\n",
    "\n",
    "# ### DiaObject table query\n",
    "# dia_object_results = service.search(\"SELECT decl, ra, gPSFluxChi2, iPSFluxChi2, rPSFluxChi2, uPSFluxChi2, yPSFluxChi2, zPSFluxChi2, gPSFluxMax, iPSFluxMax, rPSFluxMax, uPSFluxMax, yPSFluxMax, zPSFluxMax, gPSFluxMin, iPSFluxMin, rPSFluxMin, uPSFluxMin, yPSFluxMin, zPSFluxMin, gPSFluxMean, iPSFluxMean, rPSFluxMean, uPSFluxMean, yPSFluxMean, zPSFluxMean, gPSFluxNdata, iPSFluxNdata, rPSFluxNdata, uPSFluxNdata, yPSFluxNdata, zPSFluxNdata \"\\\n",
    "#                          \"FROM dp02_dc2_catalogs.DiaObject\", maxrec=10)\n",
    "# # dia_object_results_tab = dia_object_results.to_table()\n",
    "# # dia_object_results_tab\n",
    "# dia_object_results_csv = create_csv_string_from_tabular_data(dia_object_results)\n",
    "# # dia_object_results_csv\n",
    "\n",
    "# ### ForcedSource table query\n",
    "# forced_source_results = service.search(\"SELECT forcedSourceId, objectId, parentObjectId, coord_ra, coord_dec, skymap, tract, patch, band, ccdVisitId, detect_isPatchInner, detect_isPrimary, detect_isTractInner,localBackground_instFluxErr, localBackground_instFlux, localPhotoCalibErr, localPhotoCalib_flag, localPhotoCalib, localWcs_CDMatrix_1_1, localWcs_CDMatrix_1_2, localWcs_CDMatrix_2_1, localWcs_CDMatrix_2_2, localWcs_flag, pixelFlags_bad, pixelFlags_crCenter, pixelFlags_cr, pixelFlags_edge, pixelFlags_interpolatedCenter, pixelFlags_interpolated, pixelFlags_saturatedCenter, pixelFlags_saturated, pixelFlags_suspectCenter, pixelFlags_suspect, psfDiffFluxErr, psfDiffFlux_flag, psfDiffFlux, psfFluxErr, psfFlux_flag, psfFlux \"\\\n",
    "#                          \"FROM dp02_dc2_catalogs.ForcedSource\", maxrec=10)\n",
    "# # forced_source_results_tab = forced_source_results.to_table()\n",
    "# # forced_source_results_tab\n"
   ]
  },
  {
   "cell_type": "markdown",
   "id": "5082536e-5cc6-4261-8bce-721e5bc0afe9",
   "metadata": {},
   "source": [
    "## Create a new subject set\n",
    "Run this before running the \"Send Data\" cell."
   ]
  },
  {
   "cell_type": "code",
   "execution_count": null,
   "id": "9cb27552-1f98-4930-a72f-1a09f1118834",
   "metadata": {
    "tags": []
   },
   "outputs": [],
   "source": [
    "subject_set_name = \"\" # give your subject set a name\n",
    "subject_set_name"
   ]
  },
  {
   "cell_type": "markdown",
   "id": "54fc771b-ac2b-4304-ad5b-3819c78e0cfb",
   "metadata": {},
   "source": [
    "## Send the cutouts to Zooniverse\n",
    "Don't click the below cell multiple times, the upload will fail if multiple runs are attempted."
   ]
  },
  {
   "cell_type": "code",
   "execution_count": null,
   "id": "af2d4d05-5925-4891-988e-1bf027ca1000",
   "metadata": {
    "tags": []
   },
   "outputs": [],
   "source": [
    "cit_sci_pipeline.send_tabular_data(subject_set_name, manifest_location)"
   ]
  },
  {
   "cell_type": "markdown",
   "id": "bbe3f232-6b1b-4e3f-80b6-b3775cce8bb2",
   "metadata": {},
   "source": [
    "## Explicitly check the status of your data batch\n",
    "Is the send_data() call above stalling on \"Notifying the Rubin EPO Data Center...\" step? Run the below cell every few minutes to check the status of your data. Large datasets can cause the response to get lost, but that does not necessarily mean that your data was not sent to Zooniverse."
   ]
  },
  {
   "cell_type": "code",
   "execution_count": null,
   "id": "085e54d1-4872-4467-988c-8f2ac87f9850",
   "metadata": {},
   "outputs": [],
   "source": [
    "res = check_status()\n",
    "print(res[\"status\"])\n",
    "print(res[\"manifest_url\"])\n",
    "print(res[\"messages\"])\n",
    "if res[\"status\"] == \"success\":\n",
    "    global manifest_url\n",
    "    manifest_url = res[\"manifest_url\"]\n",
    "    send_zooniverse_manifest()"
   ]
  },
  {
   "cell_type": "code",
   "execution_count": null,
   "id": "ec6ca7a4-71d7-42a7-b95d-32f832336aba",
   "metadata": {},
   "outputs": [],
   "source": [
    "\n",
    "\n",
    "def test(arr):\n",
    "    first = arr.pop(0)\n",
    "    print(first)\n",
    "    print(arr)\n",
    "    \n",
    "test([0,1,2,3])"
   ]
  },
  {
   "cell_type": "code",
   "execution_count": null,
   "id": "2bdfd6c2-dd0b-44bc-9b54-ea0457ddfe6a",
   "metadata": {},
   "outputs": [],
   "source": []
  }
 ],
 "metadata": {
  "kernelspec": {
   "display_name": "LSST",
   "language": "python",
   "name": "lsst"
  },
  "language_info": {
   "codemirror_mode": {
    "name": "ipython",
    "version": 3
   },
   "file_extension": ".py",
   "mimetype": "text/x-python",
   "name": "python",
   "nbconvert_exporter": "python",
   "pygments_lexer": "ipython3",
   "version": "3.10.10"
  }
 },
 "nbformat": 4,
 "nbformat_minor": 5
}
