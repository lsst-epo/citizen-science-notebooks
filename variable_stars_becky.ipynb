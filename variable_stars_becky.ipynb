{
 "cells": [
  {
   "cell_type": "code",
   "execution_count": 1,
   "id": "70e4ca51-ba7d-4875-aa35-3ca1280a5c55",
   "metadata": {
    "execution": {
     "iopub.execute_input": "2023-10-12T21:29:30.839289Z",
     "iopub.status.busy": "2023-10-12T21:29:30.839049Z",
     "iopub.status.idle": "2023-10-12T21:29:30.843168Z",
     "shell.execute_reply": "2023-10-12T21:29:30.841991Z",
     "shell.execute_reply.started": "2023-10-12T21:29:30.839269Z"
    },
    "tags": []
   },
   "outputs": [],
   "source": [
    "# %load_ext pycodestyle_magic\n",
    "# %flake8_on\n",
    "# import logging\n",
    "# logging.getLogger(\"flake8\").setLevel(logging.FATAL)"
   ]
  },
  {
   "cell_type": "markdown",
   "id": "8fabc5dc-c078-4087-b377-21f36c9143d9",
   "metadata": {
    "tags": []
   },
   "source": [
    "<img align=\"left\" src = https://project.lsst.org/sites/default/files/Rubin-O-Logo_0.png width=250 style=\"padding: 10px\"> \n",
    "<b>Citzen Science Notebook</b> <br>\n",
    "Contact author: Sreevani Jarugula and Becky Nevin<br>\n",
    "Last verified to run: 2023-04-20 <br>\n",
    "LSST Science Pipelines version: Weekly 2023_xx <br>\n",
    "Container size: medium <br>\n"
   ]
  },
  {
   "cell_type": "markdown",
   "id": "894cd71b-ff56-4f39-8288-5cc7ab45264c",
   "metadata": {
    "jp-MarkdownHeadingCollapsed": true,
    "tags": []
   },
   "source": [
    "**Description:**\n",
    "Query and send variable star images and light curves from RSP to Zooniverse"
   ]
  },
  {
   "cell_type": "markdown",
   "id": "e7007893-1008-4613-8e91-b2a2d265dfac",
   "metadata": {},
   "source": [
    "**Skills:** Use various TAP tables, including joining multiple tables. Get calexp images. Extract time-series photometry."
   ]
  },
  {
   "cell_type": "markdown",
   "id": "1a3a9956-ea47-4a31-934a-c8388581de54",
   "metadata": {},
   "source": [
    "**LSST Data Products:** TAP tables dp02_dc2_catalogs.MatchesTruth, TruthSummary, ForcedSource, CcdVisit<br>"
   ]
  },
  {
   "cell_type": "markdown",
   "id": "14ff42dd-a31d-43d2-93cb-7caa541993aa",
   "metadata": {},
   "source": [
    "**Packages:** astropy, lsst.rsp.get_tap_service, lsst.rsp.retrieve_query, lsst.daf.butler, lsst.afw.display, lsst.geom "
   ]
  },
  {
   "cell_type": "markdown",
   "id": "2d955084-1fa1-42da-b0b4-584321c62db4",
   "metadata": {},
   "source": [
    "**Credit:** Tutorial notebooks 03a, 04a, 04b, 07b, and 08"
   ]
  },
  {
   "cell_type": "markdown",
   "id": "4cbc905d-8e9b-4ff9-b95d-e17b9b668385",
   "metadata": {},
   "source": [
    "**Support:** Support is available and questions are welcome - (some email/link etc)\n",
    "\n",
    "DEBUG VERSION note that this version of the notebook contains additional debugging and the first cell will need to be run once"
   ]
  },
  {
   "cell_type": "markdown",
   "id": "8f16c667-e2bb-4c82-9f96-af3b623810b2",
   "metadata": {},
   "source": [
    "## 1. Introduction <a class=\"anchor\" id=\"first-bullet\"></a>\n",
    "This notebook will guide you through the process of sending variable star data from the Rubin Science Platform (RSP) to the Zooniverse.\n",
    "\n",
    "This notebook will restrict the number of object sent to the Zooniverse to one variable star over five exposures. This limit is intended to demonstrate your project prior to full approval from the education and public outreach (EPO) Data Rights Panel."
   ]
  },
  {
   "cell_type": "markdown",
   "id": "5db9ea7f-f436-4680-9202-a32099f81162",
   "metadata": {
    "execution": {
     "iopub.execute_input": "2023-10-12T20:19:10.007584Z",
     "iopub.status.busy": "2023-10-12T20:19:10.007224Z",
     "iopub.status.idle": "2023-10-12T20:19:10.011538Z",
     "shell.execute_reply": "2023-10-12T20:19:10.010761Z",
     "shell.execute_reply.started": "2023-10-12T20:19:10.007563Z"
    },
    "tags": []
   },
   "source": [
    "### 1.1 Package imports <a class=\"anchor\" id=\"second-bullet\"></a>"
   ]
  },
  {
   "cell_type": "markdown",
   "id": "9735d0b1-bfb4-4b40-9021-4703255a9ad4",
   "metadata": {},
   "source": [
    "#### Install Pipeline Package\n",
    "\n",
    "First, install the Rubin Citizen Science Pipeline package by doing the following:\n",
    "\n",
    "1. Open up a New Launcher tab\n",
    "2. In the \"Other\" section of the New Launcher tab, click \"Terminal\"\n",
    "3. Use `pip` to install the `rubin.citsci` package by entering the following command:\n",
    "```\n",
    "pip install rubin.citsci\n",
    "```\n",
    "4. Confirm the next cell containing `from rubin.citsci import pipeline` works as expected and does not throw an error"
   ]
  },
  {
   "cell_type": "markdown",
   "id": "25cbe3a5-d06c-4e46-93be-88bdfa9db88c",
   "metadata": {
    "execution": {
     "iopub.execute_input": "2023-10-12T18:31:22.519931Z",
     "iopub.status.busy": "2023-10-12T18:31:22.519629Z",
     "iopub.status.idle": "2023-10-12T18:31:25.674406Z",
     "shell.execute_reply": "2023-10-12T18:31:25.673427Z",
     "shell.execute_reply.started": "2023-10-12T18:31:22.519902Z"
    },
    "tags": []
   },
   "source": [
    "!pip install --upgrade --force-reinstall --no-deps rubin.citsci --quiet"
   ]
  },
  {
   "cell_type": "code",
   "execution_count": 2,
   "id": "843a7c50-8c33-417d-8d01-b02656361681",
   "metadata": {
    "execution": {
     "iopub.execute_input": "2023-10-19T16:28:25.237707Z",
     "iopub.status.busy": "2023-10-19T16:28:25.237009Z",
     "iopub.status.idle": "2023-10-19T16:28:27.282798Z",
     "shell.execute_reply": "2023-10-19T16:28:27.282207Z",
     "shell.execute_reply.started": "2023-10-19T16:28:25.237681Z"
    },
    "tags": []
   },
   "outputs": [],
   "source": [
    "import utils\n",
    "from matplotlib import image as mpimg\n",
    "import matplotlib.pyplot as plt\n",
    "import gc\n",
    "import numpy as np\n",
    "import pandas\n",
    "import pandas as pd\n",
    "import time\n",
    "import os\n",
    "\n",
    "# Astropy imports\n",
    "from astropy.wcs import WCS\n",
    "from astropy.visualization import make_lupton_rgb\n",
    "from astropy import units as u\n",
    "from astropy.coordinates import SkyCoord\n",
    "\n",
    "# Import the Rubin TAP service utilities\n",
    "from lsst.rsp import get_tap_service, retrieve_query\n",
    "\n",
    "# Image visualization routines.\n",
    "import lsst.afw.display as afwDisplay\n",
    "# The Butler provides programmatic access to LSST data products.\n",
    "from lsst.daf.butler import Butler\n",
    "# Geometry package\n",
    "import lsst.geom as geom\n",
    "# Object for multi-band exposures\n",
    "from lsst.afw.image import MultibandExposure\n",
    "\n",
    "import lsst.daf.butler as dafButler\n",
    "import lsst.geom\n",
    "import lsst.afw.display as afwDisplay\n",
    "\n",
    "# Must explicitly set this to save figures\n",
    "afwDisplay.setDefaultBackend(\"matplotlib\")\n"
   ]
  },
  {
   "cell_type": "markdown",
   "id": "44f9d903-511b-42a9-b9ab-0d7d26d528db",
   "metadata": {},
   "source": [
    "### 1.2 Define functions and parameters <a class=\"anchor\" id=\"third-bullet\"></a>\n",
    "If you haven't already, [create a Zooniverse account](https://www.zooniverse.org/accounts/registerhttps://www.zooniverse.org/accounts/register) and create your project.\n",
    "\n",
    "IMPORTANT: Your Zooniverse project must be set to \"public\", a \"private\" project will not work. Select this setting under the \"Visibility\" tab, (it does not need to be set to live). \n",
    "\n",
    "\n",
    "A \"slug\" is the string of your Zooniverse username and your project name without the leading forward slash, for instance: \"username/project-name\". [Click here for more details](https://www.zooniverse.org/talk/18/967061?comment=1898157&page=1).\n"
   ]
  },
  {
   "cell_type": "code",
   "execution_count": 3,
   "id": "72b03aec-f204-45ac-b1d0-e66abd36e90e",
   "metadata": {
    "execution": {
     "iopub.execute_input": "2023-10-19T16:28:27.289016Z",
     "iopub.status.busy": "2023-10-19T16:28:27.288827Z",
     "iopub.status.idle": "2023-10-19T16:28:34.088466Z",
     "shell.execute_reply": "2023-10-19T16:28:34.087882Z",
     "shell.execute_reply.started": "2023-10-19T16:28:27.289001Z"
    },
    "tags": []
   },
   "outputs": [
    {
     "name": "stdout",
     "output_type": "stream",
     "text": [
      "Loading and running utilities to establish a link with Zooniverse\n",
      "Enter your Zooniverse username followed by password below\n",
      "Enter your Zooniverse credentials...\n"
     ]
    },
    {
     "name": "stdin",
     "output_type": "stream",
     "text": [
      "Username:  rebecca.nevin\n",
      " ········\n"
     ]
    },
    {
     "name": "stdout",
     "output_type": "stream",
     "text": [
      "You now are logged in to the Zooniverse platform.\n"
     ]
    }
   ],
   "source": [
    "# %load_ext pycodestyle_magic\n",
    "# %flake8_on\n",
    "# import logging\n",
    "# logging.getLogger(\"flake8\").setLevel(logging.FATAL)\n",
    "email = \"beckynevin@gmail.com\"  \n",
    "# slug_name = \"sreevani/test-pcw23\" \n",
    "slug_name = \"rebecca-dot-nevin/test-project\" \n",
    "\n",
    "from rubin.citsci import pipeline\n",
    "print(\"Loading and running utilities to establish a link with Zooniverse\")\n",
    "print(\"Enter your Zooniverse username followed by password below\")\n",
    "cit_sci_pipeline = pipeline.CitSciPipeline()\n",
    "cit_sci_pipeline.login_to_zooniverse(slug_name, email)"
   ]
  },
  {
   "cell_type": "markdown",
   "id": "3732cb8c-dd68-452c-b74c-748785b62a99",
   "metadata": {},
   "source": [
    "## 2. Make a subject set of variable stars to send to Zooniverse <a class=\"anchor\" id=\"fourth-bullet\"></a>\n",
    "A subject set is a collection of data (images, plots, etc) that are shown to citizen scientists. It is also the unit of data that is sent to Zooniverse.\n",
    "\n",
    "Here, we curate the subject set of objects to send to Zooniverse. This can be modified to create your own subject set. Your subject set must have 100 objects or less in the testing phase before your project is approved by the EPO Data Rights panel. \n",
    "\n",
    "This example makes two sets of image cutouts of two different variable stars at different moments in time."
   ]
  },
  {
   "cell_type": "markdown",
   "id": "694302cb-593a-4ed3-b640-ad2dcbc3f42e",
   "metadata": {},
   "source": [
    "### 2.1 Initialize TAP and Butler"
   ]
  },
  {
   "cell_type": "code",
   "execution_count": 5,
   "id": "4ee439f4-2a67-48c6-b4c6-2642637b11c9",
   "metadata": {
    "execution": {
     "iopub.execute_input": "2023-10-19T16:28:37.051317Z",
     "iopub.status.busy": "2023-10-19T16:28:37.051084Z",
     "iopub.status.idle": "2023-10-19T16:28:39.530304Z",
     "shell.execute_reply": "2023-10-19T16:28:39.529659Z",
     "shell.execute_reply.started": "2023-10-19T16:28:37.051302Z"
    },
    "tags": []
   },
   "outputs": [],
   "source": [
    "config = 'dp02'\n",
    "collection = '2.2i/runs/DP0.2'\n",
    "service, butler, skymap = utils.setup_butler(config, collection)"
   ]
  },
  {
   "cell_type": "markdown",
   "id": "f97239b1-4b94-49db-bf57-29342f706892",
   "metadata": {
    "execution": {
     "iopub.execute_input": "2023-10-19T16:40:19.538815Z",
     "iopub.status.busy": "2023-10-19T16:40:19.538133Z",
     "iopub.status.idle": "2023-10-19T16:40:19.542659Z",
     "shell.execute_reply": "2023-10-19T16:40:19.542017Z",
     "shell.execute_reply.started": "2023-10-19T16:40:19.538790Z"
    },
    "tags": []
   },
   "source": [
    "## 2.2 Do a search for variable stars\n",
    "For more details, please see the `DP02_07b_Variable_Star_Lightcurves.ipynb` notebook in the tutorial notebooks by Jeff Carlin and Ryan Lau. All the code in this section is taken directly from that notebook."
   ]
  },
  {
   "cell_type": "code",
   "execution_count": 100,
   "id": "f8a8a191-a430-49f5-b362-24a5bdbc865b",
   "metadata": {
    "execution": {
     "iopub.execute_input": "2023-10-19T17:56:38.861630Z",
     "iopub.status.busy": "2023-10-19T17:56:38.860870Z",
     "iopub.status.idle": "2023-10-19T17:56:45.029453Z",
     "shell.execute_reply": "2023-10-19T17:56:45.028845Z",
     "shell.execute_reply.started": "2023-10-19T17:56:38.861607Z"
    },
    "tags": []
   },
   "outputs": [],
   "source": [
    "query = \"SELECT diao.diaObjectId, fsodo.forcedSourceOnDiaObjectId, diao.ra, diao.decl, diao.nDiaSources, \"\\\n",
    "        \"diao.gPSFluxMin, diao.gPSFluxMax, diao.gPSFluxMean, diao.gPSFluxSigma, \"\\\n",
    "        \"diao.gPSFluxMAD, diao.gPSFluxChi2, diao.gPSFluxNdata, diao.gPSFluxSkew, \"\\\n",
    "        \"diao.gPSFluxStetsonJ, diao.gPSFluxPercentile05, diao.gPSFluxPercentile25, \"\\\n",
    "        \"diao.gPSFluxPercentile50, diao.gPSFluxPercentile75, diao.gPSFluxPercentile95, \"\\\n",
    "        \"diao.gTOTFluxMean, diao.gTOTFluxSigma, \"\\\n",
    "        \"scisql_nanojanskyToAbMag(fsodo.psfFlux) as psfMag, \"\\\n",
    "        \"scisql_nanojanskyToAbMag(diao.gTOTFluxMean) as diao_gmag, \"\\\n",
    "        \"fsodo.diaObjectId, \"\\\n",
    "        \"fsodo.ccdVisitId, fsodo.band, fsodo.psfFlux, fsodo.psfFluxErr, \"\\\n",
    "        \"fsodo.psfDiffFlux, fsodo.psfDiffFluxErr, \"\\\n",
    "        \"cv.expMidptMJD, cv.detector, \"\\\n",
    "        \"scisql_nanojanskyToAbMag(fsodo.psfFlux) as fsodo_gmag \"\\\n",
    "        \"FROM dp02_dc2_catalogs.DiaObject as diao \"\\\n",
    "        \"JOIN dp02_dc2_catalogs.ForcedSourceOnDiaObject as fsodo \"\\\n",
    "        \"ON fsodo.diaObjectId = diao.diaObjectId \"\\\n",
    "        \"JOIN dp02_dc2_catalogs.CcdVisit as cv ON cv.ccdVisitId = fsodo.ccdVisitId \"\\\n",
    "        \"WHERE diao.gTOTFluxSigma/diao.gTOTFluxMean > 0.25 \"\\\n",
    "        \"AND diao.gTOTFluxSigma/diao.gTOTFluxMean < 1.25 \"\\\n",
    "        \"AND scisql_nanojanskyToAbMag(diao.gTOTFluxMean) > 18 \"\\\n",
    "        \"AND scisql_nanojanskyToAbMag(diao.gTOTFluxMean) < 23 \"\\\n",
    "        \"AND diao.gPSFluxNdata > 30 \"\\\n",
    "        \"AND diao.gPSFluxStetsonJ > 20 \"\\\n",
    "        \"AND CONTAINS(POINT('ICRS', diao.ra, diao.decl), \"\\\n",
    "        \"CIRCLE('ICRS',\"+str(ra_known_rrl)+\", \"+str(dec_known_rrl)+\", 5)) = 1 \"\n",
    "\n",
    "results = service.search(query)\n",
    "fsodo_sources = results.to_table()\n",
    "#        \"AND fsodo.band = 'r' \"\\"
   ]
  },
  {
   "cell_type": "code",
   "execution_count": 101,
   "id": "358017de-6e44-4716-b7f0-ca789845849b",
   "metadata": {
    "execution": {
     "iopub.execute_input": "2023-10-19T17:56:45.134785Z",
     "iopub.status.busy": "2023-10-19T17:56:45.134596Z",
     "iopub.status.idle": "2023-10-19T17:56:45.158554Z",
     "shell.execute_reply": "2023-10-19T17:56:45.158060Z",
     "shell.execute_reply.started": "2023-10-19T17:56:45.134769Z"
    },
    "tags": []
   },
   "outputs": [
    {
     "data": {
      "text/html": [
       "<div><i>Table length=5943</i>\n",
       "<table id=\"table140113822798288\" class=\"table-striped table-bordered table-condensed\">\n",
       "<thead><tr><th>diaObjectId</th><th>forcedSourceOnDiaObjectId</th><th>ra</th><th>decl</th><th>nDiaSources</th><th>gPSFluxMin</th><th>gPSFluxMax</th><th>gPSFluxMean</th><th>gPSFluxSigma</th><th>gPSFluxMAD</th><th>gPSFluxChi2</th><th>gPSFluxNdata</th><th>gPSFluxSkew</th><th>gPSFluxStetsonJ</th><th>gPSFluxPercentile05</th><th>gPSFluxPercentile25</th><th>gPSFluxPercentile50</th><th>gPSFluxPercentile75</th><th>gPSFluxPercentile95</th><th>gTOTFluxMean</th><th>gTOTFluxSigma</th><th>psfMag</th><th>diao_gmag</th><th>diaObjectId2</th><th>ccdVisitId</th><th>band</th><th>psfFlux</th><th>psfFluxErr</th><th>psfDiffFlux</th><th>psfDiffFluxErr</th><th>expMidptMJD</th><th>detector</th><th>fsodo_gmag</th></tr></thead>\n",
       "<thead><tr><th></th><th></th><th>deg</th><th>deg</th><th></th><th></th><th></th><th></th><th></th><th></th><th></th><th></th><th></th><th></th><th></th><th></th><th></th><th></th><th></th><th></th><th></th><th></th><th></th><th></th><th></th><th></th><th>nJy</th><th>nJy</th><th>nJy</th><th>nJy</th><th>d</th><th></th><th></th></tr></thead>\n",
       "<thead><tr><th>int64</th><th>int64</th><th>float64</th><th>float64</th><th>int64</th><th>float64</th><th>float64</th><th>float64</th><th>float64</th><th>float64</th><th>float64</th><th>float64</th><th>float64</th><th>float64</th><th>float64</th><th>float64</th><th>float64</th><th>float64</th><th>float64</th><th>float64</th><th>float64</th><th>float64</th><th>float64</th><th>int64</th><th>int64</th><th>object</th><th>float64</th><th>float64</th><th>float64</th><th>float64</th><th>float64</th><th>int64</th><th>float64</th></tr></thead>\n",
       "<tr><td>1568950316278219135</td><td>355690962002903599</td><td>67.2951662</td><td>-38.4159654</td><td>60</td><td>-283246.6563582</td><td>-99737.739113</td><td>-262856.00994</td><td>29630.0976096</td><td>7448.5975542</td><td>190479.3757978</td><td>40.0</td><td>4.3615829</td><td>43.70482</td><td>-280456.048519</td><td>-275697.3167805</td><td>-269229.942403</td><td>-256930.8216228</td><td>-235362.2534603</td><td>79866.3822305</td><td>30506.3324512</td><td>17.864033402419253</td><td>19.144089969240454</td><td>1568950316278219135</td><td>662526045</td><td>g</td><td>259648.9908643</td><td>423.7730634</td><td>-219051.1495052</td><td>432.8655653</td><td>60560.2826042</td><td>45</td><td>17.864033402419253</td></tr>\n",
       "<tr><td>1568950316278219135</td><td>103713865241461849</td><td>67.2951662</td><td>-38.4159654</td><td>60</td><td>-283246.6563582</td><td>-99737.739113</td><td>-262856.00994</td><td>29630.0976096</td><td>7448.5975542</td><td>190479.3757978</td><td>40.0</td><td>4.3615829</td><td>43.70482</td><td>-280456.048519</td><td>-275697.3167805</td><td>-269229.942403</td><td>-256930.8216228</td><td>-235362.2534603</td><td>79866.3822305</td><td>30506.3324512</td><td>19.063114664924566</td><td>19.144089969240454</td><td>1568950316278219135</td><td>193182128</td><td>r</td><td>86050.645805</td><td>298.5169185</td><td>-14602.9136397</td><td>303.6819171</td><td>59839.3507772</td><td>128</td><td>19.063114664924566</td></tr>\n",
       "<tr><td>1568950316278219135</td><td>226363652880469256</td><td>67.2951662</td><td>-38.4159654</td><td>60</td><td>-283246.6563582</td><td>-99737.739113</td><td>-262856.00994</td><td>29630.0976096</td><td>7448.5975542</td><td>190479.3757978</td><td>40.0</td><td>4.3615829</td><td>43.70482</td><td>-280456.048519</td><td>-275697.3167805</td><td>-269229.942403</td><td>-256930.8216228</td><td>-235362.2534603</td><td>79866.3822305</td><td>30506.3324512</td><td>18.678994269516238</td><td>19.144089969240454</td><td>1568950316278219135</td><td>421635160</td><td>i</td><td>122575.1101511</td><td>390.8119071</td><td>5140.6030076</td><td>404.1377577</td><td>60180.3021012</td><td>160</td><td>18.678994269516238</td></tr>\n",
       "<tr><td>1568950316278219135</td><td>146708080233548429</td><td>67.2951662</td><td>-38.4159654</td><td>60</td><td>-283246.6563582</td><td>-99737.739113</td><td>-262856.00994</td><td>29630.0976096</td><td>7448.5975542</td><td>190479.3757978</td><td>40.0</td><td>4.3615829</td><td>43.70482</td><td>-280456.048519</td><td>-275697.3167805</td><td>-269229.942403</td><td>-256930.8216228</td><td>-235362.2534603</td><td>79866.3822305</td><td>30506.3324512</td><td>18.29759788250864</td><td>19.144089969240454</td><td>1568950316278219135</td><td>273265094</td><td>z</td><td>174164.9851142</td><td>629.2273185</td><td>-19325.1093435</td><td>656.5473992</td><td>59963.0594742</td><td>94</td><td>18.29759788250864</td></tr>\n",
       "<tr><td>1568950316278219135</td><td>372739324120141658</td><td>67.2951662</td><td>-38.4159654</td><td>60</td><td>-283246.6563582</td><td>-99737.739113</td><td>-262856.00994</td><td>29630.0976096</td><td>7448.5975542</td><td>190479.3757978</td><td>40.0</td><td>4.3615829</td><td>43.70482</td><td>-280456.048519</td><td>-275697.3167805</td><td>-269229.942403</td><td>-256930.8216228</td><td>-235362.2534603</td><td>79866.3822305</td><td>30506.3324512</td><td>19.51963739298456</td><td>19.144089969240454</td><td>1568950316278219135</td><td>694281094</td><td>r</td><td>56512.5680246</td><td>264.42331</td><td>-21719.446721</td><td>299.0289831</td><td>60605.3311952</td><td>94</td><td>19.51963739298456</td></tr>\n",
       "<tr><td>1568950316278219135</td><td>506936602707100152</td><td>67.2951662</td><td>-38.4159654</td><td>60</td><td>-283246.6563582</td><td>-99737.739113</td><td>-262856.00994</td><td>29630.0976096</td><td>7448.5975542</td><td>190479.3757978</td><td>40.0</td><td>4.3615829</td><td>43.70482</td><td>-280456.048519</td><td>-275697.3167805</td><td>-269229.942403</td><td>-256930.8216228</td><td>-235362.2534603</td><td>79866.3822305</td><td>30506.3324512</td><td>19.066762363258093</td><td>19.144089969240454</td><td>1568950316278219135</td><td>944243004</td><td>g</td><td>85762.0304762</td><td>248.0646447</td><td>-274851.3347688</td><td>291.5739513</td><td>60962.2864662</td><td>4</td><td>19.066762363258093</td></tr>\n",
       "<tr><td>1568950316278219135</td><td>488489257535537224</td><td>67.2951662</td><td>-38.4159654</td><td>60</td><td>-283246.6563582</td><td>-99737.739113</td><td>-262856.00994</td><td>29630.0976096</td><td>7448.5975542</td><td>190479.3757978</td><td>40.0</td><td>4.3615829</td><td>43.70482</td><td>-280456.048519</td><td>-275697.3167805</td><td>-269229.942403</td><td>-256930.8216228</td><td>-235362.2534603</td><td>79866.3822305</td><td>30506.3324512</td><td>18.090302320392844</td><td>19.144089969240454</td><td>1568950316278219135</td><td>909882146</td><td>r</td><td>210804.1089703</td><td>421.7247573</td><td>49089.868058</td><td>424.0791348</td><td>60905.3538062</td><td>146</td><td>18.090302320392844</td></tr>\n",
       "<tr><td>1568950316278219135</td><td>623081735390757741</td><td>67.2951662</td><td>-38.4159654</td><td>60</td><td>-283246.6563582</td><td>-99737.739113</td><td>-262856.00994</td><td>29630.0976096</td><td>7448.5975542</td><td>190479.3757978</td><td>40.0</td><td>4.3615829</td><td>43.70482</td><td>-280456.048519</td><td>-275697.3167805</td><td>-269229.942403</td><td>-256930.8216228</td><td>-235362.2534603</td><td>79866.3822305</td><td>30506.3324512</td><td>18.491011649240875</td><td>19.144089969240454</td><td>1568950316278219135</td><td>1160580172</td><td>i</td><td>145745.5623625</td><td>514.6744102</td><td>-11480.9651446</td><td>518.4510104</td><td>61277.3678392</td><td>172</td><td>18.491011649240875</td></tr>\n",
       "<tr><td>1568950316278219135</td><td>496105302387589656</td><td>67.2951662</td><td>-38.4159654</td><td>60</td><td>-283246.6563582</td><td>-99737.739113</td><td>-262856.00994</td><td>29630.0976096</td><td>7448.5975542</td><td>190479.3757978</td><td>40.0</td><td>4.3615829</td><td>43.70482</td><td>-280456.048519</td><td>-275697.3167805</td><td>-269229.942403</td><td>-256930.8216228</td><td>-235362.2534603</td><td>79866.3822305</td><td>30506.3324512</td><td>18.614931280901448</td><td>19.144089969240454</td><td>1568950316278219135</td><td>924068135</td><td>i</td><td>130025.1871788</td><td>426.499839</td><td>-18281.8227825</td><td>433.5855221</td><td>60937.2556772</td><td>135</td><td>18.614931280901448</td></tr>\n",
       "<tr><td>...</td><td>...</td><td>...</td><td>...</td><td>...</td><td>...</td><td>...</td><td>...</td><td>...</td><td>...</td><td>...</td><td>...</td><td>...</td><td>...</td><td>...</td><td>...</td><td>...</td><td>...</td><td>...</td><td>...</td><td>...</td><td>...</td><td>...</td><td>...</td><td>...</td><td>...</td><td>...</td><td>...</td><td>...</td><td>...</td><td>...</td><td>...</td><td>...</td></tr>\n",
       "<tr><td>1651510445384663056</td><td>234363561508339737</td><td>62.6536501</td><td>-35.9700212</td><td>199</td><td>-7381.991658</td><td>23275.8786378</td><td>411.8976463</td><td>9778.7460196</td><td>4269.2151975</td><td>84681.3937142</td><td>35.0</td><td>0.7487345</td><td>40.8523061</td><td>-6604.3574019</td><td>-4963.5928032</td><td>-2057.9703695</td><td>10268.4335133</td><td>20801.8087897</td><td>26184.9714681</td><td>9946.9022079</td><td>20.226560679459897</td><td>20.35486973745507</td><td>1651510445384663056</td><td>436536151</td><td>r</td><td>29469.7009119</td><td>200.020091</td><td>-1104.6070788</td><td>195.985836</td><td>60206.2834132</td><td>151</td><td>20.226560679459897</td></tr>\n",
       "<tr><td>1651510445384663056</td><td>524133114352501808</td><td>62.6536501</td><td>-35.9700212</td><td>199</td><td>-7381.991658</td><td>23275.8786378</td><td>411.8976463</td><td>9778.7460196</td><td>4269.2151975</td><td>84681.3937142</td><td>35.0</td><td>0.7487345</td><td>40.8523061</td><td>-6604.3574019</td><td>-4963.5928032</td><td>-2057.9703695</td><td>10268.4335133</td><td>20801.8087897</td><td>26184.9714681</td><td>9946.9022079</td><td>20.481148469280228</td><td>20.35486973745507</td><td>1651510445384663056</td><td>976274003</td><td>i</td><td>23309.9108364</td><td>344.6339363</td><td>-5150.6722716</td><td>345.4443571</td><td>61017.2317352</td><td>3</td><td>20.481148469280228</td></tr>\n",
       "<tr><td>1651510445384663056</td><td>631493971079594576</td><td>62.6536501</td><td>-35.9700212</td><td>199</td><td>-7381.991658</td><td>23275.8786378</td><td>411.8976463</td><td>9778.7460196</td><td>4269.2151975</td><td>84681.3937142</td><td>35.0</td><td>0.7487345</td><td>40.8523061</td><td>-6604.3574019</td><td>-4963.5928032</td><td>-2057.9703695</td><td>10268.4335133</td><td>20801.8087897</td><td>26184.9714681</td><td>9946.9022079</td><td>20.315239189173305</td><td>20.35486973745507</td><td>1651510445384663056</td><td>1176249182</td><td>y</td><td>27158.4089946</td><td>1488.3749106</td><td>-530.1533116</td><td>1498.6128002</td><td>61308.2446652</td><td>182</td><td>20.315239189173305</td></tr>\n",
       "<tr><td>1651510445384663056</td><td>547570815311282955</td><td>62.6536501</td><td>-35.9700212</td><td>199</td><td>-7381.991658</td><td>23275.8786378</td><td>411.8976463</td><td>9778.7460196</td><td>4269.2151975</td><td>84681.3937142</td><td>35.0</td><td>0.7487345</td><td>40.8523061</td><td>-6604.3574019</td><td>-4963.5928032</td><td>-2057.9703695</td><td>10268.4335133</td><td>20801.8087897</td><td>26184.9714681</td><td>9946.9022079</td><td>19.799429228329515</td><td>20.35486973745507</td><td>1651510445384663056</td><td>1019930123</td><td>g</td><td>43674.5369001</td><td>209.6279497</td><td>17778.9907641</td><td>212.2692503</td><td>61084.0881862</td><td>123</td><td>19.799429228329515</td></tr>\n",
       "<tr><td>1651510445384663056</td><td>234365673021636621</td><td>62.6536501</td><td>-35.9700212</td><td>199</td><td>-7381.991658</td><td>23275.8786378</td><td>411.8976463</td><td>9778.7460196</td><td>4269.2151975</td><td>84681.3937142</td><td>35.0</td><td>0.7487345</td><td>40.8523061</td><td>-6604.3574019</td><td>-4963.5928032</td><td>-2057.9703695</td><td>10268.4335133</td><td>20801.8087897</td><td>26184.9714681</td><td>9946.9022079</td><td>20.25796238037612</td><td>20.35486973745507</td><td>1651510445384663056</td><td>436540084</td><td>r</td><td>28629.5846767</td><td>198.8928657</td><td>-1986.750826</td><td>195.0775402</td><td>60206.2852242</td><td>84</td><td>20.25796238037612</td></tr>\n",
       "<tr><td>1651510445384663056</td><td>516785558106669072</td><td>62.6536501</td><td>-35.9700212</td><td>199</td><td>-7381.991658</td><td>23275.8786378</td><td>411.8976463</td><td>9778.7460196</td><td>4269.2151975</td><td>84681.3937142</td><td>35.0</td><td>0.7487345</td><td>40.8523061</td><td>-6604.3574019</td><td>-4963.5928032</td><td>-2057.9703695</td><td>10268.4335133</td><td>20801.8087897</td><td>26184.9714681</td><td>9946.9022079</td><td>19.7441191250946</td><td>20.35486973745507</td><td>1651510445384663056</td><td>962588113</td><td>r</td><td>45957.0718597</td><td>254.573149</td><td>15386.0245316</td><td>257.0266454</td><td>60996.1551132</td><td>113</td><td>19.7441191250946</td></tr>\n",
       "<tr><td>1651510445384663056</td><td>1253113616924688</td><td>62.6536501</td><td>-35.9700212</td><td>199</td><td>-7381.991658</td><td>23275.8786378</td><td>411.8976463</td><td>9778.7460196</td><td>4269.2151975</td><td>84681.3937142</td><td>35.0</td><td>0.7487345</td><td>40.8523061</td><td>-6604.3574019</td><td>-4963.5928032</td><td>-2057.9703695</td><td>10268.4335133</td><td>20801.8087897</td><td>26184.9714681</td><td>9946.9022079</td><td>22.012273406491044</td><td>20.35486973745507</td><td>1651510445384663056</td><td>2334106</td><td>u</td><td>5689.7166303</td><td>251.9620027</td><td>--</td><td>--</td><td>59583.1209632</td><td>106</td><td>22.012273406491044</td></tr>\n",
       "<tr><td>1651510445384663056</td><td>7133416155774989</td><td>62.6536501</td><td>-35.9700212</td><td>199</td><td>-7381.991658</td><td>23275.8786378</td><td>411.8976463</td><td>9778.7460196</td><td>4269.2151975</td><td>84681.3937142</td><td>35.0</td><td>0.7487345</td><td>40.8523061</td><td>-6604.3574019</td><td>-4963.5928032</td><td>-2057.9703695</td><td>10268.4335133</td><td>20801.8087897</td><td>26184.9714681</td><td>9946.9022079</td><td>20.112454501806667</td><td>20.35486973745507</td><td>1651510445384663056</td><td>13287023</td><td>z</td><td>32735.4412504</td><td>828.205611</td><td>4227.4664885</td><td>834.3249531</td><td>59598.1189922</td><td>23</td><td>20.112454501806667</td></tr>\n",
       "<tr><td>1651510445384663056</td><td>502948204271108107</td><td>62.6536501</td><td>-35.9700212</td><td>199</td><td>-7381.991658</td><td>23275.8786378</td><td>411.8976463</td><td>9778.7460196</td><td>4269.2151975</td><td>84681.3937142</td><td>35.0</td><td>0.7487345</td><td>40.8523061</td><td>-6604.3574019</td><td>-4963.5928032</td><td>-2057.9703695</td><td>10268.4335133</td><td>20801.8087897</td><td>26184.9714681</td><td>9946.9022079</td><td>20.19816912645538</td><td>20.35486973745507</td><td>1651510445384663056</td><td>936814033</td><td>i</td><td>30250.4855166</td><td>311.5797551</td><td>1870.0367986</td><td>314.7248185</td><td>60952.3684772</td><td>33</td><td>20.19816912645538</td></tr>\n",
       "<tr><td>1651510445384663056</td><td>475319219748078414</td><td>62.6536501</td><td>-35.9700212</td><td>199</td><td>-7381.991658</td><td>23275.8786378</td><td>411.8976463</td><td>9778.7460196</td><td>4269.2151975</td><td>84681.3937142</td><td>35.0</td><td>0.7487345</td><td>40.8523061</td><td>-6604.3574019</td><td>-4963.5928032</td><td>-2057.9703695</td><td>10268.4335133</td><td>20801.8087897</td><td>26184.9714681</td><td>9946.9022079</td><td>22.140627271762895</td><td>20.35486973745507</td><td>1651510445384663056</td><td>885351039</td><td>u</td><td>5055.3251195</td><td>259.2318536</td><td>1060.1720107</td><td>267.1379766</td><td>60878.4012612</td><td>39</td><td>22.140627271762895</td></tr>\n",
       "</table></div>"
      ],
      "text/plain": [
       "<Table length=5943>\n",
       "    diaObjectId     forcedSourceOnDiaObjectId ... detector     fsodo_gmag    \n",
       "                                              ...                            \n",
       "       int64                  int64           ...  int64        float64      \n",
       "------------------- ------------------------- ... -------- ------------------\n",
       "1568950316278219135        355690962002903599 ...       45 17.864033402419253\n",
       "1568950316278219135        103713865241461849 ...      128 19.063114664924566\n",
       "1568950316278219135        226363652880469256 ...      160 18.678994269516238\n",
       "1568950316278219135        146708080233548429 ...       94  18.29759788250864\n",
       "1568950316278219135        372739324120141658 ...       94  19.51963739298456\n",
       "1568950316278219135        506936602707100152 ...        4 19.066762363258093\n",
       "1568950316278219135        488489257535537224 ...      146 18.090302320392844\n",
       "1568950316278219135        623081735390757741 ...      172 18.491011649240875\n",
       "1568950316278219135        496105302387589656 ...      135 18.614931280901448\n",
       "                ...                       ... ...      ...                ...\n",
       "1651510445384663056        234363561508339737 ...      151 20.226560679459897\n",
       "1651510445384663056        524133114352501808 ...        3 20.481148469280228\n",
       "1651510445384663056        631493971079594576 ...      182 20.315239189173305\n",
       "1651510445384663056        547570815311282955 ...      123 19.799429228329515\n",
       "1651510445384663056        234365673021636621 ...       84  20.25796238037612\n",
       "1651510445384663056        516785558106669072 ...      113   19.7441191250946\n",
       "1651510445384663056          1253113616924688 ...      106 22.012273406491044\n",
       "1651510445384663056          7133416155774989 ...       23 20.112454501806667\n",
       "1651510445384663056        502948204271108107 ...       33  20.19816912645538\n",
       "1651510445384663056        475319219748078414 ...       39 22.140627271762895"
      ]
     },
     "execution_count": 101,
     "metadata": {},
     "output_type": "execute_result"
    }
   ],
   "source": [
    "# this returns a massive list of sources, some of which are repeat object IDs\n",
    "fsodo_sources "
   ]
  },
  {
   "cell_type": "code",
   "execution_count": 102,
   "id": "87f7e2fb-13a6-4d99-aba8-b13f20380520",
   "metadata": {
    "execution": {
     "iopub.execute_input": "2023-10-19T17:56:52.374149Z",
     "iopub.status.busy": "2023-10-19T17:56:52.373623Z",
     "iopub.status.idle": "2023-10-19T17:56:52.398577Z",
     "shell.execute_reply": "2023-10-19T17:56:52.398092Z",
     "shell.execute_reply.started": "2023-10-19T17:56:52.374123Z"
    },
    "tags": []
   },
   "outputs": [
    {
     "data": {
      "text/html": [
       "<div><i>Table length=14</i>\n",
       "<table id=\"table140113770477264\" class=\"table-striped table-bordered table-condensed\">\n",
       "<thead><tr><th>diaObjectId</th><th>ra</th><th>decl</th><th>expMidptMJD</th><th>band</th><th>ccdVisitId</th><th>detector</th></tr></thead>\n",
       "<thead><tr><th></th><th>deg</th><th>deg</th><th>d</th><th></th><th></th><th></th></tr></thead>\n",
       "<thead><tr><th>int64</th><th>float64</th><th>float64</th><th>float64</th><th>object</th><th>int64</th><th>int64</th></tr></thead>\n",
       "<tr><td>1567428592185376787</td><td>59.4814837</td><td>-37.7323315</td><td>61254.3419842</td><td>y</td><td>1141195101</td><td>101</td></tr>\n",
       "<tr><td>1567762843720221100</td><td>62.5202159</td><td>-37.8646632</td><td>60280.2057552</td><td>r</td><td>480303131</td><td>131</td></tr>\n",
       "<tr><td>1568246628836442456</td><td>62.5202159</td><td>-37.8646632</td><td>61017.0802592</td><td>g</td><td>975962163</td><td>163</td></tr>\n",
       "<tr><td>1568950316278219135</td><td>67.2951662</td><td>-38.4159654</td><td>60560.2826042</td><td>g</td><td>662526045</td><td>45</td></tr>\n",
       "<tr><td>1569082257673552562</td><td>67.0155078</td><td>-37.8278368</td><td>59914.1755432</td><td>r</td><td>242558012</td><td>12</td></tr>\n",
       "<tr><td>1569135034231685181</td><td>67.4679316</td><td>-37.6786425</td><td>60275.0778372</td><td>z</td><td>476393014</td><td>14</td></tr>\n",
       "<tr><td>1651510445384663056</td><td>62.6536501</td><td>-35.9700212</td><td>60185.3811712</td><td>z</td><td>426670023</td><td>23</td></tr>\n",
       "<tr><td>1651589610221862935</td><td>62.1479038</td><td>-35.7991348</td><td>60540.4073132</td><td>y</td><td>646739066</td><td>66</td></tr>\n",
       "<tr><td>1651739143803240517</td><td>63.2476384</td><td>-36.91414</td><td>59598.1203542</td><td>z</td><td>13290022</td><td>22</td></tr>\n",
       "<tr><td>1736208025095503982</td><td>60.2837917</td><td>-35.4042502</td><td>59791.3523622</td><td>g</td><td>159478145</td><td>145</td></tr>\n",
       "<tr><td>1736726994583814254</td><td>63.2038071</td><td>-35.0137971</td><td>60263.0888352</td><td>r</td><td>468251181</td><td>181</td></tr>\n",
       "<tr><td>1736858935979147676</td><td>62.9779365</td><td>-34.5801823</td><td>60952.1900982</td><td>y</td><td>936434020</td><td>20</td></tr>\n",
       "<tr><td>1824520799038472266</td><td>67.7539568</td><td>-33.9679688</td><td>60944.2832322</td><td>i</td><td>930512049</td><td>49</td></tr>\n",
       "<tr><td>1910977597353754906</td><td>59.6754867</td><td>-31.5396859</td><td>60597.2198172</td><td>i</td><td>687398091</td><td>91</td></tr>\n",
       "</table></div>"
      ],
      "text/plain": [
       "<Table length=14>\n",
       "    diaObjectId         ra         decl    ...  band  ccdVisitId detector\n",
       "                       deg         deg     ...                           \n",
       "       int64         float64     float64   ... object   int64     int64  \n",
       "------------------- ---------- ----------- ... ------ ---------- --------\n",
       "1567428592185376787 59.4814837 -37.7323315 ...      y 1141195101      101\n",
       "1567762843720221100 62.5202159 -37.8646632 ...      r  480303131      131\n",
       "1568246628836442456 62.5202159 -37.8646632 ...      g  975962163      163\n",
       "1568950316278219135 67.2951662 -38.4159654 ...      g  662526045       45\n",
       "1569082257673552562 67.0155078 -37.8278368 ...      r  242558012       12\n",
       "1569135034231685181 67.4679316 -37.6786425 ...      z  476393014       14\n",
       "1651510445384663056 62.6536501 -35.9700212 ...      z  426670023       23\n",
       "1651589610221862935 62.1479038 -35.7991348 ...      y  646739066       66\n",
       "1651739143803240517 63.2476384   -36.91414 ...      z   13290022       22\n",
       "1736208025095503982 60.2837917 -35.4042502 ...      g  159478145      145\n",
       "1736726994583814254 63.2038071 -35.0137971 ...      r  468251181      181\n",
       "1736858935979147676 62.9779365 -34.5801823 ...      y  936434020       20\n",
       "1824520799038472266 67.7539568 -33.9679688 ...      i  930512049       49\n",
       "1910977597353754906 59.6754867 -31.5396859 ...      i  687398091       91"
      ]
     },
     "execution_count": 102,
     "metadata": {},
     "output_type": "execute_result"
    }
   ],
   "source": [
    "# listing by unique source instead:\n",
    "import astropy\n",
    "unique_variables = astropy.table.unique(fsodo_sources,keys = 'diaObjectId')['diaObjectId','ra','decl','expMidptMJD','band','ccdVisitId', 'detector']\n",
    "unique_variables"
   ]
  },
  {
   "cell_type": "code",
   "execution_count": 103,
   "id": "7a118175-97a4-49c2-8a35-c7aa84c53d29",
   "metadata": {
    "execution": {
     "iopub.execute_input": "2023-10-19T17:56:54.690377Z",
     "iopub.status.busy": "2023-10-19T17:56:54.689793Z",
     "iopub.status.idle": "2023-10-19T17:56:54.695274Z",
     "shell.execute_reply": "2023-10-19T17:56:54.694778Z",
     "shell.execute_reply.started": "2023-10-19T17:56:54.690352Z"
    },
    "tags": []
   },
   "outputs": [
    {
     "name": "stdout",
     "output_type": "stream",
     "text": [
      "ra and dec of variable star 59.4814837 -37.7323315\n"
     ]
    }
   ],
   "source": [
    "# For this tutorial, we will select one such source but you can choose another\n",
    "diaobjectID = 1568950316278219135\n",
    "diaobjectID = 1910977597353754906\n",
    "diaobjectID = 1567428592185376787\n",
    "selection = unique_variables[unique_variables[\"diaObjectId\"]==diaobjectID]\n",
    "#selection = unique_variables\n",
    "ra = selection['ra'].value[0]\n",
    "dec = selection['decl'].value[0]\n",
    "print('ra and dec of variable star', ra, dec)"
   ]
  },
  {
   "cell_type": "markdown",
   "id": "64b70f34-ab99-4ae8-905e-6ce75f2c35af",
   "metadata": {},
   "source": [
    "### Now go back to the original table to get all of the information you need to plot a series of images"
   ]
  },
  {
   "cell_type": "code",
   "execution_count": 104,
   "id": "64dca590-d967-4359-b043-e37406a9817d",
   "metadata": {
    "execution": {
     "iopub.execute_input": "2023-10-19T17:56:56.468209Z",
     "iopub.status.busy": "2023-10-19T17:56:56.467631Z",
     "iopub.status.idle": "2023-10-19T17:56:56.484290Z",
     "shell.execute_reply": "2023-10-19T17:56:56.483775Z",
     "shell.execute_reply.started": "2023-10-19T17:56:56.468185Z"
    },
    "tags": []
   },
   "outputs": [
    {
     "data": {
      "text/html": [
       "<div><i>Table length=426</i>\n",
       "<table id=\"table140113771811024\" class=\"table-striped table-bordered table-condensed\">\n",
       "<thead><tr><th>diaObjectId</th><th>ra</th><th>decl</th><th>ccdVisitId</th><th>band</th><th>psfFlux</th><th>psfFluxErr</th><th>expMidptMJD</th><th>detector</th><th>psfMag</th></tr></thead>\n",
       "<thead><tr><th></th><th>deg</th><th>deg</th><th></th><th></th><th>nJy</th><th>nJy</th><th>d</th><th></th><th></th></tr></thead>\n",
       "<thead><tr><th>int64</th><th>float64</th><th>float64</th><th>int64</th><th>object</th><th>float64</th><th>float64</th><th>float64</th><th>int64</th><th>float64</th></tr></thead>\n",
       "<tr><td>1567428592185376787</td><td>59.4814837</td><td>-37.7323315</td><td>1141195101</td><td>y</td><td>217274.9132152</td><td>1755.4059358</td><td>61254.3419842</td><td>101</td><td>18.05747603718028</td></tr>\n",
       "<tr><td>1567428592185376787</td><td>59.4814837</td><td>-37.7323315</td><td>1212153079</td><td>i</td><td>220985.9696981</td><td>590.3284039</td><td>61364.2925662</td><td>79</td><td>18.039088246512566</td></tr>\n",
       "<tr><td>1567428592185376787</td><td>59.4814837</td><td>-37.7323315</td><td>662532066</td><td>g</td><td>196440.0949505</td><td>433.4549124</td><td>60560.2854312</td><td>66</td><td>18.16692466155384</td></tr>\n",
       "<tr><td>1567428592185376787</td><td>59.4814837</td><td>-37.7323315</td><td>909782131</td><td>r</td><td>195614.2995458</td><td>482.6527048</td><td>60905.3085432</td><td>131</td><td>18.171498502873554</td></tr>\n",
       "<tr><td>1567428592185376787</td><td>59.4814837</td><td>-37.7323315</td><td>1047475123</td><td>z</td><td>275528.8518518</td><td>935.3058406</td><td>61118.0144062</td><td>123</td><td>17.799582293809436</td></tr>\n",
       "<tr><td>1567428592185376787</td><td>59.4814837</td><td>-37.7323315</td><td>904789050</td><td>y</td><td>283345.1047675</td><td>1523.756618</td><td>60899.4044252</td><td>50</td><td>17.769210715195413</td></tr>\n",
       "<tr><td>1567428592185376787</td><td>59.4814837</td><td>-37.7323315</td><td>676185120</td><td>r</td><td>209555.5588523</td><td>490.1820967</td><td>60583.3096732</td><td>120</td><td>18.09675203551415</td></tr>\n",
       "<tr><td>1567428592185376787</td><td>59.4814837</td><td>-37.7323315</td><td>266167081</td><td>y</td><td>289677.4273541</td><td>1792.3334894</td><td>59950.1359082</td><td>81</td><td>17.74521336293549</td></tr>\n",
       "<tr><td>1567428592185376787</td><td>59.4814837</td><td>-37.7323315</td><td>712616167</td><td>z</td><td>212876.3597708</td><td>971.9879835</td><td>60631.2606202</td><td>167</td><td>18.079681412293624</td></tr>\n",
       "<tr><td>...</td><td>...</td><td>...</td><td>...</td><td>...</td><td>...</td><td>...</td><td>...</td><td>...</td><td>...</td></tr>\n",
       "<tr><td>1567428592185376787</td><td>59.4814837</td><td>-37.7323315</td><td>1190764144</td><td>r</td><td>228148.0530925</td><td>503.5964312</td><td>61325.1986392</td><td>144</td><td>18.004458082347647</td></tr>\n",
       "<tr><td>1567428592185376787</td><td>59.4814837</td><td>-37.7323315</td><td>159478072</td><td>g</td><td>200795.040048</td><td>436.6874465</td><td>59791.3523622</td><td>72</td><td>18.143117547871185</td></tr>\n",
       "<tr><td>1567428592185376787</td><td>59.4814837</td><td>-37.7323315</td><td>169765175</td><td>y</td><td>213814.7877379</td><td>1544.6730327</td><td>59805.3167772</td><td>175</td><td>18.074905654145518</td></tr>\n",
       "<tr><td>1567428592185376787</td><td>59.4814837</td><td>-37.7323315</td><td>746710182</td><td>r</td><td>213130.5902323</td><td>520.252893</td><td>60683.0936242</td><td>182</td><td>18.078385530857094</td></tr>\n",
       "<tr><td>1567428592185376787</td><td>59.4814837</td><td>-37.7323315</td><td>694227085</td><td>r</td><td>370466.4429648</td><td>652.5324439</td><td>60605.3056322</td><td>85</td><td>17.478127811284775</td></tr>\n",
       "<tr><td>1567428592185376787</td><td>59.4814837</td><td>-37.7323315</td><td>221577055</td><td>g</td><td>247069.1283442</td><td>471.4091477</td><td>59879.1834782</td><td>55</td><td>17.917953792376657</td></tr>\n",
       "<tr><td>1567428592185376787</td><td>59.4814837</td><td>-37.7323315</td><td>1006040075</td><td>r</td><td>282562.7844561</td><td>606.458324</td><td>61066.0831362</td><td>75</td><td>17.77221259604233</td></tr>\n",
       "<tr><td>1567428592185376787</td><td>59.4814837</td><td>-37.7323315</td><td>678520078</td><td>i</td><td>232801.0218074</td><td>603.2965861</td><td>60586.1974142</td><td>78</td><td>17.982537794544832</td></tr>\n",
       "<tr><td>1567428592185376787</td><td>59.4814837</td><td>-37.7323315</td><td>496988175</td><td>i</td><td>261463.3390347</td><td>693.5025242</td><td>60309.2285402</td><td>175</td><td>17.856472992336915</td></tr>\n",
       "<tr><td>1567428592185376787</td><td>59.4814837</td><td>-37.7323315</td><td>1174419009</td><td>z</td><td>223893.6004085</td><td>872.5982827</td><td>61306.2377172</td><td>9</td><td>18.024895799404312</td></tr>\n",
       "</table></div>"
      ],
      "text/plain": [
       "<Table length=426>\n",
       "    diaObjectId         ra         decl    ... detector       psfMag      \n",
       "                       deg         deg     ...                            \n",
       "       int64         float64     float64   ...  int64        float64      \n",
       "------------------- ---------- ----------- ... -------- ------------------\n",
       "1567428592185376787 59.4814837 -37.7323315 ...      101  18.05747603718028\n",
       "1567428592185376787 59.4814837 -37.7323315 ...       79 18.039088246512566\n",
       "1567428592185376787 59.4814837 -37.7323315 ...       66  18.16692466155384\n",
       "1567428592185376787 59.4814837 -37.7323315 ...      131 18.171498502873554\n",
       "1567428592185376787 59.4814837 -37.7323315 ...      123 17.799582293809436\n",
       "1567428592185376787 59.4814837 -37.7323315 ...       50 17.769210715195413\n",
       "1567428592185376787 59.4814837 -37.7323315 ...      120  18.09675203551415\n",
       "1567428592185376787 59.4814837 -37.7323315 ...       81  17.74521336293549\n",
       "1567428592185376787 59.4814837 -37.7323315 ...      167 18.079681412293624\n",
       "                ...        ...         ... ...      ...                ...\n",
       "1567428592185376787 59.4814837 -37.7323315 ...      144 18.004458082347647\n",
       "1567428592185376787 59.4814837 -37.7323315 ...       72 18.143117547871185\n",
       "1567428592185376787 59.4814837 -37.7323315 ...      175 18.074905654145518\n",
       "1567428592185376787 59.4814837 -37.7323315 ...      182 18.078385530857094\n",
       "1567428592185376787 59.4814837 -37.7323315 ...       85 17.478127811284775\n",
       "1567428592185376787 59.4814837 -37.7323315 ...       55 17.917953792376657\n",
       "1567428592185376787 59.4814837 -37.7323315 ...       75  17.77221259604233\n",
       "1567428592185376787 59.4814837 -37.7323315 ...       78 17.982537794544832\n",
       "1567428592185376787 59.4814837 -37.7323315 ...      175 17.856472992336915\n",
       "1567428592185376787 59.4814837 -37.7323315 ...        9 18.024895799404312"
      ]
     },
     "execution_count": 104,
     "metadata": {},
     "output_type": "execute_result"
    }
   ],
   "source": [
    "source = fsodo_sources[fsodo_sources[\"diaObjectId\"]==diaobjectID]['diaObjectId','ra','decl','ccdVisitId',\n",
    "                                                         'band','psfFlux','psfFluxErr',\n",
    "                                                         'expMidptMJD','detector','psfMag']\n",
    "source"
   ]
  },
  {
   "cell_type": "code",
   "execution_count": 105,
   "id": "0b0be754-d84d-47ed-8c3d-49e08b83aab7",
   "metadata": {
    "execution": {
     "iopub.execute_input": "2023-10-19T17:56:59.411594Z",
     "iopub.status.busy": "2023-10-19T17:56:59.410876Z",
     "iopub.status.idle": "2023-10-19T17:56:59.423605Z",
     "shell.execute_reply": "2023-10-19T17:56:59.423102Z",
     "shell.execute_reply.started": "2023-10-19T17:56:59.411569Z"
    },
    "tags": []
   },
   "outputs": [
    {
     "data": {
      "text/html": [
       "<div><i>Table length=46</i>\n",
       "<table id=\"table140113773080144\" class=\"table-striped table-bordered table-condensed\">\n",
       "<thead><tr><th>diaObjectId</th><th>ra</th><th>decl</th><th>ccdVisitId</th><th>band</th><th>psfFlux</th><th>psfFluxErr</th><th>expMidptMJD</th><th>detector</th><th>psfMag</th></tr></thead>\n",
       "<thead><tr><th></th><th>deg</th><th>deg</th><th></th><th></th><th>nJy</th><th>nJy</th><th>d</th><th></th><th></th></tr></thead>\n",
       "<thead><tr><th>int64</th><th>float64</th><th>float64</th><th>int64</th><th>object</th><th>float64</th><th>float64</th><th>float64</th><th>int64</th><th>float64</th></tr></thead>\n",
       "<tr><td>1567428592185376787</td><td>59.4814837</td><td>-37.7323315</td><td>662532066</td><td>g</td><td>196440.0949505</td><td>433.4549124</td><td>60560.2854312</td><td>66</td><td>18.16692466155384</td></tr>\n",
       "<tr><td>1567428592185376787</td><td>59.4814837</td><td>-37.7323315</td><td>1207511068</td><td>g</td><td>219866.7222105</td><td>449.6565981</td><td>61358.0978632</td><td>68</td><td>18.044601245083797</td></tr>\n",
       "<tr><td>1567428592185376787</td><td>59.4814837</td><td>-37.7323315</td><td>159477064</td><td>g</td><td>199387.4948561</td><td>433.5605849</td><td>59791.3519142</td><td>64</td><td>18.15075520790563</td></tr>\n",
       "<tr><td>1567428592185376787</td><td>59.4814837</td><td>-37.7323315</td><td>1193962114</td><td>g</td><td>200165.9255408</td><td>430.2449777</td><td>61329.2765132</td><td>114</td><td>18.146524627445224</td></tr>\n",
       "<tr><td>1567428592185376787</td><td>59.4814837</td><td>-37.7323315</td><td>400423078</td><td>g</td><td>226492.6848069</td><td>453.3619595</td><td>60145.4061882</td><td>78</td><td>18.01236455034532</td></tr>\n",
       "<tr><td>1567428592185376787</td><td>59.4814837</td><td>-37.7323315</td><td>944239150</td><td>g</td><td>193843.9378628</td><td>428.2063928</td><td>60962.2845722</td><td>150</td><td>18.181369440651487</td></tr>\n",
       "<tr><td>1567428592185376787</td><td>59.4814837</td><td>-37.7323315</td><td>680258091</td><td>g</td><td>215557.5038345</td><td>439.4226216</td><td>60588.2055822</td><td>91</td><td>18.066092135490866</td></tr>\n",
       "<tr><td>1567428592185376787</td><td>59.4814837</td><td>-37.7323315</td><td>975929081</td><td>g</td><td>370044.4330777</td><td>580.3639521</td><td>61017.0651622</td><td>81</td><td>17.47936531225233</td></tr>\n",
       "<tr><td>1567428592185376787</td><td>59.4814837</td><td>-37.7323315</td><td>743895012</td><td>g</td><td>193475.3698954</td><td>421.1428071</td><td>60679.1086092</td><td>12</td><td>18.183435785906635</td></tr>\n",
       "<tr><td>...</td><td>...</td><td>...</td><td>...</td><td>...</td><td>...</td><td>...</td><td>...</td><td>...</td><td>...</td></tr>\n",
       "<tr><td>1567428592185376787</td><td>59.4814837</td><td>-37.7323315</td><td>221615012</td><td>g</td><td>306480.4286178</td><td>527.5038849</td><td>59879.2024112</td><td>12</td><td>17.683993134141872</td></tr>\n",
       "<tr><td>1567428592185376787</td><td>59.4814837</td><td>-37.7323315</td><td>1193919111</td><td>g</td><td>187366.5339383</td><td>417.8827675</td><td>61329.2537562</td><td>111</td><td>18.21826994268998</td></tr>\n",
       "<tr><td>1567428592185376787</td><td>59.4814837</td><td>-37.7323315</td><td>193827088</td><td>g</td><td>208468.7300821</td><td>435.8136846</td><td>59840.2362632</td><td>88</td><td>18.10239769790369</td></tr>\n",
       "<tr><td>1567428592185376787</td><td>59.4814837</td><td>-37.7323315</td><td>960131172</td><td>g</td><td>412228.2874375</td><td>623.1108031</td><td>60993.0728442</td><td>172</td><td>17.362155524741738</td></tr>\n",
       "<tr><td>1567428592185376787</td><td>59.4814837</td><td>-37.7323315</td><td>944246152</td><td>g</td><td>194696.0515233</td><td>427.2013689</td><td>60962.2879312</td><td>152</td><td>18.176607139934266</td></tr>\n",
       "<tr><td>1567428592185376787</td><td>59.4814837</td><td>-37.7323315</td><td>254380070</td><td>g</td><td>189520.0532599</td><td>411.1701815</td><td>59932.1276302</td><td>70</td><td>18.205862075594013</td></tr>\n",
       "<tr><td>1567428592185376787</td><td>59.4814837</td><td>-37.7323315</td><td>418999011</td><td>g</td><td>404544.865217</td><td>614.2463794</td><td>60177.3090962</td><td>11</td><td>17.38258326710902</td></tr>\n",
       "<tr><td>1567428592185376787</td><td>59.4814837</td><td>-37.7323315</td><td>680232158</td><td>g</td><td>221365.5849455</td><td>448.6257898</td><td>60588.1935492</td><td>158</td><td>18.037224741728487</td></tr>\n",
       "<tr><td>1567428592185376787</td><td>59.4814837</td><td>-37.7323315</td><td>159478072</td><td>g</td><td>200795.040048</td><td>436.6874465</td><td>59791.3523622</td><td>72</td><td>18.143117547871185</td></tr>\n",
       "<tr><td>1567428592185376787</td><td>59.4814837</td><td>-37.7323315</td><td>221577055</td><td>g</td><td>247069.1283442</td><td>471.4091477</td><td>59879.1834782</td><td>55</td><td>17.917953792376657</td></tr>\n",
       "</table></div>"
      ],
      "text/plain": [
       "<Table length=46>\n",
       "    diaObjectId         ra         decl    ... detector       psfMag      \n",
       "                       deg         deg     ...                            \n",
       "       int64         float64     float64   ...  int64        float64      \n",
       "------------------- ---------- ----------- ... -------- ------------------\n",
       "1567428592185376787 59.4814837 -37.7323315 ...       66  18.16692466155384\n",
       "1567428592185376787 59.4814837 -37.7323315 ...       68 18.044601245083797\n",
       "1567428592185376787 59.4814837 -37.7323315 ...       64  18.15075520790563\n",
       "1567428592185376787 59.4814837 -37.7323315 ...      114 18.146524627445224\n",
       "1567428592185376787 59.4814837 -37.7323315 ...       78  18.01236455034532\n",
       "1567428592185376787 59.4814837 -37.7323315 ...      150 18.181369440651487\n",
       "1567428592185376787 59.4814837 -37.7323315 ...       91 18.066092135490866\n",
       "1567428592185376787 59.4814837 -37.7323315 ...       81  17.47936531225233\n",
       "1567428592185376787 59.4814837 -37.7323315 ...       12 18.183435785906635\n",
       "                ...        ...         ... ...      ...                ...\n",
       "1567428592185376787 59.4814837 -37.7323315 ...       12 17.683993134141872\n",
       "1567428592185376787 59.4814837 -37.7323315 ...      111  18.21826994268998\n",
       "1567428592185376787 59.4814837 -37.7323315 ...       88  18.10239769790369\n",
       "1567428592185376787 59.4814837 -37.7323315 ...      172 17.362155524741738\n",
       "1567428592185376787 59.4814837 -37.7323315 ...      152 18.176607139934266\n",
       "1567428592185376787 59.4814837 -37.7323315 ...       70 18.205862075594013\n",
       "1567428592185376787 59.4814837 -37.7323315 ...       11  17.38258326710902\n",
       "1567428592185376787 59.4814837 -37.7323315 ...      158 18.037224741728487\n",
       "1567428592185376787 59.4814837 -37.7323315 ...       72 18.143117547871185\n",
       "1567428592185376787 59.4814837 -37.7323315 ...       55 17.917953792376657"
      ]
     },
     "execution_count": 105,
     "metadata": {},
     "output_type": "execute_result"
    }
   ],
   "source": [
    "# select g band images only\n",
    "source_g = source[source['band']=='g']\n",
    "source_g"
   ]
  },
  {
   "cell_type": "code",
   "execution_count": 106,
   "id": "1156a9b0-d6f2-4ceb-80d5-d760896bcc65",
   "metadata": {
    "execution": {
     "iopub.execute_input": "2023-10-19T17:57:01.632292Z",
     "iopub.status.busy": "2023-10-19T17:57:01.631382Z",
     "iopub.status.idle": "2023-10-19T17:57:01.792333Z",
     "shell.execute_reply": "2023-10-19T17:57:01.791775Z",
     "shell.execute_reply.started": "2023-10-19T17:57:01.632258Z"
    },
    "tags": []
   },
   "outputs": [
    {
     "data": {
      "image/png": "[encoded data removed]",
      "text/plain": [
       "<Figure size 640x480 with 1 Axes>"
      ]
     },
     "metadata": {},
     "output_type": "display_data"
    }
   ],
   "source": [
    "plt.scatter(source_g['expMidptMJD'], source_g['psfFlux'])\n",
    "plt.xlabel('MJD')\n",
    "plt.ylabel('nJy psfFlux')\n",
    "plt.show()"
   ]
  },
  {
   "cell_type": "markdown",
   "id": "e294a2f7-c2d8-4189-a68e-c9e1eaa45216",
   "metadata": {},
   "source": [
    "# try making a nicer plot"
   ]
  },
  {
   "cell_type": "code",
   "execution_count": 107,
   "id": "7f9c63a3-eb79-45f7-8780-984c2ec64501",
   "metadata": {
    "execution": {
     "iopub.execute_input": "2023-10-19T17:57:04.415028Z",
     "iopub.status.busy": "2023-10-19T17:57:04.414277Z",
     "iopub.status.idle": "2023-10-19T17:57:04.419400Z",
     "shell.execute_reply": "2023-10-19T17:57:04.418900Z",
     "shell.execute_reply.started": "2023-10-19T17:57:04.415004Z"
    },
    "tags": []
   },
   "outputs": [],
   "source": [
    "plot_filter_labels = ['u', 'g', 'r', 'i', 'z', 'y']\n",
    "plot_filter_colors = {'u': '#56b4e9', 'g': '#008060', 'r': '#ff4000',\n",
    "                      'i': '#850000', 'z': '#6600cc', 'y': '#000000'}\n",
    "plot_filter_symbols = {'u': 'o', 'g': '^', 'r': 'v', 'i': 's', 'z': '*', 'y': 'p'}\n",
    "\n",
    "pick = {}\n",
    "for filter in plot_filter_labels:\n",
    "    pick[filter] = (source['band'] == filter)"
   ]
  },
  {
   "cell_type": "code",
   "execution_count": 108,
   "id": "b9cbd451-ce99-4044-a019-5af61b6206d9",
   "metadata": {
    "execution": {
     "iopub.execute_input": "2023-10-19T17:57:04.926946Z",
     "iopub.status.busy": "2023-10-19T17:57:04.926200Z",
     "iopub.status.idle": "2023-10-19T17:57:05.174001Z",
     "shell.execute_reply": "2023-10-19T17:57:05.173506Z",
     "shell.execute_reply.started": "2023-10-19T17:57:04.926923Z"
    },
    "tags": []
   },
   "outputs": [
    {
     "data": {
      "image/png": "[encoded data removed]",
      "text/plain": [
       "<Figure size 600x400 with 1 Axes>"
      ]
     },
     "metadata": {},
     "output_type": "display_data"
    }
   ],
   "source": [
    "fig = plt.figure(figsize=(6, 4))\n",
    "plt.plot(source[pick['r']]['expMidptMJD'], source[pick['r']]['psfMag'],\n",
    "         'k.', ms=10)\n",
    "plt.minorticks_on()\n",
    "plt.xlabel('MJD (days)')\n",
    "plt.ylabel('r')\n",
    "plt.gca().invert_yaxis()\n",
    "plt.show()"
   ]
  },
  {
   "cell_type": "code",
   "execution_count": 121,
   "id": "c0458344-1501-424d-b8e8-6c6e7bf3eff2",
   "metadata": {
    "execution": {
     "iopub.execute_input": "2023-10-19T18:08:54.402360Z",
     "iopub.status.busy": "2023-10-19T18:08:54.401599Z",
     "iopub.status.idle": "2023-10-19T18:08:54.409618Z",
     "shell.execute_reply": "2023-10-19T18:08:54.409084Z",
     "shell.execute_reply.started": "2023-10-19T18:08:54.402334Z"
    },
    "tags": []
   },
   "outputs": [
    {
     "name": "stdout",
     "output_type": "stream",
     "text": [
      "<TableColumns names=('diaObjectId','ra','decl','ccdVisitId','band','psfFlux','psfFluxErr','expMidptMJD','detector','psfMag')>\n",
      "    diaObjectId         ra         decl    ... detector       psfMag      \n",
      "                       deg         deg     ...                            \n",
      "------------------- ---------- ----------- ... -------- ------------------\n",
      "1567428592185376787 59.4814837 -37.7323315 ...      131 18.171498502873554\n",
      "1567428592185376787 59.4814837 -37.7323315 ...       72 17.538622058843252\n",
      "1567428592185376787 59.4814837 -37.7323315 ...      182 17.501332130163735\n",
      "1567428592185376787 59.4814837 -37.7323315 ...       70 17.457577361687555\n",
      "1567428592185376787 59.4814837 -37.7323315 ...       29  17.75107594999814\n"
     ]
    }
   ],
   "source": [
    "# pick multiple moments in time\n",
    "idx = [0, 20, 40, 60, 80]\n",
    "ccd_flux_table = source[pick['r']][idx]\n",
    "print(ccd_flux_table.columns)\n",
    "print(ccd_flux_table)\n"
   ]
  },
  {
   "cell_type": "markdown",
   "id": "e759fa7f-26fe-4f6d-9c1c-20156d098aed",
   "metadata": {},
   "source": [
    "### Now lets try making images"
   ]
  },
  {
   "cell_type": "code",
   "execution_count": 124,
   "id": "8fe1ec69-8d06-447c-a7f7-c8c93d606a2f",
   "metadata": {
    "execution": {
     "iopub.execute_input": "2023-10-19T18:10:33.342473Z",
     "iopub.status.busy": "2023-10-19T18:10:33.341744Z",
     "iopub.status.idle": "2023-10-19T18:10:33.346935Z",
     "shell.execute_reply": "2023-10-19T18:10:33.346420Z",
     "shell.execute_reply.started": "2023-10-19T18:10:33.342447Z"
    },
    "tags": []
   },
   "outputs": [],
   "source": [
    "def get_cutout_image(butler, ra_deg, dec_deg, visit, detector, band, cutoutSideLength, datasetType='calexp'):\n",
    "    \"\"\"\n",
    "    Get the cutout image information from butler. \n",
    "    This shoudl be followed by make_fig\n",
    "\n",
    "    Input Parameters\n",
    "    ----------\n",
    "    ra : ra of source in degrees\n",
    "    dec : dec of source in degrees\n",
    "    visit : visit id\n",
    "    detector : detector number\n",
    "    band : band to get cutput for\n",
    "    cutoutSideLength : size of the cutout\n",
    "    \n",
    "    Returns\n",
    "    ----------\n",
    "    Cutout image information\n",
    "    \"\"\"\n",
    "    cutoutSize = geom.ExtentI(cutoutSideLength, cutoutSideLength)\n",
    "    \n",
    "    radec = geom.SpherePoint(ra_deg,dec_deg, geom.degrees)\n",
    "    \n",
    "    dataId = {'visit': visit, 'detector': detector}  \n",
    "    calexp_wcs = butler.get('calexp.wcs', **dataId)\n",
    "    \n",
    "    print('calexp wcs: ', calexp_wcs)\n",
    "    \n",
    "    xy = geom.PointI(calexp_wcs.skyToPixel(radec))\n",
    "    bbox = geom.BoxI(xy - cutoutSize // 2, cutoutSize)\n",
    "    parameters = {'bbox': bbox}\n",
    "    print('xy: ',xy)\n",
    "    print('bbox: ',bbox)\n",
    "    \n",
    "    cutout_image = butler.get('calexp', parameters=parameters, **dataId)\n",
    "    \n",
    "    return cutout_image"
   ]
  },
  {
   "cell_type": "code",
   "execution_count": 125,
   "id": "5d7d22ef-d281-4214-bf0e-c280a98fd957",
   "metadata": {
    "execution": {
     "iopub.execute_input": "2023-10-19T18:10:38.340740Z",
     "iopub.status.busy": "2023-10-19T18:10:38.340471Z",
     "iopub.status.idle": "2023-10-19T18:10:38.891233Z",
     "shell.execute_reply": "2023-10-19T18:10:38.890415Z",
     "shell.execute_reply.started": "2023-10-19T18:10:38.340721Z"
    },
    "tags": []
   },
   "outputs": [
    {
     "ename": "LookupError",
     "evalue": "Dataset calexp.wcs with data ID {instrument: 'LSSTCam-imSim', detector: 131, visit: 909782131} could not be found in collections ('2.2i/runs/DP0.2',).",
     "output_type": "error",
     "traceback": [
      "\u001b[0;31m---------------------------------------------------------------------------\u001b[0m",
      "\u001b[0;31mLookupError\u001b[0m                               Traceback (most recent call last)",
      "Cell \u001b[0;32mIn[125], line 28\u001b[0m\n\u001b[1;32m     25\u001b[0m star_visitid \u001b[38;5;241m=\u001b[39m ccd_flux_table[\u001b[38;5;124m'\u001b[39m\u001b[38;5;124mccdVisitId\u001b[39m\u001b[38;5;124m'\u001b[39m][idx]\n\u001b[1;32m     26\u001b[0m star_diaid \u001b[38;5;241m=\u001b[39m ccd_flux_table[\u001b[38;5;124m'\u001b[39m\u001b[38;5;124mdiaObjectId\u001b[39m\u001b[38;5;124m'\u001b[39m][idx]\n\u001b[0;32m---> 28\u001b[0m calexp_image \u001b[38;5;241m=\u001b[39m \u001b[43mget_cutout_image\u001b[49m\u001b[43m(\u001b[49m\u001b[43mbutler\u001b[49m\u001b[43m,\u001b[49m\u001b[43m \u001b[49m\u001b[43mstar_ra\u001b[49m\u001b[43m,\u001b[49m\u001b[43m \u001b[49m\u001b[43mstar_dec\u001b[49m\u001b[43m,\u001b[49m\u001b[43m \u001b[49m\u001b[43mstar_visitid\u001b[49m\u001b[43m,\u001b[49m\u001b[43m \u001b[49m\u001b[43mstar_detector\u001b[49m\u001b[43m,\u001b[49m\u001b[43m \u001b[49m\u001b[38;5;124;43m'\u001b[39;49m\u001b[38;5;124;43mr\u001b[39;49m\u001b[38;5;124;43m'\u001b[39;49m\u001b[43m,\u001b[49m\u001b[43m \u001b[49m\u001b[43mimage_size\u001b[49m\u001b[43m,\u001b[49m\u001b[43m \u001b[49m\u001b[43mdatasetType\u001b[49m\u001b[38;5;241;43m=\u001b[39;49m\u001b[38;5;124;43m'\u001b[39;49m\u001b[38;5;124;43mcalexp\u001b[39;49m\u001b[38;5;124;43m'\u001b[39;49m\u001b[43m)\u001b[49m \u001b[38;5;66;03m# only r-band images \u001b[39;00m\n\u001b[1;32m     29\u001b[0m figout \u001b[38;5;241m=\u001b[39m make_calexp_fig(calexp_image, star_ra,star_dec,batch_dir\u001b[38;5;241m+\u001b[39m\u001b[38;5;124m\"\u001b[39m\u001b[38;5;124m/images/\u001b[39m\u001b[38;5;124m\"\u001b[39m\u001b[38;5;241m+\u001b[39m\u001b[38;5;28mstr\u001b[39m(star_diaid)\u001b[38;5;241m+\u001b[39m\u001b[38;5;124m\"\u001b[39m\u001b[38;5;124m_\u001b[39m\u001b[38;5;124m\"\u001b[39m\u001b[38;5;241m+\u001b[39m\u001b[38;5;28mstr\u001b[39m(star_ccdid)\u001b[38;5;241m+\u001b[39m\u001b[38;5;124m\"\u001b[39m\u001b[38;5;124m.png\u001b[39m\u001b[38;5;124m\"\u001b[39m)\n\u001b[1;32m     30\u001b[0m remove_figure(figout)\n",
      "Cell \u001b[0;32mIn[124], line 24\u001b[0m, in \u001b[0;36mget_cutout_image\u001b[0;34m(butler, ra_deg, dec_deg, visit, detector, band, cutoutSideLength, datasetType)\u001b[0m\n\u001b[1;32m     21\u001b[0m radec \u001b[38;5;241m=\u001b[39m geom\u001b[38;5;241m.\u001b[39mSpherePoint(ra_deg,dec_deg, geom\u001b[38;5;241m.\u001b[39mdegrees)\n\u001b[1;32m     23\u001b[0m dataId \u001b[38;5;241m=\u001b[39m {\u001b[38;5;124m'\u001b[39m\u001b[38;5;124mvisit\u001b[39m\u001b[38;5;124m'\u001b[39m: visit, \u001b[38;5;124m'\u001b[39m\u001b[38;5;124mdetector\u001b[39m\u001b[38;5;124m'\u001b[39m: detector}  \n\u001b[0;32m---> 24\u001b[0m calexp_wcs \u001b[38;5;241m=\u001b[39m \u001b[43mbutler\u001b[49m\u001b[38;5;241;43m.\u001b[39;49m\u001b[43mget\u001b[49m\u001b[43m(\u001b[49m\u001b[38;5;124;43m'\u001b[39;49m\u001b[38;5;124;43mcalexp.wcs\u001b[39;49m\u001b[38;5;124;43m'\u001b[39;49m\u001b[43m,\u001b[49m\u001b[43m \u001b[49m\u001b[38;5;241;43m*\u001b[39;49m\u001b[38;5;241;43m*\u001b[39;49m\u001b[43mdataId\u001b[49m\u001b[43m)\u001b[49m\n\u001b[1;32m     26\u001b[0m \u001b[38;5;28mprint\u001b[39m(\u001b[38;5;124m'\u001b[39m\u001b[38;5;124mcalexp wcs: \u001b[39m\u001b[38;5;124m'\u001b[39m, calexp_wcs)\n\u001b[1;32m     28\u001b[0m xy \u001b[38;5;241m=\u001b[39m geom\u001b[38;5;241m.\u001b[39mPointI(calexp_wcs\u001b[38;5;241m.\u001b[39mskyToPixel(radec))\n",
      "File \u001b[0;32m/opt/lsst/software/stack/stack/miniconda3-py38_4.9.2-7.0.1/Linux64/daf_butler/gfc0b858265+07967ebf72/python/lsst/daf/butler/_butler.py:1427\u001b[0m, in \u001b[0;36mButler.get\u001b[0;34m(self, datasetRefOrType, dataId, parameters, collections, storageClass, **kwargs)\u001b[0m\n\u001b[1;32m   1373\u001b[0m \u001b[38;5;250m\u001b[39m\u001b[38;5;124;03m\"\"\"Retrieve a stored dataset.\u001b[39;00m\n\u001b[1;32m   1374\u001b[0m \n\u001b[1;32m   1375\u001b[0m \u001b[38;5;124;03mParameters\u001b[39;00m\n\u001b[0;32m   (...)\u001b[0m\n\u001b[1;32m   1424\u001b[0m \u001b[38;5;124;03m``exposure`` is a temporal dimension.\u001b[39;00m\n\u001b[1;32m   1425\u001b[0m \u001b[38;5;124;03m\"\"\"\u001b[39;00m\n\u001b[1;32m   1426\u001b[0m log\u001b[38;5;241m.\u001b[39mdebug(\u001b[38;5;124m\"\u001b[39m\u001b[38;5;124mButler get: \u001b[39m\u001b[38;5;132;01m%s\u001b[39;00m\u001b[38;5;124m, dataId=\u001b[39m\u001b[38;5;132;01m%s\u001b[39;00m\u001b[38;5;124m, parameters=\u001b[39m\u001b[38;5;132;01m%s\u001b[39;00m\u001b[38;5;124m\"\u001b[39m, datasetRefOrType, dataId, parameters)\n\u001b[0;32m-> 1427\u001b[0m ref \u001b[38;5;241m=\u001b[39m \u001b[38;5;28;43mself\u001b[39;49m\u001b[38;5;241;43m.\u001b[39;49m\u001b[43m_findDatasetRef\u001b[49m\u001b[43m(\u001b[49m\u001b[43mdatasetRefOrType\u001b[49m\u001b[43m,\u001b[49m\u001b[43m \u001b[49m\u001b[43mdataId\u001b[49m\u001b[43m,\u001b[49m\u001b[43m \u001b[49m\u001b[43mcollections\u001b[49m\u001b[38;5;241;43m=\u001b[39;49m\u001b[43mcollections\u001b[49m\u001b[43m,\u001b[49m\u001b[43m \u001b[49m\u001b[38;5;241;43m*\u001b[39;49m\u001b[38;5;241;43m*\u001b[39;49m\u001b[43mkwargs\u001b[49m\u001b[43m)\u001b[49m\n\u001b[1;32m   1428\u001b[0m \u001b[38;5;28;01mreturn\u001b[39;00m \u001b[38;5;28mself\u001b[39m\u001b[38;5;241m.\u001b[39m_datastore\u001b[38;5;241m.\u001b[39mget(ref, parameters\u001b[38;5;241m=\u001b[39mparameters, storageClass\u001b[38;5;241m=\u001b[39mstorageClass)\n",
      "File \u001b[0;32m/opt/lsst/software/stack/stack/miniconda3-py38_4.9.2-7.0.1/Linux64/daf_butler/gfc0b858265+07967ebf72/python/lsst/daf/butler/_butler.py:1100\u001b[0m, in \u001b[0;36mButler._findDatasetRef\u001b[0;34m(self, datasetRefOrType, dataId, collections, predict, run, **kwargs)\u001b[0m\n\u001b[1;32m   1098\u001b[0m         \u001b[38;5;28;01mif\u001b[39;00m collections \u001b[38;5;129;01mis\u001b[39;00m \u001b[38;5;28;01mNone\u001b[39;00m:\n\u001b[1;32m   1099\u001b[0m             collections \u001b[38;5;241m=\u001b[39m \u001b[38;5;28mself\u001b[39m\u001b[38;5;241m.\u001b[39m_registry\u001b[38;5;241m.\u001b[39mdefaults\u001b[38;5;241m.\u001b[39mcollections\n\u001b[0;32m-> 1100\u001b[0m         \u001b[38;5;28;01mraise\u001b[39;00m \u001b[38;5;167;01mLookupError\u001b[39;00m(\n\u001b[1;32m   1101\u001b[0m             \u001b[38;5;124mf\u001b[39m\u001b[38;5;124m\"\u001b[39m\u001b[38;5;124mDataset \u001b[39m\u001b[38;5;132;01m{\u001b[39;00mdatasetType\u001b[38;5;241m.\u001b[39mname\u001b[38;5;132;01m}\u001b[39;00m\u001b[38;5;124m with data ID \u001b[39m\u001b[38;5;132;01m{\u001b[39;00mdataId\u001b[38;5;132;01m}\u001b[39;00m\u001b[38;5;124m \u001b[39m\u001b[38;5;124m\"\u001b[39m\n\u001b[1;32m   1102\u001b[0m             \u001b[38;5;124mf\u001b[39m\u001b[38;5;124m\"\u001b[39m\u001b[38;5;124mcould not be found in collections \u001b[39m\u001b[38;5;132;01m{\u001b[39;00mcollections\u001b[38;5;132;01m}\u001b[39;00m\u001b[38;5;124m.\u001b[39m\u001b[38;5;124m\"\u001b[39m\n\u001b[1;32m   1103\u001b[0m         )\n\u001b[1;32m   1104\u001b[0m \u001b[38;5;28;01mif\u001b[39;00m datasetType \u001b[38;5;241m!=\u001b[39m ref\u001b[38;5;241m.\u001b[39mdatasetType:\n\u001b[1;32m   1105\u001b[0m     \u001b[38;5;66;03m# If they differ it is because the user explicitly specified\u001b[39;00m\n\u001b[1;32m   1106\u001b[0m     \u001b[38;5;66;03m# a compatible dataset type to this call rather than using the\u001b[39;00m\n\u001b[1;32m   1107\u001b[0m     \u001b[38;5;66;03m# registry definition. The DatasetRef must therefore be recreated\u001b[39;00m\n\u001b[1;32m   1108\u001b[0m     \u001b[38;5;66;03m# using the user definition such that the expected type is\u001b[39;00m\n\u001b[1;32m   1109\u001b[0m     \u001b[38;5;66;03m# returned.\u001b[39;00m\n\u001b[1;32m   1110\u001b[0m     ref \u001b[38;5;241m=\u001b[39m DatasetRef(datasetType, ref\u001b[38;5;241m.\u001b[39mdataId, run\u001b[38;5;241m=\u001b[39mref\u001b[38;5;241m.\u001b[39mrun, \u001b[38;5;28mid\u001b[39m\u001b[38;5;241m=\u001b[39mref\u001b[38;5;241m.\u001b[39mid)\n",
      "\u001b[0;31mLookupError\u001b[0m: Dataset calexp.wcs with data ID {instrument: 'LSSTCam-imSim', detector: 131, visit: 909782131} could not be found in collections ('2.2i/runs/DP0.2',)."
     ]
    }
   ],
   "source": [
    "#stars_matchid = variable_stars['match_objectId'].to_numpy()\n",
    "star_ra = ccd_flux_table['ra'][0]\n",
    "star_dec = ccd_flux_table['decl'][0]\n",
    "\n",
    "\n",
    "df_row = []\n",
    "df_final = []\n",
    "\n",
    "fields_to_add = [\"sourceId\", \"coord_ra\", \"coord_dec\"] # fields to add to the maifest file\n",
    "\n",
    "cutouts = []\n",
    "\n",
    "figout_data = {\"sourceId\": ccd_flux_table['diaObjectId'][0]}\n",
    "\n",
    "# Query the variable star flux, detector and visit information\n",
    "\n",
    "# Get calexp images from Butler and plot them\n",
    "idx_images = np.round(np.linspace(0, len(ccd_flux_table) - 1, 1)).astype(int)  #randomly select 5 images for each variable star\n",
    "image_dict = {} \n",
    "\n",
    "for i, idx in enumerate(idx_images):\n",
    "    star_ra = ccd_flux_table['ra'][idx]\n",
    "    star_dec = ccd_flux_table['decl'][idx]\n",
    "    star_detector = ccd_flux_table['detector'][idx]\n",
    "    star_visitid = ccd_flux_table['ccdVisitId'][idx]\n",
    "    star_diaid = ccd_flux_table['diaObjectId'][idx]\n",
    "    \n",
    "    calexp_image = get_cutout_image(butler, star_ra, star_dec, star_visitid, star_detector, 'r', image_size, datasetType='calexp') # only r-band images \n",
    "    figout = make_calexp_fig(calexp_image, star_ra,star_dec,batch_dir+\"/images/\"+str(star_diaid)+\"_\"+str(star_ccdid)+\".png\")\n",
    "    remove_figure(figout)\n",
    "\n",
    "    figout_data['location:image_'+str(i)] = str(star_id)+\"_\"+str(star_ccdid)+\".png\"\n",
    "    figout_data['filename'] = str(star_id)+\"_\"+str(star_ccdid)+\".png\"\n",
    "\n",
    "cutouts.append(figout_data)\n",
    "\n",
    "# manifest file\n",
    "df_star = pd.DataFrame(data = cutouts, index=[0])\n",
    "df_final.append(df_star)\n",
    "\n",
    "# flipbook data for each variable star\n",
    "df = pd.DataFrame(data = image_dict, index=[0])\n",
    "df_row.append(df)\n",
    "\n",
    "# Light curve for each variable star    \n",
    "mjd_days, mags = utils.get_flux(ccd_flux_table)\n",
    "figout = utils.plotlc(bands, mjd_days, mags, batch_dir+\"/lc_plots/\"+\"lc_\"+str(objid)+\".png\")\n",
    "remove_figure(figout) \n",
    "df_all_bands = []\n",
    "for band in bands:\n",
    "    df = pd.DataFrame(data = {'band': [band]*len(mjd_days[band]), 'mjd_days': mjd_days[band], \\\n",
    "                      'mags': mags[band]}, index=None)\n",
    "    df_all_bands.append(df)\n",
    "\n",
    "df_final_lc = pd.concat(df_all_bands)\n",
    "outfile = batch_dir+\"/text_files/\"+\"lc_\"+str(objid)+\".csv\"\n",
    "df_final_lc.to_csv(outfile, index=False, sep=',')\n",
    "    \n",
    "df_manifest = pd.concat(df_final) # final manifest file with all variable stars\n",
    "outfile = batch_dir+\"images/manifest.csv\"\n",
    "df_manifest.to_csv(outfile, index=False, sep=',')\n"
   ]
  },
  {
   "cell_type": "code",
   "execution_count": null,
   "id": "eff2df66-f9a6-4f79-98a1-5daac182940a",
   "metadata": {},
   "outputs": [],
   "source": [
    "get_cutout_image(butler, ra_deg, dec_deg, visit, detector, band, cutoutSideLength, datasetType='calexp'):"
   ]
  },
  {
   "cell_type": "code",
   "execution_count": null,
   "id": "a23b8e76-2e52-4d6a-a8e4-fd96ccc7721c",
   "metadata": {},
   "outputs": [],
   "source": []
  },
  {
   "cell_type": "code",
   "execution_count": null,
   "id": "f85b8c45-9c51-43ce-b6b3-20cd66321b0b",
   "metadata": {},
   "outputs": [],
   "source": []
  },
  {
   "cell_type": "code",
   "execution_count": null,
   "id": "3e2c7fe2-558c-490b-9983-6beed0a85115",
   "metadata": {},
   "outputs": [],
   "source": []
  },
  {
   "cell_type": "code",
   "execution_count": null,
   "id": "5beff355-a700-40fd-af5c-1c8986ff96c0",
   "metadata": {},
   "outputs": [],
   "source": []
  },
  {
   "cell_type": "code",
   "execution_count": null,
   "id": "25cb8998-3923-4e8c-95c1-34813f1086e2",
   "metadata": {},
   "outputs": [],
   "source": []
  },
  {
   "cell_type": "code",
   "execution_count": null,
   "id": "689c8e6f-14b2-4a9f-abf7-1ff73dd68e40",
   "metadata": {},
   "outputs": [],
   "source": []
  },
  {
   "cell_type": "code",
   "execution_count": null,
   "id": "e082d6c6-2171-473c-ad8f-274e034fe812",
   "metadata": {},
   "outputs": [],
   "source": []
  },
  {
   "cell_type": "code",
   "execution_count": null,
   "id": "18220387-fff1-417d-9ce7-bf5bf618aa3e",
   "metadata": {},
   "outputs": [],
   "source": []
  },
  {
   "cell_type": "code",
   "execution_count": null,
   "id": "096c1cd7-44e5-41cd-b79f-697325c276f2",
   "metadata": {},
   "outputs": [],
   "source": []
  },
  {
   "cell_type": "code",
   "execution_count": 83,
   "id": "3fe78458-6946-4d66-a019-18ae2eba9206",
   "metadata": {
    "execution": {
     "iopub.execute_input": "2023-10-19T17:49:22.748259Z",
     "iopub.status.busy": "2023-10-19T17:49:22.747583Z",
     "iopub.status.idle": "2023-10-19T17:49:27.471232Z",
     "shell.execute_reply": "2023-10-19T17:49:27.470697Z",
     "shell.execute_reply.started": "2023-10-19T17:49:22.748235Z"
    },
    "tags": []
   },
   "outputs": [
    {
     "data": {
      "text/html": [
       "<div>\n",
       "<style scoped>\n",
       "    .dataframe tbody tr th:only-of-type {\n",
       "        vertical-align: middle;\n",
       "    }\n",
       "\n",
       "    .dataframe tbody tr th {\n",
       "        vertical-align: top;\n",
       "    }\n",
       "\n",
       "    .dataframe thead th {\n",
       "        text-align: right;\n",
       "    }\n",
       "</style>\n",
       "<table border=\"1\" class=\"dataframe\">\n",
       "  <thead>\n",
       "    <tr style=\"text-align: right;\">\n",
       "      <th></th>\n",
       "      <th>coord_ra</th>\n",
       "      <th>coord_dec</th>\n",
       "      <th>objectId</th>\n",
       "      <th>g_psfFlux</th>\n",
       "      <th>r_psfFlux</th>\n",
       "      <th>i_psfFlux</th>\n",
       "      <th>detect_isPrimary</th>\n",
       "      <th>gPSFMag</th>\n",
       "      <th>rPSFMag</th>\n",
       "      <th>iPSFMag</th>\n",
       "      <th>g_extendedness</th>\n",
       "      <th>r_extendedness</th>\n",
       "      <th>i_extendedness</th>\n",
       "    </tr>\n",
       "  </thead>\n",
       "  <tbody>\n",
       "    <tr>\n",
       "      <th>0</th>\n",
       "      <td>59.481482</td>\n",
       "      <td>-37.732332</td>\n",
       "      <td>1567428592185416026</td>\n",
       "      <td>237835.225706</td>\n",
       "      <td>274554.245087</td>\n",
       "      <td>264678.624975</td>\n",
       "      <td>True</td>\n",
       "      <td>17.95931</td>\n",
       "      <td>17.80343</td>\n",
       "      <td>17.843203</td>\n",
       "      <td>0.0</td>\n",
       "      <td>0.0</td>\n",
       "      <td>0.0</td>\n",
       "    </tr>\n",
       "  </tbody>\n",
       "</table>\n",
       "</div>"
      ],
      "text/plain": [
       "    coord_ra  coord_dec             objectId      g_psfFlux      r_psfFlux  \\\n",
       "0  59.481482 -37.732332  1567428592185416026  237835.225706  274554.245087   \n",
       "\n",
       "       i_psfFlux  detect_isPrimary   gPSFMag   rPSFMag    iPSFMag  \\\n",
       "0  264678.624975              True  17.95931  17.80343  17.843203   \n",
       "\n",
       "   g_extendedness  r_extendedness  i_extendedness  \n",
       "0             0.0             0.0             0.0  "
      ]
     },
     "execution_count": 83,
     "metadata": {},
     "output_type": "execute_result"
    }
   ],
   "source": [
    "# do we even need this cell?\n",
    "variable_star = query_stars_becky(ra, dec, 0.001)\n",
    "variable_star"
   ]
  },
  {
   "cell_type": "markdown",
   "id": "49f0a86a-7bb7-4d14-b679-0291951526a4",
   "metadata": {},
   "source": []
  },
  {
   "cell_type": "code",
   "execution_count": null,
   "id": "239878c0-5880-4aa3-b49d-ed14530cb723",
   "metadata": {},
   "outputs": [],
   "source": []
  },
  {
   "cell_type": "markdown",
   "id": "b850948a-40cd-48f4-b2d4-e689159d0d87",
   "metadata": {},
   "source": [
    "### 2.2 Define variable star related parameters"
   ]
  },
  {
   "cell_type": "code",
   "execution_count": 6,
   "id": "b0ee631c-c7e6-431e-8529-eacaceeb5491",
   "metadata": {
    "execution": {
     "iopub.execute_input": "2023-10-19T16:28:39.536482Z",
     "iopub.status.busy": "2023-10-19T16:28:39.536304Z",
     "iopub.status.idle": "2023-10-19T16:28:39.539805Z",
     "shell.execute_reply": "2023-10-19T16:28:39.539201Z",
     "shell.execute_reply.started": "2023-10-19T16:28:39.536467Z"
    },
    "tags": []
   },
   "outputs": [],
   "source": [
    "query_num_stars = 1 # number of variable stars to query \n",
    "\n",
    "# Set any RA and DEC in degrees. This is the centre of your search radius\n",
    "# In this example notebook we are looking at one known RR-Lyrae. \n",
    "\n",
    "ra_known_rrl = 62.1479031\n",
    "dec_known_rrl = -35.799138\n",
    "\n",
    "\n",
    "search_radius = 0.001 # Search radius in degrees\n",
    "\n",
    "num_variable_images = 5 # For each variable stars, number of images to query to create flipbook (gif)\n",
    "\n",
    "image_size = 20 # image size for cutouts\n",
    "\n",
    "bands = ['g','r','i'] # bands to get flux for to create a lightcurve"
   ]
  },
  {
   "cell_type": "markdown",
   "id": "d4e5d710-210b-46e0-b212-4bad72d5d6dc",
   "metadata": {},
   "source": [
    "### 2.3 Create relevant directories"
   ]
  },
  {
   "cell_type": "code",
   "execution_count": 7,
   "id": "5c69e266-8bb3-4d44-bb59-bb05e2826a6b",
   "metadata": {
    "execution": {
     "iopub.execute_input": "2023-10-19T16:28:42.053294Z",
     "iopub.status.busy": "2023-10-19T16:28:42.052682Z",
     "iopub.status.idle": "2023-10-19T16:28:42.137230Z",
     "shell.execute_reply": "2023-10-19T16:28:42.136433Z",
     "shell.execute_reply.started": "2023-10-19T16:28:42.053269Z"
    },
    "tags": []
   },
   "outputs": [
    {
     "name": "stderr",
     "output_type": "stream",
     "text": [
      "rm: cannot remove ‘./variable_stars_output/images/*’: No such file or directory\n",
      "rm: cannot remove ‘./variable_stars_output/lc_plots/*’: No such file or directory\n",
      "rm: cannot remove ‘./variable_stars_output/text_files/*’: No such file or directory\n"
     ]
    }
   ],
   "source": [
    "plots = [] # empty list for plots\n",
    "\n",
    "# main directory\n",
    "batch_dir = './variable_stars_output/' \n",
    "\n",
    "if os.path.isdir(batch_dir) == False:\n",
    "    os.mkdir(batch_dir)\n",
    "\n",
    "# cutouts directory\n",
    "if os.path.isdir(batch_dir+'images') == False:\n",
    "    os.mkdir(batch_dir+'images')\n",
    "else:\n",
    "    os.system('rm -r '+batch_dir+'images/*')\n",
    "\n",
    "# light curve directory\n",
    "if os.path.isdir(batch_dir+'lc_plots') == False:\n",
    "    os.mkdir(batch_dir+'lc_plots')\n",
    "else:\n",
    "    os.system('rm -r '+batch_dir+'lc_plots/*')\n",
    "\n",
    "# light curve text file directory\n",
    "if os.path.isdir(batch_dir+'text_files') == False:\n",
    "    os.mkdir(batch_dir+'text_files')\n",
    "else:\n",
    "    os.system('rm -r '+batch_dir+'text_files/*')"
   ]
  },
  {
   "cell_type": "markdown",
   "id": "e294a393-997b-4c5a-8d72-87ff138dc4b5",
   "metadata": {},
   "source": [
    "### 2.4 Query and Plotting functions"
   ]
  },
  {
   "cell_type": "code",
   "execution_count": 8,
   "id": "7e79e7d5-6d45-4c79-81b5-02d3528ce7fc",
   "metadata": {
    "execution": {
     "iopub.execute_input": "2023-10-19T16:28:54.756272Z",
     "iopub.status.busy": "2023-10-19T16:28:54.755992Z",
     "iopub.status.idle": "2023-10-19T16:28:54.762432Z",
     "shell.execute_reply": "2023-10-19T16:28:54.761920Z",
     "shell.execute_reply.started": "2023-10-19T16:28:54.756251Z"
    },
    "tags": []
   },
   "outputs": [],
   "source": [
    "def query_stars(ra_deg, dec_deg, radius_deg, limit):\n",
    "    \"\"\"\n",
    "    Query variable stars from dp02_dc2_catalogs.MatchesTruth and dc2_catalogs.TruthSummary\n",
    "    \n",
    "    To query more than one star within the circle of search, change = 1 to <= 1\n",
    "    \n",
    "    Selecting stars (truth_type=2)\n",
    "    variable (is_variable = 1)\n",
    "    is_pointsource = 1\n",
    "\n",
    "    Input Parameters\n",
    "    ----------\n",
    "    ra_deg : ra of the centre of search in degrees\n",
    "    dec_deg : dec of the centre of search in degrees\n",
    "    radius_deg : radius within which to search for\n",
    "    limit : number of variable stars to retireve\n",
    "    \n",
    "    Returns\n",
    "    ----------\n",
    "    Table of variable stars as pandas dataframe\n",
    "    \"\"\"\n",
    "    query = \"SELECT mt.id_truth_type, mt.match_objectId, ts.ra, ts.dec \"\\\n",
    "            \"FROM dp02_dc2_catalogs.MatchesTruth AS mt \"\\\n",
    "            \"JOIN dp02_dc2_catalogs.TruthSummary AS ts ON mt.id_truth_type = ts.id_truth_type \"\\\n",
    "            \"WHERE ts.truth_type=2 \"\\\n",
    "            \"AND ts.is_variable = 1 \"\\\n",
    "            \"AND ts.is_pointsource = 1 \"\\\n",
    "            \"AND mt.match_objectId > 1 \"\\\n",
    "            \"AND CONTAINS(POINT('ICRS', ts.ra, ts.dec), CIRCLE('ICRS', \"+ str(ra_deg)+\", \"+str(dec_deg)+\", \"+str(radius_deg)+\")) <= 1 \"\\\n",
    "            \"LIMIT \"+str(limit)+\" \"\n",
    "    results = service.search(query)\n",
    "    variable_stars = results.to_table().to_pandas()\n",
    "    return variable_stars\n",
    "\n",
    "\n",
    "def query_stars_becky(ra_known_rrl, dec_known_rrl, radius):\n",
    "    results = service.search(\"SELECT TOP 100 \"\n",
    "                             \"coord_ra, coord_dec, objectId, \"\n",
    "                             \"g_psfFlux, r_psfFlux, i_psfFlux, detect_isPrimary, \"\n",
    "                             \"scisql_nanojanskyToAbMag(g_psfFlux) as gPSFMag, \"\n",
    "                             \"scisql_nanojanskyToAbMag(r_psfFlux) as rPSFMag, \"\n",
    "                             \"scisql_nanojanskyToAbMag(i_psfFlux) as iPSFMag, \"\n",
    "                             \"g_extendedness, r_extendedness, i_extendedness \"\n",
    "                             \"FROM dp02_dc2_catalogs.Object \"\n",
    "                             \"WHERE CONTAINS(POINT('ICRS', coord_ra, coord_dec), \"\n",
    "                             \"CIRCLE('ICRS',\" + str(ra_known_rrl) + \", \"\n",
    "                             + str(dec_known_rrl) + \", \"+str(radius)+\")) = 1 \"\n",
    "                             \"AND detect_isPrimary = 1\")\n",
    "\n",
    "    return results.to_table().to_pandas()\n",
    "                             \n",
    "\n",
    "\n",
    "def query_flux(objid):\n",
    "    \"\"\"\n",
    "    Query to get the flux for each variable star at all bands\n",
    "\n",
    "    Input Parameters\n",
    "    ----------\n",
    "    objid : Object ID of the variable star obtained from query_stars\n",
    "    \n",
    "    Returns\n",
    "    ----------\n",
    "    Table of flux of variable star \n",
    "    \"\"\"\n",
    "    query = \"SELECT src.band, src.ccdVisitId, src.coord_ra, src.coord_dec, \"\\\n",
    "            \"src.objectId, src.psfFlux, src.psfFluxErr, \"\\\n",
    "            \"visinfo.detector, visinfo.visitId, \"\\\n",
    "            \"scisql_nanojanskyToAbMag(psfFlux) as psfMag, \"\\\n",
    "            \"visinfo.band, \"\\\n",
    "            \"visinfo.expMidptMJD \"\\\n",
    "            \"FROM dp02_dc2_catalogs.ForcedSource as src \"\\\n",
    "            \"JOIN dp02_dc2_catalogs.CcdVisit as visinfo \"\\\n",
    "            \"ON visinfo.ccdVisitId = src.ccdVisitId \"\\\n",
    "            \"WHERE src.objectId = \"+str(objid)+\" \"\n",
    "    table = service.search(query)\n",
    "    flux_table = table.to_table()\n",
    "    return flux_table"
   ]
  },
  {
   "cell_type": "markdown",
   "id": "efac2893-43c4-4aff-9434-fdfec3f67914",
   "metadata": {},
   "source": [
    "## 3. Query and plot the variable stars"
   ]
  },
  {
   "cell_type": "code",
   "execution_count": 9,
   "id": "fb35503f-955f-490b-9100-d8bec98bbb1f",
   "metadata": {
    "execution": {
     "iopub.execute_input": "2023-10-19T16:17:04.618855Z",
     "iopub.status.busy": "2023-10-19T16:17:04.618216Z",
     "iopub.status.idle": "2023-10-19T16:17:10.515528Z",
     "shell.execute_reply": "2023-10-19T16:17:10.514891Z",
     "shell.execute_reply.started": "2023-10-19T16:17:04.618830Z"
    },
    "tags": []
   },
   "outputs": [
    {
     "name": "stdout",
     "output_type": "stream",
     "text": [
      "CPU times: user 18.2 ms, sys: 3.05 ms, total: 21.3 ms\n",
      "Wall time: 5.89 s\n"
     ]
    }
   ],
   "source": [
    "%%time\n",
    "variable_stars = query_stars(ra_known_rrl, dec_known_rrl, search_radius, query_num_stars)"
   ]
  },
  {
   "cell_type": "code",
   "execution_count": 10,
   "id": "95edb413-f9bd-4911-b1fd-c970c12ad4f2",
   "metadata": {
    "execution": {
     "iopub.execute_input": "2023-10-19T16:17:10.526350Z",
     "iopub.status.busy": "2023-10-19T16:17:10.526021Z",
     "iopub.status.idle": "2023-10-19T16:17:10.535931Z",
     "shell.execute_reply": "2023-10-19T16:17:10.535419Z",
     "shell.execute_reply.started": "2023-10-19T16:17:10.526331Z"
    },
    "tags": []
   },
   "outputs": [
    {
     "data": {
      "text/html": [
       "<div>\n",
       "<style scoped>\n",
       "    .dataframe tbody tr th:only-of-type {\n",
       "        vertical-align: middle;\n",
       "    }\n",
       "\n",
       "    .dataframe tbody tr th {\n",
       "        vertical-align: top;\n",
       "    }\n",
       "\n",
       "    .dataframe thead th {\n",
       "        text-align: right;\n",
       "    }\n",
       "</style>\n",
       "<table border=\"1\" class=\"dataframe\">\n",
       "  <thead>\n",
       "    <tr style=\"text-align: right;\">\n",
       "      <th></th>\n",
       "      <th>id_truth_type</th>\n",
       "      <th>match_objectId</th>\n",
       "      <th>ra</th>\n",
       "      <th>dec</th>\n",
       "    </tr>\n",
       "  </thead>\n",
       "  <tbody>\n",
       "    <tr>\n",
       "      <th>0</th>\n",
       "      <td>40745496103_2</td>\n",
       "      <td>1251666444874161581</td>\n",
       "      <td>65.542978</td>\n",
       "      <td>-44.480496</td>\n",
       "    </tr>\n",
       "  </tbody>\n",
       "</table>\n",
       "</div>"
      ],
      "text/plain": [
       "   id_truth_type       match_objectId         ra        dec\n",
       "0  40745496103_2  1251666444874161581  65.542978 -44.480496"
      ]
     },
     "execution_count": 10,
     "metadata": {},
     "output_type": "execute_result"
    }
   ],
   "source": [
    "variable_stars"
   ]
  },
  {
   "cell_type": "markdown",
   "id": "ad78835c-b889-4a0b-8a38-a5bbebb4e8b6",
   "metadata": {},
   "source": [
    "## Run Becky's query"
   ]
  },
  {
   "cell_type": "code",
   "execution_count": 9,
   "id": "4e59bf17-86f1-41bf-bf0f-d8e66ce67868",
   "metadata": {
    "execution": {
     "iopub.execute_input": "2023-10-19T16:28:58.551187Z",
     "iopub.status.busy": "2023-10-19T16:28:58.550371Z",
     "iopub.status.idle": "2023-10-19T16:28:59.030443Z",
     "shell.execute_reply": "2023-10-19T16:28:59.029920Z",
     "shell.execute_reply.started": "2023-10-19T16:28:58.551161Z"
    },
    "tags": []
   },
   "outputs": [
    {
     "data": {
      "text/html": [
       "<div>\n",
       "<style scoped>\n",
       "    .dataframe tbody tr th:only-of-type {\n",
       "        vertical-align: middle;\n",
       "    }\n",
       "\n",
       "    .dataframe tbody tr th {\n",
       "        vertical-align: top;\n",
       "    }\n",
       "\n",
       "    .dataframe thead th {\n",
       "        text-align: right;\n",
       "    }\n",
       "</style>\n",
       "<table border=\"1\" class=\"dataframe\">\n",
       "  <thead>\n",
       "    <tr style=\"text-align: right;\">\n",
       "      <th></th>\n",
       "      <th>coord_ra</th>\n",
       "      <th>coord_dec</th>\n",
       "      <th>objectId</th>\n",
       "      <th>g_psfFlux</th>\n",
       "      <th>r_psfFlux</th>\n",
       "      <th>i_psfFlux</th>\n",
       "      <th>detect_isPrimary</th>\n",
       "      <th>gPSFMag</th>\n",
       "      <th>rPSFMag</th>\n",
       "      <th>iPSFMag</th>\n",
       "      <th>g_extendedness</th>\n",
       "      <th>r_extendedness</th>\n",
       "      <th>i_extendedness</th>\n",
       "    </tr>\n",
       "  </thead>\n",
       "  <tbody>\n",
       "    <tr>\n",
       "      <th>0</th>\n",
       "      <td>62.147902</td>\n",
       "      <td>-35.799138</td>\n",
       "      <td>1651589610221899038</td>\n",
       "      <td>148048.932761</td>\n",
       "      <td>185964.384865</td>\n",
       "      <td>173109.351754</td>\n",
       "      <td>True</td>\n",
       "      <td>18.473987</td>\n",
       "      <td>18.226426</td>\n",
       "      <td>18.304199</td>\n",
       "      <td>0.0</td>\n",
       "      <td>0.0</td>\n",
       "      <td>0.0</td>\n",
       "    </tr>\n",
       "  </tbody>\n",
       "</table>\n",
       "</div>"
      ],
      "text/plain": [
       "    coord_ra  coord_dec             objectId      g_psfFlux      r_psfFlux  \\\n",
       "0  62.147902 -35.799138  1651589610221899038  148048.932761  185964.384865   \n",
       "\n",
       "       i_psfFlux  detect_isPrimary    gPSFMag    rPSFMag    iPSFMag  \\\n",
       "0  173109.351754              True  18.473987  18.226426  18.304199   \n",
       "\n",
       "   g_extendedness  r_extendedness  i_extendedness  \n",
       "0             0.0             0.0             0.0  "
      ]
     },
     "execution_count": 9,
     "metadata": {},
     "output_type": "execute_result"
    }
   ],
   "source": [
    "variable_star = query_stars_becky(ra_known_rrl, dec_known_rrl, search_radius)\n",
    "variable_star"
   ]
  },
  {
   "cell_type": "code",
   "execution_count": 49,
   "id": "d16bcfba-22a4-4d52-8f42-07318a45c648",
   "metadata": {
    "execution": {
     "iopub.execute_input": "2023-10-19T17:15:18.177847Z",
     "iopub.status.busy": "2023-10-19T17:15:18.177098Z",
     "iopub.status.idle": "2023-10-19T17:15:18.181503Z",
     "shell.execute_reply": "2023-10-19T17:15:18.180976Z",
     "shell.execute_reply.started": "2023-10-19T17:15:18.177820Z"
    },
    "tags": []
   },
   "outputs": [
    {
     "name": "stdout",
     "output_type": "stream",
     "text": [
      "1251666444874161581\n"
     ]
    }
   ],
   "source": [
    "sel_objid = variable_star['objectId'][0]\n",
    "sel_objid = 1251666444874161581\n",
    "print(sel_objid)"
   ]
  },
  {
   "cell_type": "code",
   "execution_count": 50,
   "id": "e2e6139d-7223-41b4-a243-7051083468c4",
   "metadata": {
    "execution": {
     "iopub.execute_input": "2023-10-19T17:15:21.141104Z",
     "iopub.status.busy": "2023-10-19T17:15:21.140474Z",
     "iopub.status.idle": "2023-10-19T17:15:21.144111Z",
     "shell.execute_reply": "2023-10-19T17:15:21.143584Z",
     "shell.execute_reply.started": "2023-10-19T17:15:21.141081Z"
    },
    "tags": []
   },
   "outputs": [],
   "source": [
    "query = \"SELECT src.band, src.ccdVisitId, src.coord_ra, src.coord_dec, \"\\\n",
    "        \"src.objectId, src.psfFlux, src.psfFluxErr, \"\\\n",
    "        \"scisql_nanojanskyToAbMag(psfFlux) as psfMag, \"\\\n",
    "        \"visinfo.ccdVisitId, visinfo.band, \"\\\n",
    "        \"visinfo.expMidptMJD, visinfo.zeroPoint \"\\\n",
    "        \"FROM dp02_dc2_catalogs.ForcedSource as src \"\\\n",
    "        \"JOIN dp02_dc2_catalogs.CcdVisit as visinfo \"\\\n",
    "        \"ON visinfo.ccdVisitId = src.ccdVisitId \"\\\n",
    "        \"WHERE src.objectId = \"+str(sel_objid)+\" \"\n"
   ]
  },
  {
   "cell_type": "code",
   "execution_count": 51,
   "id": "68db231c-559b-48bd-a2b4-e8b849272dca",
   "metadata": {
    "execution": {
     "iopub.execute_input": "2023-10-19T17:15:21.838029Z",
     "iopub.status.busy": "2023-10-19T17:15:21.837289Z",
     "iopub.status.idle": "2023-10-19T17:15:22.611409Z",
     "shell.execute_reply": "2023-10-19T17:15:22.610846Z",
     "shell.execute_reply.started": "2023-10-19T17:15:21.838005Z"
    },
    "tags": []
   },
   "outputs": [
    {
     "name": "stdout",
     "output_type": "stream",
     "text": [
      "308\n"
     ]
    }
   ],
   "source": [
    "results = service.search(query)\n",
    "srcs = results.to_table()\n",
    "print(len(srcs))"
   ]
  },
  {
   "cell_type": "code",
   "execution_count": 52,
   "id": "13119bf5-526a-4f35-acd8-55cbb0638b18",
   "metadata": {
    "execution": {
     "iopub.execute_input": "2023-10-19T17:15:23.026155Z",
     "iopub.status.busy": "2023-10-19T17:15:23.025502Z",
     "iopub.status.idle": "2023-10-19T17:15:23.037801Z",
     "shell.execute_reply": "2023-10-19T17:15:23.037317Z",
     "shell.execute_reply.started": "2023-10-19T17:15:23.026132Z"
    },
    "tags": []
   },
   "outputs": [
    {
     "data": {
      "text/html": [
       "<div><i>Table length=308</i>\n",
       "<table id=\"table140113867775504\" class=\"table-striped table-bordered table-condensed\">\n",
       "<thead><tr><th>band</th><th>ccdVisitId</th><th>coord_ra</th><th>coord_dec</th><th>objectId</th><th>psfFlux</th><th>psfFluxErr</th><th>psfMag</th><th>ccdVisitId2</th><th>band2</th><th>expMidptMJD</th><th>zeroPoint</th></tr></thead>\n",
       "<thead><tr><th></th><th></th><th>deg</th><th>deg</th><th></th><th>nJy</th><th>nJy</th><th></th><th></th><th></th><th>d</th><th>mag</th></tr></thead>\n",
       "<thead><tr><th>object</th><th>int64</th><th>float64</th><th>float64</th><th>int64</th><th>float64</th><th>float64</th><th>float64</th><th>int64</th><th>object</th><th>float64</th><th>float32</th></tr></thead>\n",
       "<tr><td>u</td><td>657566096</td><td>65.542979</td><td>-44.4804972</td><td>1251666444874161581</td><td>138.2361912</td><td>202.031862</td><td>26.048445601869453</td><td>657566096</td><td>u</td><td>60554.3617192</td><td>30.4855</td></tr>\n",
       "<tr><td>u</td><td>1188300038</td><td>65.542979</td><td>-44.4804972</td><td>1251666444874161581</td><td>-105.5126147</td><td>204.2033107</td><td>--</td><td>1188300038</td><td>u</td><td>61322.1869182</td><td>30.4754</td></tr>\n",
       "<tr><td>u</td><td>433068044</td><td>65.542979</td><td>-44.4804972</td><td>1251666444874161581</td><td>-380.7220338</td><td>225.7276988</td><td>--</td><td>433068044</td><td>u</td><td>60200.2513902</td><td>30.4746</td></tr>\n",
       "<tr><td>u</td><td>675212026</td><td>65.542979</td><td>-44.4804972</td><td>1251666444874161581</td><td>143.5799551</td><td>202.4577303</td><td>26.00726546703622</td><td>675212026</td><td>u</td><td>60582.2691412</td><td>30.4846</td></tr>\n",
       "<tr><td>u</td><td>235080134</td><td>65.542979</td><td>-44.4804972</td><td>1251666444874161581</td><td>-47.1410656</td><td>218.7650617</td><td>--</td><td>235080134</td><td>u</td><td>59904.0842892</td><td>30.4711</td></tr>\n",
       "<tr><td>y</td><td>665555134</td><td>65.542979</td><td>-44.4804972</td><td>1251666444874161581</td><td>3690.0580234</td><td>1160.272652</td><td>22.482417012079097</td><td>665555134</td><td>y</td><td>60568.2527142</td><td>30.6353</td></tr>\n",
       "<tr><td>u</td><td>1222587006</td><td>65.542979</td><td>-44.4804972</td><td>1251666444874161581</td><td>115.2526879</td><td>162.7796882</td><td>26.245872343229177</td><td>1222587006</td><td>u</td><td>61380.1373652</td><td>30.4838</td></tr>\n",
       "<tr><td>y</td><td>284044160</td><td>65.542979</td><td>-44.4804972</td><td>1251666444874161581</td><td>5979.9507374</td><td>1169.9466627</td><td>21.958255984244467</td><td>284044160</td><td>y</td><td>59980.1207112</td><td>30.6346</td></tr>\n",
       "<tr><td>y</td><td>1176230170</td><td>65.542979</td><td>-44.4804972</td><td>1251666444874161581</td><td>4892.5955849</td><td>1588.6368869</td><td>22.176151702325583</td><td>1176230170</td><td>y</td><td>61308.2361712</td><td>30.6214</td></tr>\n",
       "<tr><td>...</td><td>...</td><td>...</td><td>...</td><td>...</td><td>...</td><td>...</td><td>...</td><td>...</td><td>...</td><td>...</td><td>...</td></tr>\n",
       "<tr><td>i</td><td>1197945088</td><td>65.542979</td><td>-44.4804972</td><td>1251666444874161581</td><td>2492.7410163</td><td>234.7327503</td><td>22.908307100606212</td><td>1197945088</td><td>i</td><td>61334.2932602</td><td>31.8483</td></tr>\n",
       "<tr><td>i</td><td>276386104</td><td>65.542979</td><td>-44.4804972</td><td>1251666444874161581</td><td>2371.5208669</td><td>253.8208603</td><td>22.962432624146704</td><td>276386104</td><td>i</td><td>59967.1236362</td><td>31.8399</td></tr>\n",
       "<tr><td>i</td><td>731811134</td><td>65.542979</td><td>-44.4804972</td><td>1251666444874161581</td><td>2980.291453</td><td>338.9279882</td><td>22.714353156721895</td><td>731811134</td><td>i</td><td>60661.1846522</td><td>31.8538</td></tr>\n",
       "<tr><td>z</td><td>1174515025</td><td>65.542979</td><td>-44.4804972</td><td>1251666444874161581</td><td>5170.1771274</td><td>518.7532823</td><td>22.116236444907944</td><td>1174515025</td><td>z</td><td>61306.2828092</td><td>31.4588</td></tr>\n",
       "<tr><td>i</td><td>752190071</td><td>65.542979</td><td>-44.4804972</td><td>1251666444874161581</td><td>2373.1459387</td><td>314.9000126</td><td>22.961688884099246</td><td>752190071</td><td>i</td><td>60691.1593492</td><td>31.8527</td></tr>\n",
       "<tr><td>i</td><td>965383101</td><td>65.542979</td><td>-44.4804972</td><td>1251666444874161581</td><td>3115.8701858</td><td>268.7426972</td><td>22.666051610782638</td><td>965383101</td><td>i</td><td>61000.0822432</td><td>31.8404</td></tr>\n",
       "<tr><td>i</td><td>457779022</td><td>65.542979</td><td>-44.4804972</td><td>1251666444874161581</td><td>2587.0433252</td><td>274.0035939</td><td>22.867990745238277</td><td>457779022</td><td>i</td><td>60241.2648712</td><td>31.8486</td></tr>\n",
       "<tr><td>i</td><td>924069067</td><td>65.542979</td><td>-44.4804972</td><td>1251666444874161581</td><td>2518.8177504</td><td>254.3498959</td><td>22.897008137089372</td><td>924069067</td><td>i</td><td>60937.2561262</td><td>31.8435</td></tr>\n",
       "<tr><td>i</td><td>645622027</td><td>65.542979</td><td>-44.4804972</td><td>1251666444874161581</td><td>2024.7915886</td><td>364.6506355</td><td>23.13404917998626</td><td>645622027</td><td>i</td><td>60539.3654852</td><td>31.8439</td></tr>\n",
       "<tr><td>i</td><td>1165918105</td><td>65.542979</td><td>-44.4804972</td><td>1251666444874161581</td><td>2759.5270323</td><td>322.0968879</td><td>22.797913368083385</td><td>1165918105</td><td>i</td><td>61286.3653422</td><td>31.8383</td></tr>\n",
       "</table></div>"
      ],
      "text/plain": [
       "<Table length=308>\n",
       " band  ccdVisitId  coord_ra  coord_dec  ... band2   expMidptMJD  zeroPoint\n",
       "                     deg        deg     ...              d          mag   \n",
       "object   int64     float64    float64   ... object    float64     float32 \n",
       "------ ---------- --------- ----------- ... ------ ------------- ---------\n",
       "     u  657566096 65.542979 -44.4804972 ...      u 60554.3617192   30.4855\n",
       "     u 1188300038 65.542979 -44.4804972 ...      u 61322.1869182   30.4754\n",
       "     u  433068044 65.542979 -44.4804972 ...      u 60200.2513902   30.4746\n",
       "     u  675212026 65.542979 -44.4804972 ...      u 60582.2691412   30.4846\n",
       "     u  235080134 65.542979 -44.4804972 ...      u 59904.0842892   30.4711\n",
       "     y  665555134 65.542979 -44.4804972 ...      y 60568.2527142   30.6353\n",
       "     u 1222587006 65.542979 -44.4804972 ...      u 61380.1373652   30.4838\n",
       "     y  284044160 65.542979 -44.4804972 ...      y 59980.1207112   30.6346\n",
       "     y 1176230170 65.542979 -44.4804972 ...      y 61308.2361712   30.6214\n",
       "   ...        ...       ...         ... ...    ...           ...       ...\n",
       "     i 1197945088 65.542979 -44.4804972 ...      i 61334.2932602   31.8483\n",
       "     i  276386104 65.542979 -44.4804972 ...      i 59967.1236362   31.8399\n",
       "     i  731811134 65.542979 -44.4804972 ...      i 60661.1846522   31.8538\n",
       "     z 1174515025 65.542979 -44.4804972 ...      z 61306.2828092   31.4588\n",
       "     i  752190071 65.542979 -44.4804972 ...      i 60691.1593492   31.8527\n",
       "     i  965383101 65.542979 -44.4804972 ...      i 61000.0822432   31.8404\n",
       "     i  457779022 65.542979 -44.4804972 ...      i 60241.2648712   31.8486\n",
       "     i  924069067 65.542979 -44.4804972 ...      i 60937.2561262   31.8435\n",
       "     i  645622027 65.542979 -44.4804972 ...      i 60539.3654852   31.8439\n",
       "     i 1165918105 65.542979 -44.4804972 ...      i 61286.3653422   31.8383"
      ]
     },
     "execution_count": 52,
     "metadata": {},
     "output_type": "execute_result"
    }
   ],
   "source": [
    "srcs"
   ]
  },
  {
   "cell_type": "code",
   "execution_count": 53,
   "id": "1f9de3ed-82b8-419a-9528-561a10713166",
   "metadata": {
    "execution": {
     "iopub.execute_input": "2023-10-19T17:15:31.313604Z",
     "iopub.status.busy": "2023-10-19T17:15:31.312907Z",
     "iopub.status.idle": "2023-10-19T17:15:31.318183Z",
     "shell.execute_reply": "2023-10-19T17:15:31.317661Z",
     "shell.execute_reply.started": "2023-10-19T17:15:31.313581Z"
    },
    "tags": []
   },
   "outputs": [],
   "source": [
    "plot_filter_labels = ['u', 'g', 'r', 'i', 'z', 'y']\n",
    "plot_filter_colors = {'u': '#56b4e9', 'g': '#008060', 'r': '#ff4000',\n",
    "                      'i': '#850000', 'z': '#6600cc', 'y': '#000000'}\n",
    "plot_filter_symbols = {'u': 'o', 'g': '^', 'r': 'v', 'i': 's', 'z': '*', 'y': 'p'}\n",
    "\n",
    "pick = {}\n",
    "for filter in plot_filter_labels:\n",
    "    pick[filter] = (srcs['band'] == filter)"
   ]
  },
  {
   "cell_type": "code",
   "execution_count": 54,
   "id": "54671694-2a67-4218-ae07-02d8ab5c5501",
   "metadata": {
    "execution": {
     "iopub.execute_input": "2023-10-19T17:15:31.809573Z",
     "iopub.status.busy": "2023-10-19T17:15:31.808860Z",
     "iopub.status.idle": "2023-10-19T17:15:32.058243Z",
     "shell.execute_reply": "2023-10-19T17:15:32.057696Z",
     "shell.execute_reply.started": "2023-10-19T17:15:31.809549Z"
    },
    "tags": []
   },
   "outputs": [
    {
     "data": {
      "image/png": "[encoded data removed]",
      "text/plain": [
       "<Figure size 600x400 with 1 Axes>"
      ]
     },
     "metadata": {},
     "output_type": "display_data"
    }
   ],
   "source": [
    "fig = plt.figure(figsize=(6, 4))\n",
    "plt.plot(srcs[pick['r']]['expMidptMJD'], srcs[pick['r']]['psfMag'],\n",
    "         'k.', ms=10)\n",
    "plt.minorticks_on()\n",
    "plt.xlabel('MJD (days)')\n",
    "plt.ylabel('r')\n",
    "plt.gca().invert_yaxis()\n",
    "plt.show()"
   ]
  },
  {
   "cell_type": "code",
   "execution_count": null,
   "id": "48d8533e-7340-4ca8-ab23-870f19a62c29",
   "metadata": {},
   "outputs": [],
   "source": []
  },
  {
   "cell_type": "code",
   "execution_count": 44,
   "id": "fe55b63b-54ca-4ebe-97bb-2e769c4132f1",
   "metadata": {
    "execution": {
     "iopub.execute_input": "2023-10-12T21:37:06.173899Z",
     "iopub.status.busy": "2023-10-12T21:37:06.172844Z",
     "iopub.status.idle": "2023-10-12T21:37:07.290325Z",
     "shell.execute_reply": "2023-10-12T21:37:07.289403Z",
     "shell.execute_reply.started": "2023-10-12T21:37:06.173866Z"
    },
    "tags": []
   },
   "outputs": [
    {
     "name": "stdout",
     "output_type": "stream",
     "text": [
      "    id_truth_type       match_objectId         ra        dec\n",
      "0   41020661318_2  1250813223851033852  60.865609 -44.478279\n",
      "1   40969420415_2  1250813223851031684  60.879529 -44.509635\n",
      "2   41020665982_2  1250813223851004928  60.908793 -44.513800\n",
      "3   40966103623_2  1250804427757978807  61.202658 -44.627513\n",
      "4   40966079593_2  1250804427757981142  61.234926 -44.563318\n",
      "..            ...                  ...        ...        ...\n",
      "95  40969429799_2  1250813223851024952  61.062810 -44.626229\n",
      "96  40969429305_2  1250813223851001289  61.063021 -44.619922\n",
      "97  40745517912_2  1250813223851025053  61.103519 -44.625196\n",
      "98  40969427818_2  1250813223851001790  61.071665 -44.605357\n",
      "99  40966099692_2  1250813223851001837  61.075878 -44.603951\n",
      "\n",
      "[100 rows x 4 columns]\n"
     ]
    },
    {
     "ename": "NameError",
     "evalue": "name 'STOP' is not defined",
     "output_type": "error",
     "traceback": [
      "\u001b[0;31m---------------------------------------------------------------------------\u001b[0m",
      "\u001b[0;31mNameError\u001b[0m                                 Traceback (most recent call last)",
      "Cell \u001b[0;32mIn[44], line 7\u001b[0m\n\u001b[1;32m      5\u001b[0m     variable_stars \u001b[38;5;241m=\u001b[39m query_stars(ra_known_rrl, dec_known_rrl, search_radius, \u001b[38;5;241m100\u001b[39m)\n\u001b[1;32m      6\u001b[0m     \u001b[38;5;28mprint\u001b[39m(variable_stars)\n\u001b[0;32m----> 7\u001b[0m     \u001b[43mSTOP\u001b[49m\n\u001b[1;32m      8\u001b[0m     list_id\u001b[38;5;241m.\u001b[39mappend(variable_stars[\u001b[38;5;124m'\u001b[39m\u001b[38;5;124mmatch_objectId\u001b[39m\u001b[38;5;124m'\u001b[39m]\u001b[38;5;241m.\u001b[39mvalues[\u001b[38;5;241m0\u001b[39m])\n\u001b[1;32m     10\u001b[0m \u001b[38;5;28mprint\u001b[39m(list_id)\n",
      "\u001b[0;31mNameError\u001b[0m: name 'STOP' is not defined"
     ]
    }
   ],
   "source": [
    "# run the query a bunch of times\n",
    "search_radius = 0.000000000000000000000000000000001\n",
    "list_id = []\n",
    "for i in range(10):\n",
    "    variable_stars = query_stars(ra_known_rrl, dec_known_rrl, search_radius, 100)\n",
    "    print(variable_stars)\n",
    "    STOP\n",
    "    list_id.append(variable_stars['match_objectId'].values[0])\n",
    "    \n",
    "print(list_id)"
   ]
  },
  {
   "cell_type": "code",
   "execution_count": 10,
   "id": "fcb42f9f-267e-40ae-8e24-0be1e6551c23",
   "metadata": {
    "execution": {
     "iopub.execute_input": "2023-10-12T21:29:45.029748Z",
     "iopub.status.busy": "2023-10-12T21:29:45.029415Z",
     "iopub.status.idle": "2023-10-12T21:29:45.482062Z",
     "shell.execute_reply": "2023-10-12T21:29:45.480004Z",
     "shell.execute_reply.started": "2023-10-12T21:29:45.029701Z"
    }
   },
   "outputs": [
    {
     "ename": "NameError",
     "evalue": "name 'STOP' is not defined",
     "output_type": "error",
     "traceback": [
      "\u001b[0;31m---------------------------------------------------------------------------\u001b[0m",
      "\u001b[0;31mNameError\u001b[0m                                 Traceback (most recent call last)",
      "Cell \u001b[0;32mIn[10], line 1\u001b[0m\n\u001b[0;32m----> 1\u001b[0m \u001b[43mSTOP\u001b[49m\n",
      "\u001b[0;31mNameError\u001b[0m: name 'STOP' is not defined"
     ]
    }
   ],
   "source": [
    "STOP"
   ]
  },
  {
   "cell_type": "markdown",
   "id": "7efd312e-86a3-49e1-b1ea-e1714b32755a",
   "metadata": {},
   "source": [
    "### 2.1 Get Calexp images and Lightcurves\n",
    "\n",
    "How to create csv for Zooniverse flipbook\n",
    "\n",
    "https://help.zooniverse.org/getting-started/example/#details-subject-sets-and-manifest-details-aka-what-is-a-manifesthttps://help.zooniverse.org/getting-started/example/#details-subject-sets-and-manifest-details-aka-what-is-a-manifestCreate \n"
   ]
  },
  {
   "cell_type": "code",
   "execution_count": null,
   "id": "6e10e00b-227a-4a1a-9b3e-5b968ec0904d",
   "metadata": {
    "execution": {
     "iopub.status.busy": "2023-10-12T21:29:45.483182Z",
     "iopub.status.idle": "2023-10-12T21:29:45.483509Z",
     "shell.execute_reply": "2023-10-12T21:29:45.483384Z",
     "shell.execute_reply.started": "2023-10-12T21:29:45.483370Z"
    },
    "tags": []
   },
   "outputs": [],
   "source": [
    "def get_cutout_image(butler, ra_deg, dec_deg, visit, detector, band, cutoutSideLength, datasetType='calexp'):\n",
    "    \"\"\"\n",
    "    Get the cutout image information from butler. \n",
    "    This shoudl be followed by make_fig\n",
    "\n",
    "    Input Parameters\n",
    "    ----------\n",
    "    ra : ra of source in degrees\n",
    "    dec : dec of source in degrees\n",
    "    visit : visit id\n",
    "    detector : detector number\n",
    "    band : band to get cutput for\n",
    "    cutoutSideLength : size of the cutout\n",
    "    \n",
    "    Returns\n",
    "    ----------\n",
    "    Cutout image information\n",
    "    \"\"\"\n",
    "    cutoutSize = geom.ExtentI(cutoutSideLength, cutoutSideLength)\n",
    "    \n",
    "    radec = geom.SpherePoint(ra_deg,dec_deg, geom.degrees)\n",
    "    \n",
    "    dataId = {'visit': visit, 'detector': detector}  \n",
    "    calexp_wcs = butler.get('calexp.wcs', **dataId)\n",
    "    \n",
    "    print('calexp wcs: ', calexp_wcs)\n",
    "    \n",
    "    xy = geom.PointI(calexp_wcs.skyToPixel(radec))\n",
    "    bbox = geom.BoxI(xy - cutoutSize // 2, cutoutSize)\n",
    "    parameters = {'bbox': bbox}\n",
    "    print('xy: ',xy)\n",
    "    print('bbox: ',bbox)\n",
    "    \n",
    "    cutout_image = butler.get('calexp', parameters=parameters, **dataId)\n",
    "    \n",
    "    return cutout_image\n",
    "    \n",
    "    \n",
    "def make_calexp_fig(cutout_image, ra, dec, out_name):\n",
    "    \"\"\"\n",
    "    Create an image.\n",
    "    should be followed with remove_figure\n",
    "    \n",
    "    Parameters\n",
    "    ----------\n",
    "    cutout_image : cutout_image from butler.get\n",
    "    ra : ra of source in degrees\n",
    "    dec : dec of source in degrees\n",
    "    out_name : file name where you'd like to save it\n",
    "    \n",
    "    Returns\n",
    "    ----------\n",
    "    cutout image\n",
    "    \"\"\"\n",
    "    # fig = plt.figure(figsize=(4, 4))\n",
    "    # afw_display = afwDisplay.Display(frame=fig)\n",
    "    # afw_display.scale('asinh', 'zscale')\n",
    "    # afw_display.mtv(cutout_image.image)\n",
    "    \n",
    "#     cutout_wcs = cutout_image.getWcs()\n",
    "#     radec = geom.SpherePoint(ra, dec, geom.degrees)\n",
    "#     xy = geom.PointI(cutout_wcs.skyToPixel(radec))\n",
    "    \n",
    "#     afw_display.dot('x', xy.getX(), xy.getY(), size=1, ctype='orange')\n",
    "#     plt.gca().axis('off')\n",
    "#     plt.savefig(out_name)\n",
    "    \n",
    "    fig = plt.figure()\n",
    "    plt.subplot(projection=WCS(cutout_image.getWcs().getFitsMetadata()))\n",
    "    \n",
    "    #print('wcs ra: ', cutout_image.getWcs().getFitsMetadata()['CRVAL1'])\n",
    "    #print('wcs dec: ', cutout_image.getWcs().getFitsMetadata()['CRVAL2'])\n",
    "    \n",
    "    calexp_extent = (cutout_image.getBBox().beginX, cutout_image.getBBox().endX,\n",
    "                 cutout_image.getBBox().beginY, cutout_image.getBBox().endY)\n",
    "    im = plt.imshow(cutout_image.image.array, cmap='gray', vmin=-200.0, vmax=1000,\n",
    "                extent=calexp_extent, origin='lower')\n",
    "    plt.colorbar(location='right', anchor=(0, 0.1))\n",
    "    # plt.gca().axis('off')\n",
    "    plt.xlabel('Right Ascension')\n",
    "    plt.ylabel('Declination')\n",
    "    plt.savefig(out_name)\n",
    "    \n",
    "    return fig\n"
   ]
  },
  {
   "cell_type": "code",
   "execution_count": null,
   "id": "40bba49b-20f3-4633-b44b-8a49e9fa615b",
   "metadata": {
    "execution": {
     "iopub.status.busy": "2023-10-12T21:29:45.485011Z",
     "iopub.status.idle": "2023-10-12T21:29:45.485327Z",
     "shell.execute_reply": "2023-10-12T21:29:45.485211Z",
     "shell.execute_reply.started": "2023-10-12T21:29:45.485197Z"
    },
    "tags": []
   },
   "outputs": [],
   "source": [
    "plot_filter_symbols = {'u': 'o', 'g': '^', 'r': 'v', 'i': 's', 'z': '*', 'y': 'p'}\n",
    "plot_filter_labels = {'u':'u', 'g':'g', 'r':'r', 'i':'i', 'z':'z', 'y':'y'}\n",
    "plot_filter_colors = {'u': '#56b4e9', 'g': '#008060', 'r': '#ff4000',\n",
    "                      'i': '#850000', 'z': '#6600cc', 'y': '#000000'}\n",
    "def plotlc(bands, days, magnitudes, out_name):\n",
    "    \"\"\"\n",
    "    Create a light curve.\n",
    "\n",
    "    Input Parameters\n",
    "    ----------\n",
    "    days : dictionary for MJD in each band \n",
    "    magnitudes : dictionary for flux in each band\n",
    "    out_name : file name where you'd like to save it\n",
    "    \n",
    "    Returns\n",
    "    ----------\n",
    "    light curve image\n",
    "    \"\"\"\n",
    "\n",
    "    fig = plt.figure(figsize=(10,4))\n",
    "    for band in bands:\n",
    "        plt.plot(days[band], magnitudes[band] - np.mean(magnitudes[band]),\\\n",
    "                 plot_filter_symbols[band], ms=4, label=plot_filter_labels[band])\n",
    "    plt.minorticks_on()\n",
    "    plt.xlabel('MJD (days)')\n",
    "    plt.ylabel('magnitude')\n",
    "    plt.legend('upper right')\n",
    "    plt.legend()\n",
    "    plt.savefig(out_name)\n",
    "    return fig\n",
    "\n",
    "def remove_figure(fig):\n",
    "    \"\"\"\n",
    "    Remove a figure to reduce memory footprint.\n",
    "    Parameters\n",
    "    ----------\n",
    "    fig: matplotlib.figure.Figure\n",
    "        Figure to be removed.\n",
    "    Returns\n",
    "    -------\n",
    "    None\n",
    "    \"\"\"\n",
    "    # get the axes and clear their images\n",
    "    for ax in fig.get_axes():\n",
    "        for im in ax.get_images():\n",
    "            im.remove()\n",
    "    fig.clf()       # clear the figure\n",
    "    plt.close(fig)  # close the figure\n",
    "\n",
    "    gc.collect()    # call th"
   ]
  },
  {
   "cell_type": "code",
   "execution_count": null,
   "id": "4017ff1d-99de-4bad-b8e8-095d13482d63",
   "metadata": {
    "execution": {
     "iopub.status.busy": "2023-10-12T21:29:45.486471Z",
     "iopub.status.idle": "2023-10-12T21:29:45.486807Z",
     "shell.execute_reply": "2023-10-12T21:29:45.486635Z",
     "shell.execute_reply.started": "2023-10-12T21:29:45.486623Z"
    },
    "tags": []
   },
   "outputs": [],
   "source": [
    "stars_matchid = variable_stars['match_objectId'].to_numpy()\n",
    "stars_ra = variable_stars['ra'].to_numpy()\n",
    "stars_dec = variable_stars['dec'].to_numpy()\n",
    "\n",
    "df_row = []\n",
    "df_final = []\n",
    "\n",
    "fields_to_add = [\"sourceId\", \"coord_ra\", \"coord_dec\"] # fields to add to the maifest file\n",
    "\n",
    "for j, objid in enumerate(stars_matchid):\n",
    "# for j, objid in enumerate([\"1251270620688185329\"]):\n",
    "    cutouts = []\n",
    "    \n",
    "    figout_data = {\"sourceId\": stars_matchid[j]}\n",
    "    if \"coord_ra\" in fields_to_add:\n",
    "        figout_data[\"coord_ra\"] = stars_ra[j]\n",
    "    if \"coord_dec\" in fields_to_add:\n",
    "        figout_data[\"coord_dec\"] = stars_dec[j]\n",
    "    \n",
    "    # Query the variable star flux, detector and visit information\n",
    "    ccd_flux_table = query_flux(objid)\n",
    "    \n",
    "    # Get calexp images from Butler and plot them\n",
    "    idx_images = np.round(np.linspace(0, len(ccd_flux_table) - 1, num_variable_images)).astype(int)  #randomly select 5 images for each variable star\n",
    "    image_dict = {} \n",
    "    \n",
    "    for i,idx in enumerate(idx_images):\n",
    "        star_ra = ccd_flux_table['coord_ra'][idx]\n",
    "        star_dec = ccd_flux_table['coord_dec'][idx]\n",
    "        star_detector = ccd_flux_table['detector'][idx]\n",
    "        star_visitid = ccd_flux_table['visitId'][idx]\n",
    "        star_id = ccd_flux_table['objectId'][idx]\n",
    "        star_ccdid = ccd_flux_table['ccdVisitId'][idx]\n",
    "        \n",
    "        calexp_image = get_cutout_image(butler, star_ra, star_dec, star_visitid, star_detector, 'r', image_size, datasetType='calexp') # only r-band images \n",
    "        figout = make_calexp_fig(calexp_image, star_ra,star_dec,batch_dir+\"/images/\"+str(star_id)+\"_\"+str(star_ccdid)+\".png\")\n",
    "        remove_figure(figout)\n",
    "        \n",
    "        figout_data['location:image_'+str(i)] = str(star_id)+\"_\"+str(star_ccdid)+\".png\"\n",
    "        figout_data['filename'] = str(star_id)+\"_\"+str(star_ccdid)+\".png\"\n",
    "        \n",
    "    cutouts.append(figout_data)\n",
    "    \n",
    "    # manifest file\n",
    "    df_star = pd.DataFrame(data = cutouts, index=[0])\n",
    "    df_final.append(df_star)\n",
    "    \n",
    "    # flipbook data for each variable star\n",
    "    df = pd.DataFrame(data = image_dict, index=[0])\n",
    "    df_row.append(df)\n",
    "        \n",
    "    # Light curve for each variable star    \n",
    "    mjd_days, mags = utils.get_flux(ccd_flux_table)\n",
    "    figout = utils.plotlc(bands, mjd_days, mags, batch_dir+\"/lc_plots/\"+\"lc_\"+str(objid)+\".png\")\n",
    "    remove_figure(figout) \n",
    "    df_all_bands = []\n",
    "    for band in bands:\n",
    "        df = pd.DataFrame(data = {'band': [band]*len(mjd_days[band]), 'mjd_days': mjd_days[band], \\\n",
    "                          'mags': mags[band]}, index=None)\n",
    "        df_all_bands.append(df)\n",
    "    \n",
    "    df_final_lc = pd.concat(df_all_bands)\n",
    "    outfile = batch_dir+\"/text_files/\"+\"lc_\"+str(objid)+\".csv\"\n",
    "    df_final_lc.to_csv(outfile, index=False, sep=',')\n",
    "    \n",
    "df_manifest = pd.concat(df_final) # final manifest file with all variable stars\n",
    "outfile = batch_dir+\"images/manifest.csv\"\n",
    "df_manifest.to_csv(outfile, index=False, sep=',')\n"
   ]
  },
  {
   "cell_type": "markdown",
   "id": "bc11700a-5e27-4393-945e-fa235d0ef7dc",
   "metadata": {},
   "source": [
    "## Visualize the images we have saved\n",
    "Separating the two stars."
   ]
  },
  {
   "cell_type": "code",
   "execution_count": null,
   "id": "d3f3716a-82f8-41fd-b9f6-e7023b4e36cc",
   "metadata": {
    "execution": {
     "iopub.status.busy": "2023-10-12T21:29:45.488046Z",
     "iopub.status.idle": "2023-10-12T21:29:45.488336Z",
     "shell.execute_reply": "2023-10-12T21:29:45.488224Z",
     "shell.execute_reply.started": "2023-10-12T21:29:45.488211Z"
    },
    "tags": []
   },
   "outputs": [],
   "source": [
    "# go through your variable_stars_output/images\n",
    "# and make a figure\n",
    "\n",
    "image_dir = 'variable_stars_output/images/'\n",
    "star_name = np.zeros((query_num_stars, num_variable_images))\n",
    "star_name = []\n",
    "for i, id_star in enumerate(stars_matchid):\n",
    "    # go through and sort by ccdID so that they are in order of time\n",
    "    # DOUBLE CHECK THAT THIS IS TIME ORDER\n",
    "    ccdID_list = []\n",
    "    for j, file in enumerate(os.listdir(image_dir)):\n",
    "        if str.split(file,'.')[1] == 'png' and str.split(file,'_')[0] == str(id_star):\n",
    "            star_name.append(str(id_star)+'_'+str(int(str.split(str.split(file,'_')[1],'.')[0]))+'.png')\n",
    "\n",
    "# Okay now go through and plot each of these\n",
    "fig, axs = plt.subplots(1,5, figsize = (20,20))\n",
    "print('star', stars_matchid[0])\n",
    "for j in range(num_variable_images):\n",
    "    image = mpimg.imread(image_dir + star_name[j])\n",
    "    axs[j].imshow(image)\n",
    "    axs[j].axis('off')\n",
    "plt.show()\n",
    "\n",
    "fig, axs = plt.subplots(1,5, figsize = (20,20))\n",
    "print('star', stars_matchid[1])\n",
    "for j in range(num_variable_images):\n",
    "    image = mpimg.imread(image_dir + star_name[j+num_variable_images])\n",
    "    axs[j].imshow(image)\n",
    "    axs[j].axis('off')\n",
    "plt.show()\n"
   ]
  },
  {
   "cell_type": "code",
   "execution_count": null,
   "id": "0a53bb4f-7f78-4637-b193-723e25725d93",
   "metadata": {
    "execution": {
     "iopub.status.busy": "2023-10-12T21:29:45.489319Z",
     "iopub.status.idle": "2023-10-12T21:29:45.489588Z",
     "shell.execute_reply": "2023-10-12T21:29:45.489481Z",
     "shell.execute_reply.started": "2023-10-12T21:29:45.489469Z"
    },
    "tags": []
   },
   "outputs": [],
   "source": [
    "STOP"
   ]
  },
  {
   "cell_type": "code",
   "execution_count": null,
   "id": "d600c67b-2632-4873-a66b-bf1a09132438",
   "metadata": {
    "execution": {
     "iopub.status.busy": "2023-10-12T21:29:45.490787Z",
     "iopub.status.idle": "2023-10-12T21:29:45.491064Z",
     "shell.execute_reply": "2023-10-12T21:29:45.490950Z",
     "shell.execute_reply.started": "2023-10-12T21:29:45.490939Z"
    },
    "tags": []
   },
   "outputs": [],
   "source": [
    "# cutout_dir = batch_dir+\"images/\""
   ]
  },
  {
   "cell_type": "code",
   "execution_count": null,
   "id": "e6257c57-ac5d-40d9-86d7-014c95b0b930",
   "metadata": {
    "execution": {
     "iopub.status.busy": "2023-10-12T21:29:45.492104Z",
     "iopub.status.idle": "2023-10-12T21:29:45.492381Z",
     "shell.execute_reply": "2023-10-12T21:29:45.492277Z",
     "shell.execute_reply.started": "2023-10-12T21:29:45.492265Z"
    },
    "tags": []
   },
   "outputs": [],
   "source": [
    "# manifest_path = write_metadata_file(cutouts, cutout_dir)\n",
    "\n",
    "# print(\"The manifest CSV file can be found at the following relative path:\")\n",
    "# print(manifest_path)"
   ]
  },
  {
   "cell_type": "markdown",
   "id": "83fcc033-0d3b-49bc-a99d-5d1fa70102b0",
   "metadata": {},
   "source": [
    "## 3. Send data to Zooniverse"
   ]
  },
  {
   "cell_type": "code",
   "execution_count": null,
   "id": "7468587f-fa51-4266-96b2-364c7ff1eec4",
   "metadata": {
    "execution": {
     "iopub.status.busy": "2023-10-12T21:29:45.502520Z",
     "iopub.status.idle": "2023-10-12T21:29:45.503645Z",
     "shell.execute_reply": "2023-10-12T21:29:45.503410Z",
     "shell.execute_reply.started": "2023-10-12T21:29:45.503384Z"
    },
    "tags": []
   },
   "outputs": [],
   "source": [
    "cutout_dir = batch_dir+\"images/\""
   ]
  },
  {
   "cell_type": "code",
   "execution_count": null,
   "id": "c08f519a-0ff4-4c2b-9d73-1bf632c20db9",
   "metadata": {
    "execution": {
     "iopub.status.busy": "2023-10-12T21:29:45.504647Z",
     "iopub.status.idle": "2023-10-12T21:29:45.504993Z",
     "shell.execute_reply": "2023-10-12T21:29:45.504876Z",
     "shell.execute_reply.started": "2023-10-12T21:29:45.504861Z"
    },
    "tags": []
   },
   "outputs": [],
   "source": [
    "subject_set_name = \"test_flipbook\" "
   ]
  },
  {
   "cell_type": "code",
   "execution_count": null,
   "id": "970eefc1-592e-4d0a-b276-1463f20b0f7f",
   "metadata": {
    "execution": {
     "iopub.status.busy": "2023-10-12T21:29:45.507068Z",
     "iopub.status.idle": "2023-10-12T21:29:45.507469Z",
     "shell.execute_reply": "2023-10-12T21:29:45.507322Z",
     "shell.execute_reply.started": "2023-10-12T21:29:45.507305Z"
    },
    "tags": []
   },
   "outputs": [],
   "source": [
    "cit_sci_pipeline.send_image_data(subject_set_name, cutout_dir)"
   ]
  },
  {
   "cell_type": "code",
   "execution_count": null,
   "id": "2cfb8780-569f-489c-98ea-d750e568d325",
   "metadata": {},
   "outputs": [],
   "source": []
  }
 ],
 "metadata": {
  "kernelspec": {
   "display_name": "LSST",
   "language": "python",
   "name": "lsst"
  },
  "language_info": {
   "codemirror_mode": {
    "name": "ipython",
    "version": 3
   },
   "file_extension": ".py",
   "mimetype": "text/x-python",
   "name": "python",
   "nbconvert_exporter": "python",
   "pygments_lexer": "ipython3",
   "version": "3.11.4"
  }
 },
 "nbformat": 4,
 "nbformat_minor": 5
}
