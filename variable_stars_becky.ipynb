{
 "cells": [
  {
   "cell_type": "code",
   "execution_count": null,
   "id": "70e4ca51-ba7d-4875-aa35-3ca1280a5c55",
   "metadata": {
    "tags": []
   },
   "outputs": [],
   "source": [
    "# %load_ext pycodestyle_magic\n",
    "# %flake8_on\n",
    "# import logging\n",
    "# logging.getLogger(\"flake8\").setLevel(logging.FATAL)"
   ]
  },
  {
   "cell_type": "markdown",
   "id": "8fabc5dc-c078-4087-b377-21f36c9143d9",
   "metadata": {
    "tags": []
   },
   "source": [
    "<img align=\"left\" src = https://project.lsst.org/sites/default/files/Rubin-O-Logo_0.png width=250 style=\"padding: 10px\"> \n",
    "<b>Citizen Science Notebook</b> <br>\n",
    "Contact author: Becky Nevin<br>\n",
    "Last verified to run: 2024-01-04 <br>\n",
    "LSST Science Pipelines version: Weekly 2023_47 <br>\n",
    "Container size: small or medium <br>\n"
   ]
  },
  {
   "cell_type": "markdown",
   "id": "894cd71b-ff56-4f39-8288-5cc7ab45264c",
   "metadata": {
    "jp-MarkdownHeadingCollapsed": true,
    "tags": []
   },
   "source": [
    "**Description:**\n",
    "Query and send variable star images and light curves (CURRENTLY NOT DOING LCs) from RSP to Zooniverse"
   ]
  },
  {
   "cell_type": "markdown",
   "id": "e7007893-1008-4613-8e91-b2a2d265dfac",
   "metadata": {},
   "source": [
    "**Skills:** Use various TAP tables, including joining multiple tables. Get calexp images. Extract time-series photometry."
   ]
  },
  {
   "cell_type": "markdown",
   "id": "1a3a9956-ea47-4a31-934a-c8388581de54",
   "metadata": {},
   "source": [
    "**LSST Data Products:** TAP tables dp02_dc2_catalogs.MatchesTruth, TruthSummary, ForcedSource, CcdVisit<br>"
   ]
  },
  {
   "cell_type": "markdown",
   "id": "14ff42dd-a31d-43d2-93cb-7caa541993aa",
   "metadata": {},
   "source": [
    "**Packages:** astropy, lsst.daf.butler, lsst.afw.display, lsst.geom "
   ]
  },
  {
   "cell_type": "markdown",
   "id": "2d955084-1fa1-42da-b0b4-584321c62db4",
   "metadata": {},
   "source": [
    "**Credit:** Tutorial notebooks 03a, 04a, 04b, 07b, and 08"
   ]
  },
  {
   "cell_type": "markdown",
   "id": "4cbc905d-8e9b-4ff9-b95d-e17b9b668385",
   "metadata": {},
   "source": [
    "**Support:** Support is available and questions are welcome - (cscience@lsst.org)\n",
    "\n",
    "DEBUG VERSION note that this version of the notebook contains additional debugging and the first cell will need to be run once"
   ]
  },
  {
   "cell_type": "markdown",
   "id": "8f16c667-e2bb-4c82-9f96-af3b623810b2",
   "metadata": {},
   "source": [
    "## 1. Introduction <a class=\"anchor\" id=\"first-bullet\"></a>\n",
    "This notebook will guide you through the process of sending images of variable stars from the Rubin Science Platform (RSP) to the Zooniverse."
   ]
  },
  {
   "cell_type": "markdown",
   "id": "5db9ea7f-f436-4680-9202-a32099f81162",
   "metadata": {
    "execution": {
     "iopub.execute_input": "2023-10-12T20:19:10.007584Z",
     "iopub.status.busy": "2023-10-12T20:19:10.007224Z",
     "iopub.status.idle": "2023-10-12T20:19:10.011538Z",
     "shell.execute_reply": "2023-10-12T20:19:10.010761Z",
     "shell.execute_reply.started": "2023-10-12T20:19:10.007563Z"
    },
    "tags": []
   },
   "source": [
    "### 1.1 Package imports <a class=\"anchor\" id=\"second-bullet\"></a>"
   ]
  },
  {
   "cell_type": "markdown",
   "id": "9735d0b1-bfb4-4b40-9021-4703255a9ad4",
   "metadata": {},
   "source": [
    "#### Install Pipeline Package\n",
    "\n",
    "First, install the Rubin Citizen Science Pipeline package by doing the following:\n",
    "\n",
    "1. Open up a New Launcher tab\n",
    "2. In the \"Other\" section of the New Launcher tab, click \"Terminal\"\n",
    "3. Use `pip` to install the `rubin.citsci` package by entering the following command:\n",
    "```\n",
    "pip install rubin.citsci\n",
    "```\n",
    "4. Confirm the next cell containing `from rubin.citsci import pipeline` works as expected and does not throw an error"
   ]
  },
  {
   "cell_type": "markdown",
   "id": "25cbe3a5-d06c-4e46-93be-88bdfa9db88c",
   "metadata": {
    "execution": {
     "iopub.execute_input": "2023-10-12T18:31:22.519931Z",
     "iopub.status.busy": "2023-10-12T18:31:22.519629Z",
     "iopub.status.idle": "2023-10-12T18:31:25.674406Z",
     "shell.execute_reply": "2023-10-12T18:31:25.673427Z",
     "shell.execute_reply.started": "2023-10-12T18:31:22.519902Z"
    },
    "tags": []
   },
   "source": [
    "!pip install --upgrade --force-reinstall --no-deps rubin.citsci --quiet"
   ]
  },
  {
   "cell_type": "code",
   "execution_count": null,
   "id": "c1f949f7-b309-426f-8639-0120a3a7e4c1",
   "metadata": {},
   "outputs": [],
   "source": [
    "from rubin.citsci import pipeline"
   ]
  },
  {
   "cell_type": "code",
   "execution_count": null,
   "id": "843a7c50-8c33-417d-8d01-b02656361681",
   "metadata": {
    "tags": []
   },
   "outputs": [],
   "source": [
    "import utils # this is not currently used but will be used when we migrate some of the plotting functions to utils\n",
    "import matplotlib\n",
    "from matplotlib import image as mpimg\n",
    "import matplotlib.pyplot as plt\n",
    "import gc # this is only used in remove_figure\n",
    "import numpy as np\n",
    "import pandas as pd\n",
    "import os\n",
    "\n",
    "# astropy imports\n",
    "import astropy\n",
    "from astropy.wcs import WCS\n",
    "from astropy import units as u\n",
    "\n",
    "import lsst.geom as geom\n",
    "\n",
    "# image visualization routines\n",
    "import lsst.afw.display as afwDisplay\n",
    "# must explicitly set this to save figures\n",
    "afwDisplay.setDefaultBackend(\"matplotlib\")"
   ]
  },
  {
   "cell_type": "markdown",
   "id": "44f9d903-511b-42a9-b9ab-0d7d26d528db",
   "metadata": {},
   "source": [
    "### 1.2 Define functions and parameters <a class=\"anchor\" id=\"third-bullet\"></a>\n",
    "If you haven't already, [make a Zooniverse account](https://www.zooniverse.org/accounts/registerhttps://www.zooniverse.org/accounts/register) and create your project.\n",
    "\n",
    "IMPORTANT: Your Zooniverse project must be set to \"public\", a \"private\" project will not work. Select this setting under the \"Visibility\" tab, (it does not need to be set to live). \n",
    "\n",
    "\n",
    "A \"slug\" is the string of your Zooniverse username and your project name without the leading forward slash, for instance: \"username/project-name\". [Click here for more details](https://www.zooniverse.org/talk/18/967061?comment=1898157&page=1).\n"
   ]
  },
  {
   "cell_type": "code",
   "execution_count": null,
   "id": "72b03aec-f204-45ac-b1d0-e66abd36e90e",
   "metadata": {
    "tags": []
   },
   "outputs": [],
   "source": [
    "# %load_ext pycodestyle_magic\n",
    "# %flake8_on\n",
    "# import logging\n",
    "# logging.getLogger(\"flake8\").setLevel(logging.FATAL)\n",
    "email = \"beckynevin@gmail.com\"  \n",
    "slug_name = \"rebecca-dot-nevin/test-project\" \n",
    "\n",
    "print(\"Running utilities to establish a link with Zooniverse\")\n",
    "print(\"Enter your Zooniverse username followed by password below\")\n",
    "cit_sci_pipeline = pipeline.CitSciPipeline()\n",
    "cit_sci_pipeline.login_to_zooniverse(slug_name, email)"
   ]
  },
  {
   "cell_type": "markdown",
   "id": "3732cb8c-dd68-452c-b74c-748785b62a99",
   "metadata": {},
   "source": [
    "## 2. Make a subject set of a variable star to send to Zooniverse <a class=\"anchor\" id=\"fourth-bullet\"></a>\n",
    "A subject set is a collection of data (images, plots, etc) that are shown to citizen scientists. It is also the unit of data that is sent to Zooniverse.\n",
    "\n",
    "Here, we curate the subject set of objects to send to Zooniverse. This can be modified to create your own subject set. Your subject set must have 100 objects or less in the testing phase before your project is approved by the EPO Data Rights panel. \n",
    "\n",
    "This example makes one set of image cutouts of a confirmed variable star at five different moments in time."
   ]
  },
  {
   "cell_type": "markdown",
   "id": "694302cb-593a-4ed3-b640-ad2dcbc3f42e",
   "metadata": {},
   "source": [
    "### 2.1 Initialize Butler"
   ]
  },
  {
   "cell_type": "code",
   "execution_count": null,
   "id": "4ee439f4-2a67-48c6-b4c6-2642637b11c9",
   "metadata": {
    "tags": []
   },
   "outputs": [],
   "source": [
    "config = 'dp02'\n",
    "collection = '2.2i/runs/DP0.2'\n",
    "service, butler, skymap = utils.setup_butler(config, collection)"
   ]
  },
  {
   "cell_type": "markdown",
   "id": "fab874e2-58a0-4241-b1d6-dbacacf9c084",
   "metadata": {},
   "source": [
    "### 2.2 Familiarize yourself with the tables we'll be using\n",
    "This includes the DiaObject table and the ForcedSourceOnDiaObject table. Note that these are _difference_ image tables, created by identifying objects not present in the template deepcoadd images. For more information, see https://lse-163.lsst.io/.\n"
   ]
  },
  {
   "cell_type": "code",
   "execution_count": null,
   "id": "32e36a81-a506-486c-9d94-ae6c5aa3e828",
   "metadata": {},
   "outputs": [],
   "source": [
    "pd.set_option('display.max_rows', 200, 'display.max_colwidth', 1000)\n",
    "results_diaobject = service.search(\"SELECT column_name, datatype, description,\\\n",
    "                          unit from TAP_SCHEMA.columns\\\n",
    "                          WHERE table_name = 'dp02_dc2_catalogs.DiaObject'\")"
   ]
  },
  {
   "cell_type": "code",
   "execution_count": null,
   "id": "390f1669-256b-437c-a5b3-0411360e3673",
   "metadata": {},
   "outputs": [],
   "source": [
    "results_diaobject.to_table().to_pandas()"
   ]
  },
  {
   "cell_type": "markdown",
   "id": "52fbcbe4-a725-4fc5-adce-7330d0ec3b25",
   "metadata": {},
   "source": [
    "diaObjectId is the unique ID for each object in the table; note that these are different IDs from the ObjectId in the Object table. From https://lse-163.lsst.io/:\n",
    "\n",
    ">There is no direct DIASource-to-Object match: in general, a time-domain object is not necessarily the same astrophysical object as a static-sky object, even if the two are positionally coincident (eg. an asteroid overlapping a galaxy). Therefore, adopted data model emphasizes that having a DIASource be positionally coincident with an Object does not imply it is physically related to it. Absent other information, the least presumptuous data model relationship is one of positional association, not physical identity.\n",
    "\n",
    "We're currently lacking visit information, which we'll need for creating images of each visit. We can get from the ForcedSourceOnDiaObject table (below). "
   ]
  },
  {
   "cell_type": "code",
   "execution_count": null,
   "id": "ba0488dc-09d7-498e-a07e-87b568c03c98",
   "metadata": {},
   "outputs": [],
   "source": [
    "results_forceddiaobject = service.search(\"SELECT column_name, datatype, description,\\\n",
    "                          unit from TAP_SCHEMA.columns\\\n",
    "                          WHERE table_name = 'dp02_dc2_catalogs.ForcedSourceOnDiaObject'\")"
   ]
  },
  {
   "cell_type": "code",
   "execution_count": null,
   "id": "9e4af865-fd54-4d15-aff4-e5fde6571842",
   "metadata": {
    "scrolled": true
   },
   "outputs": [],
   "source": [
    "results_forceddiaobject.to_table().to_pandas()"
   ]
  },
  {
   "cell_type": "markdown",
   "id": "2a9e1f39-ac72-4740-8bc3-989d3a9c63ed",
   "metadata": {},
   "source": [
    "Finally, let's examine the CcdVisit catalog, which we will match with the ForcedSourceOnDiaObject catalog in order to retrieve timing information of when the exposure was taken."
   ]
  },
  {
   "cell_type": "code",
   "execution_count": null,
   "id": "5bce2ce0-ccd4-4c16-96ce-f0a1f513dc3f",
   "metadata": {},
   "outputs": [],
   "source": [
    "results_ccdvisit = service.search(\"SELECT column_name, datatype, description,\\\n",
    "                          unit from TAP_SCHEMA.columns\\\n",
    "                          WHERE table_name = 'dp02_dc2_catalogs.CcdVisit'\")"
   ]
  },
  {
   "cell_type": "code",
   "execution_count": null,
   "id": "ecd55eaa-999e-4e04-89bd-61235c132344",
   "metadata": {},
   "outputs": [],
   "source": [
    "results_ccdvisit.to_table().to_pandas()"
   ]
  },
  {
   "cell_type": "code",
   "execution_count": null,
   "id": "3fbc2679-d2b5-4361-88c7-975356aabf48",
   "metadata": {},
   "outputs": [],
   "source": [
    "del results_forceddiaobject, results_diaobject, results_ccdvisit"
   ]
  },
  {
   "cell_type": "markdown",
   "id": "f97239b1-4b94-49db-bf57-29342f706892",
   "metadata": {
    "execution": {
     "iopub.execute_input": "2023-10-19T16:40:19.538815Z",
     "iopub.status.busy": "2023-10-19T16:40:19.538133Z",
     "iopub.status.idle": "2023-10-19T16:40:19.542659Z",
     "shell.execute_reply": "2023-10-19T16:40:19.542017Z",
     "shell.execute_reply.started": "2023-10-19T16:40:19.538790Z"
    },
    "tags": []
   },
   "source": [
    "### 2.3 Do a search for variable stars\n",
    "We will perform this search by joining the three catalogs we explored above.\n",
    "\n",
    "For more details, please see the `DP02_07b_Variable_Star_Lightcurves.ipynb` notebook in the tutorial notebooks by Jeff Carlin and Ryan Lau. All the code in this section is derivative of that notebook.\n",
    "\n",
    "We are using the coordinates of a known variable star."
   ]
  },
  {
   "cell_type": "code",
   "execution_count": null,
   "id": "24663d2c-afff-4419-92ff-19da6bcfb45e",
   "metadata": {
    "tags": []
   },
   "outputs": [],
   "source": [
    "ra_known_rrl = 62.1479031\n",
    "dec_known_rrl = -35.799138"
   ]
  },
  {
   "cell_type": "markdown",
   "id": "b26adf5e-0f25-4bd1-b83e-dcfb56c4b077",
   "metadata": {},
   "source": [
    "This query will return a massive list of sources, some of which are repeat object IDs."
   ]
  },
  {
   "cell_type": "code",
   "execution_count": null,
   "id": "d75e0ed1-f327-439f-a663-c40c57e04c6b",
   "metadata": {},
   "outputs": [],
   "source": [
    "query = \"SELECT diao.diaObjectId, \"\\\n",
    "        \"fsodo.forcedSourceOnDiaObjectId, \"\\\n",
    "        \"diao.ra, diao.decl, \"\\\n",
    "        \"diao.gPSFluxNdata, \"\\\n",
    "        \"diao.gPSFluxStetsonJ, \"\\\n",
    "        \"diao.gTOTFluxMean, diao.gTOTFluxSigma, \"\\\n",
    "        \"scisql_nanojanskyToAbMag(fsodo.psfFlux) as psfMag, \"\\\n",
    "        \"fsodo.diaObjectId, \"\\\n",
    "        \"fsodo.ccdVisitId, fsodo.band, fsodo.psfFlux, fsodo.psfFluxErr, \"\\\n",
    "        \"fsodo.psfDiffFlux, fsodo.psfDiffFluxErr, \"\\\n",
    "        \"cv.expMidptMJD, cv.detector, cv.visitId, \"\\\n",
    "        \"scisql_nanojanskyToAbMag(fsodo.psfFlux) as fsodo_gmag \"\\\n",
    "        \"FROM dp02_dc2_catalogs.DiaObject as diao \"\\\n",
    "        \"JOIN dp02_dc2_catalogs.ForcedSourceOnDiaObject as fsodo \"\\\n",
    "        \"ON fsodo.diaObjectId = diao.diaObjectId \"\\\n",
    "        \"JOIN dp02_dc2_catalogs.CcdVisit as cv ON cv.ccdVisitId = fsodo.ccdVisitId \"\\\n",
    "        \"WHERE diao.gTOTFluxSigma/diao.gTOTFluxMean > 0.25 \"\\\n",
    "        \"AND diao.gTOTFluxSigma/diao.gTOTFluxMean < 1.25 \"\\\n",
    "        \"AND scisql_nanojanskyToAbMag(diao.gTOTFluxMean) > 18 \"\\\n",
    "        \"AND scisql_nanojanskyToAbMag(diao.gTOTFluxMean) < 23 \"\\\n",
    "        \"AND diao.gPSFluxNdata > 30 \"\\\n",
    "        \"AND diao.gPSFluxStetsonJ > 20 \"\\\n",
    "        \"AND CONTAINS(POINT('ICRS', diao.ra, diao.decl), \"\\\n",
    "        \"CIRCLE('ICRS',\"+str(ra_known_rrl)+\", \"+str(dec_known_rrl)+\", 5)) = 1 \"\n",
    "\n",
    "results = service.search(query)\n",
    "fsodo_sources = results.to_table()\n",
    "fsodo_sources "
   ]
  },
  {
   "cell_type": "markdown",
   "id": "f323fe39-792f-4a9e-97df-533d06b63cc6",
   "metadata": {},
   "source": [
    "List by unique source instead."
   ]
  },
  {
   "cell_type": "code",
   "execution_count": null,
   "id": "87f7e2fb-13a6-4d99-aba8-b13f20380520",
   "metadata": {
    "tags": []
   },
   "outputs": [],
   "source": [
    "unique_variables = astropy.table.unique(fsodo_sources,keys = 'diaObjectId')['diaObjectId','ra','decl','expMidptMJD','band','ccdVisitId','visitId', 'detector']\n",
    "unique_variables"
   ]
  },
  {
   "cell_type": "markdown",
   "id": "4d0e5f80-263e-423d-92d8-13716b645331",
   "metadata": {},
   "source": [
    "### 2.4 Select one variable star\n",
    "For the purposes of this tutorial, we will select one pre-ordained source. You can choose another, but be warned that many of these sources are not true variable stars."
   ]
  },
  {
   "cell_type": "code",
   "execution_count": null,
   "id": "7a118175-97a4-49c2-8a35-c7aa84c53d29",
   "metadata": {
    "tags": []
   },
   "outputs": [],
   "source": [
    "diaobjectID = 1567428592185376787\n",
    "selection = unique_variables[unique_variables[\"diaObjectId\"]==diaobjectID]\n",
    "ra = selection['ra'].value[0]\n",
    "dec = selection['decl'].value[0]\n",
    "print('ra and dec of variable star', ra, dec)"
   ]
  },
  {
   "cell_type": "markdown",
   "id": "64b70f34-ab99-4ae8-905e-6ce75f2c35af",
   "metadata": {},
   "source": [
    "### 2.5 Select some moments in time\n",
    "To do this, we'll need to go back to the original table to get all of the necessary information you need to plot a series of images, including visit information."
   ]
  },
  {
   "cell_type": "code",
   "execution_count": null,
   "id": "64dca590-d967-4359-b043-e37406a9817d",
   "metadata": {
    "tags": []
   },
   "outputs": [],
   "source": [
    "source = fsodo_sources[fsodo_sources[\"diaObjectId\"]==diaobjectID]['diaObjectId','ra','decl','ccdVisitId','visitId',\n",
    "                                                         'band','psfFlux','psfFluxErr',\n",
    "                                                         'expMidptMJD','detector','psfMag']\n",
    "source"
   ]
  },
  {
   "cell_type": "markdown",
   "id": "253c74f8-a8ed-4d00-97bd-be1842394508",
   "metadata": {},
   "source": [
    "Create a function that will select by band.\n"
   ]
  },
  {
   "cell_type": "code",
   "execution_count": null,
   "id": "7f9c63a3-eb79-45f7-8780-984c2ec64501",
   "metadata": {
    "tags": []
   },
   "outputs": [],
   "source": [
    "plot_filter_labels = ['u', 'g', 'r', 'i', 'z', 'y']\n",
    "plot_filter_colors = {'u': '#56b4e9', 'g': '#008060', 'r': '#ff4000',\n",
    "                      'i': '#850000', 'z': '#6600cc', 'y': '#000000'}\n",
    "plot_filter_symbols = {'u': 'o', 'g': '^', 'r': 'v', 'i': 's', 'z': '*', 'y': 'p'}\n",
    "\n",
    "pick = {}\n",
    "for filter in plot_filter_labels:\n",
    "    pick[filter] = (source['band'] == filter)"
   ]
  },
  {
   "cell_type": "markdown",
   "id": "90f88c2b-35db-472f-9fdf-89dad2f8605f",
   "metadata": {},
   "source": [
    "From now on, we'll only consider the r-band images."
   ]
  },
  {
   "cell_type": "code",
   "execution_count": null,
   "id": "c0458344-1501-424d-b8e8-6c6e7bf3eff2",
   "metadata": {
    "tags": []
   },
   "outputs": [],
   "source": [
    "# also select some key moments in time\n",
    "# begin by ordering by mjd\n",
    "print(type(source[pick['r']]))\n",
    "select_r = source[pick['r']]\n",
    "sorted_sources = select_r[select_r['expMidptMJD'].argsort()]\n",
    "sorted_sources\n",
    "\n"
   ]
  },
  {
   "cell_type": "markdown",
   "id": "079e8659-dc50-4661-a7dd-7c5f92c7a4bc",
   "metadata": {},
   "source": [
    "Select some random moments in time. Keep these the same to observe a change in brightness, or select your own [at your own risk]."
   ]
  },
  {
   "cell_type": "code",
   "execution_count": null,
   "id": "f18950f1-e525-4d15-a7d3-4f76d3b737a3",
   "metadata": {
    "tags": []
   },
   "outputs": [],
   "source": [
    "idx_select = [10,15,25,40,63]"
   ]
  },
  {
   "cell_type": "markdown",
   "id": "03e0ee39-8dbc-4ece-b449-bf8b83161e97",
   "metadata": {},
   "source": [
    "Show the selected moments against all dates."
   ]
  },
  {
   "cell_type": "code",
   "execution_count": null,
   "id": "b9cbd451-ce99-4044-a019-5af61b6206d9",
   "metadata": {
    "tags": []
   },
   "outputs": [],
   "source": [
    "fig = plt.figure(figsize=(6, 4))\n",
    "plt.plot(sorted_sources['expMidptMJD'], sorted_sources['psfMag'],\n",
    "         'k.', ms=10)\n",
    "plt.plot(sorted_sources[idx_select]['expMidptMJD'],\n",
    "         sorted_sources[idx_select]['psfMag'],\n",
    "         'r.', ms=10, label = 'selected calexp')\n",
    "plt.minorticks_on()\n",
    "plt.xlabel('MJD (days)')\n",
    "plt.ylabel('r')\n",
    "plt.gca().invert_yaxis()\n",
    "plt.legend(loc = 2)\n",
    "plt.show()"
   ]
  },
  {
   "cell_type": "raw",
   "id": "cd2cd4b0-2323-43fd-a7ea-9a1d7cc34073",
   "metadata": {},
   "source": [
    "# Work on this, basically utility to send lightcurve data to Zooniverse:\n",
    "# Light curve for each variable star    \n",
    "mjd_days, mags = utils.get_flux(sorted_sources)\n",
    "# ^ replace this with the table I already made:\n",
    "sorted_sources[idx_select]['expMidptMJD'],\n",
    "sorted_sources[idx_select]['psfMag']\n",
    "\n",
    "figout = utils.plotlc(bands, mjd_days, mags, batch_dir+\"/lc_plots/\"+\"lc_\"+str(objid)+\".png\")\n",
    "# replace this function with my own function that is not indexed by band, but I'm not yet sure about this\n",
    "remove_figure(figout) \n",
    "df_all_bands = []\n",
    "for band in bands:\n",
    "    df = pd.DataFrame(data = {'band': [band]*len(mjd_days[band]), 'mjd_days': mjd_days[band], \\\n",
    "                      'mags': mags[band]}, index=None)\n",
    "    df_all_bands.append(df)\n",
    "\n",
    "df_final_lc = pd.concat(df_all_bands)\n",
    "outfile = batch_dir+\"/text_files/\"+\"lc_\"+str(objid)+\".csv\"\n",
    "df_final_lc.to_csv(outfile, index=False, sep=',')\n"
   ]
  },
  {
   "cell_type": "markdown",
   "id": "9a251b99-fe4d-44e9-a588-ca9e553d9880",
   "metadata": {},
   "source": [
    "### 2.6 Save images"
   ]
  },
  {
   "cell_type": "code",
   "execution_count": null,
   "id": "6409ced7-4d23-49e5-acfd-463a27dcda85",
   "metadata": {
    "tags": []
   },
   "outputs": [],
   "source": [
    "def get_cutout_image(butler, ra_deg, dec_deg, visit, detector, cutoutSideLength):\n",
    "    \"\"\"\n",
    "    Get the cutout image information from butler.\n",
    "    Specifically for calexp datatype.\n",
    "    This should be followed by make_fig\n",
    "\n",
    "    Input Parameters\n",
    "    ----------\n",
    "    ra : ra of source in degrees\n",
    "    dec : dec of source in degrees\n",
    "    visit : visit id\n",
    "    detector : detector number\n",
    "    cutoutSideLength : size of the cutout\n",
    "    \n",
    "    Returns\n",
    "    ----------\n",
    "    Cutout image information\n",
    "    \"\"\"\n",
    "    cutoutSize = geom.ExtentI(cutoutSideLength, cutoutSideLength)\n",
    "    \n",
    "    radec = geom.SpherePoint(ra_deg, dec_deg, geom.degrees)\n",
    "    \n",
    "    dataId = {'visit': visit, 'detector': detector}  \n",
    "    calexp_wcs = butler.get('calexp.wcs', **dataId)\n",
    "    \n",
    "    print('calexp wcs: ', calexp_wcs)\n",
    "    \n",
    "    xy = geom.PointI(calexp_wcs.skyToPixel(radec))\n",
    "    bbox = geom.BoxI(xy - cutoutSize // 2, cutoutSize)\n",
    "    parameters = {'bbox': bbox}\n",
    "    print('xy: ', xy)\n",
    "    print('bbox: ', bbox)\n",
    "    \n",
    "    cutout_image = butler.get('calexp', parameters=parameters, **dataId)\n",
    "    return cutout_image\n",
    "\n",
    "def make_calexp_fig(cutout_image, out_name):\n",
    "    \"\"\"\n",
    "    Create an image.\n",
    "    should be followed with remove_figure\n",
    "    \n",
    "    Parameters\n",
    "    ----------\n",
    "    cutout_image : cutout_image from butler.get\n",
    "    ra : ra of source in degrees\n",
    "    dec : dec of source in degrees\n",
    "    out_name : file name where you'd like to save it\n",
    "    \n",
    "    Returns\n",
    "    ----------\n",
    "    cutout image\n",
    "    \"\"\"\n",
    "    # fig = plt.figure(figsize=(4, 4))\n",
    "    # afw_display = afwDisplay.Display(frame=fig)\n",
    "    # afw_display.scale('asinh', 'zscale')\n",
    "    # afw_display.mtv(cutout_image.image)\n",
    "    \n",
    "#     cutout_wcs = cutout_image.getWcs()\n",
    "#     radec = geom.SpherePoint(ra, dec, geom.degrees)\n",
    "#     xy = geom.PointI(cutout_wcs.skyToPixel(radec))\n",
    "    \n",
    "#     afw_display.dot('x', xy.getX(), xy.getY(), size=1, ctype='orange')\n",
    "#     plt.gca().axis('off')\n",
    "#     plt.savefig(out_name)\n",
    "    \n",
    "    fig = plt.figure()\n",
    "    plt.subplot(projection=WCS(cutout_image.getWcs().getFitsMetadata()))\n",
    "    \n",
    "    #print('wcs ra: ', cutout_image.getWcs().getFitsMetadata()['CRVAL1'])\n",
    "    #print('wcs dec: ', cutout_image.getWcs().getFitsMetadata()['CRVAL2'])\n",
    "    \n",
    "    calexp_extent = (cutout_image.getBBox().beginX, cutout_image.getBBox().endX,\n",
    "                 cutout_image.getBBox().beginY, cutout_image.getBBox().endY)\n",
    "    im = plt.imshow(abs(cutout_image.image.array), cmap='gray', \n",
    "                extent=calexp_extent, origin='lower', norm = matplotlib.colors.LogNorm(vmin=1e1, vmax = 1e5))#, vmax=5e4))\n",
    "    #im = plt.imshow(cutout_image.image.array, cmap='gray', vmin=-200.0, vmax=5000,\n",
    "    #            extent=calexp_extent, origin='lower')\n",
    "    plt.colorbar(location='right', anchor=(0, 0.1))\n",
    "    # plt.gca().axis('off')\n",
    "    plt.xlabel('Right Ascension')\n",
    "    plt.ylabel('Declination')\n",
    "    plt.savefig(out_name)\n",
    "    \n",
    "    return fig\n",
    "\n",
    "def remove_figure(fig):\n",
    "    \"\"\"\n",
    "    Remove a figure to reduce memory footprint.\n",
    "    Parameters\n",
    "    ----------\n",
    "    fig: matplotlib.figure.Figure\n",
    "        Figure to be removed.\n",
    "    Returns\n",
    "    -------\n",
    "    None\n",
    "    \"\"\"\n",
    "    # get the axes and clear their images\n",
    "    for ax in fig.get_axes():\n",
    "        for im in ax.get_images():\n",
    "            im.remove()\n",
    "    fig.clf()       # clear the figure\n",
    "    plt.close(fig)  # close the figure\n",
    "\n",
    "    gc.collect()    # call th"
   ]
  },
  {
   "cell_type": "code",
   "execution_count": null,
   "id": "c921f32c-6b16-4bb9-9c84-06e99a57d38e",
   "metadata": {
    "tags": []
   },
   "outputs": [],
   "source": [
    "# main directory\n",
    "batch_dir = './variable_stars_output/' \n",
    "\n",
    "'''\n",
    "star_id = diaobjectID # in sree's OG example, this was the object ID not the diaObjID, so maybe change\n",
    "star_ccdid = 662532066\n",
    "\n",
    "calexp_image = get_cutout_image(butler, 59.4814837, -37.7323315, 662532, 66, 'g', 50, datasetType='calexp')\n",
    "figout = make_calexp_fig(calexp_image, 59.4814837, -37.7323315, batch_dir+\"/images/\"+str(star_id)+\"_\"+str(star_ccdid)+\".png\")\n",
    "''' \n",
    "\n",
    "# \n",
    "figout_data = {\"sourceId\": diaobjectID}\n",
    "'''\n",
    "if \"coord_ra\" in fields_to_add:\n",
    "    figout_data[\"coord_ra\"] = stars_ra[j]\n",
    "if \"coord_dec\" in fields_to_add:\n",
    "    figout_data[\"coord_dec\"] = stars_dec[j]\n",
    "'''\n",
    "cutouts = []\n",
    "    \n",
    "for i, idx in enumerate(idx_select):\n",
    "    star_ra = sorted_sources['ra'][idx]\n",
    "    star_dec = sorted_sources['decl'][idx]\n",
    "    star_visitid = sorted_sources['visitId'][idx]\n",
    "    star_detector = sorted_sources['detector'][idx]\n",
    "    star_id = sorted_sources['diaObjectId'][idx] # WAS objectId\n",
    "    star_ccdid = sorted_sources['ccdVisitId'][idx]\n",
    "\n",
    "    calexp_image = get_cutout_image(butler,\n",
    "                                    star_ra,\n",
    "                                    star_dec,\n",
    "                                    star_visitid,\n",
    "                                    star_detector,\n",
    "                                    50) \n",
    "    figout = make_calexp_fig(calexp_image,\n",
    "                             batch_dir+\"/images/\"+str(star_id)+\"_\"+str(star_ccdid)+\".png\")\n",
    "    plt.show()\n",
    "    remove_figure(figout)\n",
    "    \n",
    "    \n",
    "    \n",
    "    figout_data['location:image_'+str(i)] = str(star_id)+\"_\"+str(star_ccdid)+\".png\"\n",
    "    figout_data['diaObjectId:image_'+str(i)] = str(star_id)\n",
    "    figout_data['filename'] = str(star_id)+\"_\"+str(star_ccdid)+\".png\"\n",
    "        \n",
    "#cutouts.append(figout_data)\n",
    "\n",
    "# manifest file\n",
    "df_manifest = pd.DataFrame(data = figout_data, index=[0])\n",
    "\n",
    "\n",
    "    \n",
    "#df_manifest = pd.concat(df_final) # final manifest file with all variable stars\n",
    "outfile = batch_dir+\"images/manifest.csv\"\n",
    "df_manifest.to_csv(outfile, index=False, sep=',')\n"
   ]
  },
  {
   "cell_type": "markdown",
   "id": "7b3c5259-62a5-4317-9285-8a2be2722032",
   "metadata": {},
   "source": [
    "### 2.7 Display images in notebook\n",
    "Do this using the image directory that you've already saved the images to: `variable_stars_output/images`"
   ]
  },
  {
   "cell_type": "code",
   "execution_count": null,
   "id": "c83790b5-4cae-489e-9d7e-592669f8a918",
   "metadata": {
    "tags": []
   },
   "outputs": [],
   "source": [
    "image_dir = 'variable_stars_output/images/'\n",
    "num_variable_images = 5\n",
    "stars_matchid_list = [diaobjectID]\n",
    "\n",
    "star_name = np.zeros((1, num_variable_images))\n",
    "star_name = []\n",
    "for i, id_star in enumerate(stars_matchid_list):\n",
    "    # go through and sort by ccdID so that they are in order of time\n",
    "    # DOUBLE CHECK THAT THIS IS TIME ORDER\n",
    "    ccdID_list = []\n",
    "    for j, file in enumerate(os.listdir(image_dir)):\n",
    "        if str.split(file,'.')[1] == 'png' and str.split(file,'_')[0] == str(id_star):\n",
    "            star_name.append(str(id_star)+'_'+str(int(str.split(str.split(file,'_')[1],'.')[0]))+'.png')\n",
    "\n",
    "# Okay now go through and plot each of these\n",
    "fig, axs = plt.subplots(1,5, figsize = (20,20))\n",
    "print('star', stars_matchid_list[0])\n",
    "for j in range(num_variable_images):\n",
    "    image = mpimg.imread(image_dir + star_name[j])\n",
    "    axs[j].imshow(image)#, norm = matplotlib.colors.LogNorm())\n",
    "    axs[j].axis('off')\n",
    "plt.show()\n",
    "\n",
    "try:\n",
    "    print('star', stars_matchid_list[1])\n",
    "    fig, axs = plt.subplots(1,5, figsize = (20,20))\n",
    "\n",
    "    for j in range(num_variable_images):\n",
    "        image = mpimg.imread(image_dir + star_name[j+num_variable_images])\n",
    "        axs[j].imshow(image)\n",
    "        axs[j].axis('off')\n",
    "    plt.show()\n",
    "\n",
    "except IndexError: # which will happen if you have only one star\n",
    "    print('only one star')\n"
   ]
  },
  {
   "cell_type": "markdown",
   "id": "8acbf9bb-6904-4638-8a2f-67f257a8ff74",
   "metadata": {},
   "source": [
    "The third and fifth image should be the brightest."
   ]
  },
  {
   "cell_type": "markdown",
   "id": "42ee7594-5b78-4913-8bc9-ed0203dc2d6a",
   "metadata": {},
   "source": [
    "### A word of caution\n",
    "Note that because we're using calexp images here, they have not been aligned like individual visits that are combined in a deepcoadd image. Therefore, the pixelscale is not guaranteed to be the same from one image to the next and the astrometry is not guaranteed to align. "
   ]
  },
  {
   "cell_type": "markdown",
   "id": "babaeadd-973c-4230-ae6e-55cc8b09cf94",
   "metadata": {},
   "source": [
    "## 3. Send manifest to Zooniverse"
   ]
  },
  {
   "cell_type": "code",
   "execution_count": null,
   "id": "7d3d7fbe-9178-4ce2-aea1-4e5a5d0d4b21",
   "metadata": {
    "tags": []
   },
   "outputs": [],
   "source": [
    "cutout_dir = batch_dir+\"images/\"\n",
    "subject_set_name = \"test_flipbook\" \n",
    "cit_sci_pipeline.send_image_data(subject_set_name, cutout_dir)"
   ]
  },
  {
   "cell_type": "code",
   "execution_count": null,
   "id": "51ce8712-9333-4594-8532-3c371b864758",
   "metadata": {},
   "outputs": [],
   "source": []
  }
 ],
 "metadata": {
  "kernelspec": {
   "display_name": "LSST",
   "language": "python",
   "name": "lsst"
  },
  "language_info": {
   "codemirror_mode": {
    "name": "ipython",
    "version": 3
   },
   "file_extension": ".py",
   "mimetype": "text/x-python",
   "name": "python",
   "nbconvert_exporter": "python",
   "pygments_lexer": "ipython3",
   "version": "3.11.4"
  }
 },
 "nbformat": 4,
 "nbformat_minor": 5
}
