{
 "cells": [
  {
   "cell_type": "code",
   "execution_count": null,
   "id": "70e4ca51-ba7d-4875-aa35-3ca1280a5c55",
   "metadata": {
    "tags": []
   },
   "outputs": [],
   "source": [
    "# %load_ext pycodestyle_magic\n",
    "# %flake8_on\n",
    "# import logging\n",
    "# logging.getLogger(\"flake8\").setLevel(logging.FATAL)"
   ]
  },
  {
   "cell_type": "markdown",
   "id": "8fabc5dc-c078-4087-b377-21f36c9143d9",
   "metadata": {
    "tags": []
   },
   "source": [
    "<img align=\"left\" src = https://project.lsst.org/sites/default/files/Rubin-O-Logo_0.png width=250 style=\"padding: 10px\"> \n",
    "<b>Citzen Science Notebook</b> <br>\n",
    "Contact author: Sreevani Jarugula and Becky Nevin<br>\n",
    "Last verified to run: 2023-04-20 <br>\n",
    "LSST Science Pipelines version: Weekly 2023_xx <br>\n",
    "Container size: medium <br>\n"
   ]
  },
  {
   "cell_type": "markdown",
   "id": "894cd71b-ff56-4f39-8288-5cc7ab45264c",
   "metadata": {
    "jp-MarkdownHeadingCollapsed": true,
    "tags": []
   },
   "source": [
    "**Description:**\n",
    "Query and send variable star images and light curves from RSP to Zooniverse"
   ]
  },
  {
   "cell_type": "markdown",
   "id": "e7007893-1008-4613-8e91-b2a2d265dfac",
   "metadata": {},
   "source": [
    "**Skills:** Use various TAP tables, including joining multiple tables. Get calexp images. Extract time-series photometry."
   ]
  },
  {
   "cell_type": "markdown",
   "id": "1a3a9956-ea47-4a31-934a-c8388581de54",
   "metadata": {},
   "source": [
    "**LSST Data Products:** TAP tables dp02_dc2_catalogs.MatchesTruth, TruthSummary, ForcedSource, CcdVisit<br>"
   ]
  },
  {
   "cell_type": "markdown",
   "id": "14ff42dd-a31d-43d2-93cb-7caa541993aa",
   "metadata": {},
   "source": [
    "**Packages:** astropy, lsst.rsp.get_tap_service, lsst.rsp.retrieve_query, lsst.daf.butler, lsst.afw.display, lsst.geom "
   ]
  },
  {
   "cell_type": "markdown",
   "id": "2d955084-1fa1-42da-b0b4-584321c62db4",
   "metadata": {},
   "source": [
    "**Credit:** Tutorial notebooks 03a, 04a, 04b, 07b, and 08"
   ]
  },
  {
   "cell_type": "markdown",
   "id": "4cbc905d-8e9b-4ff9-b95d-e17b9b668385",
   "metadata": {},
   "source": [
    "**Support:** Support is available and questions are welcome - (some email/link etc)\n",
    "\n",
    "DEBUG VERSION note that this version of the notebook contains additional debugging and the first cell will need to be run once"
   ]
  },
  {
   "cell_type": "markdown",
   "id": "8f16c667-e2bb-4c82-9f96-af3b623810b2",
   "metadata": {},
   "source": [
    "## 1. Introduction <a class=\"anchor\" id=\"first-bullet\"></a>\n",
    "This notebook will guide you through the process of sending variable star data from the Rubin Science Platform (RSP) to the Zooniverse.\n",
    "\n",
    "This notebook will restrict the number of object sent to the Zooniverse to one variable star over five exposures. This limit is intended to demonstrate your project prior to full approval from the education and public outreach (EPO) Data Rights Panel."
   ]
  },
  {
   "cell_type": "markdown",
   "id": "5db9ea7f-f436-4680-9202-a32099f81162",
   "metadata": {
    "execution": {
     "iopub.execute_input": "2023-10-12T20:19:10.007584Z",
     "iopub.status.busy": "2023-10-12T20:19:10.007224Z",
     "iopub.status.idle": "2023-10-12T20:19:10.011538Z",
     "shell.execute_reply": "2023-10-12T20:19:10.010761Z",
     "shell.execute_reply.started": "2023-10-12T20:19:10.007563Z"
    },
    "tags": []
   },
   "source": [
    "### 1.1 Package imports <a class=\"anchor\" id=\"second-bullet\"></a>"
   ]
  },
  {
   "cell_type": "markdown",
   "id": "9735d0b1-bfb4-4b40-9021-4703255a9ad4",
   "metadata": {},
   "source": [
    "#### Install Pipeline Package\n",
    "\n",
    "First, install the Rubin Citizen Science Pipeline package by doing the following:\n",
    "\n",
    "1. Open up a New Launcher tab\n",
    "2. In the \"Other\" section of the New Launcher tab, click \"Terminal\"\n",
    "3. Use `pip` to install the `rubin.citsci` package by entering the following command:\n",
    "```\n",
    "pip install rubin.citsci\n",
    "```\n",
    "4. Confirm the next cell containing `from rubin.citsci import pipeline` works as expected and does not throw an error"
   ]
  },
  {
   "cell_type": "markdown",
   "id": "25cbe3a5-d06c-4e46-93be-88bdfa9db88c",
   "metadata": {
    "execution": {
     "iopub.execute_input": "2023-10-12T18:31:22.519931Z",
     "iopub.status.busy": "2023-10-12T18:31:22.519629Z",
     "iopub.status.idle": "2023-10-12T18:31:25.674406Z",
     "shell.execute_reply": "2023-10-12T18:31:25.673427Z",
     "shell.execute_reply.started": "2023-10-12T18:31:22.519902Z"
    },
    "tags": []
   },
   "source": [
    "!pip install --upgrade --force-reinstall --no-deps rubin.citsci --quiet"
   ]
  },
  {
   "cell_type": "code",
   "execution_count": 1,
   "id": "843a7c50-8c33-417d-8d01-b02656361681",
   "metadata": {
    "execution": {
     "iopub.execute_input": "2023-11-09T14:49:52.357774Z",
     "iopub.status.busy": "2023-11-09T14:49:52.357606Z",
     "iopub.status.idle": "2023-11-09T14:49:54.653436Z",
     "shell.execute_reply": "2023-11-09T14:49:54.652787Z",
     "shell.execute_reply.started": "2023-11-09T14:49:52.357759Z"
    },
    "tags": []
   },
   "outputs": [],
   "source": [
    "import utils\n",
    "from matplotlib import image as mpimg\n",
    "import matplotlib.pyplot as plt\n",
    "import gc\n",
    "import numpy as np\n",
    "import pandas\n",
    "import pandas as pd\n",
    "import time\n",
    "import os\n",
    "\n",
    "# Astropy imports\n",
    "from astropy.wcs import WCS\n",
    "from astropy.visualization import make_lupton_rgb\n",
    "from astropy import units as u\n",
    "from astropy.coordinates import SkyCoord\n",
    "\n",
    "# Import the Rubin TAP service utilities\n",
    "from lsst.rsp import get_tap_service, retrieve_query\n",
    "\n",
    "# Image visualization routines.\n",
    "import lsst.afw.display as afwDisplay\n",
    "# The Butler provides programmatic access to LSST data products.\n",
    "from lsst.daf.butler import Butler\n",
    "# Geometry package\n",
    "import lsst.geom as geom\n",
    "# Object for multi-band exposures\n",
    "from lsst.afw.image import MultibandExposure\n",
    "\n",
    "import lsst.daf.butler as dafButler\n",
    "import lsst.geom\n",
    "import lsst.afw.display as afwDisplay\n",
    "\n",
    "# Must explicitly set this to save figures\n",
    "afwDisplay.setDefaultBackend(\"matplotlib\")\n"
   ]
  },
  {
   "cell_type": "markdown",
   "id": "44f9d903-511b-42a9-b9ab-0d7d26d528db",
   "metadata": {},
   "source": [
    "### 1.2 Define functions and parameters <a class=\"anchor\" id=\"third-bullet\"></a>\n",
    "If you haven't already, [create a Zooniverse account](https://www.zooniverse.org/accounts/registerhttps://www.zooniverse.org/accounts/register) and create your project.\n",
    "\n",
    "IMPORTANT: Your Zooniverse project must be set to \"public\", a \"private\" project will not work. Select this setting under the \"Visibility\" tab, (it does not need to be set to live). \n",
    "\n",
    "\n",
    "A \"slug\" is the string of your Zooniverse username and your project name without the leading forward slash, for instance: \"username/project-name\". [Click here for more details](https://www.zooniverse.org/talk/18/967061?comment=1898157&page=1).\n"
   ]
  },
  {
   "cell_type": "code",
   "execution_count": 2,
   "id": "72b03aec-f204-45ac-b1d0-e66abd36e90e",
   "metadata": {
    "execution": {
     "iopub.execute_input": "2023-11-09T14:49:55.711877Z",
     "iopub.status.busy": "2023-11-09T14:49:55.711537Z",
     "iopub.status.idle": "2023-11-09T14:50:01.500969Z",
     "shell.execute_reply": "2023-11-09T14:50:01.500134Z",
     "shell.execute_reply.started": "2023-11-09T14:49:55.711853Z"
    },
    "tags": []
   },
   "outputs": [
    {
     "name": "stdout",
     "output_type": "stream",
     "text": [
      "Loading and running utilities to establish a link with Zooniverse\n",
      "Enter your Zooniverse username followed by password below\n",
      "Enter your Zooniverse credentials...\n"
     ]
    },
    {
     "name": "stdin",
     "output_type": "stream",
     "text": [
      "Username:  rebecca.nevin\n",
      " ········\n"
     ]
    },
    {
     "name": "stdout",
     "output_type": "stream",
     "text": [
      "You now are logged in to the Zooniverse platform.\n"
     ]
    }
   ],
   "source": [
    "# %load_ext pycodestyle_magic\n",
    "# %flake8_on\n",
    "# import logging\n",
    "# logging.getLogger(\"flake8\").setLevel(logging.FATAL)\n",
    "email = \"beckynevin@gmail.com\"  \n",
    "# slug_name = \"sreevani/test-pcw23\" \n",
    "slug_name = \"rebecca-dot-nevin/test-project\" \n",
    "\n",
    "from rubin.citsci import pipeline\n",
    "print(\"Loading and running utilities to establish a link with Zooniverse\")\n",
    "print(\"Enter your Zooniverse username followed by password below\")\n",
    "cit_sci_pipeline = pipeline.CitSciPipeline()\n",
    "cit_sci_pipeline.login_to_zooniverse(slug_name, email)"
   ]
  },
  {
   "cell_type": "markdown",
   "id": "3732cb8c-dd68-452c-b74c-748785b62a99",
   "metadata": {},
   "source": [
    "## 2. Make a subject set of variable stars to send to Zooniverse <a class=\"anchor\" id=\"fourth-bullet\"></a>\n",
    "A subject set is a collection of data (images, plots, etc) that are shown to citizen scientists. It is also the unit of data that is sent to Zooniverse.\n",
    "\n",
    "Here, we curate the subject set of objects to send to Zooniverse. This can be modified to create your own subject set. Your subject set must have 100 objects or less in the testing phase before your project is approved by the EPO Data Rights panel. \n",
    "\n",
    "This example makes two sets of image cutouts of two different variable stars at different moments in time."
   ]
  },
  {
   "cell_type": "markdown",
   "id": "694302cb-593a-4ed3-b640-ad2dcbc3f42e",
   "metadata": {},
   "source": [
    "### 2.1 Initialize TAP and Butler"
   ]
  },
  {
   "cell_type": "code",
   "execution_count": 3,
   "id": "4ee439f4-2a67-48c6-b4c6-2642637b11c9",
   "metadata": {
    "execution": {
     "iopub.execute_input": "2023-11-09T14:50:04.505635Z",
     "iopub.status.busy": "2023-11-09T14:50:04.504754Z",
     "iopub.status.idle": "2023-11-09T14:50:07.779128Z",
     "shell.execute_reply": "2023-11-09T14:50:07.778330Z",
     "shell.execute_reply.started": "2023-11-09T14:50:04.505600Z"
    },
    "tags": []
   },
   "outputs": [],
   "source": [
    "config = 'dp02'\n",
    "collection = '2.2i/runs/DP0.2'\n",
    "service, butler, skymap = utils.setup_butler(config, collection)"
   ]
  },
  {
   "cell_type": "markdown",
   "id": "f97239b1-4b94-49db-bf57-29342f706892",
   "metadata": {
    "execution": {
     "iopub.execute_input": "2023-10-19T16:40:19.538815Z",
     "iopub.status.busy": "2023-10-19T16:40:19.538133Z",
     "iopub.status.idle": "2023-10-19T16:40:19.542659Z",
     "shell.execute_reply": "2023-10-19T16:40:19.542017Z",
     "shell.execute_reply.started": "2023-10-19T16:40:19.538790Z"
    },
    "tags": []
   },
   "source": [
    "## 2.2 Do a search for variable stars\n",
    "For more details, please see the `DP02_07b_Variable_Star_Lightcurves.ipynb` notebook in the tutorial notebooks by Jeff Carlin and Ryan Lau. All the code in this section is taken directly from that notebook."
   ]
  },
  {
   "cell_type": "code",
   "execution_count": 5,
   "id": "24663d2c-afff-4419-92ff-19da6bcfb45e",
   "metadata": {
    "execution": {
     "iopub.execute_input": "2023-11-09T14:50:44.538779Z",
     "iopub.status.busy": "2023-11-09T14:50:44.537995Z",
     "iopub.status.idle": "2023-11-09T14:50:44.542448Z",
     "shell.execute_reply": "2023-11-09T14:50:44.541751Z",
     "shell.execute_reply.started": "2023-11-09T14:50:44.538743Z"
    },
    "tags": []
   },
   "outputs": [],
   "source": [
    "ra_known_rrl = 62.1479031\n",
    "dec_known_rrl = -35.799138"
   ]
  },
  {
   "cell_type": "code",
   "execution_count": 7,
   "id": "f8a8a191-a430-49f5-b362-24a5bdbc865b",
   "metadata": {
    "execution": {
     "iopub.execute_input": "2023-11-09T14:51:32.968812Z",
     "iopub.status.busy": "2023-11-09T14:51:32.967883Z",
     "iopub.status.idle": "2023-11-09T14:51:34.982896Z",
     "shell.execute_reply": "2023-11-09T14:51:34.982310Z",
     "shell.execute_reply.started": "2023-11-09T14:51:32.968776Z"
    },
    "tags": []
   },
   "outputs": [],
   "source": [
    "query = \"SELECT diao.diaObjectId, fsodo.forcedSourceOnDiaObjectId, diao.ra, diao.decl, diao.nDiaSources, \"\\\n",
    "        \"diao.gPSFluxMin, diao.gPSFluxMax, diao.gPSFluxMean, diao.gPSFluxSigma, \"\\\n",
    "        \"diao.gPSFluxMAD, diao.gPSFluxChi2, diao.gPSFluxNdata, diao.gPSFluxSkew, \"\\\n",
    "        \"diao.gPSFluxStetsonJ, diao.gPSFluxPercentile05, diao.gPSFluxPercentile25, \"\\\n",
    "        \"diao.gPSFluxPercentile50, diao.gPSFluxPercentile75, diao.gPSFluxPercentile95, \"\\\n",
    "        \"diao.gTOTFluxMean, diao.gTOTFluxSigma, \"\\\n",
    "        \"scisql_nanojanskyToAbMag(fsodo.psfFlux) as psfMag, \"\\\n",
    "        \"scisql_nanojanskyToAbMag(diao.gTOTFluxMean) as diao_gmag, \"\\\n",
    "        \"fsodo.diaObjectId, \"\\\n",
    "        \"fsodo.ccdVisitId, fsodo.band, fsodo.psfFlux, fsodo.psfFluxErr, \"\\\n",
    "        \"fsodo.psfDiffFlux, fsodo.psfDiffFluxErr, \"\\\n",
    "        \"cv.expMidptMJD, cv.detector, cv.visitId, \"\\\n",
    "        \"scisql_nanojanskyToAbMag(fsodo.psfFlux) as fsodo_gmag \"\\\n",
    "        \"FROM dp02_dc2_catalogs.DiaObject as diao \"\\\n",
    "        \"JOIN dp02_dc2_catalogs.ForcedSourceOnDiaObject as fsodo \"\\\n",
    "        \"ON fsodo.diaObjectId = diao.diaObjectId \"\\\n",
    "        \"JOIN dp02_dc2_catalogs.CcdVisit as cv ON cv.ccdVisitId = fsodo.ccdVisitId \"\\\n",
    "        \"WHERE diao.gTOTFluxSigma/diao.gTOTFluxMean > 0.25 \"\\\n",
    "        \"AND diao.gTOTFluxSigma/diao.gTOTFluxMean < 1.25 \"\\\n",
    "        \"AND scisql_nanojanskyToAbMag(diao.gTOTFluxMean) > 18 \"\\\n",
    "        \"AND scisql_nanojanskyToAbMag(diao.gTOTFluxMean) < 23 \"\\\n",
    "        \"AND diao.gPSFluxNdata > 30 \"\\\n",
    "        \"AND diao.gPSFluxStetsonJ > 20 \"\\\n",
    "        \"AND CONTAINS(POINT('ICRS', diao.ra, diao.decl), \"\\\n",
    "        \"CIRCLE('ICRS',\"+str(ra_known_rrl)+\", \"+str(dec_known_rrl)+\", 5)) = 1 \"\n",
    "\n",
    "results = service.search(query)\n",
    "fsodo_sources = results.to_table()\n",
    "#        \"AND fsodo.band = 'r' \"\\"
   ]
  },
  {
   "cell_type": "code",
   "execution_count": 8,
   "id": "358017de-6e44-4716-b7f0-ca789845849b",
   "metadata": {
    "execution": {
     "iopub.execute_input": "2023-11-09T14:51:35.038952Z",
     "iopub.status.busy": "2023-11-09T14:51:35.038765Z",
     "iopub.status.idle": "2023-11-09T14:51:35.063756Z",
     "shell.execute_reply": "2023-11-09T14:51:35.063127Z",
     "shell.execute_reply.started": "2023-11-09T14:51:35.038936Z"
    },
    "tags": []
   },
   "outputs": [
    {
     "data": {
      "text/html": [
       "<div><i>Table length=5943</i>\n",
       "<table id=\"table140613370433936\" class=\"table-striped table-bordered table-condensed\">\n",
       "<thead><tr><th>diaObjectId</th><th>forcedSourceOnDiaObjectId</th><th>ra</th><th>decl</th><th>nDiaSources</th><th>gPSFluxMin</th><th>gPSFluxMax</th><th>gPSFluxMean</th><th>gPSFluxSigma</th><th>gPSFluxMAD</th><th>gPSFluxChi2</th><th>gPSFluxNdata</th><th>gPSFluxSkew</th><th>gPSFluxStetsonJ</th><th>gPSFluxPercentile05</th><th>gPSFluxPercentile25</th><th>gPSFluxPercentile50</th><th>gPSFluxPercentile75</th><th>gPSFluxPercentile95</th><th>gTOTFluxMean</th><th>gTOTFluxSigma</th><th>psfMag</th><th>diao_gmag</th><th>diaObjectId2</th><th>ccdVisitId</th><th>band</th><th>psfFlux</th><th>psfFluxErr</th><th>psfDiffFlux</th><th>psfDiffFluxErr</th><th>expMidptMJD</th><th>detector</th><th>visitId</th><th>fsodo_gmag</th></tr></thead>\n",
       "<thead><tr><th></th><th></th><th>deg</th><th>deg</th><th></th><th></th><th></th><th></th><th></th><th></th><th></th><th></th><th></th><th></th><th></th><th></th><th></th><th></th><th></th><th></th><th></th><th></th><th></th><th></th><th></th><th></th><th>nJy</th><th>nJy</th><th>nJy</th><th>nJy</th><th>d</th><th></th><th></th><th></th></tr></thead>\n",
       "<thead><tr><th>int64</th><th>int64</th><th>float64</th><th>float64</th><th>int64</th><th>float64</th><th>float64</th><th>float64</th><th>float64</th><th>float64</th><th>float64</th><th>float64</th><th>float64</th><th>float64</th><th>float64</th><th>float64</th><th>float64</th><th>float64</th><th>float64</th><th>float64</th><th>float64</th><th>float64</th><th>float64</th><th>int64</th><th>int64</th><th>object</th><th>float64</th><th>float64</th><th>float64</th><th>float64</th><th>float64</th><th>int64</th><th>int64</th><th>float64</th></tr></thead>\n",
       "<tr><td>1568246628836442456</td><td>523965696527302788</td><td>62.5202159</td><td>-37.8646632</td><td>65</td><td>-231238.5596173</td><td>-63982.1315316</td><td>-195068.1528673</td><td>39711.3970596</td><td>17195.6907164</td><td>525047.2219499</td><td>36.0</td><td>1.6418507</td><td>91.4001282</td><td>-228108.5128593</td><td>-217416.2130253</td><td>-205168.5635944</td><td>-179869.0456244</td><td>-105811.5180876</td><td>83186.8264416</td><td>33238.1246993</td><td>19.222124725289163</td><td>19.09986360905397</td><td>1568246628836442456</td><td>975962163</td><td>g</td><td>74327.6000001</td><td>216.3267878</td><td>-215645.6728267</td><td>365.7159771</td><td>61017.0802592</td><td>163</td><td>975962</td><td>19.222124725289163</td></tr>\n",
       "<tr><td>1568246628836442456</td><td>393933367449485892</td><td>62.5202159</td><td>-37.8646632</td><td>65</td><td>-231238.5596173</td><td>-63982.1315316</td><td>-195068.1528673</td><td>39711.3970596</td><td>17195.6907164</td><td>525047.2219499</td><td>36.0</td><td>1.6418507</td><td>91.4001282</td><td>-228108.5128593</td><td>-217416.2130253</td><td>-205168.5635944</td><td>-179869.0456244</td><td>-105811.5180876</td><td>83186.8264416</td><td>33238.1246993</td><td>19.30142020479181</td><td>19.09986360905397</td><td>1568246628836442456</td><td>733758076</td><td>r</td><td>69092.6608215</td><td>313.0964818</td><td>-69052.3725382</td><td>316.156856</td><td>60664.2220712</td><td>76</td><td>733758</td><td>19.30142020479181</td></tr>\n",
       "<tr><td>1568246628836442456</td><td>114628475578482803</td><td>62.5202159</td><td>-37.8646632</td><td>65</td><td>-231238.5596173</td><td>-63982.1315316</td><td>-195068.1528673</td><td>39711.3970596</td><td>17195.6907164</td><td>525047.2219499</td><td>36.0</td><td>1.6418507</td><td>91.4001282</td><td>-228108.5128593</td><td>-217416.2130253</td><td>-205168.5635944</td><td>-179869.0456244</td><td>-105811.5180876</td><td>83186.8264416</td><td>33238.1246993</td><td>20.0126751272677</td><td>19.09986360905397</td><td>1568246628836442456</td><td>213512174</td><td>r</td><td>35886.4045861</td><td>179.352487</td><td>-71783.2443365</td><td>220.6944894</td><td>59869.1428892</td><td>174</td><td>213512</td><td>20.0126751272677</td></tr>\n",
       "<tr><td>1568246628836442456</td><td>352425709358022863</td><td>62.5202159</td><td>-37.8646632</td><td>65</td><td>-231238.5596173</td><td>-63982.1315316</td><td>-195068.1528673</td><td>39711.3970596</td><td>17195.6907164</td><td>525047.2219499</td><td>36.0</td><td>1.6418507</td><td>91.4001282</td><td>-228108.5128593</td><td>-217416.2130253</td><td>-205168.5635944</td><td>-179869.0456244</td><td>-105811.5180876</td><td>83186.8264416</td><td>33238.1246993</td><td>18.771926472704102</td><td>19.09986360905397</td><td>1568246628836442456</td><td>656444038</td><td>r</td><td>112519.919016</td><td>316.8213959</td><td>-53596.2733289</td><td>320.1985512</td><td>60553.3014702</td><td>38</td><td>656444</td><td>18.771926472704102</td></tr>\n",
       "<tr><td>1568246628836442456</td><td>653493865700917892</td><td>62.5202159</td><td>-37.8646632</td><td>65</td><td>-231238.5596173</td><td>-63982.1315316</td><td>-195068.1528673</td><td>39711.3970596</td><td>17195.6907164</td><td>525047.2219499</td><td>36.0</td><td>1.6418507</td><td>91.4001282</td><td>-228108.5128593</td><td>-217416.2130253</td><td>-205168.5635944</td><td>-179869.0456244</td><td>-105811.5180876</td><td>83186.8264416</td><td>33238.1246993</td><td>18.59344527759115</td><td>19.09986360905397</td><td>1568246628836442456</td><td>1217227179</td><td>i</td><td>132623.9287466</td><td>463.9196128</td><td>-33355.6932164</td><td>503.5037466</td><td>61371.2975512</td><td>179</td><td>1217227</td><td>18.59344527759115</td></tr>\n",
       "<tr><td>1568246628836442456</td><td>547571358087774424</td><td>62.5202159</td><td>-37.8646632</td><td>65</td><td>-231238.5596173</td><td>-63982.1315316</td><td>-195068.1528673</td><td>39711.3970596</td><td>17195.6907164</td><td>525047.2219499</td><td>36.0</td><td>1.6418507</td><td>91.4001282</td><td>-228108.5128593</td><td>-217416.2130253</td><td>-205168.5635944</td><td>-179869.0456244</td><td>-105811.5180876</td><td>83186.8264416</td><td>33238.1246993</td><td>19.18611942374321</td><td>19.09986360905397</td><td>1568246628836442456</td><td>1019931134</td><td>g</td><td>76833.7854411</td><td>232.476888</td><td>-211960.3394762</td><td>290.3532703</td><td>61084.0886352</td><td>134</td><td>1019931</td><td>19.18611942374321</td></tr>\n",
       "<tr><td>1568246628836442456</td><td>289078219875811536</td><td>62.5202159</td><td>-37.8646632</td><td>65</td><td>-231238.5596173</td><td>-63982.1315316</td><td>-195068.1528673</td><td>39711.3970596</td><td>17195.6907164</td><td>525047.2219499</td><td>36.0</td><td>1.6418507</td><td>91.4001282</td><td>-228108.5128593</td><td>-217416.2130253</td><td>-205168.5635944</td><td>-179869.0456244</td><td>-105811.5180876</td><td>83186.8264416</td><td>33238.1246993</td><td>17.846329922693343</td><td>19.09986360905397</td><td>1568246628836442456</td><td>538450144</td><td>z</td><td>263917.40416</td><td>727.8902991</td><td>-101975.266412</td><td>739.6243968</td><td>60369.0417702</td><td>144</td><td>538450</td><td>17.846329922693343</td></tr>\n",
       "<tr><td>1568246628836442456</td><td>651374204851061684</td><td>62.5202159</td><td>-37.8646632</td><td>65</td><td>-231238.5596173</td><td>-63982.1315316</td><td>-195068.1528673</td><td>39711.3970596</td><td>17195.6907164</td><td>525047.2219499</td><td>36.0</td><td>1.6418507</td><td>91.4001282</td><td>-228108.5128593</td><td>-217416.2130253</td><td>-205168.5635944</td><td>-179869.0456244</td><td>-105811.5180876</td><td>83186.8264416</td><td>33238.1246993</td><td>16.621699016564765</td><td>19.09986360905397</td><td>1568246628836442456</td><td>1213279003</td><td>z</td><td>815305.5400181</td><td>1243.9395604</td><td>317024.5243769</td><td>1230.123994</td><td>61366.1436662</td><td>3</td><td>1213279</td><td>16.621699016564765</td></tr>\n",
       "<tr><td>1568246628836442456</td><td>491060881015177982</td><td>62.5202159</td><td>-37.8646632</td><td>65</td><td>-231238.5596173</td><td>-63982.1315316</td><td>-195068.1528673</td><td>39711.3970596</td><td>17195.6907164</td><td>525047.2219499</td><td>36.0</td><td>1.6418507</td><td>91.4001282</td><td>-228108.5128593</td><td>-217416.2130253</td><td>-205168.5635944</td><td>-179869.0456244</td><td>-105811.5180876</td><td>83186.8264416</td><td>33238.1246993</td><td>14.972997652724978</td><td>19.09986360905397</td><td>1568246628836442456</td><td>914672168</td><td>u</td><td>3722210.577292</td><td>4089.8533497</td><td>104220.0822686</td><td>4047.3628358</td><td>60911.2940102</td><td>168</td><td>914672</td><td>14.972997652724978</td></tr>\n",
       "<tr><td>...</td><td>...</td><td>...</td><td>...</td><td>...</td><td>...</td><td>...</td><td>...</td><td>...</td><td>...</td><td>...</td><td>...</td><td>...</td><td>...</td><td>...</td><td>...</td><td>...</td><td>...</td><td>...</td><td>...</td><td>...</td><td>...</td><td>...</td><td>...</td><td>...</td><td>...</td><td>...</td><td>...</td><td>...</td><td>...</td><td>...</td><td>...</td><td>...</td><td>...</td></tr>\n",
       "<tr><td>1824520799038472266</td><td>411786474367746069</td><td>67.7539568</td><td>-33.9679688</td><td>304</td><td>-5439.6512183</td><td>19811.699052</td><td>1917.0297762</td><td>8207.3593199</td><td>5174.8297725</td><td>62502.8863967</td><td>45.0</td><td>0.7177478</td><td>32.9946086</td><td>-4673.0904576</td><td>-3274.9653091</td><td>1838.6849064</td><td>10981.2835723</td><td>18940.4150809</td><td>36141.6619546</td><td>9467.0921704</td><td>19.4412658604507</td><td>20.004979701302933</td><td>1824520799038472266</td><td>767012079</td><td>i</td><td>60742.6389505</td><td>341.1394632</td><td>6751.3987167</td><td>334.7056115</td><td>60711.1173882</td><td>79</td><td>767012</td><td>19.4412658604507</td></tr>\n",
       "<tr><td>1824520799038472266</td><td>625888448200313697</td><td>67.7539568</td><td>-33.9679688</td><td>304</td><td>-5439.6512183</td><td>19811.699052</td><td>1917.0297762</td><td>8207.3593199</td><td>5174.8297725</td><td>62502.8863967</td><td>45.0</td><td>0.7177478</td><td>32.9946086</td><td>-4673.0904576</td><td>-3274.9653091</td><td>1838.6849064</td><td>10981.2835723</td><td>18940.4150809</td><td>36141.6619546</td><td>9467.0921704</td><td>19.727044071098575</td><td>20.004979701302933</td><td>1824520799038472266</td><td>1165808082</td><td>i</td><td>46685.5383889</td><td>456.3074121</td><td>-7591.3372417</td><td>457.1152324</td><td>61286.3109072</td><td>82</td><td>1165808</td><td>19.727044071098575</td></tr>\n",
       "<tr><td>1824520799038472266</td><td>551416946713690130</td><td>67.7539568</td><td>-33.9679688</td><td>304</td><td>-5439.6512183</td><td>19811.699052</td><td>1917.0297762</td><td>8207.3593199</td><td>5174.8297725</td><td>62502.8863967</td><td>45.0</td><td>0.7177478</td><td>32.9946086</td><td>-4673.0904576</td><td>-3274.9653091</td><td>1838.6849064</td><td>10981.2835723</td><td>18940.4150809</td><td>36141.6619546</td><td>9467.0921704</td><td>19.425482141494808</td><td>20.004979701302933</td><td>1824520799038472266</td><td>1027094101</td><td>r</td><td>61632.125209</td><td>302.015921</td><td>9793.7838103</td><td>302.3138962</td><td>61093.0899842</td><td>101</td><td>1027094</td><td>19.425482141494808</td></tr>\n",
       "<tr><td>1824520799038472266</td><td>228467057815978325</td><td>67.7539568</td><td>-33.9679688</td><td>304</td><td>-5439.6512183</td><td>19811.699052</td><td>1917.0297762</td><td>8207.3593199</td><td>5174.8297725</td><td>62502.8863967</td><td>45.0</td><td>0.7177478</td><td>32.9946086</td><td>-4673.0904576</td><td>-3274.9653091</td><td>1838.6849064</td><td>10981.2835723</td><td>18940.4150809</td><td>36141.6619546</td><td>9467.0921704</td><td>19.352087332388574</td><td>20.004979701302933</td><td>1824520799038472266</td><td>425553057</td><td>y</td><td>65942.4482281</td><td>1373.4332736</td><td>7560.7978945</td><td>1393.6619775</td><td>60184.2962112</td><td>57</td><td>425553</td><td>19.352087332388574</td></tr>\n",
       "<tr><td>1824520799038472266</td><td>347672865799144777</td><td>67.7539568</td><td>-33.9679688</td><td>304</td><td>-5439.6512183</td><td>19811.699052</td><td>1917.0297762</td><td>8207.3593199</td><td>5174.8297725</td><td>62502.8863967</td><td>45.0</td><td>0.7177478</td><td>32.9946086</td><td>-4673.0904576</td><td>-3274.9653091</td><td>1838.6849064</td><td>10981.2835723</td><td>18940.4150809</td><td>36141.6619546</td><td>9467.0921704</td><td>19.539905115430102</td><td>20.004979701302933</td><td>1824520799038472266</td><td>647591177</td><td>y</td><td>55467.4184881</td><td>1536.9905236</td><td>-3389.8641748</td><td>1551.9445122</td><td>60541.3278342</td><td>177</td><td>647591</td><td>19.539905115430102</td></tr>\n",
       "<tr><td>1824520799038472266</td><td>232514506683583741</td><td>67.7539568</td><td>-33.9679688</td><td>304</td><td>-5439.6512183</td><td>19811.699052</td><td>1917.0297762</td><td>8207.3593199</td><td>5174.8297725</td><td>62502.8863967</td><td>45.0</td><td>0.7177478</td><td>32.9946086</td><td>-4673.0904576</td><td>-3274.9653091</td><td>1838.6849064</td><td>10981.2835723</td><td>18940.4150809</td><td>36141.6619546</td><td>9467.0921704</td><td>22.09769662564828</td><td>20.004979701302933</td><td>1824520799038472266</td><td>433092018</td><td>u</td><td>5259.2201386</td><td>287.0458493</td><td>-2800.4745509</td><td>294.3312535</td><td>60200.2630292</td><td>18</td><td>433092</td><td>22.09769662564828</td></tr>\n",
       "<tr><td>1824520799038472266</td><td>631489665911750765</td><td>67.7539568</td><td>-33.9679688</td><td>304</td><td>-5439.6512183</td><td>19811.699052</td><td>1917.0297762</td><td>8207.3593199</td><td>5174.8297725</td><td>62502.8863967</td><td>45.0</td><td>0.7177478</td><td>32.9946086</td><td>-4673.0904576</td><td>-3274.9653091</td><td>1838.6849064</td><td>10981.2835723</td><td>18940.4150809</td><td>36141.6619546</td><td>9467.0921704</td><td>19.455383923804995</td><td>20.004979701302933</td><td>1824520799038472266</td><td>1176241163</td><td>y</td><td>59957.9023491</td><td>1701.8069837</td><td>1812.8071435</td><td>1718.2469992</td><td>61308.2410892</td><td>163</td><td>1176241</td><td>19.455383923804995</td></tr>\n",
       "<tr><td>1824520799038472266</td><td>252274129183440947</td><td>67.7539568</td><td>-33.9679688</td><td>304</td><td>-5439.6512183</td><td>19811.699052</td><td>1917.0297762</td><td>8207.3593199</td><td>5174.8297725</td><td>62502.8863967</td><td>45.0</td><td>0.7177478</td><td>32.9946086</td><td>-4673.0904576</td><td>-3274.9653091</td><td>1838.6849064</td><td>10981.2835723</td><td>18940.4150809</td><td>36141.6619546</td><td>9467.0921704</td><td>19.817510546771484</td><td>20.004979701302933</td><td>1824520799038472266</td><td>469897183</td><td>r</td><td>42953.2254296</td><td>252.3364806</td><td>-8711.9275207</td><td>253.733354</td><td>60265.1596682</td><td>183</td><td>469897</td><td>19.817510546771484</td></tr>\n",
       "<tr><td>1824520799038472266</td><td>640467757636255938</td><td>67.7539568</td><td>-33.9679688</td><td>304</td><td>-5439.6512183</td><td>19811.699052</td><td>1917.0297762</td><td>8207.3593199</td><td>5174.8297725</td><td>62502.8863967</td><td>45.0</td><td>0.7177478</td><td>32.9946086</td><td>-4673.0904576</td><td>-3274.9653091</td><td>1838.6849064</td><td>10981.2835723</td><td>18940.4150809</td><td>36141.6619546</td><td>9467.0921704</td><td>19.71800747614208</td><td>20.004979701302933</td><td>1824520799038472266</td><td>1192964162</td><td>r</td><td>47075.7241714</td><td>262.1795707</td><td>-4528.2909939</td><td>264.2011375</td><td>61328.1821992</td><td>162</td><td>1192964</td><td>19.71800747614208</td></tr>\n",
       "<tr><td>1824520799038472266</td><td>563374709043888772</td><td>67.7539568</td><td>-33.9679688</td><td>304</td><td>-5439.6512183</td><td>19811.699052</td><td>1917.0297762</td><td>8207.3593199</td><td>5174.8297725</td><td>62502.8863967</td><td>45.0</td><td>0.7177478</td><td>32.9946086</td><td>-4673.0904576</td><td>-3274.9653091</td><td>1838.6849064</td><td>10981.2835723</td><td>18940.4150809</td><td>36141.6619546</td><td>9467.0921704</td><td>19.28735260453908</td><td>20.004979701302933</td><td>1824520799038472266</td><td>1049367169</td><td>r</td><td>69993.7010367</td><td>340.703137</td><td>18247.7766525</td><td>342.1953728</td><td>61120.0419842</td><td>169</td><td>1049367</td><td>19.28735260453908</td></tr>\n",
       "</table></div>"
      ],
      "text/plain": [
       "<Table length=5943>\n",
       "    diaObjectId     forcedSourceOnDiaObjectId ... visitId     fsodo_gmag    \n",
       "                                              ...                           \n",
       "       int64                  int64           ...  int64       float64      \n",
       "------------------- ------------------------- ... ------- ------------------\n",
       "1568246628836442456        523965696527302788 ...  975962 19.222124725289163\n",
       "1568246628836442456        393933367449485892 ...  733758  19.30142020479181\n",
       "1568246628836442456        114628475578482803 ...  213512   20.0126751272677\n",
       "1568246628836442456        352425709358022863 ...  656444 18.771926472704102\n",
       "1568246628836442456        653493865700917892 ... 1217227  18.59344527759115\n",
       "1568246628836442456        547571358087774424 ... 1019931  19.18611942374321\n",
       "1568246628836442456        289078219875811536 ...  538450 17.846329922693343\n",
       "1568246628836442456        651374204851061684 ... 1213279 16.621699016564765\n",
       "1568246628836442456        491060881015177982 ...  914672 14.972997652724978\n",
       "                ...                       ... ...     ...                ...\n",
       "1824520799038472266        411786474367746069 ...  767012   19.4412658604507\n",
       "1824520799038472266        625888448200313697 ... 1165808 19.727044071098575\n",
       "1824520799038472266        551416946713690130 ... 1027094 19.425482141494808\n",
       "1824520799038472266        228467057815978325 ...  425553 19.352087332388574\n",
       "1824520799038472266        347672865799144777 ...  647591 19.539905115430102\n",
       "1824520799038472266        232514506683583741 ...  433092  22.09769662564828\n",
       "1824520799038472266        631489665911750765 ... 1176241 19.455383923804995\n",
       "1824520799038472266        252274129183440947 ...  469897 19.817510546771484\n",
       "1824520799038472266        640467757636255938 ... 1192964  19.71800747614208\n",
       "1824520799038472266        563374709043888772 ... 1049367  19.28735260453908"
      ]
     },
     "execution_count": 8,
     "metadata": {},
     "output_type": "execute_result"
    }
   ],
   "source": [
    "# this returns a massive list of sources, some of which are repeat object IDs\n",
    "fsodo_sources "
   ]
  },
  {
   "cell_type": "code",
   "execution_count": 10,
   "id": "87f7e2fb-13a6-4d99-aba8-b13f20380520",
   "metadata": {
    "execution": {
     "iopub.execute_input": "2023-11-09T14:52:18.657925Z",
     "iopub.status.busy": "2023-11-09T14:52:18.657236Z",
     "iopub.status.idle": "2023-11-09T14:52:18.684877Z",
     "shell.execute_reply": "2023-11-09T14:52:18.684327Z",
     "shell.execute_reply.started": "2023-11-09T14:52:18.657903Z"
    },
    "tags": []
   },
   "outputs": [
    {
     "data": {
      "text/html": [
       "<div><i>Table length=14</i>\n",
       "<table id=\"table140613360723920\" class=\"table-striped table-bordered table-condensed\">\n",
       "<thead><tr><th>diaObjectId</th><th>ra</th><th>decl</th><th>expMidptMJD</th><th>band</th><th>ccdVisitId</th><th>visitId</th><th>detector</th></tr></thead>\n",
       "<thead><tr><th></th><th>deg</th><th>deg</th><th>d</th><th></th><th></th><th></th><th></th></tr></thead>\n",
       "<thead><tr><th>int64</th><th>float64</th><th>float64</th><th>float64</th><th>object</th><th>int64</th><th>int64</th><th>int64</th></tr></thead>\n",
       "<tr><td>1567428592185376787</td><td>59.4814837</td><td>-37.7323315</td><td>61254.3419842</td><td>y</td><td>1141195101</td><td>1141195</td><td>101</td></tr>\n",
       "<tr><td>1567762843720221100</td><td>62.5202159</td><td>-37.8646632</td><td>60280.2057552</td><td>r</td><td>480303131</td><td>480303</td><td>131</td></tr>\n",
       "<tr><td>1568246628836442456</td><td>62.5202159</td><td>-37.8646632</td><td>61017.0802592</td><td>g</td><td>975962163</td><td>975962</td><td>163</td></tr>\n",
       "<tr><td>1568950316278219135</td><td>67.2951662</td><td>-38.4159654</td><td>60560.2826042</td><td>g</td><td>662526045</td><td>662526</td><td>45</td></tr>\n",
       "<tr><td>1569082257673552562</td><td>67.0155078</td><td>-37.8278368</td><td>59914.1755432</td><td>r</td><td>242558012</td><td>242558</td><td>12</td></tr>\n",
       "<tr><td>1569135034231685181</td><td>67.4679316</td><td>-37.6786425</td><td>60275.0778372</td><td>z</td><td>476393014</td><td>476393</td><td>14</td></tr>\n",
       "<tr><td>1651510445384663056</td><td>62.6536501</td><td>-35.9700212</td><td>60185.3811712</td><td>z</td><td>426670023</td><td>426670</td><td>23</td></tr>\n",
       "<tr><td>1651589610221862935</td><td>62.1479038</td><td>-35.7991348</td><td>60540.4073132</td><td>y</td><td>646739066</td><td>646739</td><td>66</td></tr>\n",
       "<tr><td>1651739143803240517</td><td>63.2476384</td><td>-36.91414</td><td>59598.1203542</td><td>z</td><td>13290022</td><td>13290</td><td>22</td></tr>\n",
       "<tr><td>1736208025095503982</td><td>60.2837917</td><td>-35.4042502</td><td>59791.3523622</td><td>g</td><td>159478145</td><td>159478</td><td>145</td></tr>\n",
       "<tr><td>1736726994583814254</td><td>63.2038071</td><td>-35.0137971</td><td>60263.0888352</td><td>r</td><td>468251181</td><td>468251</td><td>181</td></tr>\n",
       "<tr><td>1736858935979147676</td><td>62.9779365</td><td>-34.5801823</td><td>60952.1900982</td><td>y</td><td>936434020</td><td>936434</td><td>20</td></tr>\n",
       "<tr><td>1824520799038472266</td><td>67.7539568</td><td>-33.9679688</td><td>60944.2832322</td><td>i</td><td>930512049</td><td>930512</td><td>49</td></tr>\n",
       "<tr><td>1910977597353754906</td><td>59.6754867</td><td>-31.5396859</td><td>60597.2198172</td><td>i</td><td>687398091</td><td>687398</td><td>91</td></tr>\n",
       "</table></div>"
      ],
      "text/plain": [
       "<Table length=14>\n",
       "    diaObjectId         ra         decl    ... ccdVisitId visitId detector\n",
       "                       deg         deg     ...                            \n",
       "       int64         float64     float64   ...   int64     int64   int64  \n",
       "------------------- ---------- ----------- ... ---------- ------- --------\n",
       "1567428592185376787 59.4814837 -37.7323315 ... 1141195101 1141195      101\n",
       "1567762843720221100 62.5202159 -37.8646632 ...  480303131  480303      131\n",
       "1568246628836442456 62.5202159 -37.8646632 ...  975962163  975962      163\n",
       "1568950316278219135 67.2951662 -38.4159654 ...  662526045  662526       45\n",
       "1569082257673552562 67.0155078 -37.8278368 ...  242558012  242558       12\n",
       "1569135034231685181 67.4679316 -37.6786425 ...  476393014  476393       14\n",
       "1651510445384663056 62.6536501 -35.9700212 ...  426670023  426670       23\n",
       "1651589610221862935 62.1479038 -35.7991348 ...  646739066  646739       66\n",
       "1651739143803240517 63.2476384   -36.91414 ...   13290022   13290       22\n",
       "1736208025095503982 60.2837917 -35.4042502 ...  159478145  159478      145\n",
       "1736726994583814254 63.2038071 -35.0137971 ...  468251181  468251      181\n",
       "1736858935979147676 62.9779365 -34.5801823 ...  936434020  936434       20\n",
       "1824520799038472266 67.7539568 -33.9679688 ...  930512049  930512       49\n",
       "1910977597353754906 59.6754867 -31.5396859 ...  687398091  687398       91"
      ]
     },
     "execution_count": 10,
     "metadata": {},
     "output_type": "execute_result"
    }
   ],
   "source": [
    "# listing by unique source instead:\n",
    "import astropy\n",
    "unique_variables = astropy.table.unique(fsodo_sources,keys = 'diaObjectId')['diaObjectId','ra','decl','expMidptMJD','band','ccdVisitId','visitId', 'detector']\n",
    "unique_variables"
   ]
  },
  {
   "cell_type": "code",
   "execution_count": 11,
   "id": "7a118175-97a4-49c2-8a35-c7aa84c53d29",
   "metadata": {
    "execution": {
     "iopub.execute_input": "2023-11-09T14:52:29.366267Z",
     "iopub.status.busy": "2023-11-09T14:52:29.365614Z",
     "iopub.status.idle": "2023-11-09T14:52:29.371442Z",
     "shell.execute_reply": "2023-11-09T14:52:29.370954Z",
     "shell.execute_reply.started": "2023-11-09T14:52:29.366244Z"
    },
    "tags": []
   },
   "outputs": [
    {
     "name": "stdout",
     "output_type": "stream",
     "text": [
      "ra and dec of variable star 59.4814837 -37.7323315\n"
     ]
    }
   ],
   "source": [
    "# For this tutorial, we will select one such source but you can choose another\n",
    "diaobjectID = 1568950316278219135\n",
    "diaobjectID = 1910977597353754906\n",
    "diaobjectID = 1567428592185376787\n",
    "selection = unique_variables[unique_variables[\"diaObjectId\"]==diaobjectID]\n",
    "#selection = unique_variables\n",
    "ra = selection['ra'].value[0]\n",
    "dec = selection['decl'].value[0]\n",
    "print('ra and dec of variable star', ra, dec)"
   ]
  },
  {
   "cell_type": "markdown",
   "id": "64b70f34-ab99-4ae8-905e-6ce75f2c35af",
   "metadata": {},
   "source": [
    "### Now go back to the original table to get all of the information you need to plot a series of images"
   ]
  },
  {
   "cell_type": "code",
   "execution_count": 12,
   "id": "64dca590-d967-4359-b043-e37406a9817d",
   "metadata": {
    "execution": {
     "iopub.execute_input": "2023-11-09T14:52:36.687585Z",
     "iopub.status.busy": "2023-11-09T14:52:36.686921Z",
     "iopub.status.idle": "2023-11-09T14:52:36.705223Z",
     "shell.execute_reply": "2023-11-09T14:52:36.704774Z",
     "shell.execute_reply.started": "2023-11-09T14:52:36.687545Z"
    },
    "tags": []
   },
   "outputs": [
    {
     "data": {
      "text/html": [
       "<div><i>Table length=426</i>\n",
       "<table id=\"table140613362690576\" class=\"table-striped table-bordered table-condensed\">\n",
       "<thead><tr><th>diaObjectId</th><th>ra</th><th>decl</th><th>ccdVisitId</th><th>visitId</th><th>band</th><th>psfFlux</th><th>psfFluxErr</th><th>expMidptMJD</th><th>detector</th><th>psfMag</th></tr></thead>\n",
       "<thead><tr><th></th><th>deg</th><th>deg</th><th></th><th></th><th></th><th>nJy</th><th>nJy</th><th>d</th><th></th><th></th></tr></thead>\n",
       "<thead><tr><th>int64</th><th>float64</th><th>float64</th><th>int64</th><th>int64</th><th>object</th><th>float64</th><th>float64</th><th>float64</th><th>int64</th><th>float64</th></tr></thead>\n",
       "<tr><td>1567428592185376787</td><td>59.4814837</td><td>-37.7323315</td><td>1141195101</td><td>1141195</td><td>y</td><td>217274.9132152</td><td>1755.4059358</td><td>61254.3419842</td><td>101</td><td>18.05747603718028</td></tr>\n",
       "<tr><td>1567428592185376787</td><td>59.4814837</td><td>-37.7323315</td><td>1212153079</td><td>1212153</td><td>i</td><td>220985.9696981</td><td>590.3284039</td><td>61364.2925662</td><td>79</td><td>18.039088246512566</td></tr>\n",
       "<tr><td>1567428592185376787</td><td>59.4814837</td><td>-37.7323315</td><td>662532066</td><td>662532</td><td>g</td><td>196440.0949505</td><td>433.4549124</td><td>60560.2854312</td><td>66</td><td>18.16692466155384</td></tr>\n",
       "<tr><td>1567428592185376787</td><td>59.4814837</td><td>-37.7323315</td><td>909782131</td><td>909782</td><td>r</td><td>195614.2995458</td><td>482.6527048</td><td>60905.3085432</td><td>131</td><td>18.171498502873554</td></tr>\n",
       "<tr><td>1567428592185376787</td><td>59.4814837</td><td>-37.7323315</td><td>1047475123</td><td>1047475</td><td>z</td><td>275528.8518518</td><td>935.3058406</td><td>61118.0144062</td><td>123</td><td>17.799582293809436</td></tr>\n",
       "<tr><td>1567428592185376787</td><td>59.4814837</td><td>-37.7323315</td><td>904789050</td><td>904789</td><td>y</td><td>283345.1047675</td><td>1523.756618</td><td>60899.4044252</td><td>50</td><td>17.769210715195413</td></tr>\n",
       "<tr><td>1567428592185376787</td><td>59.4814837</td><td>-37.7323315</td><td>676185120</td><td>676185</td><td>r</td><td>209555.5588523</td><td>490.1820967</td><td>60583.3096732</td><td>120</td><td>18.09675203551415</td></tr>\n",
       "<tr><td>1567428592185376787</td><td>59.4814837</td><td>-37.7323315</td><td>266167081</td><td>266167</td><td>y</td><td>289677.4273541</td><td>1792.3334894</td><td>59950.1359082</td><td>81</td><td>17.74521336293549</td></tr>\n",
       "<tr><td>1567428592185376787</td><td>59.4814837</td><td>-37.7323315</td><td>712616167</td><td>712616</td><td>z</td><td>212876.3597708</td><td>971.9879835</td><td>60631.2606202</td><td>167</td><td>18.079681412293624</td></tr>\n",
       "<tr><td>...</td><td>...</td><td>...</td><td>...</td><td>...</td><td>...</td><td>...</td><td>...</td><td>...</td><td>...</td><td>...</td></tr>\n",
       "<tr><td>1567428592185376787</td><td>59.4814837</td><td>-37.7323315</td><td>1190764144</td><td>1190764</td><td>r</td><td>228148.0530925</td><td>503.5964312</td><td>61325.1986392</td><td>144</td><td>18.004458082347647</td></tr>\n",
       "<tr><td>1567428592185376787</td><td>59.4814837</td><td>-37.7323315</td><td>159478072</td><td>159478</td><td>g</td><td>200795.040048</td><td>436.6874465</td><td>59791.3523622</td><td>72</td><td>18.143117547871185</td></tr>\n",
       "<tr><td>1567428592185376787</td><td>59.4814837</td><td>-37.7323315</td><td>169765175</td><td>169765</td><td>y</td><td>213814.7877379</td><td>1544.6730327</td><td>59805.3167772</td><td>175</td><td>18.074905654145518</td></tr>\n",
       "<tr><td>1567428592185376787</td><td>59.4814837</td><td>-37.7323315</td><td>746710182</td><td>746710</td><td>r</td><td>213130.5902323</td><td>520.252893</td><td>60683.0936242</td><td>182</td><td>18.078385530857094</td></tr>\n",
       "<tr><td>1567428592185376787</td><td>59.4814837</td><td>-37.7323315</td><td>694227085</td><td>694227</td><td>r</td><td>370466.4429648</td><td>652.5324439</td><td>60605.3056322</td><td>85</td><td>17.478127811284775</td></tr>\n",
       "<tr><td>1567428592185376787</td><td>59.4814837</td><td>-37.7323315</td><td>221577055</td><td>221577</td><td>g</td><td>247069.1283442</td><td>471.4091477</td><td>59879.1834782</td><td>55</td><td>17.917953792376657</td></tr>\n",
       "<tr><td>1567428592185376787</td><td>59.4814837</td><td>-37.7323315</td><td>1006040075</td><td>1006040</td><td>r</td><td>282562.7844561</td><td>606.458324</td><td>61066.0831362</td><td>75</td><td>17.77221259604233</td></tr>\n",
       "<tr><td>1567428592185376787</td><td>59.4814837</td><td>-37.7323315</td><td>678520078</td><td>678520</td><td>i</td><td>232801.0218074</td><td>603.2965861</td><td>60586.1974142</td><td>78</td><td>17.982537794544832</td></tr>\n",
       "<tr><td>1567428592185376787</td><td>59.4814837</td><td>-37.7323315</td><td>496988175</td><td>496988</td><td>i</td><td>261463.3390347</td><td>693.5025242</td><td>60309.2285402</td><td>175</td><td>17.856472992336915</td></tr>\n",
       "<tr><td>1567428592185376787</td><td>59.4814837</td><td>-37.7323315</td><td>1174419009</td><td>1174419</td><td>z</td><td>223893.6004085</td><td>872.5982827</td><td>61306.2377172</td><td>9</td><td>18.024895799404312</td></tr>\n",
       "</table></div>"
      ],
      "text/plain": [
       "<Table length=426>\n",
       "    diaObjectId         ra         decl    ... detector       psfMag      \n",
       "                       deg         deg     ...                            \n",
       "       int64         float64     float64   ...  int64        float64      \n",
       "------------------- ---------- ----------- ... -------- ------------------\n",
       "1567428592185376787 59.4814837 -37.7323315 ...      101  18.05747603718028\n",
       "1567428592185376787 59.4814837 -37.7323315 ...       79 18.039088246512566\n",
       "1567428592185376787 59.4814837 -37.7323315 ...       66  18.16692466155384\n",
       "1567428592185376787 59.4814837 -37.7323315 ...      131 18.171498502873554\n",
       "1567428592185376787 59.4814837 -37.7323315 ...      123 17.799582293809436\n",
       "1567428592185376787 59.4814837 -37.7323315 ...       50 17.769210715195413\n",
       "1567428592185376787 59.4814837 -37.7323315 ...      120  18.09675203551415\n",
       "1567428592185376787 59.4814837 -37.7323315 ...       81  17.74521336293549\n",
       "1567428592185376787 59.4814837 -37.7323315 ...      167 18.079681412293624\n",
       "                ...        ...         ... ...      ...                ...\n",
       "1567428592185376787 59.4814837 -37.7323315 ...      144 18.004458082347647\n",
       "1567428592185376787 59.4814837 -37.7323315 ...       72 18.143117547871185\n",
       "1567428592185376787 59.4814837 -37.7323315 ...      175 18.074905654145518\n",
       "1567428592185376787 59.4814837 -37.7323315 ...      182 18.078385530857094\n",
       "1567428592185376787 59.4814837 -37.7323315 ...       85 17.478127811284775\n",
       "1567428592185376787 59.4814837 -37.7323315 ...       55 17.917953792376657\n",
       "1567428592185376787 59.4814837 -37.7323315 ...       75  17.77221259604233\n",
       "1567428592185376787 59.4814837 -37.7323315 ...       78 17.982537794544832\n",
       "1567428592185376787 59.4814837 -37.7323315 ...      175 17.856472992336915\n",
       "1567428592185376787 59.4814837 -37.7323315 ...        9 18.024895799404312"
      ]
     },
     "execution_count": 12,
     "metadata": {},
     "output_type": "execute_result"
    }
   ],
   "source": [
    "source = fsodo_sources[fsodo_sources[\"diaObjectId\"]==diaobjectID]['diaObjectId','ra','decl','ccdVisitId','visitId',\n",
    "                                                         'band','psfFlux','psfFluxErr',\n",
    "                                                         'expMidptMJD','detector','psfMag']\n",
    "source"
   ]
  },
  {
   "cell_type": "markdown",
   "id": "253c74f8-a8ed-4d00-97bd-be1842394508",
   "metadata": {},
   "source": [
    "## Is it possible to just use the info we already have to plot images?\n"
   ]
  },
  {
   "cell_type": "code",
   "execution_count": 24,
   "id": "7f9c63a3-eb79-45f7-8780-984c2ec64501",
   "metadata": {
    "execution": {
     "iopub.execute_input": "2023-11-09T15:17:06.588019Z",
     "iopub.status.busy": "2023-11-09T15:17:06.587065Z",
     "iopub.status.idle": "2023-11-09T15:17:06.593756Z",
     "shell.execute_reply": "2023-11-09T15:17:06.593059Z",
     "shell.execute_reply.started": "2023-11-09T15:17:06.587991Z"
    },
    "tags": []
   },
   "outputs": [],
   "source": [
    "plot_filter_labels = ['u', 'g', 'r', 'i', 'z', 'y']\n",
    "plot_filter_colors = {'u': '#56b4e9', 'g': '#008060', 'r': '#ff4000',\n",
    "                      'i': '#850000', 'z': '#6600cc', 'y': '#000000'}\n",
    "plot_filter_symbols = {'u': 'o', 'g': '^', 'r': 'v', 'i': 's', 'z': '*', 'y': 'p'}\n",
    "\n",
    "pick = {}\n",
    "for filter in plot_filter_labels:\n",
    "    pick[filter] = (source['band'] == filter)"
   ]
  },
  {
   "cell_type": "code",
   "execution_count": 53,
   "id": "c0458344-1501-424d-b8e8-6c6e7bf3eff2",
   "metadata": {
    "execution": {
     "iopub.execute_input": "2023-11-09T15:31:04.142193Z",
     "iopub.status.busy": "2023-11-09T15:31:04.141237Z",
     "iopub.status.idle": "2023-11-09T15:31:04.162438Z",
     "shell.execute_reply": "2023-11-09T15:31:04.161595Z",
     "shell.execute_reply.started": "2023-11-09T15:31:04.142160Z"
    },
    "tags": []
   },
   "outputs": [
    {
     "name": "stdout",
     "output_type": "stream",
     "text": [
      "<class 'astropy.table.table.Table'>\n"
     ]
    },
    {
     "data": {
      "text/html": [
       "<div><i>Table length=109</i>\n",
       "<table id=\"table140612757878736\" class=\"table-striped table-bordered table-condensed\">\n",
       "<thead><tr><th>diaObjectId</th><th>ra</th><th>decl</th><th>ccdVisitId</th><th>visitId</th><th>band</th><th>psfFlux</th><th>psfFluxErr</th><th>expMidptMJD</th><th>detector</th><th>psfMag</th></tr></thead>\n",
       "<thead><tr><th></th><th>deg</th><th>deg</th><th></th><th></th><th></th><th>nJy</th><th>nJy</th><th>d</th><th></th><th></th></tr></thead>\n",
       "<thead><tr><th>int64</th><th>float64</th><th>float64</th><th>int64</th><th>int64</th><th>object</th><th>float64</th><th>float64</th><th>float64</th><th>int64</th><th>float64</th></tr></thead>\n",
       "<tr><td>1567428592185376787</td><td>59.4814837</td><td>-37.7323315</td><td>40327030</td><td>40327</td><td>r</td><td>258575.9147688</td><td>535.0198784</td><td>59634.0870892</td><td>30</td><td>17.86852982557396</td></tr>\n",
       "<tr><td>1567428592185376787</td><td>59.4814837</td><td>-37.7323315</td><td>193147032</td><td>193147</td><td>r</td><td>207715.9826285</td><td>497.251246</td><td>59839.3340712</td><td>32</td><td>18.10632521388235</td></tr>\n",
       "<tr><td>1567428592185376787</td><td>59.4814837</td><td>-37.7323315</td><td>193148018</td><td>193148</td><td>r</td><td>208104.7777051</td><td>490.872577</td><td>59839.3345202</td><td>18</td><td>18.1042948726672</td></tr>\n",
       "<tr><td>1567428592185376787</td><td>59.4814837</td><td>-37.7323315</td><td>193187002</td><td>193187</td><td>r</td><td>202320.5385648</td><td>491.5006487</td><td>59839.3530702</td><td>2</td><td>18.134900068992444</td></tr>\n",
       "<tr><td>1567428592185376787</td><td>59.4814837</td><td>-37.7323315</td><td>193848097</td><td>193848</td><td>r</td><td>232671.7968929</td><td>499.4616498</td><td>59840.2471442</td><td>97</td><td>17.983140640366102</td></tr>\n",
       "<tr><td>1567428592185376787</td><td>59.4814837</td><td>-37.7323315</td><td>202591070</td><td>202591</td><td>r</td><td>380253.6030788</td><td>636.4953924</td><td>59854.2787212</td><td>70</td><td>17.44981665528585</td></tr>\n",
       "<tr><td>1567428592185376787</td><td>59.4814837</td><td>-37.7323315</td><td>202617009</td><td>202617</td><td>r</td><td>379673.378463</td><td>646.3810577</td><td>59854.2941412</td><td>9</td><td>17.451474632986304</td></tr>\n",
       "<tr><td>1567428592185376787</td><td>59.4814837</td><td>-37.7323315</td><td>202618104</td><td>202618</td><td>r</td><td>379051.7059444</td><td>643.7650345</td><td>59854.2945992</td><td>104</td><td>17.45325386113064</td></tr>\n",
       "<tr><td>1567428592185376787</td><td>59.4814837</td><td>-37.7323315</td><td>212116062</td><td>212116</td><td>r</td><td>238249.8093717</td><td>539.5737152</td><td>59867.2380492</td><td>62</td><td>17.957418595442366</td></tr>\n",
       "<tr><td>...</td><td>...</td><td>...</td><td>...</td><td>...</td><td>...</td><td>...</td><td>...</td><td>...</td><td>...</td><td>...</td></tr>\n",
       "<tr><td>1567428592185376787</td><td>59.4814837</td><td>-37.7323315</td><td>1193691153</td><td>1193691</td><td>r</td><td>221437.5773201</td><td>508.4933905</td><td>61329.1386152</td><td>153</td><td>18.036871696696657</td></tr>\n",
       "<tr><td>1567428592185376787</td><td>59.4814837</td><td>-37.7323315</td><td>1193692006</td><td>1193692</td><td>r</td><td>221247.5399783</td><td>507.7920909</td><td>61329.1390632</td><td>6</td><td>18.037803873663357</td></tr>\n",
       "<tr><td>1567428592185376787</td><td>59.4814837</td><td>-37.7323315</td><td>1193728006</td><td>1193728</td><td>r</td><td>217998.6169585</td><td>501.4844277</td><td>61329.1557322</td><td>6</td><td>18.053865654167353</td></tr>\n",
       "<tr><td>1567428592185376787</td><td>59.4814837</td><td>-37.7323315</td><td>1218475141</td><td>1218475</td><td>r</td><td>360473.5129334</td><td>654.3516252</td><td>61373.2233502</td><td>141</td><td>17.507816602739148</td></tr>\n",
       "<tr><td>1567428592185376787</td><td>59.4814837</td><td>-37.7323315</td><td>1218490072</td><td>1218490</td><td>r</td><td>350389.5751318</td><td>643.6589496</td><td>61373.2301082</td><td>72</td><td>17.538622058843252</td></tr>\n",
       "<tr><td>1567428592185376787</td><td>59.4814837</td><td>-37.7323315</td><td>1218588002</td><td>1218588</td><td>r</td><td>321401.2167857</td><td>623.3414201</td><td>61373.2749202</td><td>2</td><td>17.632381208459414</td></tr>\n",
       "<tr><td>1567428592185376787</td><td>59.4814837</td><td>-37.7323315</td><td>1230595019</td><td>1230595</td><td>r</td><td>269899.850222</td><td>548.5930042</td><td>61392.1969692</td><td>19</td><td>17.821993391126092</td></tr>\n",
       "<tr><td>1567428592185376787</td><td>59.4814837</td><td>-37.7323315</td><td>1230629010</td><td>1230629</td><td>r</td><td>260120.5909346</td><td>534.3672852</td><td>61392.2141892</td><td>10</td><td>17.862063170112748</td></tr>\n",
       "<tr><td>1567428592185376787</td><td>59.4814837</td><td>-37.7323315</td><td>1230630160</td><td>1230630</td><td>r</td><td>260612.5740839</td><td>534.9115525</td><td>61392.2146442</td><td>160</td><td>17.860011585492654</td></tr>\n",
       "<tr><td>1567428592185376787</td><td>59.4814837</td><td>-37.7323315</td><td>1233923013</td><td>1233923</td><td>r</td><td>206178.6490199</td><td>473.6109395</td><td>61404.1576282</td><td>13</td><td>18.114390776013167</td></tr>\n",
       "</table></div>"
      ],
      "text/plain": [
       "<Table length=109>\n",
       "    diaObjectId         ra         decl    ... detector       psfMag      \n",
       "                       deg         deg     ...                            \n",
       "       int64         float64     float64   ...  int64        float64      \n",
       "------------------- ---------- ----------- ... -------- ------------------\n",
       "1567428592185376787 59.4814837 -37.7323315 ...       30  17.86852982557396\n",
       "1567428592185376787 59.4814837 -37.7323315 ...       32  18.10632521388235\n",
       "1567428592185376787 59.4814837 -37.7323315 ...       18   18.1042948726672\n",
       "1567428592185376787 59.4814837 -37.7323315 ...        2 18.134900068992444\n",
       "1567428592185376787 59.4814837 -37.7323315 ...       97 17.983140640366102\n",
       "1567428592185376787 59.4814837 -37.7323315 ...       70  17.44981665528585\n",
       "1567428592185376787 59.4814837 -37.7323315 ...        9 17.451474632986304\n",
       "1567428592185376787 59.4814837 -37.7323315 ...      104  17.45325386113064\n",
       "1567428592185376787 59.4814837 -37.7323315 ...       62 17.957418595442366\n",
       "                ...        ...         ... ...      ...                ...\n",
       "1567428592185376787 59.4814837 -37.7323315 ...      153 18.036871696696657\n",
       "1567428592185376787 59.4814837 -37.7323315 ...        6 18.037803873663357\n",
       "1567428592185376787 59.4814837 -37.7323315 ...        6 18.053865654167353\n",
       "1567428592185376787 59.4814837 -37.7323315 ...      141 17.507816602739148\n",
       "1567428592185376787 59.4814837 -37.7323315 ...       72 17.538622058843252\n",
       "1567428592185376787 59.4814837 -37.7323315 ...        2 17.632381208459414\n",
       "1567428592185376787 59.4814837 -37.7323315 ...       19 17.821993391126092\n",
       "1567428592185376787 59.4814837 -37.7323315 ...       10 17.862063170112748\n",
       "1567428592185376787 59.4814837 -37.7323315 ...      160 17.860011585492654\n",
       "1567428592185376787 59.4814837 -37.7323315 ...       13 18.114390776013167"
      ]
     },
     "execution_count": 53,
     "metadata": {},
     "output_type": "execute_result"
    }
   ],
   "source": [
    "# also select some key moments in time\n",
    "# begin by ordering by mjd\n",
    "print(type(source[pick['r']]))\n",
    "select_r = source[pick['r']]\n",
    "sorted_sources = select_r[select_r['expMidptMJD'].argsort()]\n",
    "sorted_sources\n",
    "\n"
   ]
  },
  {
   "cell_type": "code",
   "execution_count": 54,
   "id": "f18950f1-e525-4d15-a7d3-4f76d3b737a3",
   "metadata": {
    "execution": {
     "iopub.execute_input": "2023-11-09T15:31:10.083193Z",
     "iopub.status.busy": "2023-11-09T15:31:10.082283Z",
     "iopub.status.idle": "2023-11-09T15:31:10.086517Z",
     "shell.execute_reply": "2023-11-09T15:31:10.085815Z",
     "shell.execute_reply.started": "2023-11-09T15:31:10.083160Z"
    },
    "tags": []
   },
   "outputs": [],
   "source": [
    "idx_select = [0,20,40,60,80]"
   ]
  },
  {
   "cell_type": "code",
   "execution_count": 55,
   "id": "b9cbd451-ce99-4044-a019-5af61b6206d9",
   "metadata": {
    "execution": {
     "iopub.execute_input": "2023-11-09T15:31:10.759807Z",
     "iopub.status.busy": "2023-11-09T15:31:10.759189Z",
     "iopub.status.idle": "2023-11-09T15:31:11.032865Z",
     "shell.execute_reply": "2023-11-09T15:31:11.032135Z",
     "shell.execute_reply.started": "2023-11-09T15:31:10.759779Z"
    },
    "tags": []
   },
   "outputs": [
    {
     "data": {
      "image/png": "[encoded data removed]",
      "text/plain": [
       "<Figure size 600x400 with 1 Axes>"
      ]
     },
     "metadata": {},
     "output_type": "display_data"
    }
   ],
   "source": [
    "fig = plt.figure(figsize=(6, 4))\n",
    "plt.plot(sorted_sources['expMidptMJD'], sorted_sources['psfMag'],\n",
    "         'k.', ms=10)\n",
    "plt.plot(sorted_sources[idx_select]['expMidptMJD'],\n",
    "         sorted_sources[idx_select]['psfMag'],\n",
    "         'r.', ms=10, label = 'selected calexp')\n",
    "plt.minorticks_on()\n",
    "plt.xlabel('MJD (days)')\n",
    "plt.ylabel('r')\n",
    "plt.gca().invert_yaxis()\n",
    "plt.legend(loc = 2)\n",
    "plt.show()"
   ]
  },
  {
   "cell_type": "markdown",
   "id": "9a251b99-fe4d-44e9-a588-ca9e553d9880",
   "metadata": {},
   "source": [
    "## Now grab the calexp images from each of these moments"
   ]
  },
  {
   "cell_type": "code",
   "execution_count": 61,
   "id": "c921f32c-6b16-4bb9-9c84-06e99a57d38e",
   "metadata": {
    "execution": {
     "iopub.execute_input": "2023-11-09T15:33:30.940194Z",
     "iopub.status.busy": "2023-11-09T15:33:30.939411Z",
     "iopub.status.idle": "2023-11-09T15:33:42.128830Z",
     "shell.execute_reply": "2023-11-09T15:33:42.128060Z",
     "shell.execute_reply.started": "2023-11-09T15:33:30.940168Z"
    },
    "tags": []
   },
   "outputs": [
    {
     "name": "stdout",
     "output_type": "stream",
     "text": [
      "calexp wcs:  FITS standard SkyWcs:\n",
      "Sky Origin: (59.4909416051, -37.8309089698)\n",
      "Pixel Origin: (2256.7, 1916.59)\n",
      "Pixel Scale: 0.199616 arcsec/pixel\n",
      "xy:  (4040, 1870)\n",
      "bbox:  (minimum=(4015, 1845), maximum=(4064, 1894))\n",
      "calexp wcs:  FITS standard SkyWcs:\n",
      "Sky Origin: (59.5950488286, -37.8201831572)\n",
      "Pixel Origin: (1994.95, 2163.19)\n",
      "Pixel Scale: 0.199877 arcsec/pixel\n",
      "xy:  (3892, 933)\n",
      "bbox:  (minimum=(3867, 908), maximum=(3916, 957))\n",
      "calexp wcs:  FITS standard SkyWcs:\n",
      "Sky Origin: (59.3999708583, -37.7178027853)\n",
      "Pixel Origin: (2023.5, 2102.39)\n",
      "Pixel Scale: 0.199781 arcsec/pixel\n",
      "xy:  (2785, 1186)\n",
      "bbox:  (minimum=(2760, 1161), maximum=(2809, 1210))\n",
      "calexp wcs:  FITS standard SkyWcs:\n",
      "Sky Origin: (59.5105167722, -37.7368832463)\n",
      "Pixel Origin: (1721.33, 2055.73)\n",
      "Pixel Scale: 0.199916 arcsec/pixel\n",
      "xy:  (1721, 2477)\n",
      "bbox:  (minimum=(1696, 2452), maximum=(1745, 2501))\n",
      "calexp wcs:  FITS standard SkyWcs:\n",
      "Sky Origin: (59.5553620109, -37.6709730353)\n",
      "Pixel Origin: (2070.08, 2071.7)\n",
      "Pixel Scale: 0.200047 arcsec/pixel\n",
      "xy:  (3183, 1029)\n",
      "bbox:  (minimum=(3158, 1004), maximum=(3207, 1053))\n"
     ]
    }
   ],
   "source": [
    "# main directory\n",
    "batch_dir = './variable_stars_output/' \n",
    "\n",
    "'''\n",
    "star_id = diaobjectID # in sree's OG example, this was the object ID not the diaObjID, so maybe change\n",
    "star_ccdid = 662532066\n",
    "\n",
    "calexp_image = get_cutout_image(butler, 59.4814837, -37.7323315, 662532, 66, 'g', 50, datasetType='calexp')\n",
    "figout = make_calexp_fig(calexp_image, 59.4814837, -37.7323315, batch_dir+\"/images/\"+str(star_id)+\"_\"+str(star_ccdid)+\".png\")\n",
    "'''       \n",
    "    \n",
    "for i, idx in enumerate(idx_select):\n",
    "    star_ra = sorted_sources['ra'][idx]\n",
    "    star_dec = sorted_sources['decl'][idx]\n",
    "    star_detector = sorted_sources['detector'][idx]\n",
    "    star_visitid = sorted_sources['visitId'][idx]\n",
    "    star_id = sorted_sources['diaObjectId'][idx] # WAS objectId\n",
    "    star_ccdid = sorted_sources['ccdVisitId'][idx]\n",
    "\n",
    "    calexp_image = get_cutout_image(butler, star_ra, star_dec, star_visitid, star_detector, 'r', 50, datasetType='calexp') # only r-band images \n",
    "    figout = make_calexp_fig(calexp_image, star_ra,star_dec, batch_dir+\"/images/\"+str(star_id)+\"_\"+str(star_ccdid)+\".png\")\n",
    "    plt.show()\n",
    "    remove_figure(figout)\n",
    "\n",
    "    #figout_data['location:image_'+str(i)] = str(star_id)+\"_\"+str(star_ccdid)+\".png\"\n",
    "    #figout_data['filename'] = str(star_id)+\"_\"+str(star_ccdid)+\".png\""
   ]
  },
  {
   "cell_type": "markdown",
   "id": "42ee7594-5b78-4913-8bc9-ed0203dc2d6a",
   "metadata": {},
   "source": [
    "## A word of caution\n",
    "Note that the pixelscale is changing for these images ever so slightly. "
   ]
  },
  {
   "cell_type": "code",
   "execution_count": 59,
   "id": "6409ced7-4d23-49e5-acfd-463a27dcda85",
   "metadata": {
    "execution": {
     "iopub.execute_input": "2023-11-09T15:32:49.038834Z",
     "iopub.status.busy": "2023-11-09T15:32:49.038507Z",
     "iopub.status.idle": "2023-11-09T15:32:49.046966Z",
     "shell.execute_reply": "2023-11-09T15:32:49.046303Z",
     "shell.execute_reply.started": "2023-11-09T15:32:49.038811Z"
    },
    "tags": []
   },
   "outputs": [],
   "source": [
    "def get_cutout_image(butler, ra_deg, dec_deg, visit, detector, band, cutoutSideLength, datasetType='calexp'):\n",
    "    \"\"\"\n",
    "    Get the cutout image information from butler. \n",
    "    This shoudl be followed by make_fig\n",
    "\n",
    "    Input Parameters\n",
    "    ----------\n",
    "    ra : ra of source in degrees\n",
    "    dec : dec of source in degrees\n",
    "    visit : visit id\n",
    "    detector : detector number\n",
    "    band : band to get cutput for\n",
    "    cutoutSideLength : size of the cutout\n",
    "    \n",
    "    Returns\n",
    "    ----------\n",
    "    Cutout image information\n",
    "    \"\"\"\n",
    "    cutoutSize = geom.ExtentI(cutoutSideLength, cutoutSideLength)\n",
    "    \n",
    "    radec = geom.SpherePoint(ra_deg,dec_deg, geom.degrees)\n",
    "    \n",
    "    dataId = {'visit': visit, 'detector': detector}  \n",
    "    calexp_wcs = butler.get('calexp.wcs', **dataId)\n",
    "    \n",
    "    print('calexp wcs: ', calexp_wcs)\n",
    "    \n",
    "    xy = geom.PointI(calexp_wcs.skyToPixel(radec))\n",
    "    bbox = geom.BoxI(xy - cutoutSize // 2, cutoutSize)\n",
    "    parameters = {'bbox': bbox}\n",
    "    print('xy: ',xy)\n",
    "    print('bbox: ',bbox)\n",
    "    \n",
    "    cutout_image = butler.get('calexp', parameters=parameters, **dataId)\n",
    "    \n",
    "    return cutout_image\n",
    "def make_calexp_fig(cutout_image, ra, dec, out_name):\n",
    "    \"\"\"\n",
    "    Create an image.\n",
    "    should be followed with remove_figure\n",
    "    \n",
    "    Parameters\n",
    "    ----------\n",
    "    cutout_image : cutout_image from butler.get\n",
    "    ra : ra of source in degrees\n",
    "    dec : dec of source in degrees\n",
    "    out_name : file name where you'd like to save it\n",
    "    \n",
    "    Returns\n",
    "    ----------\n",
    "    cutout image\n",
    "    \"\"\"\n",
    "    # fig = plt.figure(figsize=(4, 4))\n",
    "    # afw_display = afwDisplay.Display(frame=fig)\n",
    "    # afw_display.scale('asinh', 'zscale')\n",
    "    # afw_display.mtv(cutout_image.image)\n",
    "    \n",
    "#     cutout_wcs = cutout_image.getWcs()\n",
    "#     radec = geom.SpherePoint(ra, dec, geom.degrees)\n",
    "#     xy = geom.PointI(cutout_wcs.skyToPixel(radec))\n",
    "    \n",
    "#     afw_display.dot('x', xy.getX(), xy.getY(), size=1, ctype='orange')\n",
    "#     plt.gca().axis('off')\n",
    "#     plt.savefig(out_name)\n",
    "    \n",
    "    fig = plt.figure()\n",
    "    plt.subplot(projection=WCS(cutout_image.getWcs().getFitsMetadata()))\n",
    "    \n",
    "    #print('wcs ra: ', cutout_image.getWcs().getFitsMetadata()['CRVAL1'])\n",
    "    #print('wcs dec: ', cutout_image.getWcs().getFitsMetadata()['CRVAL2'])\n",
    "    \n",
    "    calexp_extent = (cutout_image.getBBox().beginX, cutout_image.getBBox().endX,\n",
    "                 cutout_image.getBBox().beginY, cutout_image.getBBox().endY)\n",
    "    im = plt.imshow(cutout_image.image.array, cmap='gray', vmin=-200.0, vmax=1000,\n",
    "                extent=calexp_extent, origin='lower')\n",
    "    plt.colorbar(location='right', anchor=(0, 0.1))\n",
    "    # plt.gca().axis('off')\n",
    "    plt.xlabel('Right Ascension')\n",
    "    plt.ylabel('Declination')\n",
    "    plt.savefig(out_name)\n",
    "    \n",
    "    return fig\n",
    "\n",
    "def remove_figure(fig):\n",
    "    \"\"\"\n",
    "    Remove a figure to reduce memory footprint.\n",
    "    Parameters\n",
    "    ----------\n",
    "    fig: matplotlib.figure.Figure\n",
    "        Figure to be removed.\n",
    "    Returns\n",
    "    -------\n",
    "    None\n",
    "    \"\"\"\n",
    "    # get the axes and clear their images\n",
    "    for ax in fig.get_axes():\n",
    "        for im in ax.get_images():\n",
    "            im.remove()\n",
    "    fig.clf()       # clear the figure\n",
    "    plt.close(fig)  # close the figure\n",
    "\n",
    "    gc.collect()    # call th"
   ]
  },
  {
   "cell_type": "code",
   "execution_count": null,
   "id": "95167bf4-9cfc-48a3-a41b-0ce623c12e9e",
   "metadata": {},
   "outputs": [],
   "source": []
  },
  {
   "cell_type": "markdown",
   "id": "e759fa7f-26fe-4f6d-9c1c-20156d098aed",
   "metadata": {},
   "source": [
    "### Now lets try making images"
   ]
  },
  {
   "cell_type": "code",
   "execution_count": null,
   "id": "8fe1ec69-8d06-447c-a7f7-c8c93d606a2f",
   "metadata": {
    "tags": []
   },
   "outputs": [],
   "source": [
    "def get_cutout_image(butler, ra_deg, dec_deg, visit, detector, band, cutoutSideLength, datasetType='calexp'):\n",
    "    \"\"\"\n",
    "    Get the cutout image information from butler. \n",
    "    This shoudl be followed by make_fig\n",
    "\n",
    "    Input Parameters\n",
    "    ----------\n",
    "    ra : ra of source in degrees\n",
    "    dec : dec of source in degrees\n",
    "    visit : visit id\n",
    "    detector : detector number\n",
    "    band : band to get cutput for\n",
    "    cutoutSideLength : size of the cutout\n",
    "    \n",
    "    Returns\n",
    "    ----------\n",
    "    Cutout image information\n",
    "    \"\"\"\n",
    "    cutoutSize = geom.ExtentI(cutoutSideLength, cutoutSideLength)\n",
    "    \n",
    "    radec = geom.SpherePoint(ra_deg,dec_deg, geom.degrees)\n",
    "    \n",
    "    dataId = {'visit': visit, 'detector': detector}  \n",
    "    calexp_wcs = butler.get('calexp.wcs', **dataId)\n",
    "    \n",
    "    print('calexp wcs: ', calexp_wcs)\n",
    "    \n",
    "    xy = geom.PointI(calexp_wcs.skyToPixel(radec))\n",
    "    bbox = geom.BoxI(xy - cutoutSize // 2, cutoutSize)\n",
    "    parameters = {'bbox': bbox}\n",
    "    print('xy: ',xy)\n",
    "    print('bbox: ',bbox)\n",
    "    \n",
    "    cutout_image = butler.get('calexp', parameters=parameters, **dataId)\n",
    "    \n",
    "    return cutout_image"
   ]
  },
  {
   "cell_type": "code",
   "execution_count": null,
   "id": "5d7d22ef-d281-4214-bf0e-c280a98fd957",
   "metadata": {
    "tags": []
   },
   "outputs": [],
   "source": [
    "#stars_matchid = variable_stars['match_objectId'].to_numpy()\n",
    "star_ra = ccd_flux_table['ra'][0]\n",
    "star_dec = ccd_flux_table['decl'][0]\n",
    "\n",
    "\n",
    "df_row = []\n",
    "df_final = []\n",
    "\n",
    "fields_to_add = [\"sourceId\", \"coord_ra\", \"coord_dec\"] # fields to add to the maifest file\n",
    "\n",
    "cutouts = []\n",
    "\n",
    "figout_data = {\"sourceId\": ccd_flux_table['diaObjectId'][0]}\n",
    "\n",
    "# Query the variable star flux, detector and visit information\n",
    "\n",
    "# Get calexp images from Butler and plot them\n",
    "idx_images = np.round(np.linspace(0, len(ccd_flux_table) - 1, 1)).astype(int)  #randomly select 5 images for each variable star\n",
    "image_dict = {} \n",
    "\n",
    "for i, idx in enumerate(idx_images):\n",
    "    star_ra = ccd_flux_table['ra'][idx]\n",
    "    star_dec = ccd_flux_table['decl'][idx]\n",
    "    star_detector = ccd_flux_table['detector'][idx]\n",
    "    star_visitid = ccd_flux_table['ccdVisitId'][idx]\n",
    "    star_diaid = ccd_flux_table['diaObjectId'][idx]\n",
    "    \n",
    "    calexp_image = get_cutout_image(butler, star_ra, star_dec, star_visitid, star_detector, 'r', image_size, datasetType='calexp') # only r-band images \n",
    "    figout = make_calexp_fig(calexp_image, star_ra,star_dec,batch_dir+\"/images/\"+str(star_diaid)+\"_\"+str(star_ccdid)+\".png\")\n",
    "    remove_figure(figout)\n",
    "\n",
    "    figout_data['location:image_'+str(i)] = str(star_id)+\"_\"+str(star_ccdid)+\".png\"\n",
    "    figout_data['filename'] = str(star_id)+\"_\"+str(star_ccdid)+\".png\"\n",
    "\n",
    "cutouts.append(figout_data)\n",
    "\n",
    "# manifest file\n",
    "df_star = pd.DataFrame(data = cutouts, index=[0])\n",
    "df_final.append(df_star)\n",
    "\n",
    "# flipbook data for each variable star\n",
    "df = pd.DataFrame(data = image_dict, index=[0])\n",
    "df_row.append(df)\n",
    "\n",
    "# Light curve for each variable star    \n",
    "mjd_days, mags = utils.get_flux(ccd_flux_table)\n",
    "figout = utils.plotlc(bands, mjd_days, mags, batch_dir+\"/lc_plots/\"+\"lc_\"+str(objid)+\".png\")\n",
    "remove_figure(figout) \n",
    "df_all_bands = []\n",
    "for band in bands:\n",
    "    df = pd.DataFrame(data = {'band': [band]*len(mjd_days[band]), 'mjd_days': mjd_days[band], \\\n",
    "                      'mags': mags[band]}, index=None)\n",
    "    df_all_bands.append(df)\n",
    "\n",
    "df_final_lc = pd.concat(df_all_bands)\n",
    "outfile = batch_dir+\"/text_files/\"+\"lc_\"+str(objid)+\".csv\"\n",
    "df_final_lc.to_csv(outfile, index=False, sep=',')\n",
    "    \n",
    "df_manifest = pd.concat(df_final) # final manifest file with all variable stars\n",
    "outfile = batch_dir+\"images/manifest.csv\"\n",
    "df_manifest.to_csv(outfile, index=False, sep=',')\n"
   ]
  },
  {
   "cell_type": "code",
   "execution_count": null,
   "id": "eff2df66-f9a6-4f79-98a1-5daac182940a",
   "metadata": {},
   "outputs": [],
   "source": [
    "get_cutout_image(butler, ra_deg, dec_deg, visit, detector, band, cutoutSideLength, datasetType='calexp'):"
   ]
  },
  {
   "cell_type": "code",
   "execution_count": null,
   "id": "a23b8e76-2e52-4d6a-a8e4-fd96ccc7721c",
   "metadata": {},
   "outputs": [],
   "source": []
  },
  {
   "cell_type": "code",
   "execution_count": null,
   "id": "f85b8c45-9c51-43ce-b6b3-20cd66321b0b",
   "metadata": {},
   "outputs": [],
   "source": []
  },
  {
   "cell_type": "code",
   "execution_count": null,
   "id": "3e2c7fe2-558c-490b-9983-6beed0a85115",
   "metadata": {},
   "outputs": [],
   "source": []
  },
  {
   "cell_type": "code",
   "execution_count": null,
   "id": "5beff355-a700-40fd-af5c-1c8986ff96c0",
   "metadata": {},
   "outputs": [],
   "source": []
  },
  {
   "cell_type": "code",
   "execution_count": null,
   "id": "25cb8998-3923-4e8c-95c1-34813f1086e2",
   "metadata": {},
   "outputs": [],
   "source": []
  },
  {
   "cell_type": "code",
   "execution_count": null,
   "id": "689c8e6f-14b2-4a9f-abf7-1ff73dd68e40",
   "metadata": {},
   "outputs": [],
   "source": []
  },
  {
   "cell_type": "code",
   "execution_count": null,
   "id": "e082d6c6-2171-473c-ad8f-274e034fe812",
   "metadata": {},
   "outputs": [],
   "source": []
  },
  {
   "cell_type": "code",
   "execution_count": null,
   "id": "18220387-fff1-417d-9ce7-bf5bf618aa3e",
   "metadata": {},
   "outputs": [],
   "source": []
  },
  {
   "cell_type": "code",
   "execution_count": null,
   "id": "096c1cd7-44e5-41cd-b79f-697325c276f2",
   "metadata": {},
   "outputs": [],
   "source": []
  },
  {
   "cell_type": "code",
   "execution_count": null,
   "id": "3fe78458-6946-4d66-a019-18ae2eba9206",
   "metadata": {
    "tags": []
   },
   "outputs": [],
   "source": [
    "# do we even need this cell?\n",
    "variable_star = query_stars_becky(ra, dec, 0.001)\n",
    "variable_star"
   ]
  },
  {
   "cell_type": "markdown",
   "id": "49f0a86a-7bb7-4d14-b679-0291951526a4",
   "metadata": {},
   "source": []
  },
  {
   "cell_type": "code",
   "execution_count": null,
   "id": "239878c0-5880-4aa3-b49d-ed14530cb723",
   "metadata": {},
   "outputs": [],
   "source": []
  },
  {
   "cell_type": "markdown",
   "id": "b850948a-40cd-48f4-b2d4-e689159d0d87",
   "metadata": {},
   "source": [
    "### 2.2 Define variable star related parameters"
   ]
  },
  {
   "cell_type": "code",
   "execution_count": null,
   "id": "b0ee631c-c7e6-431e-8529-eacaceeb5491",
   "metadata": {
    "tags": []
   },
   "outputs": [],
   "source": [
    "query_num_stars = 1 # number of variable stars to query \n",
    "\n",
    "# Set any RA and DEC in degrees. This is the centre of your search radius\n",
    "# In this example notebook we are looking at one known RR-Lyrae. \n",
    "\n",
    "ra_known_rrl = 62.1479031\n",
    "dec_known_rrl = -35.799138\n",
    "\n",
    "\n",
    "search_radius = 0.001 # Search radius in degrees\n",
    "\n",
    "num_variable_images = 5 # For each variable stars, number of images to query to create flipbook (gif)\n",
    "\n",
    "image_size = 20 # image size for cutouts\n",
    "\n",
    "bands = ['g','r','i'] # bands to get flux for to create a lightcurve"
   ]
  },
  {
   "cell_type": "markdown",
   "id": "d4e5d710-210b-46e0-b212-4bad72d5d6dc",
   "metadata": {},
   "source": [
    "### 2.3 Create relevant directories"
   ]
  },
  {
   "cell_type": "code",
   "execution_count": null,
   "id": "5c69e266-8bb3-4d44-bb59-bb05e2826a6b",
   "metadata": {
    "tags": []
   },
   "outputs": [],
   "source": [
    "plots = [] # empty list for plots\n",
    "\n",
    "# main directory\n",
    "batch_dir = './variable_stars_output/' \n",
    "\n",
    "if os.path.isdir(batch_dir) == False:\n",
    "    os.mkdir(batch_dir)\n",
    "\n",
    "# cutouts directory\n",
    "if os.path.isdir(batch_dir+'images') == False:\n",
    "    os.mkdir(batch_dir+'images')\n",
    "else:\n",
    "    os.system('rm -r '+batch_dir+'images/*')\n",
    "\n",
    "# light curve directory\n",
    "if os.path.isdir(batch_dir+'lc_plots') == False:\n",
    "    os.mkdir(batch_dir+'lc_plots')\n",
    "else:\n",
    "    os.system('rm -r '+batch_dir+'lc_plots/*')\n",
    "\n",
    "# light curve text file directory\n",
    "if os.path.isdir(batch_dir+'text_files') == False:\n",
    "    os.mkdir(batch_dir+'text_files')\n",
    "else:\n",
    "    os.system('rm -r '+batch_dir+'text_files/*')"
   ]
  },
  {
   "cell_type": "markdown",
   "id": "e294a393-997b-4c5a-8d72-87ff138dc4b5",
   "metadata": {},
   "source": [
    "### 2.4 Query and Plotting functions"
   ]
  },
  {
   "cell_type": "code",
   "execution_count": null,
   "id": "7e79e7d5-6d45-4c79-81b5-02d3528ce7fc",
   "metadata": {
    "tags": []
   },
   "outputs": [],
   "source": [
    "def query_stars(ra_deg, dec_deg, radius_deg, limit):\n",
    "    \"\"\"\n",
    "    Query variable stars from dp02_dc2_catalogs.MatchesTruth and dc2_catalogs.TruthSummary\n",
    "    \n",
    "    To query more than one star within the circle of search, change = 1 to <= 1\n",
    "    \n",
    "    Selecting stars (truth_type=2)\n",
    "    variable (is_variable = 1)\n",
    "    is_pointsource = 1\n",
    "\n",
    "    Input Parameters\n",
    "    ----------\n",
    "    ra_deg : ra of the centre of search in degrees\n",
    "    dec_deg : dec of the centre of search in degrees\n",
    "    radius_deg : radius within which to search for\n",
    "    limit : number of variable stars to retireve\n",
    "    \n",
    "    Returns\n",
    "    ----------\n",
    "    Table of variable stars as pandas dataframe\n",
    "    \"\"\"\n",
    "    query = \"SELECT mt.id_truth_type, mt.match_objectId, ts.ra, ts.dec \"\\\n",
    "            \"FROM dp02_dc2_catalogs.MatchesTruth AS mt \"\\\n",
    "            \"JOIN dp02_dc2_catalogs.TruthSummary AS ts ON mt.id_truth_type = ts.id_truth_type \"\\\n",
    "            \"WHERE ts.truth_type=2 \"\\\n",
    "            \"AND ts.is_variable = 1 \"\\\n",
    "            \"AND ts.is_pointsource = 1 \"\\\n",
    "            \"AND mt.match_objectId > 1 \"\\\n",
    "            \"AND CONTAINS(POINT('ICRS', ts.ra, ts.dec), CIRCLE('ICRS', \"+ str(ra_deg)+\", \"+str(dec_deg)+\", \"+str(radius_deg)+\")) <= 1 \"\\\n",
    "            \"LIMIT \"+str(limit)+\" \"\n",
    "    results = service.search(query)\n",
    "    variable_stars = results.to_table().to_pandas()\n",
    "    return variable_stars\n",
    "\n",
    "\n",
    "def query_stars_becky(ra_known_rrl, dec_known_rrl, radius):\n",
    "    results = service.search(\"SELECT TOP 100 \"\n",
    "                             \"coord_ra, coord_dec, objectId, \"\n",
    "                             \"g_psfFlux, r_psfFlux, i_psfFlux, detect_isPrimary, \"\n",
    "                             \"scisql_nanojanskyToAbMag(g_psfFlux) as gPSFMag, \"\n",
    "                             \"scisql_nanojanskyToAbMag(r_psfFlux) as rPSFMag, \"\n",
    "                             \"scisql_nanojanskyToAbMag(i_psfFlux) as iPSFMag, \"\n",
    "                             \"g_extendedness, r_extendedness, i_extendedness \"\n",
    "                             \"FROM dp02_dc2_catalogs.Object \"\n",
    "                             \"WHERE CONTAINS(POINT('ICRS', coord_ra, coord_dec), \"\n",
    "                             \"CIRCLE('ICRS',\" + str(ra_known_rrl) + \", \"\n",
    "                             + str(dec_known_rrl) + \", \"+str(radius)+\")) = 1 \"\n",
    "                             \"AND detect_isPrimary = 1\")\n",
    "\n",
    "    return results.to_table().to_pandas()\n",
    "                             \n",
    "\n",
    "\n",
    "def query_flux(objid):\n",
    "    \"\"\"\n",
    "    Query to get the flux for each variable star at all bands\n",
    "\n",
    "    Input Parameters\n",
    "    ----------\n",
    "    objid : Object ID of the variable star obtained from query_stars\n",
    "    \n",
    "    Returns\n",
    "    ----------\n",
    "    Table of flux of variable star \n",
    "    \"\"\"\n",
    "    query = \"SELECT src.band, src.ccdVisitId, src.coord_ra, src.coord_dec, \"\\\n",
    "            \"src.objectId, src.psfFlux, src.psfFluxErr, \"\\\n",
    "            \"visinfo.detector, visinfo.visitId, \"\\\n",
    "            \"scisql_nanojanskyToAbMag(psfFlux) as psfMag, \"\\\n",
    "            \"visinfo.band, \"\\\n",
    "            \"visinfo.expMidptMJD \"\\\n",
    "            \"FROM dp02_dc2_catalogs.ForcedSource as src \"\\\n",
    "            \"JOIN dp02_dc2_catalogs.CcdVisit as visinfo \"\\\n",
    "            \"ON visinfo.ccdVisitId = src.ccdVisitId \"\\\n",
    "            \"WHERE src.objectId = \"+str(objid)+\" \"\n",
    "    table = service.search(query)\n",
    "    flux_table = table.to_table()\n",
    "    return flux_table"
   ]
  },
  {
   "cell_type": "markdown",
   "id": "efac2893-43c4-4aff-9434-fdfec3f67914",
   "metadata": {},
   "source": [
    "## 3. Query and plot the variable stars"
   ]
  },
  {
   "cell_type": "code",
   "execution_count": null,
   "id": "fb35503f-955f-490b-9100-d8bec98bbb1f",
   "metadata": {
    "tags": []
   },
   "outputs": [],
   "source": [
    "%%time\n",
    "variable_stars = query_stars(ra_known_rrl, dec_known_rrl, search_radius, query_num_stars)"
   ]
  },
  {
   "cell_type": "code",
   "execution_count": null,
   "id": "95edb413-f9bd-4911-b1fd-c970c12ad4f2",
   "metadata": {
    "tags": []
   },
   "outputs": [],
   "source": [
    "variable_stars"
   ]
  },
  {
   "cell_type": "markdown",
   "id": "ad78835c-b889-4a0b-8a38-a5bbebb4e8b6",
   "metadata": {},
   "source": [
    "## Run Becky's query"
   ]
  },
  {
   "cell_type": "code",
   "execution_count": null,
   "id": "4e59bf17-86f1-41bf-bf0f-d8e66ce67868",
   "metadata": {
    "tags": []
   },
   "outputs": [],
   "source": [
    "variable_star = query_stars_becky(ra_known_rrl, dec_known_rrl, search_radius)\n",
    "variable_star"
   ]
  },
  {
   "cell_type": "code",
   "execution_count": null,
   "id": "d16bcfba-22a4-4d52-8f42-07318a45c648",
   "metadata": {
    "tags": []
   },
   "outputs": [],
   "source": [
    "sel_objid = variable_star['objectId'][0]\n",
    "sel_objid = 1251666444874161581\n",
    "print(sel_objid)"
   ]
  },
  {
   "cell_type": "code",
   "execution_count": null,
   "id": "e2e6139d-7223-41b4-a243-7051083468c4",
   "metadata": {
    "tags": []
   },
   "outputs": [],
   "source": [
    "query = \"SELECT src.band, src.ccdVisitId, src.coord_ra, src.coord_dec, \"\\\n",
    "        \"src.objectId, src.psfFlux, src.psfFluxErr, \"\\\n",
    "        \"scisql_nanojanskyToAbMag(psfFlux) as psfMag, \"\\\n",
    "        \"visinfo.ccdVisitId, visinfo.band, \"\\\n",
    "        \"visinfo.expMidptMJD, visinfo.zeroPoint \"\\\n",
    "        \"FROM dp02_dc2_catalogs.ForcedSource as src \"\\\n",
    "        \"JOIN dp02_dc2_catalogs.CcdVisit as visinfo \"\\\n",
    "        \"ON visinfo.ccdVisitId = src.ccdVisitId \"\\\n",
    "        \"WHERE src.objectId = \"+str(sel_objid)+\" \"\n"
   ]
  },
  {
   "cell_type": "code",
   "execution_count": null,
   "id": "68db231c-559b-48bd-a2b4-e8b849272dca",
   "metadata": {
    "tags": []
   },
   "outputs": [],
   "source": [
    "results = service.search(query)\n",
    "srcs = results.to_table()\n",
    "print(len(srcs))"
   ]
  },
  {
   "cell_type": "code",
   "execution_count": null,
   "id": "13119bf5-526a-4f35-acd8-55cbb0638b18",
   "metadata": {
    "tags": []
   },
   "outputs": [],
   "source": [
    "srcs"
   ]
  },
  {
   "cell_type": "code",
   "execution_count": null,
   "id": "1f9de3ed-82b8-419a-9528-561a10713166",
   "metadata": {
    "tags": []
   },
   "outputs": [],
   "source": [
    "plot_filter_labels = ['u', 'g', 'r', 'i', 'z', 'y']\n",
    "plot_filter_colors = {'u': '#56b4e9', 'g': '#008060', 'r': '#ff4000',\n",
    "                      'i': '#850000', 'z': '#6600cc', 'y': '#000000'}\n",
    "plot_filter_symbols = {'u': 'o', 'g': '^', 'r': 'v', 'i': 's', 'z': '*', 'y': 'p'}\n",
    "\n",
    "pick = {}\n",
    "for filter in plot_filter_labels:\n",
    "    pick[filter] = (srcs['band'] == filter)"
   ]
  },
  {
   "cell_type": "code",
   "execution_count": null,
   "id": "54671694-2a67-4218-ae07-02d8ab5c5501",
   "metadata": {
    "tags": []
   },
   "outputs": [],
   "source": [
    "fig = plt.figure(figsize=(6, 4))\n",
    "plt.plot(srcs[pick['r']]['expMidptMJD'], srcs[pick['r']]['psfMag'],\n",
    "         'k.', ms=10)\n",
    "plt.minorticks_on()\n",
    "plt.xlabel('MJD (days)')\n",
    "plt.ylabel('r')\n",
    "plt.gca().invert_yaxis()\n",
    "plt.show()"
   ]
  },
  {
   "cell_type": "code",
   "execution_count": null,
   "id": "48d8533e-7340-4ca8-ab23-870f19a62c29",
   "metadata": {},
   "outputs": [],
   "source": []
  },
  {
   "cell_type": "code",
   "execution_count": null,
   "id": "fe55b63b-54ca-4ebe-97bb-2e769c4132f1",
   "metadata": {
    "tags": []
   },
   "outputs": [],
   "source": [
    "# run the query a bunch of times\n",
    "search_radius = 0.000000000000000000000000000000001\n",
    "list_id = []\n",
    "for i in range(10):\n",
    "    variable_stars = query_stars(ra_known_rrl, dec_known_rrl, search_radius, 100)\n",
    "    print(variable_stars)\n",
    "    STOP\n",
    "    list_id.append(variable_stars['match_objectId'].values[0])\n",
    "    \n",
    "print(list_id)"
   ]
  },
  {
   "cell_type": "code",
   "execution_count": null,
   "id": "fcb42f9f-267e-40ae-8e24-0be1e6551c23",
   "metadata": {},
   "outputs": [],
   "source": [
    "STOP"
   ]
  },
  {
   "cell_type": "markdown",
   "id": "7efd312e-86a3-49e1-b1ea-e1714b32755a",
   "metadata": {},
   "source": [
    "### 2.1 Get Calexp images and Lightcurves\n",
    "\n",
    "How to create csv for Zooniverse flipbook\n",
    "\n",
    "https://help.zooniverse.org/getting-started/example/#details-subject-sets-and-manifest-details-aka-what-is-a-manifesthttps://help.zooniverse.org/getting-started/example/#details-subject-sets-and-manifest-details-aka-what-is-a-manifestCreate \n"
   ]
  },
  {
   "cell_type": "code",
   "execution_count": null,
   "id": "6e10e00b-227a-4a1a-9b3e-5b968ec0904d",
   "metadata": {
    "tags": []
   },
   "outputs": [],
   "source": [
    "def get_cutout_image(butler, ra_deg, dec_deg, visit, detector, band, cutoutSideLength, datasetType='calexp'):\n",
    "    \"\"\"\n",
    "    Get the cutout image information from butler. \n",
    "    This shoudl be followed by make_fig\n",
    "\n",
    "    Input Parameters\n",
    "    ----------\n",
    "    ra : ra of source in degrees\n",
    "    dec : dec of source in degrees\n",
    "    visit : visit id\n",
    "    detector : detector number\n",
    "    band : band to get cutput for\n",
    "    cutoutSideLength : size of the cutout\n",
    "    \n",
    "    Returns\n",
    "    ----------\n",
    "    Cutout image information\n",
    "    \"\"\"\n",
    "    cutoutSize = geom.ExtentI(cutoutSideLength, cutoutSideLength)\n",
    "    \n",
    "    radec = geom.SpherePoint(ra_deg,dec_deg, geom.degrees)\n",
    "    \n",
    "    dataId = {'visit': visit, 'detector': detector}  \n",
    "    calexp_wcs = butler.get('calexp.wcs', **dataId)\n",
    "    \n",
    "    print('calexp wcs: ', calexp_wcs)\n",
    "    \n",
    "    xy = geom.PointI(calexp_wcs.skyToPixel(radec))\n",
    "    bbox = geom.BoxI(xy - cutoutSize // 2, cutoutSize)\n",
    "    parameters = {'bbox': bbox}\n",
    "    print('xy: ',xy)\n",
    "    print('bbox: ',bbox)\n",
    "    \n",
    "    cutout_image = butler.get('calexp', parameters=parameters, **dataId)\n",
    "    \n",
    "    return cutout_image\n",
    "    \n",
    "    \n",
    "def make_calexp_fig(cutout_image, ra, dec, out_name):\n",
    "    \"\"\"\n",
    "    Create an image.\n",
    "    should be followed with remove_figure\n",
    "    \n",
    "    Parameters\n",
    "    ----------\n",
    "    cutout_image : cutout_image from butler.get\n",
    "    ra : ra of source in degrees\n",
    "    dec : dec of source in degrees\n",
    "    out_name : file name where you'd like to save it\n",
    "    \n",
    "    Returns\n",
    "    ----------\n",
    "    cutout image\n",
    "    \"\"\"\n",
    "    # fig = plt.figure(figsize=(4, 4))\n",
    "    # afw_display = afwDisplay.Display(frame=fig)\n",
    "    # afw_display.scale('asinh', 'zscale')\n",
    "    # afw_display.mtv(cutout_image.image)\n",
    "    \n",
    "#     cutout_wcs = cutout_image.getWcs()\n",
    "#     radec = geom.SpherePoint(ra, dec, geom.degrees)\n",
    "#     xy = geom.PointI(cutout_wcs.skyToPixel(radec))\n",
    "    \n",
    "#     afw_display.dot('x', xy.getX(), xy.getY(), size=1, ctype='orange')\n",
    "#     plt.gca().axis('off')\n",
    "#     plt.savefig(out_name)\n",
    "    \n",
    "    fig = plt.figure()\n",
    "    plt.subplot(projection=WCS(cutout_image.getWcs().getFitsMetadata()))\n",
    "    \n",
    "    #print('wcs ra: ', cutout_image.getWcs().getFitsMetadata()['CRVAL1'])\n",
    "    #print('wcs dec: ', cutout_image.getWcs().getFitsMetadata()['CRVAL2'])\n",
    "    \n",
    "    calexp_extent = (cutout_image.getBBox().beginX, cutout_image.getBBox().endX,\n",
    "                 cutout_image.getBBox().beginY, cutout_image.getBBox().endY)\n",
    "    im = plt.imshow(cutout_image.image.array, cmap='gray', vmin=-200.0, vmax=1000,\n",
    "                extent=calexp_extent, origin='lower')\n",
    "    plt.colorbar(location='right', anchor=(0, 0.1))\n",
    "    # plt.gca().axis('off')\n",
    "    plt.xlabel('Right Ascension')\n",
    "    plt.ylabel('Declination')\n",
    "    plt.savefig(out_name)\n",
    "    \n",
    "    return fig\n"
   ]
  },
  {
   "cell_type": "code",
   "execution_count": null,
   "id": "40bba49b-20f3-4633-b44b-8a49e9fa615b",
   "metadata": {
    "tags": []
   },
   "outputs": [],
   "source": [
    "plot_filter_symbols = {'u': 'o', 'g': '^', 'r': 'v', 'i': 's', 'z': '*', 'y': 'p'}\n",
    "plot_filter_labels = {'u':'u', 'g':'g', 'r':'r', 'i':'i', 'z':'z', 'y':'y'}\n",
    "plot_filter_colors = {'u': '#56b4e9', 'g': '#008060', 'r': '#ff4000',\n",
    "                      'i': '#850000', 'z': '#6600cc', 'y': '#000000'}\n",
    "def plotlc(bands, days, magnitudes, out_name):\n",
    "    \"\"\"\n",
    "    Create a light curve.\n",
    "\n",
    "    Input Parameters\n",
    "    ----------\n",
    "    days : dictionary for MJD in each band \n",
    "    magnitudes : dictionary for flux in each band\n",
    "    out_name : file name where you'd like to save it\n",
    "    \n",
    "    Returns\n",
    "    ----------\n",
    "    light curve image\n",
    "    \"\"\"\n",
    "\n",
    "    fig = plt.figure(figsize=(10,4))\n",
    "    for band in bands:\n",
    "        plt.plot(days[band], magnitudes[band] - np.mean(magnitudes[band]),\\\n",
    "                 plot_filter_symbols[band], ms=4, label=plot_filter_labels[band])\n",
    "    plt.minorticks_on()\n",
    "    plt.xlabel('MJD (days)')\n",
    "    plt.ylabel('magnitude')\n",
    "    plt.legend('upper right')\n",
    "    plt.legend()\n",
    "    plt.savefig(out_name)\n",
    "    return fig\n",
    "\n",
    "def remove_figure(fig):\n",
    "    \"\"\"\n",
    "    Remove a figure to reduce memory footprint.\n",
    "    Parameters\n",
    "    ----------\n",
    "    fig: matplotlib.figure.Figure\n",
    "        Figure to be removed.\n",
    "    Returns\n",
    "    -------\n",
    "    None\n",
    "    \"\"\"\n",
    "    # get the axes and clear their images\n",
    "    for ax in fig.get_axes():\n",
    "        for im in ax.get_images():\n",
    "            im.remove()\n",
    "    fig.clf()       # clear the figure\n",
    "    plt.close(fig)  # close the figure\n",
    "\n",
    "    gc.collect()    # call th"
   ]
  },
  {
   "cell_type": "code",
   "execution_count": null,
   "id": "4017ff1d-99de-4bad-b8e8-095d13482d63",
   "metadata": {
    "tags": []
   },
   "outputs": [],
   "source": [
    "stars_matchid = variable_stars['match_objectId'].to_numpy()\n",
    "stars_ra = variable_stars['ra'].to_numpy()\n",
    "stars_dec = variable_stars['dec'].to_numpy()\n",
    "\n",
    "df_row = []\n",
    "df_final = []\n",
    "\n",
    "fields_to_add = [\"sourceId\", \"coord_ra\", \"coord_dec\"] # fields to add to the maifest file\n",
    "\n",
    "for j, objid in enumerate(stars_matchid):\n",
    "# for j, objid in enumerate([\"1251270620688185329\"]):\n",
    "    cutouts = []\n",
    "    \n",
    "    figout_data = {\"sourceId\": stars_matchid[j]}\n",
    "    if \"coord_ra\" in fields_to_add:\n",
    "        figout_data[\"coord_ra\"] = stars_ra[j]\n",
    "    if \"coord_dec\" in fields_to_add:\n",
    "        figout_data[\"coord_dec\"] = stars_dec[j]\n",
    "    \n",
    "    # Query the variable star flux, detector and visit information\n",
    "    ccd_flux_table = query_flux(objid)\n",
    "    \n",
    "    # Get calexp images from Butler and plot them\n",
    "    idx_images = np.round(np.linspace(0, len(ccd_flux_table) - 1, num_variable_images)).astype(int)  #randomly select 5 images for each variable star\n",
    "    image_dict = {} \n",
    "    \n",
    "    for i,idx in enumerate(idx_images):\n",
    "        star_ra = ccd_flux_table['coord_ra'][idx]\n",
    "        star_dec = ccd_flux_table['coord_dec'][idx]\n",
    "        star_detector = ccd_flux_table['detector'][idx]\n",
    "        star_visitid = ccd_flux_table['visitId'][idx]\n",
    "        star_id = ccd_flux_table['objectId'][idx]\n",
    "        star_ccdid = ccd_flux_table['ccdVisitId'][idx]\n",
    "        \n",
    "        calexp_image = get_cutout_image(butler, star_ra, star_dec, star_visitid, star_detector, 'r', image_size, datasetType='calexp') # only r-band images \n",
    "        figout = make_calexp_fig(calexp_image, star_ra,star_dec,batch_dir+\"/images/\"+str(star_id)+\"_\"+str(star_ccdid)+\".png\")\n",
    "        remove_figure(figout)\n",
    "        \n",
    "        figout_data['location:image_'+str(i)] = str(star_id)+\"_\"+str(star_ccdid)+\".png\"\n",
    "        figout_data['filename'] = str(star_id)+\"_\"+str(star_ccdid)+\".png\"\n",
    "        \n",
    "    cutouts.append(figout_data)\n",
    "    \n",
    "    # manifest file\n",
    "    df_star = pd.DataFrame(data = cutouts, index=[0])\n",
    "    df_final.append(df_star)\n",
    "    \n",
    "    # flipbook data for each variable star\n",
    "    df = pd.DataFrame(data = image_dict, index=[0])\n",
    "    df_row.append(df)\n",
    "        \n",
    "    # Light curve for each variable star    \n",
    "    mjd_days, mags = utils.get_flux(ccd_flux_table)\n",
    "    figout = utils.plotlc(bands, mjd_days, mags, batch_dir+\"/lc_plots/\"+\"lc_\"+str(objid)+\".png\")\n",
    "    remove_figure(figout) \n",
    "    df_all_bands = []\n",
    "    for band in bands:\n",
    "        df = pd.DataFrame(data = {'band': [band]*len(mjd_days[band]), 'mjd_days': mjd_days[band], \\\n",
    "                          'mags': mags[band]}, index=None)\n",
    "        df_all_bands.append(df)\n",
    "    \n",
    "    df_final_lc = pd.concat(df_all_bands)\n",
    "    outfile = batch_dir+\"/text_files/\"+\"lc_\"+str(objid)+\".csv\"\n",
    "    df_final_lc.to_csv(outfile, index=False, sep=',')\n",
    "    \n",
    "df_manifest = pd.concat(df_final) # final manifest file with all variable stars\n",
    "outfile = batch_dir+\"images/manifest.csv\"\n",
    "df_manifest.to_csv(outfile, index=False, sep=',')\n"
   ]
  },
  {
   "cell_type": "markdown",
   "id": "bc11700a-5e27-4393-945e-fa235d0ef7dc",
   "metadata": {},
   "source": [
    "## Visualize the images we have saved\n",
    "Separating the two stars."
   ]
  },
  {
   "cell_type": "code",
   "execution_count": null,
   "id": "d3f3716a-82f8-41fd-b9f6-e7023b4e36cc",
   "metadata": {
    "tags": []
   },
   "outputs": [],
   "source": [
    "# go through your variable_stars_output/images\n",
    "# and make a figure\n",
    "\n",
    "image_dir = 'variable_stars_output/images/'\n",
    "star_name = np.zeros((query_num_stars, num_variable_images))\n",
    "star_name = []\n",
    "for i, id_star in enumerate(stars_matchid):\n",
    "    # go through and sort by ccdID so that they are in order of time\n",
    "    # DOUBLE CHECK THAT THIS IS TIME ORDER\n",
    "    ccdID_list = []\n",
    "    for j, file in enumerate(os.listdir(image_dir)):\n",
    "        if str.split(file,'.')[1] == 'png' and str.split(file,'_')[0] == str(id_star):\n",
    "            star_name.append(str(id_star)+'_'+str(int(str.split(str.split(file,'_')[1],'.')[0]))+'.png')\n",
    "\n",
    "# Okay now go through and plot each of these\n",
    "fig, axs = plt.subplots(1,5, figsize = (20,20))\n",
    "print('star', stars_matchid[0])\n",
    "for j in range(num_variable_images):\n",
    "    image = mpimg.imread(image_dir + star_name[j])\n",
    "    axs[j].imshow(image)\n",
    "    axs[j].axis('off')\n",
    "plt.show()\n",
    "\n",
    "fig, axs = plt.subplots(1,5, figsize = (20,20))\n",
    "print('star', stars_matchid[1])\n",
    "for j in range(num_variable_images):\n",
    "    image = mpimg.imread(image_dir + star_name[j+num_variable_images])\n",
    "    axs[j].imshow(image)\n",
    "    axs[j].axis('off')\n",
    "plt.show()\n"
   ]
  },
  {
   "cell_type": "code",
   "execution_count": null,
   "id": "0a53bb4f-7f78-4637-b193-723e25725d93",
   "metadata": {
    "tags": []
   },
   "outputs": [],
   "source": [
    "STOP"
   ]
  },
  {
   "cell_type": "code",
   "execution_count": null,
   "id": "d600c67b-2632-4873-a66b-bf1a09132438",
   "metadata": {
    "tags": []
   },
   "outputs": [],
   "source": [
    "# cutout_dir = batch_dir+\"images/\""
   ]
  },
  {
   "cell_type": "code",
   "execution_count": null,
   "id": "e6257c57-ac5d-40d9-86d7-014c95b0b930",
   "metadata": {
    "tags": []
   },
   "outputs": [],
   "source": [
    "# manifest_path = write_metadata_file(cutouts, cutout_dir)\n",
    "\n",
    "# print(\"The manifest CSV file can be found at the following relative path:\")\n",
    "# print(manifest_path)"
   ]
  },
  {
   "cell_type": "markdown",
   "id": "83fcc033-0d3b-49bc-a99d-5d1fa70102b0",
   "metadata": {},
   "source": [
    "## 3. Send data to Zooniverse"
   ]
  },
  {
   "cell_type": "code",
   "execution_count": null,
   "id": "7468587f-fa51-4266-96b2-364c7ff1eec4",
   "metadata": {
    "tags": []
   },
   "outputs": [],
   "source": [
    "cutout_dir = batch_dir+\"images/\""
   ]
  },
  {
   "cell_type": "code",
   "execution_count": null,
   "id": "c08f519a-0ff4-4c2b-9d73-1bf632c20db9",
   "metadata": {
    "tags": []
   },
   "outputs": [],
   "source": [
    "subject_set_name = \"test_flipbook\" "
   ]
  },
  {
   "cell_type": "code",
   "execution_count": null,
   "id": "970eefc1-592e-4d0a-b276-1463f20b0f7f",
   "metadata": {
    "tags": []
   },
   "outputs": [],
   "source": [
    "cit_sci_pipeline.send_image_data(subject_set_name, cutout_dir)"
   ]
  },
  {
   "cell_type": "code",
   "execution_count": null,
   "id": "2cfb8780-569f-489c-98ea-d750e568d325",
   "metadata": {},
   "outputs": [],
   "source": []
  }
 ],
 "metadata": {
  "kernelspec": {
   "display_name": "LSST",
   "language": "python",
   "name": "lsst"
  },
  "language_info": {
   "codemirror_mode": {
    "name": "ipython",
    "version": 3
   },
   "file_extension": ".py",
   "mimetype": "text/x-python",
   "name": "python",
   "nbconvert_exporter": "python",
   "pygments_lexer": "ipython3",
   "version": "3.11.4"
  }
 },
 "nbformat": 4,
 "nbformat_minor": 5
}
