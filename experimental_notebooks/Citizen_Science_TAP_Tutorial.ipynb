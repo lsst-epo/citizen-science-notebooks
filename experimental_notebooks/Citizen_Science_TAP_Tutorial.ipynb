{
 "cells": [
  {
   "cell_type": "markdown",
   "id": "40b39781-6a1b-40eb-a86b-b5b371d0993f",
   "metadata": {},
   "source": [
    "# Citizen Science Notebook - TAP Tutorial\n",
    "This notebook demonstrates the usage of using the TAP query service to curate tabular data and send it to Zooniverse"
   ]
  },
  {
   "cell_type": "markdown",
   "id": "2450d25d",
   "metadata": {},
   "source": [
    "## Create a Zooniverse Account\n",
    "If you haven't already, [create a Zooniverse account here.](https://www.zooniverse.org/)\n",
    "After creating your account, return to this notebook."
   ]
  },
  {
   "cell_type": "markdown",
   "id": "10cb6f4f-ea5e-44b5-a066-319647eaa956",
   "metadata": {},
   "source": [
    "## Terminal Prep Work\n",
    "The follow cell will run the necessary terminal commands that make this notebook possible."
   ]
  },
  {
   "cell_type": "code",
   "execution_count": 32,
   "id": "77d8e89a-5696-4f76-9e26-9f5df9acd005",
   "metadata": {},
   "outputs": [],
   "source": [
    "# Install panoptes client package to dependencies\n",
    "# !yum install zip\n",
    "# !python -m pip install panoptes-client\n",
    "!mkdir -p project/citizen-science/astro-cutouts/\n",
    "!mkdir -p project/citizen-science/tabular-data/\n",
    "!mkdir -p project/citizen-science/org\n",
    "# !python -m pip install google-cloud-storage"
   ]
  },
  {
   "cell_type": "code",
   "execution_count": 2,
   "id": "331cd588-ddce-4e32-abff-a7f3355679c9",
   "metadata": {},
   "outputs": [
    {
     "name": "stdout",
     "output_type": "stream",
     "text": [
      "Defaulting to user installation because normal site-packages is not writeable\n",
      "Collecting git+https://github.com/zooniverse/panoptes-python-client.git\n",
      "  Cloning https://github.com/zooniverse/panoptes-python-client.git to /tmp/pip-req-build-v2c2sorn\n",
      "  Running command git clone --filter=blob:none --quiet https://github.com/zooniverse/panoptes-python-client.git /tmp/pip-req-build-v2c2sorn\n",
      "  Resolved https://github.com/zooniverse/panoptes-python-client.git to commit da059f5e1792569393f991faf71316e902e7f95b\n",
      "  Preparing metadata (setup.py) ... \u001b[?25ldone\n",
      "\u001b[?25hRequirement already satisfied: requests<2.29,>=2.4.2 in ./.local/lib/python3.10/site-packages (from panoptes-client==1.5.0) (2.26.0)\n",
      "Requirement already satisfied: future<0.19,>=0.16 in /opt/lsst/software/stack/conda/miniconda3-py38_4.9.2/envs/lsst-scipipe-4.0.0/lib/python3.10/site-packages (from panoptes-client==1.5.0) (0.18.2)\n",
      "Requirement already satisfied: python-magic<0.5,>=0.4 in ./.local/lib/python3.10/site-packages (from panoptes-client==1.5.0) (0.4.27)\n",
      "Requirement already satisfied: redo>=1.7 in ./.local/lib/python3.10/site-packages (from panoptes-client==1.5.0) (2.0.4)\n",
      "Requirement already satisfied: six>=1.9 in /opt/lsst/software/stack/conda/miniconda3-py38_4.9.2/envs/lsst-scipipe-4.0.0/lib/python3.10/site-packages (from panoptes-client==1.5.0) (1.16.0)\n",
      "Requirement already satisfied: certifi>=2017.4.17 in /opt/lsst/software/stack/conda/miniconda3-py38_4.9.2/envs/lsst-scipipe-4.0.0/lib/python3.10/site-packages (from requests<2.29,>=2.4.2->panoptes-client==1.5.0) (2022.5.18.1)\n",
      "Requirement already satisfied: charset-normalizer~=2.0.0 in /opt/lsst/software/stack/conda/miniconda3-py38_4.9.2/envs/lsst-scipipe-4.0.0/lib/python3.10/site-packages (from requests<2.29,>=2.4.2->panoptes-client==1.5.0) (2.0.12)\n",
      "Requirement already satisfied: idna<4,>=2.5 in /opt/lsst/software/stack/conda/miniconda3-py38_4.9.2/envs/lsst-scipipe-4.0.0/lib/python3.10/site-packages (from requests<2.29,>=2.4.2->panoptes-client==1.5.0) (3.3)\n",
      "Requirement already satisfied: urllib3<1.27,>=1.21.1 in /opt/lsst/software/stack/conda/miniconda3-py38_4.9.2/envs/lsst-scipipe-4.0.0/lib/python3.10/site-packages (from requests<2.29,>=2.4.2->panoptes-client==1.5.0) (1.26.9)\n"
     ]
    }
   ],
   "source": [
    "# temp workaround code\n",
    "!python -m pip install -U git+https://github.com/zooniverse/panoptes-python-client.git"
   ]
  },
  {
   "cell_type": "markdown",
   "id": "7b87346d",
   "metadata": {},
   "source": [
    "## Log in to Zooniverse\n",
    "Now that you have a Zooniverse account, log into the Zooniverse(Panoptes) client."
   ]
  },
  {
   "cell_type": "code",
   "execution_count": 4,
   "id": "5a3d8310-d278-4785-998b-246e0ce181fc",
   "metadata": {},
   "outputs": [
    {
     "name": "stdout",
     "output_type": "stream",
     "text": [
      "Enter your Zooniverse credentials...\n"
     ]
    },
    {
     "name": "stdin",
     "output_type": "stream",
     "text": [
      "Username:  ericrosas\n",
      " ···········\n"
     ]
    }
   ],
   "source": [
    "# Log into Zooniverse\n",
    "import panoptes_client\n",
    "client = panoptes_client.Panoptes.connect(login=\"interactive\")"
   ]
  },
  {
   "cell_type": "markdown",
   "id": "5eb732ad-0ae7-4ce4-aaf8-1dd2bb0a3194",
   "metadata": {},
   "source": [
    " ## Look Up Your Zooniverse Project\n",
    " \n",
    " IMPORTANT: Your Zooniverse project must be set to \"public\", a \"private\" project will not work.\n",
    " \n",
    " The following code will not work if you have not authenticated in the cell titled \"Log in to Zooniverse\". </br>\n",
    " Supply the project name in the variable below.\n",
    " </br></br>\n",
    " Not that the `Project.find()` method expects the project name to reflect the \"slug\" of your project, if you don't know what a \"slug\" is in this context, see:</br>\n",
    " https://www.zooniverse.org/talk/18/967061?comment=1898157&page=1"
   ]
  },
  {
   "cell_type": "code",
   "execution_count": 5,
   "id": "19c7e27c-f908-423f-88ee-2a3fb1c4d0df",
   "metadata": {
    "tags": []
   },
   "outputs": [
    {
     "name": "stdout",
     "output_type": "stream",
     "text": [
      "18676\n",
      "Test Project\n",
      "{}\n",
      "IMPORTANT! Scroll down to the cell that starts with a title of 'IMPORTANT! Run the below cell...' before proceeding to the next cell\n"
     ]
    }
   ],
   "source": [
    "from panoptes_client import Project, SubjectSet\n",
    "\n",
    "## TO-DO: Enter your email address and the slug of your project\n",
    "email = \"erosas@lsst.org\"\n",
    "slugName = \"ericrosas/test-project\" # Add your slug name\n",
    "\n",
    "project = Project.find(slug=slugName)\n",
    "\n",
    "projectId = project.id\n",
    "\n",
    "print(projectId)\n",
    "\n",
    "print(project.display_name)\n",
    "\n",
    "for sub in project.links.subject_sets:\n",
    "    print(sub.completeness)\n",
    "print(\"IMPORTANT! Scroll down to the cell that starts with a title of 'IMPORTANT! Run the below cell...' before proceeding to the next cell\")"
   ]
  },
  {
   "cell_type": "code",
   "execution_count": null,
   "id": "c9226fa9-18cd-4093-9b5b-b16dce98866d",
   "metadata": {
    "tags": []
   },
   "outputs": [],
   "source": [
    "# import numpy as np\n",
    "# import threading\n",
    "\n",
    "# urls = []\n",
    "\n",
    "# def test_func(cutout):\n",
    "#     print(\"in test_func\")\n",
    "#     print(cutout)\n",
    "#     urls.append(...cutout)\n",
    "\n",
    "# arr = x = np.arange(105)\n",
    "# arrs = np.split(arr, len(arr) / 10)\n",
    "# for cutout in arrs:\n",
    "#     t = threading.Thread(target=test_func, args=(cutout,))\n",
    "#     t.start()\n",
    "#     t.join()\n",
    "    \n",
    "# print(\"done!\")\n",
    "# print(urls)\n",
    "    "
   ]
  },
  {
   "cell_type": "markdown",
   "id": "87b3885c-fef1-4fe2-a1d5-5110da3664f7",
   "metadata": {},
   "source": [
    "## Use TAP Query Service\n",
    "Curate data suitable for citizen science projects via the TAP query service."
   ]
  },
  {
   "cell_type": "code",
   "execution_count": 26,
   "id": "90813c05-0348-4622-91a8-c9b6d6a77eef",
   "metadata": {},
   "outputs": [
    {
     "name": "stdout",
     "output_type": "stream",
     "text": [
      "Object results:\n",
      "objectId,coord_dec,Coord_ra,g_ra,i_ra,r_ra,u_ra,y_ra,z_ra,g_decl,i_decl,r_decl,u_decl,y_decl,z_decl,g_bdFluxB,i_bdFluxB,r_bdFluxB,u_bdFluxB,y_bdFluxB,z_bdFluxB,g_bdFluxD,i_bdFluxD,r_bdFluxD,u_bdFluxD,y_bdFluxD,z_bdFluxD,g_bdReB,i_bdReB,r_bdReB,u_bdReB,y_bdReB,z_bdReB,g_bdReD,i_bdReD,r_bdReD,u_bdReD,y_bdReD,z_bdReD\n",
      "1248684569339659648,-44.5129261,49.9828082,49.9828082,49.9828074,49.9828082,49.9828089,49.9828155,49.9828081,-44.5129261,-44.5129258,-44.5129261,-44.5129266,-44.5129245,-44.5129261,143.4739176,312.5355335,221.5478106,149.8945172,349.1642643,454.021452,143.4986937,312.618792,221.6720905,150.1101976,349.3466818,454.3015611,0.0190425,0.0162886,0.0154906,0.0181445,0.0284412,0.0136813,0.0126596,0.0131273,0.0141665,0.0158401,0.0326817,0.0145683\n",
      "1248684569339659635,-44.51063,49.7664208,49.7664194,49.7664206,49.7664208,49.7663717,49.7664723,49.7664479,-44.5106283,-44.5106309,-44.51063,-44.5107366,-44.5105626,-44.5105733,95.8149671,163.9023157,142.0962176,103.5388001,-6.31e-05,nan,86.6917558,142.6656555,127.8858221,89.8580446,-6.32e-05,nan,1.8884387,1.8757646,1.8879875,1.8596253,1.9500082,nan,1.8805557,1.7214383,1.862496,1.6936345,1.9500082,nan\n",
      "1248684569339659636,-44.5091781,49.765766,49.7657649,49.7657658,49.765766,49.7657729,49.7657471,49.7657681,-44.5091778,-44.509178,-44.5091781,-44.5091548,-44.5091744,-44.5092116,77.5360336,118.3792,88.04451,-0.0001378,300.0634498,-0.0060565,77.6483157,118.5965379,87.9118468,-0.0001379,296.974617,-0.0060596,0.0375152,0.0216464,0.0730645,2.1596816,0.6199235,2.8497399,0.0881688,0.1051725,0.0381401,2.1596816,0.8987136,2.8497399\n",
      "1248684569339659637,-44.5139071,50.0702578,50.0702557,50.0702578,50.0702576,50.070267,50.0702954,50.0702569,-44.513908,-44.5139071,-44.5139069,-44.5138914,-44.513859,-44.5139244,229.1235641,379.6864836,216.5456836,323.7911325,116.7246756,276.1097045,209.7567426,349.7739053,198.9289634,288.2884077,103.5059713,236.5499513,1.3384434,1.2877563,1.2816037,1.5633303,1.8429609,1.2144222,1.3964737,1.3414322,1.3472917,1.5106354,1.8492645,0.9444894\n",
      "1248684569339659638,-44.5123156,49.8943233,49.8943233,49.8943233,49.8943232,49.8943237,49.8943213,49.8943228,-44.5123151,-44.5123156,-44.5123148,-44.5123188,-44.5123056,-44.512319,405.1169392,1499.1447916,1027.3024687,155.5436032,921.8472936,1807.7423309,350.3011827,1278.2098934,870.4157057,140.0675672,833.0462559,1611.3844001,2.2300113,2.0832041,2.0223183,1.8689464,1.8517661,2.2211455,1.8928556,1.7322726,1.6751186,1.8727079,1.8754636,2.025163\n",
      "1248684569339659639,-44.5126099,49.8953354,49.8953314,49.8953354,49.8953512,49.895332,49.8953531,49.8953348,-44.5126095,-44.5126099,-44.5126284,-44.5126119,-44.5125947,-44.5126103,34.6947272,258.2478027,17.871492,144.9582858,21.1271523,317.8547198,34.715794,258.3480301,15.6135272,144.9688846,14.9003743,318.0319284,0.0243517,0.0142272,1.8553551,0.0280301,1.8410127,0.0144892,0.0275511,0.0126116,1.8745071,0.013217,1.8417426,0.0229131\n",
      "1248684569339659640,-44.5115258,49.7810784,49.7810784,49.7810786,49.7810783,49.7810784,49.7810841,49.7810781,-44.5115258,-44.5115255,-44.5115258,-44.5115235,-44.5115178,-44.5115234,275.8069115,315.4004222,281.1691893,203.593069,349.3279616,303.3156607,270.0926369,310.0228893,275.9777059,200.9917434,346.9881248,299.0212602,0.58354,0.5812336,0.587554,0.5846792,0.6207007,0.6018327,0.7885859,0.8108734,0.8113006,0.8373033,0.9317985,0.8530693\n",
      "1248684569339659641,-44.5119118,49.7816127,49.7816127,49.7816143,49.7816134,49.7815661,49.7816367,49.7816367,-44.5119118,-44.5119125,-44.511913,-44.5118578,-44.5119267,-44.5119267,96.5634596,99.0303631,86.0181525,-1.0972047,354.1115262,14.4061234,96.6070682,98.988563,86.0782839,-1.0979116,312.8938062,10.4704485,0.0153366,0.0535031,0.0156053,0.1041025,1.862726,1.841955,0.0141441,0.0471652,0.0351668,0.1041025,1.8799192,1.8432088\n",
      "1248684569339659642,-44.51251,50.03217,50.0321699,50.03217,50.03217,50.0321702,50.0321715,50.0321703,-44.51251,-44.51251,-44.51251,-44.5125098,-44.5125094,-44.5125098,1825.0919361,3968.8568316,2390.4652848,1790.2717289,6083.3121086,5822.6575042,1621.9213652,3530.8095778,2117.669969,1648.575325,5947.9242532,5375.2226026,1.5394077,1.5372822,1.5551444,1.3930462,1.1302391,1.3672117,1.4728659,1.4722199,1.4732992,1.4856633,1.5293745,1.4693873\n",
      "1248684569339659643,-44.5134322,50.0331806,50.0331807,50.0331806,50.0331806,50.0331814,50.0331828,50.0331813,-44.5134322,-44.5134322,-44.5134322,-44.5134322,-44.5134321,-44.5134321,435.1640636,1338.951426,725.2400333,368.1628294,2700.6551149,2008.312575,422.692045,1304.7335796,706.3517757,362.0064584,2678.7536478,1976.6595548,0.7415102,0.723165,0.7251773,0.6968662,0.6562405,0.6856167,0.9700894,0.9628117,0.963653,0.974065,0.9724308,0.9604185\n",
      "\n",
      "DiaObject results:\n",
      "decl,ra,gPSFluxChi2,iPSFluxChi2,rPSFluxChi2,uPSFluxChi2,yPSFluxChi2,zPSFluxChi2,gPSFluxMax,iPSFluxMax,rPSFluxMax,uPSFluxMax,yPSFluxMax,zPSFluxMax,gPSFluxMin,iPSFluxMin,rPSFluxMin,uPSFluxMin,yPSFluxMin,zPSFluxMin,gPSFluxMean,iPSFluxMean,rPSFluxMean,uPSFluxMean,yPSFluxMean,zPSFluxMean,gPSFluxNdata,iPSFluxNdata,rPSFluxNdata,uPSFluxNdata,yPSFluxNdata,zPSFluxNdata\n",
      "1248684569339659648,-44.5129261,49.9828082,49.9828082,49.9828074,49.9828082,49.9828089,49.9828155,49.9828081,-44.5129261,-44.5129258,-44.5129261,-44.5129266,-44.5129245,-44.5129261,143.4739176,312.5355335,221.5478106,149.8945172,349.1642643,454.021452,143.4986937,312.618792,221.6720905,150.1101976,349.3466818,454.3015611,0.0190425,0.0162886,0.0154906,0.0181445,0.0284412,0.0136813,0.0126596,0.0131273,0.0141665,0.0158401,0.0326817,0.0145683\n",
      "1248684569339659635,-44.51063,49.7664208,49.7664194,49.7664206,49.7664208,49.7663717,49.7664723,49.7664479,-44.5106283,-44.5106309,-44.51063,-44.5107366,-44.5105626,-44.5105733,95.8149671,163.9023157,142.0962176,103.5388001,-6.31e-05,nan,86.6917558,142.6656555,127.8858221,89.8580446,-6.32e-05,nan,1.8884387,1.8757646,1.8879875,1.8596253,1.9500082,nan,1.8805557,1.7214383,1.862496,1.6936345,1.9500082,nan\n",
      "1248684569339659636,-44.5091781,49.765766,49.7657649,49.7657658,49.765766,49.7657729,49.7657471,49.7657681,-44.5091778,-44.509178,-44.5091781,-44.5091548,-44.5091744,-44.5092116,77.5360336,118.3792,88.04451,-0.0001378,300.0634498,-0.0060565,77.6483157,118.5965379,87.9118468,-0.0001379,296.974617,-0.0060596,0.0375152,0.0216464,0.0730645,2.1596816,0.6199235,2.8497399,0.0881688,0.1051725,0.0381401,2.1596816,0.8987136,2.8497399\n",
      "1248684569339659637,-44.5139071,50.0702578,50.0702557,50.0702578,50.0702576,50.070267,50.0702954,50.0702569,-44.513908,-44.5139071,-44.5139069,-44.5138914,-44.513859,-44.5139244,229.1235641,379.6864836,216.5456836,323.7911325,116.7246756,276.1097045,209.7567426,349.7739053,198.9289634,288.2884077,103.5059713,236.5499513,1.3384434,1.2877563,1.2816037,1.5633303,1.8429609,1.2144222,1.3964737,1.3414322,1.3472917,1.5106354,1.8492645,0.9444894\n",
      "1248684569339659638,-44.5123156,49.8943233,49.8943233,49.8943233,49.8943232,49.8943237,49.8943213,49.8943228,-44.5123151,-44.5123156,-44.5123148,-44.5123188,-44.5123056,-44.512319,405.1169392,1499.1447916,1027.3024687,155.5436032,921.8472936,1807.7423309,350.3011827,1278.2098934,870.4157057,140.0675672,833.0462559,1611.3844001,2.2300113,2.0832041,2.0223183,1.8689464,1.8517661,2.2211455,1.8928556,1.7322726,1.6751186,1.8727079,1.8754636,2.025163\n",
      "1248684569339659639,-44.5126099,49.8953354,49.8953314,49.8953354,49.8953512,49.895332,49.8953531,49.8953348,-44.5126095,-44.5126099,-44.5126284,-44.5126119,-44.5125947,-44.5126103,34.6947272,258.2478027,17.871492,144.9582858,21.1271523,317.8547198,34.715794,258.3480301,15.6135272,144.9688846,14.9003743,318.0319284,0.0243517,0.0142272,1.8553551,0.0280301,1.8410127,0.0144892,0.0275511,0.0126116,1.8745071,0.013217,1.8417426,0.0229131\n",
      "1248684569339659640,-44.5115258,49.7810784,49.7810784,49.7810786,49.7810783,49.7810784,49.7810841,49.7810781,-44.5115258,-44.5115255,-44.5115258,-44.5115235,-44.5115178,-44.5115234,275.8069115,315.4004222,281.1691893,203.593069,349.3279616,303.3156607,270.0926369,310.0228893,275.9777059,200.9917434,346.9881248,299.0212602,0.58354,0.5812336,0.587554,0.5846792,0.6207007,0.6018327,0.7885859,0.8108734,0.8113006,0.8373033,0.9317985,0.8530693\n",
      "1248684569339659641,-44.5119118,49.7816127,49.7816127,49.7816143,49.7816134,49.7815661,49.7816367,49.7816367,-44.5119118,-44.5119125,-44.511913,-44.5118578,-44.5119267,-44.5119267,96.5634596,99.0303631,86.0181525,-1.0972047,354.1115262,14.4061234,96.6070682,98.988563,86.0782839,-1.0979116,312.8938062,10.4704485,0.0153366,0.0535031,0.0156053,0.1041025,1.862726,1.841955,0.0141441,0.0471652,0.0351668,0.1041025,1.8799192,1.8432088\n",
      "1248684569339659642,-44.51251,50.03217,50.0321699,50.03217,50.03217,50.0321702,50.0321715,50.0321703,-44.51251,-44.51251,-44.51251,-44.5125098,-44.5125094,-44.5125098,1825.0919361,3968.8568316,2390.4652848,1790.2717289,6083.3121086,5822.6575042,1621.9213652,3530.8095778,2117.669969,1648.575325,5947.9242532,5375.2226026,1.5394077,1.5372822,1.5551444,1.3930462,1.1302391,1.3672117,1.4728659,1.4722199,1.4732992,1.4856633,1.5293745,1.4693873\n",
      "1248684569339659643,-44.5134322,50.0331806,50.0331807,50.0331806,50.0331806,50.0331814,50.0331828,50.0331813,-44.5134322,-44.5134322,-44.5134322,-44.5134322,-44.5134321,-44.5134321,435.1640636,1338.951426,725.2400333,368.1628294,2700.6551149,2008.312575,422.692045,1304.7335796,706.3517757,362.0064584,2678.7536478,1976.6595548,0.7415102,0.723165,0.7251773,0.6968662,0.6562405,0.6856167,0.9700894,0.9628117,0.963653,0.974065,0.9724308,0.9604185\n",
      "\n",
      "ForcedSource results:\n",
      "forcedSourceId,objectId,parentObjectId,coord_ra,coord_dec,skymap,tract,patch,band,ccdVisitId,detect_isPatchInner,detect_isPrimary,detect_isTractInner,localBackground_instFluxErr,localBackground_instFlux,localPhotoCalibErr,localPhotoCalib_flag,localPhotoCalib,localWcs_CDMatrix_1_1,localWcs_CDMatrix_1_2,localWcs_CDMatrix_2_1,localWcs_CDMatrix_2_2,localWcs_flag,pixelFlags_bad,pixelFlags_crCenter,pixelFlags_cr,pixelFlags_edge,pixelFlags_interpolatedCenter,pixelFlags_interpolated,pixelFlags_saturatedCenter,pixelFlags_saturated,pixelFlags_suspectCenter,pixelFlags_suspect,psfDiffFluxErr,psfDiffFlux_flag,psfDiffFlux,psfFluxErr,psfFlux_flag,psfFlux\n",
      "1248684569339659648,-44.5129261,49.9828082,49.9828082,49.9828074,49.9828082,49.9828089,49.9828155,49.9828081,-44.5129261,-44.5129258,-44.5129261,-44.5129266,-44.5129245,-44.5129261,143.4739176,312.5355335,221.5478106,149.8945172,349.1642643,454.021452,143.4986937,312.618792,221.6720905,150.1101976,349.3466818,454.3015611,0.0190425,0.0162886,0.0154906,0.0181445,0.0284412,0.0136813,0.0126596,0.0131273,0.0141665,0.0158401,0.0326817,0.0145683\n",
      "1248684569339659635,-44.51063,49.7664208,49.7664194,49.7664206,49.7664208,49.7663717,49.7664723,49.7664479,-44.5106283,-44.5106309,-44.51063,-44.5107366,-44.5105626,-44.5105733,95.8149671,163.9023157,142.0962176,103.5388001,-6.31e-05,nan,86.6917558,142.6656555,127.8858221,89.8580446,-6.32e-05,nan,1.8884387,1.8757646,1.8879875,1.8596253,1.9500082,nan,1.8805557,1.7214383,1.862496,1.6936345,1.9500082,nan\n",
      "1248684569339659636,-44.5091781,49.765766,49.7657649,49.7657658,49.765766,49.7657729,49.7657471,49.7657681,-44.5091778,-44.509178,-44.5091781,-44.5091548,-44.5091744,-44.5092116,77.5360336,118.3792,88.04451,-0.0001378,300.0634498,-0.0060565,77.6483157,118.5965379,87.9118468,-0.0001379,296.974617,-0.0060596,0.0375152,0.0216464,0.0730645,2.1596816,0.6199235,2.8497399,0.0881688,0.1051725,0.0381401,2.1596816,0.8987136,2.8497399\n",
      "1248684569339659637,-44.5139071,50.0702578,50.0702557,50.0702578,50.0702576,50.070267,50.0702954,50.0702569,-44.513908,-44.5139071,-44.5139069,-44.5138914,-44.513859,-44.5139244,229.1235641,379.6864836,216.5456836,323.7911325,116.7246756,276.1097045,209.7567426,349.7739053,198.9289634,288.2884077,103.5059713,236.5499513,1.3384434,1.2877563,1.2816037,1.5633303,1.8429609,1.2144222,1.3964737,1.3414322,1.3472917,1.5106354,1.8492645,0.9444894\n",
      "1248684569339659638,-44.5123156,49.8943233,49.8943233,49.8943233,49.8943232,49.8943237,49.8943213,49.8943228,-44.5123151,-44.5123156,-44.5123148,-44.5123188,-44.5123056,-44.512319,405.1169392,1499.1447916,1027.3024687,155.5436032,921.8472936,1807.7423309,350.3011827,1278.2098934,870.4157057,140.0675672,833.0462559,1611.3844001,2.2300113,2.0832041,2.0223183,1.8689464,1.8517661,2.2211455,1.8928556,1.7322726,1.6751186,1.8727079,1.8754636,2.025163\n",
      "1248684569339659639,-44.5126099,49.8953354,49.8953314,49.8953354,49.8953512,49.895332,49.8953531,49.8953348,-44.5126095,-44.5126099,-44.5126284,-44.5126119,-44.5125947,-44.5126103,34.6947272,258.2478027,17.871492,144.9582858,21.1271523,317.8547198,34.715794,258.3480301,15.6135272,144.9688846,14.9003743,318.0319284,0.0243517,0.0142272,1.8553551,0.0280301,1.8410127,0.0144892,0.0275511,0.0126116,1.8745071,0.013217,1.8417426,0.0229131\n",
      "1248684569339659640,-44.5115258,49.7810784,49.7810784,49.7810786,49.7810783,49.7810784,49.7810841,49.7810781,-44.5115258,-44.5115255,-44.5115258,-44.5115235,-44.5115178,-44.5115234,275.8069115,315.4004222,281.1691893,203.593069,349.3279616,303.3156607,270.0926369,310.0228893,275.9777059,200.9917434,346.9881248,299.0212602,0.58354,0.5812336,0.587554,0.5846792,0.6207007,0.6018327,0.7885859,0.8108734,0.8113006,0.8373033,0.9317985,0.8530693\n",
      "1248684569339659641,-44.5119118,49.7816127,49.7816127,49.7816143,49.7816134,49.7815661,49.7816367,49.7816367,-44.5119118,-44.5119125,-44.511913,-44.5118578,-44.5119267,-44.5119267,96.5634596,99.0303631,86.0181525,-1.0972047,354.1115262,14.4061234,96.6070682,98.988563,86.0782839,-1.0979116,312.8938062,10.4704485,0.0153366,0.0535031,0.0156053,0.1041025,1.862726,1.841955,0.0141441,0.0471652,0.0351668,0.1041025,1.8799192,1.8432088\n",
      "1248684569339659642,-44.51251,50.03217,50.0321699,50.03217,50.03217,50.0321702,50.0321715,50.0321703,-44.51251,-44.51251,-44.51251,-44.5125098,-44.5125094,-44.5125098,1825.0919361,3968.8568316,2390.4652848,1790.2717289,6083.3121086,5822.6575042,1621.9213652,3530.8095778,2117.669969,1648.575325,5947.9242532,5375.2226026,1.5394077,1.5372822,1.5551444,1.3930462,1.1302391,1.3672117,1.4728659,1.4722199,1.4732992,1.4856633,1.5293745,1.4693873\n",
      "1248684569339659643,-44.5134322,50.0331806,50.0331807,50.0331806,50.0331806,50.0331814,50.0331828,50.0331813,-44.5134322,-44.5134322,-44.5134322,-44.5134322,-44.5134321,-44.5134321,435.1640636,1338.951426,725.2400333,368.1628294,2700.6551149,2008.312575,422.692045,1304.7335796,706.3517757,362.0064584,2678.7536478,1976.6595548,0.7415102,0.723165,0.7251773,0.6968662,0.6562405,0.6856167,0.9700894,0.9628117,0.963653,0.974065,0.9724308,0.9604185\n",
      "\n"
     ]
    }
   ],
   "source": [
    "# Load up the TAP query service\n",
    "from lsst.rsp import get_tap_service, retrieve_query\n",
    "service = get_tap_service()\n",
    "\n",
    "def create_csv_from_tabular_data(tab_data):\n",
    "    tap_as_csv = ''\n",
    "    for i, col in enumerate(tab_data.fieldnames):\n",
    "        if i > 0:\n",
    "            tap_as_csv += ','\n",
    "        tap_as_csv += col\n",
    "\n",
    "    tap_as_csv += \"\\n\"\n",
    "\n",
    "    for result in object_results:\n",
    "        for i, col in enumerate(result.values()):\n",
    "            if i > 0:\n",
    "                tap_as_csv += ','\n",
    "            tap_as_csv += str(col)\n",
    "        tap_as_csv += \"\\n\"\n",
    "    return tap_as_csv\n",
    "\n",
    "\n",
    "### Object table query\n",
    "object_results = service.search(\"SELECT objectId, coord_dec, Coord_ra, g_ra, i_ra, r_ra, u_ra, y_ra, z_ra, g_decl, i_decl, r_decl, u_decl, y_decl, z_decl, g_bdFluxB, i_bdFluxB, r_bdFluxB, u_bdFluxB, y_bdFluxB, z_bdFluxB, g_bdFluxD, i_bdFluxD, r_bdFluxD, u_bdFluxD, y_bdFluxD, z_bdFluxD, g_bdReB, i_bdReB, r_bdReB, u_bdReB, y_bdReB, z_bdReB, g_bdReD, i_bdReD, r_bdReD, u_bdReD, y_bdReD, z_bdReD \"\\\n",
    "                         \"FROM dp02_dc2_catalogs.Object\", maxrec=10)\n",
    "# object_results_tab = object_results.to_table()\n",
    "# object_results_tab\n",
    "object_results_csv = create_csv_from_tabular_data(object_results)\n",
    "\n",
    "### DiaObject table query\n",
    "dia_object_results = service.search(\"SELECT decl, ra, gPSFluxChi2, iPSFluxChi2, rPSFluxChi2, uPSFluxChi2, yPSFluxChi2, zPSFluxChi2, gPSFluxMax, iPSFluxMax, rPSFluxMax, uPSFluxMax, yPSFluxMax, zPSFluxMax, gPSFluxMin, iPSFluxMin, rPSFluxMin, uPSFluxMin, yPSFluxMin, zPSFluxMin, gPSFluxMean, iPSFluxMean, rPSFluxMean, uPSFluxMean, yPSFluxMean, zPSFluxMean, gPSFluxNdata, iPSFluxNdata, rPSFluxNdata, uPSFluxNdata, yPSFluxNdata, zPSFluxNdata \"\\\n",
    "                         \"FROM dp02_dc2_catalogs.DiaObject\", maxrec=10)\n",
    "# dia_object_results_tab = dia_object_results.to_table()\n",
    "# dia_object_results_tab\n",
    "dia_object_results_csv = create_csv_from_tabular_data(dia_object_results)\n",
    "\n",
    "### ForcedSource table query\n",
    "forced_source_results = service.search(\"SELECT forcedSourceId, objectId, parentObjectId, coord_ra, coord_dec, skymap, tract, patch, band, ccdVisitId, detect_isPatchInner, detect_isPrimary, detect_isTractInner,localBackground_instFluxErr, localBackground_instFlux, localPhotoCalibErr, localPhotoCalib_flag, localPhotoCalib, localWcs_CDMatrix_1_1, localWcs_CDMatrix_1_2, localWcs_CDMatrix_2_1, localWcs_CDMatrix_2_2, localWcs_flag, pixelFlags_bad, pixelFlags_crCenter, pixelFlags_cr, pixelFlags_edge, pixelFlags_interpolatedCenter, pixelFlags_interpolated, pixelFlags_saturatedCenter, pixelFlags_saturated, pixelFlags_suspectCenter, pixelFlags_suspect, psfDiffFluxErr, psfDiffFlux_flag, psfDiffFlux, psfFluxErr, psfFlux_flag, psfFlux \"\\\n",
    "                         \"FROM dp02_dc2_catalogs.ForcedSource\", maxrec=10)\n",
    "# forced_source_results_tab = forced_source_results.to_table()\n",
    "# forced_source_results_tab\n",
    "forced_source_results_csv = create_csv_from_tabular_data(forced_source_results)\n",
    "\n",
    "print(\"Object results:\")\n",
    "print(object_results_csv)\n",
    "\n",
    "print(\"DiaObject results:\")\n",
    "print(dia_object_results_csv)\n",
    "\n",
    "print(\"ForcedSource results:\");\n",
    "print(forced_source_results_csv)"
   ]
  },
  {
   "cell_type": "markdown",
   "id": "5082536e-5cc6-4261-8bce-721e5bc0afe9",
   "metadata": {},
   "source": [
    "## Create a new subject set\n",
    "Run this before running the \"Send Data\" cell."
   ]
  },
  {
   "cell_type": "code",
   "execution_count": null,
   "id": "9cb27552-1f98-4930-a72f-1a09f1118834",
   "metadata": {},
   "outputs": [],
   "source": [
    "###!!! This notebook is under development and this functionality is not yet available !!!###\n",
    "\n",
    "# subject_set_name = \"app engine test - multithreading 22\" # give your subject set a name\n",
    "# subject_set_name"
   ]
  },
  {
   "cell_type": "markdown",
   "id": "54fc771b-ac2b-4304-ad5b-3819c78e0cfb",
   "metadata": {},
   "source": [
    "## Send the cutouts to Zooniverse\n",
    "Don't click the below cell multiple times, the upload will fail if multiple runs are attempted."
   ]
  },
  {
   "cell_type": "code",
   "execution_count": 38,
   "id": "af2d4d05-5925-4891-988e-1bf027ca1000",
   "metadata": {},
   "outputs": [
    {
     "name": "stdout",
     "output_type": "stream",
     "text": [
      "uploading for object query\n",
      "uploaded zip guid: 2e88fb75-a7f1-48ef-bb03-bc65d6a60649\n",
      "uploading for diaObject query\n",
      "uploaded zip guid: 9717ea95-d8c9-4ffc-9256-59e2750dc227\n",
      "uploading for forcedSource query\n",
      "uploaded zip guid: 72230706-e4e3-4d92-b377-dacff847cd62\n"
     ]
    },
    {
     "ename": "NameError",
     "evalue": "name 'h' is not defined",
     "output_type": "error",
     "traceback": [
      "\u001b[0;31m---------------------------------------------------------------------------\u001b[0m",
      "\u001b[0;31mNameError\u001b[0m                                 Traceback (most recent call last)",
      "Input \u001b[0;32mIn [37]\u001b[0m, in \u001b[0;36malert_edc_of_new_citsci_data\u001b[0;34m(vendor_batch_id, dataType, tabularGuid)\u001b[0m\n\u001b[1;32m    217\u001b[0m \u001b[38;5;28;01mtry\u001b[39;00m:\n\u001b[0;32m--> 218\u001b[0m     edc_endpoint \u001b[38;5;241m=\u001b[39m \u001b[38;5;124m\"\u001b[39m\u001b[38;5;124mhttps://rsp-data-exporter-dot-skyviewer.uw.r.appspot.com/citizen-science-bucket-ingest?email=\u001b[39m\u001b[38;5;124m\"\u001b[39m \u001b[38;5;241m+\u001b[39m email \u001b[38;5;241m+\u001b[39m \u001b[38;5;124m\"\u001b[39m\u001b[38;5;124m&vendor_project_id=\u001b[39m\u001b[38;5;124m\"\u001b[39m \u001b[38;5;241m+\u001b[39m \u001b[43mproject_id_str\u001b[49m \u001b[38;5;241m+\u001b[39m \u001b[38;5;124m\"\u001b[39m\u001b[38;5;124m&guid=\u001b[39m\u001b[38;5;124m\"\u001b[39m \u001b[38;5;241m+\u001b[39m tabularGuid \u001b[38;5;241m+\u001b[39m \u001b[38;5;124m\"\u001b[39m\u001b[38;5;124m&vendor_batch_id=\u001b[39m\u001b[38;5;124m\"\u001b[39m \u001b[38;5;241m+\u001b[39m \u001b[38;5;28mstr\u001b[39m(vendor_batch_id) \u001b[38;5;241m+\u001b[39m \u001b[38;5;124m\"\u001b[39m\u001b[38;5;124m&debug=True\u001b[39m\u001b[38;5;124m\"\u001b[39m\n\u001b[1;32m    219\u001b[0m     response \u001b[38;5;241m=\u001b[39m urllib\u001b[38;5;241m.\u001b[39mrequest\u001b[38;5;241m.\u001b[39murlopen(edc_endpoint)\u001b[38;5;241m.\u001b[39mread()\n",
      "\u001b[0;31mNameError\u001b[0m: name 'project_id_str' is not defined",
      "\nDuring handling of the above exception, another exception occurred:\n",
      "\u001b[0;31mNameError\u001b[0m                                 Traceback (most recent call last)",
      "Input \u001b[0;32mIn [38]\u001b[0m, in \u001b[0;36m<cell line: 6>\u001b[0;34m()\u001b[0m\n\u001b[1;32m      1\u001b[0m \u001b[38;5;66;03m# pp = pprint.PrettyPrinter(indent=2)\u001b[39;00m\n\u001b[1;32m      2\u001b[0m \u001b[38;5;66;03m# h = display(display_id='my-display')\u001b[39;00m\n\u001b[1;32m      3\u001b[0m \u001b[38;5;66;03m# h.display(None)\u001b[39;00m\n\u001b[1;32m      5\u001b[0m __cit_sci_data_type \u001b[38;5;241m=\u001b[39m _TABULAR_DATA \u001b[38;5;66;03m# Important: DO NOT change this value\u001b[39;00m\n\u001b[0;32m----> 6\u001b[0m \u001b[43msend_data\u001b[49m\u001b[43m(\u001b[49m\u001b[38;5;124;43m\"\u001b[39;49m\u001b[38;5;124;43mtabular test\u001b[39;49m\u001b[38;5;124;43m\"\u001b[39;49m\u001b[43m,\u001b[49m\u001b[43m \u001b[49m\u001b[43mobject_results_csv\u001b[49m\u001b[43m,\u001b[49m\u001b[43m \u001b[49m\u001b[43mdia_object_results_csv\u001b[49m\u001b[43m,\u001b[49m\u001b[43m \u001b[49m\u001b[43mforced_source_results_csv\u001b[49m\u001b[43m)\u001b[49m\n",
      "Input \u001b[0;32mIn [37]\u001b[0m, in \u001b[0;36msend_data\u001b[0;34m(subject_set_name, object_tabular_data, dia_object_tabular_data, forced_object_tabular_data)\u001b[0m\n\u001b[1;32m    112\u001b[0m \u001b[38;5;28mprint\u001b[39m(\u001b[38;5;124m\"\u001b[39m\u001b[38;5;124muploading for forcedSource query\u001b[39m\u001b[38;5;124m\"\u001b[39m)\n\u001b[1;32m    113\u001b[0m upload_csv_zip(forced_source_zip_path)\n\u001b[0;32m--> 115\u001b[0m edc_response \u001b[38;5;241m=\u001b[39m json\u001b[38;5;241m.\u001b[39mloads(\u001b[43malert_edc_of_new_citsci_data\u001b[49m\u001b[43m(\u001b[49m\u001b[38;5;124;43m\"\u001b[39;49m\u001b[38;5;124;43mtabular_test_data\u001b[39;49m\u001b[38;5;124;43m\"\u001b[39;49m\u001b[43m,\u001b[49m\u001b[43m \u001b[49m\u001b[43m_TABULAR_DATA\u001b[49m\u001b[43m,\u001b[49m\u001b[43m \u001b[49m\u001b[43mobject_zip_path\u001b[49m\u001b[43m[\u001b[49m\u001b[38;5;241;43m2\u001b[39;49m\u001b[43m]\u001b[49m\u001b[43m)\u001b[49m)\n\u001b[1;32m    116\u001b[0m edc_response2 \u001b[38;5;241m=\u001b[39m json\u001b[38;5;241m.\u001b[39mloads(alert_edc_of_new_citsci_data(\u001b[38;5;124m\"\u001b[39m\u001b[38;5;124mtabular_test_data\u001b[39m\u001b[38;5;124m\"\u001b[39m, _TABULAR_DATA, dia_object_zip_path[\u001b[38;5;241m2\u001b[39m]))\n\u001b[1;32m    117\u001b[0m edc_response3 \u001b[38;5;241m=\u001b[39m json\u001b[38;5;241m.\u001b[39mloads(alert_edc_of_new_citsci_data(\u001b[38;5;124m\"\u001b[39m\u001b[38;5;124mtabular_test_data\u001b[39m\u001b[38;5;124m\"\u001b[39m, _TABULAR_DATA, forced_source_zip_path[\u001b[38;5;241m2\u001b[39m]))\n",
      "Input \u001b[0;32mIn [37]\u001b[0m, in \u001b[0;36malert_edc_of_new_citsci_data\u001b[0;34m(vendor_batch_id, dataType, tabularGuid)\u001b[0m\n\u001b[1;32m    221\u001b[0m     \u001b[38;5;28;01mreturn\u001b[39;00m manifestUrl\n\u001b[1;32m    222\u001b[0m \u001b[38;5;28;01mexcept\u001b[39;00m \u001b[38;5;167;01mException\u001b[39;00m \u001b[38;5;28;01mas\u001b[39;00m e:\n\u001b[1;32m    223\u001b[0m     \u001b[38;5;66;03m# clean_up_unused_subject_set()\u001b[39;00m\n\u001b[0;32m--> 224\u001b[0m     \u001b[43mh\u001b[49m\u001b[38;5;241m.\u001b[39mupdate(e)\n\u001b[1;32m    225\u001b[0m     \u001b[38;5;28;01mreturn\u001b[39;00m\n",
      "\u001b[0;31mNameError\u001b[0m: name 'h' is not defined"
     ]
    }
   ],
   "source": [
    "# pp = pprint.PrettyPrinter(indent=2)\n",
    "# h = display(display_id='my-display')\n",
    "# h.display(None)\n",
    "\n",
    "__cit_sci_data_type = _TABULAR_DATA # Important: DO NOT change this value\n",
    "send_data(\"tabular test\", object_results_csv, dia_object_results_csv, forced_source_results_csv)"
   ]
  },
  {
   "cell_type": "markdown",
   "id": "5ab46347-49f3-441a-b5e7-0deb863c4c7e",
   "metadata": {},
   "source": [
    "## Show additional messages\n",
    "After running the above cell and receiving the message that the transfer has completed, run the below cell to show additional messages that were accrued during processing."
   ]
  },
  {
   "cell_type": "code",
   "execution_count": null,
   "id": "88d98c07-8981-4946-8ce0-71a32ae54a64",
   "metadata": {},
   "outputs": [],
   "source": [
    "print(edc_response[\"messages\"])"
   ]
  },
  {
   "cell_type": "markdown",
   "id": "bbe3f232-6b1b-4e3f-80b6-b3775cce8bb2",
   "metadata": {},
   "source": [
    "## Explicitly check the status of your data batch\n",
    "Is the send_data() call above stalling on \"Notifying the Rubin EPO Data Center...\" step? Run the below cell every few minutes to check the status of your data. Large datasets can cause the response to get lost, but that does not necessarily mean that your data was not sent to Zooniverse."
   ]
  },
  {
   "cell_type": "code",
   "execution_count": null,
   "id": "085e54d1-4872-4467-988c-8f2ac87f9850",
   "metadata": {},
   "outputs": [],
   "source": [
    "res = check_status()\n",
    "print(res[\"status\"])\n",
    "print(res[\"manifest_url\"])\n",
    "print(res[\"messages\"])\n",
    "if res[\"status\"] == \"success\":\n",
    "    global manifest_url\n",
    "    manifest_url = res[\"manifest_url\"]\n",
    "    send_zooniverse_manifest()"
   ]
  },
  {
   "cell_type": "markdown",
   "id": "8bcfd009-fea5-4a09-b83f-f65431819b29",
   "metadata": {},
   "source": [
    "## IMPORTANT! Run the below cell to activate the Rubin Citizen Science SDK"
   ]
  },
  {
   "cell_type": "code",
   "execution_count": 39,
   "id": "330f0ec7-df55-4df4-a590-732871fd5074",
   "metadata": {},
   "outputs": [
    {
     "name": "stdout",
     "output_type": "stream",
     "text": [
      "Loaded Citizen Science SDK\n"
     ]
    }
   ],
   "source": [
    "# HiPS astrocutout libraries\n",
    "from astroquery.hips2fits import hips2fits\n",
    "from IPython.display import display\n",
    "import matplotlib.pyplot as plt\n",
    "from matplotlib.colors import Colormap\n",
    "import astropy.units as u\n",
    "from astropy.coordinates import Longitude, Latitude, Angle\n",
    "\n",
    "# Zooniverse libraries\n",
    "# from panoptes_client import Panoptes, Project, SubjectSet\n",
    "\n",
    "# GCP libraries\n",
    "from google.cloud import storage\n",
    "\n",
    "# Import organizational libraries\n",
    "import time\n",
    "import uuid\n",
    "import os\n",
    "import shutil\n",
    "import pprint\n",
    "import pdb\n",
    "import json\n",
    "import urllib.request\n",
    "import subprocess\n",
    "\n",
    "# Prep work\n",
    "global email\n",
    "# hips = 'https://storage.googleapis.com/hips-data/images'\n",
    "# pp = pprint.PrettyPrinter(indent=2)\n",
    "# working_message = \"Status updating...\"\n",
    "# vendor_batch_id = 0\n",
    "_TABULAR_DATA = \"TABULAR_DATA\"\n",
    "# project_id = project.id\n",
    "guid = \"\"\n",
    "# cutouts_dir = \"\"\n",
    "# progress_message = \"\"\n",
    "# manifest_url = \"\"\n",
    "edc_response = \"\"\n",
    "timestamp = None\n",
    "before_zip = 0\n",
    "after_zip = 0\n",
    "\n",
    "def clean_up_unused_subject_set():\n",
    "    global client\n",
    "    global vendor_batch_id\n",
    "    h.update(\"Cleaning up unused subject set on the Zooniverse platform, vendor_batch_id : \" + str(vendor_batch_id))\n",
    "    \n",
    "    ss, etag = client.get(path=\"/subject_sets/\" + str(vendor_batch_id))\n",
    "    \n",
    "    json_response = client.delete(path='/subject_sets/' + str(vendor_batch_id), headers={\"If-Match\":etag})\n",
    "    \n",
    "    return\n",
    "\n",
    "def send_zooniverse_manifest():\n",
    "    # import json\n",
    "    global vendor_batch_id\n",
    "    global manifest_url\n",
    "    global client\n",
    "    # subject_set.id\n",
    "    # h.update(\"Sending project manifest to Zoonverse...\")\n",
    "    h.update(\"subject_set.id: \" + str(vendor_batch_id) + \"; manifest: \" + manifest_url);\n",
    "\n",
    "    payload = {\"subject_set_imports\": {\"source_url\": manifest_url, \"links\": {\"subject_set\": str(vendor_batch_id)}}}\n",
    "\n",
    "    json_response, etag = client.post(path='/subject_set_imports', json=payload)\n",
    "    return\n",
    "\n",
    "def create_new_subject_set(name):\n",
    "    h.update(\"Creating a new Zooniverse subject set\")\n",
    "    # Create a new subject set\n",
    "    global project\n",
    "    global panoptes_client\n",
    "    global vendor_batch_id\n",
    "    h.update(project.id)\n",
    "    subject_set = panoptes_client.SubjectSet()\n",
    "    subject_set.links.project = project\n",
    "\n",
    "    # Give the subject set a display name (that will only be visible to you on the Zooniverse platform)\n",
    "    subject_set.display_name = name \n",
    "\n",
    "    subject_set.save()\n",
    "    project.reload()\n",
    "    vendor_batch_id = subject_set.id\n",
    "    return vendor_batch_id\n",
    "\n",
    "def check_status():\n",
    "    # global guid\n",
    "    guid = \"01b080e8-75b2-437d-ab7e-f8ec3be038a9\"\n",
    "    status_uri = \"https://rsp-data-exporter-e3g4rcii3q-uc.a.run.app/citizen-science-ingest-status?guid=\" + guid\n",
    "    raw_response = urllib.request.urlopen(status_uri).read()\n",
    "    response = raw_response.decode('UTF-8')\n",
    "    return json.loads(response)\n",
    "\n",
    "\n",
    "# Validates that the RSP user is allowed to create a new subject set\n",
    "def send_data(subject_set_name, object_tabular_data = None, dia_object_tabular_data = None, forced_object_tabular_data = None):\n",
    "    # h.update(\"Checking batch status\")\n",
    "    global manifest_url, edc_response\n",
    "    # if has_active_batch() == True:\n",
    "    #     h.update(\"Active batch exists!!! Continuing because this notebook is in debug mode\")\n",
    "    #    # raise CitizenScienceError(\"You cannot send another batch of data while a subject set is still active on the Zooniverse platform - you can only send a new batch of data if all subject sets associated to a project have been completed.\")\n",
    "    if __cit_sci_data_type == _TABULAR_DATA:\n",
    "        # Convert in-memory CSV to CSV file then zip and return path/filename\n",
    "        object_zip_path = zip_tabular_data(object_tabular_data)\n",
    "        dia_object_zip_path = zip_tabular_data(dia_object_tabular_data)\n",
    "        forced_source_zip_path = zip_tabular_data(forced_object_tabular_data)\n",
    "        \n",
    "        print(\"uploading for object query\")\n",
    "        upload_csv_zip(object_zip_path)\n",
    "        print(\"uploading for diaObject query\")\n",
    "        upload_csv_zip(dia_object_zip_path)\n",
    "        print(\"uploading for forcedSource query\")\n",
    "        upload_csv_zip(forced_source_zip_path)\n",
    "        \n",
    "        edc_response = json.loads(alert_edc_of_new_citsci_data(\"tabular_test_data\", _TABULAR_DATA, object_zip_path[2]))\n",
    "        edc_response2 = json.loads(alert_edc_of_new_citsci_data(\"tabular_test_data\", _TABULAR_DATA, dia_object_zip_path[2]))\n",
    "        edc_response3 = json.loads(alert_edc_of_new_citsci_data(\"tabular_test_data\", _TABULAR_DATA, forced_source_zip_path[2]))\n",
    "                                                                                                                   \n",
    "        print(\"EDC Responses:\")\n",
    "        print(edc_response)\n",
    "        print(edc_response2)\n",
    "        print(edc_response3)\n",
    "        \n",
    "        # subject_set_id = create_new_subject_set(subject_set_name)\n",
    "        # if timestamp != None and ((round(time.time() * 1000)) - timestamp) > 300000:\n",
    "        #     h.update(\"You must wait five minutes between sending batches of data, please try again in a few minutes.\")\n",
    "        #     clean_up_unused_subject_set()\n",
    "        #     return # It has been less than 5 minutes since the user sent their last batch\n",
    "        # else:\n",
    "        #     timestamp = round(time.time() * 1000)\n",
    "        \n",
    "        # edc_response = json.loads(alert_edc_of_new_citsci_data(subject_set_id, _TABULAR_DATA))\n",
    "\n",
    "    # else:\n",
    "    #     send_butler_data_to_edc()\n",
    "    #     subject_set_id = create_new_subject_set(subject_set_name)\n",
    "    #     manifest_url = send_butler_data_to_edc()\n",
    "    \n",
    "    if edc_response[\"status\"] == \"success\":\n",
    "        # manifest_url = edc_response[\"manifest_url\"]\n",
    "        if len(edc_response[\"messages\"]) > 0:\n",
    "            # h.update(edc_response[\"messages\"])\n",
    "            print(edc_response[\"messages\"])\n",
    "        else:\n",
    "            print(\"finished processing\")\n",
    "            # h.update(manifest_url)\n",
    "    else:\n",
    "        print(\"something bad happened!!\")\n",
    "        # clean_up_unused_subject_set()\n",
    "        # # raise CitizenScienceError(edc_response[\"messages\"])\n",
    "        # h.update(edc_response)\n",
    "        return\n",
    "\n",
    "    # send_zooniverse_manifest()\n",
    "    # h.update(\"Transfer process complete, but further processing is required on the Zooniverse platform and you will receive an email at \" + email)\n",
    "    return\n",
    "\n",
    "def zip_tabular_data(tabular_data):\n",
    "    # global before_zip, after_zip\n",
    "    # before_zip = round(time.time() * 1000)\n",
    "    \n",
    "    global guid\n",
    "    guid = str(uuid.uuid4())\n",
    "    tabular_data_dir = \"./project/citizen-science/tabular-data/\"\n",
    "    data_dir = tabular_data_dir + guid\n",
    "    os.mkdir(data_dir);\n",
    "    \n",
    "    # h.update(\"Duplicating astro cutouts for testing purposes.\")\n",
    "    # beginning of temporary testing code\n",
    "    # for x in range(10005): # create 100 cutouts from the one cutout image\n",
    "    #     plt.imsave(data_dir + \"/cutout-\" + str(round(time.time() * 1000)) + \"-\" + str(x) + \".png\", result)\n",
    "    # end of temporary testing code\n",
    "    \n",
    "    # Save CSV files\n",
    "    # with open(os.path.join(data_dir, \"/tabular-data-\" + str(round(time.time() * 1000))) + \".csv\", \"w\") as newCSV:\n",
    "    #     newCSV.write(tabular_data)\n",
    "    #     shutil.make_archive(tabular_data_dir + guid, 'zip', data_dir)\n",
    "    #     return [tabular_data_dir + guid + '.zip', guid + '.zip', guid]\n",
    "    outFileName = data_dir + \"/tabular-data-\" + str(round(time.time() * 1000)) + \".csv\"\n",
    "    outFile = open(outFileName, \"w\")\n",
    "    outFile.write(tabular_data)\n",
    "    outFile.close()\n",
    "    shutil.make_archive(tabular_data_dir + guid, 'zip', data_dir)\n",
    "    \n",
    "    return [tabular_data_dir + guid + '.zip', guid + '.zip', guid]\n",
    "    \n",
    "    #subprocess.check_output(\"zip_tool\"\n",
    "    # h.update(\"Zipping up all the astro cutouts - this can take a few minutes with large data sets, but unlikely more than 10 minutes.\")\n",
    "    \n",
    "    \n",
    "    # after_zip = round(time.time() * 1000)\n",
    "    \n",
    "\n",
    "def upload_csv_zip(zip_path):\n",
    "    # global before_zip, after_zip\n",
    "    # h.update(\"Uploading the citizen science data, zipping up took : \")\n",
    "    bucket_name = \"citizen-science-data\"\n",
    "    # service_account_key = \"skyviewer-398f28c943e8.json\" # replace this with the GCP key provided to you\n",
    "    destination_blob_name = zip_path[1]\n",
    "    source_file_name = zip_path[0]\n",
    "    \n",
    "    print(\"uploaded zip guid: \" + zip_path[2])\n",
    "\n",
    "    storage_client = storage.Client()\n",
    "    bucket = storage_client.bucket(bucket_name)\n",
    "    blob = bucket.blob(destination_blob_name)\n",
    "\n",
    "    blob.upload_from_filename(source_file_name)\n",
    "    return\n",
    "\n",
    "def alert_edc_of_new_citsci_data(vendor_batch_id, dataType, tabularGuid):\n",
    "    # project_id_str = str(project_id)\n",
    "    # h.update(\"Notifying the Rubin EPO Data Center of the new data, which will finish processing of the data and notify Zooniverse\")\n",
    "    # h.update(\"Vendor batch ID : \" + str(vendor_batch_id))\n",
    "    # global guid\n",
    "    \n",
    "    try:\n",
    "        edc_endpoint = \"https://rsp-data-exporter-dot-skyviewer.uw.r.appspot.com/citizen-science-bucket-ingest?email=\" + email + \"&vendor_project_id=\" + project_id_str + \"&guid=\" + tabularGuid + \"&vendor_batch_id=\" + str(vendor_batch_id) + \"&debug=True\"\n",
    "        response = urllib.request.urlopen(edc_endpoint).read()\n",
    "        # manifestUrl = response.decode('UTF-8')\n",
    "        return manifestUrl\n",
    "    except Exception as e:\n",
    "        # clean_up_unused_subject_set()\n",
    "        # h.update(e)\n",
    "        return\n",
    "\n",
    "\n",
    "def send_butler_data_to_edc():\n",
    "    h.update(\"Notifying the Rubin EPO Data Center of the new data, which will finish processing of the data and notify Zooniverse\")\n",
    "    edcEndpoint = \"https://rsp-data-exporter-e3g4rcii3q-uc.a.run.app/citizen-science-butler-ingest?email=\" + email + \"&collection=\" + datasetId + \"&sourceId=\" + sourceId + \"&vendorProjectId=\" + str(projectId) + \"&vendor_batch_id=\" + str(vendor_batch_id)\n",
    "    print('Processing data for Zooniverse, this may take up to a few minutes.')\n",
    "    response = urllib.request.urlopen(edcEndpoint).read()\n",
    "    manifestUrl = response.decode('UTF-8')\n",
    "    return\n",
    "\n",
    "def has_active_batch():\n",
    "    active_batch = False\n",
    "    for subject_set in project.links.subject_sets:\n",
    "        for completeness_percent in list(subject_set.completeness.values()):\n",
    "            if completeness_percent == 1.0:\n",
    "                active_batch = True\n",
    "                break\n",
    "        if active_batch:\n",
    "            break\n",
    "    return active_batch\n",
    "\n",
    "# Custom error handling for this notebook\n",
    "class CitizenScienceError(Exception):\n",
    "   \n",
    "    # Constructor or Initializer\n",
    "    def __init__(self, value):\n",
    "        self.value = value\n",
    "   \n",
    "    # __str__ is to print() the value\n",
    "    def __str__(self):\n",
    "        return(repr(self.value))\n",
    "    \n",
    "print(\"Loaded Citizen Science SDK\")\n",
    "                            "
   ]
  },
  {
   "cell_type": "code",
   "execution_count": null,
   "id": "a861ca86-03dd-4e49-9063-ecd365745bfa",
   "metadata": {},
   "outputs": [],
   "source": [
    "print(guid)"
   ]
  },
  {
   "cell_type": "code",
   "execution_count": null,
   "id": "e679df45-1991-459f-9d73-8adecc1aeafd",
   "metadata": {},
   "outputs": [],
   "source": []
  },
  {
   "cell_type": "code",
   "execution_count": null,
   "id": "ec6ca7a4-71d7-42a7-b95d-32f832336aba",
   "metadata": {},
   "outputs": [],
   "source": []
  }
 ],
 "metadata": {
  "kernelspec": {
   "display_name": "LSST",
   "language": "python",
   "name": "lsst"
  },
  "language_info": {
   "codemirror_mode": {
    "name": "ipython",
    "version": 3
   },
   "file_extension": ".py",
   "mimetype": "text/x-python",
   "name": "python",
   "nbconvert_exporter": "python",
   "pygments_lexer": "ipython3",
   "version": "3.10.4"
  }
 },
 "nbformat": 4,
 "nbformat_minor": 5
}
