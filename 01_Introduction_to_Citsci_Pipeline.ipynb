{
 "cells": [
  {
   "cell_type": "markdown",
   "id": "e35cacce-77f6-486c-adc8-c6a22bf15c07",
   "metadata": {},
   "source": [
    "<img align=\"left\" src = https://project.lsst.org/sites/default/files/Rubin-O-Logo_0.png width=250 style=\"padding: 10px\" alt=\"Vera C. Rubin Observatory Logo\"> \n",
    "<h1 style=\"margin-top: 10px\">Introduction to the Citizen Science Pipeline</h1>\n",
    "Authors: Becky Nevin, Clare Higgs, and Eric Rosas <br>\n",
    "Contact author: Clare Higgs <br>\n",
    "Last verified to run: 2024-03-21 <br>\n",
    "LSST Science Pipelines version: Weekly 2024_04 <br>\n",
    "Container size: small or medium <br>\n",
    "Targeted learning level: beginner "
   ]
  },
  {
   "cell_type": "markdown",
   "id": "7ab73f57-e2e2-4cfb-a32d-da2a86b4e675",
   "metadata": {
    "execution": {
     "iopub.execute_input": "2023-09-08T02:10:17.367615Z",
     "iopub.status.busy": "2023-09-08T02:10:17.367250Z",
     "iopub.status.idle": "2023-09-08T02:10:17.373559Z",
     "shell.execute_reply": "2023-09-08T02:10:17.372613Z",
     "shell.execute_reply.started": "2023-09-08T02:10:17.367586Z"
    },
    "tags": []
   },
   "source": [
    "<b>Description:</b> This notebook guides a PI through the process of sending data from the Rubin Science Platform (RSP) to the Zooniverse and retrieving classifications from Zooniverse. <br><br>\n",
    "<b>Skills:</b> Table access protocol (TAP) query, Butler query, create and display cutout images, send cutout images to Zooniverse<br><br>\n",
    "<b>LSST Data Products:</b> deepCoadd images, manifest file<br><br>\n",
    "<b>Packages:</b> rubin.citsci, utils (citsci plotting and display utilities) <br><br>\n",
    "<b>Credit:</b> The TAP query is based on notebooks developed by Leanne Guy and the Butler query is based on notebooks developed by Alex Drlica-Wagner and Melissa Graham<br><br>\n",
    "<b>Get Support: </b>PIs new to DP0 are encouraged to find documentation and resources at <a href=\"https://dp0-2.lsst.io/\">dp0-2.lsst.io</a>. Support for this notebook is available and questions are welcome at cscience@lsst.org."
   ]
  },
  {
   "cell_type": "markdown",
   "id": "0e6fb8a1-9e30-470d-9a35-93742d276e6e",
   "metadata": {},
   "source": [
    "## Table of Contents\n",
    "* [1. Introduction](#first-bullet)\n",
    "* [1.1 Package imports](#second-bullet)\n",
    "* [1.2 Define functions and parameters](#third-bullet)\n",
    "* [2. Make a subject set to send to Zooniverse](#fourth-bullet)\n",
    "* [3. Create a manifest file](#fifth-bullet)\n",
    "* [4. Send the data to Zooniverse](#sixth-bullet)\n",
    "* [5. Retrieve the data](#seventh-bullet)"
   ]
  },
  {
   "cell_type": "markdown",
   "id": "6f8b563e-c151-476e-8ef0-9e8088d1ec61",
   "metadata": {},
   "source": [
    "## 1. Introduction <a class=\"anchor\" id=\"first-bullet\"></a>\n",
    "This notebook provides an introduction to how to use the rubin.citsci package to create cutout images and a manifest file, and send both of these to Zooniverse.\n",
    "\n",
    "This notebook will restrict the number of object sent to the Zooniverse to 100 objects. This limit is intended to demonstrate a project prior to full approval from the education and public outreach (EPO) Data Rights Panel."
   ]
  },
  {
   "cell_type": "markdown",
   "id": "3c74aaba-7c1a-4e82-acd1-9afefd742043",
   "metadata": {
    "execution": {
     "iopub.execute_input": "2023-09-14T21:09:26.622553Z",
     "iopub.status.busy": "2023-09-14T21:09:26.621412Z",
     "iopub.status.idle": "2023-09-14T21:09:26.766646Z",
     "shell.execute_reply": "2023-09-14T21:09:26.765543Z",
     "shell.execute_reply.started": "2023-09-14T21:09:26.622519Z"
    },
    "tags": []
   },
   "source": [
    "### 1.1 Package imports <a class=\"anchor\" id=\"second-bullet\"></a>"
   ]
  },
  {
   "cell_type": "markdown",
   "id": "09bfadd7-fa36-48c1-bb3b-f2c193c798fd",
   "metadata": {
    "execution": {
     "iopub.execute_input": "2023-09-25T18:31:03.183596Z",
     "iopub.status.busy": "2023-09-25T18:31:03.183249Z",
     "iopub.status.idle": "2023-09-25T18:31:32.779954Z",
     "shell.execute_reply": "2023-09-25T18:31:32.779107Z",
     "shell.execute_reply.started": "2023-09-25T18:31:03.183570Z"
    },
    "tags": []
   },
   "source": [
    "#### Install Pipeline Package\n",
    "\n",
    "First, install the Rubin Citizen Science Pipeline package by doing the following:\n",
    "\n",
    "1. Open up a New Launcher tab\n",
    "2. In the \"Other\" section of the New Launcher tab, click \"Terminal\"\n",
    "3. Use `pip` to install the `rubin.citsci` package by entering the following command:\n",
    "```\n",
    "pip install rubin.citsci\n",
    "```\n",
    "Note that this package will soon be installed directly on RSP.\n",
    "\n",
    "4. Confirm the next cell containing `from rubin.citsci import pipeline` works as expected and does not throw an error"
   ]
  },
  {
   "cell_type": "code",
   "execution_count": 1,
   "id": "73d12fc0-c926-489b-9713-2e427566274e",
   "metadata": {
    "execution": {
     "iopub.execute_input": "2024-05-02T16:32:13.701376Z",
     "iopub.status.busy": "2024-05-02T16:32:13.700795Z",
     "iopub.status.idle": "2024-05-02T16:32:16.393087Z",
     "shell.execute_reply": "2024-05-02T16:32:16.392463Z",
     "shell.execute_reply.started": "2024-05-02T16:32:13.701349Z"
    },
    "tags": []
   },
   "outputs": [],
   "source": [
    "from matplotlib import image as mpimg\n",
    "import matplotlib.pyplot as plt\n",
    "from rubin.citsci import pipeline\n",
    "import utils\n",
    "import os\n",
    "\n",
    "plt.style.use('tableau-colorblind10')"
   ]
  },
  {
   "cell_type": "markdown",
   "id": "9e60062b-f301-4d6c-9e29-e67aa55b2e62",
   "metadata": {},
   "source": [
    "### 1.2 Define functions and parameters <a class=\"anchor\" id=\"third-bullet\"></a>\n",
    "First, [create a Zooniverse account](https://www.zooniverse.org/accounts/registerhttps://www.zooniverse.org/accounts/register) and create your Zooniverse project.\n",
    "\n",
    "IMPORTANT: Your Zooniverse project must be set to \"public\", a \"private\" project will not work. Select this setting under the \"Visibility\" tab, (it does not need to be set to live). \n",
    "\n",
    "Supply the email associated with your Zooniverse account and project slug below. \n",
    "\n",
    "A \"slug\" is the string of your Zooniverse username and your project name without the leading forward slash, for instance: \"username/project-name\". [Click here for more details](https://www.zooniverse.org/talk/18/967061?comment=1898157&page=1).\n"
   ]
  },
  {
   "cell_type": "code",
   "execution_count": null,
   "id": "0edb67a4-1508-4b90-872c-8c42e642126b",
   "metadata": {
    "tags": []
   },
   "outputs": [],
   "source": [
    "email = \"\"\n",
    "slug_name = \"\"\n",
    "print(\"Loading and running utilities to establish a link with Zooniverse\")\n",
    "print(\"Enter your Zooniverse username followed by password below\")\n",
    "cit_sci_pipeline = pipeline.CitSciPipeline()\n",
    "cit_sci_pipeline.login_to_zooniverse(slug_name, email)"
   ]
  },
  {
   "cell_type": "markdown",
   "id": "1cf92062-0e45-44a8-988c-010104405ab3",
   "metadata": {},
   "source": [
    "## 2. Make a subject set to send to Zooniverse <a class=\"anchor\" id=\"fourth-bullet\"></a>\n",
    "A subject set is a collection of data (images, plots, etc) that are shown to citizen scientists. It is also the unit of data that is sent to Zooniverse.\n",
    "\n",
    "This notebook curates a subject set of objects to send to Zooniverse. This can be modified to create your own subject set. Your subject set must have 100 objects or less in the testing phase before your project is approved by the EPO Data Rights panel. \n",
    "\n",
    "This example makes a set of image cutouts of galaxies."
   ]
  },
  {
   "cell_type": "code",
   "execution_count": 2,
   "id": "7701a319-3c4a-4c37-a460-ef5f3169b483",
   "metadata": {
    "execution": {
     "iopub.execute_input": "2024-05-02T16:32:22.821475Z",
     "iopub.status.busy": "2024-05-02T16:32:22.820938Z",
     "iopub.status.idle": "2024-05-02T16:32:24.773388Z",
     "shell.execute_reply": "2024-05-02T16:32:24.772507Z",
     "shell.execute_reply.started": "2024-05-02T16:32:22.821438Z"
    },
    "tags": []
   },
   "outputs": [
    {
     "name": "stdout",
     "output_type": "stream",
     "text": [
      "Establishing the connection to the Butler\n",
      "Connected\n"
     ]
    }
   ],
   "source": [
    "print('Establishing the connection to the Butler')\n",
    "config = \"dp02\"\n",
    "collection = \"2.2i/runs/DP0.2\"\n",
    "service, butler, skymap = utils.setup_query_tools(config, collection)\n",
    "print('Connected')"
   ]
  },
  {
   "cell_type": "code",
   "execution_count": 4,
   "id": "a82ef1a9-4835-4aeb-afdf-accaaf7e3007",
   "metadata": {
    "execution": {
     "iopub.execute_input": "2024-05-02T16:32:27.325609Z",
     "iopub.status.busy": "2024-05-02T16:32:27.325305Z",
     "iopub.status.idle": "2024-05-02T16:32:27.329928Z",
     "shell.execute_reply": "2024-05-02T16:32:27.329117Z",
     "shell.execute_reply.started": "2024-05-02T16:32:27.325586Z"
    },
    "tags": []
   },
   "outputs": [
    {
     "name": "stdout",
     "output_type": "stream",
     "text": [
      "Setting the parameters for making image cutouts\n"
     ]
    }
   ],
   "source": [
    "print('Setting the parameters for making image cutouts')\n",
    "number_sources = 100  # change this to 100 for a full subject set test\n",
    "use_center_coords = \"62, -37\"\n",
    "use_radius = \"10.0\" # increased from 1 to 10"
   ]
  },
  {
   "cell_type": "markdown",
   "id": "8e240d4a-f8d3-4837-923f-12be9bff5f79",
   "metadata": {},
   "source": [
    "This query can be modified to select other types of sources.\n",
    "\n",
    "For more details, please have a look at the RSP tutorial notebooks (`/home/your_username/notebooks/tutorial-notebooks`)."
   ]
  },
  {
   "cell_type": "code",
   "execution_count": 5,
   "id": "119358cc-5244-4984-872c-a6311052d9c8",
   "metadata": {
    "execution": {
     "iopub.execute_input": "2024-05-02T16:32:29.473962Z",
     "iopub.status.busy": "2024-05-02T16:32:29.473664Z",
     "iopub.status.idle": "2024-05-02T16:51:30.562746Z",
     "shell.execute_reply": "2024-05-02T16:51:30.562148Z",
     "shell.execute_reply.started": "2024-05-02T16:32:29.473938Z"
    },
    "tags": []
   },
   "outputs": [
    {
     "name": "stdout",
     "output_type": "stream",
     "text": [
      "Running the TAP query to return objects\n"
     ]
    }
   ],
   "source": [
    "print('Running the TAP query to return objects')\n",
    "results = utils.run_tap_query(service, number_sources, use_center_coords, use_radius)"
   ]
  },
  {
   "cell_type": "code",
   "execution_count": 6,
   "id": "9bf4c80e-4402-4f0f-abe1-a6cd5ce6587c",
   "metadata": {
    "execution": {
     "iopub.execute_input": "2024-05-02T16:51:30.582443Z",
     "iopub.status.busy": "2024-05-02T16:51:30.582242Z",
     "iopub.status.idle": "2024-05-02T16:51:30.677577Z",
     "shell.execute_reply": "2024-05-02T16:51:30.677048Z",
     "shell.execute_reply.started": "2024-05-02T16:51:30.582427Z"
    },
    "tags": []
   },
   "outputs": [
    {
     "name": "stdout",
     "output_type": "stream",
     "text": [
      "Preparing the table\n"
     ]
    }
   ],
   "source": [
    "print('Preparing the table')\n",
    "results_table = utils.prep_table(results, skymap)"
   ]
  },
  {
   "cell_type": "markdown",
   "id": "972cec6c-be76-4d5a-8a67-7034968270e3",
   "metadata": {},
   "source": [
    "Have a look at the table you'll use to save the cutout images."
   ]
  },
  {
   "cell_type": "code",
   "execution_count": 7,
   "id": "ea7c6026-9d87-40ee-9f64-c507b72a36fc",
   "metadata": {
    "execution": {
     "iopub.execute_input": "2024-05-02T16:51:30.679402Z",
     "iopub.status.busy": "2024-05-02T16:51:30.678956Z",
     "iopub.status.idle": "2024-05-02T16:51:30.703071Z",
     "shell.execute_reply": "2024-05-02T16:51:30.702558Z",
     "shell.execute_reply.started": "2024-05-02T16:51:30.679379Z"
    },
    "tags": []
   },
   "outputs": [
    {
     "data": {
      "text/html": [
       "<div>\n",
       "<style scoped>\n",
       "    .dataframe tbody tr th:only-of-type {\n",
       "        vertical-align: middle;\n",
       "    }\n",
       "\n",
       "    .dataframe tbody tr th {\n",
       "        vertical-align: top;\n",
       "    }\n",
       "\n",
       "    .dataframe thead th {\n",
       "        text-align: right;\n",
       "    }\n",
       "</style>\n",
       "<table border=\"1\" class=\"dataframe\">\n",
       "  <thead>\n",
       "    <tr style=\"text-align: right;\">\n",
       "      <th></th>\n",
       "      <th>objectId</th>\n",
       "      <th>coord_ra</th>\n",
       "      <th>coord_dec</th>\n",
       "      <th>g_cModelFlux</th>\n",
       "      <th>r_cModelFlux</th>\n",
       "      <th>r_extendedness</th>\n",
       "      <th>r_inputCount</th>\n",
       "      <th>dataId</th>\n",
       "    </tr>\n",
       "  </thead>\n",
       "  <tbody>\n",
       "    <tr>\n",
       "      <th>0</th>\n",
       "      <td>1735548318118878445</td>\n",
       "      <td>58.052836</td>\n",
       "      <td>-34.460246</td>\n",
       "      <td>True</td>\n",
       "      <td>3.248070e+07</td>\n",
       "      <td>1.0</td>\n",
       "      <td>119</td>\n",
       "      <td>{'band': 'i', 'tract': 4026, 'patch': 35}</td>\n",
       "    </tr>\n",
       "    <tr>\n",
       "      <th>1</th>\n",
       "      <td>1569451693580520525</td>\n",
       "      <td>68.899699</td>\n",
       "      <td>-38.132622</td>\n",
       "      <td>True</td>\n",
       "      <td>2.467573e+07</td>\n",
       "      <td>1.0</td>\n",
       "      <td>112</td>\n",
       "      <td>{'band': 'i', 'tract': 3641, 'patch': 17}</td>\n",
       "    </tr>\n",
       "    <tr>\n",
       "      <th>2</th>\n",
       "      <td>1486020751264887901</td>\n",
       "      <td>61.069160</td>\n",
       "      <td>-38.889092</td>\n",
       "      <td>True</td>\n",
       "      <td>2.366054e+07</td>\n",
       "      <td>1.0</td>\n",
       "      <td>110</td>\n",
       "      <td>{'band': 'i', 'tract': 3447, 'patch': 38}</td>\n",
       "    </tr>\n",
       "    <tr>\n",
       "      <th>3</th>\n",
       "      <td>1405131879832653116</td>\n",
       "      <td>57.750488</td>\n",
       "      <td>-41.527408</td>\n",
       "      <td>True</td>\n",
       "      <td>2.145370e+07</td>\n",
       "      <td>1.0</td>\n",
       "      <td>88</td>\n",
       "      <td>{'band': 'i', 'tract': 3260, 'patch': 5}</td>\n",
       "    </tr>\n",
       "    <tr>\n",
       "      <th>4</th>\n",
       "      <td>1406565642995272460</td>\n",
       "      <td>65.058222</td>\n",
       "      <td>-40.864550</td>\n",
       "      <td>True</td>\n",
       "      <td>2.001011e+07</td>\n",
       "      <td>1.0</td>\n",
       "      <td>113</td>\n",
       "      <td>{'band': 'i', 'tract': 3263, 'patch': 21}</td>\n",
       "    </tr>\n",
       "    <tr>\n",
       "      <th>...</th>\n",
       "      <td>...</td>\n",
       "      <td>...</td>\n",
       "      <td>...</td>\n",
       "      <td>...</td>\n",
       "      <td>...</td>\n",
       "      <td>...</td>\n",
       "      <td>...</td>\n",
       "      <td>...</td>\n",
       "    </tr>\n",
       "    <tr>\n",
       "      <th>95</th>\n",
       "      <td>1738802872537087378</td>\n",
       "      <td>70.801779</td>\n",
       "      <td>-35.417240</td>\n",
       "      <td>True</td>\n",
       "      <td>8.489184e+06</td>\n",
       "      <td>1.0</td>\n",
       "      <td>121</td>\n",
       "      <td>{'band': 'i', 'tract': 4034, 'patch': 13}</td>\n",
       "    </tr>\n",
       "    <tr>\n",
       "      <th>96</th>\n",
       "      <td>1328289211190643174</td>\n",
       "      <td>63.030655</td>\n",
       "      <td>-41.951333</td>\n",
       "      <td>True</td>\n",
       "      <td>8.471841e+06</td>\n",
       "      <td>1.0</td>\n",
       "      <td>98</td>\n",
       "      <td>{'band': 'i', 'tract': 3081, 'patch': 40}</td>\n",
       "    </tr>\n",
       "    <tr>\n",
       "      <th>97</th>\n",
       "      <td>1822040300806253908</td>\n",
       "      <td>56.010396</td>\n",
       "      <td>-33.621789</td>\n",
       "      <td>True</td>\n",
       "      <td>8.442451e+06</td>\n",
       "      <td>1.0</td>\n",
       "      <td>113</td>\n",
       "      <td>{'band': 'i', 'tract': 4227, 'patch': 19}</td>\n",
       "    </tr>\n",
       "    <tr>\n",
       "      <th>98</th>\n",
       "      <td>1567199893766832417</td>\n",
       "      <td>58.931307</td>\n",
       "      <td>-38.618232</td>\n",
       "      <td>True</td>\n",
       "      <td>8.441964e+06</td>\n",
       "      <td>1.0</td>\n",
       "      <td>84</td>\n",
       "      <td>{'band': 'i', 'tract': 3636, 'patch': 6}</td>\n",
       "    </tr>\n",
       "    <tr>\n",
       "      <th>99</th>\n",
       "      <td>2003002322552126715</td>\n",
       "      <td>69.538642</td>\n",
       "      <td>-30.943210</td>\n",
       "      <td>True</td>\n",
       "      <td>8.352440e+06</td>\n",
       "      <td>1.0</td>\n",
       "      <td>102</td>\n",
       "      <td>{'band': 'i', 'tract': 4647, 'patch': 12}</td>\n",
       "    </tr>\n",
       "  </tbody>\n",
       "</table>\n",
       "<p>100 rows × 8 columns</p>\n",
       "</div>"
      ],
      "text/plain": [
       "               objectId   coord_ra  coord_dec  g_cModelFlux  r_cModelFlux  \\\n",
       "0   1735548318118878445  58.052836 -34.460246          True  3.248070e+07   \n",
       "1   1569451693580520525  68.899699 -38.132622          True  2.467573e+07   \n",
       "2   1486020751264887901  61.069160 -38.889092          True  2.366054e+07   \n",
       "3   1405131879832653116  57.750488 -41.527408          True  2.145370e+07   \n",
       "4   1406565642995272460  65.058222 -40.864550          True  2.001011e+07   \n",
       "..                  ...        ...        ...           ...           ...   \n",
       "95  1738802872537087378  70.801779 -35.417240          True  8.489184e+06   \n",
       "96  1328289211190643174  63.030655 -41.951333          True  8.471841e+06   \n",
       "97  1822040300806253908  56.010396 -33.621789          True  8.442451e+06   \n",
       "98  1567199893766832417  58.931307 -38.618232          True  8.441964e+06   \n",
       "99  2003002322552126715  69.538642 -30.943210          True  8.352440e+06   \n",
       "\n",
       "    r_extendedness  r_inputCount                                     dataId  \n",
       "0              1.0           119  {'band': 'i', 'tract': 4026, 'patch': 35}  \n",
       "1              1.0           112  {'band': 'i', 'tract': 3641, 'patch': 17}  \n",
       "2              1.0           110  {'band': 'i', 'tract': 3447, 'patch': 38}  \n",
       "3              1.0            88   {'band': 'i', 'tract': 3260, 'patch': 5}  \n",
       "4              1.0           113  {'band': 'i', 'tract': 3263, 'patch': 21}  \n",
       "..             ...           ...                                        ...  \n",
       "95             1.0           121  {'band': 'i', 'tract': 4034, 'patch': 13}  \n",
       "96             1.0            98  {'band': 'i', 'tract': 3081, 'patch': 40}  \n",
       "97             1.0           113  {'band': 'i', 'tract': 4227, 'patch': 19}  \n",
       "98             1.0            84   {'band': 'i', 'tract': 3636, 'patch': 6}  \n",
       "99             1.0           102  {'band': 'i', 'tract': 4647, 'patch': 12}  \n",
       "\n",
       "[100 rows x 8 columns]"
      ]
     },
     "execution_count": 7,
     "metadata": {},
     "output_type": "execute_result"
    }
   ],
   "source": [
    "results_table"
   ]
  },
  {
   "cell_type": "markdown",
   "id": "6422604f-0b48-4d81-a40b-a04f3434cfac",
   "metadata": {},
   "source": [
    "## 3. Create a manifest file <a class=\"anchor\" id=\"fifth-bullet\"></a>"
   ]
  },
  {
   "cell_type": "markdown",
   "id": "7347661c-1db0-4db5-bb16-8850d2bd7477",
   "metadata": {},
   "source": [
    "A manifest file is a csv file that is used to send all of the classification subjects to the Zooniverse. This file can be used to initiate options on the Zooniverse side. [Click here for an overview](https://about.pfe-preview.zooniverse.org/lab-how-to)\n",
    "\n",
    "To send data other than the example cutout images, edit the `make_manifest_with_images` utility. Note that Object ID must be included."
   ]
  },
  {
   "cell_type": "code",
   "execution_count": null,
   "id": "8a8b74ee-828f-432e-b8f8-68674749cea5",
   "metadata": {
    "tags": []
   },
   "outputs": [],
   "source": [
    "print('Specify the directory that the cutouts will be output to')\n",
    "batch_dir = \"./cutouts/\"\n",
    "print(f\"Make the manifest file and save both the manifest and the cutout images in this folder: {batch_dir}\")\n",
    "manifest = utils.make_manifest_with_deepcoadd_images(results_table, butler, batch_dir)"
   ]
  },
  {
   "cell_type": "markdown",
   "id": "e237db04-0e98-4dae-a515-56bb9bf4e6d5",
   "metadata": {},
   "source": [
    "Have a look at some of the cutout images. "
   ]
  },
  {
   "cell_type": "markdown",
   "id": "8184bf70-2218-497f-8a4b-72c9bcf8bfa4",
   "metadata": {},
   "source": [
    "The following cell will plot all images from the `batch_dir` preceded by their image names. The axes are pixel values, with ranges according to your preset radius. These are large co-added images centered on different coordinates; they contain many galaxies and stars."
   ]
  },
  {
   "cell_type": "code",
   "execution_count": null,
   "id": "e4e9239a-83fb-4052-8af1-a82b46be7775",
   "metadata": {
    "tags": []
   },
   "outputs": [],
   "source": [
    "for file in os.listdir(batch_dir):\n",
    "    plt.title(file)\n",
    "    image = mpimg.imread(batch_dir + file)\n",
    "    plt.imshow(image)\n",
    "    plt.axis('off')\n",
    "    plt.show()"
   ]
  },
  {
   "cell_type": "markdown",
   "id": "839852b0-4c95-424d-a2bf-f57e638b67df",
   "metadata": {},
   "source": [
    "There are multiple options for how to create the manifest file.\n",
    "### 3.1 Option 1: Write the manifest file to the filesystem automatically\n",
    "The below cell writes the `manifest.csv` file to the filesystem, which will be used by Zooniverse. This is the recommended option for PIs new to the citizen science pipeline."
   ]
  },
  {
   "cell_type": "code",
   "execution_count": null,
   "id": "c2605029-f988-4d7c-991d-82aabb60e07b",
   "metadata": {
    "tags": []
   },
   "outputs": [],
   "source": [
    "manifest_path = cit_sci_pipeline.write_manifest_file(manifest, batch_dir)\n",
    "print(\"The manifest CSV file can be found at the following relative path:\")\n",
    "print(manifest_path)"
   ]
  },
  {
   "cell_type": "markdown",
   "id": "320f390d-578a-4151-8cbd-f34954bbbb33",
   "metadata": {
    "tags": []
   },
   "source": [
    "### 3.2 Option 2: Make your own manifest file"
   ]
  },
  {
   "cell_type": "markdown",
   "id": "8113df75-ce7a-43e9-b6a8-7814d7c5452e",
   "metadata": {},
   "source": [
    "PIs are welcome to create their own manifest file. This is not the recommended option for PIs new to the citizen science pipeline.\n",
    "\n",
    "The manifest file _must_ abide by [RFC4180](https://datatracker.ietf.org/doc/html/rfc4180.html) as the backend service that parses the manifest file expects this format. In addition, you may have a column with no values, but there _must_ be an empty column value indicated with a comma. For example:\n",
    "\n",
    "Valid syntax for empty column:\n",
    "```\n",
    "column1,column2,empty_column,column4\n",
    "1,1,,4\n",
    "1,1,,4\n",
    "1,1,,4\n",
    "```\n",
    "\n",
    "**Important**: The manifest file must be named `manifest.csv` in order for the processing on the backend to work correctly."
   ]
  },
  {
   "cell_type": "markdown",
   "id": "d49a6864-8def-4e5c-8fe3-bc1a28f4600c",
   "metadata": {},
   "source": [
    "## 4. Send the data to Zooniverse <a class=\"anchor\" id=\"sixth-bullet\"></a>\n",
    "Zip up the data and send it to the Zooniverse."
   ]
  },
  {
   "cell_type": "markdown",
   "id": "8873bbd4-73fb-4c51-bf25-0149720db9e8",
   "metadata": {
    "execution": {
     "iopub.execute_input": "2024-03-19T21:47:19.011355Z",
     "iopub.status.busy": "2024-03-19T21:47:19.010761Z",
     "iopub.status.idle": "2024-03-19T21:54:25.445416Z",
     "shell.execute_reply": "2024-03-19T21:54:25.444691Z",
     "shell.execute_reply.started": "2024-03-19T21:47:19.011326Z"
    },
    "tags": []
   },
   "source": [
    "#### 4.1 Zip up the data\n",
    "Running the below cell will zip up all the cutouts into a single file - this can take 5 to 10 minutes for large data sets (> 5k cutouts)."
   ]
  },
  {
   "cell_type": "code",
   "execution_count": null,
   "id": "141d06a8-6cb7-47fb-805e-27a094dd2f69",
   "metadata": {
    "tags": []
   },
   "outputs": [],
   "source": [
    "zip_path = cit_sci_pipeline.zip_image_cutouts(batch_dir)"
   ]
  },
  {
   "cell_type": "markdown",
   "id": "00ba0c93-9498-4906-af94-44961b9f17d8",
   "metadata": {
    "execution": {
     "iopub.execute_input": "2024-03-19T21:47:19.011355Z",
     "iopub.status.busy": "2024-03-19T21:47:19.010761Z",
     "iopub.status.idle": "2024-03-19T21:54:25.445416Z",
     "shell.execute_reply": "2024-03-19T21:54:25.444691Z",
     "shell.execute_reply.started": "2024-03-19T21:47:19.011326Z"
    },
    "tags": []
   },
   "source": [
    "#### 4.2 Send image data\n",
    "\n",
    "This cell will let PIs send one subject set. Name the subject set as it will appear on Zooniverse.\n",
    "\n",
    "Running this cell will also initiate the data transfer and make your data available on the Zooniverse platform."
   ]
  },
  {
   "cell_type": "code",
   "execution_count": null,
   "id": "37db938f-157f-41da-8477-4289e8f0661d",
   "metadata": {
    "tags": []
   },
   "outputs": [],
   "source": [
    "subject_set_name = \"\"\n",
<<<<<<< HEAD
    "cit_sci_pipeline.send_image_data(subject_set_name, zip_path)"
=======
    "if len(subject_set_name) != 0:\n",
    "    cit_sci_pipeline.send_image_data(subject_set_name, batch_dir)\n",
    "else:\n",
    "    print(\"please set the subject set name, did not send batch\")"
>>>>>>> 243807c (removing manifest from send function, header fits)
   ]
  },
  {
   "cell_type": "markdown",
   "id": "dc25572f-5f14-46c6-8883-ac95e3aa072c",
   "metadata": {},
   "source": [
    "## 5. Retrieve the classification data from Zooniverse <a class=\"anchor\" id=\"seventh-bullet\"></a>\n",
    "There are two ways to do this:\n",
    "\n",
    "1) Go to your Zooniverse project and downloading the output csv files found on the 'Data Exports' tab. Click the 'Request new classification report' button and per Zooniverse: \"Please note some exports may take a long time to process. We will email you when they are ready. You can only request one of each type of data export within a 24-hour time period.\"\n",
    "\n",
    "2) Programatically (as demonstrated below). There are two ways to do this.\n",
    "\n",
    "Find the `project_id` on Zooniverse by selecting 'build a project' and then selecting the project. Note that you don't need to be the project owner."
   ]
  },
  {
   "cell_type": "code",
   "execution_count": null,
   "id": "2fdd6f12-c5c4-48f1-8981-0a1c8a88e8a5",
   "metadata": {
    "tags": []
   },
   "outputs": [],
   "source": [
    "print('Retrieve the classifications from Zooniverse')\n",
    "project_id = 19539\n",
    "raw_clas_data = cit_sci_pipeline.retrieve_data(project_id)\n",
    "\n",
    "counter = 0\n",
    "list_rows = []"
   ]
  },
  {
   "cell_type": "markdown",
   "id": "8b0faa81-cc20-4d19-81b1-9ec755d27998",
   "metadata": {},
   "source": [
    "If the following cell throws an error, restart the kernel and rerun the cell."
   ]
  },
  {
   "cell_type": "code",
   "execution_count": null,
   "id": "88411efd-422d-4f60-8eb1-a5fbbd38fbc8",
   "metadata": {},
   "outputs": [],
   "source": [
    "for row in raw_clas_data:\n",
    "    if counter == 0:\n",
    "        header = row\n",
    "    else:\n",
    "        list_rows.append(row)\n",
    "    counter += 1\n",
    "\n",
    "df = utils.pandas.DataFrame(list_rows, columns=header)\n",
    "df"
   ]
  }
 ],
 "metadata": {
  "kernelspec": {
   "display_name": "LSST",
   "language": "python",
   "name": "lsst"
  },
  "language_info": {
   "codemirror_mode": {
    "name": "ipython",
    "version": 3
   },
   "file_extension": ".py",
   "mimetype": "text/x-python",
   "name": "python",
   "nbconvert_exporter": "python",
   "pygments_lexer": "ipython3",
   "version": "3.11.7"
  },
  "toc-autonumbering": false,
  "toc-showcode": true,
  "toc-showmarkdowntxt": true,
  "toc-showtags": false
 },
 "nbformat": 4,
 "nbformat_minor": 5
}
