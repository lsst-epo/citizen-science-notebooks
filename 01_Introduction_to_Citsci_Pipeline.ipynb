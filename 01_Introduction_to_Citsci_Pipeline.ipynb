{
 "cells": [
  {
   "cell_type": "markdown",
   "id": "e35cacce-77f6-486c-adc8-c6a22bf15c07",
   "metadata": {},
   "source": [
    "<img align=\"left\" src = https://project.lsst.org/sites/default/files/Rubin-O-Logo_0.png width=250 style=\"padding: 10px\" alt=\"Vera C. Rubin Observatory Logo\"> \n",
    "<h1 style=\"margin-top: 10px\">Introduction to the Citizen Science Pipeline</h1>\n",
    "Authors: Becky Nevin, Clare Higgs, and Eric Rosas <br>\n",
    "Contact author: Clare Higgs <br>\n",
    "Last verified to run: 2024-07-09 <br>\n",
    "LSST Science Pipelines version: Weekly 2024_16 <br>\n",
    "Container size: small or medium <br>\n",
    "Targeted learning level: beginner "
   ]
  },
  {
   "cell_type": "markdown",
   "id": "7ab73f57-e2e2-4cfb-a32d-da2a86b4e675",
   "metadata": {
    "execution": {
     "iopub.execute_input": "2023-09-08T02:10:17.367615Z",
     "iopub.status.busy": "2023-09-08T02:10:17.367250Z",
     "iopub.status.idle": "2023-09-08T02:10:17.373559Z",
     "shell.execute_reply": "2023-09-08T02:10:17.372613Z",
     "shell.execute_reply.started": "2023-09-08T02:10:17.367586Z"
    },
    "tags": []
   },
   "source": [
    "<b>Description:</b> This notebook guides a PI through the process of sending data from the Rubin Science Platform (RSP) to the Zooniverse and retrieving classifications from Zooniverse. <br><br>\n",
    "<b>Skills:</b> Table access protocol (TAP) query, Butler query, create and display cutout images, send cutout images to Zooniverse<br><br>\n",
    "<b>LSST Data Products:</b> deepCoadd images, manifest file<br><br>\n",
    "<b>Packages:</b> rubin.citsci, utils (citsci plotting and display utilities) <br><br>\n",
    "<b>Credit:</b> The TAP query is based on notebooks developed by Leanne Guy and the Butler query is based on notebooks developed by Alex Drlica-Wagner and Melissa Graham<br><br>\n",
    "<b>Get Support: </b>PIs new to DP0 are encouraged to find documentation and resources at <a href=\"https://dp0-2.lsst.io/\">dp0-2.lsst.io</a>. Support for this notebook is available and questions are welcome at cscience@lsst.org."
   ]
  },
  {
   "cell_type": "markdown",
   "id": "0e6fb8a1-9e30-470d-9a35-93742d276e6e",
   "metadata": {},
   "source": [
    "## Table of Contents\n",
    "* [1. Introduction](#first-bullet)\n",
    "* [1.1 Package imports](#second-bullet)\n",
    "* [1.2 Define functions and parameters](#third-bullet)\n",
    "* [2. Make a subject set to send to Zooniverse](#fourth-bullet)\n",
    "* [3. Create a manifest file](#fifth-bullet)\n",
    "* [4. Send the data to Zooniverse](#sixth-bullet)\n",
    "* [5. Retrieve the data](#seventh-bullet)"
   ]
  },
  {
   "cell_type": "markdown",
   "id": "6f8b563e-c151-476e-8ef0-9e8088d1ec61",
   "metadata": {},
   "source": [
    "## 1. Introduction <a class=\"anchor\" id=\"first-bullet\"></a>\n",
    "This notebook provides an introduction to how to use the rubin.citsci package to create cutout images and a manifest file, and send both of these to Zooniverse.\n",
    "\n",
    "This notebook will restrict the number of object sent to the Zooniverse to 100 objects. This limit is intended to demonstrate a project prior to full approval from the education and public outreach (EPO) Data Rights Panel.\n",
    "\n",
    "It is recommended to explore the DP0.2 `tutorial-notebooks/` folder in your home directory, specifically tutorial `DP02_4a_Introduction_to_the_Butler.ipynb`."
   ]
  },
  {
   "cell_type": "markdown",
   "id": "3c74aaba-7c1a-4e82-acd1-9afefd742043",
   "metadata": {
    "execution": {
     "iopub.execute_input": "2023-09-14T21:09:26.622553Z",
     "iopub.status.busy": "2023-09-14T21:09:26.621412Z",
     "iopub.status.idle": "2023-09-14T21:09:26.766646Z",
     "shell.execute_reply": "2023-09-14T21:09:26.765543Z",
     "shell.execute_reply.started": "2023-09-14T21:09:26.622519Z"
    },
    "tags": []
   },
   "source": [
    "### 1.1 Package imports <a class=\"anchor\" id=\"second-bullet\"></a>"
   ]
  },
  {
   "cell_type": "markdown",
   "id": "b0d75d73-12d4-4663-aedd-f16d469b1f26",
   "metadata": {
    "execution": {
     "iopub.execute_input": "2023-09-25T18:31:03.183596Z",
     "iopub.status.busy": "2023-09-25T18:31:03.183249Z",
     "iopub.status.idle": "2023-09-25T18:31:32.779954Z",
     "shell.execute_reply": "2023-09-25T18:31:32.779107Z",
     "shell.execute_reply.started": "2023-09-25T18:31:03.183570Z"
    },
    "tags": []
   },
   "source": [
    "#### Install Pipeline Package\n",
    "\n",
    "First, install the Rubin Citizen Science Pipeline package by doing the following:\n",
    "\n",
    "1. Open up a New Launcher tab\n",
    "2. In the \"Other\" section of the New Launcher tab, click \"Terminal\"\n",
    "3. Use `pip` to install the `rubin.citsci` package by entering the following command:\n",
    "```\n",
    "pip install rubin.citsci\n",
    "```\n",
    "Note that this package will soon be installed directly on RSP.\n",
    "\n",
    "If this package is already installed, make sure it is updated:\n",
    "```\n",
    "pip install --upgrade rubin.citsci\n",
    "```\n",
    "\n",
    "4. Confirm the next cell containing `from rubin.citsci import pipeline` works as expected and does not throw an error"
   ]
  },
  {
   "cell_type": "code",
   "execution_count": null,
   "id": "73d12fc0-c926-489b-9713-2e427566274e",
   "metadata": {
    "tags": []
   },
   "outputs": [],
   "source": [
    "from matplotlib import image as mpimg\n",
    "import matplotlib.pyplot as plt\n",
    "from rubin.citsci import pipeline\n",
    "import utils\n",
    "import os\n",
    "import pandas as pd\n",
    "import fake.package\n",
    "\n",
    "plt.style.use('tableau-colorblind10')"
   ]
  },
  {
   "cell_type": "markdown",
   "id": "a5006c67-8254-45b9-8440-ff7c026a092d",
   "metadata": {},
   "source": [
    "### 1.2 Define functions and parameters <a class=\"anchor\" id=\"third-bullet\"></a>\n",
    "First, [create a Zooniverse account](https://www.zooniverse.org/accounts/registerhttps://www.zooniverse.org/accounts/register) and create your Zooniverse project.\n",
    "\n",
    "IMPORTANT: Your Zooniverse project must be set to \"public\", a \"private\" project will not work. Select this setting under the \"Visibility\" tab, (it does not need to be set to live). \n",
    "\n",
    "Supply the email associated with your Zooniverse account, and then follow the instructions in the prompt to log in and select your project by slug name. \n",
    "\n",
    "A \"slug\" is the string of your Zooniverse username and your project name without the leading forward slash, for instance: \"username/project-name\". [Click here for more details](https://www.zooniverse.org/talk/18/967061?comment=1898157&page=1).\n",
    "\n",
    "**The `rubin.citsci` package includes a method that creates a Zooniverse project from template. If you wish to use this feature, do not provide a slug_name and run the subsequent cell.**"
   ]
  },
  {
   "cell_type": "code",
   "execution_count": null,
   "id": "a577e133-35ae-4e54-9ee2-727f3dce996c",
   "metadata": {
    "tags": []
   },
   "outputs": [],
   "source": [
    "email = \"\"\n",
    "cit_sci_pipeline = pipeline.CitSciPipeline()\n",
    "cit_sci_pipeline.login_to_zooniverse(email)"
   ]
  },
  {
   "cell_type": "markdown",
   "id": "081794cf-f493-4832-9c1c-6641bcd9b4ed",
   "metadata": {
    "execution": {
     "iopub.execute_input": "2024-06-10T18:31:30.334716Z",
     "iopub.status.busy": "2024-06-10T18:31:30.333633Z",
     "iopub.status.idle": "2024-06-10T18:31:30.682149Z",
     "shell.execute_reply": "2024-06-10T18:31:30.681257Z",
     "shell.execute_reply.started": "2024-06-10T18:31:30.334679Z"
    },
    "tags": []
   },
   "source": [
    "**Run the following cell if you would like to create a new Zooniverse project from the Vera Rubin template**"
   ]
  },
  {
   "cell_type": "code",
   "execution_count": null,
   "id": "23a9b8b6-52b9-4211-81a0-e6ceee9fd08f",
   "metadata": {
    "tags": []
   },
   "outputs": [],
   "source": [
    "cit_sci_pipeline.create_new_project_from_template()"
   ]
  },
  {
   "cell_type": "markdown",
   "id": "1cf92062-0e45-44a8-988c-010104405ab3",
   "metadata": {},
   "source": [
    "## 2. Make a subject set to send to Zooniverse <a class=\"anchor\" id=\"fourth-bullet\"></a>\n",
    "A subject set is a collection of data (images, plots, etc) that are shown to citizen scientists. It is also the unit of data that is sent to Zooniverse.\n",
    "\n",
    "This notebook curates a subject set of objects to send to Zooniverse. This can be modified to create your own subject set. Your subject set must have 100 objects or less in the testing phase before your project is approved by the EPO Data Rights panel. \n",
    "\n",
    "This example makes a set of image cutouts of galaxies."
   ]
  },
  {
   "cell_type": "code",
   "execution_count": null,
   "id": "7701a319-3c4a-4c37-a460-ef5f3169b483",
   "metadata": {
    "tags": []
   },
   "outputs": [],
   "source": [
    "print('Establishing the connection to the Butler')\n",
    "config = \"dp02\"\n",
    "collection = \"2.2i/runs/DP0.2\"\n",
    "service, butler, skymap = utils.setup_query_tools(config, collection)\n",
    "print('Connected')"
   ]
  },
  {
   "cell_type": "code",
   "execution_count": null,
   "id": "a82ef1a9-4835-4aeb-afdf-accaaf7e3007",
   "metadata": {
    "tags": []
   },
   "outputs": [],
   "source": [
    "print('Setting the parameters for making image cutouts')\n",
    "number_sources = 5  # change this to 100 for a full subject set test\n",
    "use_center_coords = \"62, -37\"\n",
    "use_radius = \"1.0\"  # increased from 1 to 10 for a larger search"
   ]
  },
  {
   "cell_type": "markdown",
   "id": "8e240d4a-f8d3-4837-923f-12be9bff5f79",
   "metadata": {},
   "source": [
    "This query can be modified to select other types of sources.\n",
    "\n",
    "For more details, please have a look at the RSP tutorial notebooks (`/home/your_username/notebooks/tutorial-notebooks`)."
   ]
  },
  {
   "cell_type": "code",
   "execution_count": null,
   "id": "119358cc-5244-4984-872c-a6311052d9c8",
   "metadata": {
    "tags": []
   },
   "outputs": [],
   "source": [
    "print('Running the TAP query to return objects')\n",
    "results = utils.run_tap_query(\n",
    "    service, number_sources, use_center_coords, use_radius)"
   ]
  },
  {
   "cell_type": "code",
   "execution_count": null,
   "id": "9bf4c80e-4402-4f0f-abe1-a6cd5ce6587c",
   "metadata": {
    "tags": []
   },
   "outputs": [],
   "source": [
    "print('Preparing the table')\n",
    "results_table = utils.prep_table(results, skymap)"
   ]
  },
  {
   "cell_type": "markdown",
   "id": "972cec6c-be76-4d5a-8a67-7034968270e3",
   "metadata": {},
   "source": [
    "Have a look at the table you'll use to save the cutout images."
   ]
  },
  {
   "cell_type": "code",
   "execution_count": null,
   "id": "ea7c6026-9d87-40ee-9f64-c507b72a36fc",
   "metadata": {
    "tags": []
   },
   "outputs": [],
   "source": [
    "results_table"
   ]
  },
  {
   "cell_type": "markdown",
   "id": "6422604f-0b48-4d81-a40b-a04f3434cfac",
   "metadata": {},
   "source": [
    "## 3. Create a manifest file <a class=\"anchor\" id=\"fifth-bullet\"></a>"
   ]
  },
  {
   "cell_type": "markdown",
   "id": "7347661c-1db0-4db5-bb16-8850d2bd7477",
   "metadata": {},
   "source": [
    "A manifest file is a csv file that is used to send all of the classification subjects to the Zooniverse. This file can be used to initiate options on the Zooniverse side. [Click here for an overview](https://about.pfe-preview.zooniverse.org/lab-how-to)\n",
    "\n",
    "To send data other than the example cutout images, edit the `make_manifest_with_images` utility. Note that Object ID must be included."
   ]
  },
  {
   "cell_type": "code",
   "execution_count": null,
   "id": "8a8b74ee-828f-432e-b8f8-68674749cea5",
   "metadata": {
    "tags": []
   },
   "outputs": [],
   "source": [
    "print('Specify the directory that the cutouts will be output to')\n",
    "batch_dir = \"./cutouts/\"\n",
    "print(\n",
    "    \"Make the manifest file and \"\n",
    "    \"save both the manifest and \"\n",
    "    \"the cutout images in this folder: \"\n",
    "    f\"{batch_dir}\"\n",
    ")\n",
    "manifest = utils.make_manifest_with_deepcoadd_images(\n",
    "    results_table, butler, batch_dir)"
   ]
  },
  {
   "cell_type": "markdown",
   "id": "e237db04-0e98-4dae-a515-56bb9bf4e6d5",
   "metadata": {},
   "source": [
    "Have a look at some of the cutout images. "
   ]
  },
  {
   "cell_type": "markdown",
   "id": "8184bf70-2218-497f-8a4b-72c9bcf8bfa4",
   "metadata": {},
   "source": [
    "The following cell will plot all images from the `batch_dir` preceded by their image names. The axes are pixel values, with ranges according to your preset radius. These are large co-added images centered on different coordinates; they contain many galaxies and stars."
   ]
  },
  {
   "cell_type": "code",
   "execution_count": null,
   "id": "e4e9239a-83fb-4052-8af1-a82b46be7775",
   "metadata": {
    "tags": []
   },
   "outputs": [],
   "source": [
    "for file in os.listdir(batch_dir):\n",
    "    if file.endswith('.png'):\n",
    "        plt.title(file)\n",
    "        image = mpimg.imread(batch_dir + file)\n",
    "        plt.imshow(image)\n",
    "        plt.axis('off')\n",
    "        plt.show()"
   ]
  },
  {
   "cell_type": "markdown",
   "id": "839852b0-4c95-424d-a2bf-f57e638b67df",
   "metadata": {},
   "source": [
    "There are multiple options for how to create the manifest file.\n",
    "### 3.1 Option 1: Write the manifest file to the filesystem automatically\n",
    "The below cell writes the `manifest.csv` file to the filesystem, which will be used by Zooniverse. This is the recommended option for PIs new to the citizen science pipeline."
   ]
  },
  {
   "cell_type": "code",
   "execution_count": null,
   "id": "c2605029-f988-4d7c-991d-82aabb60e07b",
   "metadata": {
    "tags": []
   },
   "outputs": [],
   "source": [
    "manifest_path = cit_sci_pipeline.write_manifest_file(manifest, batch_dir)"
   ]
  },
  {
   "cell_type": "markdown",
   "id": "320f390d-578a-4151-8cbd-f34954bbbb33",
   "metadata": {
    "tags": []
   },
   "source": [
    "### 3.2 Option 2: Make your own manifest file"
   ]
  },
  {
   "cell_type": "markdown",
   "id": "8113df75-ce7a-43e9-b6a8-7814d7c5452e",
   "metadata": {},
   "source": [
    "PIs are welcome to create their own manifest file. This is not the recommended option for PIs new to the citizen science pipeline.\n",
    "\n",
    "The manifest file _must_ abide by [RFC4180](https://datatracker.ietf.org/doc/html/rfc4180.html) as the backend service that parses the manifest file expects this format. In addition, you may have a column with no values, but there _must_ be an empty column value indicated with a comma. For example:\n",
    "\n",
    "Valid syntax for empty column:\n",
    "```\n",
    "column1,column2,empty_column,column4\n",
    "1,1,,4\n",
    "1,1,,4\n",
    "1,1,,4\n",
    "```\n",
    "\n",
    "**Important**: The manifest file must be named `manifest.csv` in order for the processing on the backend to work correctly."
   ]
  },
  {
   "cell_type": "markdown",
   "id": "d49a6864-8def-4e5c-8fe3-bc1a28f4600c",
   "metadata": {},
   "source": [
    "## 4. Send the data to Zooniverse <a class=\"anchor\" id=\"sixth-bullet\"></a>\n",
    "Zip up the data and send it to the Zooniverse."
   ]
  },
  {
   "cell_type": "markdown",
   "id": "8873bbd4-73fb-4c51-bf25-0149720db9e8",
   "metadata": {
    "execution": {
     "iopub.execute_input": "2024-03-19T21:47:19.011355Z",
     "iopub.status.busy": "2024-03-19T21:47:19.010761Z",
     "iopub.status.idle": "2024-03-19T21:54:25.445416Z",
     "shell.execute_reply": "2024-03-19T21:54:25.444691Z",
     "shell.execute_reply.started": "2024-03-19T21:47:19.011326Z"
    },
    "tags": []
   },
   "source": [
    "#### 4.1 Zip up the data\n",
    "Running the below cell will zip up all the cutouts into a single file - this can take 5 to 10 minutes for large data sets (> 5k cutouts)."
   ]
  },
  {
   "cell_type": "code",
   "execution_count": null,
   "id": "141d06a8-6cb7-47fb-805e-27a094dd2f69",
   "metadata": {
    "tags": []
   },
   "outputs": [],
   "source": [
    "zip_path = cit_sci_pipeline.zip_image_cutouts(batch_dir)"
   ]
  },
  {
   "cell_type": "markdown",
   "id": "00ba0c93-9498-4906-af94-44961b9f17d8",
   "metadata": {
    "execution": {
     "iopub.execute_input": "2024-03-19T21:47:19.011355Z",
     "iopub.status.busy": "2024-03-19T21:47:19.010761Z",
     "iopub.status.idle": "2024-03-19T21:54:25.445416Z",
     "shell.execute_reply": "2024-03-19T21:54:25.444691Z",
     "shell.execute_reply.started": "2024-03-19T21:47:19.011326Z"
    },
    "tags": []
   },
   "source": [
    "#### 4.2 Send image data\n",
    "\n",
    "This cell will let PIs send one subject set. Name the subject set as it will appear on Zooniverse.\n",
    "\n",
    "Running this cell will also initiate the data transfer and make your data available on the Zooniverse platform."
   ]
  },
  {
   "cell_type": "code",
   "execution_count": null,
   "id": "37db938f-157f-41da-8477-4289e8f0661d",
   "metadata": {
    "tags": []
   },
   "outputs": [],
   "source": [
    "subject_set_name = \"\"\n",
    "cit_sci_pipeline.send_image_data(subject_set_name, zip_path)"
   ]
  },
  {
   "cell_type": "markdown",
   "id": "dc25572f-5f14-46c6-8883-ac95e3aa072c",
   "metadata": {},
   "source": [
    "## 5. Retrieve the classification data from Zooniverse <a class=\"anchor\" id=\"seventh-bullet\"></a>\n",
    "There are two ways to do this:\n",
    "\n",
    "1) Go to your Zooniverse project and downloading the output csv files found on the 'Data Exports' tab. Click the 'Request new classification report' button and per Zooniverse: \"Please note some exports may take a long time to process. We will email you when they are ready. You can only request one of each type of data export within a 24-hour time period.\"\n",
    "\n",
    "2) Programatically (as demonstrated below). There are two ways to do this.\n",
    "\n",
    "Find the `project_id` on Zooniverse by selecting 'build a project' and then selecting the project. Note that you don't need to be the project owner."
   ]
  },
  {
   "cell_type": "code",
   "execution_count": null,
   "id": "2fdd6f12-c5c4-48f1-8981-0a1c8a88e8a5",
   "metadata": {
    "tags": []
   },
   "outputs": [],
   "source": [
    "print('Retrieve the classifications from Zooniverse')\n",
    "project_id = 19539\n",
    "raw_clas_data = cit_sci_pipeline.retrieve_data(project_id)\n",
    "\n",
    "counter = 0\n",
    "list_rows = []"
   ]
  },
  {
   "cell_type": "markdown",
   "id": "8b0faa81-cc20-4d19-81b1-9ec755d27998",
   "metadata": {},
   "source": [
    "If the following cell throws an error, restart the kernel and rerun the cell."
   ]
  },
  {
   "cell_type": "code",
   "execution_count": null,
   "id": "88411efd-422d-4f60-8eb1-a5fbbd38fbc8",
   "metadata": {},
   "outputs": [],
   "source": [
    "for row in raw_clas_data:\n",
    "    if counter == 0:\n",
    "        header = row\n",
    "    else:\n",
    "        list_rows.append(row)\n",
    "    counter += 1\n",
    "df = pd.DataFrame(list_rows, columns=header)\n",
    "df"
   ]
  },
  {
   "cell_type": "code",
   "execution_count": null,
   "id": "2368497e-d7ac-4773-8d11-324653c3d237",
   "metadata": {},
   "outputs": [],
   "source": []
  },
  {
   "cell_type": "code",
   "execution_count": null,
   "id": "32ff8161-a239-46b7-88cf-5fa144c6f8b2",
   "metadata": {},
   "outputs": [],
   "source": []
  }
 ],
 "metadata": {
  "kernelspec": {
   "display_name": "LSST",
   "language": "python",
   "name": "lsst"
  },
  "language_info": {
   "codemirror_mode": {
    "name": "ipython",
    "version": 3
   },
   "file_extension": ".py",
   "mimetype": "text/x-python",
   "name": "python",
   "nbconvert_exporter": "python",
   "pygments_lexer": "ipython3",
   "version": "3.11.7"
  },
  "toc-autonumbering": false,
  "toc-showcode": true,
  "toc-showmarkdowntxt": true,
  "toc-showtags": false
 },
 "nbformat": 4,
 "nbformat_minor": 5
}
