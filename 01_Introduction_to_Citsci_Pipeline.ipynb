{
 "cells": [
  {
   "cell_type": "code",
   "execution_count": 1,
   "id": "d62b36a5-7073-4602-8ac9-311a878ac041",
   "metadata": {
    "execution": {
     "iopub.execute_input": "2023-04-27T18:51:54.202432Z",
     "iopub.status.busy": "2023-04-27T18:51:54.202082Z",
     "iopub.status.idle": "2023-04-27T18:51:54.254692Z",
     "shell.execute_reply": "2023-04-27T18:51:54.253844Z",
     "shell.execute_reply.started": "2023-04-27T18:51:54.202408Z"
    }
   },
   "outputs": [],
   "source": [
    "%load_ext pycodestyle_magic\n",
    "%flake8_on\n",
    "import logging\n",
    "logging.getLogger(\"flake8\").setLevel(logging.FATAL)"
   ]
  },
  {
   "cell_type": "markdown",
   "id": "e35cacce-77f6-486c-adc8-c6a22bf15c07",
   "metadata": {},
   "source": [
    "<img align=\"left\" src = https://project.lsst.org/sites/default/files/Rubin-O-Logo_0.png width=250 style=\"padding: 10px\" alt=\"Vera C. Rubin Observatory Logo\"> \n",
    "<h1 style=\"margin-top: 10px\">Introduction to the Citizen Science Pipeline and Sending Images to Zooniverse</h1>\n",
    "Authors: Becky Nevin, Clare Higgs, and Eric Rosas <br>\n",
    "Contact author: Clare Higgs <br>\n",
    "Last verified to run: 2024-03-21 <br>\n",
    "LSST Science Pipelines version: Weekly 2024_04 <br>\n",
    "Container size: small or medium <br>\n",
    "Targeted learning level: beginner "
   ]
  },
  {
   "cell_type": "markdown",
   "id": "7ab73f57-e2e2-4cfb-a32d-da2a86b4e675",
   "metadata": {
    "execution": {
     "iopub.execute_input": "2023-09-08T02:10:17.367615Z",
     "iopub.status.busy": "2023-09-08T02:10:17.367250Z",
     "iopub.status.idle": "2023-09-08T02:10:17.373559Z",
     "shell.execute_reply": "2023-09-08T02:10:17.372613Z",
     "shell.execute_reply.started": "2023-09-08T02:10:17.367586Z"
    },
    "tags": []
   },
   "source": [
    "<b>Description:</b> This notebook guides a PI through the process of sending data from the Rubin Science Platform (RSP) to the Zooniverse and retrieving classifications from Zooniverse. <br><br>\n",
    "<b>Skills:</b> Table access protocol (TAP) query, Butler query, create and display cutout images, send cutout images to Zooniverse<br><br>\n",
    "<b>LSST Data Products:</b> deepCoadd images, manifest file<br><br>\n",
    "<b>Packages:</b> rubin.citsci, utils (citsci plotting and display utilities) <br><br>\n",
    "<b>Credit:</b> The TAP query is based on notebooks developed by Leanne Guy and the Butler query is based on notebooks developed by Alex Drlica-Wagner and Melissa Graham<br><br>\n",
    "<b>Get Support: </b>PIs new to DP0 are encouraged to find documentation and resources at <a href=\"https://dp0-2.lsst.io/\">dp0-2.lsst.io</a>. Support for this notebook is available and questions are welcome at cscience@lsst.org."
   ]
  },
  {
   "cell_type": "markdown",
   "id": "0e6fb8a1-9e30-470d-9a35-93742d276e6e",
   "metadata": {},
   "source": [
    "## Table of Contents\n",
    "* [1. Introduction](#first-bullet)\n",
    "* [1.1 Package imports](#second-bullet)\n",
    "* [1.2 Define functions and parameters](#third-bullet)\n",
    "* [2. Make a subject set to send to Zooniverse](#fourth-bullet)\n",
    "* [3. Create a manifest file](#fifth-bullet)\n",
    "* [4. Send the data to Zooniverse](#sixth-bullet)\n",
    "* [5. Retrieve the data](#seventh-bullet)"
   ]
  },
  {
   "cell_type": "markdown",
   "id": "6f8b563e-c151-476e-8ef0-9e8088d1ec61",
   "metadata": {},
   "source": [
    "## 1. Introduction <a class=\"anchor\" id=\"first-bullet\"></a>\n",
    "This notebook provides an introduction to how to use the rubin.citsci package to create cutout images and a manifest file, and send both of these to Zooniverse.\n",
    "\n",
    "This notebook will restrict the number of object sent to the Zooniverse to 100 objects. This limit is intended to demonstrate a project prior to full approval from the education and public outreach (EPO) Data Rights Panel."
   ]
  },
  {
   "cell_type": "markdown",
   "id": "3c74aaba-7c1a-4e82-acd1-9afefd742043",
   "metadata": {
    "execution": {
     "iopub.execute_input": "2023-09-14T21:09:26.622553Z",
     "iopub.status.busy": "2023-09-14T21:09:26.621412Z",
     "iopub.status.idle": "2023-09-14T21:09:26.766646Z",
     "shell.execute_reply": "2023-09-14T21:09:26.765543Z",
     "shell.execute_reply.started": "2023-09-14T21:09:26.622519Z"
    },
    "tags": []
   },
   "source": [
    "### 1.1 Package imports <a class=\"anchor\" id=\"second-bullet\"></a>"
   ]
  },
  {
   "cell_type": "markdown",
   "id": "09bfadd7-fa36-48c1-bb3b-f2c193c798fd",
   "metadata": {
    "execution": {
     "iopub.execute_input": "2023-09-25T18:31:03.183596Z",
     "iopub.status.busy": "2023-09-25T18:31:03.183249Z",
     "iopub.status.idle": "2023-09-25T18:31:32.779954Z",
     "shell.execute_reply": "2023-09-25T18:31:32.779107Z",
     "shell.execute_reply.started": "2023-09-25T18:31:03.183570Z"
    },
    "tags": []
   },
   "source": [
    "#### Install Pipeline Package\n",
    "\n",
    "First, install the Rubin Citizen Science Pipeline package by doing the following:\n",
    "\n",
    "1. Open up a New Launcher tab\n",
    "2. In the \"Other\" section of the New Launcher tab, click \"Terminal\"\n",
    "3. Use `pip` to install the `rubin.citsci` package by entering the following command:\n",
    "```\n",
    "pip install rubin.citsci\n",
    "```\n",
    "Note that this package will soon be installed directly on RSP.\n",
    "\n",
    "4. Confirm the next cell containing `from rubin.citsci import pipeline` works as expected and does not throw an error"
   ]
  },
  {
   "cell_type": "code",
   "execution_count": null,
   "id": "73d12fc0-c926-489b-9713-2e427566274e",
   "metadata": {
    "tags": []
   },
   "outputs": [],
   "source": [
    "from matplotlib import image as mpimg\n",
    "import matplotlib.pyplot as plt\n",
    "from rubin.citsci import pipeline\n",
    "import utils\n",
    "import os\n",
    "\n",
    "plt.style.use('tableau-colorblind10')"
   ]
  },
  {
   "cell_type": "markdown",
   "id": "9e60062b-f301-4d6c-9e29-e67aa55b2e62",
   "metadata": {},
   "source": [
    "### 1.2 Define functions and parameters <a class=\"anchor\" id=\"third-bullet\"></a>\n",
    "First, [create a Zooniverse account](https://www.zooniverse.org/accounts/registerhttps://www.zooniverse.org/accounts/register) and create your Zooniverse project.\n",
    "\n",
    "IMPORTANT: Your Zooniverse project must be set to \"public\", a \"private\" project will not work. Select this setting under the \"Visibility\" tab, (it does not need to be set to live). \n",
    "\n",
    "Supply the email associated with your Zooniverse account and project slug below. \n",
    "\n",
    "A \"slug\" is the string of your Zooniverse username and your project name without the leading forward slash, for instance: \"username/project-name\". [Click here for more details](https://www.zooniverse.org/talk/18/967061?comment=1898157&page=1).\n"
   ]
  },
  {
   "cell_type": "code",
   "execution_count": 2,
   "id": "0edb67a4-1508-4b90-872c-8c42e642126b",
   "metadata": {
    "execution": {
     "iopub.execute_input": "2023-04-27T18:51:56.440081Z",
     "iopub.status.busy": "2023-04-27T18:51:56.439126Z",
     "iopub.status.idle": "2023-04-27T18:52:17.587352Z",
     "shell.execute_reply": "2023-04-27T18:52:17.586352Z",
     "shell.execute_reply.started": "2023-04-27T18:51:56.440050Z"
    },
    "tags": []
   },
   "outputs": [
    {
     "name": "stdout",
     "output_type": "stream",
     "text": [
      "Installing external dependencies...\n",
      "Done installing external dependencies!\n",
      "Enter your Zooniverse credentials...\n"
     ]
    },
    {
     "name": "stdin",
     "output_type": "stream",
     "text": [
      "Username:  sreevani\n",
      " ········\n"
     ]
    },
    {
     "name": "stdout",
     "output_type": "stream",
     "text": [
      "You now are logged in to the Zooniverse platform.\n",
      "Loaded Citizen Science SDK\n",
      "Error in callback <bound method VarWatcher.auto_run_flake8 of <pycodestyle_magic.VarWatcher object at 0x7f9ba1365090>> (for post_run_cell):\n"
     ]
    },
    {
     "ename": "AttributeError",
     "evalue": "'int' object has no attribute 'rstrip'",
     "output_type": "error",
     "traceback": [
      "\u001b[0;31m---------------------------------------------------------------------------\u001b[0m",
      "\u001b[0;31mSyntaxError\u001b[0m                               Traceback (most recent call last)",
      "File \u001b[0;32m~/.local/lib/python3.10/site-packages/flake8/checker.py:478\u001b[0m, in \u001b[0;36mFileChecker.run_ast_checks\u001b[0;34m(self)\u001b[0m\n\u001b[1;32m    477\u001b[0m \u001b[38;5;28;01mtry\u001b[39;00m:\n\u001b[0;32m--> 478\u001b[0m     ast \u001b[38;5;241m=\u001b[39m \u001b[38;5;28;43mself\u001b[39;49m\u001b[38;5;241;43m.\u001b[39;49m\u001b[43mprocessor\u001b[49m\u001b[38;5;241;43m.\u001b[39;49m\u001b[43mbuild_ast\u001b[49m\u001b[43m(\u001b[49m\u001b[43m)\u001b[49m\n\u001b[1;32m    479\u001b[0m \u001b[38;5;28;01mexcept\u001b[39;00m (\u001b[38;5;167;01mValueError\u001b[39;00m, \u001b[38;5;167;01mSyntaxError\u001b[39;00m, \u001b[38;5;167;01mTypeError\u001b[39;00m) \u001b[38;5;28;01mas\u001b[39;00m e:\n",
      "File \u001b[0;32m~/.local/lib/python3.10/site-packages/flake8/processor.py:225\u001b[0m, in \u001b[0;36mFileProcessor.build_ast\u001b[0;34m(self)\u001b[0m\n\u001b[1;32m    224\u001b[0m \u001b[38;5;124;03m\"\"\"Build an abstract syntax tree from the list of lines.\"\"\"\u001b[39;00m\n\u001b[0;32m--> 225\u001b[0m \u001b[38;5;28;01mreturn\u001b[39;00m \u001b[43mast\u001b[49m\u001b[38;5;241;43m.\u001b[39;49m\u001b[43mparse\u001b[49m\u001b[43m(\u001b[49m\u001b[38;5;124;43m\"\u001b[39;49m\u001b[38;5;124;43m\"\u001b[39;49m\u001b[38;5;241;43m.\u001b[39;49m\u001b[43mjoin\u001b[49m\u001b[43m(\u001b[49m\u001b[38;5;28;43mself\u001b[39;49m\u001b[38;5;241;43m.\u001b[39;49m\u001b[43mlines\u001b[49m\u001b[43m)\u001b[49m\u001b[43m)\u001b[49m\n",
      "File \u001b[0;32m/opt/lsst/software/stack/conda/miniconda3-py38_4.9.2/envs/lsst-scipipe-5.1.0/lib/python3.10/ast.py:50\u001b[0m, in \u001b[0;36mparse\u001b[0;34m(source, filename, mode, type_comments, feature_version)\u001b[0m\n\u001b[1;32m     49\u001b[0m \u001b[38;5;66;03m# Else it should be an int giving the minor version for 3.x.\u001b[39;00m\n\u001b[0;32m---> 50\u001b[0m \u001b[38;5;28;01mreturn\u001b[39;00m \u001b[38;5;28;43mcompile\u001b[39;49m\u001b[43m(\u001b[49m\u001b[43msource\u001b[49m\u001b[43m,\u001b[49m\u001b[43m \u001b[49m\u001b[43mfilename\u001b[49m\u001b[43m,\u001b[49m\u001b[43m \u001b[49m\u001b[43mmode\u001b[49m\u001b[43m,\u001b[49m\u001b[43m \u001b[49m\u001b[43mflags\u001b[49m\u001b[43m,\u001b[49m\n\u001b[1;32m     51\u001b[0m \u001b[43m               \u001b[49m\u001b[43m_feature_version\u001b[49m\u001b[38;5;241;43m=\u001b[39;49m\u001b[43mfeature_version\u001b[49m\u001b[43m)\u001b[49m\n",
      "\u001b[0;31mSyntaxError\u001b[0m: invalid syntax (<unknown>, line 3)",
      "\nDuring handling of the above exception, another exception occurred:\n",
      "\u001b[0;31mAttributeError\u001b[0m                            Traceback (most recent call last)",
      "File \u001b[0;32m~/.local/lib/python3.10/site-packages/pycodestyle_magic.py:41\u001b[0m, in \u001b[0;36mVarWatcher.auto_run_flake8\u001b[0;34m(self, result)\u001b[0m\n\u001b[1;32m     40\u001b[0m \u001b[38;5;28;01mdef\u001b[39;00m \u001b[38;5;21mauto_run_flake8\u001b[39m(\u001b[38;5;28mself\u001b[39m, result):\n\u001b[0;32m---> 41\u001b[0m     \u001b[43mflake8\u001b[49m\u001b[43m(\u001b[49m\u001b[38;5;241;43m1\u001b[39;49m\u001b[43m,\u001b[49m\u001b[43m \u001b[49m\u001b[43mresult\u001b[49m\u001b[38;5;241;43m.\u001b[39;49m\u001b[43minfo\u001b[49m\u001b[38;5;241;43m.\u001b[39;49m\u001b[43mraw_cell\u001b[49m\u001b[43m,\u001b[49m\u001b[43m \u001b[49m\u001b[43mauto\u001b[49m\u001b[38;5;241;43m=\u001b[39;49m\u001b[38;5;28;43;01mTrue\u001b[39;49;00m\u001b[43m)\u001b[49m\n\u001b[1;32m     42\u001b[0m     \u001b[38;5;28;01mif\u001b[39;00m result\u001b[38;5;241m.\u001b[39merror_before_exec:\n\u001b[1;32m     43\u001b[0m         \u001b[38;5;28mprint\u001b[39m(\u001b[38;5;124m'\u001b[39m\u001b[38;5;124mError before execution: \u001b[39m\u001b[38;5;132;01m%s\u001b[39;00m\u001b[38;5;124m'\u001b[39m \u001b[38;5;241m%\u001b[39m result\u001b[38;5;241m.\u001b[39merror_before_exec)\n",
      "File \u001b[0;32m~/.local/lib/python3.10/site-packages/pycodestyle_magic.py:218\u001b[0m, in \u001b[0;36mflake8\u001b[0;34m(line, cell, auto)\u001b[0m\n\u001b[1;32m    211\u001b[0m flake \u001b[38;5;241m=\u001b[39m flake8_module\u001b[38;5;241m.\u001b[39mget_style_guide(\n\u001b[1;32m    212\u001b[0m     extend_ignore\u001b[38;5;241m=\u001b[39mignore_codes, \n\u001b[1;32m    213\u001b[0m     max_line_length\u001b[38;5;241m=\u001b[39mmax_line_length\n\u001b[1;32m    214\u001b[0m )\n\u001b[1;32m    217\u001b[0m \u001b[38;5;28;01mwith\u001b[39;00m io\u001b[38;5;241m.\u001b[39mStringIO() \u001b[38;5;28;01mas\u001b[39;00m buf, redirect_stdout(buf):\n\u001b[0;32m--> 218\u001b[0m     _ \u001b[38;5;241m=\u001b[39m \u001b[43mflake\u001b[49m\u001b[38;5;241;43m.\u001b[39;49m\u001b[43mcheck_files\u001b[49m\u001b[43m(\u001b[49m\u001b[43m[\u001b[49m\u001b[43mf\u001b[49m\u001b[38;5;241;43m.\u001b[39;49m\u001b[43mname\u001b[49m\u001b[43m]\u001b[49m\u001b[43m)\u001b[49m\n\u001b[1;32m    219\u001b[0m     \u001b[38;5;28;01mfor\u001b[39;00m line \u001b[38;5;129;01min\u001b[39;00m buf\u001b[38;5;241m.\u001b[39mgetvalue()\u001b[38;5;241m.\u001b[39msplitlines():\n\u001b[1;32m    220\u001b[0m         \u001b[38;5;66;03m# on windows drive path also contains :\u001b[39;00m\n\u001b[1;32m    221\u001b[0m         temp_file, line, col, error \u001b[38;5;241m=\u001b[39m line\u001b[38;5;241m.\u001b[39msplit(\u001b[38;5;124m'\u001b[39m\u001b[38;5;124m:\u001b[39m\u001b[38;5;124m'\u001b[39m)[\u001b[38;5;241m-\u001b[39m\u001b[38;5;241m4\u001b[39m:] \n",
      "File \u001b[0;32m~/.local/lib/python3.10/site-packages/flake8/api/legacy.py:109\u001b[0m, in \u001b[0;36mStyleGuide.check_files\u001b[0;34m(self, paths)\u001b[0m\n\u001b[1;32m     96\u001b[0m \u001b[38;5;28;01mdef\u001b[39;00m \u001b[38;5;21mcheck_files\u001b[39m(\u001b[38;5;28mself\u001b[39m, paths\u001b[38;5;241m=\u001b[39m\u001b[38;5;28;01mNone\u001b[39;00m):\n\u001b[1;32m     97\u001b[0m     \u001b[38;5;124;03m\"\"\"Run collected checks on the files provided.\u001b[39;00m\n\u001b[1;32m     98\u001b[0m \n\u001b[1;32m     99\u001b[0m \u001b[38;5;124;03m    This will check the files passed in and return a :class:`Report`\u001b[39;00m\n\u001b[0;32m   (...)\u001b[0m\n\u001b[1;32m    107\u001b[0m \u001b[38;5;124;03m        flake8.api.legacy.Report\u001b[39;00m\n\u001b[1;32m    108\u001b[0m \u001b[38;5;124;03m    \"\"\"\u001b[39;00m\n\u001b[0;32m--> 109\u001b[0m     \u001b[38;5;28;43mself\u001b[39;49m\u001b[38;5;241;43m.\u001b[39;49m\u001b[43m_application\u001b[49m\u001b[38;5;241;43m.\u001b[39;49m\u001b[43mrun_checks\u001b[49m\u001b[43m(\u001b[49m\u001b[43mpaths\u001b[49m\u001b[43m)\u001b[49m\n\u001b[1;32m    110\u001b[0m     \u001b[38;5;28mself\u001b[39m\u001b[38;5;241m.\u001b[39m_application\u001b[38;5;241m.\u001b[39mreport_errors()\n\u001b[1;32m    111\u001b[0m     \u001b[38;5;28;01mreturn\u001b[39;00m Report(\u001b[38;5;28mself\u001b[39m\u001b[38;5;241m.\u001b[39m_application)\n",
      "File \u001b[0;32m~/.local/lib/python3.10/site-packages/flake8/main/application.py:264\u001b[0m, in \u001b[0;36mApplication.run_checks\u001b[0;34m(self, files)\u001b[0m\n\u001b[1;32m    262\u001b[0m \u001b[38;5;28mself\u001b[39m\u001b[38;5;241m.\u001b[39mfile_checker_manager\u001b[38;5;241m.\u001b[39mstart(files)\n\u001b[1;32m    263\u001b[0m \u001b[38;5;28;01mtry\u001b[39;00m:\n\u001b[0;32m--> 264\u001b[0m     \u001b[38;5;28;43mself\u001b[39;49m\u001b[38;5;241;43m.\u001b[39;49m\u001b[43mfile_checker_manager\u001b[49m\u001b[38;5;241;43m.\u001b[39;49m\u001b[43mrun\u001b[49m\u001b[43m(\u001b[49m\u001b[43m)\u001b[49m\n\u001b[1;32m    265\u001b[0m \u001b[38;5;28;01mexcept\u001b[39;00m exceptions\u001b[38;5;241m.\u001b[39mPluginExecutionFailed \u001b[38;5;28;01mas\u001b[39;00m plugin_failed:\n\u001b[1;32m    266\u001b[0m     \u001b[38;5;28mprint\u001b[39m(\u001b[38;5;28mstr\u001b[39m(plugin_failed))\n",
      "File \u001b[0;32m~/.local/lib/python3.10/site-packages/flake8/checker.py:323\u001b[0m, in \u001b[0;36mManager.run\u001b[0;34m(self)\u001b[0m\n\u001b[1;32m    321\u001b[0m         \u001b[38;5;28mself\u001b[39m\u001b[38;5;241m.\u001b[39mrun_parallel()\n\u001b[1;32m    322\u001b[0m     \u001b[38;5;28;01melse\u001b[39;00m:\n\u001b[0;32m--> 323\u001b[0m         \u001b[38;5;28;43mself\u001b[39;49m\u001b[38;5;241;43m.\u001b[39;49m\u001b[43mrun_serial\u001b[49m\u001b[43m(\u001b[49m\u001b[43m)\u001b[49m\n\u001b[1;32m    324\u001b[0m \u001b[38;5;28;01mexcept\u001b[39;00m \u001b[38;5;167;01mKeyboardInterrupt\u001b[39;00m:\n\u001b[1;32m    325\u001b[0m     LOG\u001b[38;5;241m.\u001b[39mwarning(\u001b[38;5;124m\"\u001b[39m\u001b[38;5;124mFlake8 was interrupted by the user\u001b[39m\u001b[38;5;124m\"\u001b[39m)\n",
      "File \u001b[0;32m~/.local/lib/python3.10/site-packages/flake8/checker.py:307\u001b[0m, in \u001b[0;36mManager.run_serial\u001b[0;34m(self)\u001b[0m\n\u001b[1;32m    305\u001b[0m \u001b[38;5;124;03m\"\"\"Run the checkers in serial.\"\"\"\u001b[39;00m\n\u001b[1;32m    306\u001b[0m \u001b[38;5;28;01mfor\u001b[39;00m checker \u001b[38;5;129;01min\u001b[39;00m \u001b[38;5;28mself\u001b[39m\u001b[38;5;241m.\u001b[39mcheckers:\n\u001b[0;32m--> 307\u001b[0m     \u001b[43mchecker\u001b[49m\u001b[38;5;241;43m.\u001b[39;49m\u001b[43mrun_checks\u001b[49m\u001b[43m(\u001b[49m\u001b[43m)\u001b[49m\n",
      "File \u001b[0;32m~/.local/lib/python3.10/site-packages/flake8/checker.py:589\u001b[0m, in \u001b[0;36mFileChecker.run_checks\u001b[0;34m(self)\u001b[0m\n\u001b[1;32m    587\u001b[0m \u001b[38;5;28;01mtry\u001b[39;00m:\n\u001b[1;32m    588\u001b[0m     \u001b[38;5;28mself\u001b[39m\u001b[38;5;241m.\u001b[39mprocess_tokens()\n\u001b[0;32m--> 589\u001b[0m     \u001b[38;5;28;43mself\u001b[39;49m\u001b[38;5;241;43m.\u001b[39;49m\u001b[43mrun_ast_checks\u001b[49m\u001b[43m(\u001b[49m\u001b[43m)\u001b[49m\n\u001b[1;32m    590\u001b[0m \u001b[38;5;28;01mexcept\u001b[39;00m exceptions\u001b[38;5;241m.\u001b[39mInvalidSyntax \u001b[38;5;28;01mas\u001b[39;00m exc:\n\u001b[1;32m    591\u001b[0m     \u001b[38;5;28mself\u001b[39m\u001b[38;5;241m.\u001b[39mreport(\n\u001b[1;32m    592\u001b[0m         exc\u001b[38;5;241m.\u001b[39merror_code,\n\u001b[1;32m    593\u001b[0m         exc\u001b[38;5;241m.\u001b[39mline_number,\n\u001b[1;32m    594\u001b[0m         exc\u001b[38;5;241m.\u001b[39mcolumn_number,\n\u001b[1;32m    595\u001b[0m         exc\u001b[38;5;241m.\u001b[39merror_message,\n\u001b[1;32m    596\u001b[0m     )\n",
      "File \u001b[0;32m~/.local/lib/python3.10/site-packages/flake8/checker.py:480\u001b[0m, in \u001b[0;36mFileChecker.run_ast_checks\u001b[0;34m(self)\u001b[0m\n\u001b[1;32m    478\u001b[0m     ast \u001b[38;5;241m=\u001b[39m \u001b[38;5;28mself\u001b[39m\u001b[38;5;241m.\u001b[39mprocessor\u001b[38;5;241m.\u001b[39mbuild_ast()\n\u001b[1;32m    479\u001b[0m \u001b[38;5;28;01mexcept\u001b[39;00m (\u001b[38;5;167;01mValueError\u001b[39;00m, \u001b[38;5;167;01mSyntaxError\u001b[39;00m, \u001b[38;5;167;01mTypeError\u001b[39;00m) \u001b[38;5;28;01mas\u001b[39;00m e:\n\u001b[0;32m--> 480\u001b[0m     row, column \u001b[38;5;241m=\u001b[39m \u001b[38;5;28;43mself\u001b[39;49m\u001b[38;5;241;43m.\u001b[39;49m\u001b[43m_extract_syntax_information\u001b[49m\u001b[43m(\u001b[49m\u001b[43me\u001b[49m\u001b[43m)\u001b[49m\n\u001b[1;32m    481\u001b[0m     \u001b[38;5;28mself\u001b[39m\u001b[38;5;241m.\u001b[39mreport(\n\u001b[1;32m    482\u001b[0m         \u001b[38;5;124m\"\u001b[39m\u001b[38;5;124mE999\u001b[39m\u001b[38;5;124m\"\u001b[39m, row, column, \u001b[38;5;124m\"\u001b[39m\u001b[38;5;132;01m%s\u001b[39;00m\u001b[38;5;124m: \u001b[39m\u001b[38;5;132;01m%s\u001b[39;00m\u001b[38;5;124m\"\u001b[39m \u001b[38;5;241m%\u001b[39m (\u001b[38;5;28mtype\u001b[39m(e)\u001b[38;5;241m.\u001b[39m\u001b[38;5;18m__name__\u001b[39m, e\u001b[38;5;241m.\u001b[39margs[\u001b[38;5;241m0\u001b[39m])\n\u001b[1;32m    483\u001b[0m     )\n\u001b[1;32m    484\u001b[0m     \u001b[38;5;28;01mreturn\u001b[39;00m\n",
      "File \u001b[0;32m~/.local/lib/python3.10/site-packages/flake8/checker.py:465\u001b[0m, in \u001b[0;36mFileChecker._extract_syntax_information\u001b[0;34m(exception)\u001b[0m\n\u001b[1;32m    457\u001b[0m \u001b[38;5;66;03m# NOTE(sigmavirus24): Not all \"tokens\" have a string as the last\u001b[39;00m\n\u001b[1;32m    458\u001b[0m \u001b[38;5;66;03m# argument. In this event, let's skip trying to find the correct\u001b[39;00m\n\u001b[1;32m    459\u001b[0m \u001b[38;5;66;03m# column and row values.\u001b[39;00m\n\u001b[1;32m    460\u001b[0m \u001b[38;5;28;01mif\u001b[39;00m physical_line \u001b[38;5;129;01mis\u001b[39;00m \u001b[38;5;129;01mnot\u001b[39;00m \u001b[38;5;28;01mNone\u001b[39;00m:\n\u001b[1;32m    461\u001b[0m     \u001b[38;5;66;03m# NOTE(sigmavirus24): SyntaxErrors also don't exactly have a\u001b[39;00m\n\u001b[1;32m    462\u001b[0m     \u001b[38;5;66;03m# \"physical\" line so much as what was accumulated by the point\u001b[39;00m\n\u001b[1;32m    463\u001b[0m     \u001b[38;5;66;03m# tokenizing failed.\u001b[39;00m\n\u001b[1;32m    464\u001b[0m     \u001b[38;5;66;03m# See also: https://gitlab.com/pycqa/flake8/issues/237\u001b[39;00m\n\u001b[0;32m--> 465\u001b[0m     lines \u001b[38;5;241m=\u001b[39m \u001b[43mphysical_line\u001b[49m\u001b[38;5;241;43m.\u001b[39;49m\u001b[43mrstrip\u001b[49m(\u001b[38;5;124m\"\u001b[39m\u001b[38;5;130;01m\\n\u001b[39;00m\u001b[38;5;124m\"\u001b[39m)\u001b[38;5;241m.\u001b[39msplit(\u001b[38;5;124m\"\u001b[39m\u001b[38;5;130;01m\\n\u001b[39;00m\u001b[38;5;124m\"\u001b[39m)\n\u001b[1;32m    466\u001b[0m     row_offset \u001b[38;5;241m=\u001b[39m \u001b[38;5;28mlen\u001b[39m(lines) \u001b[38;5;241m-\u001b[39m \u001b[38;5;241m1\u001b[39m\n\u001b[1;32m    467\u001b[0m     logical_line \u001b[38;5;241m=\u001b[39m lines[\u001b[38;5;241m0\u001b[39m]\n",
      "\u001b[0;31mAttributeError\u001b[0m: 'int' object has no attribute 'rstrip'"
     ]
    }
   ],
   "source": [
    "email = \"\"\n",
    "slug_name = \"\"\n",
    "print(\"Loading and running utilities to establish a link with Zooniverse\")\n",
    "print(\"Enter your Zooniverse username followed by password below\")\n",
    "cit_sci_pipeline = pipeline.CitSciPipeline()\n",
    "cit_sci_pipeline.login_to_zooniverse(slug_name, email)"
   ]
  },
  {
   "cell_type": "markdown",
   "id": "1cf92062-0e45-44a8-988c-010104405ab3",
   "metadata": {},
   "source": [
    "## 2. Make a subject set to send to Zooniverse <a class=\"anchor\" id=\"fourth-bullet\"></a>\n",
    "A subject set is a collection of data (images, plots, etc) that are shown to citizen scientists. It is also the unit of data that is sent to Zooniverse.\n",
    "\n",
    "This notebook curates a subject set of objects to send to Zooniverse. This can be modified to create your own subject set. Your subject set must have 100 objects or less in the testing phase before your project is approved by the EPO Data Rights panel. \n",
    "\n",
    "This example makes a set of image cutouts of galaxies."
   ]
  },
  {
   "cell_type": "code",
   "execution_count": null,
   "id": "7701a319-3c4a-4c37-a460-ef5f3169b483",
   "metadata": {
    "execution": {
     "iopub.execute_input": "2023-04-17T16:20:15.837098Z",
     "iopub.status.busy": "2023-04-17T16:20:15.836312Z",
     "iopub.status.idle": "2023-04-17T16:20:20.267621Z",
     "shell.execute_reply": "2023-04-17T16:20:20.266620Z",
     "shell.execute_reply.started": "2023-04-17T16:20:15.837068Z"
    },
    "tags": []
   },
   "outputs": [],
   "source": [
    "print('Establishing the connection to the Butler')\n",
    "config = \"dp02\"\n",
    "collection = \"2.2i/runs/DP0.2\"\n",
    "service, butler, skymap = utils.setup_butler(config, collection)\n",
    "print('Connected')"
   ]
  },
  {
   "cell_type": "code",
   "execution_count": 3,
   "id": "a82ef1a9-4835-4aeb-afdf-accaaf7e3007",
   "metadata": {
    "execution": {
     "iopub.execute_input": "2023-04-17T16:20:20.279898Z",
     "iopub.status.busy": "2023-04-17T16:20:20.279594Z",
     "iopub.status.idle": "2023-04-17T16:20:20.283352Z",
     "shell.execute_reply": "2023-04-17T16:20:20.282637Z",
     "shell.execute_reply.started": "2023-04-17T16:20:20.279870Z"
    },
    "tags": []
   },
   "outputs": [],
   "source": [
    "print('Setting the parameters for making image cutouts')\n",
    "number_sources = 5  # change this to 100 for a full subject set test\n",
    "use_center_coords = \"62, -37\"\n",
    "use_radius = \"1.0\""
   ]
  },
  {
   "cell_type": "markdown",
   "id": "8e240d4a-f8d3-4837-923f-12be9bff5f79",
   "metadata": {},
   "source": [
    "This query can be modified to select other types of sources.\n",
    "\n",
    "For more details, please have a look at the RSP tutorial notebooks (`/home/your_username/notebooks/tutorial-notebooks`)."
   ]
  },
  {
   "cell_type": "code",
   "execution_count": 4,
   "id": "119358cc-5244-4984-872c-a6311052d9c8",
   "metadata": {
    "execution": {
     "iopub.execute_input": "2023-04-17T16:20:20.284941Z",
     "iopub.status.busy": "2023-04-17T16:20:20.284711Z",
     "iopub.status.idle": "2023-04-17T16:21:31.777513Z",
     "shell.execute_reply": "2023-04-17T16:21:31.776792Z",
     "shell.execute_reply.started": "2023-04-17T16:20:20.284922Z"
    },
    "tags": []
   },
   "outputs": [],
   "source": [
    "print('Running the Butler query to return objects')\n",
    "results = utils.run_butler_query(service,\n",
    "                                 number_sources,\n",
    "                                 use_center_coords,\n",
    "                                 use_radius)"
   ]
  },
  {
   "cell_type": "code",
   "execution_count": 5,
   "id": "9bf4c80e-4402-4f0f-abe1-a6cd5ce6587c",
   "metadata": {
    "execution": {
     "iopub.execute_input": "2023-04-17T16:21:31.778851Z",
     "iopub.status.busy": "2023-04-17T16:21:31.778382Z",
     "iopub.status.idle": "2023-04-17T16:21:31.793124Z",
     "shell.execute_reply": "2023-04-17T16:21:31.792474Z",
     "shell.execute_reply.started": "2023-04-17T16:21:31.778829Z"
    },
    "tags": []
   },
   "outputs": [],
   "source": [
    "print('Preparing the table')\n",
    "results_table = utils.prep_table(results, skymap)"
   ]
  },
  {
   "cell_type": "markdown",
   "id": "972cec6c-be76-4d5a-8a67-7034968270e3",
   "metadata": {},
   "source": [
    "Have a look at the table you'll use to save the cutout images."
   ]
  },
  {
   "cell_type": "code",
   "execution_count": null,
   "id": "ea7c6026-9d87-40ee-9f64-c507b72a36fc",
   "metadata": {
    "tags": []
   },
   "outputs": [],
   "source": [
    "results_table"
   ]
  },
  {
   "cell_type": "markdown",
   "id": "6422604f-0b48-4d81-a40b-a04f3434cfac",
   "metadata": {},
   "source": [
    "## 3. Create a manifest file <a class=\"anchor\" id=\"fifth-bullet\"></a>"
   ]
  },
  {
   "cell_type": "markdown",
   "id": "7347661c-1db0-4db5-bb16-8850d2bd7477",
   "metadata": {},
   "source": [
    "A manifest file is a csv file that is used to send all of the classification subjects to the Zooniverse. This file can be used to initiate options on the Zooniverse side. [Click here for an overview](https://about.pfe-preview.zooniverse.org/lab-how-to)\n",
    "\n",
    "To send data other than the example cutout images, edit the `make_manifest_with_images` utility. Note that Object ID must be included."
   ]
  },
  {
   "cell_type": "code",
   "execution_count": 6,
   "id": "8a8b74ee-828f-432e-b8f8-68674749cea5",
   "metadata": {
    "execution": {
     "iopub.execute_input": "2023-04-17T16:21:31.815116Z",
     "iopub.status.busy": "2023-04-17T16:21:31.814747Z",
     "iopub.status.idle": "2023-04-17T16:22:01.804189Z",
     "shell.execute_reply": "2023-04-17T16:22:01.803433Z",
     "shell.execute_reply.started": "2023-04-17T16:21:31.815096Z"
    },
    "tags": []
   },
   "outputs": [],
   "source": [
    "print('Specify the directory that the cutouts will be output to')\n",
    "batch_dir = \"./cutouts/\"\n",
    "print(f\"Saving the cutout images in this folder: {batch_dir}\")\n",
    "manifest = utils.make_manifest_with_images(results_table,\n",
    "                                           butler,\n",
    "                                           batch_dir)"
   ]
  },
  {
   "cell_type": "code",
   "execution_count": 9,
   "id": "4dd16476-34f8-42e6-a75f-aa47861904b3",
   "metadata": {
    "execution": {
     "iopub.execute_input": "2023-04-17T16:27:45.477731Z",
     "iopub.status.busy": "2023-04-17T16:27:45.476838Z",
     "iopub.status.idle": "2023-04-17T16:27:45.482868Z",
     "shell.execute_reply": "2023-04-17T16:27:45.482195Z",
     "shell.execute_reply.started": "2023-04-17T16:27:45.477701Z"
    }
   },
   "outputs": [
    {
     "data": {
      "text/plain": [
       "[{'filename': 'cutout1567965153859768169.png',\n",
       "  'sourceId': 1567965153859768169,\n",
       "  'coord_ra': 61.6998044,\n",
       "  'coord_dec': -37.2739044,\n",
       "  'g_cModelFlux': True,\n",
       "  'r_cModelFlux': 16744617.769149,\n",
       "  'r_extendedness': 1.0,\n",
       "  'r_inputCount': 106},\n",
       " {'filename': 'cutout1650947495431285770.png',\n",
       "  'sourceId': 1650947495431285770,\n",
       "  'coord_ra': 61.1583878,\n",
       "  'coord_dec': -36.3657651,\n",
       "  'g_cModelFlux': True,\n",
       "  'r_cModelFlux': 6384481.3380183,\n",
       "  'r_extendedness': 1.0,\n",
       "  'r_inputCount': 105},\n",
       " {'filename': 'cutout1651448872733547971.png',\n",
       "  'sourceId': 1651448872733547971,\n",
       "  'coord_ra': 62.5770683,\n",
       "  'coord_dec': -36.1977335,\n",
       "  'g_cModelFlux': True,\n",
       "  'r_cModelFlux': 4869250.829788,\n",
       "  'r_extendedness': 1.0,\n",
       "  'r_inputCount': 116},\n",
       " {'filename': 'cutout1651536833663756158.png',\n",
       "  'sourceId': 1651536833663756158,\n",
       "  'coord_ra': 61.8484527,\n",
       "  'coord_dec': -36.1061415,\n",
       "  'g_cModelFlux': True,\n",
       "  'r_cModelFlux': 2902863.6049941,\n",
       "  'r_extendedness': 1.0,\n",
       "  'r_inputCount': 105},\n",
       " {'filename': 'cutout1651325727431231924.png',\n",
       "  'sourceId': 1651325727431231924,\n",
       "  'coord_ra': 62.7137842,\n",
       "  'coord_dec': -36.6836861,\n",
       "  'g_cModelFlux': True,\n",
       "  'r_cModelFlux': 2524685.6146864,\n",
       "  'r_extendedness': 1.0,\n",
       "  'r_inputCount': 117}]"
      ]
     },
     "execution_count": 9,
     "metadata": {},
     "output_type": "execute_result"
    }
   ],
   "source": [
    "manifest"
   ]
  },
  {
   "cell_type": "markdown",
   "id": "e237db04-0e98-4dae-a515-56bb9bf4e6d5",
   "metadata": {},
   "source": [
    "Have a look at some of the cutout images. "
   ]
  },
  {
   "cell_type": "markdown",
   "id": "8184bf70-2218-497f-8a4b-72c9bcf8bfa4",
   "metadata": {},
   "source": [
    "The following cell will plot all images from the `batch_dir` preceded by their image names. The axes are pixel values, with ranges according to your preset radius. These are large co-added images centered on different coordinates; they contain many galaxies and stars."
   ]
  },
  {
   "cell_type": "code",
   "execution_count": null,
   "id": "e4e9239a-83fb-4052-8af1-a82b46be7775",
   "metadata": {
    "tags": []
   },
   "outputs": [],
   "source": [
    "for file in os.listdir(batch_dir):\n",
    "    plt.title(file)\n",
    "    image = mpimg.imread(batch_dir + file)\n",
    "    plt.imshow(image)\n",
    "    plt.axis('off')\n",
    "    plt.show()"
   ]
  },
  {
   "cell_type": "markdown",
   "id": "839852b0-4c95-424d-a2bf-f57e638b67df",
   "metadata": {},
   "source": [
    "There are multiple options for how to create the manifest file.\n",
    "### 3.1 Option 1: Write the manifest file to the filesystem automatically\n",
    "The below cell writes the `manifest.csv` file to the filesystem, which will be used by Zooniverse. This is the recommended option for PIs new to the citizen science pipeline."
   ]
  },
  {
   "cell_type": "code",
   "execution_count": 7,
   "id": "c2605029-f988-4d7c-991d-82aabb60e07b",
   "metadata": {
    "execution": {
     "iopub.execute_input": "2023-04-17T16:22:01.805408Z",
     "iopub.status.busy": "2023-04-17T16:22:01.805150Z",
     "iopub.status.idle": "2023-04-17T16:22:01.816889Z",
     "shell.execute_reply": "2023-04-17T16:22:01.815920Z",
     "shell.execute_reply.started": "2023-04-17T16:22:01.805389Z"
    },
    "tags": []
   },
   "outputs": [
    {
     "name": "stdout",
     "output_type": "stream",
     "text": [
      "The manifest CSV file can be found at the following relative path:\n",
      "./cutouts/metadata.csv\n"
     ]
    }
   ],
   "source": [
    "manifest_path = cit_sci_pipeline.write_manifest_file(manifest, batch_dir)\n",
    "print(\"The manifest CSV file can be found at the following relative path:\")\n",
    "print(manifest_path)"
   ]
  },
  {
   "cell_type": "markdown",
   "id": "320f390d-578a-4151-8cbd-f34954bbbb33",
   "metadata": {
    "tags": []
   },
   "source": [
    "### 3.2 Option 2: Make your own manifest file"
   ]
  },
  {
   "cell_type": "markdown",
   "id": "8113df75-ce7a-43e9-b6a8-7814d7c5452e",
   "metadata": {},
   "source": [
    "PIs are welcome to create their own manifest file. This is not the recommended option for PIs new to the citizen science pipeline.\n",
    "\n",
    "The manifest file _must_ abide by [RFC4180](https://datatracker.ietf.org/doc/html/rfc4180.html) as the backend service that parses the manifest file expects this format. In addition, you may have a column with no values, but there _must_ be an empty column value indicated with a comma. For example:\n",
    "\n",
    "Valid syntax for empty column:\n",
    "```\n",
    "column1,column2,empty_column,column4\n",
    "1,1,,4\n",
    "1,1,,4\n",
    "1,1,,4\n",
    "```\n",
    "\n",
    "**Important**: The manifest file must be named `manifest.csv` in order for the processing on the backend to work correctly."
   ]
  },
  {
   "cell_type": "markdown",
   "id": "d49a6864-8def-4e5c-8fe3-bc1a28f4600c",
   "metadata": {},
   "source": [
    "## 4. Send the data to Zooniverse <a class=\"anchor\" id=\"sixth-bullet\"></a>\n",
    "Zip up the data and send it to the Zooniverse."
   ]
  },
  {
   "cell_type": "markdown",
   "id": "8873bbd4-73fb-4c51-bf25-0149720db9e8",
   "metadata": {
    "execution": {
     "iopub.execute_input": "2024-03-19T21:47:19.011355Z",
     "iopub.status.busy": "2024-03-19T21:47:19.010761Z",
     "iopub.status.idle": "2024-03-19T21:54:25.445416Z",
     "shell.execute_reply": "2024-03-19T21:54:25.444691Z",
     "shell.execute_reply.started": "2024-03-19T21:47:19.011326Z"
    },
    "tags": []
   },
   "source": [
    "#### 4.1 Zip up the data\n",
    "Running the below cell will zip up all the cutouts into a single file - this can take 5 to 10 minutes for large data sets (> 5k cutouts)."
   ]
  },
  {
   "cell_type": "markdown",
   "id": "b5e1886b-0b90-4214-8dc4-037fa87a28b4",
   "metadata": {},
   "source": [
    "### Name the new subject set\n",
    "Name your subject set as it will appear on the Zooniverse. Try not to reuse names. "
   ]
  },
  {
   "cell_type": "code",
   "execution_count": 8,
   "id": "9cb27552-1f98-4930-a72f-1a09f1118834",
   "metadata": {
    "execution": {
     "iopub.execute_input": "2023-04-17T16:22:01.818081Z",
     "iopub.status.busy": "2023-04-17T16:22:01.817839Z",
     "iopub.status.idle": "2023-04-17T16:22:01.831120Z",
     "shell.execute_reply": "2023-04-17T16:22:01.830404Z",
     "shell.execute_reply.started": "2023-04-17T16:22:01.818062Z"
    },
    "tags": []
   },
   "outputs": [
    {
     "data": {
      "text/plain": [
       "''"
      ]
     },
     "execution_count": 8,
     "metadata": {},
     "output_type": "execute_result"
    }
   ],
   "source": [
    "subject_set_name = \"\"\n",
    "subject_set_name"
   ]
  },
  {
   "cell_type": "code",
   "execution_count": null,
   "id": "141d06a8-6cb7-47fb-805e-27a094dd2f69",
   "metadata": {
    "tags": []
   },
   "outputs": [],
   "source": [
    "zip_path = cit_sci_pipeline.zip_image_cutouts(batch_dir)"
   ]
  },
  {
   "cell_type": "markdown",
   "id": "00ba0c93-9498-4906-af94-44961b9f17d8",
   "metadata": {
    "execution": {
     "iopub.execute_input": "2024-03-19T21:47:19.011355Z",
     "iopub.status.busy": "2024-03-19T21:47:19.010761Z",
     "iopub.status.idle": "2024-03-19T21:54:25.445416Z",
     "shell.execute_reply": "2024-03-19T21:54:25.444691Z",
     "shell.execute_reply.started": "2024-03-19T21:47:19.011326Z"
    },
    "tags": []
   },
   "source": [
    "#### 4.2 Send image data\n",
    "\n",
    "This cell will let PIs send one subject set. Name the subject set as it will appear on Zooniverse.\n",
    "\n",
    "Running this cell will also initiate the data transfer and make your data available on the Zooniverse platform."
   ]
  },
  {
   "cell_type": "code",
   "execution_count": null,
   "id": "37db938f-157f-41da-8477-4289e8f0661d",
   "metadata": {
    "tags": []
   },
   "outputs": [],
   "source": [
    "subject_set_name = \"\"\n",
    "cit_sci_pipeline.send_image_data(subject_set_name, zip_path)"
   ]
  },
  {
   "cell_type": "markdown",
   "id": "dc25572f-5f14-46c6-8883-ac95e3aa072c",
   "metadata": {},
   "source": [
    "## 5. Retrieve the classification data from Zooniverse <a class=\"anchor\" id=\"seventh-bullet\"></a>\n",
    "There are two ways to do this:\n",
    "\n",
    "1) Go to your Zooniverse project and downloading the output csv files found on the 'Data Exports' tab. Click the 'Request new classification report' button and per Zooniverse: \"Please note some exports may take a long time to process. We will email you when they are ready. You can only request one of each type of data export within a 24-hour time period.\"\n",
    "\n",
    "2) Programatically (as demonstrated below). There are two ways to do this.\n",
    "\n",
    "Find the `project_id` on Zooniverse by selecting 'build a project' and then selecting the project. Note that you don't need to be the project owner."
   ]
  },
  {
   "cell_type": "code",
   "execution_count": null,
   "id": "2fdd6f12-c5c4-48f1-8981-0a1c8a88e8a5",
   "metadata": {
    "tags": []
   },
   "outputs": [],
   "source": [
    "print('Retrieve the classifications from Zooniverse')\n",
    "project_id = 19539\n",
    "raw_clas_data = cit_sci_pipeline.retrieve_data(project_id)\n",
    "\n",
    "counter = 0\n",
    "list_rows = []"
   ]
  },
  {
   "cell_type": "markdown",
   "id": "8b0faa81-cc20-4d19-81b1-9ec755d27998",
   "metadata": {},
   "source": [
    "If the following cell throws an error, restart the kernel and rerun the cell."
   ]
  },
  {
   "cell_type": "code",
   "execution_count": null,
   "id": "88411efd-422d-4f60-8eb1-a5fbbd38fbc8",
   "metadata": {},
   "outputs": [],
   "source": [
    "for row in raw_clas_data:\n",
    "    if counter == 0:\n",
    "        header = row\n",
    "    else:\n",
    "        list_rows.append(row)\n",
    "    counter += 1\n",
    "\n",
    "df = utils.pandas.DataFrame(list_rows, columns=header)\n",
    "df"
   ]
  }
 ],
 "metadata": {
  "kernelspec": {
   "display_name": "LSST",
   "language": "python",
   "name": "lsst"
  },
  "language_info": {
   "codemirror_mode": {
    "name": "ipython",
    "version": 3
   },
   "file_extension": ".py",
   "mimetype": "text/x-python",
   "name": "python",
   "nbconvert_exporter": "python",
   "pygments_lexer": "ipython3",
   "version": "3.11.7"
  },
  "toc-autonumbering": false,
  "toc-showcode": true,
  "toc-showmarkdowntxt": true,
  "toc-showtags": false
 },
 "nbformat": 4,
 "nbformat_minor": 5
}
