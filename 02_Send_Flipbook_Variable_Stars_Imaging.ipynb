{
 "cells": [
  {
   "cell_type": "markdown",
   "id": "8fabc5dc-c078-4087-b377-21f36c9143d9",
   "metadata": {
    "tags": []
   },
   "source": [
    "<img align=\"left\" src = https://project.lsst.org/sites/default/files/Rubin-O-Logo_0.png width=250 style=\"padding: 10px\"> \n",
    "<b>Send a Flipbook of Variable Stars Images to Zooniverse</b> <br>\n",
    "Author(s): Becky Nevin and Sreevani Jarugula <br>\n",
    "Contact author: Becky Nevin<br>\n",
    "Last verified to run: 2024-05-02 <br>\n",
    "LSST Science Pipelines version: Weekly 2024_04 <br>\n",
    "Container size: small or medium <br>\n",
    "Targeted learning level: intermediate"
   ]
  },
  {
   "cell_type": "markdown",
   "id": "894cd71b-ff56-4f39-8288-5cc7ab45264c",
   "metadata": {
    "jp-MarkdownHeadingCollapsed": true,
    "tags": []
   },
   "source": [
    "**Description:**\n",
    "Query and send a flipbook of variable star images from RSP to Zooniverse"
   ]
  },
  {
   "cell_type": "markdown",
   "id": "e7007893-1008-4613-8e91-b2a2d265dfac",
   "metadata": {},
   "source": [
    "**Skills:** Use various TAP tables, including joining multiple tables. Get calexp images. Extract time-series photometry."
   ]
  },
  {
   "cell_type": "markdown",
   "id": "1a3a9956-ea47-4a31-934a-c8388581de54",
   "metadata": {},
   "source": [
    "**LSST Data Products:** TAP tables dp02_dc2_catalogs.MatchesTruth, TruthSummary, ForcedSource, CcdVisit<br>"
   ]
  },
  {
   "cell_type": "markdown",
   "id": "14ff42dd-a31d-43d2-93cb-7caa541993aa",
   "metadata": {},
   "source": [
    "**Packages:** rubin.cistci, astropy, lsst.daf.butler, lsst.afw.display, lsst.geom "
   ]
  },
  {
   "cell_type": "markdown",
   "id": "2d955084-1fa1-42da-b0b4-584321c62db4",
   "metadata": {},
   "source": [
    "**Credit:** Rubin tutorial notebooks 03a, 04a, 04b, 07b, and 08"
   ]
  },
  {
   "cell_type": "markdown",
   "id": "4cbc905d-8e9b-4ff9-b95d-e17b9b668385",
   "metadata": {},
   "source": [
    "**Support:** Support is available and questions are welcome - (cscience@lsst.org)"
   ]
  },
  {
   "cell_type": "markdown",
   "id": "8f16c667-e2bb-4c82-9f96-af3b623810b2",
   "metadata": {},
   "source": [
    "## 1. Introduction <a class=\"anchor\" id=\"first-bullet\"></a>\n",
    "This notebook will guide a PI through the process of sending a flipbook of five images of a variable star from the Rubin Science Platform (RSP) to the Zooniverse. It is recommended to run the `01_Introduction_to_Citsci_Pipeline.ipynb` notebook first, which provides an introduction to sending images to Zooniverse."
   ]
  },
  {
   "cell_type": "markdown",
   "id": "5db9ea7f-f436-4680-9202-a32099f81162",
   "metadata": {
    "execution": {
     "iopub.execute_input": "2023-10-12T20:19:10.007584Z",
     "iopub.status.busy": "2023-10-12T20:19:10.007224Z",
     "iopub.status.idle": "2023-10-12T20:19:10.011538Z",
     "shell.execute_reply": "2023-10-12T20:19:10.010761Z",
     "shell.execute_reply.started": "2023-10-12T20:19:10.007563Z"
    },
    "tags": []
   },
   "source": [
    "### 1.1 Package imports <a class=\"anchor\" id=\"second-bullet\"></a>"
   ]
  },
  {
   "cell_type": "markdown",
   "id": "9735d0b1-bfb4-4b40-9021-4703255a9ad4",
   "metadata": {},
   "source": [
    "#### Install Pipeline Package\n",
    "\n",
    "First, install the Rubin Citizen Science Pipeline package by doing the following:\n",
    "\n",
    "1. Open up a New Launcher tab\n",
    "2. In the \"Other\" section of the New Launcher tab, click \"Terminal\"\n",
    "3. Use `pip` to install the `rubin.citsci` package by entering the following command:\n",
    "```\n",
    "pip install rubin.citsci\n",
    "```\n",
    "Note that this package will soon be installed directly on RSP.\n",
    "\n",
    "If this package is already installed, make sure it is updated:\n",
    "```\n",
    "pip install --u rubin.citsci\n",
    "```\n",
    "\n",
    "4. Confirm the next cell containing `from rubin.citsci import pipeline` works as expected and does not throw an error"
   ]
  },
  {
   "cell_type": "code",
   "execution_count": null,
   "id": "843a7c50-8c33-417d-8d01-b02656361681",
   "metadata": {
    "tags": []
   },
   "outputs": [],
   "source": [
    "from rubin.citsci import pipeline\n",
    "import utils\n",
    "import numpy as np\n",
    "import pandas as pd\n",
    "import os\n",
    "import astropy\n",
    "from matplotlib import image as mpimg\n",
    "import matplotlib.pyplot as plt\n",
    "import lsst.afw.display as afwdisplay\n",
    "afwdisplay.setDefaultBackend(\"matplotlib\")"
   ]
  },
  {
   "cell_type": "markdown",
   "id": "44f9d903-511b-42a9-b9ab-0d7d26d528db",
   "metadata": {},
   "source": [
    "### 1.2 Define functions and parameters <a class=\"anchor\" id=\"third-bullet\"></a>\n",
    "If you haven't already, [make a Zooniverse account](https://www.zooniverse.org/accounts/registerhttps://www.zooniverse.org/accounts/register) and create your project.\n",
    "\n",
    "IMPORTANT: Your Zooniverse project must be set to \"public\", a \"private\" project will not work. Select this setting under the \"Visibility\" tab, (it does not need to be set to live). \n",
    "\n",
    "Supply the email associated with your Zooniverse account and project slug below.\n",
    "\n",
    "A \"slug\" is the string of your Zooniverse username and your project name without the leading forward slash, for instance: \"username/project-name\". [Click here for more details](https://www.zooniverse.org/talk/18/967061?comment=1898157&page=1).\n"
   ]
  },
  {
   "cell_type": "code",
   "execution_count": null,
   "id": "72b03aec-f204-45ac-b1d0-e66abd36e90e",
   "metadata": {
    "tags": []
   },
   "outputs": [],
   "source": [
    "email = \"\"\n",
    "slug_name = \"\"\n",
    "print(\"Running utilities to establish a link with Zooniverse\")\n",
    "print(\"Enter your Zooniverse username followed by password below\")\n",
    "cit_sci_pipeline = pipeline.CitSciPipeline()\n",
    "cit_sci_pipeline.login_to_zooniverse(slug_name, email)"
   ]
  },
  {
   "cell_type": "markdown",
   "id": "3732cb8c-dd68-452c-b74c-748785b62a99",
   "metadata": {},
   "source": [
    "## 2. Make a subject set of a variable star to send to Zooniverse <a class=\"anchor\" id=\"fourth-bullet\"></a>\n",
    "A subject set is a collection of data (images, plots, etc) that are shown to citizen scientists. It is also the unit of data that is sent to Zooniverse.\n",
    "\n",
    "This notebook curates a subject set of flipbook images from a variable star to send to Zooniverse. This can be modified to create your own subject set. Your subject set must have 100 objects or less in the testing phase before your project is approved by the EPO Data Rights panel. \n",
    "\n",
    "This example makes one set of image cutouts of a confirmed variable star at five different moments in time."
   ]
  },
  {
   "cell_type": "markdown",
   "id": "694302cb-593a-4ed3-b640-ad2dcbc3f42e",
   "metadata": {},
   "source": [
    "### 2.1 Initialize the Butler"
   ]
  },
  {
   "cell_type": "code",
   "execution_count": null,
   "id": "4ee439f4-2a67-48c6-b4c6-2642637b11c9",
   "metadata": {
    "tags": []
   },
   "outputs": [],
   "source": [
    "config = 'dp02'\n",
    "collection = '2.2i/runs/DP0.2'\n",
    "service, butler, skymap = utils.setup_query_tools(config, collection)"
   ]
  },
  {
   "cell_type": "markdown",
   "id": "fab874e2-58a0-4241-b1d6-dbacacf9c084",
   "metadata": {},
   "source": [
    "### 2.2 Get familiar with the DiaObject and ForcedSourceOnDiaObject tables\n",
    "These are _difference_ image tables, created by identifying objects not present in the template deepcoadd images. For more information, see https://lse-163.lsst.io/.\n"
   ]
  },
  {
   "cell_type": "code",
   "execution_count": null,
   "id": "32e36a81-a506-486c-9d94-ae6c5aa3e828",
   "metadata": {},
   "outputs": [],
   "source": [
    "pd.set_option('display.max_rows', 200, 'display.max_colwidth', 1000)\n",
    "results_diaobject = service.search(\"SELECT column_name, datatype, description,\\\n",
    "                          unit from TAP_SCHEMA.columns\\\n",
    "                          WHERE table_name = 'dp02_dc2_catalogs.DiaObject'\")"
   ]
  },
  {
   "cell_type": "code",
   "execution_count": null,
   "id": "390f1669-256b-437c-a5b3-0411360e3673",
   "metadata": {},
   "outputs": [],
   "source": [
    "results_diaobject.to_table().to_pandas().head()"
   ]
  },
  {
   "cell_type": "markdown",
   "id": "52fbcbe4-a725-4fc5-adce-7330d0ec3b25",
   "metadata": {},
   "source": [
    "diaObjectId is the unique ID for each object in the table; note that these are different IDs from the ObjectId in the Object table. From https://lse-163.lsst.io/:\n",
    "\n",
    ">There is no direct DIASource-to-Object match: in general, a time-domain object is not necessarily the same astrophysical object as a static-sky object, even if the two are positionally coincident (eg. an asteroid overlapping a galaxy). Therefore, adopted data model emphasizes that having a DIASource be positionally coincident with an Object does not imply it is physically related to it. Absent other information, the least presumptuous data model relationship is one of positional association, not physical identity.\n",
    "\n",
    "It is also necessary to have visit information to create images for each visit. Obtain visit information from the ForcedSourceOnDiaObject table (below). "
   ]
  },
  {
   "cell_type": "code",
   "execution_count": null,
   "id": "897bd67d-41b9-45f9-96fb-8b9fda51a6b9",
   "metadata": {},
   "outputs": [],
   "source": [
    "results_forceddiaobject = service.search(\n",
    "    \"SELECT column_name, datatype, description, unit \"\n",
    "    \"FROM TAP_SCHEMA.columns \"\n",
    "    \"WHERE table_name = 'dp02_dc2_catalogs.ForcedSourceOnDiaObject'\"\n",
    ")"
   ]
  },
  {
   "cell_type": "code",
   "execution_count": null,
   "id": "9e4af865-fd54-4d15-aff4-e5fde6571842",
   "metadata": {
    "scrolled": true
   },
   "outputs": [],
   "source": [
    "results_forceddiaobject.to_table().to_pandas().head()"
   ]
  },
  {
   "cell_type": "markdown",
   "id": "2a9e1f39-ac72-4740-8bc3-989d3a9c63ed",
   "metadata": {},
   "source": [
    "Finally, examine the CcdVisit catalog, which is matched with the ForcedSourceOnDiaObject catalog in order to retrieve timing information of when the exposure was taken."
   ]
  },
  {
   "cell_type": "code",
   "execution_count": null,
   "id": "5bce2ce0-ccd4-4c16-96ce-f0a1f513dc3f",
   "metadata": {},
   "outputs": [],
   "source": [
    "results_ccdvisit = service.search(\"SELECT column_name, datatype, description,\\\n",
    "                          unit from TAP_SCHEMA.columns\\\n",
    "                          WHERE table_name = 'dp02_dc2_catalogs.CcdVisit'\")"
   ]
  },
  {
   "cell_type": "code",
   "execution_count": null,
   "id": "ecd55eaa-999e-4e04-89bd-61235c132344",
   "metadata": {},
   "outputs": [],
   "source": [
    "results_ccdvisit.to_table().to_pandas().head()"
   ]
  },
  {
   "cell_type": "code",
   "execution_count": null,
   "id": "3fbc2679-d2b5-4361-88c7-975356aabf48",
   "metadata": {},
   "outputs": [],
   "source": [
    "del results_forceddiaobject, results_diaobject, results_ccdvisit"
   ]
  },
  {
   "cell_type": "markdown",
   "id": "f97239b1-4b94-49db-bf57-29342f706892",
   "metadata": {
    "execution": {
     "iopub.execute_input": "2023-10-19T16:40:19.538815Z",
     "iopub.status.busy": "2023-10-19T16:40:19.538133Z",
     "iopub.status.idle": "2023-10-19T16:40:19.542659Z",
     "shell.execute_reply": "2023-10-19T16:40:19.542017Z",
     "shell.execute_reply.started": "2023-10-19T16:40:19.538790Z"
    },
    "tags": []
   },
   "source": [
    "### 2.3 Do a search for variable stars\n",
    "Perform this search by joining the three catalogs explored above.\n",
    "\n",
    "For more details, please see the `DP02_07b_Variable_Star_Lightcurves.ipynb` notebook in the tutorial notebooks by Jeff Carlin and Ryan Lau. All the code in this section is derivative of that notebook.\n",
    "\n",
    "Use the coordinates of a known variable star."
   ]
  },
  {
   "cell_type": "code",
   "execution_count": null,
   "id": "24663d2c-afff-4419-92ff-19da6bcfb45e",
   "metadata": {
    "tags": []
   },
   "outputs": [],
   "source": [
    "ra_known_rrl = 62.1479031\n",
    "dec_known_rrl = -35.799138"
   ]
  },
  {
   "cell_type": "markdown",
   "id": "b26adf5e-0f25-4bd1-b83e-dcfb56c4b077",
   "metadata": {},
   "source": [
    "The below query will return a massive list of sources, some of which are repeat object IDs."
   ]
  },
  {
   "cell_type": "code",
   "execution_count": null,
   "id": "d75e0ed1-f327-439f-a663-c40c57e04c6b",
   "metadata": {},
   "outputs": [],
   "source": [
    "query = \"SELECT diao.diaObjectId, \"\\\n",
    "        \"fsodo.forcedSourceOnDiaObjectId, \"\\\n",
    "        \"diao.ra, diao.decl, \"\\\n",
    "        \"diao.gPSFluxNdata, \"\\\n",
    "        \"diao.gPSFluxStetsonJ, \"\\\n",
    "        \"diao.gTOTFluxMean, diao.gTOTFluxSigma, \"\\\n",
    "        \"scisql_nanojanskyToAbMag(fsodo.psfFlux) as psfMag, \"\\\n",
    "        \"fsodo.diaObjectId, \"\\\n",
    "        \"fsodo.ccdVisitId, fsodo.band, fsodo.psfFlux, fsodo.psfFluxErr, \"\\\n",
    "        \"fsodo.psfDiffFlux, fsodo.psfDiffFluxErr, \"\\\n",
    "        \"cv.expMidptMJD, cv.detector, cv.visitId, \"\\\n",
    "        \"scisql_nanojanskyToAbMag(fsodo.psfFlux) as fsodo_gmag \"\\\n",
    "        \"FROM dp02_dc2_catalogs.DiaObject as diao \"\\\n",
    "        \"JOIN dp02_dc2_catalogs.ForcedSourceOnDiaObject as fsodo \"\\\n",
    "        \"ON fsodo.diaObjectId = diao.diaObjectId \"\\\n",
    "        \"JOIN dp02_dc2_catalogs.CcdVisit as cv \"\\\n",
    "        \"ON cv.ccdVisitId = fsodo.ccdVisitId \"\\\n",
    "        \"WHERE diao.gTOTFluxSigma/diao.gTOTFluxMean > 0.25 \"\\\n",
    "        \"AND diao.gTOTFluxSigma/diao.gTOTFluxMean < 1.25 \"\\\n",
    "        \"AND scisql_nanojanskyToAbMag(diao.gTOTFluxMean) > 18 \"\\\n",
    "        \"AND scisql_nanojanskyToAbMag(diao.gTOTFluxMean) < 23 \"\\\n",
    "        \"AND diao.gPSFluxNdata > 30 \"\\\n",
    "        \"AND diao.gPSFluxStetsonJ > 20 \"\\\n",
    "        \"AND CONTAINS(POINT('ICRS', diao.ra, diao.decl), \"\\\n",
    "        \"CIRCLE('ICRS',\"+str(ra_known_rrl)+\", \"+str(dec_known_rrl)+\", 5)) = 1 \"\n",
    "\n",
    "results = service.search(query)\n",
    "fsodo_sources = results.to_table()\n",
    "fsodo_sources"
   ]
  },
  {
   "cell_type": "markdown",
   "id": "f323fe39-792f-4a9e-97df-533d06b63cc6",
   "metadata": {},
   "source": [
    "List by unique source instead."
   ]
  },
  {
   "cell_type": "code",
   "execution_count": null,
   "id": "87f7e2fb-13a6-4d99-aba8-b13f20380520",
   "metadata": {
    "tags": []
   },
   "outputs": [],
   "source": [
    "select_cols = ['diaObjectId',\n",
    "               'ra',\n",
    "               'decl',\n",
    "               'expMidptMJD',\n",
    "               'band',\n",
    "               'ccdVisitId',\n",
    "               'visitId',\n",
    "               'detector']\n",
    "unique_variables = astropy.table.unique(fsodo_sources,\n",
    "                                        keys='diaObjectId')[select_cols]\n",
    "print(\"Length of unique variables: \", len(unique_variables))"
   ]
  },
  {
   "cell_type": "markdown",
   "id": "4d0e5f80-263e-423d-92d8-13716b645331",
   "metadata": {},
   "source": [
    "### 2.4 Select one variable star\n",
    "Select one pre-selected diaobjectID. It is possible to select another, but for the purposes of this tutorial this is not recommended because many of these sources are not true variable stars."
   ]
  },
  {
   "cell_type": "code",
   "execution_count": null,
   "id": "7a118175-97a4-49c2-8a35-c7aa84c53d29",
   "metadata": {
    "tags": []
   },
   "outputs": [],
   "source": [
    "diaobjectid = 1567428592185376787\n",
    "selection = unique_variables[unique_variables[\"diaObjectId\"] == diaobjectid]\n",
    "ra = selection['ra'].value[0]\n",
    "dec = selection['decl'].value[0]\n",
    "print('ra and dec of variable star', ra, dec)"
   ]
  },
  {
   "cell_type": "markdown",
   "id": "64b70f34-ab99-4ae8-905e-6ce75f2c35af",
   "metadata": {},
   "source": [
    "### 2.5 Select some moments in time\n",
    "To do this, go back to the original table to get all of the necessary information necessary to plot a series of images, including visit information."
   ]
  },
  {
   "cell_type": "code",
   "execution_count": null,
   "id": "64dca590-d967-4359-b043-e37406a9817d",
   "metadata": {
    "tags": []
   },
   "outputs": [],
   "source": [
    "columns_select = ['diaObjectId',\n",
    "                  'ra',\n",
    "                  'decl',\n",
    "                  'ccdVisitId',\n",
    "                  'visitId',\n",
    "                  'band',\n",
    "                  'psfFlux',\n",
    "                  'psfFluxErr',\n",
    "                  'expMidptMJD',\n",
    "                  'detector',\n",
    "                  'psfMag']\n",
    "source = fsodo_sources[fsodo_sources[\"diaObjectId\"] ==\n",
    "                       diaobjectid][columns_select]"
   ]
  },
  {
   "cell_type": "markdown",
   "id": "253c74f8-a8ed-4d00-97bd-be1842394508",
   "metadata": {},
   "source": [
    "Create a function that will select by band.\n"
   ]
  },
  {
   "cell_type": "code",
   "execution_count": null,
   "id": "7f9c63a3-eb79-45f7-8780-984c2ec64501",
   "metadata": {
    "tags": []
   },
   "outputs": [],
   "source": [
    "plot_band_labels = ['u', 'g', 'r', 'i', 'z', 'y']\n",
    "pick = {}\n",
    "for band in plot_band_labels:\n",
    "    pick[band] = (source['band'] == band)"
   ]
  },
  {
   "cell_type": "markdown",
   "id": "90f88c2b-35db-472f-9fdf-89dad2f8605f",
   "metadata": {},
   "source": [
    "From now on, select only the r-band images. Also order by date."
   ]
  },
  {
   "cell_type": "code",
   "execution_count": null,
   "id": "c0458344-1501-424d-b8e8-6c6e7bf3eff2",
   "metadata": {
    "tags": []
   },
   "outputs": [],
   "source": [
    "print(type(source[pick['r']]))\n",
    "select_r = source[pick['r']]\n",
    "sorted_sources = select_r[select_r['expMidptMJD'].argsort()]\n",
    "sorted_sources[0:5]"
   ]
  },
  {
   "cell_type": "markdown",
   "id": "079e8659-dc50-4661-a7dd-7c5f92c7a4bc",
   "metadata": {},
   "source": [
    "Select some random moments in time. Keep these the same to observe a change in brightness, or select your own *at your own risk*."
   ]
  },
  {
   "cell_type": "code",
   "execution_count": null,
   "id": "f18950f1-e525-4d15-a7d3-4f76d3b737a3",
   "metadata": {
    "tags": []
   },
   "outputs": [],
   "source": [
    "idx_select = [10, 15, 25, 40, 63]"
   ]
  },
  {
   "cell_type": "markdown",
   "id": "03e0ee39-8dbc-4ece-b449-bf8b83161e97",
   "metadata": {},
   "source": [
    "Show the selected moments against all dates."
   ]
  },
  {
   "cell_type": "code",
   "execution_count": null,
   "id": "b9cbd451-ce99-4044-a019-5af61b6206d9",
   "metadata": {
    "tags": []
   },
   "outputs": [],
   "source": [
    "fig = plt.figure(figsize=(6, 4))\n",
    "plt.plot(sorted_sources['expMidptMJD'],\n",
    "         sorted_sources['psfMag'],\n",
    "         'k.', ms=10)\n",
    "plt.plot(sorted_sources[idx_select]['expMidptMJD'],\n",
    "         sorted_sources[idx_select]['psfMag'],\n",
    "         'r.', ms=10, label='selected calexp')\n",
    "plt.minorticks_on()\n",
    "plt.xlabel('MJD (days)')\n",
    "plt.ylabel('r')\n",
    "plt.gca().invert_yaxis()\n",
    "plt.legend(loc=2)\n",
    "plt.show()"
   ]
  },
  {
   "cell_type": "markdown",
   "id": "9a251b99-fe4d-44e9-a588-ca9e553d9880",
   "metadata": {},
   "source": [
    "### 2.6 Save images and write the `manifest.csv` to file\n",
    "This tutorial section utilizes plotting utilities, which are stored in the `utils.py` file."
   ]
  },
  {
   "cell_type": "markdown",
   "id": "f3375429-b33a-46d2-ad59-8436f310fe0b",
   "metadata": {},
   "source": [
    "Define the directory where the flipbook images will be saved (`batch_dir`). Then running through the list of moments in time, create calexp images, and add a row to the manifest file for each image. Note that the diaObjectID is saved as `objectId` in this table. This naming schema is required for the `manifest.csv` file."
   ]
  },
  {
   "cell_type": "code",
   "execution_count": null,
   "id": "1cd328a0-1efb-4412-b91b-1bf8ec026b8b",
   "metadata": {},
   "outputs": [],
   "source": [
    "print('Specify the directory that the cutouts will be output to')\n",
    "batch_dir = './variable_stars_output/'\n",
    "# Create the directory\n",
    "os.makedirs(batch_dir, exist_ok=True)\n",
    "print(f\"Make the manifest file and save both the manifest and the cutout images in this folder: {batch_dir}\")\n",
    "manifest = utils.make_manifest_with_calexp_images(sorted_sources, diaobjectid, idx_select, butler, batch_dir)"
   ]
  },
  {
   "cell_type": "code",
   "execution_count": null,
   "id": "d8b84793-c7e8-4db8-9303-1d86acb06e02",
   "metadata": {},
   "outputs": [],
   "source": [
    "manifest_path = cit_sci_pipeline.write_manifest_file(manifest, batch_dir)\n",
    "print(\"The manifest CSV file can be found at the following relative path:\")\n",
    "print(manifest_path)"
   ]
  },
  {
   "cell_type": "markdown",
   "id": "7b3c5259-62a5-4317-9285-8a2be2722032",
   "metadata": {},
   "source": [
    "### 2.7 Display images in notebook\n",
    "Display the images saved to the manifest file using the image directory (`batch_dir`)."
   ]
  },
  {
   "cell_type": "code",
   "execution_count": null,
   "id": "c83790b5-4cae-489e-9d7e-592669f8a918",
   "metadata": {
    "tags": []
   },
   "outputs": [],
   "source": [
    "image_dir = batch_dir\n",
    "num_variable_images = 5\n",
    "stars_matchid_list = [diaobjectid]\n",
    "star_name = np.zeros((1, num_variable_images))\n",
    "star_name = []\n",
    "for i, id_star in enumerate(stars_matchid_list):\n",
    "    # go through and sort by ccdID so that they are in order of time\n",
    "    # DOUBLE CHECK THAT THIS IS TIME ORDER\n",
    "    ccdid_list = []\n",
    "    for j, file in enumerate(os.listdir(image_dir)):\n",
    "        if os.path.isfile(image_dir + file):\n",
    "            if (str.split(file, '.')[1] == 'png' and\n",
    "                    str.split(file, '_')[0] == str(id_star)):\n",
    "                img_id = int(str.split(str.split(file, '_')[1], '.')[0])\n",
    "                star_name.append(str(id_star) + '_' +\n",
    "                                 str(img_id) + '.png')\n",
    "fig, axs = plt.subplots(1, 5, figsize=(20, 20))\n",
    "print('star', stars_matchid_list[0])\n",
    "for j in range(num_variable_images):\n",
    "    image = mpimg.imread(image_dir + star_name[j])\n",
    "    axs[j].imshow(image)\n",
    "    axs[j].axis('off')\n",
    "plt.show()\n",
    "\n",
    "try:\n",
    "    print('star', stars_matchid_list[1])\n",
    "    fig, axs = plt.subplots(1, 5, figsize=(20, 20))\n",
    "\n",
    "    for j in range(num_variable_images):\n",
    "        image = mpimg.imread(image_dir + star_name[j + num_variable_images])\n",
    "        axs[j].imshow(image)\n",
    "        axs[j].axis('off')\n",
    "    plt.show()\n",
    "\n",
    "except IndexError:  # this will happen if you have only one star\n",
    "    print('only one star')\n"
   ]
  },
  {
   "cell_type": "markdown",
   "id": "8acbf9bb-6904-4638-8a2f-67f257a8ff74",
   "metadata": {},
   "source": [
    "The third and fifth image should be the brightest."
   ]
  },
  {
   "cell_type": "markdown",
   "id": "42ee7594-5b78-4913-8bc9-ed0203dc2d6a",
   "metadata": {},
   "source": [
    "### A word of caution\n",
    "These are calexp images, which have not been aligned like individual visits that are combined in a deepcoadd image. Therefore, the pixelscale is not guaranteed to be the same from one image to the next and the astrometry is not guaranteed to align. "
   ]
  },
  {
   "cell_type": "markdown",
   "id": "babaeadd-973c-4230-ae6e-55cc8b09cf94",
   "metadata": {},
   "source": [
    "## 3. Send the data to Zooniverse\n",
    "Zip up the data and send it to the Zooniverse."
   ]
  },
  {
   "cell_type": "markdown",
   "id": "3d1cb455-d644-4fed-a6dc-daac12f34125",
   "metadata": {
    "execution": {
     "iopub.execute_input": "2024-03-21T19:33:09.147887Z",
     "iopub.status.busy": "2024-03-21T19:33:09.147075Z",
     "iopub.status.idle": "2024-03-21T19:33:09.151199Z",
     "shell.execute_reply": "2024-03-21T19:33:09.150569Z",
     "shell.execute_reply.started": "2024-03-21T19:33:09.147855Z"
    }
   },
   "source": [
    "### 3.1 Zip up the data\n",
    "Running the below cell will zip up all the cutouts into a single file - this can take 5 to 10 minutes for large data sets (> 5k cutouts)."
   ]
  },
  {
   "cell_type": "code",
   "execution_count": null,
   "id": "7757b182-d16b-47ad-b7a9-db05d2fa58f9",
   "metadata": {},
   "outputs": [],
   "source": [
    "zip_path = cit_sci_pipeline.zip_image_cutouts(batch_dir)\n",
    "print(zip_path)"
   ]
  },
  {
   "cell_type": "markdown",
   "id": "2399b9f3-a4b7-47ea-ac7e-498fe1467a7c",
   "metadata": {},
   "source": [
    "### 4.2 Send image data\n",
    "This cell will let PIs send one subject set. Name the subject set as it will appear on Zooniverse.\n",
    "\n",
    "Running this cell will also initiate the data transfer and make your data available on the Zooniverse platform."
   ]
  },
  {
   "cell_type": "code",
   "execution_count": null,
   "id": "7d3d7fbe-9178-4ce2-aea1-4e5a5d0d4b21",
   "metadata": {
    "tags": []
   },
   "outputs": [],
   "source": [
    "subject_set_name = \"\"\n",
    "cit_sci_pipeline.send_image_data(subject_set_name, zip_path, flipbook=True)"
   ]
  },
  {
   "cell_type": "code",
   "execution_count": null,
   "id": "7fb9f615-8fae-4e55-a87d-4039132c7bea",
   "metadata": {},
   "outputs": [],
   "source": []
  }
 ],
 "metadata": {
  "kernelspec": {
   "display_name": "LSST",
   "language": "python",
   "name": "lsst"
  },
  "language_info": {
   "codemirror_mode": {
    "name": "ipython",
    "version": 3
   },
   "file_extension": ".py",
   "mimetype": "text/x-python",
   "name": "python",
   "nbconvert_exporter": "python",
   "pygments_lexer": "ipython3",
   "version": "3.11.7"
  }
 },
 "nbformat": 4,
 "nbformat_minor": 5
}
