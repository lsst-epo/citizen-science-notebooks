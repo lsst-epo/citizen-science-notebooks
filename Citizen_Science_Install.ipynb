{
 "cells": [
  {
   "cell_type": "markdown",
   "id": "4ca66653-c815-47a4-af85-65b646a67e57",
   "metadata": {},
   "source": [
    "<img align=\"left\" src = https://project.lsst.org/sites/default/files/Rubin-O-Logo_0.png width=250 style=\"padding: 10px\"> \n",
    "<b>Citzen Science Package Installation</b> <br>\n",
    "Contact author: Clare Higgs & Eric Rosas <br>\n",
    "Last verified to run: 2023-07-06 <br>\n",
    "Container size: medium <br>\n"
   ]
  },
  {
   "cell_type": "markdown",
   "id": "10cb6f4f-ea5e-44b5-a066-319647eaa956",
   "metadata": {},
   "source": [
    "### Terminal Prep Work\n",
    "This notebook should be run from other notebooks where primary data curation occurs."
   ]
  },
  {
   "cell_type": "code",
   "execution_count": null,
   "id": "77d8e89a-5696-4f76-9e26-9f5df9acd005",
   "metadata": {
    "tags": []
   },
   "outputs": [],
   "source": [
    "# Install panoptes client package to dependencies and create necessary folders\n",
    "!mkdir -p project/citizen-science/astro-cutouts/\n",
    "print(\"Installing external dependencies...\")\n",
    "!python -m pip install google-cloud-storage --quiet\n",
    "!pip install panoptes_client --quiet\n",
    "print(\"Done installing external dependencies!\")"
   ]
  }
 ],
 "metadata": {
  "kernelspec": {
   "display_name": "LSST",
   "language": "python",
   "name": "lsst"
  },
  "language_info": {
   "codemirror_mode": {
    "name": "ipython",
    "version": 3
   },
   "file_extension": ".py",
   "mimetype": "text/x-python",
   "name": "python",
   "nbconvert_exporter": "python",
   "pygments_lexer": "ipython3",
   "version": "3.10.10"
  }
 },
 "nbformat": 4,
 "nbformat_minor": 5
}
