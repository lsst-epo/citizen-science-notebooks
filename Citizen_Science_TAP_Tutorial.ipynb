{
 "cells": [
  {
   "cell_type": "markdown",
   "id": "40b39781-6a1b-40eb-a86b-b5b371d0993f",
   "metadata": {},
   "source": [
    "# Citizen Science Notebook - TAP Tutorial\n",
    "This notebook demonstrates the usage of using the TAP query service to curate tabular data and send it to Zooniverse"
   ]
  },
  {
   "cell_type": "markdown",
   "id": "2450d25d",
   "metadata": {},
   "source": [
    "## Create a Zooniverse Account\n",
    "If you haven't already, [create a Zooniverse account here.](https://www.zooniverse.org/)\n",
    "After creating your account, return to this notebook."
   ]
  },
  {
   "cell_type": "markdown",
   "id": "10cb6f4f-ea5e-44b5-a066-319647eaa956",
   "metadata": {},
   "source": [
    "## Terminal Prep Work\n",
    "The follow cell will run the necessary terminal commands that make this notebook possible."
   ]
  },
  {
   "cell_type": "code",
   "execution_count": 1,
   "id": "77d8e89a-5696-4f76-9e26-9f5df9acd005",
   "metadata": {},
   "outputs": [
    {
     "name": "stdout",
     "output_type": "stream",
     "text": [
      "Loaded plugins: fastestmirror, ovl\n",
      "ovl: Error while doing RPMdb copy-up:\n",
      "[Errno 13] Permission denied: '/var/lib/rpm/.dbenv.lock'\n",
      "You need to be root to perform this command.\n",
      "Defaulting to user installation because normal site-packages is not writeable\n",
      "Requirement already satisfied: google-cloud-storage in /opt/lsst/software/stack/conda/miniconda3-py38_4.9.2/envs/lsst-scipipe-4.0.0/lib/python3.10/site-packages (2.1.0)\n",
      "Requirement already satisfied: requests<3.0.0dev,>=2.18.0 in ./.local/lib/python3.10/site-packages (from google-cloud-storage) (2.26.0)\n",
      "Requirement already satisfied: google-auth<3.0dev,>=1.25.0 in /opt/lsst/software/stack/conda/miniconda3-py38_4.9.2/envs/lsst-scipipe-4.0.0/lib/python3.10/site-packages (from google-cloud-storage) (2.6.6)\n",
      "Requirement already satisfied: google-api-core<3.0dev,>=1.29.0 in /opt/lsst/software/stack/conda/miniconda3-py38_4.9.2/envs/lsst-scipipe-4.0.0/lib/python3.10/site-packages (from google-cloud-storage) (2.8.0)\n",
      "Requirement already satisfied: google-resumable-media>=1.3.0 in /opt/lsst/software/stack/conda/miniconda3-py38_4.9.2/envs/lsst-scipipe-4.0.0/lib/python3.10/site-packages (from google-cloud-storage) (2.1.0)\n",
      "Requirement already satisfied: google-cloud-core<3.0dev,>=1.6.0 in /opt/lsst/software/stack/conda/miniconda3-py38_4.9.2/envs/lsst-scipipe-4.0.0/lib/python3.10/site-packages (from google-cloud-storage) (2.2.2)\n",
      "Requirement already satisfied: protobuf in /opt/lsst/software/stack/conda/miniconda3-py38_4.9.2/envs/lsst-scipipe-4.0.0/lib/python3.10/site-packages (from google-cloud-storage) (3.19.4)\n",
      "Requirement already satisfied: googleapis-common-protos<2.0dev,>=1.52.0 in /opt/lsst/software/stack/conda/miniconda3-py38_4.9.2/envs/lsst-scipipe-4.0.0/lib/python3.10/site-packages (from google-api-core<3.0dev,>=1.29.0->google-cloud-storage) (1.56.1)\n",
      "Requirement already satisfied: six>=1.9.0 in /opt/lsst/software/stack/conda/miniconda3-py38_4.9.2/envs/lsst-scipipe-4.0.0/lib/python3.10/site-packages (from google-auth<3.0dev,>=1.25.0->google-cloud-storage) (1.16.0)\n",
      "Requirement already satisfied: rsa<5,>=3.1.4 in /opt/lsst/software/stack/conda/miniconda3-py38_4.9.2/envs/lsst-scipipe-4.0.0/lib/python3.10/site-packages (from google-auth<3.0dev,>=1.25.0->google-cloud-storage) (4.8)\n",
      "Requirement already satisfied: cachetools<6.0,>=2.0.0 in /opt/lsst/software/stack/conda/miniconda3-py38_4.9.2/envs/lsst-scipipe-4.0.0/lib/python3.10/site-packages (from google-auth<3.0dev,>=1.25.0->google-cloud-storage) (5.0.0)\n",
      "Requirement already satisfied: pyasn1-modules>=0.2.1 in /opt/lsst/software/stack/conda/miniconda3-py38_4.9.2/envs/lsst-scipipe-4.0.0/lib/python3.10/site-packages (from google-auth<3.0dev,>=1.25.0->google-cloud-storage) (0.2.7)\n",
      "Requirement already satisfied: google-crc32c<2.0dev,>=1.0 in /opt/lsst/software/stack/conda/miniconda3-py38_4.9.2/envs/lsst-scipipe-4.0.0/lib/python3.10/site-packages (from google-resumable-media>=1.3.0->google-cloud-storage) (1.1.2)\n",
      "Requirement already satisfied: idna<4,>=2.5 in /opt/lsst/software/stack/conda/miniconda3-py38_4.9.2/envs/lsst-scipipe-4.0.0/lib/python3.10/site-packages (from requests<3.0.0dev,>=2.18.0->google-cloud-storage) (3.3)\n",
      "Requirement already satisfied: urllib3<1.27,>=1.21.1 in /opt/lsst/software/stack/conda/miniconda3-py38_4.9.2/envs/lsst-scipipe-4.0.0/lib/python3.10/site-packages (from requests<3.0.0dev,>=2.18.0->google-cloud-storage) (1.26.9)\n",
      "Requirement already satisfied: certifi>=2017.4.17 in /opt/lsst/software/stack/conda/miniconda3-py38_4.9.2/envs/lsst-scipipe-4.0.0/lib/python3.10/site-packages (from requests<3.0.0dev,>=2.18.0->google-cloud-storage) (2022.5.18.1)\n",
      "Requirement already satisfied: charset-normalizer~=2.0.0 in /opt/lsst/software/stack/conda/miniconda3-py38_4.9.2/envs/lsst-scipipe-4.0.0/lib/python3.10/site-packages (from requests<3.0.0dev,>=2.18.0->google-cloud-storage) (2.0.12)\n",
      "Requirement already satisfied: cffi>=1.0.0 in /opt/lsst/software/stack/conda/miniconda3-py38_4.9.2/envs/lsst-scipipe-4.0.0/lib/python3.10/site-packages (from google-crc32c<2.0dev,>=1.0->google-resumable-media>=1.3.0->google-cloud-storage) (1.15.0)\n",
      "Requirement already satisfied: pyasn1<0.5.0,>=0.4.6 in /opt/lsst/software/stack/conda/miniconda3-py38_4.9.2/envs/lsst-scipipe-4.0.0/lib/python3.10/site-packages (from pyasn1-modules>=0.2.1->google-auth<3.0dev,>=1.25.0->google-cloud-storage) (0.4.8)\n",
      "Requirement already satisfied: pycparser in /opt/lsst/software/stack/conda/miniconda3-py38_4.9.2/envs/lsst-scipipe-4.0.0/lib/python3.10/site-packages (from cffi>=1.0.0->google-crc32c<2.0dev,>=1.0->google-resumable-media>=1.3.0->google-cloud-storage) (2.21)\n"
     ]
    }
   ],
   "source": [
    "# Install panoptes client package to dependencies\n",
    "!yum install zip\n",
    "# !python -m pip install panoptes-client\n",
    "!mkdir -p project/citizen-science/astro-cutouts/\n",
    "!mkdir -p project/citizen-science/org\n",
    "!python -m pip install google-cloud-storage"
   ]
  },
  {
   "cell_type": "code",
   "execution_count": 2,
   "id": "331cd588-ddce-4e32-abff-a7f3355679c9",
   "metadata": {},
   "outputs": [
    {
     "name": "stdout",
     "output_type": "stream",
     "text": [
      "Defaulting to user installation because normal site-packages is not writeable\n",
      "Collecting git+https://github.com/zooniverse/panoptes-python-client.git\n",
      "  Cloning https://github.com/zooniverse/panoptes-python-client.git to /tmp/pip-req-build-v2c2sorn\n",
      "  Running command git clone --filter=blob:none --quiet https://github.com/zooniverse/panoptes-python-client.git /tmp/pip-req-build-v2c2sorn\n",
      "  Resolved https://github.com/zooniverse/panoptes-python-client.git to commit da059f5e1792569393f991faf71316e902e7f95b\n",
      "  Preparing metadata (setup.py) ... \u001b[?25ldone\n",
      "\u001b[?25hRequirement already satisfied: requests<2.29,>=2.4.2 in ./.local/lib/python3.10/site-packages (from panoptes-client==1.5.0) (2.26.0)\n",
      "Requirement already satisfied: future<0.19,>=0.16 in /opt/lsst/software/stack/conda/miniconda3-py38_4.9.2/envs/lsst-scipipe-4.0.0/lib/python3.10/site-packages (from panoptes-client==1.5.0) (0.18.2)\n",
      "Requirement already satisfied: python-magic<0.5,>=0.4 in ./.local/lib/python3.10/site-packages (from panoptes-client==1.5.0) (0.4.27)\n",
      "Requirement already satisfied: redo>=1.7 in ./.local/lib/python3.10/site-packages (from panoptes-client==1.5.0) (2.0.4)\n",
      "Requirement already satisfied: six>=1.9 in /opt/lsst/software/stack/conda/miniconda3-py38_4.9.2/envs/lsst-scipipe-4.0.0/lib/python3.10/site-packages (from panoptes-client==1.5.0) (1.16.0)\n",
      "Requirement already satisfied: certifi>=2017.4.17 in /opt/lsst/software/stack/conda/miniconda3-py38_4.9.2/envs/lsst-scipipe-4.0.0/lib/python3.10/site-packages (from requests<2.29,>=2.4.2->panoptes-client==1.5.0) (2022.5.18.1)\n",
      "Requirement already satisfied: charset-normalizer~=2.0.0 in /opt/lsst/software/stack/conda/miniconda3-py38_4.9.2/envs/lsst-scipipe-4.0.0/lib/python3.10/site-packages (from requests<2.29,>=2.4.2->panoptes-client==1.5.0) (2.0.12)\n",
      "Requirement already satisfied: idna<4,>=2.5 in /opt/lsst/software/stack/conda/miniconda3-py38_4.9.2/envs/lsst-scipipe-4.0.0/lib/python3.10/site-packages (from requests<2.29,>=2.4.2->panoptes-client==1.5.0) (3.3)\n",
      "Requirement already satisfied: urllib3<1.27,>=1.21.1 in /opt/lsst/software/stack/conda/miniconda3-py38_4.9.2/envs/lsst-scipipe-4.0.0/lib/python3.10/site-packages (from requests<2.29,>=2.4.2->panoptes-client==1.5.0) (1.26.9)\n"
     ]
    }
   ],
   "source": [
    "# temp workaround code\n",
    "!python -m pip install -U git+https://github.com/zooniverse/panoptes-python-client.git"
   ]
  },
  {
   "cell_type": "markdown",
   "id": "7b87346d",
   "metadata": {},
   "source": [
    "## Log in to Zooniverse\n",
    "Now that you have a Zooniverse account, log into the Zooniverse(Panoptes) client."
   ]
  },
  {
   "cell_type": "code",
   "execution_count": 4,
   "id": "5a3d8310-d278-4785-998b-246e0ce181fc",
   "metadata": {},
   "outputs": [
    {
     "name": "stdout",
     "output_type": "stream",
     "text": [
      "Enter your Zooniverse credentials...\n"
     ]
    },
    {
     "name": "stdin",
     "output_type": "stream",
     "text": [
      "Username:  ericrosas\n",
      " ···········\n"
     ]
    }
   ],
   "source": [
    "# Log into Zooniverse\n",
    "import panoptes_client\n",
    "client = panoptes_client.Panoptes.connect(login=\"interactive\")"
   ]
  },
  {
   "cell_type": "markdown",
   "id": "5eb732ad-0ae7-4ce4-aaf8-1dd2bb0a3194",
   "metadata": {},
   "source": [
    " ## Look Up Your Zooniverse Project\n",
    " \n",
    " IMPORTANT: Your Zooniverse project must be set to \"public\", a \"private\" project will not work.\n",
    " \n",
    " The following code will not work if you have not authenticated in the cell titled \"Log in to Zooniverse\". </br>\n",
    " Supply the project name in the variable below.\n",
    " </br></br>\n",
    " Not that the `Project.find()` method expects the project name to reflect the \"slug\" of your project, if you don't know what a \"slug\" is in this context, see:</br>\n",
    " https://www.zooniverse.org/talk/18/967061?comment=1898157&page=1"
   ]
  },
  {
   "cell_type": "code",
   "execution_count": 5,
   "id": "19c7e27c-f908-423f-88ee-2a3fb1c4d0df",
   "metadata": {
    "tags": []
   },
   "outputs": [
    {
     "name": "stdout",
     "output_type": "stream",
     "text": [
      "18676\n",
      "Test Project\n",
      "{}\n",
      "IMPORTANT! Scroll down to the cell that starts with a title of 'IMPORTANT! Run the below cell...' before proceeding to the next cell\n"
     ]
    }
   ],
   "source": [
    "from panoptes_client import Project, SubjectSet\n",
    "\n",
    "## TO-DO: Enter your email address and the slug of your project\n",
    "email = \"erosas@lsst.org\"\n",
    "slugName = \"ericrosas/test-project\" # Add your slug name\n",
    "\n",
    "project = Project.find(slug=slugName)\n",
    "\n",
    "projectId = project.id\n",
    "\n",
    "print(projectId)\n",
    "\n",
    "print(project.display_name)\n",
    "\n",
    "for sub in project.links.subject_sets:\n",
    "    print(sub.completeness)\n",
    "print(\"IMPORTANT! Scroll down to the cell that starts with a title of 'IMPORTANT! Run the below cell...' before proceeding to the next cell\")"
   ]
  },
  {
   "cell_type": "code",
   "execution_count": null,
   "id": "c9226fa9-18cd-4093-9b5b-b16dce98866d",
   "metadata": {
    "tags": []
   },
   "outputs": [],
   "source": [
    "# import numpy as np\n",
    "# import threading\n",
    "\n",
    "# urls = []\n",
    "\n",
    "# def test_func(cutout):\n",
    "#     print(\"in test_func\")\n",
    "#     print(cutout)\n",
    "#     urls.append(...cutout)\n",
    "\n",
    "# arr = x = np.arange(105)\n",
    "# arrs = np.split(arr, len(arr) / 10)\n",
    "# for cutout in arrs:\n",
    "#     t = threading.Thread(target=test_func, args=(cutout,))\n",
    "#     t.start()\n",
    "#     t.join()\n",
    "    \n",
    "# print(\"done!\")\n",
    "# print(urls)\n",
    "    "
   ]
  },
  {
   "cell_type": "markdown",
   "id": "87b3885c-fef1-4fe2-a1d5-5110da3664f7",
   "metadata": {},
   "source": [
    "## Create Image Cutout from HiPS Server\n",
    "You can create a cutout image of a HiPS survey/server by doing the following:"
   ]
  },
  {
   "cell_type": "code",
   "execution_count": 22,
   "id": "90813c05-0348-4622-91a8-c9b6d6a77eef",
   "metadata": {},
   "outputs": [
    {
     "name": "stdout",
     "output_type": "stream",
     "text": [
      "Object results:\n",
      "objectId,coord_dec,Coord_ra,g_ra,i_ra,r_ra,u_ra,y_ra,z_ra,g_decl,i_decl,r_decl,u_decl,y_decl,z_decl,g_bdFluxB,i_bdFluxB,r_bdFluxB,u_bdFluxB,y_bdFluxB,z_bdFluxB,g_bdFluxD,i_bdFluxD,r_bdFluxD,u_bdFluxD,y_bdFluxD,z_bdFluxD,g_bdReB,i_bdReB,r_bdReB,u_bdReB,y_bdReB,z_bdReB,g_bdReD,i_bdReD,r_bdReD,u_bdReD,y_bdReD,z_bdReD\n",
      "1329503072027709206,-42.1511266,69.5575035,69.5574987,69.5575035,69.5575033,69.5575026,69.5575025,69.5575034,-42.1511256,-42.1511266,-42.1511264,-42.1511265,-42.1511251,-42.1511265,372.2873023,531.9323122,428.9036831,262.4370532,882.0089006,803.9951925,322.7598806,481.0387995,365.5218903,235.9502341,794.8639895,717.5093349,2.1598829,1.9409479,2.2703853,1.9061983,1.8471988,1.9592959,1.9194363,1.9011721,1.9428003,1.8780927,1.8578926,1.8832815\n",
      "1329503072027709207,-42.150509,69.5574221,69.5574205,69.5574221,69.5574214,69.5574197,69.557415,69.5574214,-42.1505081,-42.150509,-42.1505086,-42.1505077,-42.1505044,-42.1505085,164.4884664,389.9938466,203.1791396,166.7004996,934.2915114,598.2094212,159.5810395,377.1110138,196.4767063,162.0646648,920.9633291,579.3023162,0.7845622,0.7666556,0.7842935,0.7837484,0.7783977,0.7793268,1.0174002,0.9831646,1.0041758,1.0351804,1.107729,1.0110915\n",
      "1329503072027709208,-42.1527179,69.5580936,69.5580945,69.5580931,69.5580936,69.558095,69.558098,69.5580936,-42.1527174,-42.152718,-42.1527179,-42.1527175,-42.1527149,-42.1527179,138.2083659,205.5613748,173.8046134,94.5936288,346.5778569,293.8764127,136.2786288,202.4921707,170.9764659,93.3431899,326.9023499,289.1465631,0.5698968,0.5659411,0.5859874,0.5784814,0.6017512,0.588427,0.8116431,0.8043585,0.8220438,0.8254102,0.2994121,0.8270254\n",
      "1329503072027709209,-42.1524391,69.5591246,69.5591246,69.5591234,69.5591239,69.5591255,69.5591303,69.559124,-42.1524391,-42.1524379,-42.1524384,-42.1524402,-42.1524451,-42.1524385,184.6342281,202.5840172,247.8721557,204.5685278,730.8830779,455.6074663,179.3337842,199.2571042,241.0022186,180.1954661,723.9685024,441.3614681,0.781256,0.2831918,0.7556445,0.7609703,0.3244337,0.7533415,1.0247911,0.2796368,0.9913278,0.4303436,0.3247751,0.9770004\n",
      "1329503072027709210,-42.1518724,69.5562442,69.5562449,69.5562442,69.5562464,69.5562595,69.5562534,69.5562483,-42.1518714,-42.1518724,-42.1518717,-42.1518708,-42.151864,-42.1518713,50.4678245,121.6840905,52.5826635,11.8443011,470.5154564,23.0847752,50.4048603,121.6998877,52.6006068,11.8637154,467.8779153,23.0993862,0.0698872,0.0183764,0.0427614,0.0419029,0.4799237,0.0125802,0.0219867,0.0308823,0.06582,0.1141353,0.7159908,0.0426977\n",
      "1329503072027700142,-42.2437172,69.5356193,69.535618,69.5356193,69.5356189,69.535615,69.5356134,69.5356189,-42.2437179,-42.2437172,-42.2437176,-42.2437192,-42.2437229,-42.2437177,138.3506882,357.1313414,195.4471401,51.3681064,543.4384162,423.5157973,134.3297191,345.3424025,189.239987,50.001755,534.5221294,410.5739351,0.7732919,0.7517385,0.7685419,0.7847405,0.7961411,0.7519712,1.0156516,0.9626987,0.9895646,1.0410818,1.1172941,0.9772155\n",
      "1329503072027709211,-42.1528006,69.557404,69.5574084,69.557404,69.5574056,69.5574106,69.5574203,69.5574053,-42.1528014,-42.1528006,-42.1528009,-42.1528016,-42.1528026,-42.1528008,39.1692796,141.3961877,76.7747733,77.9545721,772.926811,378.5702839,38.4524764,139.288282,75.3610798,77.583391,765.7776672,372.3926021,0.5875924,0.4948211,0.5663677,0.187035,0.6709054,0.5531592,0.809598,0.6963109,0.7782914,0.1870469,0.9879802,0.7714073\n",
      "1329503072027709212,-42.152757,69.4756944,69.4756944,69.475692,69.4756931,69.4756953,69.4756991,69.4756921,-42.152757,-42.1527575,-42.1527571,-42.1527562,-42.1527534,-42.1527573,205.51344,268.7792816,226.5845428,103.3152166,251.733407,351.9335888,188.952602,244.471155,210.1043254,86.9764487,241.0606407,317.5579444,1.2544786,1.2634612,1.2202698,1.2545547,1.1223173,1.3201791,1.3304191,1.3056598,1.3352694,0.8882748,1.3913475,1.3246523\n",
      "1329503072027709213,-42.1523386,69.5137988,69.5137991,69.5137988,69.5137989,69.5137992,69.5137999,69.5137989,-42.1523386,-42.1523386,-42.1523385,-42.1523386,-42.1523383,-42.1523385,2646.8570706,3123.9220876,2813.8722661,2538.2697659,6734.2576052,5199.3096741,2253.7865357,2638.1793019,2390.7200254,2177.4159353,6010.9017369,4406.2059446,2.0678367,2.0454078,2.0577331,2.101905,2.1554662,2.1207477,1.7754767,1.7190543,1.7530083,1.8347754,2.1001196,1.7906323\n",
      "1329503072027709205,-42.1523547,69.556978,69.5569787,69.556978,69.5569783,69.556979,69.5570437,69.5569783,-42.152354,-42.1523547,-42.1523543,-42.1523534,-42.1523675,-42.1523542,461.4654162,482.2488261,435.4816897,383.1845397,-0.0014455,187.2038063,429.1129356,437.2273444,403.6355375,353.2321761,-0.0014463,148.2796468,1.236419,1.2668098,1.2198906,1.2187862,2.3433238,1.3109651,1.3595338,1.3006613,1.3312269,1.3029984,2.3433238,0.6592388\n",
      "\n",
      "DiaObject results:\n",
      "decl,ra,gPSFluxChi2,iPSFluxChi2,rPSFluxChi2,uPSFluxChi2,yPSFluxChi2,zPSFluxChi2,gPSFluxMax,iPSFluxMax,rPSFluxMax,uPSFluxMax,yPSFluxMax,zPSFluxMax,gPSFluxMin,iPSFluxMin,rPSFluxMin,uPSFluxMin,yPSFluxMin,zPSFluxMin,gPSFluxMean,iPSFluxMean,rPSFluxMean,uPSFluxMean,yPSFluxMean,zPSFluxMean,gPSFluxNdata,iPSFluxNdata,rPSFluxNdata,uPSFluxNdata,yPSFluxNdata,zPSFluxNdata\n",
      "1329503072027709206,-42.1511266,69.5575035,69.5574987,69.5575035,69.5575033,69.5575026,69.5575025,69.5575034,-42.1511256,-42.1511266,-42.1511264,-42.1511265,-42.1511251,-42.1511265,372.2873023,531.9323122,428.9036831,262.4370532,882.0089006,803.9951925,322.7598806,481.0387995,365.5218903,235.9502341,794.8639895,717.5093349,2.1598829,1.9409479,2.2703853,1.9061983,1.8471988,1.9592959,1.9194363,1.9011721,1.9428003,1.8780927,1.8578926,1.8832815\n",
      "1329503072027709207,-42.150509,69.5574221,69.5574205,69.5574221,69.5574214,69.5574197,69.557415,69.5574214,-42.1505081,-42.150509,-42.1505086,-42.1505077,-42.1505044,-42.1505085,164.4884664,389.9938466,203.1791396,166.7004996,934.2915114,598.2094212,159.5810395,377.1110138,196.4767063,162.0646648,920.9633291,579.3023162,0.7845622,0.7666556,0.7842935,0.7837484,0.7783977,0.7793268,1.0174002,0.9831646,1.0041758,1.0351804,1.107729,1.0110915\n",
      "1329503072027709208,-42.1527179,69.5580936,69.5580945,69.5580931,69.5580936,69.558095,69.558098,69.5580936,-42.1527174,-42.152718,-42.1527179,-42.1527175,-42.1527149,-42.1527179,138.2083659,205.5613748,173.8046134,94.5936288,346.5778569,293.8764127,136.2786288,202.4921707,170.9764659,93.3431899,326.9023499,289.1465631,0.5698968,0.5659411,0.5859874,0.5784814,0.6017512,0.588427,0.8116431,0.8043585,0.8220438,0.8254102,0.2994121,0.8270254\n",
      "1329503072027709209,-42.1524391,69.5591246,69.5591246,69.5591234,69.5591239,69.5591255,69.5591303,69.559124,-42.1524391,-42.1524379,-42.1524384,-42.1524402,-42.1524451,-42.1524385,184.6342281,202.5840172,247.8721557,204.5685278,730.8830779,455.6074663,179.3337842,199.2571042,241.0022186,180.1954661,723.9685024,441.3614681,0.781256,0.2831918,0.7556445,0.7609703,0.3244337,0.7533415,1.0247911,0.2796368,0.9913278,0.4303436,0.3247751,0.9770004\n",
      "1329503072027709210,-42.1518724,69.5562442,69.5562449,69.5562442,69.5562464,69.5562595,69.5562534,69.5562483,-42.1518714,-42.1518724,-42.1518717,-42.1518708,-42.151864,-42.1518713,50.4678245,121.6840905,52.5826635,11.8443011,470.5154564,23.0847752,50.4048603,121.6998877,52.6006068,11.8637154,467.8779153,23.0993862,0.0698872,0.0183764,0.0427614,0.0419029,0.4799237,0.0125802,0.0219867,0.0308823,0.06582,0.1141353,0.7159908,0.0426977\n",
      "1329503072027700142,-42.2437172,69.5356193,69.535618,69.5356193,69.5356189,69.535615,69.5356134,69.5356189,-42.2437179,-42.2437172,-42.2437176,-42.2437192,-42.2437229,-42.2437177,138.3506882,357.1313414,195.4471401,51.3681064,543.4384162,423.5157973,134.3297191,345.3424025,189.239987,50.001755,534.5221294,410.5739351,0.7732919,0.7517385,0.7685419,0.7847405,0.7961411,0.7519712,1.0156516,0.9626987,0.9895646,1.0410818,1.1172941,0.9772155\n",
      "1329503072027709211,-42.1528006,69.557404,69.5574084,69.557404,69.5574056,69.5574106,69.5574203,69.5574053,-42.1528014,-42.1528006,-42.1528009,-42.1528016,-42.1528026,-42.1528008,39.1692796,141.3961877,76.7747733,77.9545721,772.926811,378.5702839,38.4524764,139.288282,75.3610798,77.583391,765.7776672,372.3926021,0.5875924,0.4948211,0.5663677,0.187035,0.6709054,0.5531592,0.809598,0.6963109,0.7782914,0.1870469,0.9879802,0.7714073\n",
      "1329503072027709212,-42.152757,69.4756944,69.4756944,69.475692,69.4756931,69.4756953,69.4756991,69.4756921,-42.152757,-42.1527575,-42.1527571,-42.1527562,-42.1527534,-42.1527573,205.51344,268.7792816,226.5845428,103.3152166,251.733407,351.9335888,188.952602,244.471155,210.1043254,86.9764487,241.0606407,317.5579444,1.2544786,1.2634612,1.2202698,1.2545547,1.1223173,1.3201791,1.3304191,1.3056598,1.3352694,0.8882748,1.3913475,1.3246523\n",
      "1329503072027709213,-42.1523386,69.5137988,69.5137991,69.5137988,69.5137989,69.5137992,69.5137999,69.5137989,-42.1523386,-42.1523386,-42.1523385,-42.1523386,-42.1523383,-42.1523385,2646.8570706,3123.9220876,2813.8722661,2538.2697659,6734.2576052,5199.3096741,2253.7865357,2638.1793019,2390.7200254,2177.4159353,6010.9017369,4406.2059446,2.0678367,2.0454078,2.0577331,2.101905,2.1554662,2.1207477,1.7754767,1.7190543,1.7530083,1.8347754,2.1001196,1.7906323\n",
      "1329503072027709205,-42.1523547,69.556978,69.5569787,69.556978,69.5569783,69.556979,69.5570437,69.5569783,-42.152354,-42.1523547,-42.1523543,-42.1523534,-42.1523675,-42.1523542,461.4654162,482.2488261,435.4816897,383.1845397,-0.0014455,187.2038063,429.1129356,437.2273444,403.6355375,353.2321761,-0.0014463,148.2796468,1.236419,1.2668098,1.2198906,1.2187862,2.3433238,1.3109651,1.3595338,1.3006613,1.3312269,1.3029984,2.3433238,0.6592388\n",
      "\n",
      "ForcedSource results:\n",
      "forcedSourceId,objectId,parentObjectId,coord_ra,coord_dec,skymap,tract,patch,band,ccdVisitId,detect_isPatchInner,detect_isPrimary,detect_isTractInner,localBackground_instFluxErr,localBackground_instFlux,localPhotoCalibErr,localPhotoCalib_flag,localPhotoCalib,localWcs_CDMatrix_1_1,localWcs_CDMatrix_1_2,localWcs_CDMatrix_2_1,localWcs_CDMatrix_2_2,localWcs_flag,pixelFlags_bad,pixelFlags_crCenter,pixelFlags_cr,pixelFlags_edge,pixelFlags_interpolatedCenter,pixelFlags_interpolated,pixelFlags_saturatedCenter,pixelFlags_saturated,pixelFlags_suspectCenter,pixelFlags_suspect,psfDiffFluxErr,psfDiffFlux_flag,psfDiffFlux,psfFluxErr,psfFlux_flag,psfFlux\n",
      "1329503072027709206,-42.1511266,69.5575035,69.5574987,69.5575035,69.5575033,69.5575026,69.5575025,69.5575034,-42.1511256,-42.1511266,-42.1511264,-42.1511265,-42.1511251,-42.1511265,372.2873023,531.9323122,428.9036831,262.4370532,882.0089006,803.9951925,322.7598806,481.0387995,365.5218903,235.9502341,794.8639895,717.5093349,2.1598829,1.9409479,2.2703853,1.9061983,1.8471988,1.9592959,1.9194363,1.9011721,1.9428003,1.8780927,1.8578926,1.8832815\n",
      "1329503072027709207,-42.150509,69.5574221,69.5574205,69.5574221,69.5574214,69.5574197,69.557415,69.5574214,-42.1505081,-42.150509,-42.1505086,-42.1505077,-42.1505044,-42.1505085,164.4884664,389.9938466,203.1791396,166.7004996,934.2915114,598.2094212,159.5810395,377.1110138,196.4767063,162.0646648,920.9633291,579.3023162,0.7845622,0.7666556,0.7842935,0.7837484,0.7783977,0.7793268,1.0174002,0.9831646,1.0041758,1.0351804,1.107729,1.0110915\n",
      "1329503072027709208,-42.1527179,69.5580936,69.5580945,69.5580931,69.5580936,69.558095,69.558098,69.5580936,-42.1527174,-42.152718,-42.1527179,-42.1527175,-42.1527149,-42.1527179,138.2083659,205.5613748,173.8046134,94.5936288,346.5778569,293.8764127,136.2786288,202.4921707,170.9764659,93.3431899,326.9023499,289.1465631,0.5698968,0.5659411,0.5859874,0.5784814,0.6017512,0.588427,0.8116431,0.8043585,0.8220438,0.8254102,0.2994121,0.8270254\n",
      "1329503072027709209,-42.1524391,69.5591246,69.5591246,69.5591234,69.5591239,69.5591255,69.5591303,69.559124,-42.1524391,-42.1524379,-42.1524384,-42.1524402,-42.1524451,-42.1524385,184.6342281,202.5840172,247.8721557,204.5685278,730.8830779,455.6074663,179.3337842,199.2571042,241.0022186,180.1954661,723.9685024,441.3614681,0.781256,0.2831918,0.7556445,0.7609703,0.3244337,0.7533415,1.0247911,0.2796368,0.9913278,0.4303436,0.3247751,0.9770004\n",
      "1329503072027709210,-42.1518724,69.5562442,69.5562449,69.5562442,69.5562464,69.5562595,69.5562534,69.5562483,-42.1518714,-42.1518724,-42.1518717,-42.1518708,-42.151864,-42.1518713,50.4678245,121.6840905,52.5826635,11.8443011,470.5154564,23.0847752,50.4048603,121.6998877,52.6006068,11.8637154,467.8779153,23.0993862,0.0698872,0.0183764,0.0427614,0.0419029,0.4799237,0.0125802,0.0219867,0.0308823,0.06582,0.1141353,0.7159908,0.0426977\n",
      "1329503072027700142,-42.2437172,69.5356193,69.535618,69.5356193,69.5356189,69.535615,69.5356134,69.5356189,-42.2437179,-42.2437172,-42.2437176,-42.2437192,-42.2437229,-42.2437177,138.3506882,357.1313414,195.4471401,51.3681064,543.4384162,423.5157973,134.3297191,345.3424025,189.239987,50.001755,534.5221294,410.5739351,0.7732919,0.7517385,0.7685419,0.7847405,0.7961411,0.7519712,1.0156516,0.9626987,0.9895646,1.0410818,1.1172941,0.9772155\n",
      "1329503072027709211,-42.1528006,69.557404,69.5574084,69.557404,69.5574056,69.5574106,69.5574203,69.5574053,-42.1528014,-42.1528006,-42.1528009,-42.1528016,-42.1528026,-42.1528008,39.1692796,141.3961877,76.7747733,77.9545721,772.926811,378.5702839,38.4524764,139.288282,75.3610798,77.583391,765.7776672,372.3926021,0.5875924,0.4948211,0.5663677,0.187035,0.6709054,0.5531592,0.809598,0.6963109,0.7782914,0.1870469,0.9879802,0.7714073\n",
      "1329503072027709212,-42.152757,69.4756944,69.4756944,69.475692,69.4756931,69.4756953,69.4756991,69.4756921,-42.152757,-42.1527575,-42.1527571,-42.1527562,-42.1527534,-42.1527573,205.51344,268.7792816,226.5845428,103.3152166,251.733407,351.9335888,188.952602,244.471155,210.1043254,86.9764487,241.0606407,317.5579444,1.2544786,1.2634612,1.2202698,1.2545547,1.1223173,1.3201791,1.3304191,1.3056598,1.3352694,0.8882748,1.3913475,1.3246523\n",
      "1329503072027709213,-42.1523386,69.5137988,69.5137991,69.5137988,69.5137989,69.5137992,69.5137999,69.5137989,-42.1523386,-42.1523386,-42.1523385,-42.1523386,-42.1523383,-42.1523385,2646.8570706,3123.9220876,2813.8722661,2538.2697659,6734.2576052,5199.3096741,2253.7865357,2638.1793019,2390.7200254,2177.4159353,6010.9017369,4406.2059446,2.0678367,2.0454078,2.0577331,2.101905,2.1554662,2.1207477,1.7754767,1.7190543,1.7530083,1.8347754,2.1001196,1.7906323\n",
      "1329503072027709205,-42.1523547,69.556978,69.5569787,69.556978,69.5569783,69.556979,69.5570437,69.5569783,-42.152354,-42.1523547,-42.1523543,-42.1523534,-42.1523675,-42.1523542,461.4654162,482.2488261,435.4816897,383.1845397,-0.0014455,187.2038063,429.1129356,437.2273444,403.6355375,353.2321761,-0.0014463,148.2796468,1.236419,1.2668098,1.2198906,1.2187862,2.3433238,1.3109651,1.3595338,1.3006613,1.3312269,1.3029984,2.3433238,0.6592388\n",
      "\n"
     ]
    }
   ],
   "source": [
    "# Load up the TAP query service\n",
    "from lsst.rsp import get_tap_service, retrieve_query\n",
    "service = get_tap_service()\n",
    "\n",
    "def create_csv_from_tabular_data(tab_data):\n",
    "    tap_as_csv = ''\n",
    "    for i, col in enumerate(tab_data.fieldnames):\n",
    "        if i > 0:\n",
    "            tap_as_csv += ','\n",
    "        tap_as_csv += col\n",
    "\n",
    "    tap_as_csv += \"\\n\"\n",
    "\n",
    "    for result in object_results:\n",
    "        for i, col in enumerate(result.values()):\n",
    "            if i > 0:\n",
    "                tap_as_csv += ','\n",
    "            tap_as_csv += str(col)\n",
    "        tap_as_csv += \"\\n\"\n",
    "    return tap_as_csv\n",
    "\n",
    "\n",
    "### Object table query\n",
    "object_results = service.search(\"SELECT objectId, coord_dec, Coord_ra, g_ra, i_ra, r_ra, u_ra, y_ra, z_ra, g_decl, i_decl, r_decl, u_decl, y_decl, z_decl, g_bdFluxB, i_bdFluxB, r_bdFluxB, u_bdFluxB, y_bdFluxB, z_bdFluxB, g_bdFluxD, i_bdFluxD, r_bdFluxD, u_bdFluxD, y_bdFluxD, z_bdFluxD, g_bdReB, i_bdReB, r_bdReB, u_bdReB, y_bdReB, z_bdReB, g_bdReD, i_bdReD, r_bdReD, u_bdReD, y_bdReD, z_bdReD \"\\\n",
    "                         \"FROM dp02_dc2_catalogs.Object\", maxrec=10)\n",
    "# object_results_tab = object_results.to_table()\n",
    "# object_results_tab\n",
    "object_results_csv = create_csv_from_tabular_data(object_results)\n",
    "\n",
    "### DiaObject table query\n",
    "dia_object_results = service.search(\"SELECT decl, ra, gPSFluxChi2, iPSFluxChi2, rPSFluxChi2, uPSFluxChi2, yPSFluxChi2, zPSFluxChi2, gPSFluxMax, iPSFluxMax, rPSFluxMax, uPSFluxMax, yPSFluxMax, zPSFluxMax, gPSFluxMin, iPSFluxMin, rPSFluxMin, uPSFluxMin, yPSFluxMin, zPSFluxMin, gPSFluxMean, iPSFluxMean, rPSFluxMean, uPSFluxMean, yPSFluxMean, zPSFluxMean, gPSFluxNdata, iPSFluxNdata, rPSFluxNdata, uPSFluxNdata, yPSFluxNdata, zPSFluxNdata \"\\\n",
    "                         \"FROM dp02_dc2_catalogs.DiaObject\", maxrec=10)\n",
    "# dia_object_results_tab = dia_object_results.to_table()\n",
    "# dia_object_results_tab\n",
    "dia_object_results_csv = create_csv_from_tabular_data(dia_object_results)\n",
    "\n",
    "### ForcedSource table query\n",
    "forced_source_results = service.search(\"SELECT forcedSourceId, objectId, parentObjectId, coord_ra, coord_dec, skymap, tract, patch, band, ccdVisitId, detect_isPatchInner, detect_isPrimary, detect_isTractInner,localBackground_instFluxErr, localBackground_instFlux, localPhotoCalibErr, localPhotoCalib_flag, localPhotoCalib, localWcs_CDMatrix_1_1, localWcs_CDMatrix_1_2, localWcs_CDMatrix_2_1, localWcs_CDMatrix_2_2, localWcs_flag, pixelFlags_bad, pixelFlags_crCenter, pixelFlags_cr, pixelFlags_edge, pixelFlags_interpolatedCenter, pixelFlags_interpolated, pixelFlags_saturatedCenter, pixelFlags_saturated, pixelFlags_suspectCenter, pixelFlags_suspect, psfDiffFluxErr, psfDiffFlux_flag, psfDiffFlux, psfFluxErr, psfFlux_flag, psfFlux \"\\\n",
    "                         \"FROM dp02_dc2_catalogs.ForcedSource\", maxrec=10)\n",
    "# forced_source_results_tab = forced_source_results.to_table()\n",
    "# forced_source_results_tab\n",
    "forced_source_results_csv = create_csv_from_tabular_data(forced_source_results)\n",
    "\n",
    "print(\"Object results:\")\n",
    "print(object_results_csv)\n",
    "\n",
    "print(\"DiaObject results:\")\n",
    "print(dia_object_results_csv)\n",
    "\n",
    "print(\"ForcedSource results:\");\n",
    "print(forced_source_results_csv)"
   ]
  },
  {
   "cell_type": "markdown",
   "id": "5082536e-5cc6-4261-8bce-721e5bc0afe9",
   "metadata": {},
   "source": [
    "## Create a new subject set\n",
    "Run this before running the \"Send Data\" cell."
   ]
  },
  {
   "cell_type": "code",
   "execution_count": null,
   "id": "9cb27552-1f98-4930-a72f-1a09f1118834",
   "metadata": {},
   "outputs": [],
   "source": [
    "subject_set_name = \"app engine test - multithreading 22\" # give your subject set a name\n",
    "subject_set_name"
   ]
  },
  {
   "cell_type": "markdown",
   "id": "54fc771b-ac2b-4304-ad5b-3819c78e0cfb",
   "metadata": {},
   "source": [
    "## Send the cutouts to Zooniverse\n",
    "Don't click the below cell multiple times, the upload will fail if multiple runs are attempted."
   ]
  },
  {
   "cell_type": "code",
   "execution_count": null,
   "id": "af2d4d05-5925-4891-988e-1bf027ca1000",
   "metadata": {},
   "outputs": [],
   "source": [
    "pp = pprint.PrettyPrinter(indent=2)\n",
    "h = display(display_id='my-display')\n",
    "h.display(None)\n",
    "\n",
    "__cit_sci_data_type = _HIPS_CUTOUTS # Important: DO NOT change this value\n",
    "send_data(subject_set_name, cutouts)"
   ]
  },
  {
   "cell_type": "markdown",
   "id": "5ab46347-49f3-441a-b5e7-0deb863c4c7e",
   "metadata": {},
   "source": [
    "## Show additional messages\n",
    "After running the above cell and receiving the message that the transfer has completed, run the below cell to show additional messages that were accrued during processing."
   ]
  },
  {
   "cell_type": "code",
   "execution_count": null,
   "id": "88d98c07-8981-4946-8ce0-71a32ae54a64",
   "metadata": {},
   "outputs": [],
   "source": [
    "print(edc_response[\"messages\"])"
   ]
  },
  {
   "cell_type": "markdown",
   "id": "bbe3f232-6b1b-4e3f-80b6-b3775cce8bb2",
   "metadata": {},
   "source": [
    "## Explicitly check the status of your data batch\n",
    "Is the send_data() call above stalling on \"Notifying the Rubin EPO Data Center...\" step? Run the below cell every few minutes to check the status of your data. Large datasets can cause the response to get lost, but that does not necessarily mean that your data was not sent to Zooniverse."
   ]
  },
  {
   "cell_type": "code",
   "execution_count": null,
   "id": "085e54d1-4872-4467-988c-8f2ac87f9850",
   "metadata": {},
   "outputs": [],
   "source": [
    "res = check_status()\n",
    "print(res[\"status\"])\n",
    "print(res[\"manifest_url\"])\n",
    "print(res[\"messages\"])\n",
    "if res[\"status\"] == \"success\":\n",
    "    global manifest_url\n",
    "    manifest_url = res[\"manifest_url\"]\n",
    "    send_zooniverse_manifest()"
   ]
  },
  {
   "cell_type": "markdown",
   "id": "8bcfd009-fea5-4a09-b83f-f65431819b29",
   "metadata": {},
   "source": [
    "## IMPORTANT! Run the below cell to activate the Rubin Citizen Science SDK"
   ]
  },
  {
   "cell_type": "code",
   "execution_count": null,
   "id": "330f0ec7-df55-4df4-a590-732871fd5074",
   "metadata": {},
   "outputs": [],
   "source": [
    "# HiPS astrocutout libraries\n",
    "from astroquery.hips2fits import hips2fits\n",
    "from IPython.display import display\n",
    "import matplotlib.pyplot as plt\n",
    "from matplotlib.colors import Colormap\n",
    "import astropy.units as u\n",
    "from astropy.coordinates import Longitude, Latitude, Angle\n",
    "\n",
    "# Zooniverse libraries\n",
    "# from panoptes_client import Panoptes, Project, SubjectSet\n",
    "\n",
    "# GCP libraries\n",
    "from google.cloud import storage\n",
    "\n",
    "# Import organizational libraries\n",
    "import time\n",
    "import uuid\n",
    "import os\n",
    "import shutil\n",
    "import pprint\n",
    "import pdb\n",
    "import json\n",
    "import urllib.request\n",
    "import subprocess\n",
    "\n",
    "# Prep work\n",
    "global email\n",
    "hips = 'https://storage.googleapis.com/hips-data/images'\n",
    "pp = pprint.PrettyPrinter(indent=2)\n",
    "working_message = \"Status updating...\"\n",
    "vendor_batch_id = 0\n",
    "_HIPS_CUTOUTS = \"hips_cutouts\"\n",
    "project_id = project.id\n",
    "guid = \"\"\n",
    "cutouts_dir = \"\"\n",
    "progress_message = \"\"\n",
    "manifest_url = \"\"\n",
    "edc_response = \"\"\n",
    "timestamp = None\n",
    "before_zip = 0\n",
    "after_zip = 0\n",
    "\n",
    "def clean_up_unused_subject_set():\n",
    "    global client\n",
    "    global vendor_batch_id\n",
    "    h.update(\"Cleaning up unused subject set on the Zooniverse platform, vendor_batch_id : \" + str(vendor_batch_id))\n",
    "    \n",
    "    ss, etag = client.get(path=\"/subject_sets/\" + str(vendor_batch_id))\n",
    "    \n",
    "    json_response = client.delete(path='/subject_sets/' + str(vendor_batch_id), headers={\"If-Match\":etag})\n",
    "    \n",
    "    return\n",
    "\n",
    "def send_zooniverse_manifest():\n",
    "    # import json\n",
    "    global vendor_batch_id\n",
    "    global manifest_url\n",
    "    global client\n",
    "    # subject_set.id\n",
    "    # h.update(\"Sending project manifest to Zoonverse...\")\n",
    "    h.update(\"subject_set.id: \" + str(vendor_batch_id) + \"; manifest: \" + manifest_url);\n",
    "\n",
    "    payload = {\"subject_set_imports\": {\"source_url\": manifest_url, \"links\": {\"subject_set\": str(vendor_batch_id)}}}\n",
    "\n",
    "    json_response, etag = client.post(path='/subject_set_imports', json=payload)\n",
    "    return\n",
    "\n",
    "def create_new_subject_set(name):\n",
    "    h.update(\"Creating a new Zooniverse subject set\")\n",
    "    # Create a new subject set\n",
    "    global project\n",
    "    global panoptes_client\n",
    "    global vendor_batch_id\n",
    "    h.update(project.id)\n",
    "    subject_set = panoptes_client.SubjectSet()\n",
    "    subject_set.links.project = project\n",
    "\n",
    "    # Give the subject set a display name (that will only be visible to you on the Zooniverse platform)\n",
    "    subject_set.display_name = name \n",
    "\n",
    "    subject_set.save()\n",
    "    project.reload()\n",
    "    vendor_batch_id = subject_set.id\n",
    "    return vendor_batch_id\n",
    "\n",
    "def check_status():\n",
    "    # global guid\n",
    "    guid = \"01b080e8-75b2-437d-ab7e-f8ec3be038a9\"\n",
    "    status_uri = \"https://rsp-data-exporter-e3g4rcii3q-uc.a.run.app/citizen-science-ingest-status?guid=\" + guid\n",
    "    raw_response = urllib.request.urlopen(status_uri).read()\n",
    "    response = raw_response.decode('UTF-8')\n",
    "    return json.loads(response)\n",
    "\n",
    "\n",
    "# Validates that the RSP user is allowed to create a new subject set\n",
    "def send_data(subject_set_name, cutouts = None):\n",
    "    h.update(\"Checking batch status\")\n",
    "    global manifest_url, edc_response\n",
    "    if has_active_batch() == True:\n",
    "        h.update(\"Active batch exists!!! Continuing because this notebook is in debug mode\")\n",
    "        # raise CitizenScienceError(\"You cannot send another batch of data while a subject set is still active on the Zooniverse platform - you can only send a new batch of data if all subject sets associated to a project have been completed.\")\n",
    "    if __cit_sci_data_type == _HIPS_CUTOUTS:\n",
    "        zip_path = zip_hips_cutouts()\n",
    "        upload_hips_cutouts(zip_path)\n",
    "        subject_set_id = create_new_subject_set(subject_set_name)\n",
    "        # if timestamp != None and ((round(time.time() * 1000)) - timestamp) > 300000:\n",
    "        #     h.update(\"You must wait five minutes between sending batches of data, please try again in a few minutes.\")\n",
    "        #     clean_up_unused_subject_set()\n",
    "        #     return # It has been less than 5 minutes since the user sent their last batch\n",
    "        # else:\n",
    "        #     timestamp = round(time.time() * 1000)\n",
    "        \n",
    "        edc_response = json.loads(alert_edc_of_new_citsci_data(subject_set_id))\n",
    "\n",
    "    else:\n",
    "        send_butler_data_to_edc()\n",
    "        subject_set_id = create_new_subject_set(subject_set_name)\n",
    "        manifest_url = send_butler_data_to_edc()\n",
    "    \n",
    "    if edc_response[\"status\"] == \"success\":\n",
    "        manifest_url = edc_response[\"manifest_url\"]\n",
    "        if len(edc_response[\"messages\"]) > 0:\n",
    "            h.update(edc_response[\"messages\"])\n",
    "        else:\n",
    "            h.update(manifest_url)\n",
    "    else:\n",
    "        clean_up_unused_subject_set()\n",
    "        # raise CitizenScienceError(edc_response[\"messages\"])\n",
    "        h.update(edc_response)\n",
    "        return\n",
    "\n",
    "    send_zooniverse_manifest()\n",
    "    h.update(\"Transfer process complete, but further processing is required on the Zooniverse platform and you will receive an email at \" + email)\n",
    "    return\n",
    "\n",
    "def zip_hips_cutouts():\n",
    "    global before_zip, after_zip\n",
    "    before_zip = round(time.time() * 1000)\n",
    "    \n",
    "    global guid\n",
    "    guid = str(uuid.uuid4())\n",
    "    cutouts_dir = \"./project/citizen-science/astro-cutouts/\"\n",
    "    data_dir = cutouts_dir + guid\n",
    "    os.mkdir(data_dir);\n",
    "    \n",
    "    h.update(\"Duplicating astro cutouts for testing purposes.\")\n",
    "    # beginning of temporary testing code\n",
    "    for x in range(10005): # create 100 cutouts from the one cutout image\n",
    "        plt.imsave(data_dir + \"/cutout-\" + str(round(time.time() * 1000)) + \"-\" + str(x) + \".png\", result)\n",
    "    # end of temporary testing code    \n",
    "    \n",
    "    #subprocess.check_output(\"zip_tool\"\n",
    "    h.update(\"Zipping up all the astro cutouts - this can take a few minutes with large data sets, but unlikely more than 10 minutes.\")\n",
    "    shutil.make_archive(cutouts_dir + guid, 'zip', data_dir)\n",
    "    \n",
    "    after_zip = round(time.time() * 1000)\n",
    "    return [cutouts_dir + guid + '.zip', guid + '.zip']\n",
    "\n",
    "def upload_hips_cutouts(zip_path):\n",
    "    global before_zip, after_zip\n",
    "    h.update(\"Uploading the citizen science data, zipping up took : \")\n",
    "    bucket_name = \"citizen-science-data\"\n",
    "    # service_account_key = \"skyviewer-398f28c943e8.json\" # replace this with the GCP key provided to you\n",
    "    destination_blob_name = zip_path[1]\n",
    "    source_file_name = zip_path[0]\n",
    "\n",
    "    storage_client = storage.Client()\n",
    "    bucket = storage_client.bucket(bucket_name)\n",
    "    blob = bucket.blob(destination_blob_name)\n",
    "\n",
    "    blob.upload_from_filename(source_file_name)\n",
    "    return\n",
    "\n",
    "def alert_edc_of_new_citsci_data(vendor_batch_id):\n",
    "    project_id_str = str(project_id)\n",
    "    h.update(\"Notifying the Rubin EPO Data Center of the new data, which will finish processing of the data and notify Zooniverse\")\n",
    "    # h.update(\"Vendor batch ID : \" + str(vendor_batch_id))\n",
    "    global guid\n",
    "    \n",
    "    try:\n",
    "        edc_endpoint = \"https://rsp-data-exporter-dot-skyviewer.uw.r.appspot.com/citizen-science-bucket-ingest?email=\" + email + \"&vendor_project_id=\" + project_id_str + \"&guid=\" + guid + \"&vendor_batch_id=\" + str(vendor_batch_id) + \"&debug=True\"\n",
    "        #edc_endpoint = \"https://rsp-data-exporter-e3g4rcii3q-uc.a.run.app/citizen-science-bucket-ingest?email=\" + email + \"&vendor_project_id=\" + project_id_str + \"&guid=\" + guid + \"&vendor_batch_id=\" + str(vendor_batch_id) + \"&debug=True\"\n",
    "        response = urllib.request.urlopen(edc_endpoint).read()\n",
    "        manifestUrl = response.decode('UTF-8')\n",
    "        return manifestUrl\n",
    "    except Exception as e:\n",
    "        clean_up_unused_subject_set()\n",
    "        h.update(e)\n",
    "        return\n",
    "\n",
    "\n",
    "def send_butler_data_to_edc():\n",
    "    h.update(\"Notifying the Rubin EPO Data Center of the new data, which will finish processing of the data and notify Zooniverse\")\n",
    "    edcEndpoint = \"https://rsp-data-exporter-e3g4rcii3q-uc.a.run.app/citizen-science-butler-ingest?email=\" + email + \"&collection=\" + datasetId + \"&sourceId=\" + sourceId + \"&vendorProjectId=\" + str(projectId) + \"&vendor_batch_id=\" + str(vendor_batch_id)\n",
    "    print('Processing data for Zooniverse, this may take up to a few minutes.')\n",
    "    response = urllib.request.urlopen(edcEndpoint).read()\n",
    "    manifestUrl = response.decode('UTF-8')\n",
    "    return\n",
    "\n",
    "def has_active_batch():\n",
    "    active_batch = False\n",
    "    for subject_set in project.links.subject_sets:\n",
    "        for completeness_percent in list(subject_set.completeness.values()):\n",
    "            if completeness_percent == 1.0:\n",
    "                active_batch = True\n",
    "                break\n",
    "        if active_batch:\n",
    "            break\n",
    "    return active_batch\n",
    "\n",
    "# Custom error handling for this notebook\n",
    "class CitizenScienceError(Exception):\n",
    "   \n",
    "    # Constructor or Initializer\n",
    "    def __init__(self, value):\n",
    "        self.value = value\n",
    "   \n",
    "    # __str__ is to print() the value\n",
    "    def __str__(self):\n",
    "        return(repr(self.value))\n",
    "    \n",
    "print(\"Loaded Citizen Science SDK\")\n",
    "                            "
   ]
  },
  {
   "cell_type": "code",
   "execution_count": null,
   "id": "a861ca86-03dd-4e49-9063-ecd365745bfa",
   "metadata": {},
   "outputs": [],
   "source": [
    "print(guid)"
   ]
  },
  {
   "cell_type": "code",
   "execution_count": null,
   "id": "e679df45-1991-459f-9d73-8adecc1aeafd",
   "metadata": {},
   "outputs": [],
   "source": []
  },
  {
   "cell_type": "code",
   "execution_count": null,
   "id": "ec6ca7a4-71d7-42a7-b95d-32f832336aba",
   "metadata": {},
   "outputs": [],
   "source": []
  }
 ],
 "metadata": {
  "kernelspec": {
   "display_name": "LSST",
   "language": "python",
   "name": "lsst"
  },
  "language_info": {
   "codemirror_mode": {
    "name": "ipython",
    "version": 3
   },
   "file_extension": ".py",
   "mimetype": "text/x-python",
   "name": "python",
   "nbconvert_exporter": "python",
   "pygments_lexer": "ipython3",
   "version": "3.10.4"
  }
 },
 "nbformat": 4,
 "nbformat_minor": 5
}
