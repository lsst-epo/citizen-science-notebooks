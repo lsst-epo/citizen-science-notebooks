{
 "cells": [
  {
   "cell_type": "markdown",
   "id": "1fcd9896-ccf0-4e47-a484-755a2bf06a37",
   "metadata": {},
   "source": [
    "Here's the forum that talks about how to get MJD info from the Rubin source catalog:\n",
    "https://community.lsst.org/t/how-should-one-efficiently-get-the-mjd-for-a-source-catalog/3733/4"
   ]
  },
  {
   "cell_type": "code",
   "execution_count": 31,
   "id": "c416be38-bf9d-463e-be46-8d8e4a8ea7ec",
   "metadata": {},
   "outputs": [],
   "source": [
    "# Generic python packages\n",
    "import pylab as plt\n",
    "import gc\n",
    "\n",
    "# LSST Science Pipelines (Stack) packages\n",
    "import lsst.daf.butler as dafButler\n",
    "import lsst.afw.display as afwDisplay\n",
    "import lsst\n",
    "from datetime import datetime\n",
    "\n",
    "# Set a standard figure size to use\n",
    "plt.rcParams['figure.figsize'] = (8.0, 8.0)\n",
    "afwDisplay.setDefaultBackend('matplotlib')"
   ]
  },
  {
   "cell_type": "code",
   "execution_count": 32,
   "id": "3866a6b7-6699-4108-9cb2-128ce1434001",
   "metadata": {},
   "outputs": [],
   "source": [
    "config = 'dp02'\n",
    "collections = '2.2i/runs/DP0.2'\n",
    "butler = dafButler.Butler(config, collections=collections)"
   ]
  },
  {
   "cell_type": "code",
   "execution_count": 33,
   "id": "f65ff033-1580-4443-8508-f7ae30c8c843",
   "metadata": {},
   "outputs": [],
   "source": [
    "datasetType = 'calexp'\n",
    "dataId = {'visit': 192350, 'detector': 175}\n",
    "calexp = butler.get(datasetType, dataId=dataId)"
   ]
  },
  {
   "cell_type": "code",
   "execution_count": 42,
   "id": "49310d17-aad4-42fc-9b4a-6bb4f811d608",
   "metadata": {},
   "outputs": [
    {
     "name": "stdout",
     "output_type": "stream",
     "text": [
      "59837.38009422338\n"
     ]
    }
   ],
   "source": [
    "# This is the time of the observation in MJD:\n",
    "t1 = calexp.getInfo().getVisitInfo().getDate().get(lsst.daf.base.DateTime.MJD)\n",
    "print(t1)\n",
    "# You can also get UTC:\n",
    "#print(calexp.getInfo().getVisitInfo().getDate().get(lsst.daf.base.DateTime.MJD,lsst.daf.base.DateTime.UTC))\n"
   ]
  },
  {
   "cell_type": "markdown",
   "id": "60f67603-be6f-4f33-bf77-e3faaaf5afce",
   "metadata": {},
   "source": [
    "### Below, finding the difference between 'now' and the observation:\n",
    "To do: Is there a way to improve this (take away the 2*365 option)?"
   ]
  },
  {
   "cell_type": "code",
   "execution_count": 55,
   "id": "61df8f81-5721-46cc-87d9-629fb95d0181",
   "metadata": {},
   "outputs": [
    {
     "name": "stdout",
     "output_type": "stream",
     "text": [
      "Obs is younger than 2 years 54.3 days old\n"
     ]
    }
   ],
   "source": [
    "# Now get the time of right now and see their difference:\n",
    "\n",
    "nt = Time.now()\n",
    "#ut = Time(datetime.utcnow())\n",
    "\n",
    "\n",
    "\n",
    "if nt.mjd - t1 > 2*365:\n",
    "    print(f'Obs is older than 2 years {round(nt.mjd - t1,1)} days old')\n",
    "else:\n",
    "    print(f'Obs is younger than 2 years {round(nt.mjd - t1,1)} days old')"
   ]
  },
  {
   "cell_type": "markdown",
   "id": "44a1d1c8-bc0c-4588-a106-d8bb5725a52e",
   "metadata": {},
   "source": [
    "### Is there a way to modify the below query to include a time restriction?\n"
   ]
  },
  {
   "cell_type": "code",
   "execution_count": 60,
   "id": "b0f2b47c-8391-4ee6-bb84-dd57d26b157b",
   "metadata": {},
   "outputs": [],
   "source": [
    "# Import the Rubin TAP service utilities\n",
    "from lsst.rsp import get_tap_service, retrieve_query\n",
    "\n",
    "import lsst.daf.butler as dafButler\n",
    "import lsst.geom\n",
    "import lsst.afw.display as afwDisplay\n",
    "\n",
    "plt.style.use('tableau-colorblind10')\n",
    "%matplotlib inline\n",
    "\n",
    "import warnings\n",
    "from astropy.units import UnitsWarning\n",
    "import pandas\n",
    "\n",
    "#initializing Tap and Butler\n",
    "pandas.set_option('display.max_rows', 20)\n",
    "warnings.simplefilter(\"ignore\", category=UnitsWarning)\n",
    "service = get_tap_service()\n",
    "assert service is not None\n",
    "assert service.baseurl == \"https://data.lsst.cloud/api/tap\""
   ]
  },
  {
   "cell_type": "code",
   "execution_count": 65,
   "id": "52708223-1ecc-422f-b85d-65e03a0f0113",
   "metadata": {},
   "outputs": [],
   "source": [
    "max_rec=10 # make 100 for full subject set test\n",
    "use_center_coords = \"62, -37\"\n",
    "use_radius = \"1.0\""
   ]
  },
  {
   "cell_type": "code",
   "execution_count": null,
   "id": "8c01665e-032b-461b-8b28-b41cdcf20d65",
   "metadata": {},
   "outputs": [],
   "source": [
    "query = \"SELECT TOP \" + str(max_rec) + \" \" + \\\n",
    "        \"objectId, coord_ra, coord_dec, detect_isPrimary \" + \\\n",
    "        \"g_cModelFlux, r_cModelFlux, r_extendedness, r_inputCount \" + \\\n",
    "        \"FROM dp02_dc2_catalogs.Object \" + \\\n",
    "        \"WHERE CONTAINS(POINT('ICRS', coord_ra, coord_dec), \" + \\\n",
    "        \"CIRCLE('ICRS', \" + use_center_coords + \", \" + use_radius + \")) = 1 \" + \\\n",
    "        \"AND detect_isPrimary = 1 \" + \\\n",
    "        \"AND r_extendedness = 1 \" + \\\n",
    "        \"AND scisql_nanojanskyToAbMag(r_cModelFlux) < 18.0 \" + \\\n",
    "        \"ORDER by r_cModelFlux DESC\"\n",
    "results = service.search(query)\n",
    "\n",
    "assert len(results) == max_rec"
   ]
  },
  {
   "cell_type": "code",
   "execution_count": null,
   "id": "eff8bd85-8897-4cdd-be43-cda5a4193720",
   "metadata": {},
   "outputs": [],
   "source": [
    "ON fs.ccdVisitId = ccd.ccdVisitId \" +"
   ]
  }
 ],
 "metadata": {
  "kernelspec": {
   "display_name": "LSST",
   "language": "python",
   "name": "lsst"
  },
  "language_info": {
   "codemirror_mode": {
    "name": "ipython",
    "version": 3
   },
   "file_extension": ".py",
   "mimetype": "text/x-python",
   "name": "python",
   "nbconvert_exporter": "python",
   "pygments_lexer": "ipython3",
   "version": "3.10.5"
  }
 },
 "nbformat": 4,
 "nbformat_minor": 5
}
