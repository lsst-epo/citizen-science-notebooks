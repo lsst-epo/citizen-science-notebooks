{
 "cells": [
  {
   "cell_type": "markdown",
   "id": "fc772c33-7718-4e3d-838c-c7a0cebf34f0",
   "metadata": {},
   "source": [
    "### Time travel\n",
    "The goal of this notebook is to add the ability to select data based on how long it has existed.\n",
    "\n",
    "We'd ideally like to do this in two ways - either by selecting the data release version or by selecting the amount of time between the exposure and now. This is useful if you want to only send data to Zooniverse that is not proprietary (greater than 2 years old)."
   ]
  },
  {
   "cell_type": "markdown",
   "id": "1fcd9896-ccf0-4e47-a484-755a2bf06a37",
   "metadata": {},
   "source": [
    "Here's the forum that talks about how to get MJD info from the Rubin source catalog:\n",
    "https://community.lsst.org/t/how-should-one-efficiently-get-the-mjd-for-a-source-catalog/3733/4"
   ]
  },
  {
   "cell_type": "code",
   "execution_count": 10,
   "id": "c416be38-bf9d-463e-be46-8d8e4a8ea7ec",
   "metadata": {},
   "outputs": [],
   "source": [
    "# Generic python packages\n",
    "import pylab as plt\n",
    "import gc\n",
    "\n",
    "# LSST Science Pipelines (Stack) packages\n",
    "import lsst.daf.butler as dafButler\n",
    "import lsst.afw.display as afwDisplay\n",
    "import lsst\n",
    "from datetime import datetime\n",
    "from astropy.time import Time\n",
    "\n",
    "# Set a standard figure size to use\n",
    "plt.rcParams['figure.figsize'] = (8.0, 8.0)\n",
    "afwDisplay.setDefaultBackend('matplotlib')"
   ]
  },
  {
   "cell_type": "code",
   "execution_count": 2,
   "id": "3866a6b7-6699-4108-9cb2-128ce1434001",
   "metadata": {},
   "outputs": [
    {
     "data": {
      "text/html": [
       "<pre style=\"margin: 0.1em;\n",
       "padding-left: 0.25em;\n",
       "border-left-style: solid;\n",
       "font-family: var(--jp-code-font-family);\n",
       "font-size: var(--jp-code-font-size);\n",
       "line-height: var(--jp-code-line-height);\n",
       "\"><span style=\"color: var(--jp-warn-color2)\">botocore.credentials</span> <span style=\"color: var(--jp-info-color0)\">INFO</span>: Found credentials in shared credentials file: /home/beckynevin/.lsst/aws-credentials.ini</pre>"
      ],
      "text/plain": [
       "<IPython.core.display.HTML object>"
      ]
     },
     "metadata": {},
     "output_type": "display_data"
    }
   ],
   "source": [
    "config = 'dp02'\n",
    "collections = '2.2i/runs/DP0.2'\n",
    "butler = dafButler.Butler(config, collections=collections)"
   ]
  },
  {
   "cell_type": "code",
   "execution_count": 3,
   "id": "f65ff033-1580-4443-8508-f7ae30c8c843",
   "metadata": {},
   "outputs": [],
   "source": [
    "datasetType = 'calexp'\n",
    "dataId = {'visit': 192350, 'detector': 175}\n",
    "calexp = butler.get(datasetType, dataId=dataId)"
   ]
  },
  {
   "cell_type": "code",
   "execution_count": 13,
   "id": "49310d17-aad4-42fc-9b4a-6bb4f811d608",
   "metadata": {},
   "outputs": [
    {
     "name": "stdout",
     "output_type": "stream",
     "text": [
      "59837.38009422338\n",
      "59837.37966598263\n"
     ]
    }
   ],
   "source": [
    "# This is the time of the observation in MJD:\n",
    "t1 = calexp.getInfo().getVisitInfo().getDate().get(lsst.daf.base.DateTime.MJD)\n",
    "print(t1)\n",
    "# You can also get UTC:\n",
    "#print(calexp.getInfo().getVisitInfo().getDate().get(lsst.daf.base.DateTime.MJD,lsst.daf.base.DateTime.UTC))\n"
   ]
  },
  {
   "cell_type": "markdown",
   "id": "60f67603-be6f-4f33-bf77-e3faaaf5afce",
   "metadata": {},
   "source": [
    "### Below, finding the difference between 'now' and the observation:\n",
    "To do: Is there a way to improve this (take away the 2*365 option)?"
   ]
  },
  {
   "cell_type": "raw",
   "id": "2c29a68a-f4f1-46d3-92bf-88e6d9f97e38",
   "metadata": {},
   "source": [
    "# This is another way to do it but gives you the date\n",
    "from datetime import datetime\n",
    "\n",
    "# datetime object containing current date and time\n",
    "now = datetime.now()\n",
    "\n",
    " \n",
    "print(\"now =\", now)\n",
    "print(now.mjd)"
   ]
  },
  {
   "cell_type": "code",
   "execution_count": null,
   "id": "08823d41-ad26-4217-b28c-fad1b689fd83",
   "metadata": {},
   "outputs": [],
   "source": []
  },
  {
   "cell_type": "code",
   "execution_count": 9,
   "id": "61df8f81-5721-46cc-87d9-629fb95d0181",
   "metadata": {},
   "outputs": [
    {
     "name": "stdout",
     "output_type": "stream",
     "text": [
      "Obs is younger than 2 years 61.5 days old\n"
     ]
    }
   ],
   "source": [
    "# Now get the time of right now and see their difference:\n",
    "\n",
    "nt = Time.now()\n",
    "#ut = Time(datetime.utcnow())\n",
    "\n",
    "\n",
    "\n",
    "if nt.mjd - t1 > 2*365:\n",
    "    print(f'Obs is older than 2 years {round(nt.mjd - t1,1)} days old')\n",
    "else:\n",
    "    print(f'Obs is younger than 2 years {round(nt.mjd - t1,1)} days old')"
   ]
  },
  {
   "cell_type": "code",
   "execution_count": 47,
   "id": "baf48410-6115-4a9a-98a5-f7f026b978c4",
   "metadata": {},
   "outputs": [
    {
     "name": "stdout",
     "output_type": "stream",
     "text": [
      "59168.91007075441\n"
     ]
    }
   ],
   "source": [
    "print(nt.mjd - 2*365)"
   ]
  },
  {
   "cell_type": "markdown",
   "id": "44a1d1c8-bc0c-4588-a106-d8bb5725a52e",
   "metadata": {},
   "source": [
    "### Is there a way to modify the below query to include a time restriction?\n"
   ]
  },
  {
   "cell_type": "code",
   "execution_count": 14,
   "id": "b0f2b47c-8391-4ee6-bb84-dd57d26b157b",
   "metadata": {},
   "outputs": [],
   "source": [
    "# Import the Rubin TAP service utilities\n",
    "from lsst.rsp import get_tap_service, retrieve_query\n",
    "\n",
    "import lsst.daf.butler as dafButler\n",
    "import lsst.geom\n",
    "import lsst.afw.display as afwDisplay\n",
    "\n",
    "plt.style.use('tableau-colorblind10')\n",
    "%matplotlib inline\n",
    "\n",
    "import warnings\n",
    "from astropy.units import UnitsWarning\n",
    "import pandas\n",
    "\n",
    "#initializing Tap and Butler\n",
    "pandas.set_option('display.max_rows', 20)\n",
    "warnings.simplefilter(\"ignore\", category=UnitsWarning)\n",
    "service = get_tap_service()\n",
    "assert service is not None\n",
    "assert service.baseurl == \"https://data.lsst.cloud/api/tap\""
   ]
  },
  {
   "cell_type": "code",
   "execution_count": 15,
   "id": "52708223-1ecc-422f-b85d-65e03a0f0113",
   "metadata": {},
   "outputs": [],
   "source": [
    "max_rec=10 # make 100 for full subject set test\n",
    "use_center_coords = \"62, -37\"\n",
    "use_radius = \"1.0\""
   ]
  },
  {
   "cell_type": "code",
   "execution_count": 20,
   "id": "c390a9ad-2744-4406-839c-9652edc5879c",
   "metadata": {},
   "outputs": [],
   "source": [
    "### Modify the query"
   ]
  },
  {
   "cell_type": "code",
   "execution_count": 33,
   "id": "5fcfa906-2898-484b-9f99-ee5d96fc6602",
   "metadata": {},
   "outputs": [
    {
     "name": "stdout",
     "output_type": "stream",
     "text": [
      "<Table length=10>\n",
      "      objectId       coord_ra   coord_dec  ... r_extendedness r_inputCount\n",
      "                       deg         deg     ...                            \n",
      "       int64         float64     float64   ...    float64        int32    \n",
      "------------------- ---------- ----------- ... -------------- ------------\n",
      "1567965153859768169 61.6998044 -37.2739044 ...            1.0          106\n",
      "1650947495431285770 61.1583878 -36.3657651 ...            1.0          105\n",
      "1651448872733547971 62.5770683 -36.1977335 ...            1.0          116\n",
      "1651536833663756158 61.8484527 -36.1061415 ...            1.0          105\n",
      "1651325727431231924 62.7137842 -36.6836861 ...            1.0          117\n",
      "1651334523524249766 62.3059651 -36.7486842 ...            1.0          110\n",
      "1650894718873158112 60.8890681 -36.5646567 ...            1.0          107\n",
      "1651466464919580824 62.1611157  -36.333154 ...            1.0          107\n",
      "1651325727431231922 62.6921133 -36.6985965 ...            1.0          112\n",
      "1651528037570737542 62.2537238 -36.0866619 ...            1.0          107\n"
     ]
    }
   ],
   "source": [
    "query = \"SELECT TOP \" + str(max_rec) + \" \" + \\\n",
    "        \"obj.objectId, obj.coord_ra, obj.coord_dec, obj.detect_isPrimary \" + \\\n",
    "        \"g_cModelFlux, r_cModelFlux, obj.r_extendedness, obj.r_inputCount \" + \\\n",
    "        \"FROM dp02_dc2_catalogs.Object as obj \" + \\\n",
    "        \"WHERE CONTAINS(POINT('ICRS', coord_ra, coord_dec), \" + \\\n",
    "        \"CIRCLE('ICRS', \" + use_center_coords + \", \" + use_radius + \")) = 1 \" + \\\n",
    "        \"AND detect_isPrimary = 1 \" + \\\n",
    "        \"AND r_extendedness = 1 \" + \\\n",
    "        \"AND scisql_nanojanskyToAbMag(r_cModelFlux) < 18.0 \" + \\\n",
    "        \"ORDER by r_cModelFlux DESC\"\n",
    "results = service.search(query)\n",
    "print(results)"
   ]
  },
  {
   "cell_type": "code",
   "execution_count": null,
   "id": "3c1af64a-7a87-424a-a881-ae05a1b855f6",
   "metadata": {},
   "outputs": [],
   "source": [
    "query = \"SELECT TOP \" + str(max_rec) + \" \" + \\\n",
    "        \"obj.objectId, obj.coord_ra, obj.coord_dec, obj.detect_isPrimary \" + \\\n",
    "        \"g_cModelFlux, r_cModelFlux, obj.r_extendedness, obj.r_inputCount \" + \\\n",
    "        \"FROM dp02_dc2_catalogs.Object as obj \" + \\\n",
    "        \"WHERE CONTAINS(POINT('ICRS', coord_ra, coord_dec), \" + \\\n",
    "        \"CIRCLE('ICRS', \" + use_center_coords + \", \" + use_radius + \")) = 1 \" + \\\n",
    "        \"AND detect_isPrimary = 1 \" + \\\n",
    "        \"AND r_extendedness = 1 \" + \\\n",
    "        \"AND scisql_nanojanskyToAbMag(r_cModelFlux) < 18.0 \" + \\\n",
    "        \"ORDER by r_cModelFlux DESC\"\n",
    "results = service.search(query)\n",
    "print(results)"
   ]
  },
  {
   "cell_type": "code",
   "execution_count": 44,
   "id": "8a4b15e6-ac77-4259-9ab4-901163fa08a0",
   "metadata": {},
   "outputs": [
    {
     "ename": "DALQueryError",
     "evalue": "validateColumnNonAlias: Column: [obsStartMJD] does not exist.",
     "output_type": "error",
     "traceback": [
      "\u001b[0;31m---------------------------------------------------------------------------\u001b[0m",
      "\u001b[0;31mDALQueryError\u001b[0m                             Traceback (most recent call last)",
      "Input \u001b[0;32mIn [44]\u001b[0m, in \u001b[0;36m<cell line: 11>\u001b[0;34m()\u001b[0m\n\u001b[1;32m      1\u001b[0m query \u001b[38;5;241m=\u001b[39m \u001b[38;5;124m\"\u001b[39m\u001b[38;5;124mSELECT TOP \u001b[39m\u001b[38;5;124m\"\u001b[39m \u001b[38;5;241m+\u001b[39m \u001b[38;5;28mstr\u001b[39m(max_rec) \u001b[38;5;241m+\u001b[39m \u001b[38;5;124m\"\u001b[39m\u001b[38;5;124m \u001b[39m\u001b[38;5;124m\"\u001b[39m \u001b[38;5;241m+\u001b[39m \\\n\u001b[1;32m      2\u001b[0m         \u001b[38;5;124m\"\u001b[39m\u001b[38;5;124mobj.objectId, obj.coord_ra, obj.coord_dec, obj.detect_isPrimary \u001b[39m\u001b[38;5;124m\"\u001b[39m \u001b[38;5;241m+\u001b[39m \\\n\u001b[1;32m      3\u001b[0m         \u001b[38;5;124m\"\u001b[39m\u001b[38;5;124mg_cModelFlux, r_cModelFlux, obj.r_extendedness, obj.r_inputCount, obsStartMJD \u001b[39m\u001b[38;5;124m\"\u001b[39m \u001b[38;5;241m+\u001b[39m \\\n\u001b[0;32m   (...)\u001b[0m\n\u001b[1;32m      9\u001b[0m         \u001b[38;5;124m\"\u001b[39m\u001b[38;5;124mAND scisql_nanojanskyToAbMag(r_cModelFlux) < 18.0 \u001b[39m\u001b[38;5;124m\"\u001b[39m \u001b[38;5;241m+\u001b[39m \\\n\u001b[1;32m     10\u001b[0m         \u001b[38;5;124m\"\u001b[39m\u001b[38;5;124mORDER by r_cModelFlux DESC\u001b[39m\u001b[38;5;124m\"\u001b[39m\n\u001b[0;32m---> 11\u001b[0m results \u001b[38;5;241m=\u001b[39m service\u001b[38;5;241m.\u001b[39msearch(query)\n\u001b[1;32m     13\u001b[0m \u001b[38;5;28;01massert\u001b[39;00m \u001b[38;5;28mlen\u001b[39m(results) \u001b[38;5;241m==\u001b[39m max_rec\n",
      "File \u001b[0;32m/opt/lsst/software/stack/conda/miniconda3-py38_4.9.2/envs/lsst-scipipe-4.1.0/lib/python3.10/site-packages/pyvo/dal/tap.py:248\u001b[0m, in \u001b[0;36mTAPService.run_sync\u001b[0;34m(self, query, language, maxrec, uploads, **keywords)\u001b[0m\n\u001b[1;32m    219\u001b[0m \u001b[38;5;28;01mdef\u001b[39;00m \u001b[38;5;21mrun_sync\u001b[39m(\n\u001b[1;32m    220\u001b[0m         \u001b[38;5;28mself\u001b[39m, query, language\u001b[38;5;241m=\u001b[39m\u001b[38;5;124m\"\u001b[39m\u001b[38;5;124mADQL\u001b[39m\u001b[38;5;124m\"\u001b[39m, maxrec\u001b[38;5;241m=\u001b[39m\u001b[38;5;28;01mNone\u001b[39;00m, uploads\u001b[38;5;241m=\u001b[39m\u001b[38;5;28;01mNone\u001b[39;00m,\n\u001b[1;32m    221\u001b[0m         \u001b[38;5;241m*\u001b[39m\u001b[38;5;241m*\u001b[39mkeywords):\n\u001b[1;32m    222\u001b[0m     \u001b[38;5;124;03m\"\"\"\u001b[39;00m\n\u001b[1;32m    223\u001b[0m \u001b[38;5;124;03m    runs sync query and returns its result\u001b[39;00m\n\u001b[1;32m    224\u001b[0m \n\u001b[0;32m   (...)\u001b[0m\n\u001b[1;32m    244\u001b[0m \u001b[38;5;124;03m    TAPResults\u001b[39;00m\n\u001b[1;32m    245\u001b[0m \u001b[38;5;124;03m    \"\"\"\u001b[39;00m\n\u001b[1;32m    246\u001b[0m     \u001b[38;5;28;01mreturn\u001b[39;00m \u001b[38;5;28;43mself\u001b[39;49m\u001b[38;5;241;43m.\u001b[39;49m\u001b[43mcreate_query\u001b[49m\u001b[43m(\u001b[49m\n\u001b[1;32m    247\u001b[0m \u001b[43m        \u001b[49m\u001b[43mquery\u001b[49m\u001b[43m,\u001b[49m\u001b[43m \u001b[49m\u001b[43mlanguage\u001b[49m\u001b[38;5;241;43m=\u001b[39;49m\u001b[43mlanguage\u001b[49m\u001b[43m,\u001b[49m\u001b[43m \u001b[49m\u001b[43mmaxrec\u001b[49m\u001b[38;5;241;43m=\u001b[39;49m\u001b[43mmaxrec\u001b[49m\u001b[43m,\u001b[49m\u001b[43m \u001b[49m\u001b[43muploads\u001b[49m\u001b[38;5;241;43m=\u001b[39;49m\u001b[43muploads\u001b[49m\u001b[43m,\u001b[49m\n\u001b[0;32m--> 248\u001b[0m \u001b[43m        \u001b[49m\u001b[38;5;241;43m*\u001b[39;49m\u001b[38;5;241;43m*\u001b[39;49m\u001b[43mkeywords\u001b[49m\u001b[43m)\u001b[49m\u001b[38;5;241;43m.\u001b[39;49m\u001b[43mexecute\u001b[49m\u001b[43m(\u001b[49m\u001b[43m)\u001b[49m\n",
      "File \u001b[0;32m/opt/lsst/software/stack/conda/miniconda3-py38_4.9.2/envs/lsst-scipipe-4.1.0/lib/python3.10/site-packages/pyvo/dal/tap.py:942\u001b[0m, in \u001b[0;36mTAPQuery.execute\u001b[0;34m(self)\u001b[0m\n\u001b[1;32m    928\u001b[0m \u001b[38;5;28;01mdef\u001b[39;00m \u001b[38;5;21mexecute\u001b[39m(\u001b[38;5;28mself\u001b[39m):\n\u001b[1;32m    929\u001b[0m     \u001b[38;5;124;03m\"\"\"\u001b[39;00m\n\u001b[1;32m    930\u001b[0m \u001b[38;5;124;03m    submit the query and return the results as a TAPResults instance\u001b[39;00m\n\u001b[1;32m    931\u001b[0m \n\u001b[0;32m   (...)\u001b[0m\n\u001b[1;32m    940\u001b[0m \u001b[38;5;124;03m       for errors parsing the VOTable response\u001b[39;00m\n\u001b[1;32m    941\u001b[0m \u001b[38;5;124;03m    \"\"\"\u001b[39;00m\n\u001b[0;32m--> 942\u001b[0m     \u001b[38;5;28;01mreturn\u001b[39;00m \u001b[43mTAPResults\u001b[49m\u001b[43m(\u001b[49m\u001b[38;5;28;43mself\u001b[39;49m\u001b[38;5;241;43m.\u001b[39;49m\u001b[43mexecute_votable\u001b[49m\u001b[43m(\u001b[49m\u001b[43m)\u001b[49m\u001b[43m,\u001b[49m\u001b[43m \u001b[49m\u001b[43murl\u001b[49m\u001b[38;5;241;43m=\u001b[39;49m\u001b[38;5;28;43mself\u001b[39;49m\u001b[38;5;241;43m.\u001b[39;49m\u001b[43mqueryurl\u001b[49m\u001b[43m,\u001b[49m\u001b[43m \u001b[49m\u001b[43msession\u001b[49m\u001b[38;5;241;43m=\u001b[39;49m\u001b[38;5;28;43mself\u001b[39;49m\u001b[38;5;241;43m.\u001b[39;49m\u001b[43m_session\u001b[49m\u001b[43m)\u001b[49m\n",
      "File \u001b[0;32m/opt/lsst/software/stack/conda/miniconda3-py38_4.9.2/envs/lsst-scipipe-4.1.0/lib/python3.10/site-packages/pyvo/dal/adhoc.py:111\u001b[0m, in \u001b[0;36mAdhocServiceResultsMixin.__init__\u001b[0;34m(self, votable, url, session)\u001b[0m\n\u001b[1;32m    110\u001b[0m \u001b[38;5;28;01mdef\u001b[39;00m \u001b[38;5;21m__init__\u001b[39m(\u001b[38;5;28mself\u001b[39m, votable, url\u001b[38;5;241m=\u001b[39m\u001b[38;5;28;01mNone\u001b[39;00m, session\u001b[38;5;241m=\u001b[39m\u001b[38;5;28;01mNone\u001b[39;00m):\n\u001b[0;32m--> 111\u001b[0m     \u001b[38;5;28;43msuper\u001b[39;49m\u001b[43m(\u001b[49m\u001b[43m)\u001b[49m\u001b[38;5;241;43m.\u001b[39;49m\u001b[38;5;21;43m__init__\u001b[39;49m\u001b[43m(\u001b[49m\u001b[43mvotable\u001b[49m\u001b[43m,\u001b[49m\u001b[43m \u001b[49m\u001b[43murl\u001b[49m\u001b[38;5;241;43m=\u001b[39;49m\u001b[43murl\u001b[49m\u001b[43m,\u001b[49m\u001b[43m \u001b[49m\u001b[43msession\u001b[49m\u001b[38;5;241;43m=\u001b[39;49m\u001b[43msession\u001b[49m\u001b[43m)\u001b[49m\n\u001b[1;32m    113\u001b[0m     \u001b[38;5;28mself\u001b[39m\u001b[38;5;241m.\u001b[39m_adhocservices \u001b[38;5;241m=\u001b[39m \u001b[38;5;28mlist\u001b[39m(\n\u001b[1;32m    114\u001b[0m         resource \u001b[38;5;28;01mfor\u001b[39;00m resource \u001b[38;5;129;01min\u001b[39;00m votable\u001b[38;5;241m.\u001b[39mresources\n\u001b[1;32m    115\u001b[0m         \u001b[38;5;28;01mif\u001b[39;00m resource\u001b[38;5;241m.\u001b[39mtype \u001b[38;5;241m==\u001b[39m \u001b[38;5;124m\"\u001b[39m\u001b[38;5;124mmeta\u001b[39m\u001b[38;5;124m\"\u001b[39m \u001b[38;5;129;01mand\u001b[39;00m resource\u001b[38;5;241m.\u001b[39mutype \u001b[38;5;241m==\u001b[39m \u001b[38;5;124m\"\u001b[39m\u001b[38;5;124madhoc:service\u001b[39m\u001b[38;5;124m\"\u001b[39m\n\u001b[1;32m    116\u001b[0m     )\n",
      "File \u001b[0;32m/opt/lsst/software/stack/conda/miniconda3-py38_4.9.2/envs/lsst-scipipe-4.1.0/lib/python3.10/site-packages/pyvo/dal/query.py:320\u001b[0m, in \u001b[0;36mDALResults.__init__\u001b[0;34m(self, votable, url, session)\u001b[0m\n\u001b[1;32m    318\u001b[0m \u001b[38;5;28mself\u001b[39m\u001b[38;5;241m.\u001b[39m_status \u001b[38;5;241m=\u001b[39m \u001b[38;5;28mself\u001b[39m\u001b[38;5;241m.\u001b[39m_findstatus(votable)\n\u001b[1;32m    319\u001b[0m \u001b[38;5;28;01mif\u001b[39;00m \u001b[38;5;28mself\u001b[39m\u001b[38;5;241m.\u001b[39m_status[\u001b[38;5;241m0\u001b[39m]\u001b[38;5;241m.\u001b[39mlower() \u001b[38;5;129;01mnot\u001b[39;00m \u001b[38;5;129;01min\u001b[39;00m (\u001b[38;5;124m\"\u001b[39m\u001b[38;5;124mok\u001b[39m\u001b[38;5;124m\"\u001b[39m, \u001b[38;5;124m\"\u001b[39m\u001b[38;5;124moverflow\u001b[39m\u001b[38;5;124m\"\u001b[39m):\n\u001b[0;32m--> 320\u001b[0m     \u001b[38;5;28;01mraise\u001b[39;00m DALQueryError(\u001b[38;5;28mself\u001b[39m\u001b[38;5;241m.\u001b[39m_status[\u001b[38;5;241m1\u001b[39m], \u001b[38;5;28mself\u001b[39m\u001b[38;5;241m.\u001b[39m_status[\u001b[38;5;241m0\u001b[39m], url)\n\u001b[1;32m    322\u001b[0m \u001b[38;5;28mself\u001b[39m\u001b[38;5;241m.\u001b[39m_resultstable \u001b[38;5;241m=\u001b[39m \u001b[38;5;28mself\u001b[39m\u001b[38;5;241m.\u001b[39m_findresultstable(votable)\n\u001b[1;32m    323\u001b[0m \u001b[38;5;28;01mif\u001b[39;00m \u001b[38;5;129;01mnot\u001b[39;00m \u001b[38;5;28mself\u001b[39m\u001b[38;5;241m.\u001b[39m_resultstable:\n",
      "\u001b[0;31mDALQueryError\u001b[0m: validateColumnNonAlias: Column: [obsStartMJD] does not exist."
     ]
    }
   ],
   "source": [
    "query = \"SELECT TOP \" + str(max_rec) + \" \" + \\\n",
    "        \"obj.objectId, obj.coord_ra, obj.coord_dec, obj.detect_isPrimary \" + \\\n",
    "        \"g_cModelFlux, r_cModelFlux, obj.r_extendedness, obj.r_inputCount, ccd.obsStartMJD \" + \\\n",
    "        \"FROM dp02_dc2_catalogs.Object as obj \" + \\\n",
    "        \"WHERE CONTAINS(POINT('ICRS', coord_ra, coord_dec), \" + \\\n",
    "        \"CIRCLE('ICRS', \" + use_center_coords + \", \" + use_radius + \")) = 1 \" + \\\n",
    "        \"AND detect_isPrimary = 1 \" + \\\n",
    "        \"AND r_extendedness = 1 \" + \\\n",
    "        \"AND scisql_nanojanskyToAbMag(r_cModelFlux) < 18.0 \" + \\\n",
    "        \"ORDER by r_cModelFlux DESC\"\n",
    "results = service.search(query)\n",
    "\n",
    "assert len(results) == max_rec"
   ]
  },
  {
   "cell_type": "code",
   "execution_count": 22,
   "id": "8c01665e-032b-461b-8b28-b41cdcf20d65",
   "metadata": {},
   "outputs": [
    {
     "ename": "DALQueryError",
     "evalue": "ADQL syntax error: Encountered \" \".\" \". \"\" at line 1, column 82.\nWas expecting one of:\n    \"INTO\" ...\n    \"FROM\" ...\n    \",\" ...\n    \",\" ...\n    \"INTO\" ...\n    \"FROM\" ...",
     "output_type": "error",
     "traceback": [
      "\u001b[0;31m---------------------------------------------------------------------------\u001b[0m",
      "\u001b[0;31mDALQueryError\u001b[0m                             Traceback (most recent call last)",
      "Input \u001b[0;32mIn [22]\u001b[0m, in \u001b[0;36m<cell line: 13>\u001b[0;34m()\u001b[0m\n\u001b[1;32m      1\u001b[0m query \u001b[38;5;241m=\u001b[39m \u001b[38;5;124m\"\u001b[39m\u001b[38;5;124mSELECT TOP \u001b[39m\u001b[38;5;124m\"\u001b[39m \u001b[38;5;241m+\u001b[39m \u001b[38;5;28mstr\u001b[39m(max_rec) \u001b[38;5;241m+\u001b[39m \u001b[38;5;124m\"\u001b[39m\u001b[38;5;124m \u001b[39m\u001b[38;5;124m\"\u001b[39m \u001b[38;5;241m+\u001b[39m \\\n\u001b[1;32m      2\u001b[0m         \u001b[38;5;124m\"\u001b[39m\u001b[38;5;124mobj.objectId, obj.coord_ra, obj.coord_dec, obj.detect_isPrimary \u001b[39m\u001b[38;5;124m\"\u001b[39m \u001b[38;5;241m+\u001b[39m \\\n\u001b[1;32m      3\u001b[0m         \u001b[38;5;124m\"\u001b[39m\u001b[38;5;124mobj.g_cModelFlux, obj.r_cModelFlux, obj.r_extendedness, obj.r_inputCount, ccd.obsStartMJD \u001b[39m\u001b[38;5;124m\"\u001b[39m \u001b[38;5;241m+\u001b[39m \\\n\u001b[0;32m   (...)\u001b[0m\n\u001b[1;32m     11\u001b[0m         \u001b[38;5;124m\"\u001b[39m\u001b[38;5;124mAND scisql_nanojanskyToAbMag(r_cModelFlux) < 18.0 \u001b[39m\u001b[38;5;124m\"\u001b[39m \u001b[38;5;241m+\u001b[39m \\\n\u001b[1;32m     12\u001b[0m         \u001b[38;5;124m\"\u001b[39m\u001b[38;5;124mORDER by r_cModelFlux DESC\u001b[39m\u001b[38;5;124m\"\u001b[39m\n\u001b[0;32m---> 13\u001b[0m results \u001b[38;5;241m=\u001b[39m service\u001b[38;5;241m.\u001b[39msearch(query)\n\u001b[1;32m     15\u001b[0m \u001b[38;5;28;01massert\u001b[39;00m \u001b[38;5;28mlen\u001b[39m(results) \u001b[38;5;241m==\u001b[39m max_rec\n",
      "File \u001b[0;32m/opt/lsst/software/stack/conda/miniconda3-py38_4.9.2/envs/lsst-scipipe-4.1.0/lib/python3.10/site-packages/pyvo/dal/tap.py:248\u001b[0m, in \u001b[0;36mTAPService.run_sync\u001b[0;34m(self, query, language, maxrec, uploads, **keywords)\u001b[0m\n\u001b[1;32m    219\u001b[0m \u001b[38;5;28;01mdef\u001b[39;00m \u001b[38;5;21mrun_sync\u001b[39m(\n\u001b[1;32m    220\u001b[0m         \u001b[38;5;28mself\u001b[39m, query, language\u001b[38;5;241m=\u001b[39m\u001b[38;5;124m\"\u001b[39m\u001b[38;5;124mADQL\u001b[39m\u001b[38;5;124m\"\u001b[39m, maxrec\u001b[38;5;241m=\u001b[39m\u001b[38;5;28;01mNone\u001b[39;00m, uploads\u001b[38;5;241m=\u001b[39m\u001b[38;5;28;01mNone\u001b[39;00m,\n\u001b[1;32m    221\u001b[0m         \u001b[38;5;241m*\u001b[39m\u001b[38;5;241m*\u001b[39mkeywords):\n\u001b[1;32m    222\u001b[0m     \u001b[38;5;124;03m\"\"\"\u001b[39;00m\n\u001b[1;32m    223\u001b[0m \u001b[38;5;124;03m    runs sync query and returns its result\u001b[39;00m\n\u001b[1;32m    224\u001b[0m \n\u001b[0;32m   (...)\u001b[0m\n\u001b[1;32m    244\u001b[0m \u001b[38;5;124;03m    TAPResults\u001b[39;00m\n\u001b[1;32m    245\u001b[0m \u001b[38;5;124;03m    \"\"\"\u001b[39;00m\n\u001b[1;32m    246\u001b[0m     \u001b[38;5;28;01mreturn\u001b[39;00m \u001b[38;5;28;43mself\u001b[39;49m\u001b[38;5;241;43m.\u001b[39;49m\u001b[43mcreate_query\u001b[49m\u001b[43m(\u001b[49m\n\u001b[1;32m    247\u001b[0m \u001b[43m        \u001b[49m\u001b[43mquery\u001b[49m\u001b[43m,\u001b[49m\u001b[43m \u001b[49m\u001b[43mlanguage\u001b[49m\u001b[38;5;241;43m=\u001b[39;49m\u001b[43mlanguage\u001b[49m\u001b[43m,\u001b[49m\u001b[43m \u001b[49m\u001b[43mmaxrec\u001b[49m\u001b[38;5;241;43m=\u001b[39;49m\u001b[43mmaxrec\u001b[49m\u001b[43m,\u001b[49m\u001b[43m \u001b[49m\u001b[43muploads\u001b[49m\u001b[38;5;241;43m=\u001b[39;49m\u001b[43muploads\u001b[49m\u001b[43m,\u001b[49m\n\u001b[0;32m--> 248\u001b[0m \u001b[43m        \u001b[49m\u001b[38;5;241;43m*\u001b[39;49m\u001b[38;5;241;43m*\u001b[39;49m\u001b[43mkeywords\u001b[49m\u001b[43m)\u001b[49m\u001b[38;5;241;43m.\u001b[39;49m\u001b[43mexecute\u001b[49m\u001b[43m(\u001b[49m\u001b[43m)\u001b[49m\n",
      "File \u001b[0;32m/opt/lsst/software/stack/conda/miniconda3-py38_4.9.2/envs/lsst-scipipe-4.1.0/lib/python3.10/site-packages/pyvo/dal/tap.py:942\u001b[0m, in \u001b[0;36mTAPQuery.execute\u001b[0;34m(self)\u001b[0m\n\u001b[1;32m    928\u001b[0m \u001b[38;5;28;01mdef\u001b[39;00m \u001b[38;5;21mexecute\u001b[39m(\u001b[38;5;28mself\u001b[39m):\n\u001b[1;32m    929\u001b[0m     \u001b[38;5;124;03m\"\"\"\u001b[39;00m\n\u001b[1;32m    930\u001b[0m \u001b[38;5;124;03m    submit the query and return the results as a TAPResults instance\u001b[39;00m\n\u001b[1;32m    931\u001b[0m \n\u001b[0;32m   (...)\u001b[0m\n\u001b[1;32m    940\u001b[0m \u001b[38;5;124;03m       for errors parsing the VOTable response\u001b[39;00m\n\u001b[1;32m    941\u001b[0m \u001b[38;5;124;03m    \"\"\"\u001b[39;00m\n\u001b[0;32m--> 942\u001b[0m     \u001b[38;5;28;01mreturn\u001b[39;00m \u001b[43mTAPResults\u001b[49m\u001b[43m(\u001b[49m\u001b[38;5;28;43mself\u001b[39;49m\u001b[38;5;241;43m.\u001b[39;49m\u001b[43mexecute_votable\u001b[49m\u001b[43m(\u001b[49m\u001b[43m)\u001b[49m\u001b[43m,\u001b[49m\u001b[43m \u001b[49m\u001b[43murl\u001b[49m\u001b[38;5;241;43m=\u001b[39;49m\u001b[38;5;28;43mself\u001b[39;49m\u001b[38;5;241;43m.\u001b[39;49m\u001b[43mqueryurl\u001b[49m\u001b[43m,\u001b[49m\u001b[43m \u001b[49m\u001b[43msession\u001b[49m\u001b[38;5;241;43m=\u001b[39;49m\u001b[38;5;28;43mself\u001b[39;49m\u001b[38;5;241;43m.\u001b[39;49m\u001b[43m_session\u001b[49m\u001b[43m)\u001b[49m\n",
      "File \u001b[0;32m/opt/lsst/software/stack/conda/miniconda3-py38_4.9.2/envs/lsst-scipipe-4.1.0/lib/python3.10/site-packages/pyvo/dal/adhoc.py:111\u001b[0m, in \u001b[0;36mAdhocServiceResultsMixin.__init__\u001b[0;34m(self, votable, url, session)\u001b[0m\n\u001b[1;32m    110\u001b[0m \u001b[38;5;28;01mdef\u001b[39;00m \u001b[38;5;21m__init__\u001b[39m(\u001b[38;5;28mself\u001b[39m, votable, url\u001b[38;5;241m=\u001b[39m\u001b[38;5;28;01mNone\u001b[39;00m, session\u001b[38;5;241m=\u001b[39m\u001b[38;5;28;01mNone\u001b[39;00m):\n\u001b[0;32m--> 111\u001b[0m     \u001b[38;5;28;43msuper\u001b[39;49m\u001b[43m(\u001b[49m\u001b[43m)\u001b[49m\u001b[38;5;241;43m.\u001b[39;49m\u001b[38;5;21;43m__init__\u001b[39;49m\u001b[43m(\u001b[49m\u001b[43mvotable\u001b[49m\u001b[43m,\u001b[49m\u001b[43m \u001b[49m\u001b[43murl\u001b[49m\u001b[38;5;241;43m=\u001b[39;49m\u001b[43murl\u001b[49m\u001b[43m,\u001b[49m\u001b[43m \u001b[49m\u001b[43msession\u001b[49m\u001b[38;5;241;43m=\u001b[39;49m\u001b[43msession\u001b[49m\u001b[43m)\u001b[49m\n\u001b[1;32m    113\u001b[0m     \u001b[38;5;28mself\u001b[39m\u001b[38;5;241m.\u001b[39m_adhocservices \u001b[38;5;241m=\u001b[39m \u001b[38;5;28mlist\u001b[39m(\n\u001b[1;32m    114\u001b[0m         resource \u001b[38;5;28;01mfor\u001b[39;00m resource \u001b[38;5;129;01min\u001b[39;00m votable\u001b[38;5;241m.\u001b[39mresources\n\u001b[1;32m    115\u001b[0m         \u001b[38;5;28;01mif\u001b[39;00m resource\u001b[38;5;241m.\u001b[39mtype \u001b[38;5;241m==\u001b[39m \u001b[38;5;124m\"\u001b[39m\u001b[38;5;124mmeta\u001b[39m\u001b[38;5;124m\"\u001b[39m \u001b[38;5;129;01mand\u001b[39;00m resource\u001b[38;5;241m.\u001b[39mutype \u001b[38;5;241m==\u001b[39m \u001b[38;5;124m\"\u001b[39m\u001b[38;5;124madhoc:service\u001b[39m\u001b[38;5;124m\"\u001b[39m\n\u001b[1;32m    116\u001b[0m     )\n",
      "File \u001b[0;32m/opt/lsst/software/stack/conda/miniconda3-py38_4.9.2/envs/lsst-scipipe-4.1.0/lib/python3.10/site-packages/pyvo/dal/query.py:320\u001b[0m, in \u001b[0;36mDALResults.__init__\u001b[0;34m(self, votable, url, session)\u001b[0m\n\u001b[1;32m    318\u001b[0m \u001b[38;5;28mself\u001b[39m\u001b[38;5;241m.\u001b[39m_status \u001b[38;5;241m=\u001b[39m \u001b[38;5;28mself\u001b[39m\u001b[38;5;241m.\u001b[39m_findstatus(votable)\n\u001b[1;32m    319\u001b[0m \u001b[38;5;28;01mif\u001b[39;00m \u001b[38;5;28mself\u001b[39m\u001b[38;5;241m.\u001b[39m_status[\u001b[38;5;241m0\u001b[39m]\u001b[38;5;241m.\u001b[39mlower() \u001b[38;5;129;01mnot\u001b[39;00m \u001b[38;5;129;01min\u001b[39;00m (\u001b[38;5;124m\"\u001b[39m\u001b[38;5;124mok\u001b[39m\u001b[38;5;124m\"\u001b[39m, \u001b[38;5;124m\"\u001b[39m\u001b[38;5;124moverflow\u001b[39m\u001b[38;5;124m\"\u001b[39m):\n\u001b[0;32m--> 320\u001b[0m     \u001b[38;5;28;01mraise\u001b[39;00m DALQueryError(\u001b[38;5;28mself\u001b[39m\u001b[38;5;241m.\u001b[39m_status[\u001b[38;5;241m1\u001b[39m], \u001b[38;5;28mself\u001b[39m\u001b[38;5;241m.\u001b[39m_status[\u001b[38;5;241m0\u001b[39m], url)\n\u001b[1;32m    322\u001b[0m \u001b[38;5;28mself\u001b[39m\u001b[38;5;241m.\u001b[39m_resultstable \u001b[38;5;241m=\u001b[39m \u001b[38;5;28mself\u001b[39m\u001b[38;5;241m.\u001b[39m_findresultstable(votable)\n\u001b[1;32m    323\u001b[0m \u001b[38;5;28;01mif\u001b[39;00m \u001b[38;5;129;01mnot\u001b[39;00m \u001b[38;5;28mself\u001b[39m\u001b[38;5;241m.\u001b[39m_resultstable:\n",
      "\u001b[0;31mDALQueryError\u001b[0m: ADQL syntax error: Encountered \" \".\" \". \"\" at line 1, column 82.\nWas expecting one of:\n    \"INTO\" ...\n    \"FROM\" ...\n    \",\" ...\n    \",\" ...\n    \"INTO\" ...\n    \"FROM\" ..."
     ]
    }
   ],
   "source": [
    "query = \"SELECT TOP \" + str(max_rec) + \" \" + \\\n",
    "        \"obj.objectId, obj.coord_ra, obj.coord_dec, obj.detect_isPrimary \" + \\\n",
    "        \"obj.g_cModelFlux, obj.r_cModelFlux, obj.r_extendedness, obj.r_inputCount, ccd.obsStartMJD \" + \\\n",
    "        \"FROM dp02_dc2_catalogs.Object as obj \" + \\\n",
    "        \"JOIN dp02_dc2_catalogs.CcdVisit as ccd \" + \\\n",
    "        \"ON obj.ccdVisitId = ccd.ccdVisitId \" + \\\n",
    "        \"WHERE CONTAINS(POINT('ICRS', coord_ra, coord_dec), \" + \\\n",
    "        \"CIRCLE('ICRS', \" + use_center_coords + \", \" + use_radius + \")) = 1 \" + \\\n",
    "        \"AND detect_isPrimary = 1 \" + \\\n",
    "        \"AND r_extendedness = 1 \" + \\\n",
    "        \"AND scisql_nanojanskyToAbMag(r_cModelFlux) < 18.0 \" + \\\n",
    "        \"ORDER by r_cModelFlux DESC\"\n",
    "results = service.search(query)\n",
    "\n",
    "assert len(results) == max_rec"
   ]
  },
  {
   "cell_type": "code",
   "execution_count": 49,
   "id": "43ad06e4-d3d0-41a8-9911-1900953dc641",
   "metadata": {},
   "outputs": [
    {
     "name": "stdout",
     "output_type": "stream",
     "text": [
      "<Table length=41751>\n",
      "  forcedSourceId         objectId      ...  obsStartMJD     obj_rpsfMag    \n",
      "      int64               int64        ...    float64         float64      \n",
      "------------------ ------------------- ... ------------- ------------------\n",
      "161196576881003935 1650885922780118031 ... 60001.0762086 17.775600417632916\n",
      "654224497083167651 1650885922780118031 ... 61373.2747466 17.775600417632916\n",
      "130242261710570697 1650885922780118031 ... 59914.1938026 17.775600417632916\n",
      "640882147355297539 1650885922780118031 ... 61329.1591576 17.775600417632916\n",
      "423520334147251033 1650885922780118031 ... 60740.0680676 17.775600417632916\n",
      "384442609101212165 1650885922780118031 ... 60636.1544946 17.775600417632916\n",
      "520791108494572004 1650885922780118031 ... 61007.2110296 17.775600417632916\n",
      "234387686339674243 1650885922780118031 ... 60206.3064806 17.775600417632916\n",
      "108779734069957865 1650885922780118031 ... 59854.2944256 17.775600417632916\n",
      "540103432699152173 1650885922780118031 ... 61066.0683766 17.775600417632916\n",
      "               ...                 ... ...           ...                ...\n",
      "245213124028826277 1651484057105636020 ... 60240.1587826 17.750530253021523\n",
      "103716554964751662 1651484057105636020 ... 59839.3528966 17.750530253021523\n",
      "257859730930691010 1651484057105636020 ... 60280.2046226 17.750530253021523\n",
      "257860734342428009 1651484057105636020 ... 60280.2055816 17.750530253021523\n",
      "251390907813745728 1651484057105636020 ... 60263.0891106 17.750530253021523\n",
      "565265035820041438 1651484057105636020 ... 61124.0221156 17.750530253021523\n",
      "103714393522465313 1651484057105636020 ... 59839.3510616 17.750530253021523\n",
      "251413485919965333 1651484057105636020 ... 60263.1081796 17.750530253021523\n",
      "400916461897416147 1651484057105636020 ... 60683.1198366 17.750530253021523\n",
      "140319365772905969 1651484057105636020 ... 59943.1845726 17.750530253021523\n"
     ]
    }
   ],
   "source": [
    "query = \"SELECT fs.forcedSourceId, fs.objectId, fs.ccdVisitId, fs.detect_isPrimary, \" + \\\n",
    "        \"fs.band, scisql_nanojanskyToAbMag(fs.psfFlux) as psfMag, ccd.obsStartMJD, \" + \\\n",
    "        \"scisql_nanojanskyToAbMag(obj.r_psfFlux) as obj_rpsfMag \" + \\\n",
    "        \"FROM dp02_dc2_catalogs.ForcedSource as fs \" + \\\n",
    "        \"JOIN dp02_dc2_catalogs.CcdVisit as ccd \" + \\\n",
    "        \"ON fs.ccdVisitId = ccd.ccdVisitId \" + \\\n",
    "        \"JOIN dp02_dc2_catalogs.Object as obj \" + \\\n",
    "        \"ON fs.objectId = obj.objectId \" + \\\n",
    "        \"WHERE CONTAINS(POINT('ICRS', obj.coord_ra, obj.coord_dec), \" + \\\n",
    "        \"CIRCLE('ICRS', \" + use_center_coords + \", \" + use_radius + \")) = 1 \" + \\\n",
    "        \"AND obj.detect_isPrimary = 1 \" + \\\n",
    "        \"AND obj.r_extendedness = 0 \" + \\\n",
    "        \"AND scisql_nanojanskyToAbMag(obj.r_cModelFlux) > 17.5 \" + \\\n",
    "        \"AND scisql_nanojanskyToAbMag(obj.r_cModelFlux) < 18.0 \" + \\\n",
    "        \"AND fs.band = 'r' \"\n",
    "results = service.search(query)\n",
    "print(results)"
   ]
  },
  {
   "cell_type": "code",
   "execution_count": 53,
   "id": "eff8bd85-8897-4cdd-be43-cda5a4193720",
   "metadata": {},
   "outputs": [
    {
     "data": {
      "text/plain": [
       "59848.91007075441"
      ]
     },
     "execution_count": 53,
     "metadata": {},
     "output_type": "execute_result"
    }
   ],
   "source": [
    "nt.mjd - 50"
   ]
  },
  {
   "cell_type": "code",
   "execution_count": 55,
   "id": "182195af-1aec-4fe6-8c20-8340d9990cac",
   "metadata": {},
   "outputs": [
    {
     "name": "stdout",
     "output_type": "stream",
     "text": [
      "<Table length=2909>\n",
      "  forcedSourceId         objectId      ...  obsStartMJD     obj_rpsfMag    \n",
      "      int64               int64        ...    float64         float64      \n",
      "------------------ ------------------- ... ------------- ------------------\n",
      "104088585568802545 1567921173394650080 ... 59840.2628446  17.84863392562694\n",
      "103716499667057546 1567921173394650080 ... 59839.3528966  17.84863392562694\n",
      "104071441133114408 1567921173394650080 ... 59840.2469706  17.84863392562694\n",
      "104047259930363137 1567921173394650080 ... 59840.2231276  17.84863392562694\n",
      " 21649872503473461 1567921173394650080 ... 59634.0864666  17.84863392562694\n",
      "103714346277831446 1567921173394650080 ... 59839.3510616  17.84863392562694\n",
      "104064947679422127 1567921173394650080 ... 59840.2414956  17.84863392562694\n",
      "103695564922713720 1567921173394650080 ... 59839.3343466  17.84863392562694\n",
      " 21650458229624109 1567921173394650080 ... 59634.0869156  17.84863392562694\n",
      "103714346277822435 1567859600743513720 ... 59839.3510616 17.785739601260687\n",
      "               ...                 ... ...           ...                ...\n",
      "103716528121216187 1651308135245202065 ... 59839.3528966 17.590218979583234\n",
      "104088610801736922 1651308135245202065 ... 59840.2628446 17.590218979583234\n",
      "103695593376862978 1651308135245202065 ... 59839.3343466 17.590218979583234\n",
      " 21650463061457141 1651308135245196102 ... 59634.0869156 17.841486048754998\n",
      " 21649877335298309 1651308135245196102 ... 59634.0864666 17.841486048754998\n",
      " 21663852621998972 1651308135245196102 ... 59634.0983496 17.841486048754998\n",
      "103716526510605260 1651308135245196102 ... 59839.3528966 17.841486048754998\n",
      "103714368826389880 1651308135245196102 ... 59839.3510616 17.841486048754998\n",
      "104088589863776480 1651308135245196102 ... 59840.2628446 17.841486048754998\n",
      "103695593376857452 1651308135245196102 ... 59839.3343466 17.841486048754998\n"
     ]
    }
   ],
   "source": [
    "query = \"SELECT fs.forcedSourceId, fs.objectId, fs.ccdVisitId, fs.detect_isPrimary, \" + \\\n",
    "        \"fs.band, scisql_nanojanskyToAbMag(fs.psfFlux) as psfMag, ccd.obsStartMJD, \" + \\\n",
    "        \"scisql_nanojanskyToAbMag(obj.r_psfFlux) as obj_rpsfMag \" + \\\n",
    "        \"FROM dp02_dc2_catalogs.ForcedSource as fs \" + \\\n",
    "        \"JOIN dp02_dc2_catalogs.CcdVisit as ccd \" + \\\n",
    "        \"ON fs.ccdVisitId = ccd.ccdVisitId \" + \\\n",
    "        \"JOIN dp02_dc2_catalogs.Object as obj \" + \\\n",
    "        \"ON fs.objectId = obj.objectId \" + \\\n",
    "        \"WHERE CONTAINS(POINT('ICRS', obj.coord_ra, obj.coord_dec), \" + \\\n",
    "        \"CIRCLE('ICRS', \" + use_center_coords + \", \" + use_radius + \")) = 1 \" + \\\n",
    "        \"AND obj.detect_isPrimary = 1 \" + \\\n",
    "        \"AND obj.r_extendedness = 0 \" + \\\n",
    "        \"AND scisql_nanojanskyToAbMag(obj.r_cModelFlux) > 17.5 \" + \\\n",
    "        \"AND scisql_nanojanskyToAbMag(obj.r_cModelFlux) < 18.0 \" + \\\n",
    "        \"AND fs.band = 'r' \" + \\\n",
    "        f\"AND ccd.obsStartMJD < {nt.mjd - 50} \"\n",
    "results = service.search(query)\n",
    "print(results)"
   ]
  },
  {
   "cell_type": "code",
   "execution_count": null,
   "id": "89f21dba-4c9f-4954-b4c3-beb7af011d3f",
   "metadata": {},
   "outputs": [],
   "source": []
  }
 ],
 "metadata": {
  "kernelspec": {
   "display_name": "LSST",
   "language": "python",
   "name": "lsst"
  },
  "language_info": {
   "codemirror_mode": {
    "name": "ipython",
    "version": 3
   },
   "file_extension": ".py",
   "mimetype": "text/x-python",
   "name": "python",
   "nbconvert_exporter": "python",
   "pygments_lexer": "ipython3",
   "version": "3.10.5"
  }
 },
 "nbformat": 4,
 "nbformat_minor": 5
}
