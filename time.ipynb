{
 "cells": [
  {
   "cell_type": "markdown",
   "id": "fc772c33-7718-4e3d-838c-c7a0cebf34f0",
   "metadata": {},
   "source": [
    "### Time travel\n",
    "The goal of this notebook is to add the ability to select data based on how long it has existed.\n",
    "\n",
    "We'd ideally like to do this in two ways - either by selecting the data release version or by selecting the amount of time between the exposure and now. This is useful if you want to only send data to Zooniverse that is not proprietary (greater than 2 years old)."
   ]
  },
  {
   "cell_type": "markdown",
   "id": "1fcd9896-ccf0-4e47-a484-755a2bf06a37",
   "metadata": {},
   "source": [
    "Here's the forum that talks about how to get MJD info from the Rubin source catalog:\n",
    "https://community.lsst.org/t/how-should-one-efficiently-get-the-mjd-for-a-source-catalog/3733/4"
   ]
  },
  {
   "cell_type": "code",
   "execution_count": 2,
   "id": "c416be38-bf9d-463e-be46-8d8e4a8ea7ec",
   "metadata": {},
   "outputs": [],
   "source": [
    "# Generic python packages\n",
    "import pylab as plt\n",
    "import gc\n",
    "\n",
    "# LSST Science Pipelines (Stack) packages\n",
    "import lsst.daf.butler as dafButler\n",
    "import lsst.afw.display as afwDisplay\n",
    "import lsst\n",
    "from datetime import datetime\n",
    "from astropy.time import Time\n",
    "\n",
    "# Set a standard figure size to use\n",
    "plt.rcParams['figure.figsize'] = (8.0, 8.0)\n",
    "afwDisplay.setDefaultBackend('matplotlib')"
   ]
  },
  {
   "cell_type": "code",
   "execution_count": 3,
   "id": "3866a6b7-6699-4108-9cb2-128ce1434001",
   "metadata": {},
   "outputs": [
    {
     "data": {
      "text/html": [
       "<pre style=\"margin: 0.1em;\n",
       "padding-left: 0.25em;\n",
       "border-left-style: solid;\n",
       "font-family: var(--jp-code-font-family);\n",
       "font-size: var(--jp-code-font-size);\n",
       "line-height: var(--jp-code-line-height);\n",
       "\"><span style=\"color: var(--jp-warn-color2)\">botocore.credentials</span> <span style=\"color: var(--jp-info-color0)\">INFO</span>: Found credentials in shared credentials file: /home/beckynevin/.lsst/aws-credentials.ini</pre>"
      ],
      "text/plain": [
       "<IPython.core.display.HTML object>"
      ]
     },
     "metadata": {},
     "output_type": "display_data"
    }
   ],
   "source": [
    "config = 'dp02'\n",
    "collections = '2.2i/runs/DP0.2'\n",
    "butler = dafButler.Butler(config, collections=collections)"
   ]
  },
  {
   "cell_type": "code",
   "execution_count": 4,
   "id": "f65ff033-1580-4443-8508-f7ae30c8c843",
   "metadata": {},
   "outputs": [],
   "source": [
    "datasetType = 'calexp'\n",
    "dataId = {'visit': 192350, 'detector': 175}\n",
    "calexp = butler.get(datasetType, dataId=dataId)"
   ]
  },
  {
   "cell_type": "code",
   "execution_count": 5,
   "id": "49310d17-aad4-42fc-9b4a-6bb4f811d608",
   "metadata": {},
   "outputs": [
    {
     "name": "stdout",
     "output_type": "stream",
     "text": [
      "59837.38009422338\n"
     ]
    }
   ],
   "source": [
    "# This is the time of the observation in MJD:\n",
    "t1 = calexp.getInfo().getVisitInfo().getDate().get(lsst.daf.base.DateTime.MJD)\n",
    "print(t1)\n",
    "# You can also get UTC:\n",
    "#print(calexp.getInfo().getVisitInfo().getDate().get(lsst.daf.base.DateTime.MJD,lsst.daf.base.DateTime.UTC))\n"
   ]
  },
  {
   "cell_type": "markdown",
   "id": "60f67603-be6f-4f33-bf77-e3faaaf5afce",
   "metadata": {},
   "source": [
    "### Below, finding the difference between 'now' and the observation:\n",
    "To do: Is there a way to improve this (take away the 2*365 option)?"
   ]
  },
  {
   "cell_type": "raw",
   "id": "2c29a68a-f4f1-46d3-92bf-88e6d9f97e38",
   "metadata": {},
   "source": [
    "# This is another way to do it but gives you the date\n",
    "from datetime import datetime\n",
    "\n",
    "# datetime object containing current date and time\n",
    "now = datetime.now()\n",
    "\n",
    " \n",
    "print(\"now =\", now)\n",
    "print(now.mjd)"
   ]
  },
  {
   "cell_type": "code",
   "execution_count": null,
   "id": "08823d41-ad26-4217-b28c-fad1b689fd83",
   "metadata": {},
   "outputs": [],
   "source": []
  },
  {
   "cell_type": "code",
   "execution_count": 6,
   "id": "61df8f81-5721-46cc-87d9-629fb95d0181",
   "metadata": {},
   "outputs": [
    {
     "name": "stdout",
     "output_type": "stream",
     "text": [
      "Obs is younger than 2 years 63.3 days old\n"
     ]
    }
   ],
   "source": [
    "# Now get the time of right now and see their difference:\n",
    "\n",
    "nt = Time.now()\n",
    "#ut = Time(datetime.utcnow())\n",
    "\n",
    "\n",
    "\n",
    "if nt.mjd - t1 > 2*365:\n",
    "    print(f'Obs is older than 2 years {round(nt.mjd - t1,1)} days old')\n",
    "else:\n",
    "    print(f'Obs is younger than 2 years {round(nt.mjd - t1,1)} days old')"
   ]
  },
  {
   "cell_type": "code",
   "execution_count": 7,
   "id": "baf48410-6115-4a9a-98a5-f7f026b978c4",
   "metadata": {},
   "outputs": [
    {
     "name": "stdout",
     "output_type": "stream",
     "text": [
      "59170.66263853213\n"
     ]
    }
   ],
   "source": [
    "print(nt.mjd - 2*365)"
   ]
  },
  {
   "cell_type": "markdown",
   "id": "44a1d1c8-bc0c-4588-a106-d8bb5725a52e",
   "metadata": {},
   "source": [
    "### Is there a way to modify the below query to include a time restriction?\n"
   ]
  },
  {
   "cell_type": "code",
   "execution_count": 8,
   "id": "b0f2b47c-8391-4ee6-bb84-dd57d26b157b",
   "metadata": {},
   "outputs": [],
   "source": [
    "# Import the Rubin TAP service utilities\n",
    "from lsst.rsp import get_tap_service, retrieve_query\n",
    "\n",
    "import lsst.daf.butler as dafButler\n",
    "import lsst.geom\n",
    "import lsst.afw.display as afwDisplay\n",
    "\n",
    "plt.style.use('tableau-colorblind10')\n",
    "%matplotlib inline\n",
    "\n",
    "import warnings\n",
    "from astropy.units import UnitsWarning\n",
    "import pandas\n",
    "\n",
    "#initializing Tap and Butler\n",
    "pandas.set_option('display.max_rows', 20)\n",
    "warnings.simplefilter(\"ignore\", category=UnitsWarning)\n",
    "service = get_tap_service()\n",
    "assert service is not None\n",
    "assert service.baseurl == \"https://data.lsst.cloud/api/tap\""
   ]
  },
  {
   "cell_type": "code",
   "execution_count": 9,
   "id": "52708223-1ecc-422f-b85d-65e03a0f0113",
   "metadata": {},
   "outputs": [],
   "source": [
    "max_rec=10 # make 100 for full subject set test\n",
    "use_center_coords = \"62, -37\"\n",
    "use_radius = \"1.0\""
   ]
  },
  {
   "cell_type": "code",
   "execution_count": 10,
   "id": "c390a9ad-2744-4406-839c-9652edc5879c",
   "metadata": {},
   "outputs": [],
   "source": [
    "### Modify the query"
   ]
  },
  {
   "cell_type": "code",
   "execution_count": 18,
   "id": "3c1af64a-7a87-424a-a881-ae05a1b855f6",
   "metadata": {},
   "outputs": [
    {
     "name": "stdout",
     "output_type": "stream",
     "text": [
      "<Table length=10>\n",
      "      objectId       coord_ra   coord_dec  ... r_extendedness r_inputCount\n",
      "                       deg         deg     ...                            \n",
      "       int64         float64     float64   ...    float64        int32    \n",
      "------------------- ---------- ----------- ... -------------- ------------\n",
      "1567965153859768169 61.6998044 -37.2739044 ...            1.0          106\n",
      "1650947495431285770 61.1583878 -36.3657651 ...            1.0          105\n",
      "1651448872733547971 62.5770683 -36.1977335 ...            1.0          116\n",
      "1651536833663756158 61.8484527 -36.1061415 ...            1.0          105\n",
      "1651325727431231924 62.7137842 -36.6836861 ...            1.0          117\n",
      "1651334523524249766 62.3059651 -36.7486842 ...            1.0          110\n",
      "1650894718873158112 60.8890681 -36.5646567 ...            1.0          107\n",
      "1651466464919580824 62.1611157  -36.333154 ...            1.0          107\n",
      "1651325727431231922 62.6921133 -36.6985965 ...            1.0          112\n",
      "1651528037570737542 62.2537238 -36.0866619 ...            1.0          107\n"
     ]
    }
   ],
   "source": [
    "# This was the original query from the Citizen_Science_Testing.ipynb tutorial\n",
    "# also, from the tutorial notebooks from RSP\n",
    "# I've modified it to have obj.whatever\n",
    "query = \"SELECT TOP \" + str(max_rec) + \" \" + \\\n",
    "        \"obj.objectId, obj.coord_ra, obj.coord_dec, obj.detect_isPrimary \" + \\\n",
    "        \"g_cModelFlux, r_cModelFlux, obj.r_extendedness, obj.r_inputCount \" + \\\n",
    "        \"FROM dp02_dc2_catalogs.Object as obj \" + \\\n",
    "        \"WHERE CONTAINS(POINT('ICRS', coord_ra, coord_dec), \" + \\\n",
    "        \"CIRCLE('ICRS', \" + use_center_coords + \", \" + use_radius + \")) = 1 \" + \\\n",
    "        \"AND detect_isPrimary = 1 \" + \\\n",
    "        \"AND r_extendedness = 1 \" + \\\n",
    "        \"AND scisql_nanojanskyToAbMag(r_cModelFlux) < 18.0 \" + \\\n",
    "        \"ORDER by r_cModelFlux DESC\"\n",
    "results = service.search(query)\n",
    "print(results)"
   ]
  },
  {
   "cell_type": "code",
   "execution_count": 20,
   "id": "43ad06e4-d3d0-41a8-9911-1900953dc641",
   "metadata": {},
   "outputs": [
    {
     "name": "stdout",
     "output_type": "stream",
     "text": [
      "<Table length=2909>\n",
      "  forcedSourceId         objectId      ...  obsStartMJD     obj_rpsfMag    \n",
      "      int64               int64        ...    float64         float64      \n",
      "------------------ ------------------- ... ------------- ------------------\n",
      "104088606506766743 1568360978045760071 ... 59840.2628446  17.83935340444574\n",
      "103714381711308527 1568360978045760071 ... 59839.3510616  17.83935340444574\n",
      " 21663893961073561 1568360978045760071 ... 59634.0983496  17.83935340444574\n",
      " 21649919211232731 1568360978045760071 ... 59634.0864666  17.83935340444574\n",
      "104064967006780214 1568360978045760071 ... 59840.2414956  17.83935340444574\n",
      "103695583713194509 1568360978045760071 ... 59839.3343466  17.83935340444574\n",
      "103714381711297585 1568299405394622222 ... 59839.3510616 17.899430010103522\n",
      "104067605727300252 1568299405394622222 ... 59840.2438446 17.899430010103522\n",
      "103695583713182325 1568299405394622222 ... 59839.3343466 17.899430010103522\n",
      "104064967006762331 1568299405394622222 ... 59840.2414956 17.899430010103522\n",
      "               ...                 ... ...           ...                ...\n",
      "103716528121216187 1651308135245202065 ... 59839.3528966 17.590218979583234\n",
      "104088610801736922 1651308135245202065 ... 59840.2628446 17.590218979583234\n",
      "103695593376862978 1651308135245202065 ... 59839.3343466 17.590218979583234\n",
      " 21650463061457141 1651308135245196102 ... 59634.0869156 17.841486048754998\n",
      " 21649877335298309 1651308135245196102 ... 59634.0864666 17.841486048754998\n",
      " 21663852621998972 1651308135245196102 ... 59634.0983496 17.841486048754998\n",
      "103716526510605260 1651308135245196102 ... 59839.3528966 17.841486048754998\n",
      "103714368826389880 1651308135245196102 ... 59839.3510616 17.841486048754998\n",
      "104088589863776480 1651308135245196102 ... 59840.2628446 17.841486048754998\n",
      "103695593376857452 1651308135245196102 ... 59839.3343466 17.841486048754998\n"
     ]
    }
   ],
   "source": [
    "# Now, this is an example from RSP that uses the forcedsource catalog, the ccdvisit\n",
    "# catalog, and the objectId catalog.\n",
    "# These three are necessary because forcedsource contains the matching\n",
    "# keywords (ccdvisitID and objectId) in order to join ccdvisit with \n",
    "# the objectId.\n",
    "# ccdvisit catalog has info about the time of the exposure.\n",
    "\n",
    "# This is the direct example from the RSP:\n",
    "'''\n",
    "query = \"SELECT fs.forcedSourceId, fs.objectId, fs.ccdVisitId, fs.detect_isPrimary, \" + \\\n",
    "        \"fs.band, scisql_nanojanskyToAbMag(fs.psfFlux) as psfMag, ccd.obsStartMJD, \" + \\\n",
    "        \"scisql_nanojanskyToAbMag(obj.r_psfFlux) as obj_rpsfMag \" + \\\n",
    "        \"FROM dp02_dc2_catalogs.ForcedSource as fs \" + \\\n",
    "        \"JOIN dp02_dc2_catalogs.CcdVisit as ccd \" + \\\n",
    "        \"ON fs.ccdVisitId = ccd.ccdVisitId \" + \\\n",
    "        \"JOIN dp02_dc2_catalogs.Object as obj \" + \\\n",
    "        \"ON fs.objectId = obj.objectId \" + \\\n",
    "        \"WHERE CONTAINS(POINT('ICRS', obj.coord_ra, obj.coord_dec), \" + \\\n",
    "        \"CIRCLE('ICRS', \" + use_center_coords + \", \" + use_radius + \")) = 1 \" + \\\n",
    "        \"AND obj.detect_isPrimary = 1 \" + \\\n",
    "        \"AND obj.r_extendedness = 0 \" + \\\n",
    "        \"AND scisql_nanojanskyToAbMag(obj.r_cModelFlux) > 17.5 \" + \\\n",
    "        \"AND scisql_nanojanskyToAbMag(obj.r_cModelFlux) < 18.0 \" + \\\n",
    "        \"AND fs.band = 'r' \"\n",
    "'''\n",
    "# This is my query, with the startmjd requirement\n",
    "# here, I'm using 50 days before present 'now time' mjd\n",
    "# Eventually, we'll want to use 2*365 days, but \n",
    "# currently there aren't that many old sources\n",
    "# that meet the requirements\n",
    "query = \"SELECT fs.forcedSourceId, fs.objectId, fs.ccdVisitId, fs.detect_isPrimary, \" + \\\n",
    "        \"fs.band, scisql_nanojanskyToAbMag(fs.psfFlux) as psfMag, ccd.obsStartMJD, \" + \\\n",
    "        \"scisql_nanojanskyToAbMag(obj.r_psfFlux) as obj_rpsfMag \" + \\\n",
    "        \"FROM dp02_dc2_catalogs.ForcedSource as fs \" + \\\n",
    "        \"JOIN dp02_dc2_catalogs.CcdVisit as ccd \" + \\\n",
    "        \"ON fs.ccdVisitId = ccd.ccdVisitId \" + \\\n",
    "        \"JOIN dp02_dc2_catalogs.Object as obj \" + \\\n",
    "        \"ON fs.objectId = obj.objectId \" + \\\n",
    "        \"WHERE CONTAINS(POINT('ICRS', obj.coord_ra, obj.coord_dec), \" + \\\n",
    "        \"CIRCLE('ICRS', \" + use_center_coords + \", \" + use_radius + \")) = 1 \" + \\\n",
    "        \"AND obj.detect_isPrimary = 1 \" + \\\n",
    "        \"AND obj.r_extendedness = 0 \" + \\\n",
    "        \"AND scisql_nanojanskyToAbMag(obj.r_cModelFlux) > 17.5 \" + \\\n",
    "        \"AND scisql_nanojanskyToAbMag(obj.r_cModelFlux) < 18.0 \" + \\\n",
    "        \"AND fs.band = 'r' \" + \\\n",
    "        f\"AND ccd.obsStartMJD < {nt.mjd - 50} \"\n",
    "results = service.search(query)\n",
    "print(results)"
   ]
  },
  {
   "cell_type": "code",
   "execution_count": 16,
   "id": "eff8bd85-8897-4cdd-be43-cda5a4193720",
   "metadata": {},
   "outputs": [
    {
     "data": {
      "text/plain": [
       "59850.66263853213"
      ]
     },
     "execution_count": 16,
     "metadata": {},
     "output_type": "execute_result"
    }
   ],
   "source": [
    "nt.mjd - 50"
   ]
  },
  {
   "cell_type": "code",
   "execution_count": null,
   "id": "89f21dba-4c9f-4954-b4c3-beb7af011d3f",
   "metadata": {},
   "outputs": [],
   "source": [
    "# I'm guessing we can add this as a separate util and then incorporate it into the \n",
    "# rest of the exammples, so I'm not going to add the sending to Zooniverse stuff here."
   ]
  }
 ],
 "metadata": {
  "kernelspec": {
   "display_name": "LSST",
   "language": "python",
   "name": "lsst"
  },
  "language_info": {
   "codemirror_mode": {
    "name": "ipython",
    "version": 3
   },
   "file_extension": ".py",
   "mimetype": "text/x-python",
   "name": "python",
   "nbconvert_exporter": "python",
   "pygments_lexer": "ipython3",
   "version": "3.10.5"
  }
 },
 "nbformat": 4,
 "nbformat_minor": 5
}
