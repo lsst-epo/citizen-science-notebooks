{
 "cells": [
  {
   "cell_type": "markdown",
   "id": "c8779321-6f90-42ad-a51b-8f07a3b4bf19",
   "metadata": {},
   "source": [
    "Part of this notebook is taken from the tutorial-notebooks: 07b and 08 "
   ]
  },
  {
   "cell_type": "code",
   "execution_count": 1,
   "id": "befe41f1-f04e-4807-9ee8-3b5654202e2e",
   "metadata": {
    "execution": {
     "iopub.execute_input": "2023-03-20T15:56:10.432419Z",
     "iopub.status.busy": "2023-03-20T15:56:10.431495Z",
     "iopub.status.idle": "2023-03-20T15:56:32.860274Z",
     "shell.execute_reply": "2023-03-20T15:56:32.859488Z",
     "shell.execute_reply.started": "2023-03-20T15:56:10.432378Z"
    },
    "tags": []
   },
   "outputs": [
    {
     "name": "stdout",
     "output_type": "stream",
     "text": [
      "Installing external dependencies...\n",
      "Done installing external dependencies!\n",
      "Enter your Zooniverse credentials...\n"
     ]
    },
    {
     "name": "stdin",
     "output_type": "stream",
     "text": [
      "Username:  sreevani\n",
      " ········\n"
     ]
    },
    {
     "name": "stdout",
     "output_type": "stream",
     "text": [
      "You now are logged in to the Zooniverse platform.\n",
      "Loaded Citizen Science SDK\n"
     ]
    }
   ],
   "source": [
    "email = \"jsv1206@gmail.com\"  \n",
    "slugName = \"sreevani/test-project-sj\" \n",
    "%run Citizen_Science_SDK.ipynb"
   ]
  },
  {
   "cell_type": "code",
   "execution_count": 1,
   "id": "843a7c50-8c33-417d-8d01-b02656361681",
   "metadata": {
    "execution": {
     "iopub.execute_input": "2023-03-23T15:37:10.749910Z",
     "iopub.status.busy": "2023-03-23T15:37:10.749541Z",
     "iopub.status.idle": "2023-03-23T15:37:12.119262Z",
     "shell.execute_reply": "2023-03-23T15:37:12.118568Z",
     "shell.execute_reply.started": "2023-03-23T15:37:10.749891Z"
    },
    "tags": []
   },
   "outputs": [],
   "source": [
    "import matplotlib.pyplot as plt\n",
    "import numpy as np\n",
    "import pandas as pd\n",
    "import warnings\n",
    "from lsst.rsp import get_tap_service, retrieve_query\n",
    "import gc\n",
    "import os\n",
    "\n",
    "# Astropy\n",
    "import astropy.units as u\n",
    "from astropy.units import UnitsWarning\n",
    "from astropy.timeseries import LombScargle\n",
    "\n",
    "import matplotlib.pyplot as plt\n",
    "plt.style.use('tableau-colorblind10')\n",
    "\n",
    "from lsst.daf.butler import Butler\n",
    "import lsst.daf.butler as dafButler\n",
    "import lsst.afw.display as afwDisplay\n",
    "import lsst.geom as geom"
   ]
  },
  {
   "cell_type": "code",
   "execution_count": 2,
   "id": "d4bfb889-1681-4481-8923-86c66619bcca",
   "metadata": {
    "execution": {
     "iopub.execute_input": "2023-03-23T15:37:12.122313Z",
     "iopub.status.busy": "2023-03-23T15:37:12.122104Z",
     "iopub.status.idle": "2023-03-23T15:37:12.133480Z",
     "shell.execute_reply": "2023-03-23T15:37:12.132938Z",
     "shell.execute_reply.started": "2023-03-23T15:37:12.122297Z"
    },
    "tags": []
   },
   "outputs": [],
   "source": [
    "%matplotlib inline"
   ]
  },
  {
   "cell_type": "code",
   "execution_count": 3,
   "id": "4ee439f4-2a67-48c6-b4c6-2642637b11c9",
   "metadata": {
    "execution": {
     "iopub.execute_input": "2023-03-23T15:37:12.136145Z",
     "iopub.status.busy": "2023-03-23T15:37:12.135947Z",
     "iopub.status.idle": "2023-03-23T15:37:12.258128Z",
     "shell.execute_reply": "2023-03-23T15:37:12.257356Z",
     "shell.execute_reply.started": "2023-03-23T15:37:12.136129Z"
    },
    "tags": []
   },
   "outputs": [],
   "source": [
    "#initializing Tap and Butler\n",
    "pd.set_option('display.max_rows', 20)\n",
    "warnings.simplefilter(\"ignore\", category=UnitsWarning)\n",
    "service = get_tap_service()\n",
    "assert service is not None\n",
    "assert service.baseurl == \"https://data.lsst.cloud/api/tap\"\n",
    "\n",
    "# Use lsst.afw.display with the matplotlib backend\n",
    "afwDisplay.setDefaultBackend('matplotlib')"
   ]
  },
  {
   "cell_type": "code",
   "execution_count": 4,
   "id": "7c7a58a1-945a-467f-97d0-a9389a9122fc",
   "metadata": {
    "execution": {
     "iopub.execute_input": "2023-03-23T15:37:12.768320Z",
     "iopub.status.busy": "2023-03-23T15:37:12.767655Z",
     "iopub.status.idle": "2023-03-23T15:37:12.772729Z",
     "shell.execute_reply": "2023-03-23T15:37:12.772019Z",
     "shell.execute_reply.started": "2023-03-23T15:37:12.768292Z"
    },
    "tags": []
   },
   "outputs": [],
   "source": [
    "params = {'axes.labelsize': 24,\n",
    "          'font.size': 20,\n",
    "          'legend.fontsize': 14,\n",
    "          'xtick.major.width': 3,\n",
    "          'xtick.minor.width': 2,\n",
    "          'xtick.major.size': 12,\n",
    "          'xtick.minor.size': 6,\n",
    "          'xtick.direction': 'in',\n",
    "          'xtick.top': True,\n",
    "          'lines.linewidth': 3,\n",
    "          'axes.linewidth': 3,\n",
    "          'axes.labelweight': 3,\n",
    "          'axes.titleweight': 3,\n",
    "          'ytick.major.width': 3,\n",
    "          'ytick.minor.width': 2,\n",
    "          'ytick.major.size': 12,\n",
    "          'ytick.minor.size': 6,\n",
    "          'ytick.direction': 'in',\n",
    "          'ytick.right': True,\n",
    "          'figure.figsize': [10, 8],\n",
    "          'figure.facecolor': 'White'\n",
    "          }\n",
    "\n",
    "plt.rcParams.update(params)"
   ]
  },
  {
   "cell_type": "code",
   "execution_count": 56,
   "id": "3123d8db-46fe-4147-9ee6-eca02bb77afc",
   "metadata": {
    "execution": {
     "iopub.execute_input": "2023-03-23T19:28:59.254281Z",
     "iopub.status.busy": "2023-03-23T19:28:59.253883Z",
     "iopub.status.idle": "2023-03-23T19:28:59.258595Z",
     "shell.execute_reply": "2023-03-23T19:28:59.257936Z",
     "shell.execute_reply.started": "2023-03-23T19:28:59.254244Z"
    },
    "tags": []
   },
   "outputs": [],
   "source": [
    "plot_filter_labels = {'u':'u', 'g':'g', 'r':'r', 'i':'i', 'z':'z', 'y':'y'}\n",
    "plot_filter_colors = {'u': '#56b4e9', 'g': '#008060', 'r': '#ff4000',\n",
    "                      'i': '#850000', 'z': '#6600cc', 'y': '#000000'}\n",
    "plot_filter_symbols = {'u': 'o', 'g': '^', 'r': 'v', 'i': 's', 'z': '*', 'y': 'p'}"
   ]
  },
  {
   "cell_type": "markdown",
   "id": "9d0bad26-e21b-4ee8-9ce6-6d1e29787133",
   "metadata": {},
   "source": [
    "## Plotting functions"
   ]
  },
  {
   "cell_type": "code",
   "execution_count": 60,
   "id": "c9b1f7a7-2a84-486f-8b98-0b0e16feee85",
   "metadata": {
    "execution": {
     "iopub.execute_input": "2023-03-23T19:47:47.338003Z",
     "iopub.status.busy": "2023-03-23T19:47:47.337596Z",
     "iopub.status.idle": "2023-03-23T19:47:47.345738Z",
     "shell.execute_reply": "2023-03-23T19:47:47.344906Z",
     "shell.execute_reply.started": "2023-03-23T19:47:47.337973Z"
    },
    "tags": []
   },
   "outputs": [],
   "source": [
    "# Plot \n",
    "# def plotlc(days, magnitudes, band, out_name):\n",
    "#     fig = plt.figure(figsize=(8,8))\n",
    "#     plt.plot(days[band], magnitudes[band],\n",
    "#              'k.', ms=10)\n",
    "#     plt.minorticks_on()\n",
    "#     plt.xlabel('MJD (days)')\n",
    "#     plt.ylabel(band)\n",
    "#     plt.savefig(out_name)\n",
    "    \n",
    "#     return fig\n",
    "#     #plt.show() \n",
    "    \n",
    "def plotlc(days, magnitudes, out_name):\n",
    "    fig = plt.figure(figsize=(10,4))\n",
    "    for band in bands:\n",
    "        plt.plot(days[band], magnitudes[band],\\\n",
    "                 plot_filter_symbols[band], ms=4, label=plot_filter_labels[band])\n",
    "    plt.minorticks_on()\n",
    "    plt.xlabel('MJD (days)')\n",
    "    plt.ylabel('magnitude')\n",
    "    plt.legend('upper right')\n",
    "    plt.savefig(out_name)\n",
    "    return fig\n",
    "    #plt.show() \n",
    "    \n",
    "def make_fig(cutout_image, ra, dec, out_name):\n",
    "    \"\"\"\n",
    "    Create an image.\n",
    "    should be followed with remove_figure\n",
    "\n",
    "    Parameters\n",
    "    ----------\n",
    "    cutout_image : cutout_image from butler.get\n",
    "    out_name : file name where you'd like to save it\n",
    "    \n",
    "    \"\"\"\n",
    "    fig = plt.figure(figsize=(4, 4))\n",
    "    afw_display = afwDisplay.Display(frame=fig)\n",
    "    afw_display.scale('asinh', 'zscale')\n",
    "    afw_display.mtv(cutout_image.image)\n",
    "    \n",
    "    cutout_wcs = cutout_image.getWcs()\n",
    "    radec = geom.SpherePoint(ra, dec, geom.degrees)\n",
    "    xy = geom.PointI(cutout_wcs.skyToPixel(radec))\n",
    "    \n",
    "    afw_display.dot('x', xy.getX(), xy.getY(), size=1, ctype='orange')\n",
    "    plt.gca().axis('off')\n",
    "    plt.savefig(out_name)\n",
    "    \n",
    "    return fig\n",
    "    \n",
    "    \n",
    "def remove_figure(fig):\n",
    "    \"\"\"\n",
    "    Remove a figure to reduce memory footprint.\n",
    "\n",
    "    Parameters\n",
    "    ----------\n",
    "    fig: matplotlib.figure.Figure\n",
    "        Figure to be removed.\n",
    "\n",
    "    Returns\n",
    "    -------\n",
    "    None\n",
    "    \"\"\"\n",
    "    # get the axes and clear their images\n",
    "    for ax in fig.get_axes():\n",
    "        for im in ax.get_images():\n",
    "            im.remove()\n",
    "    fig.clf()       # clear the figure\n",
    "    plt.close(fig)  # close the figure\n",
    "\n",
    "    gc.collect()    # call the garbage collector\n",
    "    "
   ]
  },
  {
   "cell_type": "markdown",
   "id": "140ab267-315e-4b8c-8a3d-b365c945b479",
   "metadata": {},
   "source": [
    "## Creating directories to save lightcurves and coadds"
   ]
  },
  {
   "cell_type": "code",
   "execution_count": 50,
   "id": "31b6b80a-b86d-49cf-a8a3-bb5a168b8fc0",
   "metadata": {
    "execution": {
     "iopub.execute_input": "2023-03-23T19:26:51.956083Z",
     "iopub.status.busy": "2023-03-23T19:26:51.955005Z",
     "iopub.status.idle": "2023-03-23T19:26:51.959230Z",
     "shell.execute_reply": "2023-03-23T19:26:51.958560Z",
     "shell.execute_reply.started": "2023-03-23T19:26:51.956055Z"
    },
    "tags": []
   },
   "outputs": [],
   "source": [
    "plots = []\n",
    "bands = ['g','r','i']\n",
    "batch_dir = './variable_stars_output'"
   ]
  },
  {
   "cell_type": "code",
   "execution_count": 8,
   "id": "afa60cf3-f2b9-4c81-a1b2-e6c4facc011d",
   "metadata": {
    "execution": {
     "iopub.execute_input": "2023-03-23T15:37:25.278950Z",
     "iopub.status.busy": "2023-03-23T15:37:25.278153Z",
     "iopub.status.idle": "2023-03-23T15:37:25.359998Z",
     "shell.execute_reply": "2023-03-23T15:37:25.359038Z",
     "shell.execute_reply.started": "2023-03-23T15:37:25.278922Z"
    },
    "tags": []
   },
   "outputs": [
    {
     "name": "stderr",
     "output_type": "stream",
     "text": [
      "rm: cannot remove ‘./variable_stars_output/coadd_images/*’: No such file or directory\n"
     ]
    }
   ],
   "source": [
    "if os.path.isdir(batch_dir) == False:\n",
    "    os.mkdir(batch_dir)\n",
    "    \n",
    "if os.path.isdir(batch_dir+'/lc_plots') == False:\n",
    "    os.mkdir(batch_dir+'/lc_plots')\n",
    "else:\n",
    "    os.system('rm -r '+batch_dir+'/lc_plots/*')\n",
    "    \n",
    "if os.path.isdir(batch_dir+'/text_files') == False:\n",
    "    os.mkdir(batch_dir+'/text_files')\n",
    "else:\n",
    "    os.system('rm -r '+batch_dir+'/text_files/*')\n",
    "    \n",
    "if os.path.isdir(batch_dir+'/coadd_images') == False:\n",
    "    os.mkdir(batch_dir+'/coadd_images')\n",
    "else:\n",
    "    os.system('rm -r '+batch_dir+'/coadd_images/*')"
   ]
  },
  {
   "cell_type": "markdown",
   "id": "c5c3991d-09d8-493f-9c11-f558461bc4e4",
   "metadata": {},
   "source": [
    "## Query to get variable stars\n",
    "\n",
    "Selecting stars (truth_type=2)\n",
    "\n",
    "variable (is_variable = 1)\n",
    "\n",
    "is_pointsource = 1"
   ]
  },
  {
   "cell_type": "code",
   "execution_count": 9,
   "id": "060571f7-c73b-4a35-98b8-6ece29ce5b44",
   "metadata": {
    "execution": {
     "iopub.execute_input": "2023-03-23T15:37:47.471912Z",
     "iopub.status.busy": "2023-03-23T15:37:47.471137Z",
     "iopub.status.idle": "2023-03-23T15:37:47.477289Z",
     "shell.execute_reply": "2023-03-23T15:37:47.476511Z",
     "shell.execute_reply.started": "2023-03-23T15:37:47.471883Z"
    },
    "tags": []
   },
   "outputs": [],
   "source": [
    "def query_stars(ra_deg, dec_deg, radius_deg, limit):\n",
    "    #radius within which you want to query\n",
    "    query = \"SELECT mt.id_truth_type, mt.match_objectId, ts.ra, ts.dec \"\\\n",
    "            \"FROM dp02_dc2_catalogs.MatchesTruth AS mt \"\\\n",
    "            \"JOIN dp02_dc2_catalogs.TruthSummary AS ts ON mt.id_truth_type = ts.id_truth_type \"\\\n",
    "            \"WHERE ts.truth_type=2 \"\\\n",
    "            \"AND ts.is_variable = 1 \"\\\n",
    "            \"AND ts.is_pointsource = 1 \"\\\n",
    "            \"AND mt.match_objectId > 1 \"\\\n",
    "            \"AND CONTAINS(POINT('ICRS', ts.ra, ts.dec), CIRCLE('ICRS', \"+ str(ra_deg)+\", \"+str(dec_deg)+\", \"+str(radius_deg)+\")) <= 1 \"\\\n",
    "            \"LIMIT \"+str(limit)+\" \"\n",
    "    results = service.search(query)\n",
    "    variable_stars = results.to_table().to_pandas()\n",
    "    return variable_stars\n",
    "\n",
    "def query_one_star(ra_deg, dec_deg, radius_deg, limit):\n",
    "    #radius within which you want to query\n",
    "    \n",
    "    query = \"SELECT mt.id_truth_type, mt.match_objectId, ts.ra, ts.dec \"\\\n",
    "            \"FROM dp02_dc2_catalogs.MatchesTruth AS mt \"\\\n",
    "            \"JOIN dp02_dc2_catalogs.TruthSummary AS ts ON mt.id_truth_type = ts.id_truth_type \"\\\n",
    "            \"WHERE ts.truth_type=2 \"\\\n",
    "            \"AND ts.is_variable = 1 \"\\\n",
    "            \"AND ts.is_pointsource = 1 \"\\\n",
    "            \"AND mt.match_objectId > 1 \"\\\n",
    "            \"AND CONTAINS(POINT('ICRS', ts.ra, ts.dec), CIRCLE('ICRS', \"+ str(ra_deg)+\", \"+str(dec_deg)+\", \"+str(radius_deg)+\")) = 1 \"\\\n",
    "            \"LIMIT \"+str(limit)+\" \"\n",
    "    results = service.search(query)\n",
    "    variable_stars = results.to_table().to_pandas()\n",
    "    return variable_stars"
   ]
  },
  {
   "cell_type": "code",
   "execution_count": 13,
   "id": "fb35503f-955f-490b-9100-d8bec98bbb1f",
   "metadata": {
    "execution": {
     "iopub.execute_input": "2023-03-23T15:38:33.006564Z",
     "iopub.status.busy": "2023-03-23T15:38:33.005835Z",
     "iopub.status.idle": "2023-03-23T15:38:34.223265Z",
     "shell.execute_reply": "2023-03-23T15:38:34.222649Z",
     "shell.execute_reply.started": "2023-03-23T15:38:33.006539Z"
    },
    "tags": []
   },
   "outputs": [
    {
     "name": "stdout",
     "output_type": "stream",
     "text": [
      "CPU times: user 8.14 ms, sys: 1.03 ms, total: 9.16 ms\n",
      "Wall time: 1.21 s\n"
     ]
    }
   ],
   "source": [
    "%%time\n",
    "#Let's look at one RR-Lyrae\n",
    "ra_known_rrl = 62.1479031\n",
    "dec_known_rrl = -35.799138\n",
    "\n",
    "#if you want to query multiple stars within a radius\n",
    "#variable_stars = query_one_star(ra_known_rrl, dec_known_rrl, 0.001,10)\n",
    "\n",
    "#query one star\n",
    "variable_stars = query_one_star(ra_known_rrl, dec_known_rrl, 0.001,10)"
   ]
  },
  {
   "cell_type": "code",
   "execution_count": 14,
   "id": "95edb413-f9bd-4911-b1fd-c970c12ad4f2",
   "metadata": {
    "execution": {
     "iopub.execute_input": "2023-03-23T15:38:34.850704Z",
     "iopub.status.busy": "2023-03-23T15:38:34.850022Z",
     "iopub.status.idle": "2023-03-23T15:38:34.857616Z",
     "shell.execute_reply": "2023-03-23T15:38:34.857021Z",
     "shell.execute_reply.started": "2023-03-23T15:38:34.850681Z"
    },
    "tags": []
   },
   "outputs": [
    {
     "data": {
      "text/html": [
       "<div>\n",
       "<style scoped>\n",
       "    .dataframe tbody tr th:only-of-type {\n",
       "        vertical-align: middle;\n",
       "    }\n",
       "\n",
       "    .dataframe tbody tr th {\n",
       "        vertical-align: top;\n",
       "    }\n",
       "\n",
       "    .dataframe thead th {\n",
       "        text-align: right;\n",
       "    }\n",
       "</style>\n",
       "<table border=\"1\" class=\"dataframe\">\n",
       "  <thead>\n",
       "    <tr style=\"text-align: right;\">\n",
       "      <th></th>\n",
       "      <th>id_truth_type</th>\n",
       "      <th>match_objectId</th>\n",
       "      <th>ra</th>\n",
       "      <th>dec</th>\n",
       "    </tr>\n",
       "  </thead>\n",
       "  <tbody>\n",
       "    <tr>\n",
       "      <th>0</th>\n",
       "      <td>835714_2</td>\n",
       "      <td>1651589610221899038</td>\n",
       "      <td>62.147903</td>\n",
       "      <td>-35.799138</td>\n",
       "    </tr>\n",
       "  </tbody>\n",
       "</table>\n",
       "</div>"
      ],
      "text/plain": [
       "  id_truth_type       match_objectId         ra        dec\n",
       "0      835714_2  1651589610221899038  62.147903 -35.799138"
      ]
     },
     "execution_count": 14,
     "metadata": {},
     "output_type": "execute_result"
    }
   ],
   "source": [
    "variable_stars"
   ]
  },
  {
   "cell_type": "markdown",
   "id": "450eb5ef-82af-450d-b386-f653467a17e6",
   "metadata": {},
   "source": [
    "## Query to get the flux at all the bands"
   ]
  },
  {
   "cell_type": "code",
   "execution_count": 15,
   "id": "01c89534-b398-48c5-9f03-9d9999a70a14",
   "metadata": {
    "execution": {
     "iopub.execute_input": "2023-03-23T15:38:44.651752Z",
     "iopub.status.busy": "2023-03-23T15:38:44.651040Z",
     "iopub.status.idle": "2023-03-23T15:38:44.656113Z",
     "shell.execute_reply": "2023-03-23T15:38:44.655548Z",
     "shell.execute_reply.started": "2023-03-23T15:38:44.651729Z"
    },
    "tags": []
   },
   "outputs": [],
   "source": [
    "def query_flux(objid):\n",
    "    query = \"SELECT src.band, src.ccdVisitId, src.coord_ra, src.coord_dec, \"\\\n",
    "            \"src.objectId, src.psfFlux, src.psfFluxErr, \"\\\n",
    "            \"scisql_nanojanskyToAbMag(psfFlux) as psfMag, \"\\\n",
    "            \"visinfo.band, \"\\\n",
    "            \"visinfo.expMidptMJD \"\\\n",
    "            \"FROM dp02_dc2_catalogs.ForcedSource as src \"\\\n",
    "            \"JOIN dp02_dc2_catalogs.CcdVisit as visinfo \"\\\n",
    "            \"ON visinfo.ccdVisitId = src.ccdVisitId \"\\\n",
    "            \"WHERE src.objectId = \"+str(objid)+\" \"\n",
    "    lc = service.search(query)\n",
    "    flux_allbands = lc.to_table()\n",
    "    # Create masks for the bands\n",
    "    pick = {}\n",
    "    for filter in plot_filter_labels:\n",
    "        pick[filter] = (flux_allbands['band'] == filter)\n",
    "    mjd_days = {}\n",
    "    mags = {}\n",
    "    for filter in plot_filter_labels:\n",
    "        mjd_days[filter] = np.array(flux_allbands[pick[filter]]['expMidptMJD']) * u.day\n",
    "        mags[filter] = np.array(flux_allbands[pick[filter]]['psfMag'])\n",
    "        \n",
    "    return mjd_days, mags"
   ]
  },
  {
   "cell_type": "markdown",
   "id": "7efd312e-86a3-49e1-b1ea-e1714b32755a",
   "metadata": {},
   "source": [
    "## Query coadd images from Butler"
   ]
  },
  {
   "cell_type": "code",
   "execution_count": 13,
   "id": "9b0d1aca-2aaa-4af8-b071-fdce3177e651",
   "metadata": {
    "execution": {
     "iopub.execute_input": "2023-03-20T15:59:21.605669Z",
     "iopub.status.busy": "2023-03-20T15:59:21.604536Z",
     "iopub.status.idle": "2023-03-20T15:59:24.788698Z",
     "shell.execute_reply": "2023-03-20T15:59:24.787910Z",
     "shell.execute_reply.started": "2023-03-20T15:59:21.605632Z"
    },
    "tags": []
   },
   "outputs": [],
   "source": [
    "config = 'dp02'\n",
    "collection = '2.2i/runs/DP0.2'\n",
    "butler = dafButler.Butler(config, collections=collection)\n",
    "skymap = butler.get('skyMap')\n",
    "image_size = 100 #pixels"
   ]
  },
  {
   "cell_type": "code",
   "execution_count": 14,
   "id": "ab3d3c2c-22b1-4b49-ae8d-68f38fdfb767",
   "metadata": {
    "execution": {
     "iopub.execute_input": "2023-03-20T15:59:27.044682Z",
     "iopub.status.busy": "2023-03-20T15:59:27.043823Z",
     "iopub.status.idle": "2023-03-20T15:59:27.050533Z",
     "shell.execute_reply": "2023-03-20T15:59:27.049688Z",
     "shell.execute_reply.started": "2023-03-20T15:59:27.044652Z"
    },
    "tags": []
   },
   "outputs": [],
   "source": [
    "# From Melissa Graham's notebook and from Zooniverse testing\n",
    "# https://github.com/rubin-dp0/cst-dev/blob/main/MLG_sandbox/DP02/citsci_sample_demo.ipynb\n",
    "\n",
    "def get_cutout_image(ra_deg,dec_deg,band,datasetType='deepCoadd',cutoutSideLength=image_size):\n",
    "    \"\"\"\n",
    "    get the tract and patch of a source. currently retrieves i band only. \n",
    "\n",
    "    Parameters\n",
    "    ----------\n",
    "    ra : ra of source in degrees\n",
    "    dec : dec of source in degrees\n",
    "    \n",
    "    \"\"\"\n",
    "    cutoutSize = geom.ExtentI(cutoutSideLength, cutoutSideLength)\n",
    "    \n",
    "    spherePoint = geom.SpherePoint(ra_deg*geom.degrees, dec_deg*geom.degrees)\n",
    "    tract = skymap.findTract(spherePoint)\n",
    "    patch = tract.findPatch(spherePoint)\n",
    "    xy = geom.PointI(tract.getWcs().skyToPixel(spherePoint))\n",
    "    bbox = geom.BoxI(xy - cutoutSize // 2, cutoutSize)\n",
    "    \n",
    "    my_tract = tract.getId()\n",
    "    my_patch = tract.getSequentialPatchIndex(patch)\n",
    "    \n",
    "    parameters = {'bbox': bbox}\n",
    "    dataId = {'band': band, 'tract': my_tract, 'patch': my_patch}\n",
    "    cutout_image = butler.get(datasetType, dataId=dataId, parameters=parameters)\n",
    "    return cutout_image"
   ]
  },
  {
   "cell_type": "code",
   "execution_count": 15,
   "id": "92af02cb-492c-485a-a88a-f9d60c65712e",
   "metadata": {
    "execution": {
     "iopub.execute_input": "2023-03-20T15:59:43.732959Z",
     "iopub.status.busy": "2023-03-20T15:59:43.732600Z",
     "iopub.status.idle": "2023-03-20T15:59:43.736676Z",
     "shell.execute_reply": "2023-03-20T15:59:43.735979Z",
     "shell.execute_reply.started": "2023-03-20T15:59:43.732937Z"
    },
    "tags": []
   },
   "outputs": [],
   "source": [
    "# for index, row in variable_stars[0:2].iterrows():\n",
    "#     for band in bands:\n",
    "#         deepCoadd= get_cutout_image(row['ra'],row['dec'],band,datasetType='calexp')\n",
    "#         figout = make_fig(deepCoadd, row['ra'],row['dec'],batch_dir+\"/coadd_images/\"+str(row['id_truth_type'])+\"_\"+band+\".png\")\n",
    "#         remove_figure(figout)"
   ]
  },
  {
   "cell_type": "code",
   "execution_count": 16,
   "id": "0f5fcd83-fafc-43a9-aaea-462e8c8a8ce9",
   "metadata": {
    "execution": {
     "iopub.execute_input": "2023-03-20T15:59:48.829819Z",
     "iopub.status.busy": "2023-03-20T15:59:48.828782Z",
     "iopub.status.idle": "2023-03-20T16:00:27.672487Z",
     "shell.execute_reply": "2023-03-20T16:00:27.671580Z",
     "shell.execute_reply.started": "2023-03-20T15:59:48.829788Z"
    },
    "tags": []
   },
   "outputs": [],
   "source": [
    "for index, row in variable_stars[0:5].iterrows():\n",
    "    for band in bands:\n",
    "        deepCoadd= get_cutout_image(row['ra'],row['dec'],band,datasetType='deepCoadd')\n",
    "        figout = make_fig(deepCoadd, row['ra'],row['dec'],batch_dir+\"/coadd_images/\"+str(row['id_truth_type'])+\"_\"+band+\".png\")\n",
    "        remove_figure(figout)"
   ]
  },
  {
   "cell_type": "markdown",
   "id": "902d497c-8227-4af8-ab4f-28dd4317dc3b",
   "metadata": {},
   "source": [
    "## Plotting images and text files of the light curves"
   ]
  },
  {
   "cell_type": "markdown",
   "id": "4e7e83cd-78bf-45dc-97fe-10cbfefd857a",
   "metadata": {},
   "source": [
    "Normalize the magnitudes\n",
    "\n",
    "Try to get rid of multiple loops"
   ]
  },
  {
   "cell_type": "code",
   "execution_count": 39,
   "id": "463df486-7a74-402c-954c-906505791dc7",
   "metadata": {
    "execution": {
     "iopub.execute_input": "2023-03-23T15:58:03.234472Z",
     "iopub.status.busy": "2023-03-23T15:58:03.233731Z",
     "iopub.status.idle": "2023-03-23T15:58:03.982245Z",
     "shell.execute_reply": "2023-03-23T15:58:03.981448Z",
     "shell.execute_reply.started": "2023-03-23T15:58:03.234446Z"
    },
    "tags": []
   },
   "outputs": [
    {
     "name": "stdout",
     "output_type": "stream",
     "text": [
      "CPU times: user 518 ms, sys: 61.2 ms, total: 579 ms\n",
      "Wall time: 742 ms\n"
     ]
    }
   ],
   "source": [
    "%%time\n",
    "for index, row in variable_stars.iterrows():\n",
    "    df_all_bands = []\n",
    "    mjd_days, mags = query_flux(row['match_objectId'])\n",
    "    figout = plotlc(mjd_days, mags, batch_dir+\"/lc_plots/\"+\"lc_\"+str(row['match_objectId'])+\".png\")\n",
    "    remove_figure(figout) \n",
    "    for band in bands:\n",
    "        df = pd.DataFrame(data = {'band': [band]*len(mjd_days[band]), 'mjd_days': mjd_days[band], \\\n",
    "                          'mags': mags[band]}, index=None)\n",
    "        df_all_bands.append(df)\n",
    "    \n",
    "    df_final = pd.concat(df_all_bands)\n",
    "    outfile = batch_dir+\"/text_files/\"+\"lc_\"+str(row['match_objectId'])+\".csv\"\n",
    "    df_final.to_csv(outfile, index=False, sep=',')"
   ]
  },
  {
   "cell_type": "markdown",
   "id": "f22a496d-0e2f-4d58-9469-3120e5446a67",
   "metadata": {},
   "source": [
    "# Create csv for Zooniverse flipbook \n",
    "\n",
    "https://help.zooniverse.org/getting-started/example/#details-subject-sets-and-manifest-details-aka-what-is-a-manifesthttps://help.zooniverse.org/getting-started/example/#details-subject-sets-and-manifest-details-aka-what-is-a-manifest"
   ]
  },
  {
   "cell_type": "code",
   "execution_count": 21,
   "id": "7a41799f-dddb-45d7-949c-2b3b9e29e11c",
   "metadata": {
    "execution": {
     "iopub.execute_input": "2023-03-20T16:02:16.863210Z",
     "iopub.status.busy": "2023-03-20T16:02:16.862258Z",
     "iopub.status.idle": "2023-03-20T16:02:16.877427Z",
     "shell.execute_reply": "2023-03-20T16:02:16.876397Z",
     "shell.execute_reply.started": "2023-03-20T16:02:16.863138Z"
    },
    "tags": []
   },
   "outputs": [],
   "source": [
    "df_row = []\n",
    "for index, row in variable_stars[0:2].iterrows():\n",
    "    df = pd.DataFrame(data = {'band_g': str(row['id_truth_type'])+\"_g.png\", \n",
    "                              'band_r': str(row['id_truth_type'])+\"_r.png\",\n",
    "                              'band_i': str(row['id_truth_type'])+\"_i.png\"}, index=[0])\n",
    "    df_row.append(df)\n",
    "    \n",
    "df_manifest = pd.concat(df_row)\n",
    "\n",
    "outfile = batch_dir+\"/flipbook_manifest.csv\"\n",
    "df_manifest.to_csv(outfile, index=False, sep=',')"
   ]
  },
  {
   "cell_type": "markdown",
   "id": "83fcc033-0d3b-49bc-a99d-5d1fa70102b0",
   "metadata": {},
   "source": [
    "# Send data to Zooniverse"
   ]
  },
  {
   "cell_type": "code",
   "execution_count": 22,
   "id": "c430ddd2-a0f2-4587-b605-642cdaeaed54",
   "metadata": {
    "execution": {
     "iopub.execute_input": "2023-03-20T16:03:55.048978Z",
     "iopub.status.busy": "2023-03-20T16:03:55.048262Z",
     "iopub.status.idle": "2023-03-20T16:03:55.056418Z",
     "shell.execute_reply": "2023-03-20T16:03:55.055413Z",
     "shell.execute_reply.started": "2023-03-20T16:03:55.048943Z"
    },
    "tags": []
   },
   "outputs": [],
   "source": [
    "cutouts = []\n",
    "fields_to_add = [\"objectId\", \"coord_ra\", \"coord_dec\", \"detect_isPrimary\", \"g_cModelFlux\", \"r_cModelFlux\", \"r_extendedness\", \"r_inputCount\"]\n",
    "\n",
    "for index, row in variable_stars[0:5].iterrows():\n",
    "    for band in bands:\n",
    "        figout_data = {\n",
    "        \"filename\": str(row['id_truth_type'])+\"_\"+band+\".png\",\n",
    "        \"edc_ver_id\": 'xxx',    \n",
    "        \"objectId\": row['id_truth_type']\n",
    "        }\n",
    "        \n",
    "        if \"coord_ra\" in fields_to_add:\n",
    "            figout_data[\"coord_ra\"] = row['ra']\n",
    "        if \"coord_dec\" in fields_to_add:\n",
    "            figout_data[\"coord_dec\"] = row['dec']\n",
    "        if \"g_cModelFlux\" in fields_to_add:\n",
    "            figout_data[\"g_cModelFlux\"] = True\n",
    "        if \"r_cModelFlux\" in fields_to_add:\n",
    "            figout_data[\"r_cModelFlux\"] = 26.5\n",
    "        if \"r_extendedness\" in fields_to_add:\n",
    "            figout_data[\"r_extendedness\"] = 1.0\n",
    "        if \"r_inputCount\" in fields_to_add:\n",
    "            figout_data[\"r_inputCount\"] = 1.0\n",
    "        cutouts.append(figout_data)\n",
    "        \n",
    "cutout_dir = batch_dir+\"/coadd_images/\""
   ]
  },
  {
   "cell_type": "code",
   "execution_count": 23,
   "id": "c67fffa2-ee81-4c51-8ca6-d88991c5b646",
   "metadata": {
    "execution": {
     "iopub.execute_input": "2023-03-20T16:04:01.253611Z",
     "iopub.status.busy": "2023-03-20T16:04:01.253203Z",
     "iopub.status.idle": "2023-03-20T16:04:01.259014Z",
     "shell.execute_reply": "2023-03-20T16:04:01.258330Z",
     "shell.execute_reply.started": "2023-03-20T16:04:01.253585Z"
    },
    "tags": []
   },
   "outputs": [
    {
     "data": {
      "text/plain": [
       "['filename',\n",
       " 'edc_ver_id',\n",
       " 'objectId',\n",
       " 'coord_ra',\n",
       " 'coord_dec',\n",
       " 'g_cModelFlux',\n",
       " 'r_cModelFlux',\n",
       " 'r_extendedness',\n",
       " 'r_inputCount']"
      ]
     },
     "execution_count": 23,
     "metadata": {},
     "output_type": "execute_result"
    }
   ],
   "source": [
    "list(cutouts[0].keys())"
   ]
  },
  {
   "cell_type": "code",
   "execution_count": 24,
   "id": "c08f519a-0ff4-4c2b-9d73-1bf632c20db9",
   "metadata": {
    "execution": {
     "iopub.execute_input": "2023-03-20T16:04:01.950986Z",
     "iopub.status.busy": "2023-03-20T16:04:01.949910Z",
     "iopub.status.idle": "2023-03-20T16:04:01.954307Z",
     "shell.execute_reply": "2023-03-20T16:04:01.953537Z",
     "shell.execute_reply.started": "2023-03-20T16:04:01.950956Z"
    },
    "tags": []
   },
   "outputs": [],
   "source": [
    "subject_set_name = \"variable stars cutouts\" "
   ]
  },
  {
   "cell_type": "code",
   "execution_count": 25,
   "id": "35016218-8203-4752-8f6f-9a302b140503",
   "metadata": {
    "execution": {
     "iopub.execute_input": "2023-03-20T16:04:04.186691Z",
     "iopub.status.busy": "2023-03-20T16:04:04.185884Z",
     "iopub.status.idle": "2023-03-20T16:04:11.486549Z",
     "shell.execute_reply": "2023-03-20T16:04:11.485797Z",
     "shell.execute_reply.started": "2023-03-20T16:04:04.186658Z"
    },
    "tags": []
   },
   "outputs": [
    {
     "data": {
      "text/plain": [
       "'1. Checking batch status'"
      ]
     },
     "metadata": {},
     "output_type": "display_data"
    },
    {
     "data": {
      "text/plain": [
       "'2. Writing metadata file required by the Rubin EPO Data Center.'"
      ]
     },
     "metadata": {},
     "output_type": "display_data"
    },
    {
     "data": {
      "text/plain": [
       "'3. Zipping up all the astro cutouts - this can take a few minutes with large data sets, but unlikely more than 10 minutes.'"
      ]
     },
     "metadata": {},
     "output_type": "display_data"
    },
    {
     "data": {
      "text/plain": [
       "'4. Uploading the citizen science data'"
      ]
     },
     "metadata": {},
     "output_type": "display_data"
    },
    {
     "data": {
      "text/plain": [
       "'5. Creating a new Zooniverse subject set'"
      ]
     },
     "metadata": {},
     "output_type": "display_data"
    },
    {
     "data": {
      "text/plain": [
       "'6. Notifying the Rubin EPO Data Center of the new data, which will finish processing of the data and notify Zooniverse'"
      ]
     },
     "metadata": {},
     "output_type": "display_data"
    },
    {
     "data": {
      "text/plain": [
       "'7. Cleaning up unused subject set on the Zooniverse platform, vendor_batch_id : 112310'"
      ]
     },
     "metadata": {},
     "output_type": "display_data"
    },
    {
     "data": {
      "text/html": [
       "<pre style=\"margin: 0.1em;\n",
       "padding-left: 0.25em;\n",
       "border-left-style: solid;\n",
       "font-family: var(--jp-code-font-family);\n",
       "font-size: var(--jp-code-font-size);\n",
       "line-height: var(--jp-code-line-height);\n",
       "\"><span style=\"color: var(--jp-warn-color2)\">root</span> <span style=\"color: var(--jp-error-color2)\">ERROR</span>: ** One or more errors occurred during the last step **</pre>"
      ],
      "text/plain": [
       "<IPython.core.display.HTML object>"
      ]
     },
     "metadata": {},
     "output_type": "display_data"
    },
    {
     "data": {
      "text/html": [
       "<pre style=\"margin: 0.1em;\n",
       "padding-left: 0.25em;\n",
       "border-left-style: solid;\n",
       "font-family: var(--jp-code-font-family);\n",
       "font-size: var(--jp-code-font-size);\n",
       "line-height: var(--jp-code-line-height);\n",
       "\"><span style=\"color: var(--jp-warn-color2)\">root</span> <span style=\"color: var(--jp-error-color2)\">ERROR</span>: [&#x27;You currently have an active batch of data on the Zooniverse platform and cannot create a new batch until the current batch has been completed.&#x27;]</pre>"
      ],
      "text/plain": [
       "<IPython.core.display.HTML object>"
      ]
     },
     "metadata": {},
     "output_type": "display_data"
    },
    {
     "data": {
      "text/html": [
       "<pre style=\"margin: 0.1em;\n",
       "padding-left: 0.25em;\n",
       "border-left-style: solid;\n",
       "font-family: var(--jp-code-font-family);\n",
       "font-size: var(--jp-code-font-size);\n",
       "line-height: var(--jp-code-line-height);\n",
       "\"><span style=\"color: var(--jp-warn-color2)\">root</span> <span style=\"color: var(--jp-error-color2)\">ERROR</span>: Email address: jsv1206@gmail.com</pre>"
      ],
      "text/plain": [
       "<IPython.core.display.HTML object>"
      ]
     },
     "metadata": {},
     "output_type": "display_data"
    },
    {
     "data": {
      "text/html": [
       "<pre style=\"margin: 0.1em;\n",
       "padding-left: 0.25em;\n",
       "border-left-style: solid;\n",
       "font-family: var(--jp-code-font-family);\n",
       "font-size: var(--jp-code-font-size);\n",
       "line-height: var(--jp-code-line-height);\n",
       "\"><span style=\"color: var(--jp-warn-color2)\">root</span> <span style=\"color: var(--jp-error-color2)\">ERROR</span>: Timestamp: 2023-03-20 09:04:11.483409-07:00</pre>"
      ],
      "text/plain": [
       "<IPython.core.display.HTML object>"
      ]
     },
     "metadata": {},
     "output_type": "display_data"
    }
   ],
   "source": [
    "__cit_sci_data_type = _HIPS_CUTOUTS # Important: DO NOT change this value. Update - this value may be changed.\n",
    "send_data(subject_set_name, cutout_dir, cutouts)"
   ]
  },
  {
   "cell_type": "code",
   "execution_count": null,
   "id": "2cfb8780-569f-489c-98ea-d750e568d325",
   "metadata": {},
   "outputs": [],
   "source": []
  }
 ],
 "metadata": {
  "kernelspec": {
   "display_name": "LSST",
   "language": "python",
   "name": "lsst"
  },
  "language_info": {
   "codemirror_mode": {
    "name": "ipython",
    "version": 3
   },
   "file_extension": ".py",
   "mimetype": "text/x-python",
   "name": "python",
   "nbconvert_exporter": "python",
   "pygments_lexer": "ipython3",
   "version": "3.10.9"
  }
 },
 "nbformat": 4,
 "nbformat_minor": 5
}
