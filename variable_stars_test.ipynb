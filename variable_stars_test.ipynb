{
 "cells": [
  {
   "cell_type": "markdown",
   "id": "c8779321-6f90-42ad-a51b-8f07a3b4bf19",
   "metadata": {},
   "source": [
    "Part of this notebook is taken from the tutorial-notebooks: 07b and 08 "
   ]
  },
  {
   "cell_type": "code",
   "execution_count": 1,
   "id": "843a7c50-8c33-417d-8d01-b02656361681",
   "metadata": {},
   "outputs": [],
   "source": [
    "import matplotlib.pyplot as plt\n",
    "import numpy as np\n",
    "import pandas\n",
    "import warnings\n",
    "from lsst.rsp import get_tap_service, retrieve_query\n",
    "import gc\n",
    "\n",
    "# Astropy\n",
    "import astropy.units as u\n",
    "from astropy.units import UnitsWarning\n",
    "from astropy.timeseries import LombScargle\n",
    "\n",
    "import matplotlib.pyplot as plt\n",
    "plt.style.use('tableau-colorblind10')"
   ]
  },
  {
   "cell_type": "code",
   "execution_count": 2,
   "id": "d4bfb889-1681-4481-8923-86c66619bcca",
   "metadata": {},
   "outputs": [],
   "source": [
    "%matplotlib inline"
   ]
  },
  {
   "cell_type": "code",
   "execution_count": 3,
   "id": "7c7a58a1-945a-467f-97d0-a9389a9122fc",
   "metadata": {},
   "outputs": [],
   "source": [
    "params = {'axes.labelsize': 24,\n",
    "          'font.size': 20,\n",
    "          'legend.fontsize': 14,\n",
    "          'xtick.major.width': 3,\n",
    "          'xtick.minor.width': 2,\n",
    "          'xtick.major.size': 12,\n",
    "          'xtick.minor.size': 6,\n",
    "          'xtick.direction': 'in',\n",
    "          'xtick.top': True,\n",
    "          'lines.linewidth': 3,\n",
    "          'axes.linewidth': 3,\n",
    "          'axes.labelweight': 3,\n",
    "          'axes.titleweight': 3,\n",
    "          'ytick.major.width': 3,\n",
    "          'ytick.minor.width': 2,\n",
    "          'ytick.major.size': 12,\n",
    "          'ytick.minor.size': 6,\n",
    "          'ytick.direction': 'in',\n",
    "          'ytick.right': True,\n",
    "          'figure.figsize': [10, 8],\n",
    "          'figure.facecolor': 'White'\n",
    "          }\n",
    "\n",
    "plt.rcParams.update(params)"
   ]
  },
  {
   "cell_type": "code",
   "execution_count": 4,
   "id": "3123d8db-46fe-4147-9ee6-eca02bb77afc",
   "metadata": {},
   "outputs": [],
   "source": [
    "plot_filter_labels = ['u', 'g', 'r', 'i', 'z', 'y']\n",
    "plot_filter_colors = {'u': '#56b4e9', 'g': '#008060', 'r': '#ff4000',\n",
    "                      'i': '#850000', 'z': '#6600cc', 'y': '#000000'}\n",
    "plot_filter_symbols = {'u': 'o', 'g': '^', 'r': 'v', 'i': 's', 'z': '*', 'y': 'p'}"
   ]
  },
  {
   "cell_type": "code",
   "execution_count": 5,
   "id": "6fa7f4df-6d4f-49ed-b4c7-d1ca076e085b",
   "metadata": {},
   "outputs": [],
   "source": [
    "#Initializing TAP\n",
    "service = get_tap_service()"
   ]
  },
  {
   "cell_type": "markdown",
   "id": "9d0bad26-e21b-4ee8-9ce6-6d1e29787133",
   "metadata": {},
   "source": [
    "## Plotting functions"
   ]
  },
  {
   "cell_type": "code",
   "execution_count": 11,
   "id": "c9b1f7a7-2a84-486f-8b98-0b0e16feee85",
   "metadata": {},
   "outputs": [],
   "source": [
    "# Plot \n",
    "def plotlc(days, magnitudes, band, out_name):\n",
    "    fig = plt.figure(figsize=(8,8))\n",
    "    plt.plot(days[band], magnitudes[band],\n",
    "             'k.', ms=10)\n",
    "    plt.minorticks_on()\n",
    "    plt.xlabel('MJD (days)')\n",
    "    plt.ylabel(band)\n",
    "    plt.savefig(out_name)\n",
    "    \n",
    "    return fig\n",
    "    #plt.show() \n",
    "    \n",
    "def make_figure(exp, out_name):\n",
    "    \"\"\"\n",
    "    Create an image.\n",
    "    should be followed with remove_figure\n",
    "\n",
    "    Parameters\n",
    "    ----------\n",
    "    exp : calexp from butler.get\n",
    "    out_name : file name where you'd like to save it\n",
    "    \n",
    "    \"\"\"\n",
    "    fig = plt.figure(figsize=(10, 8))\n",
    "    afw_display = afwDisplay.Display(1)\n",
    "    afw_display.scale('asinh', 'zscale')\n",
    "    afw_display.mtv(exp.image)\n",
    "    plt.gca().axis('on')\n",
    "    plt.savefig(out_name)\n",
    "    \n",
    "    return fig\n",
    "    \n",
    "def remove_figure(fig):\n",
    "    \"\"\"\n",
    "    Remove a figure to reduce memory footprint.\n",
    "\n",
    "    Parameters\n",
    "    ----------\n",
    "    fig: matplotlib.figure.Figure\n",
    "        Figure to be removed.\n",
    "\n",
    "    Returns\n",
    "    -------\n",
    "    None\n",
    "    \"\"\"\n",
    "    # get the axes and clear their images\n",
    "    for ax in fig.get_axes():\n",
    "        for im in ax.get_images():\n",
    "            im.remove()\n",
    "    fig.clf()       # clear the figure\n",
    "    plt.close(fig)  # close the figure\n",
    "\n",
    "    gc.collect()    # call the garbage collector\n",
    "    "
   ]
  },
  {
   "cell_type": "markdown",
   "id": "140ab267-315e-4b8c-8a3d-b365c945b479",
   "metadata": {},
   "source": [
    "## Creating directories to save lightcurves and coadds"
   ]
  },
  {
   "cell_type": "code",
   "execution_count": 12,
   "id": "afa60cf3-f2b9-4c81-a1b2-e6c4facc011d",
   "metadata": {},
   "outputs": [],
   "source": [
    "plots = []\n",
    "bands = ['g','r','i']\n",
    "batch_dir = \"./lightcurves/\"\n",
    "\n",
    "if os.path.isdir(batch_dir+'/lc_plots') == False:\n",
    "    os.mkdir(batch_dir+'/lc_plots')\n",
    "else:\n",
    "    os.system('rm -r '+batch_dir+'/lc_plots/*')\n",
    "    \n",
    "if os.path.isdir(batch_dir+'/text_files') == False:\n",
    "    os.mkdir(batch_dir+'/text_files')\n",
    "else:\n",
    "    os.system('rm -r '+batch_dir+'/text_files/*')\n",
    "    \n",
    "if os.path.isdir(batch_dir+'/coadd_iamges') == False:\n",
    "    os.mkdir(batch_dir+'/coadd_images')\n",
    "else:\n",
    "    os.system('rm -r '+batch_dir+'/coadd_images/*')"
   ]
  },
  {
   "cell_type": "markdown",
   "id": "c5c3991d-09d8-493f-9c11-f558461bc4e4",
   "metadata": {},
   "source": [
    "## Query to get variable stars\n",
    "\n",
    "Selecting stars (truth_type=2)\n",
    "\n",
    "variable (is_variable = 1)\n",
    "\n",
    "is_pointsource = 1"
   ]
  },
  {
   "cell_type": "code",
   "execution_count": 6,
   "id": "060571f7-c73b-4a35-98b8-6ece29ce5b44",
   "metadata": {},
   "outputs": [],
   "source": [
    "def query_stars(ra_deg, dec_deg, radius_deg, limit):\n",
    "    #radius within which you want to query\n",
    "    \n",
    "    query = \"SELECT mt.id_truth_type, mt.match_objectId, ts.ra, ts.dec \"\\\n",
    "            \"FROM dp02_dc2_catalogs.MatchesTruth AS mt \"\\\n",
    "            \"JOIN dp02_dc2_catalogs.TruthSummary AS ts ON mt.id_truth_type = ts.id_truth_type \"\\\n",
    "            \"WHERE ts.truth_type=2 \"\\\n",
    "            \"AND ts.is_variable = 1 \"\\\n",
    "            \"AND ts.is_pointsource = 1 \"\\\n",
    "            \"AND mt.match_objectId > 1 \"\\\n",
    "            \"AND CONTAINS(POINT('ICRS', ts.ra, ts.dec), CIRCLE('ICRS', \"+ str(ra_deg)+\", \"+str(dec_deg)+\", \"+str(radius_deg)+\")) <= 1 \"\\\n",
    "            \"LIMIT \"+str(limit)+\" \"\n",
    "    results = service.search(query)\n",
    "    variable_stars = results.to_table().to_pandas()\n",
    "    return variable_stars"
   ]
  },
  {
   "cell_type": "code",
   "execution_count": 7,
   "id": "fb35503f-955f-490b-9100-d8bec98bbb1f",
   "metadata": {},
   "outputs": [
    {
     "name": "stdout",
     "output_type": "stream",
     "text": [
      "CPU times: user 18.6 ms, sys: 81 µs, total: 18.7 ms\n",
      "Wall time: 4min 7s\n"
     ]
    }
   ],
   "source": [
    "%%time\n",
    "variable_stars = query_stars(62.1, -35.8, 0.10,10)"
   ]
  },
  {
   "cell_type": "code",
   "execution_count": 8,
   "id": "95edb413-f9bd-4911-b1fd-c970c12ad4f2",
   "metadata": {},
   "outputs": [
    {
     "data": {
      "text/html": [
       "<div>\n",
       "<style scoped>\n",
       "    .dataframe tbody tr th:only-of-type {\n",
       "        vertical-align: middle;\n",
       "    }\n",
       "\n",
       "    .dataframe tbody tr th {\n",
       "        vertical-align: top;\n",
       "    }\n",
       "\n",
       "    .dataframe thead th {\n",
       "        text-align: right;\n",
       "    }\n",
       "</style>\n",
       "<table border=\"1\" class=\"dataframe\">\n",
       "  <thead>\n",
       "    <tr style=\"text-align: right;\">\n",
       "      <th></th>\n",
       "      <th>id_truth_type</th>\n",
       "      <th>match_objectId</th>\n",
       "      <th>ra</th>\n",
       "      <th>dec</th>\n",
       "    </tr>\n",
       "  </thead>\n",
       "  <tbody>\n",
       "    <tr>\n",
       "      <th>0</th>\n",
       "      <td>31303792873_2</td>\n",
       "      <td>1567120728929628330</td>\n",
       "      <td>57.629630</td>\n",
       "      <td>-37.367242</td>\n",
       "    </tr>\n",
       "    <tr>\n",
       "      <th>1</th>\n",
       "      <td>30830360667_2</td>\n",
       "      <td>1567111932836619124</td>\n",
       "      <td>57.745865</td>\n",
       "      <td>-37.240226</td>\n",
       "    </tr>\n",
       "    <tr>\n",
       "      <th>2</th>\n",
       "      <td>31412100519_2</td>\n",
       "      <td>1567111932836619129</td>\n",
       "      <td>57.740697</td>\n",
       "      <td>-37.239736</td>\n",
       "    </tr>\n",
       "    <tr>\n",
       "      <th>3</th>\n",
       "      <td>31412103576_2</td>\n",
       "      <td>1567111932836617040</td>\n",
       "      <td>57.896241</td>\n",
       "      <td>-37.260708</td>\n",
       "    </tr>\n",
       "    <tr>\n",
       "      <th>4</th>\n",
       "      <td>31412103311_2</td>\n",
       "      <td>1567111932836617041</td>\n",
       "      <td>57.895600</td>\n",
       "      <td>-37.259191</td>\n",
       "    </tr>\n",
       "    <tr>\n",
       "      <th>5</th>\n",
       "      <td>31107892157_2</td>\n",
       "      <td>1567111932836619208</td>\n",
       "      <td>57.920275</td>\n",
       "      <td>-37.238498</td>\n",
       "    </tr>\n",
       "    <tr>\n",
       "      <th>6</th>\n",
       "      <td>31412124559_2</td>\n",
       "      <td>1567120728929600169</td>\n",
       "      <td>57.547503</td>\n",
       "      <td>-37.369222</td>\n",
       "    </tr>\n",
       "    <tr>\n",
       "      <th>7</th>\n",
       "      <td>31412124801_2</td>\n",
       "      <td>1567120728929600085</td>\n",
       "      <td>57.567439</td>\n",
       "      <td>-37.371151</td>\n",
       "    </tr>\n",
       "    <tr>\n",
       "      <th>8</th>\n",
       "      <td>31500868957_2</td>\n",
       "      <td>1567111932836619172</td>\n",
       "      <td>57.718898</td>\n",
       "      <td>-37.238788</td>\n",
       "    </tr>\n",
       "    <tr>\n",
       "      <th>9</th>\n",
       "      <td>31412100500_2</td>\n",
       "      <td>1567111932836619171</td>\n",
       "      <td>57.719313</td>\n",
       "      <td>-37.239139</td>\n",
       "    </tr>\n",
       "  </tbody>\n",
       "</table>\n",
       "</div>"
      ],
      "text/plain": [
       "   id_truth_type       match_objectId         ra        dec\n",
       "0  31303792873_2  1567120728929628330  57.629630 -37.367242\n",
       "1  30830360667_2  1567111932836619124  57.745865 -37.240226\n",
       "2  31412100519_2  1567111932836619129  57.740697 -37.239736\n",
       "3  31412103576_2  1567111932836617040  57.896241 -37.260708\n",
       "4  31412103311_2  1567111932836617041  57.895600 -37.259191\n",
       "5  31107892157_2  1567111932836619208  57.920275 -37.238498\n",
       "6  31412124559_2  1567120728929600169  57.547503 -37.369222\n",
       "7  31412124801_2  1567120728929600085  57.567439 -37.371151\n",
       "8  31500868957_2  1567111932836619172  57.718898 -37.238788\n",
       "9  31412100500_2  1567111932836619171  57.719313 -37.239139"
      ]
     },
     "execution_count": 8,
     "metadata": {},
     "output_type": "execute_result"
    }
   ],
   "source": [
    "variable_stars"
   ]
  },
  {
   "cell_type": "markdown",
   "id": "450eb5ef-82af-450d-b386-f653467a17e6",
   "metadata": {},
   "source": [
    "## Query to get the flux at all the bands"
   ]
  },
  {
   "cell_type": "code",
   "execution_count": 9,
   "id": "01c89534-b398-48c5-9f03-9d9999a70a14",
   "metadata": {},
   "outputs": [],
   "source": [
    "def query_flux(objid):\n",
    "    query = \"SELECT src.band, src.ccdVisitId, src.coord_ra, src.coord_dec, \"\\\n",
    "            \"src.objectId, src.psfFlux, src.psfFluxErr, \"\\\n",
    "            \"scisql_nanojanskyToAbMag(psfFlux) as psfMag, \"\\\n",
    "            \"visinfo.band, \"\\\n",
    "            \"visinfo.expMidptMJD \"\\\n",
    "            \"FROM dp02_dc2_catalogs.ForcedSource as src \"\\\n",
    "            \"JOIN dp02_dc2_catalogs.CcdVisit as visinfo \"\\\n",
    "            \"ON visinfo.ccdVisitId = src.ccdVisitId \"\\\n",
    "            \"WHERE src.objectId = \"+str(objid)+\" \"\n",
    "    lc = service.search(query)\n",
    "    flux_allbands = lc.to_table()\n",
    "    # Create masks for the bands\n",
    "    pick = {}\n",
    "    for filter in plot_filter_labels:\n",
    "        pick[filter] = (flux_allbands['band'] == filter)\n",
    "    mjd_days = {}\n",
    "    mags = {}\n",
    "    for filter in plot_filter_labels:\n",
    "        mjd_days[filter] = np.array(flux_allbands[pick[filter]]['expMidptMJD']) * u.day\n",
    "        mags[filter] = np.array(flux_allbands[pick[filter]]['psfMag'])\n",
    "        \n",
    "    return mjd_days, mags"
   ]
  },
  {
   "cell_type": "markdown",
   "id": "7efd312e-86a3-49e1-b1ea-e1714b32755a",
   "metadata": {},
   "source": [
    "## Query coadd images from Butler"
   ]
  },
  {
   "cell_type": "code",
   "execution_count": 17,
   "id": "fe15304d-a5fa-4fda-ad79-1d560851306b",
   "metadata": {},
   "outputs": [],
   "source": [
    "from lsst.daf.butler import Butler\n",
    "import lsst.daf.butler as dafButler\n",
    "import lsst.afw.display as afwDisplay"
   ]
  },
  {
   "cell_type": "code",
   "execution_count": 18,
   "id": "9b0d1aca-2aaa-4af8-b071-fdce3177e651",
   "metadata": {},
   "outputs": [
    {
     "data": {
      "text/html": [
       "<pre style=\"margin: 0.1em;\n",
       "padding-left: 0.25em;\n",
       "border-left-style: solid;\n",
       "font-family: var(--jp-code-font-family);\n",
       "font-size: var(--jp-code-font-size);\n",
       "line-height: var(--jp-code-line-height);\n",
       "\"><span style=\"color: var(--jp-warn-color2)\">botocore.credentials</span> <span style=\"color: var(--jp-info-color0)\">INFO</span>: Found credentials in shared credentials file: /home/jsv1206/.lsst/aws-credentials.ini</pre>"
      ],
      "text/plain": [
       "<IPython.core.display.HTML object>"
      ]
     },
     "metadata": {},
     "output_type": "display_data"
    }
   ],
   "source": [
    "config = 'dp02'\n",
    "collection = '2.2i/runs/DP0.2'\n",
    "butler = dafButler.Butler(config, collections=collection)\n",
    "skymap = butler.get('skyMap')"
   ]
  },
  {
   "cell_type": "code",
   "execution_count": 19,
   "id": "0f5fcd83-fafc-43a9-aaea-462e8c8a8ce9",
   "metadata": {},
   "outputs": [
    {
     "ename": "AttributeError",
     "evalue": "'int' object has no attribute 'items'",
     "output_type": "error",
     "traceback": [
      "\u001b[0;31m---------------------------------------------------------------------------\u001b[0m",
      "\u001b[0;31mAttributeError\u001b[0m                            Traceback (most recent call last)",
      "Input \u001b[0;32mIn [19]\u001b[0m, in \u001b[0;36m<cell line: 1>\u001b[0;34m()\u001b[0m\n\u001b[1;32m      1\u001b[0m \u001b[38;5;28;01mfor\u001b[39;00m index, row \u001b[38;5;129;01min\u001b[39;00m variable_stars\u001b[38;5;241m.\u001b[39miterrows():\n\u001b[0;32m----> 2\u001b[0m     deepCoadd\u001b[38;5;241m=\u001b[39m butler\u001b[38;5;241m.\u001b[39mget(\u001b[38;5;124m'\u001b[39m\u001b[38;5;124mdeepCoadd\u001b[39m\u001b[38;5;124m'\u001b[39m, dataId\u001b[38;5;241m=\u001b[39mrow[\u001b[38;5;124m'\u001b[39m\u001b[38;5;124mmatch_objectId\u001b[39m\u001b[38;5;124m'\u001b[39m],band\u001b[38;5;241m=\u001b[39m\u001b[38;5;124m'\u001b[39m\u001b[38;5;124mi\u001b[39m\u001b[38;5;124m'\u001b[39m)\n\u001b[1;32m      3\u001b[0m     figout \u001b[38;5;241m=\u001b[39m make_figure(deepCoadd, batch_dir\u001b[38;5;241m+\u001b[39m\u001b[38;5;124m\"\u001b[39m\u001b[38;5;124m/coadd_images/\u001b[39m\u001b[38;5;124m\"\u001b[39m\u001b[38;5;241m+\u001b[39m\u001b[38;5;28mstr\u001b[39m(row[\u001b[38;5;124m'\u001b[39m\u001b[38;5;124mobjectId\u001b[39m\u001b[38;5;124m'\u001b[39m])\u001b[38;5;241m+\u001b[39m\u001b[38;5;124m\"\u001b[39m\u001b[38;5;124m.png\u001b[39m\u001b[38;5;124m\"\u001b[39m)\n\u001b[1;32m      4\u001b[0m     cutouts\u001b[38;5;241m.\u001b[39mappend(figout)\n",
      "File \u001b[0;32m/opt/lsst/software/stack/stack/miniconda3-py38_4.9.2-4.1.0/Linux64/daf_butler/g35a551b10e+17c7ad0751/python/lsst/daf/butler/_butler.py:1387\u001b[0m, in \u001b[0;36mButler.get\u001b[0;34m(self, datasetRefOrType, dataId, parameters, collections, **kwargs)\u001b[0m\n\u001b[1;32m   1338\u001b[0m \u001b[38;5;124;03m\"\"\"Retrieve a stored dataset.\u001b[39;00m\n\u001b[1;32m   1339\u001b[0m \n\u001b[1;32m   1340\u001b[0m \u001b[38;5;124;03mParameters\u001b[39;00m\n\u001b[0;32m   (...)\u001b[0m\n\u001b[1;32m   1384\u001b[0m \u001b[38;5;124;03m``exposure`` is a temporal dimension.\u001b[39;00m\n\u001b[1;32m   1385\u001b[0m \u001b[38;5;124;03m\"\"\"\u001b[39;00m\n\u001b[1;32m   1386\u001b[0m log\u001b[38;5;241m.\u001b[39mdebug(\u001b[38;5;124m\"\u001b[39m\u001b[38;5;124mButler get: \u001b[39m\u001b[38;5;132;01m%s\u001b[39;00m\u001b[38;5;124m, dataId=\u001b[39m\u001b[38;5;132;01m%s\u001b[39;00m\u001b[38;5;124m, parameters=\u001b[39m\u001b[38;5;132;01m%s\u001b[39;00m\u001b[38;5;124m\"\u001b[39m, datasetRefOrType, dataId, parameters)\n\u001b[0;32m-> 1387\u001b[0m ref \u001b[38;5;241m=\u001b[39m \u001b[38;5;28;43mself\u001b[39;49m\u001b[38;5;241;43m.\u001b[39;49m\u001b[43m_findDatasetRef\u001b[49m\u001b[43m(\u001b[49m\u001b[43mdatasetRefOrType\u001b[49m\u001b[43m,\u001b[49m\u001b[43m \u001b[49m\u001b[43mdataId\u001b[49m\u001b[43m,\u001b[49m\u001b[43m \u001b[49m\u001b[43mcollections\u001b[49m\u001b[38;5;241;43m=\u001b[39;49m\u001b[43mcollections\u001b[49m\u001b[43m,\u001b[49m\u001b[43m \u001b[49m\u001b[38;5;241;43m*\u001b[39;49m\u001b[38;5;241;43m*\u001b[39;49m\u001b[43mkwargs\u001b[49m\u001b[43m)\u001b[49m\n\u001b[1;32m   1388\u001b[0m \u001b[38;5;28;01mreturn\u001b[39;00m \u001b[38;5;28mself\u001b[39m\u001b[38;5;241m.\u001b[39mgetDirect(ref, parameters\u001b[38;5;241m=\u001b[39mparameters)\n",
      "File \u001b[0;32m/opt/lsst/software/stack/stack/miniconda3-py38_4.9.2-4.1.0/Linux64/daf_butler/g35a551b10e+17c7ad0751/python/lsst/daf/butler/_butler.py:1073\u001b[0m, in \u001b[0;36mButler._findDatasetRef\u001b[0;34m(self, datasetRefOrType, dataId, collections, allowUnresolved, **kwargs)\u001b[0m\n\u001b[1;32m   1070\u001b[0m     idNumber \u001b[38;5;241m=\u001b[39m \u001b[38;5;28;01mNone\u001b[39;00m\n\u001b[1;32m   1071\u001b[0m timespan: Optional[Timespan] \u001b[38;5;241m=\u001b[39m \u001b[38;5;28;01mNone\u001b[39;00m\n\u001b[0;32m-> 1073\u001b[0m dataId, kwargs \u001b[38;5;241m=\u001b[39m \u001b[38;5;28;43mself\u001b[39;49m\u001b[38;5;241;43m.\u001b[39;49m\u001b[43m_rewrite_data_id\u001b[49m\u001b[43m(\u001b[49m\u001b[43mdataId\u001b[49m\u001b[43m,\u001b[49m\u001b[43m \u001b[49m\u001b[43mdatasetType\u001b[49m\u001b[43m,\u001b[49m\u001b[43m \u001b[49m\u001b[38;5;241;43m*\u001b[39;49m\u001b[38;5;241;43m*\u001b[39;49m\u001b[43mkwargs\u001b[49m\u001b[43m)\u001b[49m\n\u001b[1;32m   1075\u001b[0m \u001b[38;5;28;01mif\u001b[39;00m datasetType\u001b[38;5;241m.\u001b[39misCalibration():\n\u001b[1;32m   1076\u001b[0m     \u001b[38;5;66;03m# Because this is a calibration dataset, first try to make a\u001b[39;00m\n\u001b[1;32m   1077\u001b[0m     \u001b[38;5;66;03m# standardize the data ID without restricting the dimensions to\u001b[39;00m\n\u001b[1;32m   1078\u001b[0m     \u001b[38;5;66;03m# those of the dataset type requested, because there may be extra\u001b[39;00m\n\u001b[1;32m   1079\u001b[0m     \u001b[38;5;66;03m# dimensions that provide temporal information for a validity-range\u001b[39;00m\n\u001b[1;32m   1080\u001b[0m     \u001b[38;5;66;03m# lookup.\u001b[39;00m\n\u001b[1;32m   1081\u001b[0m     dataId \u001b[38;5;241m=\u001b[39m DataCoordinate\u001b[38;5;241m.\u001b[39mstandardize(\n\u001b[1;32m   1082\u001b[0m         dataId, universe\u001b[38;5;241m=\u001b[39m\u001b[38;5;28mself\u001b[39m\u001b[38;5;241m.\u001b[39mregistry\u001b[38;5;241m.\u001b[39mdimensions, defaults\u001b[38;5;241m=\u001b[39m\u001b[38;5;28mself\u001b[39m\u001b[38;5;241m.\u001b[39mregistry\u001b[38;5;241m.\u001b[39mdefaults\u001b[38;5;241m.\u001b[39mdataId, \u001b[38;5;241m*\u001b[39m\u001b[38;5;241m*\u001b[39mkwargs\n\u001b[1;32m   1083\u001b[0m     )\n",
      "File \u001b[0;32m/opt/lsst/software/stack/stack/miniconda3-py38_4.9.2-4.1.0/Linux64/daf_butler/g35a551b10e+17c7ad0751/python/lsst/daf/butler/_butler.py:721\u001b[0m, in \u001b[0;36mButler._rewrite_data_id\u001b[0;34m(self, dataId, datasetType, **kwargs)\u001b[0m\n\u001b[1;32m    717\u001b[0m \u001b[38;5;66;03m# if all the dataId comes from keyword parameters we do not need\u001b[39;00m\n\u001b[1;32m    718\u001b[0m \u001b[38;5;66;03m# to do anything here because they can't be of the form\u001b[39;00m\n\u001b[1;32m    719\u001b[0m \u001b[38;5;66;03m# exposure.obs_id because a \".\" is not allowed in a keyword parameter.\u001b[39;00m\n\u001b[1;32m    720\u001b[0m \u001b[38;5;28;01mif\u001b[39;00m dataId:\n\u001b[0;32m--> 721\u001b[0m     \u001b[38;5;28;01mfor\u001b[39;00m k, v \u001b[38;5;129;01min\u001b[39;00m \u001b[43mdataId\u001b[49m\u001b[38;5;241;43m.\u001b[39;49m\u001b[43mitems\u001b[49m():\n\u001b[1;32m    722\u001b[0m         \u001b[38;5;66;03m# If we have a Dimension we do not need to do anything\u001b[39;00m\n\u001b[1;32m    723\u001b[0m         \u001b[38;5;66;03m# because it cannot be a compound key.\u001b[39;00m\n\u001b[1;32m    724\u001b[0m         \u001b[38;5;28;01mif\u001b[39;00m \u001b[38;5;28misinstance\u001b[39m(k, \u001b[38;5;28mstr\u001b[39m) \u001b[38;5;129;01mand\u001b[39;00m \u001b[38;5;124m\"\u001b[39m\u001b[38;5;124m.\u001b[39m\u001b[38;5;124m\"\u001b[39m \u001b[38;5;129;01min\u001b[39;00m k:\n\u001b[1;32m    725\u001b[0m             \u001b[38;5;66;03m# Someone is using a more human-readable dataId\u001b[39;00m\n\u001b[1;32m    726\u001b[0m             dimensionName, record \u001b[38;5;241m=\u001b[39m k\u001b[38;5;241m.\u001b[39msplit(\u001b[38;5;124m\"\u001b[39m\u001b[38;5;124m.\u001b[39m\u001b[38;5;124m\"\u001b[39m, \u001b[38;5;241m1\u001b[39m)\n",
      "\u001b[0;31mAttributeError\u001b[0m: 'int' object has no attribute 'items'"
     ]
    }
   ],
   "source": [
    "for index, row in variable_stars.iterrows():\n",
    "    deepCoadd= butler.get('deepCoadd', dataId=row['match_objectId'],band='i')\n",
    "    figout = make_figure(deepCoadd, batch_dir+\"/coadd_images/\"+str(row['objectId'])+\".png\")\n",
    "    cutouts.append(figout)\n",
    "    remove_figure(figout)"
   ]
  },
  {
   "cell_type": "code",
   "execution_count": null,
   "id": "26c4fe73-d52e-4fb0-a507-b3e021daf8bc",
   "metadata": {},
   "outputs": [],
   "source": []
  },
  {
   "cell_type": "markdown",
   "id": "902d497c-8227-4af8-ab4f-28dd4317dc3b",
   "metadata": {},
   "source": [
    "## Plotting images and text files of the light curves"
   ]
  },
  {
   "cell_type": "code",
   "execution_count": 49,
   "id": "463df486-7a74-402c-954c-906505791dc7",
   "metadata": {},
   "outputs": [
    {
     "name": "stdout",
     "output_type": "stream",
     "text": [
      "CPU times: user 11.7 s, sys: 2.28 s, total: 13.9 s\n",
      "Wall time: 4min 19s\n"
     ]
    }
   ],
   "source": [
    "%%time\n",
    "for index, row in variable_stars.iterrows():\n",
    "    df_all_bands = []\n",
    "    mjd_days, mags = query_flux(row['match_objectId'])\n",
    "    for band in bands:\n",
    "        figout = plotlc(mjd_days, mags, band, batch_dir+\"/lc_plots/\"+\"lc_\"+str(row['match_objectId'])+'_'+band+\".png\")\n",
    "        plots.append(figout)\n",
    "        remove_figure(figout) \n",
    "        \n",
    "        df = pd.DataFrame(data = {'band': [band]*len(test_mjd_days[band]), 'mjd_days': test_mjd_days[band], \\\n",
    "                          'mags': test_mags[band]}, index=None)\n",
    "        df_all_bands.append(df)\n",
    "    \n",
    "    df_final = pd.concat(df_all_bands)\n",
    "    outfile = batch_dir+\"/text_files/\"+\"lc_\"+str(row['match_objectId'])+\".csv\"\n",
    "    df_final.to_csv(outfile, index=False, sep=',')"
   ]
  },
  {
   "cell_type": "markdown",
   "id": "6b511f1a-7534-45a2-9c89-af39fe42df46",
   "metadata": {},
   "source": [
    "## Include Preprocessing to create phased light curves"
   ]
  },
  {
   "cell_type": "code",
   "execution_count": null,
   "id": "ac3ebf4e-baca-4659-b22c-e2bab7300cb9",
   "metadata": {},
   "outputs": [],
   "source": []
  }
 ],
 "metadata": {
  "kernelspec": {
   "display_name": "LSST",
   "language": "python",
   "name": "lsst"
  },
  "language_info": {
   "codemirror_mode": {
    "name": "ipython",
    "version": 3
   },
   "file_extension": ".py",
   "mimetype": "text/x-python",
   "name": "python",
   "nbconvert_exporter": "python",
   "pygments_lexer": "ipython3",
   "version": "3.10.9"
  }
 },
 "nbformat": 4,
 "nbformat_minor": 5
}
