{
 "cells": [
  {
   "cell_type": "markdown",
   "id": "c8779321-6f90-42ad-a51b-8f07a3b4bf19",
   "metadata": {},
   "source": [
    "Part of this notebook is taken from the tutorial-notebooks: 07b and 08 "
   ]
  },
  {
   "cell_type": "code",
   "execution_count": 1,
   "id": "843a7c50-8c33-417d-8d01-b02656361681",
   "metadata": {
    "execution": {
     "iopub.execute_input": "2023-02-23T19:53:49.944858Z",
     "iopub.status.busy": "2023-02-23T19:53:49.944703Z",
     "iopub.status.idle": "2023-02-23T19:53:51.114374Z",
     "shell.execute_reply": "2023-02-23T19:53:51.113666Z",
     "shell.execute_reply.started": "2023-02-23T19:53:49.944841Z"
    },
    "tags": []
   },
   "outputs": [],
   "source": [
    "import matplotlib.pyplot as plt\n",
    "import numpy as np\n",
    "import pandas as pd\n",
    "import warnings\n",
    "from lsst.rsp import get_tap_service, retrieve_query\n",
    "import gc\n",
    "import os\n",
    "\n",
    "# Astropy\n",
    "import astropy.units as u\n",
    "from astropy.units import UnitsWarning\n",
    "from astropy.timeseries import LombScargle\n",
    "\n",
    "import matplotlib.pyplot as plt\n",
    "plt.style.use('tableau-colorblind10')\n",
    "\n",
    "from lsst.daf.butler import Butler\n",
    "import lsst.daf.butler as dafButler\n",
    "import lsst.afw.display as afwDisplay\n",
    "import lsst.geom as geom"
   ]
  },
  {
   "cell_type": "code",
   "execution_count": 2,
   "id": "d4bfb889-1681-4481-8923-86c66619bcca",
   "metadata": {
    "execution": {
     "iopub.execute_input": "2023-02-23T19:53:51.117713Z",
     "iopub.status.busy": "2023-02-23T19:53:51.117532Z",
     "iopub.status.idle": "2023-02-23T19:53:51.127602Z",
     "shell.execute_reply": "2023-02-23T19:53:51.127006Z",
     "shell.execute_reply.started": "2023-02-23T19:53:51.117697Z"
    },
    "tags": []
   },
   "outputs": [],
   "source": [
    "%matplotlib inline"
   ]
  },
  {
   "cell_type": "code",
   "execution_count": 3,
   "id": "4ee439f4-2a67-48c6-b4c6-2642637b11c9",
   "metadata": {
    "execution": {
     "iopub.execute_input": "2023-02-23T19:53:51.128763Z",
     "iopub.status.busy": "2023-02-23T19:53:51.128381Z",
     "iopub.status.idle": "2023-02-23T19:53:51.240862Z",
     "shell.execute_reply": "2023-02-23T19:53:51.240314Z",
     "shell.execute_reply.started": "2023-02-23T19:53:51.128744Z"
    },
    "tags": []
   },
   "outputs": [],
   "source": [
    "#initializing Tap and Butler\n",
    "pd.set_option('display.max_rows', 20)\n",
    "warnings.simplefilter(\"ignore\", category=UnitsWarning)\n",
    "service = get_tap_service()\n",
    "assert service is not None\n",
    "assert service.baseurl == \"https://data.lsst.cloud/api/tap\"\n",
    "\n",
    "# Use lsst.afw.display with the matplotlib backend\n",
    "afwDisplay.setDefaultBackend('matplotlib')"
   ]
  },
  {
   "cell_type": "code",
   "execution_count": 4,
   "id": "7c7a58a1-945a-467f-97d0-a9389a9122fc",
   "metadata": {
    "execution": {
     "iopub.execute_input": "2023-02-23T19:53:51.241899Z",
     "iopub.status.busy": "2023-02-23T19:53:51.241552Z",
     "iopub.status.idle": "2023-02-23T19:53:51.245252Z",
     "shell.execute_reply": "2023-02-23T19:53:51.244780Z",
     "shell.execute_reply.started": "2023-02-23T19:53:51.241883Z"
    },
    "tags": []
   },
   "outputs": [],
   "source": [
    "params = {'axes.labelsize': 24,\n",
    "          'font.size': 20,\n",
    "          'legend.fontsize': 14,\n",
    "          'xtick.major.width': 3,\n",
    "          'xtick.minor.width': 2,\n",
    "          'xtick.major.size': 12,\n",
    "          'xtick.minor.size': 6,\n",
    "          'xtick.direction': 'in',\n",
    "          'xtick.top': True,\n",
    "          'lines.linewidth': 3,\n",
    "          'axes.linewidth': 3,\n",
    "          'axes.labelweight': 3,\n",
    "          'axes.titleweight': 3,\n",
    "          'ytick.major.width': 3,\n",
    "          'ytick.minor.width': 2,\n",
    "          'ytick.major.size': 12,\n",
    "          'ytick.minor.size': 6,\n",
    "          'ytick.direction': 'in',\n",
    "          'ytick.right': True,\n",
    "          'figure.figsize': [10, 8],\n",
    "          'figure.facecolor': 'White'\n",
    "          }\n",
    "\n",
    "plt.rcParams.update(params)"
   ]
  },
  {
   "cell_type": "code",
   "execution_count": 5,
   "id": "3123d8db-46fe-4147-9ee6-eca02bb77afc",
   "metadata": {
    "execution": {
     "iopub.execute_input": "2023-02-23T19:53:51.247431Z",
     "iopub.status.busy": "2023-02-23T19:53:51.247224Z",
     "iopub.status.idle": "2023-02-23T19:53:51.261010Z",
     "shell.execute_reply": "2023-02-23T19:53:51.260490Z",
     "shell.execute_reply.started": "2023-02-23T19:53:51.247417Z"
    },
    "tags": []
   },
   "outputs": [],
   "source": [
    "plot_filter_labels = ['u', 'g', 'r', 'i', 'z', 'y']\n",
    "plot_filter_colors = {'u': '#56b4e9', 'g': '#008060', 'r': '#ff4000',\n",
    "                      'i': '#850000', 'z': '#6600cc', 'y': '#000000'}\n",
    "plot_filter_symbols = {'u': 'o', 'g': '^', 'r': 'v', 'i': 's', 'z': '*', 'y': 'p'}"
   ]
  },
  {
   "cell_type": "markdown",
   "id": "9d0bad26-e21b-4ee8-9ce6-6d1e29787133",
   "metadata": {},
   "source": [
    "## Plotting functions"
   ]
  },
  {
   "cell_type": "code",
   "execution_count": 6,
   "id": "c9b1f7a7-2a84-486f-8b98-0b0e16feee85",
   "metadata": {
    "execution": {
     "iopub.execute_input": "2023-02-23T19:53:52.807294Z",
     "iopub.status.busy": "2023-02-23T19:53:52.806701Z",
     "iopub.status.idle": "2023-02-23T19:53:52.957507Z",
     "shell.execute_reply": "2023-02-23T19:53:52.956839Z",
     "shell.execute_reply.started": "2023-02-23T19:53:52.807273Z"
    },
    "tags": []
   },
   "outputs": [],
   "source": [
    "# Plot \n",
    "# def plotlc(days, magnitudes, band, out_name):\n",
    "#     fig = plt.figure(figsize=(8,8))\n",
    "#     plt.plot(days[band], magnitudes[band],\n",
    "#              'k.', ms=10)\n",
    "#     plt.minorticks_on()\n",
    "#     plt.xlabel('MJD (days)')\n",
    "#     plt.ylabel(band)\n",
    "#     plt.savefig(out_name)\n",
    "    \n",
    "#     return fig\n",
    "#     #plt.show() \n",
    "    \n",
    "def plotlc(days, magnitudes, out_name):\n",
    "    fig = plt.figure(figsize=(8,8))\n",
    "    for band in bands:\n",
    "        plt.plot(days[band], magnitudes[band],\n",
    "                 plot_filter_symbols[band], ms=10, label=band)\n",
    "    plt.minorticks_on()\n",
    "    plt.xlabel('MJD (days)')\n",
    "    plt.ylabel('magnitude')\n",
    "    #plt.legend('upper right')\n",
    "    plt.savefig(out_name)\n",
    "    return fig\n",
    "    #plt.show() \n",
    "    \n",
    "def make_fig(cutout_image, ra, dec, out_name):\n",
    "    \"\"\"\n",
    "    Create an image.\n",
    "    should be followed with remove_figure\n",
    "\n",
    "    Parameters\n",
    "    ----------\n",
    "    cutout_image : cutout_image from butler.get\n",
    "    out_name : file name where you'd like to save it\n",
    "    \n",
    "    \"\"\"\n",
    "    fig = plt.figure(figsize=(4, 4))\n",
    "    afw_display = afwDisplay.Display(frame=fig)\n",
    "    afw_display.scale('asinh', 'zscale')\n",
    "    afw_display.mtv(cutout_image.image)\n",
    "    \n",
    "    cutout_wcs = cutout_image.getWcs()\n",
    "    radec = geom.SpherePoint(ra, dec, geom.degrees)\n",
    "    xy = geom.PointI(cutout_wcs.skyToPixel(radec))\n",
    "    \n",
    "    afw_display.dot('x', xy.getX(), xy.getY(), size=1, ctype='orange')\n",
    "    plt.gca().axis('off')\n",
    "    plt.savefig(out_name)\n",
    "    \n",
    "    return fig\n",
    "    \n",
    "    \n",
    "def remove_figure(fig):\n",
    "    \"\"\"\n",
    "    Remove a figure to reduce memory footprint.\n",
    "\n",
    "    Parameters\n",
    "    ----------\n",
    "    fig: matplotlib.figure.Figure\n",
    "        Figure to be removed.\n",
    "\n",
    "    Returns\n",
    "    -------\n",
    "    None\n",
    "    \"\"\"\n",
    "    # get the axes and clear their images\n",
    "    for ax in fig.get_axes():\n",
    "        for im in ax.get_images():\n",
    "            im.remove()\n",
    "    fig.clf()       # clear the figure\n",
    "    plt.close(fig)  # close the figure\n",
    "\n",
    "    gc.collect()    # call the garbage collector\n",
    "    "
   ]
  },
  {
   "cell_type": "markdown",
   "id": "140ab267-315e-4b8c-8a3d-b365c945b479",
   "metadata": {},
   "source": [
    "## Creating directories to save lightcurves and coadds"
   ]
  },
  {
   "cell_type": "code",
   "execution_count": 7,
   "id": "31b6b80a-b86d-49cf-a8a3-bb5a168b8fc0",
   "metadata": {
    "execution": {
     "iopub.execute_input": "2023-02-23T19:54:03.003816Z",
     "iopub.status.busy": "2023-02-23T19:54:03.003017Z",
     "iopub.status.idle": "2023-02-23T19:54:03.006525Z",
     "shell.execute_reply": "2023-02-23T19:54:03.005984Z",
     "shell.execute_reply.started": "2023-02-23T19:54:03.003794Z"
    }
   },
   "outputs": [],
   "source": [
    "plots = []\n",
    "bands = ['g','r','i']\n",
    "batch_dir = './variable_stars_output'"
   ]
  },
  {
   "cell_type": "code",
   "execution_count": 7,
   "id": "afa60cf3-f2b9-4c81-a1b2-e6c4facc011d",
   "metadata": {
    "execution": {
     "iopub.execute_input": "2023-02-23T17:55:46.640234Z",
     "iopub.status.busy": "2023-02-23T17:55:46.639546Z",
     "iopub.status.idle": "2023-02-23T17:55:46.682862Z",
     "shell.execute_reply": "2023-02-23T17:55:46.682195Z",
     "shell.execute_reply.started": "2023-02-23T17:55:46.640211Z"
    },
    "tags": []
   },
   "outputs": [
    {
     "name": "stderr",
     "output_type": "stream",
     "text": [
      "rm: cannot remove ‘./variable_stars_output/lc_plots/*’: No such file or directory\n",
      "rm: cannot remove ‘./variable_stars_output/text_files/*’: No such file or directory\n"
     ]
    }
   ],
   "source": [
    "if os.path.isdir(batch_dir) == False:\n",
    "    os.mkdir(batch_dir)\n",
    "    \n",
    "if os.path.isdir(batch_dir+'/lc_plots') == False:\n",
    "    os.mkdir(batch_dir+'/lc_plots')\n",
    "else:\n",
    "    os.system('rm -r '+batch_dir+'/lc_plots/*')\n",
    "    \n",
    "if os.path.isdir(batch_dir+'/text_files') == False:\n",
    "    os.mkdir(batch_dir+'/text_files')\n",
    "else:\n",
    "    os.system('rm -r '+batch_dir+'/text_files/*')\n",
    "    \n",
    "if os.path.isdir(batch_dir+'/coadd_images') == False:\n",
    "    os.mkdir(batch_dir+'/coadd_images')\n",
    "else:\n",
    "    os.system('rm -r '+batch_dir+'/coadd_images/*')"
   ]
  },
  {
   "cell_type": "markdown",
   "id": "c5c3991d-09d8-493f-9c11-f558461bc4e4",
   "metadata": {},
   "source": [
    "## Query to get variable stars\n",
    "\n",
    "Selecting stars (truth_type=2)\n",
    "\n",
    "variable (is_variable = 1)\n",
    "\n",
    "is_pointsource = 1"
   ]
  },
  {
   "cell_type": "code",
   "execution_count": 8,
   "id": "060571f7-c73b-4a35-98b8-6ece29ce5b44",
   "metadata": {
    "execution": {
     "iopub.execute_input": "2023-02-23T19:54:13.287213Z",
     "iopub.status.busy": "2023-02-23T19:54:13.286393Z",
     "iopub.status.idle": "2023-02-23T19:54:13.290601Z",
     "shell.execute_reply": "2023-02-23T19:54:13.290066Z",
     "shell.execute_reply.started": "2023-02-23T19:54:13.287191Z"
    },
    "tags": []
   },
   "outputs": [],
   "source": [
    "def query_stars(ra_deg, dec_deg, radius_deg, limit):\n",
    "    #radius within which you want to query\n",
    "    \n",
    "    query = \"SELECT mt.id_truth_type, mt.match_objectId, ts.ra, ts.dec \"\\\n",
    "            \"FROM dp02_dc2_catalogs.MatchesTruth AS mt \"\\\n",
    "            \"JOIN dp02_dc2_catalogs.TruthSummary AS ts ON mt.id_truth_type = ts.id_truth_type \"\\\n",
    "            \"WHERE ts.truth_type=2 \"\\\n",
    "            \"AND ts.is_variable = 1 \"\\\n",
    "            \"AND ts.is_pointsource = 1 \"\\\n",
    "            \"AND mt.match_objectId > 1 \"\\\n",
    "            \"AND CONTAINS(POINT('ICRS', ts.ra, ts.dec), CIRCLE('ICRS', \"+ str(ra_deg)+\", \"+str(dec_deg)+\", \"+str(radius_deg)+\")) <= 1 \"\\\n",
    "            \"LIMIT \"+str(limit)+\" \"\n",
    "    results = service.search(query)\n",
    "    variable_stars = results.to_table().to_pandas()\n",
    "    return variable_stars"
   ]
  },
  {
   "cell_type": "code",
   "execution_count": 9,
   "id": "fb35503f-955f-490b-9100-d8bec98bbb1f",
   "metadata": {
    "execution": {
     "iopub.execute_input": "2023-02-23T19:54:13.836226Z",
     "iopub.status.busy": "2023-02-23T19:54:13.835742Z",
     "iopub.status.idle": "2023-02-23T19:58:39.808853Z",
     "shell.execute_reply": "2023-02-23T19:58:39.808221Z",
     "shell.execute_reply.started": "2023-02-23T19:54:13.836206Z"
    },
    "tags": []
   },
   "outputs": [
    {
     "name": "stdout",
     "output_type": "stream",
     "text": [
      "CPU times: user 12.5 ms, sys: 3.38 ms, total: 15.8 ms\n",
      "Wall time: 4min 25s\n"
     ]
    }
   ],
   "source": [
    "%%time\n",
    "variable_stars = query_stars(62.1, -35.8, 0.10,10)"
   ]
  },
  {
   "cell_type": "code",
   "execution_count": 10,
   "id": "95edb413-f9bd-4911-b1fd-c970c12ad4f2",
   "metadata": {
    "execution": {
     "iopub.execute_input": "2023-02-23T19:58:39.817471Z",
     "iopub.status.busy": "2023-02-23T19:58:39.817311Z",
     "iopub.status.idle": "2023-02-23T19:58:39.825718Z",
     "shell.execute_reply": "2023-02-23T19:58:39.825105Z",
     "shell.execute_reply.started": "2023-02-23T19:58:39.817458Z"
    },
    "tags": []
   },
   "outputs": [
    {
     "data": {
      "text/html": [
       "<div>\n",
       "<style scoped>\n",
       "    .dataframe tbody tr th:only-of-type {\n",
       "        vertical-align: middle;\n",
       "    }\n",
       "\n",
       "    .dataframe tbody tr th {\n",
       "        vertical-align: top;\n",
       "    }\n",
       "\n",
       "    .dataframe thead th {\n",
       "        text-align: right;\n",
       "    }\n",
       "</style>\n",
       "<table border=\"1\" class=\"dataframe\">\n",
       "  <thead>\n",
       "    <tr style=\"text-align: right;\">\n",
       "      <th></th>\n",
       "      <th>id_truth_type</th>\n",
       "      <th>match_objectId</th>\n",
       "      <th>ra</th>\n",
       "      <th>dec</th>\n",
       "    </tr>\n",
       "  </thead>\n",
       "  <tbody>\n",
       "    <tr>\n",
       "      <th>0</th>\n",
       "      <td>40745496103_2</td>\n",
       "      <td>1251666444874161581</td>\n",
       "      <td>65.542978</td>\n",
       "      <td>-44.480496</td>\n",
       "    </tr>\n",
       "    <tr>\n",
       "      <th>1</th>\n",
       "      <td>40897600536_2</td>\n",
       "      <td>1251666444874186330</td>\n",
       "      <td>65.552173</td>\n",
       "      <td>-44.549350</td>\n",
       "    </tr>\n",
       "    <tr>\n",
       "      <th>2</th>\n",
       "      <td>40901173195_2</td>\n",
       "      <td>1251657648781158240</td>\n",
       "      <td>65.835106</td>\n",
       "      <td>-44.594026</td>\n",
       "    </tr>\n",
       "    <tr>\n",
       "      <th>3</th>\n",
       "      <td>40965948604_2</td>\n",
       "      <td>1251666444874161111</td>\n",
       "      <td>65.273858</td>\n",
       "      <td>-44.491638</td>\n",
       "    </tr>\n",
       "    <tr>\n",
       "      <th>4</th>\n",
       "      <td>41020614104_2</td>\n",
       "      <td>1251666444874161085</td>\n",
       "      <td>65.287451</td>\n",
       "      <td>-44.492273</td>\n",
       "    </tr>\n",
       "    <tr>\n",
       "      <th>5</th>\n",
       "      <td>41020625635_2</td>\n",
       "      <td>1251657648781158080</td>\n",
       "      <td>65.648031</td>\n",
       "      <td>-44.595431</td>\n",
       "    </tr>\n",
       "    <tr>\n",
       "      <th>6</th>\n",
       "      <td>41020625072_2</td>\n",
       "      <td>1251657648781158090</td>\n",
       "      <td>65.721107</td>\n",
       "      <td>-44.595099</td>\n",
       "    </tr>\n",
       "    <tr>\n",
       "      <th>7</th>\n",
       "      <td>40965942179_2</td>\n",
       "      <td>1251666444874161298</td>\n",
       "      <td>65.535251</td>\n",
       "      <td>-44.486616</td>\n",
       "    </tr>\n",
       "    <tr>\n",
       "      <th>8</th>\n",
       "      <td>40897601719_2</td>\n",
       "      <td>1251666444874186173</td>\n",
       "      <td>65.283862</td>\n",
       "      <td>-44.552017</td>\n",
       "    </tr>\n",
       "    <tr>\n",
       "      <th>9</th>\n",
       "      <td>40965965280_2</td>\n",
       "      <td>1251666444874186093</td>\n",
       "      <td>65.485388</td>\n",
       "      <td>-44.552769</td>\n",
       "    </tr>\n",
       "  </tbody>\n",
       "</table>\n",
       "</div>"
      ],
      "text/plain": [
       "   id_truth_type       match_objectId         ra        dec\n",
       "0  40745496103_2  1251666444874161581  65.542978 -44.480496\n",
       "1  40897600536_2  1251666444874186330  65.552173 -44.549350\n",
       "2  40901173195_2  1251657648781158240  65.835106 -44.594026\n",
       "3  40965948604_2  1251666444874161111  65.273858 -44.491638\n",
       "4  41020614104_2  1251666444874161085  65.287451 -44.492273\n",
       "5  41020625635_2  1251657648781158080  65.648031 -44.595431\n",
       "6  41020625072_2  1251657648781158090  65.721107 -44.595099\n",
       "7  40965942179_2  1251666444874161298  65.535251 -44.486616\n",
       "8  40897601719_2  1251666444874186173  65.283862 -44.552017\n",
       "9  40965965280_2  1251666444874186093  65.485388 -44.552769"
      ]
     },
     "execution_count": 10,
     "metadata": {},
     "output_type": "execute_result"
    }
   ],
   "source": [
    "variable_stars"
   ]
  },
  {
   "cell_type": "markdown",
   "id": "450eb5ef-82af-450d-b386-f653467a17e6",
   "metadata": {},
   "source": [
    "## Query to get the flux at all the bands"
   ]
  },
  {
   "cell_type": "code",
   "execution_count": 12,
   "id": "01c89534-b398-48c5-9f03-9d9999a70a14",
   "metadata": {
    "execution": {
     "iopub.execute_input": "2023-02-23T19:58:42.780496Z",
     "iopub.status.busy": "2023-02-23T19:58:42.779993Z",
     "iopub.status.idle": "2023-02-23T19:58:42.784716Z",
     "shell.execute_reply": "2023-02-23T19:58:42.784143Z",
     "shell.execute_reply.started": "2023-02-23T19:58:42.780475Z"
    },
    "tags": []
   },
   "outputs": [],
   "source": [
    "def query_flux(objid):\n",
    "    query = \"SELECT src.band, src.ccdVisitId, src.coord_ra, src.coord_dec, \"\\\n",
    "            \"src.objectId, src.psfFlux, src.psfFluxErr, \"\\\n",
    "            \"scisql_nanojanskyToAbMag(psfFlux) as psfMag, \"\\\n",
    "            \"visinfo.band, \"\\\n",
    "            \"visinfo.expMidptMJD \"\\\n",
    "            \"FROM dp02_dc2_catalogs.ForcedSource as src \"\\\n",
    "            \"JOIN dp02_dc2_catalogs.CcdVisit as visinfo \"\\\n",
    "            \"ON visinfo.ccdVisitId = src.ccdVisitId \"\\\n",
    "            \"WHERE src.objectId = \"+str(objid)+\" \"\n",
    "    lc = service.search(query)\n",
    "    flux_allbands = lc.to_table()\n",
    "    # Create masks for the bands\n",
    "    pick = {}\n",
    "    for filter in plot_filter_labels:\n",
    "        pick[filter] = (flux_allbands['band'] == filter)\n",
    "    mjd_days = {}\n",
    "    mags = {}\n",
    "    for filter in plot_filter_labels:\n",
    "        mjd_days[filter] = np.array(flux_allbands[pick[filter]]['expMidptMJD']) * u.day\n",
    "        mags[filter] = np.array(flux_allbands[pick[filter]]['psfMag'])\n",
    "        \n",
    "    return mjd_days, mags"
   ]
  },
  {
   "cell_type": "markdown",
   "id": "7efd312e-86a3-49e1-b1ea-e1714b32755a",
   "metadata": {},
   "source": [
    "## Query coadd images from Butler"
   ]
  },
  {
   "cell_type": "code",
   "execution_count": 13,
   "id": "9b0d1aca-2aaa-4af8-b071-fdce3177e651",
   "metadata": {
    "execution": {
     "iopub.execute_input": "2023-02-23T19:58:44.453150Z",
     "iopub.status.busy": "2023-02-23T19:58:44.452348Z",
     "iopub.status.idle": "2023-02-23T19:58:46.816805Z",
     "shell.execute_reply": "2023-02-23T19:58:46.816032Z",
     "shell.execute_reply.started": "2023-02-23T19:58:44.453120Z"
    },
    "tags": []
   },
   "outputs": [
    {
     "data": {
      "text/html": [
       "<pre style=\"margin: 0.1em;\n",
       "padding-left: 0.25em;\n",
       "border-left-style: solid;\n",
       "font-family: var(--jp-code-font-family);\n",
       "font-size: var(--jp-code-font-size);\n",
       "line-height: var(--jp-code-line-height);\n",
       "\"><span style=\"color: var(--jp-warn-color2)\">botocore.credentials</span> <span style=\"color: var(--jp-info-color0)\">INFO</span>: Found credentials in shared credentials file: /home/jsv1206/.lsst/aws-credentials.ini</pre>"
      ],
      "text/plain": [
       "<IPython.core.display.HTML object>"
      ]
     },
     "metadata": {},
     "output_type": "display_data"
    }
   ],
   "source": [
    "config = 'dp02'\n",
    "collection = '2.2i/runs/DP0.2'\n",
    "butler = dafButler.Butler(config, collections=collection)\n",
    "skymap = butler.get('skyMap')\n",
    "image_size = 100 #pixels"
   ]
  },
  {
   "cell_type": "code",
   "execution_count": 14,
   "id": "ab3d3c2c-22b1-4b49-ae8d-68f38fdfb767",
   "metadata": {
    "execution": {
     "iopub.execute_input": "2023-02-23T19:58:48.541692Z",
     "iopub.status.busy": "2023-02-23T19:58:48.540871Z",
     "iopub.status.idle": "2023-02-23T19:58:48.546213Z",
     "shell.execute_reply": "2023-02-23T19:58:48.545612Z",
     "shell.execute_reply.started": "2023-02-23T19:58:48.541664Z"
    },
    "tags": []
   },
   "outputs": [],
   "source": [
    "# From Melissa Graham's notebook and from Zooniverse testing\n",
    "# https://github.com/rubin-dp0/cst-dev/blob/main/MLG_sandbox/DP02/citsci_sample_demo.ipynb\n",
    "\n",
    "def get_cutout_image(ra_deg,dec_deg,band,datasetType='deepCoadd',cutoutSideLength=image_size):\n",
    "    \"\"\"\n",
    "    get the tract and patch of a source. currently retrieves i band only. \n",
    "\n",
    "    Parameters\n",
    "    ----------\n",
    "    ra : ra of source in degrees\n",
    "    dec : dec of source in degrees\n",
    "    \n",
    "    \"\"\"\n",
    "    cutoutSize = geom.ExtentI(cutoutSideLength, cutoutSideLength)\n",
    "    \n",
    "    spherePoint = geom.SpherePoint(ra_deg*geom.degrees, dec_deg*geom.degrees)\n",
    "    tract = skymap.findTract(spherePoint)\n",
    "    patch = tract.findPatch(spherePoint)\n",
    "    xy = geom.PointI(tract.getWcs().skyToPixel(spherePoint))\n",
    "    bbox = geom.BoxI(xy - cutoutSize // 2, cutoutSize)\n",
    "    \n",
    "    my_tract = tract.getId()\n",
    "    my_patch = tract.getSequentialPatchIndex(patch)\n",
    "    \n",
    "    parameters = {'bbox': bbox}\n",
    "    dataId = {'band': band, 'tract': my_tract, 'patch': my_patch}\n",
    "    cutout_image = butler.get(datasetType, dataId=dataId, parameters=parameters)\n",
    "    return cutout_image"
   ]
  },
  {
   "cell_type": "code",
   "execution_count": 15,
   "id": "0f5fcd83-fafc-43a9-aaea-462e8c8a8ce9",
   "metadata": {
    "execution": {
     "iopub.execute_input": "2023-02-23T19:58:49.364313Z",
     "iopub.status.busy": "2023-02-23T19:58:49.363541Z",
     "iopub.status.idle": "2023-02-23T19:59:03.460158Z",
     "shell.execute_reply": "2023-02-23T19:59:03.459386Z",
     "shell.execute_reply.started": "2023-02-23T19:58:49.364272Z"
    },
    "tags": []
   },
   "outputs": [],
   "source": [
    "for index, row in variable_stars[0:2].iterrows():\n",
    "    for band in bands:\n",
    "        deepCoadd= get_cutout_image(row['ra'],row['dec'],band,datasetType='deepCoadd')\n",
    "        figout = make_fig(deepCoadd, row['ra'],row['dec'],batch_dir+\"/coadd_images/\"+str(row['id_truth_type'])+\"_\"+band+\".png\")\n",
    "        remove_figure(figout)"
   ]
  },
  {
   "cell_type": "markdown",
   "id": "902d497c-8227-4af8-ab4f-28dd4317dc3b",
   "metadata": {},
   "source": [
    "## Plotting images and text files of the light curves"
   ]
  },
  {
   "cell_type": "markdown",
   "id": "4e7e83cd-78bf-45dc-97fe-10cbfefd857a",
   "metadata": {},
   "source": [
    "## Plotting of lightcurves taking too long!\n",
    "\n",
    "Normalize the magnitudes\n",
    "\n",
    "Try to get rid of multiple loops"
   ]
  },
  {
   "cell_type": "code",
   "execution_count": 16,
   "id": "d06d9665-d79a-4b60-b9fb-6ab2992fddf5",
   "metadata": {
    "execution": {
     "iopub.execute_input": "2023-02-23T19:59:14.662412Z",
     "iopub.status.busy": "2023-02-23T19:59:14.661469Z",
     "iopub.status.idle": "2023-02-23T19:59:16.496515Z",
     "shell.execute_reply": "2023-02-23T19:59:16.495928Z",
     "shell.execute_reply.started": "2023-02-23T19:59:14.662385Z"
    },
    "tags": []
   },
   "outputs": [],
   "source": [
    "for index, row in variable_stars[0:2].iterrows():\n",
    "    mjd_days, mags = query_flux(row['match_objectId'])\n",
    "    figout = plotlc(mjd_days, mags, batch_dir+\"/lc_plots/\"+\"lc_\"+str(row['match_objectId'])+\".png\")\n",
    "    remove_figure(figout) "
   ]
  },
  {
   "cell_type": "code",
   "execution_count": 17,
   "id": "463df486-7a74-402c-954c-906505791dc7",
   "metadata": {
    "execution": {
     "iopub.execute_input": "2023-02-23T19:59:19.376807Z",
     "iopub.status.busy": "2023-02-23T19:59:19.376167Z",
     "iopub.status.idle": "2023-02-23T19:59:20.599009Z",
     "shell.execute_reply": "2023-02-23T19:59:20.598476Z",
     "shell.execute_reply.started": "2023-02-23T19:59:19.376787Z"
    },
    "tags": []
   },
   "outputs": [
    {
     "name": "stdout",
     "output_type": "stream",
     "text": [
      "CPU times: user 833 ms, sys: 183 ms, total: 1.02 s\n",
      "Wall time: 1.22 s\n"
     ]
    }
   ],
   "source": [
    "%%time\n",
    "for index, row in variable_stars[0:2].iterrows():\n",
    "    df_all_bands = []\n",
    "    mjd_days, mags = query_flux(row['match_objectId'])\n",
    "    figout = plotlc(mjd_days, mags, batch_dir+\"/lc_plots/\"+\"lc_\"+str(row['match_objectId'])+\".png\")\n",
    "    remove_figure(figout) \n",
    "    for band in bands:\n",
    "        #figout = plotlc(mjd_days, mags, band, batch_dir+\"/lc_plots/\"+\"lc_\"+str(row['match_objectId'])+'_'+band+\".png\")\n",
    "        #plots.append(figout)\n",
    "        #remove_figure(figout) \n",
    "        df = pd.DataFrame(data = {'band': [band]*len(mjd_days[band]), 'mjd_days': mjd_days[band], \\\n",
    "                          'mags': mags[band]}, index=None)\n",
    "        df_all_bands.append(df)\n",
    "    \n",
    "    df_final = pd.concat(df_all_bands)\n",
    "    outfile = batch_dir+\"/text_files/\"+\"lc_\"+str(row['match_objectId'])+\".csv\"\n",
    "    df_final.to_csv(outfile, index=False, sep=',')"
   ]
  },
  {
   "cell_type": "markdown",
   "id": "f22a496d-0e2f-4d58-9469-3120e5446a67",
   "metadata": {},
   "source": [
    "# Create csv for Zooniverse flipbook "
   ]
  },
  {
   "cell_type": "code",
   "execution_count": 18,
   "id": "7a41799f-dddb-45d7-949c-2b3b9e29e11c",
   "metadata": {
    "execution": {
     "iopub.execute_input": "2023-02-23T19:59:35.350563Z",
     "iopub.status.busy": "2023-02-23T19:59:35.349780Z",
     "iopub.status.idle": "2023-02-23T19:59:35.364601Z",
     "shell.execute_reply": "2023-02-23T19:59:35.364068Z",
     "shell.execute_reply.started": "2023-02-23T19:59:35.350532Z"
    },
    "tags": []
   },
   "outputs": [],
   "source": [
    "df_row = []\n",
    "for index, row in variable_stars[0:2].iterrows():\n",
    "    df = pd.DataFrame(data = {'band_g': str(row['id_truth_type'])+\"_g.png\", \n",
    "                              'band_r': str(row['id_truth_type'])+\"_r.png\",\n",
    "                              'band_i': str(row['id_truth_type'])+\"_i.png\"}, index=[0])\n",
    "    df_row.append(df)\n",
    "    \n",
    "df_manifest = pd.concat(df_row)\n",
    "\n",
    "outfile = batch_dir+\"/flipbook_manifest.csv\"\n",
    "df_manifest.to_csv(outfile, index=False, sep=',')"
   ]
  },
  {
   "cell_type": "markdown",
   "id": "83fcc033-0d3b-49bc-a99d-5d1fa70102b0",
   "metadata": {},
   "source": [
    "# Send data to Zooniverse"
   ]
  },
  {
   "cell_type": "code",
   "execution_count": 55,
   "id": "03210267-b539-41b3-9992-eddb4ef5befe",
   "metadata": {
    "execution": {
     "iopub.execute_input": "2023-02-23T19:53:04.172734Z",
     "iopub.status.busy": "2023-02-23T19:53:04.172218Z",
     "iopub.status.idle": "2023-02-23T19:53:29.151925Z",
     "shell.execute_reply": "2023-02-23T19:53:29.150887Z",
     "shell.execute_reply.started": "2023-02-23T19:53:04.172711Z"
    },
    "tags": []
   },
   "outputs": [
    {
     "name": "stdout",
     "output_type": "stream",
     "text": [
      "Installing external dependencies...\n",
      "Done installing external dependencies!\n",
      "Enter your Zooniverse credentials...\n"
     ]
    },
    {
     "name": "stdin",
     "output_type": "stream",
     "text": [
      "Username:  jsv1206\n",
      " ········\n"
     ]
    },
    {
     "ename": "PanoptesAPIException",
     "evalue": "Invalid email or password.",
     "output_type": "error",
     "traceback": [
      "\u001b[0;31m---------------------------------------------------------------------------\u001b[0m",
      "\u001b[0;31mPanoptesAPIException\u001b[0m                      Traceback (most recent call last)",
      "File \u001b[0;32m/tmp/ipykernel_12736/3555984813.py:2\u001b[0m, in \u001b[0;36m<cell line: 2>\u001b[0;34m()\u001b[0m\n\u001b[1;32m      1\u001b[0m \u001b[38;5;28;01mimport\u001b[39;00m \u001b[38;5;21;01mpanoptes_client\u001b[39;00m\n\u001b[0;32m----> 2\u001b[0m client \u001b[38;5;241m=\u001b[39m \u001b[43mpanoptes_client\u001b[49m\u001b[38;5;241;43m.\u001b[39;49m\u001b[43mPanoptes\u001b[49m\u001b[38;5;241;43m.\u001b[39;49m\u001b[43mconnect\u001b[49m\u001b[43m(\u001b[49m\u001b[43mlogin\u001b[49m\u001b[38;5;241;43m=\u001b[39;49m\u001b[38;5;124;43m\"\u001b[39;49m\u001b[38;5;124;43minteractive\u001b[39;49m\u001b[38;5;124;43m\"\u001b[39;49m\u001b[43m)\u001b[49m\n\u001b[1;32m      3\u001b[0m \u001b[38;5;28mprint\u001b[39m(\u001b[38;5;124m\"\u001b[39m\u001b[38;5;124mYou now are logged in to the Zooniverse platform.\u001b[39m\u001b[38;5;124m\"\u001b[39m)\n",
      "File \u001b[0;32m~/.local/lib/python3.10/site-packages/panoptes_client/panoptes.py:112\u001b[0m, in \u001b[0;36mPanoptes.connect\u001b[0;34m(cls, *args, **kwargs)\u001b[0m\n\u001b[1;32m     85\u001b[0m \u001b[38;5;129m@classmethod\u001b[39m\n\u001b[1;32m     86\u001b[0m \u001b[38;5;28;01mdef\u001b[39;00m \u001b[38;5;21mconnect\u001b[39m(\u001b[38;5;28mcls\u001b[39m, \u001b[38;5;241m*\u001b[39margs, \u001b[38;5;241m*\u001b[39m\u001b[38;5;241m*\u001b[39mkwargs):\n\u001b[1;32m     87\u001b[0m     \u001b[38;5;124;03m\"\"\"\u001b[39;00m\n\u001b[1;32m     88\u001b[0m \u001b[38;5;124;03m    connect(username=None, password=None, endpoint=None, admin=False)\u001b[39;00m\n\u001b[1;32m     89\u001b[0m \n\u001b[0;32m   (...)\u001b[0m\n\u001b[1;32m    110\u001b[0m \u001b[38;5;124;03m        Panoptes.connect(endpoint='https://panoptes.example.com')\u001b[39;00m\n\u001b[1;32m    111\u001b[0m \u001b[38;5;124;03m    \"\"\"\u001b[39;00m\n\u001b[0;32m--> 112\u001b[0m     \u001b[38;5;28mcls\u001b[39m\u001b[38;5;241m.\u001b[39m_local\u001b[38;5;241m.\u001b[39mpanoptes_client \u001b[38;5;241m=\u001b[39m \u001b[38;5;28;43mcls\u001b[39;49m\u001b[43m(\u001b[49m\u001b[38;5;241;43m*\u001b[39;49m\u001b[43margs\u001b[49m\u001b[43m,\u001b[49m\u001b[43m \u001b[49m\u001b[38;5;241;43m*\u001b[39;49m\u001b[38;5;241;43m*\u001b[39;49m\u001b[43mkwargs\u001b[49m\u001b[43m)\u001b[49m\n\u001b[1;32m    113\u001b[0m     \u001b[38;5;28mcls\u001b[39m\u001b[38;5;241m.\u001b[39m_local\u001b[38;5;241m.\u001b[39mpanoptes_client\u001b[38;5;241m.\u001b[39mlogin()\n\u001b[1;32m    114\u001b[0m     \u001b[38;5;28;01mreturn\u001b[39;00m \u001b[38;5;28mcls\u001b[39m\u001b[38;5;241m.\u001b[39m_local\u001b[38;5;241m.\u001b[39mpanoptes_client\n",
      "File \u001b[0;32m~/.local/lib/python3.10/site-packages/panoptes_client/panoptes.py:144\u001b[0m, in \u001b[0;36mPanoptes.__init__\u001b[0;34m(self, endpoint, client_id, client_secret, redirect_url, username, password, login, admin)\u001b[0m\n\u001b[1;32m    142\u001b[0m \u001b[38;5;28mself\u001b[39m\u001b[38;5;241m.\u001b[39mpassword \u001b[38;5;241m=\u001b[39m \u001b[38;5;28;01mNone\u001b[39;00m\n\u001b[1;32m    143\u001b[0m \u001b[38;5;28mself\u001b[39m\u001b[38;5;241m.\u001b[39m_auth(login, username, password)\n\u001b[0;32m--> 144\u001b[0m \u001b[38;5;28;43mself\u001b[39;49m\u001b[38;5;241;43m.\u001b[39;49m\u001b[43mlogin\u001b[49m\u001b[43m(\u001b[49m\u001b[43m)\u001b[49m\n\u001b[1;32m    146\u001b[0m \u001b[38;5;28mself\u001b[39m\u001b[38;5;241m.\u001b[39mredirect_url \u001b[38;5;241m=\u001b[39m \\\n\u001b[1;32m    147\u001b[0m     redirect_url \u001b[38;5;129;01mor\u001b[39;00m os\u001b[38;5;241m.\u001b[39menviron\u001b[38;5;241m.\u001b[39mget(\u001b[38;5;124m'\u001b[39m\u001b[38;5;124mPANOPTES_REDIRECT_URL\u001b[39m\u001b[38;5;124m'\u001b[39m)\n\u001b[1;32m    148\u001b[0m \u001b[38;5;28mself\u001b[39m\u001b[38;5;241m.\u001b[39mclient_secret \u001b[38;5;241m=\u001b[39m \\\n\u001b[1;32m    149\u001b[0m     client_secret \u001b[38;5;129;01mor\u001b[39;00m os\u001b[38;5;241m.\u001b[39menviron\u001b[38;5;241m.\u001b[39mget(\u001b[38;5;124m'\u001b[39m\u001b[38;5;124mPANOPTES_CLIENT_SECRET\u001b[39m\u001b[38;5;124m'\u001b[39m)\n",
      "File \u001b[0;32m~/.local/lib/python3.10/site-packages/panoptes_client/panoptes.py:504\u001b[0m, in \u001b[0;36mPanoptes.login\u001b[0;34m(self, username, password)\u001b[0m\n\u001b[1;32m    495\u001b[0m response \u001b[38;5;241m=\u001b[39m \u001b[38;5;28mself\u001b[39m\u001b[38;5;241m.\u001b[39msession\u001b[38;5;241m.\u001b[39mpost(\n\u001b[1;32m    496\u001b[0m     \u001b[38;5;28mself\u001b[39m\u001b[38;5;241m.\u001b[39mendpoint \u001b[38;5;241m+\u001b[39m \u001b[38;5;124m'\u001b[39m\u001b[38;5;124m/users/sign_in\u001b[39m\u001b[38;5;124m'\u001b[39m,\n\u001b[1;32m    497\u001b[0m     json\u001b[38;5;241m=\u001b[39mlogin_data,\n\u001b[0;32m   (...)\u001b[0m\n\u001b[1;32m    501\u001b[0m     }\n\u001b[1;32m    502\u001b[0m )\n\u001b[1;32m    503\u001b[0m \u001b[38;5;28;01mif\u001b[39;00m response\u001b[38;5;241m.\u001b[39mstatus_code \u001b[38;5;241m!=\u001b[39m \u001b[38;5;241m200\u001b[39m:\n\u001b[0;32m--> 504\u001b[0m     \u001b[38;5;28;01mraise\u001b[39;00m PanoptesAPIException(\n\u001b[1;32m    505\u001b[0m         response\u001b[38;5;241m.\u001b[39mjson()\u001b[38;5;241m.\u001b[39mget(\u001b[38;5;124m'\u001b[39m\u001b[38;5;124merror\u001b[39m\u001b[38;5;124m'\u001b[39m, \u001b[38;5;124m'\u001b[39m\u001b[38;5;124mLogin failed\u001b[39m\u001b[38;5;124m'\u001b[39m)\n\u001b[1;32m    506\u001b[0m     )\n\u001b[1;32m    507\u001b[0m \u001b[38;5;28mself\u001b[39m\u001b[38;5;241m.\u001b[39mlogged_in \u001b[38;5;241m=\u001b[39m \u001b[38;5;28;01mTrue\u001b[39;00m\n\u001b[1;32m    508\u001b[0m \u001b[38;5;28;01mreturn\u001b[39;00m response\n",
      "\u001b[0;31mPanoptesAPIException\u001b[0m: Invalid email or password."
     ]
    },
    {
     "ename": "PanoptesAPIException",
     "evalue": "Invalid email or password.",
     "output_type": "error",
     "traceback": [
      "\u001b[0;31m---------------------------------------------------------------------------\u001b[0m",
      "\u001b[0;31mPanoptesAPIException\u001b[0m                      Traceback (most recent call last)",
      "Input \u001b[0;32mIn [55]\u001b[0m, in \u001b[0;36m<cell line: 3>\u001b[0;34m()\u001b[0m\n\u001b[1;32m      1\u001b[0m email \u001b[38;5;241m=\u001b[39m \u001b[38;5;124m\"\u001b[39m\u001b[38;5;124mjsv1206@gmail.com\u001b[39m\u001b[38;5;124m\"\u001b[39m \u001b[38;5;66;03m# Please continue to use the same email address moving forward, as this is how we associate \u001b[39;00m\n\u001b[1;32m      2\u001b[0m slugName \u001b[38;5;241m=\u001b[39m \u001b[38;5;124m\"\u001b[39m\u001b[38;5;124msreevani/test-project-sj\u001b[39m\u001b[38;5;124m\"\u001b[39m \u001b[38;5;66;03m# Replace this placholder text with your slug name, do not include the leading forward-slash\u001b[39;00m\n\u001b[0;32m----> 3\u001b[0m \u001b[43mget_ipython\u001b[49m\u001b[43m(\u001b[49m\u001b[43m)\u001b[49m\u001b[38;5;241;43m.\u001b[39;49m\u001b[43mrun_line_magic\u001b[49m\u001b[43m(\u001b[49m\u001b[38;5;124;43m'\u001b[39;49m\u001b[38;5;124;43mrun\u001b[39;49m\u001b[38;5;124;43m'\u001b[39;49m\u001b[43m,\u001b[49m\u001b[43m \u001b[49m\u001b[38;5;124;43m'\u001b[39;49m\u001b[38;5;124;43mCitizen_Science_SDK.ipynb\u001b[39;49m\u001b[38;5;124;43m'\u001b[39;49m\u001b[43m)\u001b[49m\n",
      "File \u001b[0;32m/opt/lsst/software/stack/conda/miniconda3-py38_4.9.2/envs/lsst-scipipe-5.1.0/lib/python3.10/site-packages/IPython/core/interactiveshell.py:2305\u001b[0m, in \u001b[0;36mInteractiveShell.run_line_magic\u001b[0;34m(self, magic_name, line, _stack_depth)\u001b[0m\n\u001b[1;32m   2303\u001b[0m     kwargs[\u001b[38;5;124m'\u001b[39m\u001b[38;5;124mlocal_ns\u001b[39m\u001b[38;5;124m'\u001b[39m] \u001b[38;5;241m=\u001b[39m \u001b[38;5;28mself\u001b[39m\u001b[38;5;241m.\u001b[39mget_local_scope(stack_depth)\n\u001b[1;32m   2304\u001b[0m \u001b[38;5;28;01mwith\u001b[39;00m \u001b[38;5;28mself\u001b[39m\u001b[38;5;241m.\u001b[39mbuiltin_trap:\n\u001b[0;32m-> 2305\u001b[0m     result \u001b[38;5;241m=\u001b[39m \u001b[43mfn\u001b[49m\u001b[43m(\u001b[49m\u001b[38;5;241;43m*\u001b[39;49m\u001b[43margs\u001b[49m\u001b[43m,\u001b[49m\u001b[43m \u001b[49m\u001b[38;5;241;43m*\u001b[39;49m\u001b[38;5;241;43m*\u001b[39;49m\u001b[43mkwargs\u001b[49m\u001b[43m)\u001b[49m\n\u001b[1;32m   2306\u001b[0m \u001b[38;5;28;01mreturn\u001b[39;00m result\n",
      "File \u001b[0;32m/opt/lsst/software/stack/conda/miniconda3-py38_4.9.2/envs/lsst-scipipe-5.1.0/lib/python3.10/site-packages/IPython/core/magics/execution.py:717\u001b[0m, in \u001b[0;36mExecutionMagics.run\u001b[0;34m(self, parameter_s, runner, file_finder)\u001b[0m\n\u001b[1;32m    715\u001b[0m     \u001b[38;5;28;01mwith\u001b[39;00m preserve_keys(\u001b[38;5;28mself\u001b[39m\u001b[38;5;241m.\u001b[39mshell\u001b[38;5;241m.\u001b[39muser_ns, \u001b[38;5;124m'\u001b[39m\u001b[38;5;124m__file__\u001b[39m\u001b[38;5;124m'\u001b[39m):\n\u001b[1;32m    716\u001b[0m         \u001b[38;5;28mself\u001b[39m\u001b[38;5;241m.\u001b[39mshell\u001b[38;5;241m.\u001b[39muser_ns[\u001b[38;5;124m'\u001b[39m\u001b[38;5;124m__file__\u001b[39m\u001b[38;5;124m'\u001b[39m] \u001b[38;5;241m=\u001b[39m filename\n\u001b[0;32m--> 717\u001b[0m         \u001b[38;5;28;43mself\u001b[39;49m\u001b[38;5;241;43m.\u001b[39;49m\u001b[43mshell\u001b[49m\u001b[38;5;241;43m.\u001b[39;49m\u001b[43msafe_execfile_ipy\u001b[49m\u001b[43m(\u001b[49m\u001b[43mfilename\u001b[49m\u001b[43m,\u001b[49m\u001b[43m \u001b[49m\u001b[43mraise_exceptions\u001b[49m\u001b[38;5;241;43m=\u001b[39;49m\u001b[38;5;28;43;01mTrue\u001b[39;49;00m\u001b[43m)\u001b[49m\n\u001b[1;32m    718\u001b[0m     \u001b[38;5;28;01mreturn\u001b[39;00m\n\u001b[1;32m    720\u001b[0m \u001b[38;5;66;03m# Control the response to exit() calls made by the script being run\u001b[39;00m\n",
      "File \u001b[0;32m/opt/lsst/software/stack/conda/miniconda3-py38_4.9.2/envs/lsst-scipipe-5.1.0/lib/python3.10/site-packages/IPython/core/interactiveshell.py:2811\u001b[0m, in \u001b[0;36mInteractiveShell.safe_execfile_ipy\u001b[0;34m(self, fname, shell_futures, raise_exceptions)\u001b[0m\n\u001b[1;32m   2809\u001b[0m result \u001b[38;5;241m=\u001b[39m \u001b[38;5;28mself\u001b[39m\u001b[38;5;241m.\u001b[39mrun_cell(cell, silent\u001b[38;5;241m=\u001b[39m\u001b[38;5;28;01mTrue\u001b[39;00m, shell_futures\u001b[38;5;241m=\u001b[39mshell_futures)\n\u001b[1;32m   2810\u001b[0m \u001b[38;5;28;01mif\u001b[39;00m raise_exceptions:\n\u001b[0;32m-> 2811\u001b[0m     \u001b[43mresult\u001b[49m\u001b[38;5;241;43m.\u001b[39;49m\u001b[43mraise_error\u001b[49m\u001b[43m(\u001b[49m\u001b[43m)\u001b[49m\n\u001b[1;32m   2812\u001b[0m \u001b[38;5;28;01melif\u001b[39;00m \u001b[38;5;129;01mnot\u001b[39;00m result\u001b[38;5;241m.\u001b[39msuccess:\n\u001b[1;32m   2813\u001b[0m     \u001b[38;5;28;01mbreak\u001b[39;00m\n",
      "File \u001b[0;32m/opt/lsst/software/stack/conda/miniconda3-py38_4.9.2/envs/lsst-scipipe-5.1.0/lib/python3.10/site-packages/IPython/core/interactiveshell.py:251\u001b[0m, in \u001b[0;36mExecutionResult.raise_error\u001b[0;34m(self)\u001b[0m\n\u001b[1;32m    249\u001b[0m     \u001b[38;5;28;01mraise\u001b[39;00m \u001b[38;5;28mself\u001b[39m\u001b[38;5;241m.\u001b[39merror_before_exec\n\u001b[1;32m    250\u001b[0m \u001b[38;5;28;01mif\u001b[39;00m \u001b[38;5;28mself\u001b[39m\u001b[38;5;241m.\u001b[39merror_in_exec \u001b[38;5;129;01mis\u001b[39;00m \u001b[38;5;129;01mnot\u001b[39;00m \u001b[38;5;28;01mNone\u001b[39;00m:\n\u001b[0;32m--> 251\u001b[0m     \u001b[38;5;28;01mraise\u001b[39;00m \u001b[38;5;28mself\u001b[39m\u001b[38;5;241m.\u001b[39merror_in_exec\n",
      "    \u001b[0;31m[... skipping hidden 1 frame]\u001b[0m\n",
      "File \u001b[0;32m/tmp/ipykernel_12736/3555984813.py:2\u001b[0m, in \u001b[0;36m<cell line: 2>\u001b[0;34m()\u001b[0m\n\u001b[1;32m      1\u001b[0m \u001b[38;5;28;01mimport\u001b[39;00m \u001b[38;5;21;01mpanoptes_client\u001b[39;00m\n\u001b[0;32m----> 2\u001b[0m client \u001b[38;5;241m=\u001b[39m \u001b[43mpanoptes_client\u001b[49m\u001b[38;5;241;43m.\u001b[39;49m\u001b[43mPanoptes\u001b[49m\u001b[38;5;241;43m.\u001b[39;49m\u001b[43mconnect\u001b[49m\u001b[43m(\u001b[49m\u001b[43mlogin\u001b[49m\u001b[38;5;241;43m=\u001b[39;49m\u001b[38;5;124;43m\"\u001b[39;49m\u001b[38;5;124;43minteractive\u001b[39;49m\u001b[38;5;124;43m\"\u001b[39;49m\u001b[43m)\u001b[49m\n\u001b[1;32m      3\u001b[0m \u001b[38;5;28mprint\u001b[39m(\u001b[38;5;124m\"\u001b[39m\u001b[38;5;124mYou now are logged in to the Zooniverse platform.\u001b[39m\u001b[38;5;124m\"\u001b[39m)\n",
      "File \u001b[0;32m~/.local/lib/python3.10/site-packages/panoptes_client/panoptes.py:112\u001b[0m, in \u001b[0;36mPanoptes.connect\u001b[0;34m(cls, *args, **kwargs)\u001b[0m\n\u001b[1;32m     85\u001b[0m \u001b[38;5;129m@classmethod\u001b[39m\n\u001b[1;32m     86\u001b[0m \u001b[38;5;28;01mdef\u001b[39;00m \u001b[38;5;21mconnect\u001b[39m(\u001b[38;5;28mcls\u001b[39m, \u001b[38;5;241m*\u001b[39margs, \u001b[38;5;241m*\u001b[39m\u001b[38;5;241m*\u001b[39mkwargs):\n\u001b[1;32m     87\u001b[0m     \u001b[38;5;124;03m\"\"\"\u001b[39;00m\n\u001b[1;32m     88\u001b[0m \u001b[38;5;124;03m    connect(username=None, password=None, endpoint=None, admin=False)\u001b[39;00m\n\u001b[1;32m     89\u001b[0m \n\u001b[0;32m   (...)\u001b[0m\n\u001b[1;32m    110\u001b[0m \u001b[38;5;124;03m        Panoptes.connect(endpoint='https://panoptes.example.com')\u001b[39;00m\n\u001b[1;32m    111\u001b[0m \u001b[38;5;124;03m    \"\"\"\u001b[39;00m\n\u001b[0;32m--> 112\u001b[0m     \u001b[38;5;28mcls\u001b[39m\u001b[38;5;241m.\u001b[39m_local\u001b[38;5;241m.\u001b[39mpanoptes_client \u001b[38;5;241m=\u001b[39m \u001b[38;5;28;43mcls\u001b[39;49m\u001b[43m(\u001b[49m\u001b[38;5;241;43m*\u001b[39;49m\u001b[43margs\u001b[49m\u001b[43m,\u001b[49m\u001b[43m \u001b[49m\u001b[38;5;241;43m*\u001b[39;49m\u001b[38;5;241;43m*\u001b[39;49m\u001b[43mkwargs\u001b[49m\u001b[43m)\u001b[49m\n\u001b[1;32m    113\u001b[0m     \u001b[38;5;28mcls\u001b[39m\u001b[38;5;241m.\u001b[39m_local\u001b[38;5;241m.\u001b[39mpanoptes_client\u001b[38;5;241m.\u001b[39mlogin()\n\u001b[1;32m    114\u001b[0m     \u001b[38;5;28;01mreturn\u001b[39;00m \u001b[38;5;28mcls\u001b[39m\u001b[38;5;241m.\u001b[39m_local\u001b[38;5;241m.\u001b[39mpanoptes_client\n",
      "File \u001b[0;32m~/.local/lib/python3.10/site-packages/panoptes_client/panoptes.py:144\u001b[0m, in \u001b[0;36mPanoptes.__init__\u001b[0;34m(self, endpoint, client_id, client_secret, redirect_url, username, password, login, admin)\u001b[0m\n\u001b[1;32m    142\u001b[0m \u001b[38;5;28mself\u001b[39m\u001b[38;5;241m.\u001b[39mpassword \u001b[38;5;241m=\u001b[39m \u001b[38;5;28;01mNone\u001b[39;00m\n\u001b[1;32m    143\u001b[0m \u001b[38;5;28mself\u001b[39m\u001b[38;5;241m.\u001b[39m_auth(login, username, password)\n\u001b[0;32m--> 144\u001b[0m \u001b[38;5;28;43mself\u001b[39;49m\u001b[38;5;241;43m.\u001b[39;49m\u001b[43mlogin\u001b[49m\u001b[43m(\u001b[49m\u001b[43m)\u001b[49m\n\u001b[1;32m    146\u001b[0m \u001b[38;5;28mself\u001b[39m\u001b[38;5;241m.\u001b[39mredirect_url \u001b[38;5;241m=\u001b[39m \\\n\u001b[1;32m    147\u001b[0m     redirect_url \u001b[38;5;129;01mor\u001b[39;00m os\u001b[38;5;241m.\u001b[39menviron\u001b[38;5;241m.\u001b[39mget(\u001b[38;5;124m'\u001b[39m\u001b[38;5;124mPANOPTES_REDIRECT_URL\u001b[39m\u001b[38;5;124m'\u001b[39m)\n\u001b[1;32m    148\u001b[0m \u001b[38;5;28mself\u001b[39m\u001b[38;5;241m.\u001b[39mclient_secret \u001b[38;5;241m=\u001b[39m \\\n\u001b[1;32m    149\u001b[0m     client_secret \u001b[38;5;129;01mor\u001b[39;00m os\u001b[38;5;241m.\u001b[39menviron\u001b[38;5;241m.\u001b[39mget(\u001b[38;5;124m'\u001b[39m\u001b[38;5;124mPANOPTES_CLIENT_SECRET\u001b[39m\u001b[38;5;124m'\u001b[39m)\n",
      "File \u001b[0;32m~/.local/lib/python3.10/site-packages/panoptes_client/panoptes.py:504\u001b[0m, in \u001b[0;36mPanoptes.login\u001b[0;34m(self, username, password)\u001b[0m\n\u001b[1;32m    495\u001b[0m response \u001b[38;5;241m=\u001b[39m \u001b[38;5;28mself\u001b[39m\u001b[38;5;241m.\u001b[39msession\u001b[38;5;241m.\u001b[39mpost(\n\u001b[1;32m    496\u001b[0m     \u001b[38;5;28mself\u001b[39m\u001b[38;5;241m.\u001b[39mendpoint \u001b[38;5;241m+\u001b[39m \u001b[38;5;124m'\u001b[39m\u001b[38;5;124m/users/sign_in\u001b[39m\u001b[38;5;124m'\u001b[39m,\n\u001b[1;32m    497\u001b[0m     json\u001b[38;5;241m=\u001b[39mlogin_data,\n\u001b[0;32m   (...)\u001b[0m\n\u001b[1;32m    501\u001b[0m     }\n\u001b[1;32m    502\u001b[0m )\n\u001b[1;32m    503\u001b[0m \u001b[38;5;28;01mif\u001b[39;00m response\u001b[38;5;241m.\u001b[39mstatus_code \u001b[38;5;241m!=\u001b[39m \u001b[38;5;241m200\u001b[39m:\n\u001b[0;32m--> 504\u001b[0m     \u001b[38;5;28;01mraise\u001b[39;00m PanoptesAPIException(\n\u001b[1;32m    505\u001b[0m         response\u001b[38;5;241m.\u001b[39mjson()\u001b[38;5;241m.\u001b[39mget(\u001b[38;5;124m'\u001b[39m\u001b[38;5;124merror\u001b[39m\u001b[38;5;124m'\u001b[39m, \u001b[38;5;124m'\u001b[39m\u001b[38;5;124mLogin failed\u001b[39m\u001b[38;5;124m'\u001b[39m)\n\u001b[1;32m    506\u001b[0m     )\n\u001b[1;32m    507\u001b[0m \u001b[38;5;28mself\u001b[39m\u001b[38;5;241m.\u001b[39mlogged_in \u001b[38;5;241m=\u001b[39m \u001b[38;5;28;01mTrue\u001b[39;00m\n\u001b[1;32m    508\u001b[0m \u001b[38;5;28;01mreturn\u001b[39;00m response\n",
      "\u001b[0;31mPanoptesAPIException\u001b[0m: Invalid email or password."
     ]
    }
   ],
   "source": [
    "email = \"jsv1206@gmail.com\" # Please continue to use the same email address moving forward, as this is how we associate \n",
    "slugName = \"sreevani/test-project-sj\" # Replace this placholder text with your slug name, do not include the leading forward-slash\n",
    "%run Citizen_Science_SDK.ipynb"
   ]
  },
  {
   "cell_type": "code",
   "execution_count": 49,
   "id": "c430ddd2-a0f2-4587-b605-642cdaeaed54",
   "metadata": {
    "execution": {
     "iopub.execute_input": "2023-02-23T19:30:59.211983Z",
     "iopub.status.busy": "2023-02-23T19:30:59.211265Z",
     "iopub.status.idle": "2023-02-23T19:30:59.216292Z",
     "shell.execute_reply": "2023-02-23T19:30:59.215676Z",
     "shell.execute_reply.started": "2023-02-23T19:30:59.211958Z"
    },
    "tags": []
   },
   "outputs": [],
   "source": [
    "cutouts = []\n",
    "for index, row in variable_stars[0:2].iterrows():\n",
    "    for band in bands:\n",
    "        figout_data = {\n",
    "        \"filename\": str(row['id_truth_type'])+\"_\"+band+\".png\",\n",
    "        \"objectId\": row['id_truth_type']\n",
    "    }\n",
    "        cutouts.append(figout_data)\n",
    "        \n",
    "cutout_dir = batch_dir+\"/coadd_images/\""
   ]
  },
  {
   "cell_type": "code",
   "execution_count": 54,
   "id": "c08f519a-0ff4-4c2b-9d73-1bf632c20db9",
   "metadata": {
    "execution": {
     "iopub.execute_input": "2023-02-23T19:44:53.545038Z",
     "iopub.status.busy": "2023-02-23T19:44:53.544197Z",
     "iopub.status.idle": "2023-02-23T19:45:01.367131Z",
     "shell.execute_reply": "2023-02-23T19:45:01.366573Z",
     "shell.execute_reply.started": "2023-02-23T19:44:53.545012Z"
    },
    "tags": []
   },
   "outputs": [
    {
     "data": {
      "text/plain": [
       "'1. Checking batch status'"
      ]
     },
     "metadata": {},
     "output_type": "display_data"
    },
    {
     "data": {
      "text/plain": [
       "'2. Writing metadata file required by the Rubin EPO Data Center.'"
      ]
     },
     "metadata": {},
     "output_type": "display_data"
    },
    {
     "data": {
      "text/plain": [
       "'3. Zipping up all the astro cutouts - this can take a few minutes with large data sets, but unlikely more than 10 minutes.'"
      ]
     },
     "metadata": {},
     "output_type": "display_data"
    },
    {
     "data": {
      "text/plain": [
       "'4. Uploading the citizen science data'"
      ]
     },
     "metadata": {},
     "output_type": "display_data"
    },
    {
     "data": {
      "text/plain": [
       "'5. Creating a new Zooniverse subject set'"
      ]
     },
     "metadata": {},
     "output_type": "display_data"
    },
    {
     "data": {
      "text/plain": [
       "'6. Notifying the Rubin EPO Data Center of the new data, which will finish processing of the data and notify Zooniverse'"
      ]
     },
     "metadata": {},
     "output_type": "display_data"
    },
    {
     "data": {
      "text/plain": [
       "'7. Cleaning up unused subject set on the Zooniverse platform, vendor_batch_id : 111814'"
      ]
     },
     "metadata": {},
     "output_type": "display_data"
    },
    {
     "data": {
      "text/plain": [
       "'8. Cleaning up unused subject set on the Zooniverse platform, vendor_batch_id : 111814'"
      ]
     },
     "metadata": {},
     "output_type": "display_data"
    },
    {
     "data": {
      "text/plain": [
       "\"** Warning: Failed to find the subject set with id: 111814- perhaps it's been deleted?.\""
      ]
     },
     "metadata": {},
     "output_type": "display_data"
    },
    {
     "data": {
      "text/html": [
       "<pre style=\"margin: 0.1em;\n",
       "padding-left: 0.25em;\n",
       "border-left-style: solid;\n",
       "font-family: var(--jp-code-font-family);\n",
       "font-size: var(--jp-code-font-size);\n",
       "line-height: var(--jp-code-line-height);\n",
       "\"><span style=\"color: var(--jp-warn-color2)\">root</span> <span style=\"color: var(--jp-error-color2)\">ERROR</span>: ** One or more errors occurred during the last step **</pre>"
      ],
      "text/plain": [
       "<IPython.core.display.HTML object>"
      ]
     },
     "metadata": {},
     "output_type": "display_data"
    },
    {
     "data": {
      "text/html": [
       "<pre style=\"margin: 0.1em;\n",
       "padding-left: 0.25em;\n",
       "border-left-style: solid;\n",
       "font-family: var(--jp-code-font-family);\n",
       "font-size: var(--jp-code-font-size);\n",
       "line-height: var(--jp-code-line-height);\n",
       "\"><span style=\"color: var(--jp-warn-color2)\">root</span> <span style=\"color: var(--jp-error-color2)\">ERROR</span>: An error occurred while processing the HiPS cutouts upload</pre>"
      ],
      "text/plain": [
       "<IPython.core.display.HTML object>"
      ]
     },
     "metadata": {},
     "output_type": "display_data"
    }
   ],
   "source": [
    "subject_set_name = \"variable_stars_cutouts\" \n",
    "__cit_sci_data_type = _HIPS_CUTOUTS # Important: DO NOT change this value. Update - this value may be changed.\n",
    "send_data(subject_set_name, cutout_dir, cutouts)"
   ]
  },
  {
   "cell_type": "code",
   "execution_count": null,
   "id": "35016218-8203-4752-8f6f-9a302b140503",
   "metadata": {},
   "outputs": [],
   "source": []
  }
 ],
 "metadata": {
  "kernelspec": {
   "display_name": "LSST",
   "language": "python",
   "name": "lsst"
  },
  "language_info": {
   "codemirror_mode": {
    "name": "ipython",
    "version": 3
   },
   "file_extension": ".py",
   "mimetype": "text/x-python",
   "name": "python",
   "nbconvert_exporter": "python",
   "pygments_lexer": "ipython3",
   "version": "3.10.9"
  }
 },
 "nbformat": 4,
 "nbformat_minor": 5
}
