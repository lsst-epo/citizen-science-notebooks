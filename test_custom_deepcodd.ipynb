{
 "cells": [
  {
   "cell_type": "code",
   "execution_count": null,
   "id": "70e4ca51-ba7d-4875-aa35-3ca1280a5c55",
   "metadata": {
    "tags": []
   },
   "outputs": [],
   "source": [
    "# %load_ext pycodestyle_magic\n",
    "# %flake8_on\n",
    "# import logging\n",
    "# logging.getLogger(\"flake8\").setLevel(logging.FATAL)"
   ]
  },
  {
   "cell_type": "markdown",
   "id": "8fabc5dc-c078-4087-b377-21f36c9143d9",
   "metadata": {
    "tags": []
   },
   "source": [
    "<img align=\"left\" src = https://project.lsst.org/sites/default/files/Rubin-O-Logo_0.png width=250 style=\"padding: 10px\"> \n",
    "<b>Citzen Science Notebook</b> <br>\n",
    "Contact author: Sreevani Jarugula <br>\n",
    "Last verified to run: 2023-04-20 <br>\n",
    "LSST Science Pipelines version: Weekly 2023_xx <br>\n",
    "Container size: medium <br>\n"
   ]
  },
  {
   "cell_type": "markdown",
   "id": "894cd71b-ff56-4f39-8288-5cc7ab45264c",
   "metadata": {
    "jp-MarkdownHeadingCollapsed": true,
    "tags": []
   },
   "source": [
    "**Description:**\n",
    "Query and send variable star images and light curves from RSP to Zooniverse"
   ]
  },
  {
   "cell_type": "markdown",
   "id": "e7007893-1008-4613-8e91-b2a2d265dfac",
   "metadata": {},
   "source": [
    "**Skills:** Use various TAP tables, including joining multiple tables. Get calexp images. Extract time-series photometry."
   ]
  },
  {
   "cell_type": "markdown",
   "id": "1a3a9956-ea47-4a31-934a-c8388581de54",
   "metadata": {},
   "source": [
    "**LSST Data Products:** TAP tables dp02_dc2_catalogs.MatchesTruth, TruthSummary, ForcedSource, CcdVisit<br>"
   ]
  },
  {
   "cell_type": "markdown",
   "id": "14ff42dd-a31d-43d2-93cb-7caa541993aa",
   "metadata": {},
   "source": [
    "**Packages:** astropy, lsst.rsp.get_tap_service, lsst.rsp.retrieve_query, lsst.daf.butler, lsst.afw.display, lsst.geom "
   ]
  },
  {
   "cell_type": "markdown",
   "id": "2d955084-1fa1-42da-b0b4-584321c62db4",
   "metadata": {},
   "source": [
    "**Credit:** Tutorial notebooks 03a, 04a, 04b, 07b, and 08"
   ]
  },
  {
   "cell_type": "markdown",
   "id": "4cbc905d-8e9b-4ff9-b95d-e17b9b668385",
   "metadata": {},
   "source": [
    "**Support:** Support is available and questions are welcome - (some email/link etc)\n",
    "\n",
    "DEBUG VERSION note that this version of the notebook contains additional debugging and the first cell will need to be run once"
   ]
  },
  {
   "cell_type": "markdown",
   "id": "38b0044f-d4c2-4810-a842-33f49bf5f969",
   "metadata": {},
   "source": [
    "## 1. Introduction\n",
    "\n",
    "This notebook is intended to guide a PI through the process of sending variable data from the Rubin Science Platform (RSP) to the Zooniverse. A detailed guide to Citizen Science projects, outlining the process, requirements and support available is here: (link to citscipiguide) The data sent can be currated on the RSP as a necessary and take many forms. Here, we include an example of sending png cutout images of a single variable star over different exposures. We encourage PIs new to the Rubin dataset to explore the tutorial notebooks and documentation.\n",
    "\n",
    "This notebook will restrict the number of object sent to the Zooniverse to one variable star over five exposures."
   ]
  },
  {
   "cell_type": "markdown",
   "id": "276fc1c1-8cf6-4224-b554-86eee8078c19",
   "metadata": {},
   "source": [
    "### Log in to the Zooniverse Platform & Activate Citizen Science SDK\n",
    "\n",
    "If you haven't already, create a Zooniverse account here. and create your project. Your project must be set to \"public\". To set your project to public, select the \"Visibility\" tab. Note you will need to enter your username, password, and project slug below.\n",
    "\n",
    "After creating your account and project, return to this notebook.\n",
    "\n",
    "Supply your email and project slug below.\n",
    "\n",
    "A \"slug\" is the string of your Zooniverse username and your project name without the leading forward slash, for instance: \"username/project-name\".\n",
    "\n",
    "For more details, see: https://www.zooniverse.org/talk/18/967061?comment=1898157&page=1.\n",
    "\n",
    "IMPORTANT: Your Zooniverse project must be set to \"public\", a \"private\" project will not work. Select this setting under the \"Visibility\" tab, (it does not need to be set to live). The following code will not work if you have not authenticated in the cell titled \"Log in to Zooniverse\"."
   ]
  },
  {
   "cell_type": "code",
   "execution_count": 1,
   "id": "fbf75f65-c43b-416c-88ae-ada6bae363ba",
   "metadata": {
    "execution": {
     "iopub.execute_input": "2023-09-15T15:58:55.188867Z",
     "iopub.status.busy": "2023-09-15T15:58:55.188166Z",
     "iopub.status.idle": "2023-09-15T15:58:57.443175Z",
     "shell.execute_reply": "2023-09-15T15:58:57.442074Z",
     "shell.execute_reply.started": "2023-09-15T15:58:55.188839Z"
    },
    "tags": []
   },
   "outputs": [],
   "source": [
    "# !pip install --upgrade --force-reinstall --no-deps rubin.citsci --quiet"
   ]
  },
  {
   "cell_type": "markdown",
   "id": "c2ac0fe9-0a21-48a2-a4e8-8c5d605967a9",
   "metadata": {},
   "source": [
    "## 1.1 Package imports"
   ]
  },
  {
   "cell_type": "code",
   "execution_count": 1,
   "id": "843a7c50-8c33-417d-8d01-b02656361681",
   "metadata": {
    "execution": {
     "iopub.execute_input": "2023-09-21T15:26:23.146188Z",
     "iopub.status.busy": "2023-09-21T15:26:23.145397Z",
     "iopub.status.idle": "2023-09-21T15:26:25.452374Z",
     "shell.execute_reply": "2023-09-21T15:26:25.451613Z",
     "shell.execute_reply.started": "2023-09-21T15:26:23.146157Z"
    },
    "tags": []
   },
   "outputs": [],
   "source": [
    "import utils\n",
    "\n",
    "import matplotlib.pyplot as plt\n",
    "import gc\n",
    "import numpy as np\n",
    "import pandas\n",
    "import pandas as pd\n",
    "import time\n",
    "import os\n",
    "\n",
    "# Astropy imports\n",
    "from astropy.wcs import WCS\n",
    "from astropy.visualization import make_lupton_rgb\n",
    "from astropy import units as u\n",
    "from astropy.coordinates import SkyCoord\n",
    "\n",
    "# Import the Rubin TAP service utilities\n",
    "from lsst.rsp import get_tap_service, retrieve_query\n",
    "\n",
    "# Image visualization routines.\n",
    "import lsst.afw.display as afwDisplay\n",
    "# The Butler provides programmatic access to LSST data products.\n",
    "from lsst.daf.butler import Butler\n",
    "# Geometry package\n",
    "import lsst.geom as geom\n",
    "# Object for multi-band exposures\n",
    "from lsst.afw.image import MultibandExposure\n",
    "\n",
    "import lsst.daf.butler as dafButler\n",
    "import lsst.geom\n",
    "import lsst.afw.display as afwDisplay\n",
    "\n",
    "# Must explicitly set this to save figures\n",
    "afwDisplay.setDefaultBackend(\"matplotlib\")\n"
   ]
  },
  {
   "cell_type": "markdown",
   "id": "694302cb-593a-4ed3-b640-ad2dcbc3f42e",
   "metadata": {},
   "source": [
    "### 1.1.1 Initializing TAP and Butler"
   ]
  },
  {
   "cell_type": "code",
   "execution_count": 2,
   "id": "4ee439f4-2a67-48c6-b4c6-2642637b11c9",
   "metadata": {
    "execution": {
     "iopub.execute_input": "2023-09-21T15:26:29.155714Z",
     "iopub.status.busy": "2023-09-21T15:26:29.154792Z",
     "iopub.status.idle": "2023-09-21T15:26:32.453989Z",
     "shell.execute_reply": "2023-09-21T15:26:32.453167Z",
     "shell.execute_reply.started": "2023-09-21T15:26:29.155679Z"
    },
    "tags": []
   },
   "outputs": [],
   "source": [
    "config = 'dp02'\n",
    "collection = '2.2i/runs/DP0.2'\n",
    "service, butler, skymap = utils.setup_butler(config, collection)"
   ]
  },
  {
   "cell_type": "markdown",
   "id": "2cc06051-63d0-4537-bdf1-57d25a6e4d71",
   "metadata": {},
   "source": [
    "### 1.2 Define Functions and Parameters"
   ]
  },
  {
   "cell_type": "markdown",
   "id": "b850948a-40cd-48f4-b2d4-e689159d0d87",
   "metadata": {},
   "source": [
    "### 1.2.1 Variable star related parameters"
   ]
  },
  {
   "cell_type": "code",
   "execution_count": 3,
   "id": "b0ee631c-c7e6-431e-8529-eacaceeb5491",
   "metadata": {
    "execution": {
     "iopub.execute_input": "2023-09-21T15:26:32.461196Z",
     "iopub.status.busy": "2023-09-21T15:26:32.460985Z",
     "iopub.status.idle": "2023-09-21T15:26:32.464889Z",
     "shell.execute_reply": "2023-09-21T15:26:32.464238Z",
     "shell.execute_reply.started": "2023-09-21T15:26:32.461178Z"
    },
    "tags": []
   },
   "outputs": [],
   "source": [
    "query_num_stars = 2 # number of variable stars to query \n",
    "\n",
    "# Set any RA and DEC in degrees. This is the centre of your search radius\n",
    "# In this example notebook we are looking at one known RR-Lyrae. \n",
    "\n",
    "ra_known_rrl = 62.1479031\n",
    "dec_known_rrl = -35.799138\n",
    "\n",
    "search_radius = 0.001 # Search radius in degrees\n",
    "\n",
    "num_variable_images = 5 # For each variable stars, number of images to query to create flipbook (gif)\n",
    "\n",
    "image_size = 20 # image size for cutouts\n",
    "\n",
    "bands = ['g','r','i'] # bands to get flux for to create a lightcurve"
   ]
  },
  {
   "cell_type": "markdown",
   "id": "d4e5d710-210b-46e0-b212-4bad72d5d6dc",
   "metadata": {},
   "source": [
    "### 1.2.4 Create relevant directories"
   ]
  },
  {
   "cell_type": "code",
   "execution_count": 4,
   "id": "5c69e266-8bb3-4d44-bb59-bb05e2826a6b",
   "metadata": {
    "execution": {
     "iopub.execute_input": "2023-09-21T14:16:34.230117Z",
     "iopub.status.busy": "2023-09-21T14:16:34.229759Z",
     "iopub.status.idle": "2023-09-21T14:16:34.379269Z",
     "shell.execute_reply": "2023-09-21T14:16:34.377962Z",
     "shell.execute_reply.started": "2023-09-21T14:16:34.230092Z"
    },
    "tags": []
   },
   "outputs": [],
   "source": [
    "plots = [] # empty list for plots\n",
    "\n",
    "# main directory\n",
    "batch_dir = './variable_stars_output/' \n",
    "\n",
    "if os.path.isdir(batch_dir) == False:\n",
    "    os.mkdir(batch_dir)\n",
    "\n",
    "# cutouts directory\n",
    "if os.path.isdir(batch_dir+'images') == False:\n",
    "    os.mkdir(batch_dir+'images')\n",
    "else:\n",
    "    os.system('rm -r '+batch_dir+'images/*')\n",
    "\n",
    "# light curve directory\n",
    "if os.path.isdir(batch_dir+'lc_plots') == False:\n",
    "    os.mkdir(batch_dir+'lc_plots')\n",
    "else:\n",
    "    os.system('rm -r '+batch_dir+'lc_plots/*')\n",
    "\n",
    "# light curve text file directory\n",
    "if os.path.isdir(batch_dir+'text_files') == False:\n",
    "    os.mkdir(batch_dir+'text_files')\n",
    "else:\n",
    "    os.system('rm -r '+batch_dir+'text_files/*')"
   ]
  },
  {
   "cell_type": "markdown",
   "id": "e294a393-997b-4c5a-8d72-87ff138dc4b5",
   "metadata": {},
   "source": [
    "### 1.2.5 Query and Plotting functions"
   ]
  },
  {
   "cell_type": "code",
   "execution_count": 5,
   "id": "7e79e7d5-6d45-4c79-81b5-02d3528ce7fc",
   "metadata": {
    "execution": {
     "iopub.execute_input": "2023-09-21T15:26:50.785090Z",
     "iopub.status.busy": "2023-09-21T15:26:50.784419Z",
     "iopub.status.idle": "2023-09-21T15:26:50.791100Z",
     "shell.execute_reply": "2023-09-21T15:26:50.790326Z",
     "shell.execute_reply.started": "2023-09-21T15:26:50.785052Z"
    },
    "tags": []
   },
   "outputs": [],
   "source": [
    "def query_stars(ra_deg, dec_deg, radius_deg, limit):\n",
    "    \"\"\"\n",
    "    Query variable stars from dp02_dc2_catalogs.MatchesTruth and dc2_catalogs.TruthSummary\n",
    "    \n",
    "    To query more than one star within the circle of search, change = 1 to <= 1\n",
    "    \n",
    "    Selecting stars (truth_type=2)\n",
    "    variable (is_variable = 1)\n",
    "    is_pointsource = 1\n",
    "\n",
    "    Input Parameters\n",
    "    ----------\n",
    "    ra_deg : ra of the centre of search in degrees\n",
    "    dec_deg : dec of the centre of search in degrees\n",
    "    radius_deg : radius within which to search for\n",
    "    limit : number of variable stars to retireve\n",
    "    \n",
    "    Returns\n",
    "    ----------\n",
    "    Table of variable stars as pandas dataframe\n",
    "    \"\"\"\n",
    "    query = \"SELECT mt.id_truth_type, mt.match_objectId, ts.ra, ts.dec \"\\\n",
    "            \"FROM dp02_dc2_catalogs.MatchesTruth AS mt \"\\\n",
    "            \"JOIN dp02_dc2_catalogs.TruthSummary AS ts ON mt.id_truth_type = ts.id_truth_type \"\\\n",
    "            \"WHERE ts.truth_type=2 \"\\\n",
    "            \"AND ts.is_variable = 1 \"\\\n",
    "            \"AND ts.is_pointsource = 1 \"\\\n",
    "            \"AND mt.match_objectId > 1 \"\\\n",
    "            \"AND CONTAINS(POINT('ICRS', ts.ra, ts.dec), CIRCLE('ICRS', \"+ str(ra_deg)+\", \"+str(dec_deg)+\", \"+str(radius_deg)+\")) <= 1 \"\\\n",
    "            \"LIMIT \"+str(limit)+\" \"\n",
    "    results = service.search(query)\n",
    "    variable_stars = results.to_table().to_pandas()\n",
    "    return variable_stars\n",
    "\n",
    "def query_flux(objid):\n",
    "    \"\"\"\n",
    "    Query to get the flux for each variable star at all bands\n",
    "\n",
    "    Input Parameters\n",
    "    ----------\n",
    "    objid : Object ID of the variable star obtained from query_stars\n",
    "    \n",
    "    Returns\n",
    "    ----------\n",
    "    Table of flux of variable star \n",
    "    \"\"\"\n",
    "    query = \"SELECT src.band, src.ccdVisitId, src.coord_ra, src.coord_dec, \"\\\n",
    "            \"src.objectId, src.psfFlux, src.psfFluxErr, \"\\\n",
    "            \"visinfo.detector, visinfo.visitId, \"\\\n",
    "            \"scisql_nanojanskyToAbMag(psfFlux) as psfMag, \"\\\n",
    "            \"visinfo.band, \"\\\n",
    "            \"visinfo.expMidptMJD \"\\\n",
    "            \"FROM dp02_dc2_catalogs.ForcedSource as src \"\\\n",
    "            \"JOIN dp02_dc2_catalogs.CcdVisit as visinfo \"\\\n",
    "            \"ON visinfo.ccdVisitId = src.ccdVisitId \"\\\n",
    "            \"WHERE src.objectId = \"+str(objid)+\" \"\n",
    "    table = service.search(query)\n",
    "    flux_table = table.to_table()\n",
    "    return flux_table"
   ]
  },
  {
   "cell_type": "markdown",
   "id": "1f4e6702-988a-4c04-a21a-ae31592ccdc5",
   "metadata": {},
   "source": [
    "## testing the deepcoadd imaging"
   ]
  },
  {
   "cell_type": "code",
   "execution_count": 12,
   "id": "df4197c8-e80f-4457-b008-ce1ee80300be",
   "metadata": {
    "execution": {
     "iopub.execute_input": "2023-09-21T15:35:50.393231Z",
     "iopub.status.busy": "2023-09-21T15:35:50.392832Z",
     "iopub.status.idle": "2023-09-21T15:35:50.397948Z",
     "shell.execute_reply": "2023-09-21T15:35:50.396921Z",
     "shell.execute_reply.started": "2023-09-21T15:35:50.393202Z"
    },
    "tags": []
   },
   "outputs": [],
   "source": [
    "my_star = 1651589610221899038\n",
    "my_ra_deg = 62.1479018\n",
    "my_dec_deg = -35.7991382\n",
    "my_filter = 'i'"
   ]
  },
  {
   "cell_type": "code",
   "execution_count": 17,
   "id": "6e0365b2-fb1d-4381-8773-16d4a4ad0e71",
   "metadata": {
    "execution": {
     "iopub.execute_input": "2023-09-21T15:37:26.943297Z",
     "iopub.status.busy": "2023-09-21T15:37:26.942485Z",
     "iopub.status.idle": "2023-09-21T15:37:28.149363Z",
     "shell.execute_reply": "2023-09-21T15:37:28.148645Z",
     "shell.execute_reply.started": "2023-09-21T15:37:26.943269Z"
    },
    "tags": []
   },
   "outputs": [
    {
     "name": "stdout",
     "output_type": "stream",
     "text": [
      "My tract and patch:  3831 45\n"
     ]
    }
   ],
   "source": [
    "my_spherePoint = lsst.geom.SpherePoint(my_ra_deg*lsst.geom.degrees, my_dec_deg*lsst.geom.degrees)\n",
    "\n",
    "skymap = butler.get('skyMap')\n",
    "tract = skymap.findTract(my_spherePoint)\n",
    "my_tract = tract.tract_id\n",
    "my_patch = tract.findPatch(my_spherePoint).getSequentialIndex()\n",
    "print('My tract and patch: ', my_tract, my_patch)\n",
    "\n",
    "my_dataId = {'band': my_filter, 'tract': my_tract, 'patch': my_patch}\n",
    "my_deepCoadd_wcs = butler.get('deepCoadd.wcs', dataId=my_dataId)\n",
    "\n",
    "cutoutSize = geom.ExtentI(100, 100)\n",
    "xy = geom.PointI(my_deepCoadd_wcs.skyToPixel(my_spherePoint))\n",
    "bbox = geom.BoxI(xy - cutoutSize // 2, cutoutSize)\n",
    "parameters = {'bbox': bbox}\n",
    "# print('xy: ',xy)\n",
    "# print('bbox: ',bbox)\n",
    "\n",
    "my_deepCoadd = butler.get('deepCoadd', parameters=parameters, dataId=my_dataId)\n",
    "\n",
    "del my_ra_deg, my_dec_deg, my_filter, my_spherePoint, skymap, tract"
   ]
  },
  {
   "cell_type": "code",
   "execution_count": 18,
   "id": "99f382de-f239-4e5d-8c3e-8422149f8f71",
   "metadata": {
    "execution": {
     "iopub.execute_input": "2023-09-21T15:37:29.240313Z",
     "iopub.status.busy": "2023-09-21T15:37:29.239713Z",
     "iopub.status.idle": "2023-09-21T15:37:29.539543Z",
     "shell.execute_reply": "2023-09-21T15:37:29.538883Z",
     "shell.execute_reply.started": "2023-09-21T15:37:29.240277Z"
    },
    "tags": []
   },
   "outputs": [
    {
     "data": {
      "text/plain": [
       "(13716.5, 13816.5, 25597.5, 25697.5)"
      ]
     },
     "execution_count": 18,
     "metadata": {},
     "output_type": "execute_result"
    },
    {
     "data": {
      "image/png": "[encoded data removed]",
      "text/plain": [
       "<Figure size 600x400 with 2 Axes>"
      ]
     },
     "metadata": {},
     "output_type": "display_data"
    }
   ],
   "source": [
    "fig = plt.figure(figsize=(6, 4))\n",
    "afw_display = afwDisplay.Display(1)\n",
    "afw_display.scale('asinh', 'zscale')\n",
    "afw_display.mtv(my_deepCoadd.image)\n",
    "plt.gca().axis('off')"
   ]
  },
  {
   "cell_type": "code",
   "execution_count": 19,
   "id": "c516071c-bc74-45d6-b7c7-9481c190e148",
   "metadata": {
    "execution": {
     "iopub.execute_input": "2023-09-21T15:37:50.500737Z",
     "iopub.status.busy": "2023-09-21T15:37:50.499894Z",
     "iopub.status.idle": "2023-09-21T15:37:50.503957Z",
     "shell.execute_reply": "2023-09-21T15:37:50.503315Z",
     "shell.execute_reply.started": "2023-09-21T15:37:50.500705Z"
    },
    "tags": []
   },
   "outputs": [],
   "source": [
    "my_coadd_inputs = my_deepCoadd.getInfo().getCoaddInputs()"
   ]
  },
  {
   "cell_type": "code",
   "execution_count": 20,
   "id": "aba32165-79c9-45d3-94fd-0fdea235dbaf",
   "metadata": {
    "execution": {
     "iopub.execute_input": "2023-09-21T15:37:58.848232Z",
     "iopub.status.busy": "2023-09-21T15:37:58.847371Z",
     "iopub.status.idle": "2023-09-21T15:37:58.852251Z",
     "shell.execute_reply": "2023-09-21T15:37:58.851650Z",
     "shell.execute_reply.started": "2023-09-21T15:37:58.848201Z"
    },
    "tags": []
   },
   "outputs": [
    {
     "data": {
      "text/plain": [
       "136"
      ]
     },
     "execution_count": 20,
     "metadata": {},
     "output_type": "execute_result"
    }
   ],
   "source": [
    "len(my_coadd_inputs.visits)"
   ]
  },
  {
   "cell_type": "code",
   "execution_count": 23,
   "id": "1aa35bd6-36aa-45b5-9352-444ac0ca63af",
   "metadata": {
    "execution": {
     "iopub.execute_input": "2023-09-21T15:38:56.144092Z",
     "iopub.status.busy": "2023-09-21T15:38:56.143274Z",
     "iopub.status.idle": "2023-09-21T15:38:56.154364Z",
     "shell.execute_reply": "2023-09-21T15:38:56.153679Z",
     "shell.execute_reply.started": "2023-09-21T15:38:56.144062Z"
    },
    "tags": []
   },
   "outputs": [
    {
     "data": {
      "text/html": [
       "<div><i>Table length=136</i>\n",
       "<table id=\"table140144388566720\" class=\"table-striped table-bordered table-condensed\">\n",
       "<thead><tr><th>id</th><th>bbox_min_x</th><th>bbox_min_y</th><th>bbox_max_x</th><th>bbox_max_y</th><th>goodpix</th><th>weight</th><th>filter</th></tr></thead>\n",
       "<thead><tr><th></th><th>pix</th><th>pix</th><th>pix</th><th>pix</th><th></th><th></th><th></th></tr></thead>\n",
       "<thead><tr><th>int64</th><th>int32</th><th>int32</th><th>int32</th><th>int32</th><th>int32</th><th>float64</th><th>str32</th></tr></thead>\n",
       "<tr><td>204710</td><td>11900</td><td>23900</td><td>16099</td><td>27999</td><td>15503370</td><td>4.315546048438744</td><td>i_sim_1.4</td></tr>\n",
       "<tr><td>211199</td><td>11900</td><td>23900</td><td>16099</td><td>27999</td><td>15575907</td><td>1.6160897993241512</td><td>i_sim_1.4</td></tr>\n",
       "<tr><td>211488</td><td>11900</td><td>23900</td><td>16099</td><td>27999</td><td>15603079</td><td>1.831360701618286</td><td>i_sim_1.4</td></tr>\n",
       "<tr><td>211540</td><td>11900</td><td>23900</td><td>16099</td><td>27999</td><td>15641118</td><td>1.799486066487487</td><td>i_sim_1.4</td></tr>\n",
       "<tr><td>211544</td><td>11900</td><td>23900</td><td>16099</td><td>27999</td><td>15914683</td><td>1.8089723915585976</td><td>i_sim_1.4</td></tr>\n",
       "<tr><td>214463</td><td>11900</td><td>23900</td><td>16099</td><td>27999</td><td>15563302</td><td>4.6260464374356784</td><td>i_sim_1.4</td></tr>\n",
       "<tr><td>214517</td><td>11900</td><td>23900</td><td>16099</td><td>27999</td><td>15604428</td><td>4.417556998079759</td><td>i_sim_1.4</td></tr>\n",
       "<tr><td>214520</td><td>11900</td><td>23900</td><td>16099</td><td>27999</td><td>15651849</td><td>4.436038864305851</td><td>i_sim_1.4</td></tr>\n",
       "<tr><td>214558</td><td>11900</td><td>23900</td><td>16099</td><td>27999</td><td>15650204</td><td>4.036904147898304</td><td>i_sim_1.4</td></tr>\n",
       "<tr><td>...</td><td>...</td><td>...</td><td>...</td><td>...</td><td>...</td><td>...</td><td>...</td></tr>\n",
       "<tr><td>1198841</td><td>11900</td><td>23900</td><td>16099</td><td>27999</td><td>2576105</td><td>2.475007641416111</td><td>i_sim_1.4</td></tr>\n",
       "<tr><td>1209140</td><td>11900</td><td>23900</td><td>16099</td><td>27999</td><td>15775418</td><td>4.088951856849174</td><td>i_sim_1.4</td></tr>\n",
       "<tr><td>1211957</td><td>11900</td><td>23900</td><td>16099</td><td>27999</td><td>15530815</td><td>2.203069568628304</td><td>i_sim_1.4</td></tr>\n",
       "<tr><td>1211958</td><td>11900</td><td>23900</td><td>16099</td><td>27999</td><td>15556352</td><td>2.1947220936218166</td><td>i_sim_1.4</td></tr>\n",
       "<tr><td>1212006</td><td>11900</td><td>23900</td><td>16099</td><td>27999</td><td>15618732</td><td>2.1836699006658695</td><td>i_sim_1.4</td></tr>\n",
       "<tr><td>1212007</td><td>11900</td><td>23900</td><td>16099</td><td>27999</td><td>15551925</td><td>2.2061017798044325</td><td>i_sim_1.4</td></tr>\n",
       "<tr><td>1217196</td><td>11900</td><td>23900</td><td>16099</td><td>27999</td><td>6629603</td><td>1.5344041311178727</td><td>i_sim_1.4</td></tr>\n",
       "<tr><td>1229687</td><td>11900</td><td>23900</td><td>16099</td><td>27999</td><td>38073</td><td>3.486446974408656</td><td>i_sim_1.4</td></tr>\n",
       "<tr><td>1231904</td><td>11900</td><td>23900</td><td>16099</td><td>27999</td><td>15602457</td><td>1.8736444562834234</td><td>i_sim_1.4</td></tr>\n",
       "<tr><td>1231987</td><td>11900</td><td>23900</td><td>16099</td><td>27999</td><td>15533181</td><td>1.944852241138641</td><td>i_sim_1.4</td></tr>\n",
       "</table></div>"
      ],
      "text/plain": [
       "<Table length=136>\n",
       "   id   bbox_min_x bbox_min_y ... goodpix        weight         filter \n",
       "           pix        pix     ...                                      \n",
       " int64    int32      int32    ...  int32        float64         str32  \n",
       "------- ---------- ---------- ... -------- ------------------ ---------\n",
       " 204710      11900      23900 ... 15503370  4.315546048438744 i_sim_1.4\n",
       " 211199      11900      23900 ... 15575907 1.6160897993241512 i_sim_1.4\n",
       " 211488      11900      23900 ... 15603079  1.831360701618286 i_sim_1.4\n",
       " 211540      11900      23900 ... 15641118  1.799486066487487 i_sim_1.4\n",
       " 211544      11900      23900 ... 15914683 1.8089723915585976 i_sim_1.4\n",
       " 214463      11900      23900 ... 15563302 4.6260464374356784 i_sim_1.4\n",
       " 214517      11900      23900 ... 15604428  4.417556998079759 i_sim_1.4\n",
       " 214520      11900      23900 ... 15651849  4.436038864305851 i_sim_1.4\n",
       " 214558      11900      23900 ... 15650204  4.036904147898304 i_sim_1.4\n",
       "    ...        ...        ... ...      ...                ...       ...\n",
       "1198841      11900      23900 ...  2576105  2.475007641416111 i_sim_1.4\n",
       "1209140      11900      23900 ... 15775418  4.088951856849174 i_sim_1.4\n",
       "1211957      11900      23900 ... 15530815  2.203069568628304 i_sim_1.4\n",
       "1211958      11900      23900 ... 15556352 2.1947220936218166 i_sim_1.4\n",
       "1212006      11900      23900 ... 15618732 2.1836699006658695 i_sim_1.4\n",
       "1212007      11900      23900 ... 15551925 2.2061017798044325 i_sim_1.4\n",
       "1217196      11900      23900 ...  6629603 1.5344041311178727 i_sim_1.4\n",
       "1229687      11900      23900 ...    38073  3.486446974408656 i_sim_1.4\n",
       "1231904      11900      23900 ... 15602457 1.8736444562834234 i_sim_1.4\n",
       "1231987      11900      23900 ... 15533181  1.944852241138641 i_sim_1.4"
      ]
     },
     "execution_count": 23,
     "metadata": {},
     "output_type": "execute_result"
    }
   ],
   "source": [
    "my_coadd_inputs.visits.asAstropy()"
   ]
  },
  {
   "cell_type": "code",
   "execution_count": 24,
   "id": "b5ce9c77-1d3c-48d9-9b06-4c91e3077229",
   "metadata": {
    "execution": {
     "iopub.execute_input": "2023-09-21T15:41:52.622060Z",
     "iopub.status.busy": "2023-09-21T15:41:52.621650Z",
     "iopub.status.idle": "2023-09-21T15:41:52.627748Z",
     "shell.execute_reply": "2023-09-21T15:41:52.627072Z",
     "shell.execute_reply.started": "2023-09-21T15:41:52.622033Z"
    },
    "tags": []
   },
   "outputs": [
    {
     "data": {
      "text/plain": [
       "array([ 204710,  211199,  211488,  211540,  211544,  214463,  214517,\n",
       "        214520,  214558,  227882,  228092,  230717,  230776,  244022,\n",
       "        256381,  262031,  268418,  280218,  280224,  280269,  280270,\n",
       "        410960,  410985,  410986,  420828,  421642,  421684,  421685,\n",
       "        433952,  433985,  433986,  433990,  457710,  457711,  458564,\n",
       "        458603,  471930,  471931,  471957,  472137,  478991,  479542,\n",
       "        497008,  497043,  518030,  518056,  518092,  641065,  654461,\n",
       "        654493,  678494,  679387,  679388,  679430,  679432,  679497,\n",
       "        679529,  682759,  682760,  682761,  686592,  686593,  686629,\n",
       "        686630,  692695,  692699,  713062,  713095,  713352,  713353,\n",
       "        713382,  731751,  731781,  731792,  731800,  752164,  766970,\n",
       "        880167,  880204,  917382,  924093,  924164,  924173,  924174,\n",
       "        929449,  930376,  930406,  930407,  930426,  932374,  932414,\n",
       "        934147,  941057,  945589,  945590,  945618,  945638,  951330,\n",
       "        951390,  966810,  966878,  976122,  976145,  976280,  976353,\n",
       "        976376,  976410,  994946,  995031, 1000791, 1000816, 1013680,\n",
       "       1013703, 1013742, 1030667, 1165691, 1165692, 1165731, 1165836,\n",
       "       1165869, 1165979, 1196500, 1197823, 1197824, 1197851, 1197857,\n",
       "       1198841, 1209140, 1211957, 1211958, 1212006, 1212007, 1217196,\n",
       "       1229687, 1231904, 1231987])"
      ]
     },
     "execution_count": 24,
     "metadata": {},
     "output_type": "execute_result"
    }
   ],
   "source": [
    "my_coadd_visits = my_coadd_inputs.visits['id']\n",
    "my_coadd_visits"
   ]
  },
  {
   "cell_type": "code",
   "execution_count": 27,
   "id": "263475c8-7bd8-4d87-a865-5d116048f6f3",
   "metadata": {
    "execution": {
     "iopub.execute_input": "2023-09-21T15:42:36.623661Z",
     "iopub.status.busy": "2023-09-21T15:42:36.622749Z",
     "iopub.status.idle": "2023-09-21T15:42:36.628719Z",
     "shell.execute_reply": "2023-09-21T15:42:36.628093Z",
     "shell.execute_reply.started": "2023-09-21T15:42:36.623624Z"
    },
    "tags": []
   },
   "outputs": [
    {
     "data": {
      "text/plain": [
       "array([ 204710,  211199,  211488,  211540,  211544,  214463,  214517,\n",
       "        214520,  214558,  230717,  230776,  244022,  256381,  262031,\n",
       "        280218,  280224,  280269,  410960,  420828,  421642,  421685,\n",
       "        433952,  433985,  433986,  433990,  457710,  457711,  471931,\n",
       "        471957,  479542,  497008,  497043,  518030,  518056,  654461,\n",
       "        654493,  679387,  679430,  679432,  679497,  679529,  682759,\n",
       "        682760,  682761,  686592,  686593,  686629,  686630,  713062,\n",
       "        713095,  713353,  713382,  731781,  731792,  731800,  752164,\n",
       "        766970,  880167,  917382,  924164,  924173,  924174,  930376,\n",
       "        930407,  930426,  932374,  932414,  934147,  941057,  945590,\n",
       "        945638,  951390,  966810,  966878,  976122,  976145,  976280,\n",
       "        976353,  976410,  994946, 1013680, 1013703, 1013742, 1030667,\n",
       "       1165691, 1165692, 1165731, 1165836, 1165869, 1196500, 1197823,\n",
       "       1197824, 1197851, 1197857, 1209140, 1211957, 1211958, 1212006,\n",
       "       1212007, 1217196, 1231904])"
      ]
     },
     "execution_count": 27,
     "metadata": {},
     "output_type": "execute_result"
    }
   ],
   "source": [
    "np.sort(np.array(test_df[\"visitId\"]))"
   ]
  },
  {
   "cell_type": "code",
   "execution_count": null,
   "id": "f6abe504-f104-4dd4-aaec-fdf538e5d524",
   "metadata": {},
   "outputs": [],
   "source": []
  },
  {
   "cell_type": "code",
   "execution_count": null,
   "id": "77e595fb-c6bb-4340-802b-827fe90d1929",
   "metadata": {},
   "outputs": [],
   "source": []
  },
  {
   "cell_type": "code",
   "execution_count": null,
   "id": "81b8299e-43bf-44a6-8f70-ae98d091cdda",
   "metadata": {},
   "outputs": [],
   "source": []
  },
  {
   "cell_type": "code",
   "execution_count": 21,
   "id": "b08128e1-488b-402f-a145-4fe441a9068c",
   "metadata": {
    "execution": {
     "iopub.execute_input": "2023-09-21T15:38:21.552262Z",
     "iopub.status.busy": "2023-09-21T15:38:21.551880Z",
     "iopub.status.idle": "2023-09-21T15:38:22.235765Z",
     "shell.execute_reply": "2023-09-21T15:38:22.235071Z",
     "shell.execute_reply.started": "2023-09-21T15:38:21.552238Z"
    },
    "tags": []
   },
   "outputs": [],
   "source": [
    "test_variable_star = 1651589610221899038\n",
    "test_df = query_flux(test_variable_star)\n",
    "test_df = test_df[test_df[\"band\"] == 'i']"
   ]
  },
  {
   "cell_type": "code",
   "execution_count": 22,
   "id": "5bf31b33-5133-4e05-89e7-d51af983b13e",
   "metadata": {
    "execution": {
     "iopub.execute_input": "2023-09-21T15:38:24.849024Z",
     "iopub.status.busy": "2023-09-21T15:38:24.848071Z",
     "iopub.status.idle": "2023-09-21T15:38:24.864683Z",
     "shell.execute_reply": "2023-09-21T15:38:24.864088Z",
     "shell.execute_reply.started": "2023-09-21T15:38:24.848976Z"
    },
    "tags": []
   },
   "outputs": [
    {
     "name": "stdout",
     "output_type": "stream",
     "text": [
      "101\n"
     ]
    },
    {
     "data": {
      "text/html": [
       "<div><i>Table length=101</i>\n",
       "<table id=\"table140144390139680\" class=\"table-striped table-bordered table-condensed\">\n",
       "<thead><tr><th>band</th><th>ccdVisitId</th><th>coord_ra</th><th>coord_dec</th><th>objectId</th><th>psfFlux</th><th>psfFluxErr</th><th>detector</th><th>visitId</th><th>psfMag</th><th>band2</th><th>expMidptMJD</th></tr></thead>\n",
       "<thead><tr><th></th><th></th><th>deg</th><th>deg</th><th></th><th>nJy</th><th>nJy</th><th></th><th></th><th></th><th></th><th>d</th></tr></thead>\n",
       "<thead><tr><th>object</th><th>int64</th><th>float64</th><th>float64</th><th>int64</th><th>float64</th><th>float64</th><th>int64</th><th>int64</th><th>float64</th><th>object</th><th>float64</th></tr></thead>\n",
       "<tr><td>i</td><td>1217196168</td><td>62.1479018</td><td>-35.7991382</td><td>1651589610221899038</td><td>159190.8745744</td><td>555.2260499</td><td>168</td><td>1217196</td><td>18.395204578235376</td><td>i</td><td>61371.2830422</td></tr>\n",
       "<tr><td>i</td><td>654461035</td><td>62.1479018</td><td>-35.7991382</td><td>1651589610221899038</td><td>196662.5053813</td><td>589.7649597</td><td>35</td><td>654461</td><td>18.165696081114035</td><td>i</td><td>60549.2712432</td></tr>\n",
       "<tr><td>i</td><td>211544139</td><td>62.1479018</td><td>-35.7991382</td><td>1651589610221899038</td><td>235804.8056071</td><td>660.9748068</td><td>139</td><td>211544</td><td>17.96861837100967</td><td>i</td><td>59866.3557842</td></tr>\n",
       "<tr><td>i</td><td>1030667047</td><td>62.1479018</td><td>-35.7991382</td><td>1651589610221899038</td><td>178396.4907086</td><td>670.5837285</td><td>47</td><td>1030667</td><td>18.271534232535394</td><td>i</td><td>61098.0866502</td></tr>\n",
       "<tr><td>i</td><td>1211958011</td><td>62.1479018</td><td>-35.7991382</td><td>1651589610221899038</td><td>150720.1844131</td><td>529.7832338</td><td>11</td><td>1211958</td><td>18.454571457928836</td><td>i</td><td>61364.1963772</td></tr>\n",
       "<tr><td>i</td><td>1211957180</td><td>62.1479018</td><td>-35.7991382</td><td>1651589610221899038</td><td>151386.2874726</td><td>532.118379</td><td>180</td><td>1211957</td><td>18.44978365331655</td><td>i</td><td>61364.1959242</td></tr>\n",
       "<tr><td>i</td><td>1212006157</td><td>62.1479018</td><td>-35.7991382</td><td>1651589610221899038</td><td>150347.3364862</td><td>539.7693704</td><td>157</td><td>1212006</td><td>18.45726065335482</td><td>i</td><td>61364.2191292</td></tr>\n",
       "<tr><td>i</td><td>214517059</td><td>62.1479018</td><td>-35.7991382</td><td>1651589610221899038</td><td>152990.8902348</td><td>503.1066354</td><td>59</td><td>214517</td><td>18.43833607064463</td><td>i</td><td>59870.2435682</td></tr>\n",
       "<tr><td>i</td><td>924174038</td><td>62.1479018</td><td>-35.7991382</td><td>1651589610221899038</td><td>161976.8156089</td><td>526.5817082</td><td>38</td><td>924174</td><td>18.37636785829904</td><td>i</td><td>60937.3042232</td></tr>\n",
       "<tr><td>...</td><td>...</td><td>...</td><td>...</td><td>...</td><td>...</td><td>...</td><td>...</td><td>...</td><td>...</td><td>...</td><td>...</td></tr>\n",
       "<tr><td>i</td><td>752164157</td><td>62.1479018</td><td>-35.7991382</td><td>1651589610221899038</td><td>147386.8883028</td><td>547.990995</td><td>157</td><td>752164</td><td>18.478852875164975</td><td>i</td><td>60691.1474602</td></tr>\n",
       "<tr><td>i</td><td>1197851035</td><td>62.1479018</td><td>-35.7991382</td><td>1651589610221899038</td><td>178609.9928103</td><td>553.216744</td><td>35</td><td>1197851</td><td>18.2702356175245</td><td>i</td><td>61334.2469812</td></tr>\n",
       "<tr><td>i</td><td>976145023</td><td>62.1479018</td><td>-35.7991382</td><td>1651589610221899038</td><td>156490.4512369</td><td>544.1578271</td><td>23</td><td>976145</td><td>18.413780392923883</td><td>i</td><td>61017.1702922</td></tr>\n",
       "<tr><td>i</td><td>421685108</td><td>62.1479018</td><td>-35.7991382</td><td>1651589610221899038</td><td>210551.0155588</td><td>580.9001276</td><td>108</td><td>421685</td><td>18.091606648723523</td><td>i</td><td>60180.3260492</td></tr>\n",
       "<tr><td>i</td><td>976122018</td><td>62.1479018</td><td>-35.7991382</td><td>1651589610221899038</td><td>158046.6593263</td><td>542.6103667</td><td>18</td><td>976122</td><td>18.40303669880945</td><td>i</td><td>61017.1585322</td></tr>\n",
       "<tr><td>i</td><td>686593073</td><td>62.1479018</td><td>-35.7991382</td><td>1651589610221899038</td><td>169207.0039573</td><td>591.3505141</td><td>73</td><td>686593</td><td>18.32895416061465</td><td>i</td><td>60596.2383012</td></tr>\n",
       "<tr><td>i</td><td>1165692004</td><td>62.1479018</td><td>-35.7991382</td><td>1651589610221899038</td><td>149294.7661796</td><td>620.4317328</td><td>4</td><td>1165692</td><td>18.464888542629183</td><td>i</td><td>61286.2584062</td></tr>\n",
       "<tr><td>i</td><td>1165691091</td><td>62.1479018</td><td>-35.7991382</td><td>1651589610221899038</td><td>150419.5565046</td><td>628.7360027</td><td>91</td><td>1165691</td><td>18.45673924031356</td><td>i</td><td>61286.2579582</td></tr>\n",
       "<tr><td>i</td><td>686629148</td><td>62.1479018</td><td>-35.7991382</td><td>1651589610221899038</td><td>165453.3302788</td><td>583.924008</td><td>148</td><td>686629</td><td>18.353311217117827</td><td>i</td><td>60596.2545392</td></tr>\n",
       "<tr><td>i</td><td>686630123</td><td>62.1479018</td><td>-35.7991382</td><td>1651589610221899038</td><td>166107.7719954</td><td>593.1675908</td><td>123</td><td>686630</td><td>18.34902511730995</td><td>i</td><td>60596.2549882</td></tr>\n",
       "</table></div>"
      ],
      "text/plain": [
       "<Table length=101>\n",
       " band  ccdVisitId  coord_ra  ...       psfMag       band2   expMidptMJD \n",
       "                     deg     ...                                 d      \n",
       "object   int64     float64   ...      float64       object    float64   \n",
       "------ ---------- ---------- ... ------------------ ------ -------------\n",
       "     i 1217196168 62.1479018 ... 18.395204578235376      i 61371.2830422\n",
       "     i  654461035 62.1479018 ... 18.165696081114035      i 60549.2712432\n",
       "     i  211544139 62.1479018 ...  17.96861837100967      i 59866.3557842\n",
       "     i 1030667047 62.1479018 ... 18.271534232535394      i 61098.0866502\n",
       "     i 1211958011 62.1479018 ... 18.454571457928836      i 61364.1963772\n",
       "     i 1211957180 62.1479018 ...  18.44978365331655      i 61364.1959242\n",
       "     i 1212006157 62.1479018 ...  18.45726065335482      i 61364.2191292\n",
       "     i  214517059 62.1479018 ...  18.43833607064463      i 59870.2435682\n",
       "     i  924174038 62.1479018 ...  18.37636785829904      i 60937.3042232\n",
       "   ...        ...        ... ...                ...    ...           ...\n",
       "     i  752164157 62.1479018 ... 18.478852875164975      i 60691.1474602\n",
       "     i 1197851035 62.1479018 ...   18.2702356175245      i 61334.2469812\n",
       "     i  976145023 62.1479018 ... 18.413780392923883      i 61017.1702922\n",
       "     i  421685108 62.1479018 ... 18.091606648723523      i 60180.3260492\n",
       "     i  976122018 62.1479018 ...  18.40303669880945      i 61017.1585322\n",
       "     i  686593073 62.1479018 ...  18.32895416061465      i 60596.2383012\n",
       "     i 1165692004 62.1479018 ... 18.464888542629183      i 61286.2584062\n",
       "     i 1165691091 62.1479018 ...  18.45673924031356      i 61286.2579582\n",
       "     i  686629148 62.1479018 ... 18.353311217117827      i 60596.2545392\n",
       "     i  686630123 62.1479018 ...  18.34902511730995      i 60596.2549882"
      ]
     },
     "execution_count": 22,
     "metadata": {},
     "output_type": "execute_result"
    }
   ],
   "source": [
    "print((len(test_df)))\n",
    "test_df"
   ]
  },
  {
   "cell_type": "code",
   "execution_count": 29,
   "id": "454721fc-ece2-438e-81bb-6d44049b8876",
   "metadata": {
    "execution": {
     "iopub.execute_input": "2023-09-21T15:54:48.670952Z",
     "iopub.status.busy": "2023-09-21T15:54:48.670134Z",
     "iopub.status.idle": "2023-09-21T15:54:48.687494Z",
     "shell.execute_reply": "2023-09-21T15:54:48.686872Z",
     "shell.execute_reply.started": "2023-09-21T15:54:48.670921Z"
    },
    "tags": []
   },
   "outputs": [
    {
     "data": {
      "text/html": [
       "<div><i>Table length=101</i>\n",
       "<table id=\"table140144390139680\" class=\"table-striped table-bordered table-condensed\">\n",
       "<thead><tr><th>band</th><th>ccdVisitId</th><th>coord_ra</th><th>coord_dec</th><th>objectId</th><th>psfFlux</th><th>psfFluxErr</th><th>detector</th><th>visitId</th><th>psfMag</th><th>band2</th><th>expMidptMJD</th></tr></thead>\n",
       "<thead><tr><th></th><th></th><th>deg</th><th>deg</th><th></th><th>nJy</th><th>nJy</th><th></th><th></th><th></th><th></th><th>d</th></tr></thead>\n",
       "<thead><tr><th>object</th><th>int64</th><th>float64</th><th>float64</th><th>int64</th><th>float64</th><th>float64</th><th>int64</th><th>int64</th><th>float64</th><th>object</th><th>float64</th></tr></thead>\n",
       "<tr><td>i</td><td>204710038</td><td>62.1479018</td><td>-35.7991382</td><td>1651589610221899038</td><td>189598.4066266</td><td>546.6713629</td><td>38</td><td>204710</td><td>18.205413291917125</td><td>i</td><td>59857.3493782</td></tr>\n",
       "<tr><td>i</td><td>211199139</td><td>62.1479018</td><td>-35.7991382</td><td>1651589610221899038</td><td>150736.6415147</td><td>582.5420544</td><td>139</td><td>211199</td><td>18.45445291311901</td><td>i</td><td>59866.1896572</td></tr>\n",
       "<tr><td>i</td><td>211488103</td><td>62.1479018</td><td>-35.7991382</td><td>1651589610221899038</td><td>214048.5024568</td><td>636.7216758</td><td>103</td><td>211488</td><td>18.073719515661814</td><td>i</td><td>59866.3260852</td></tr>\n",
       "<tr><td>i</td><td>211540121</td><td>62.1479018</td><td>-35.7991382</td><td>1651589610221899038</td><td>236087.2254468</td><td>660.9506534</td><td>121</td><td>211540</td><td>17.967318779317775</td><td>i</td><td>59866.3539772</td></tr>\n",
       "<tr><td>i</td><td>211544139</td><td>62.1479018</td><td>-35.7991382</td><td>1651589610221899038</td><td>235804.8056071</td><td>660.9748068</td><td>139</td><td>211544</td><td>17.96861837100967</td><td>i</td><td>59866.3557842</td></tr>\n",
       "<tr><td>i</td><td>214463171</td><td>62.1479018</td><td>-35.7991382</td><td>1651589610221899038</td><td>156452.9933943</td><td>491.6224328</td><td>171</td><td>214463</td><td>18.414040307849437</td><td>i</td><td>59870.2187202</td></tr>\n",
       "<tr><td>i</td><td>214517059</td><td>62.1479018</td><td>-35.7991382</td><td>1651589610221899038</td><td>152990.8902348</td><td>503.1066354</td><td>59</td><td>214517</td><td>18.43833607064463</td><td>i</td><td>59870.2435682</td></tr>\n",
       "<tr><td>i</td><td>214520098</td><td>62.1479018</td><td>-35.7991382</td><td>1651589610221899038</td><td>152850.3348285</td><td>497.9342811</td><td>98</td><td>214520</td><td>18.439334013967063</td><td>i</td><td>59870.2449302</td></tr>\n",
       "<tr><td>i</td><td>214558083</td><td>62.1479018</td><td>-35.7991382</td><td>1651589610221899038</td><td>150955.7833903</td><td>498.0627817</td><td>83</td><td>214558</td><td>18.452875609278927</td><td>i</td><td>59870.2628022</td></tr>\n",
       "<tr><td>...</td><td>...</td><td>...</td><td>...</td><td>...</td><td>...</td><td>...</td><td>...</td><td>...</td><td>...</td><td>...</td><td>...</td></tr>\n",
       "<tr><td>i</td><td>1197824158</td><td>62.1479018</td><td>-35.7991382</td><td>1651589610221899038</td><td>165739.1883318</td><td>544.7689281</td><td>158</td><td>1197824</td><td>18.351436980852245</td><td>i</td><td>61334.2320582</td></tr>\n",
       "<tr><td>i</td><td>1197851035</td><td>62.1479018</td><td>-35.7991382</td><td>1651589610221899038</td><td>178609.9928103</td><td>553.216744</td><td>35</td><td>1197851</td><td>18.2702356175245</td><td>i</td><td>61334.2469812</td></tr>\n",
       "<tr><td>i</td><td>1197857182</td><td>62.1479018</td><td>-35.7991382</td><td>1651589610221899038</td><td>182421.1768861</td><td>557.2042048</td><td>182</td><td>1197857</td><td>18.24731186689776</td><td>i</td><td>61334.2497862</td></tr>\n",
       "<tr><td>i</td><td>1209140047</td><td>62.1479018</td><td>-35.7991382</td><td>1651589610221899038</td><td>147005.7335852</td><td>509.3553748</td><td>47</td><td>1209140</td><td>18.481664315921158</td><td>i</td><td>61360.1910262</td></tr>\n",
       "<tr><td>i</td><td>1211957180</td><td>62.1479018</td><td>-35.7991382</td><td>1651589610221899038</td><td>151386.2874726</td><td>532.118379</td><td>180</td><td>1211957</td><td>18.44978365331655</td><td>i</td><td>61364.1959242</td></tr>\n",
       "<tr><td>i</td><td>1211958011</td><td>62.1479018</td><td>-35.7991382</td><td>1651589610221899038</td><td>150720.1844131</td><td>529.7832338</td><td>11</td><td>1211958</td><td>18.454571457928836</td><td>i</td><td>61364.1963772</td></tr>\n",
       "<tr><td>i</td><td>1212006157</td><td>62.1479018</td><td>-35.7991382</td><td>1651589610221899038</td><td>150347.3364862</td><td>539.7693704</td><td>157</td><td>1212006</td><td>18.45726065335482</td><td>i</td><td>61364.2191292</td></tr>\n",
       "<tr><td>i</td><td>1212007092</td><td>62.1479018</td><td>-35.7991382</td><td>1651589610221899038</td><td>149622.2620933</td><td>533.9724179</td><td>92</td><td>1212007</td><td>18.462509458943376</td><td>i</td><td>61364.2197222</td></tr>\n",
       "<tr><td>i</td><td>1217196168</td><td>62.1479018</td><td>-35.7991382</td><td>1651589610221899038</td><td>159190.8745744</td><td>555.2260499</td><td>168</td><td>1217196</td><td>18.395204578235376</td><td>i</td><td>61371.2830422</td></tr>\n",
       "<tr><td>i</td><td>1231904073</td><td>62.1479018</td><td>-35.7991382</td><td>1651589610221899038</td><td>168543.2297692</td><td>551.6782067</td><td>73</td><td>1231904</td><td>18.333221720033894</td><td>i</td><td>61394.1615222</td></tr>\n",
       "</table></div>"
      ],
      "text/plain": [
       "<Table length=101>\n",
       " band  ccdVisitId  coord_ra  ...       psfMag       band2   expMidptMJD \n",
       "                     deg     ...                                 d      \n",
       "object   int64     float64   ...      float64       object    float64   \n",
       "------ ---------- ---------- ... ------------------ ------ -------------\n",
       "     i  204710038 62.1479018 ... 18.205413291917125      i 59857.3493782\n",
       "     i  211199139 62.1479018 ...  18.45445291311901      i 59866.1896572\n",
       "     i  211488103 62.1479018 ... 18.073719515661814      i 59866.3260852\n",
       "     i  211540121 62.1479018 ... 17.967318779317775      i 59866.3539772\n",
       "     i  211544139 62.1479018 ...  17.96861837100967      i 59866.3557842\n",
       "     i  214463171 62.1479018 ... 18.414040307849437      i 59870.2187202\n",
       "     i  214517059 62.1479018 ...  18.43833607064463      i 59870.2435682\n",
       "     i  214520098 62.1479018 ... 18.439334013967063      i 59870.2449302\n",
       "     i  214558083 62.1479018 ... 18.452875609278927      i 59870.2628022\n",
       "   ...        ...        ... ...                ...    ...           ...\n",
       "     i 1197824158 62.1479018 ... 18.351436980852245      i 61334.2320582\n",
       "     i 1197851035 62.1479018 ...   18.2702356175245      i 61334.2469812\n",
       "     i 1197857182 62.1479018 ...  18.24731186689776      i 61334.2497862\n",
       "     i 1209140047 62.1479018 ... 18.481664315921158      i 61360.1910262\n",
       "     i 1211957180 62.1479018 ...  18.44978365331655      i 61364.1959242\n",
       "     i 1211958011 62.1479018 ... 18.454571457928836      i 61364.1963772\n",
       "     i 1212006157 62.1479018 ...  18.45726065335482      i 61364.2191292\n",
       "     i 1212007092 62.1479018 ... 18.462509458943376      i 61364.2197222\n",
       "     i 1217196168 62.1479018 ... 18.395204578235376      i 61371.2830422\n",
       "     i 1231904073 62.1479018 ... 18.333221720033894      i 61394.1615222"
      ]
     },
     "execution_count": 29,
     "metadata": {},
     "output_type": "execute_result"
    }
   ],
   "source": [
    "test_df.sort(['expMidptMJD'])\n",
    "test_df"
   ]
  },
  {
   "cell_type": "code",
   "execution_count": 16,
   "id": "dc51e0f8-8e8f-4464-b66b-986d0cb536bc",
   "metadata": {
    "execution": {
     "iopub.execute_input": "2023-09-21T15:06:38.726904Z",
     "iopub.status.busy": "2023-09-21T15:06:38.726008Z",
     "iopub.status.idle": "2023-09-21T15:06:38.732322Z",
     "shell.execute_reply": "2023-09-21T15:06:38.731636Z",
     "shell.execute_reply.started": "2023-09-21T15:06:38.726871Z"
    },
    "tags": []
   },
   "outputs": [
    {
     "name": "stdout",
     "output_type": "stream",
     "text": [
      "90\n",
      "188\n"
     ]
    }
   ],
   "source": [
    "print(len(np.unique(test_df[\"detector\"])))\n",
    "print(np.max(test_df[\"detector\"]))"
   ]
  },
  {
   "cell_type": "code",
   "execution_count": 17,
   "id": "b027f28b-d059-40c0-8089-bc792460b6dd",
   "metadata": {
    "execution": {
     "iopub.execute_input": "2023-09-21T15:08:42.943673Z",
     "iopub.status.busy": "2023-09-21T15:08:42.942745Z",
     "iopub.status.idle": "2023-09-21T15:08:42.949242Z",
     "shell.execute_reply": "2023-09-21T15:08:42.948335Z",
     "shell.execute_reply.started": "2023-09-21T15:08:42.943641Z"
    },
    "tags": []
   },
   "outputs": [
    {
     "name": "stdout",
     "output_type": "stream",
     "text": [
      "115\n"
     ]
    }
   ],
   "source": [
    "print(len(np.unique(test_df[\"visitId\"])))"
   ]
  },
  {
   "cell_type": "markdown",
   "id": "a79e59c1-b9e4-45be-b588-3f833df0a787",
   "metadata": {},
   "source": [
    "## Getting custom deepcoadds using tutorial_notebook 09a"
   ]
  },
  {
   "cell_type": "code",
   "execution_count": null,
   "id": "543431d4-9175-412e-ab04-49dda9952cde",
   "metadata": {},
   "outputs": [],
   "source": []
  },
  {
   "cell_type": "code",
   "execution_count": null,
   "id": "abb7c207-0faf-4786-b5ec-3452fca0515e",
   "metadata": {},
   "outputs": [],
   "source": []
  },
  {
   "cell_type": "markdown",
   "id": "efac2893-43c4-4aff-9434-fdfec3f67914",
   "metadata": {},
   "source": [
    "## 2. Query and plot the variable stars"
   ]
  },
  {
   "cell_type": "code",
   "execution_count": 8,
   "id": "fb35503f-955f-490b-9100-d8bec98bbb1f",
   "metadata": {
    "execution": {
     "iopub.execute_input": "2023-09-15T15:59:27.429941Z",
     "iopub.status.busy": "2023-09-15T15:59:27.429127Z",
     "iopub.status.idle": "2023-09-15T15:59:28.866324Z",
     "shell.execute_reply": "2023-09-15T15:59:28.865631Z",
     "shell.execute_reply.started": "2023-09-15T15:59:27.429912Z"
    },
    "tags": []
   },
   "outputs": [
    {
     "name": "stdout",
     "output_type": "stream",
     "text": [
      "CPU times: user 16.4 ms, sys: 6.75 ms, total: 23.2 ms\n",
      "Wall time: 1.43 s\n"
     ]
    }
   ],
   "source": [
    "%%time\n",
    "variable_stars = query_stars(ra_known_rrl, dec_known_rrl, search_radius, query_num_stars)"
   ]
  },
  {
   "cell_type": "code",
   "execution_count": 9,
   "id": "95edb413-f9bd-4911-b1fd-c970c12ad4f2",
   "metadata": {
    "execution": {
     "iopub.execute_input": "2023-09-15T15:59:30.048177Z",
     "iopub.status.busy": "2023-09-15T15:59:30.047497Z",
     "iopub.status.idle": "2023-09-15T15:59:30.059815Z",
     "shell.execute_reply": "2023-09-15T15:59:30.058907Z",
     "shell.execute_reply.started": "2023-09-15T15:59:30.048152Z"
    },
    "tags": []
   },
   "outputs": [
    {
     "data": {
      "text/html": [
       "<div>\n",
       "<style scoped>\n",
       "    .dataframe tbody tr th:only-of-type {\n",
       "        vertical-align: middle;\n",
       "    }\n",
       "\n",
       "    .dataframe tbody tr th {\n",
       "        vertical-align: top;\n",
       "    }\n",
       "\n",
       "    .dataframe thead th {\n",
       "        text-align: right;\n",
       "    }\n",
       "</style>\n",
       "<table border=\"1\" class=\"dataframe\">\n",
       "  <thead>\n",
       "    <tr style=\"text-align: right;\">\n",
       "      <th></th>\n",
       "      <th>id_truth_type</th>\n",
       "      <th>match_objectId</th>\n",
       "      <th>ra</th>\n",
       "      <th>dec</th>\n",
       "    </tr>\n",
       "  </thead>\n",
       "  <tbody>\n",
       "    <tr>\n",
       "      <th>0</th>\n",
       "      <td>40745496103_2</td>\n",
       "      <td>1251666444874161581</td>\n",
       "      <td>65.542978</td>\n",
       "      <td>-44.480496</td>\n",
       "    </tr>\n",
       "    <tr>\n",
       "      <th>1</th>\n",
       "      <td>40897600536_2</td>\n",
       "      <td>1251666444874186330</td>\n",
       "      <td>65.552173</td>\n",
       "      <td>-44.549350</td>\n",
       "    </tr>\n",
       "  </tbody>\n",
       "</table>\n",
       "</div>"
      ],
      "text/plain": [
       "   id_truth_type       match_objectId         ra        dec\n",
       "0  40745496103_2  1251666444874161581  65.542978 -44.480496\n",
       "1  40897600536_2  1251666444874186330  65.552173 -44.549350"
      ]
     },
     "execution_count": 9,
     "metadata": {},
     "output_type": "execute_result"
    }
   ],
   "source": [
    "variable_stars"
   ]
  },
  {
   "cell_type": "markdown",
   "id": "7efd312e-86a3-49e1-b1ea-e1714b32755a",
   "metadata": {},
   "source": [
    "### 2.1 Get Calexp images and Lightcurves\n",
    "\n",
    "How to create csv for Zooniverse flipbook\n",
    "\n",
    "https://help.zooniverse.org/getting-started/example/#details-subject-sets-and-manifest-details-aka-what-is-a-manifesthttps://help.zooniverse.org/getting-started/example/#details-subject-sets-and-manifest-details-aka-what-is-a-manifestCreate \n"
   ]
  },
  {
   "cell_type": "code",
   "execution_count": 10,
   "id": "6e10e00b-227a-4a1a-9b3e-5b968ec0904d",
   "metadata": {
    "execution": {
     "iopub.execute_input": "2023-09-15T15:59:34.372594Z",
     "iopub.status.busy": "2023-09-15T15:59:34.372250Z",
     "iopub.status.idle": "2023-09-15T15:59:34.380480Z",
     "shell.execute_reply": "2023-09-15T15:59:34.379729Z",
     "shell.execute_reply.started": "2023-09-15T15:59:34.372571Z"
    },
    "tags": []
   },
   "outputs": [],
   "source": [
    "def get_cutout_image(butler, ra_deg, dec_deg, visit, detector, band, cutoutSideLength, datasetType='calexp'):\n",
    "    \"\"\"\n",
    "    Get the cutout image information from butler. \n",
    "    This shoudl be followed by make_fig\n",
    "\n",
    "    Input Parameters\n",
    "    ----------\n",
    "    ra : ra of source in degrees\n",
    "    dec : dec of source in degrees\n",
    "    visit : visit id\n",
    "    detector : detector number\n",
    "    band : band to get cutput for\n",
    "    cutoutSideLength : size of the cutout\n",
    "    \n",
    "    Returns\n",
    "    ----------\n",
    "    Cutout image information\n",
    "    \"\"\"\n",
    "    cutoutSize = geom.ExtentI(cutoutSideLength, cutoutSideLength)\n",
    "    \n",
    "    radec = geom.SpherePoint(ra_deg,dec_deg, geom.degrees)\n",
    "    \n",
    "    dataId = {'visit': visit, 'detector': detector}  \n",
    "    calexp_wcs = butler.get('calexp.wcs', **dataId)\n",
    "    \n",
    "    print('calexp wcs: ', calexp_wcs)\n",
    "    \n",
    "    xy = geom.PointI(calexp_wcs.skyToPixel(radec))\n",
    "    bbox = geom.BoxI(xy - cutoutSize // 2, cutoutSize)\n",
    "    parameters = {'bbox': bbox}\n",
    "    print('xy: ',xy)\n",
    "    print('bbox: ',bbox)\n",
    "    \n",
    "    cutout_image = butler.get('calexp', parameters=parameters, **dataId)\n",
    "    \n",
    "    return cutout_image\n",
    "    \n",
    "    \n",
    "def make_calexp_fig(cutout_image, ra, dec, out_name):\n",
    "    \"\"\"\n",
    "    Create an image.\n",
    "    should be followed with remove_figure\n",
    "    \n",
    "    Parameters\n",
    "    ----------\n",
    "    cutout_image : cutout_image from butler.get\n",
    "    ra : ra of source in degrees\n",
    "    dec : dec of source in degrees\n",
    "    out_name : file name where you'd like to save it\n",
    "    \n",
    "    Returns\n",
    "    ----------\n",
    "    cutout image\n",
    "    \"\"\"\n",
    "    # fig = plt.figure(figsize=(4, 4))\n",
    "    # afw_display = afwDisplay.Display(frame=fig)\n",
    "    # afw_display.scale('asinh', 'zscale')\n",
    "    # afw_display.mtv(cutout_image.image)\n",
    "    \n",
    "#     cutout_wcs = cutout_image.getWcs()\n",
    "#     radec = geom.SpherePoint(ra, dec, geom.degrees)\n",
    "#     xy = geom.PointI(cutout_wcs.skyToPixel(radec))\n",
    "    \n",
    "#     afw_display.dot('x', xy.getX(), xy.getY(), size=1, ctype='orange')\n",
    "#     plt.gca().axis('off')\n",
    "#     plt.savefig(out_name)\n",
    "    \n",
    "    fig = plt.figure()\n",
    "    plt.subplot(projection=WCS(cutout_image.getWcs().getFitsMetadata()))\n",
    "    \n",
    "    #print('wcs ra: ', cutout_image.getWcs().getFitsMetadata()['CRVAL1'])\n",
    "    #print('wcs dec: ', cutout_image.getWcs().getFitsMetadata()['CRVAL2'])\n",
    "    \n",
    "    calexp_extent = (cutout_image.getBBox().beginX, cutout_image.getBBox().endX,\n",
    "                 cutout_image.getBBox().beginY, cutout_image.getBBox().endY)\n",
    "    im = plt.imshow(cutout_image.image.array, cmap='gray', vmin=-200.0, vmax=1000,\n",
    "                extent=calexp_extent, origin='lower')\n",
    "    plt.colorbar(location='right', anchor=(0, 0.1))\n",
    "    # plt.gca().axis('off')\n",
    "    plt.xlabel('Right Ascension')\n",
    "    plt.ylabel('Declination')\n",
    "    plt.savefig(out_name)\n",
    "    \n",
    "    return fig\n"
   ]
  },
  {
   "cell_type": "code",
   "execution_count": 11,
   "id": "40bba49b-20f3-4633-b44b-8a49e9fa615b",
   "metadata": {
    "execution": {
     "iopub.execute_input": "2023-09-15T15:59:34.880984Z",
     "iopub.status.busy": "2023-09-15T15:59:34.880176Z",
     "iopub.status.idle": "2023-09-15T15:59:34.887531Z",
     "shell.execute_reply": "2023-09-15T15:59:34.886895Z",
     "shell.execute_reply.started": "2023-09-15T15:59:34.880941Z"
    },
    "tags": []
   },
   "outputs": [],
   "source": [
    "plot_filter_symbols = {'u': 'o', 'g': '^', 'r': 'v', 'i': 's', 'z': '*', 'y': 'p'}\n",
    "plot_filter_labels = {'u':'u', 'g':'g', 'r':'r', 'i':'i', 'z':'z', 'y':'y'}\n",
    "plot_filter_colors = {'u': '#56b4e9', 'g': '#008060', 'r': '#ff4000',\n",
    "                      'i': '#850000', 'z': '#6600cc', 'y': '#000000'}\n",
    "def plotlc(bands, days, magnitudes, out_name):\n",
    "    \"\"\"\n",
    "    Create a light curve.\n",
    "\n",
    "    Input Parameters\n",
    "    ----------\n",
    "    days : dictionary for MJD in each band \n",
    "    magnitudes : dictionary for flux in each band\n",
    "    out_name : file name where you'd like to save it\n",
    "    \n",
    "    Returns\n",
    "    ----------\n",
    "    light curve image\n",
    "    \"\"\"\n",
    "\n",
    "    fig = plt.figure(figsize=(10,4))\n",
    "    for band in bands:\n",
    "        plt.plot(days[band], magnitudes[band] - np.mean(magnitudes[band]),\\\n",
    "                 plot_filter_symbols[band], ms=4, label=plot_filter_labels[band])\n",
    "    plt.minorticks_on()\n",
    "    plt.xlabel('MJD (days)')\n",
    "    plt.ylabel('magnitude')\n",
    "    plt.legend('upper right')\n",
    "    plt.legend()\n",
    "    plt.savefig(out_name)\n",
    "    return fig\n",
    "\n",
    "def remove_figure(fig):\n",
    "    \"\"\"\n",
    "    Remove a figure to reduce memory footprint.\n",
    "    Parameters\n",
    "    ----------\n",
    "    fig: matplotlib.figure.Figure\n",
    "        Figure to be removed.\n",
    "    Returns\n",
    "    -------\n",
    "    None\n",
    "    \"\"\"\n",
    "    # get the axes and clear their images\n",
    "    for ax in fig.get_axes():\n",
    "        for im in ax.get_images():\n",
    "            im.remove()\n",
    "    fig.clf()       # clear the figure\n",
    "    plt.close(fig)  # close the figure\n",
    "\n",
    "    gc.collect()    # call th"
   ]
  },
  {
   "cell_type": "raw",
   "id": "59112369-87e0-4973-b2d4-4de88ec76d81",
   "metadata": {},
   "source": [
    "stars_matchid = variable_stars['match_objectId'].to_numpy()\n",
    "stars_ra = variable_stars['ra'].to_numpy()\n",
    "stars_dec = variable_stars['dec'].to_numpy()\n",
    "df_row = []\n",
    "df_final = []\n",
    "\n",
    "fields_to_add = [\"sourceId\", \"coord_ra\", \"coord_dec\"] # fields to add to the maifest file\n",
    "\n",
    "for j, objid in enumerate([\"1248675773246637672\"]):\n",
    "    ccd_flux_table = query_flux(objid)\n",
    "    mjd_days, mags = utils.get_flux(ccd_flux_table)\n",
    "    figout = plotlc(bands, mjd_days, mags, batch_dir+\"/lc_plots/\"+\"lc_\"+str(objid)+\"_mean.png\")\n",
    "    remove_figure(figout) "
   ]
  },
  {
   "cell_type": "code",
   "execution_count": 15,
   "id": "81104940-9e51-4634-8ed6-e79c15e6cf40",
   "metadata": {
    "execution": {
     "iopub.execute_input": "2023-09-15T16:04:42.816364Z",
     "iopub.status.busy": "2023-09-15T16:04:42.815277Z",
     "iopub.status.idle": "2023-09-15T16:04:42.822194Z",
     "shell.execute_reply": "2023-09-15T16:04:42.821301Z",
     "shell.execute_reply.started": "2023-09-15T16:04:42.816327Z"
    },
    "tags": []
   },
   "outputs": [
    {
     "data": {
      "text/plain": [
       "array([1251666444874161581, 1251666444874186330])"
      ]
     },
     "execution_count": 15,
     "metadata": {},
     "output_type": "execute_result"
    }
   ],
   "source": [
    "stars_matchid"
   ]
  },
  {
   "cell_type": "code",
   "execution_count": 12,
   "id": "4017ff1d-99de-4bad-b8e8-095d13482d63",
   "metadata": {
    "execution": {
     "iopub.execute_input": "2023-09-15T15:59:35.873614Z",
     "iopub.status.busy": "2023-09-15T15:59:35.873125Z",
     "iopub.status.idle": "2023-09-15T16:00:00.293302Z",
     "shell.execute_reply": "2023-09-15T16:00:00.292280Z",
     "shell.execute_reply.started": "2023-09-15T15:59:35.873586Z"
    },
    "tags": []
   },
   "outputs": [
    {
     "name": "stdout",
     "output_type": "stream",
     "text": [
      "calexp wcs:  FITS standard SkyWcs:\n",
      "Sky Origin: (65.5143744305, -44.3843994081)\n",
      "Pixel Origin: (2111.39, 1895)\n",
      "Pixel Scale: 0.20025 arcsec/pixel\n",
      "xy:  (553, 1063)\n",
      "bbox:  (minimum=(543, 1053), maximum=(562, 1072))\n",
      "calexp wcs:  FITS standard SkyWcs:\n",
      "Sky Origin: (65.5493791587, -44.4440750130)\n",
      "Pixel Origin: (1990.27, 1984.82)\n",
      "Pixel Scale: 0.199799 arcsec/pixel\n",
      "xy:  (2558, 1646)\n",
      "bbox:  (minimum=(2548, 1636), maximum=(2567, 1655))\n",
      "calexp wcs:  FITS standard SkyWcs:\n",
      "Sky Origin: (65.3671837245, -44.4031638030)\n",
      "Pixel Origin: (1907.07, 1933.07)\n",
      "Pixel Scale: 0.199708 arcsec/pixel\n",
      "xy:  (3888, 160)\n",
      "bbox:  (minimum=(3878, 150), maximum=(3897, 169))\n",
      "calexp wcs:  FITS standard SkyWcs:\n",
      "Sky Origin: (65.4458206288, -44.5752381419)\n",
      "Pixel Origin: (1886.48, 1899.73)\n",
      "Pixel Scale: 0.199753 arcsec/pixel\n",
      "xy:  (2695, 3856)\n",
      "bbox:  (minimum=(2685, 3846), maximum=(2704, 3865))\n",
      "calexp wcs:  FITS standard SkyWcs:\n",
      "Sky Origin: (65.4253084290, -44.5376156985)\n",
      "Pixel Origin: (2350.55, 2092.55)\n",
      "Pixel Scale: 0.200033 arcsec/pixel\n",
      "xy:  (949, 3264)\n",
      "bbox:  (minimum=(939, 3254), maximum=(958, 3273))\n",
      "calexp wcs:  FITS standard SkyWcs:\n",
      "Sky Origin: (65.3942161798, -44.6090242097)\n",
      "Pixel Origin: (2248.55, 1797.98)\n",
      "Pixel Scale: 0.200126 arcsec/pixel\n",
      "xy:  (11, 2284)\n",
      "bbox:  (minimum=(1, 2274), maximum=(20, 2293))\n",
      "calexp wcs:  FITS standard SkyWcs:\n",
      "Sky Origin: (65.3808746794, -44.5249870682)\n",
      "Pixel Origin: (2237.48, 2013.53)\n",
      "Pixel Scale: 0.199636 arcsec/pixel\n",
      "xy:  (838, 256)\n",
      "bbox:  (minimum=(828, 246), maximum=(847, 265))\n",
      "calexp wcs:  FITS standard SkyWcs:\n",
      "Sky Origin: (65.5170166012, -44.5481022383)\n",
      "Pixel Origin: (2007.56, 2010.66)\n",
      "Pixel Scale: 0.199552 arcsec/pixel\n",
      "xy:  (1564, 1922)\n",
      "bbox:  (minimum=(1554, 1912), maximum=(1573, 1931))\n",
      "calexp wcs:  FITS standard SkyWcs:\n",
      "Sky Origin: (65.4818488642, -44.6097485963)\n",
      "Pixel Origin: (2090.82, 2086.69)\n",
      "Pixel Scale: 0.19989 arcsec/pixel\n",
      "xy:  (3287, 2839)\n",
      "bbox:  (minimum=(3277, 2829), maximum=(3296, 2848))\n",
      "calexp wcs:  FITS standard SkyWcs:\n",
      "Sky Origin: (65.6532260152, -44.4693167700)\n",
      "Pixel Origin: (1971.93, 1912.01)\n",
      "Pixel Scale: 0.199698 arcsec/pixel\n",
      "xy:  (3891, 1609)\n",
      "bbox:  (minimum=(3881, 1599), maximum=(3900, 1618))\n"
     ]
    }
   ],
   "source": [
    "stars_matchid = variable_stars['match_objectId'].to_numpy()\n",
    "stars_ra = variable_stars['ra'].to_numpy()\n",
    "stars_dec = variable_stars['dec'].to_numpy()\n",
    "df_row = []\n",
    "df_final = []\n",
    "\n",
    "fields_to_add = [\"sourceId\", \"coord_ra\", \"coord_dec\"] # fields to add to the maifest file\n",
    "\n",
    "for j, objid in enumerate(stars_matchid):\n",
    "# for j, objid in enumerate([\"1251270620688185329\"]):\n",
    "    cutouts = []\n",
    "    \n",
    "    figout_data = {\"sourceId\": stars_matchid[j]}\n",
    "    if \"coord_ra\" in fields_to_add:\n",
    "        figout_data[\"coord_ra\"] = stars_ra[j]\n",
    "    if \"coord_dec\" in fields_to_add:\n",
    "        figout_data[\"coord_dec\"] = stars_dec[j]\n",
    "    \n",
    "    # Query the variable star flux, detector and visit information\n",
    "    ccd_flux_table = query_flux(objid)\n",
    "    \n",
    "    # Get calexp images from Butler and plot them\n",
    "    idx_images = np.round(np.linspace(0, len(ccd_flux_table) - 1, num_variable_images)).astype(int)  #randomly select 5 images for each variable star\n",
    "    image_dict = {} \n",
    "    \n",
    "    for i,idx in enumerate(idx_images):\n",
    "        star_ra = ccd_flux_table['coord_ra'][idx]\n",
    "        star_dec = ccd_flux_table['coord_dec'][idx]\n",
    "        star_detector = ccd_flux_table['detector'][idx]\n",
    "        star_visitid = ccd_flux_table['visitId'][idx]\n",
    "        star_id = ccd_flux_table['objectId'][idx]\n",
    "        star_ccdid = ccd_flux_table['ccdVisitId'][idx]\n",
    "        \n",
    "        calexp_image = get_cutout_image(butler, star_ra, star_dec, star_visitid, star_detector, 'r', image_size, datasetType='calexp') # only r-band images \n",
    "        figout = make_calexp_fig(calexp_image, star_ra,star_dec,batch_dir+\"/images/\"+str(star_id)+\"_\"+str(star_ccdid)+\".png\")\n",
    "        remove_figure(figout)\n",
    "        \n",
    "        figout_data['location:image_'+str(i)] = str(star_id)+\"_\"+str(star_ccdid)+\".png\"\n",
    "        figout_data['filename'] = str(star_id)+\"_\"+str(star_ccdid)+\".png\"\n",
    "        \n",
    "    cutouts.append(figout_data)\n",
    "    \n",
    "    # manifest file\n",
    "    df_star = pd.DataFrame(data = cutouts, index=[0])\n",
    "    df_final.append(df_star)\n",
    "    \n",
    "    # flipbook data for each variable star\n",
    "    df = pd.DataFrame(data = image_dict, index=[0])\n",
    "    df_row.append(df)\n",
    "        \n",
    "    # Light curve for each variable star    \n",
    "    mjd_days, mags = utils.get_flux(ccd_flux_table)\n",
    "    figout = utils.plotlc(bands, mjd_days, mags, batch_dir+\"/lc_plots/\"+\"lc_\"+str(objid)+\".png\")\n",
    "    remove_figure(figout) \n",
    "    df_all_bands = []\n",
    "    for band in bands:\n",
    "        df = pd.DataFrame(data = {'band': [band]*len(mjd_days[band]), 'mjd_days': mjd_days[band], \\\n",
    "                          'mags': mags[band]}, index=None)\n",
    "        df_all_bands.append(df)\n",
    "    \n",
    "    df_final_lc = pd.concat(df_all_bands)\n",
    "    outfile = batch_dir+\"/text_files/\"+\"lc_\"+str(objid)+\".csv\"\n",
    "    df_final_lc.to_csv(outfile, index=False, sep=',')\n",
    "    \n",
    "df_manifest = pd.concat(df_final) # final manifest file with all variable stars\n",
    "outfile = batch_dir+\"images/manifest.csv\"\n",
    "df_manifest.to_csv(outfile, index=False, sep=',')\n"
   ]
  },
  {
   "cell_type": "code",
   "execution_count": 13,
   "id": "d600c67b-2632-4873-a66b-bf1a09132438",
   "metadata": {
    "execution": {
     "iopub.execute_input": "2023-09-15T16:00:00.368937Z",
     "iopub.status.busy": "2023-09-15T16:00:00.368697Z",
     "iopub.status.idle": "2023-09-15T16:00:00.372363Z",
     "shell.execute_reply": "2023-09-15T16:00:00.371571Z",
     "shell.execute_reply.started": "2023-09-15T16:00:00.368918Z"
    },
    "tags": []
   },
   "outputs": [],
   "source": [
    "# cutout_dir = batch_dir+\"images/\""
   ]
  },
  {
   "cell_type": "code",
   "execution_count": 14,
   "id": "e6257c57-ac5d-40d9-86d7-014c95b0b930",
   "metadata": {
    "execution": {
     "iopub.execute_input": "2023-09-15T16:00:00.373988Z",
     "iopub.status.busy": "2023-09-15T16:00:00.373743Z",
     "iopub.status.idle": "2023-09-15T16:00:00.388245Z",
     "shell.execute_reply": "2023-09-15T16:00:00.387550Z",
     "shell.execute_reply.started": "2023-09-15T16:00:00.373955Z"
    },
    "tags": []
   },
   "outputs": [],
   "source": [
    "# manifest_path = write_metadata_file(cutouts, cutout_dir)\n",
    "\n",
    "# print(\"The manifest CSV file can be found at the following relative path:\")\n",
    "# print(manifest_path)"
   ]
  },
  {
   "cell_type": "markdown",
   "id": "83fcc033-0d3b-49bc-a99d-5d1fa70102b0",
   "metadata": {},
   "source": [
    "## 3. Send data to Zooniverse"
   ]
  },
  {
   "cell_type": "code",
   "execution_count": 18,
   "id": "7468587f-fa51-4266-96b2-364c7ff1eec4",
   "metadata": {
    "execution": {
     "iopub.execute_input": "2023-09-15T16:14:20.968939Z",
     "iopub.status.busy": "2023-09-15T16:14:20.967427Z",
     "iopub.status.idle": "2023-09-15T16:14:20.973016Z",
     "shell.execute_reply": "2023-09-15T16:14:20.972134Z",
     "shell.execute_reply.started": "2023-09-15T16:14:20.968893Z"
    },
    "tags": []
   },
   "outputs": [],
   "source": [
    "cutout_dir = batch_dir+\"images/\""
   ]
  },
  {
   "cell_type": "code",
   "execution_count": 19,
   "id": "c08f519a-0ff4-4c2b-9d73-1bf632c20db9",
   "metadata": {
    "execution": {
     "iopub.execute_input": "2023-09-15T16:14:21.953314Z",
     "iopub.status.busy": "2023-09-15T16:14:21.952843Z",
     "iopub.status.idle": "2023-09-15T16:14:21.957312Z",
     "shell.execute_reply": "2023-09-15T16:14:21.956561Z",
     "shell.execute_reply.started": "2023-09-15T16:14:21.953285Z"
    },
    "tags": []
   },
   "outputs": [],
   "source": [
    "subject_set_name = \"test_flipbook\" "
   ]
  },
  {
   "cell_type": "code",
   "execution_count": 20,
   "id": "970eefc1-592e-4d0a-b276-1463f20b0f7f",
   "metadata": {
    "execution": {
     "iopub.execute_input": "2023-09-15T16:14:37.989992Z",
     "iopub.status.busy": "2023-09-15T16:14:37.989535Z",
     "iopub.status.idle": "2023-09-15T16:14:50.037794Z",
     "shell.execute_reply": "2023-09-15T16:14:50.037096Z",
     "shell.execute_reply.started": "2023-09-15T16:14:37.989946Z"
    },
    "tags": []
   },
   "outputs": [
    {
     "data": {
      "text/plain": [
       "'1. Checking batch status'"
      ]
     },
     "metadata": {},
     "output_type": "display_data"
    },
    {
     "data": {
      "text/plain": [
       "'2. Zipping up all the astro cutouts - this can take a few minutes with large data sets, but unlikely more than 10 minutes.'"
      ]
     },
     "metadata": {},
     "output_type": "display_data"
    },
    {
     "data": {
      "text/plain": [
       "'3. Uploading the citizen science data'"
      ]
     },
     "metadata": {},
     "output_type": "display_data"
    },
    {
     "data": {
      "text/plain": [
       "'4. Creating a new Zooniverse subject set'"
      ]
     },
     "metadata": {},
     "output_type": "display_data"
    },
    {
     "data": {
      "text/plain": [
       "'5. Notifying the Rubin EPO Data Center of the new data, which will finish processing of the data and notify Zooniverse'"
      ]
     },
     "metadata": {},
     "output_type": "display_data"
    },
    {
     "data": {
      "text/plain": [
       "'** Additional information:'"
      ]
     },
     "metadata": {},
     "output_type": "display_data"
    },
    {
     "data": {
      "text/html": [
       "<pre style=\"margin: 0.1em;\n",
       "padding-left: 0.25em;\n",
       "border-left-style: solid;\n",
       "font-family: var(--jp-code-font-family);\n",
       "font-size: var(--jp-code-font-size);\n",
       "line-height: var(--jp-code-line-height);\n",
       "\"><span style=\"color: var(--jp-warn-color2)\">root</span> <span style=\"color: var(--jp-warn-color0)\">WARNING</span>: Your project has not been approved by the data rights panel as of yet, as such you will not be able to send any additional data to Zooniverse until your project is approved.</pre>"
      ],
      "text/plain": [
       "<IPython.core.display.HTML object>"
      ]
     },
     "metadata": {},
     "output_type": "display_data"
    },
    {
     "data": {
      "text/html": [
       "<pre style=\"margin: 0.1em;\n",
       "padding-left: 0.25em;\n",
       "border-left-style: solid;\n",
       "font-family: var(--jp-code-font-family);\n",
       "font-size: var(--jp-code-font-size);\n",
       "line-height: var(--jp-code-line-height);\n",
       "\"><span style=\"color: var(--jp-warn-color2)\">root</span> <span style=\"color: var(--jp-warn-color0)\">WARNING</span>: Some audit records were not inserted!</pre>"
      ],
      "text/plain": [
       "<IPython.core.display.HTML object>"
      ]
     },
     "metadata": {},
     "output_type": "display_data"
    },
    {
     "data": {
      "text/plain": [
       "'6. Sending the manifest URL to Zooniverse'"
      ]
     },
     "metadata": {},
     "output_type": "display_data"
    },
    {
     "data": {
      "text/plain": [
       "'** Information: subject_set.id: 115702; manifest: https://storage.googleapis.com/citizen-science-data-public/110bbbc3-7d41-4086-9461-a95ab7d4e68f/manifest.csv'"
      ]
     },
     "metadata": {},
     "output_type": "display_data"
    },
    {
     "data": {
      "text/plain": [
       "'7. Transfer process complete, but further processing is required on the Zooniverse platform and you will receive an email at jsv1206@gmail.com'"
      ]
     },
     "metadata": {},
     "output_type": "display_data"
    }
   ],
   "source": [
    "cit_sci_pipeline.send_image_data(subject_set_name, cutout_dir)"
   ]
  },
  {
   "cell_type": "code",
   "execution_count": null,
   "id": "2cfb8780-569f-489c-98ea-d750e568d325",
   "metadata": {},
   "outputs": [],
   "source": []
  }
 ],
 "metadata": {
  "kernelspec": {
   "display_name": "LSST",
   "language": "python",
   "name": "lsst"
  },
  "language_info": {
   "codemirror_mode": {
    "name": "ipython",
    "version": 3
   },
   "file_extension": ".py",
   "mimetype": "text/x-python",
   "name": "python",
   "nbconvert_exporter": "python",
   "pygments_lexer": "ipython3",
   "version": "3.10.10"
  }
 },
 "nbformat": 4,
 "nbformat_minor": 5
}
