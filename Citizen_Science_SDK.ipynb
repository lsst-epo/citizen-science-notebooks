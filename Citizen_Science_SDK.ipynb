{
 "cells": [
  {
   "cell_type": "markdown",
   "id": "4ca66653-c815-47a4-af85-65b646a67e57",
   "metadata": {},
   "source": [
    "<img align=\"left\" src = https://project.lsst.org/sites/default/files/Rubin-O-Logo_0.png width=250 style=\"padding: 10px\"> \n",
    "<b>Citzen Science Notebook</b> <br>\n",
    "Contact author: Clare Higgs & Eric Rosas <br>\n",
    "Last verified to run: 2022-10-20 <br>\n",
    "LSST Science Piplines version: Weekly 2022_40 <br>\n",
    "Container size: medium <br>\n"
   ]
  },
  {
   "cell_type": "markdown",
   "id": "6f8b563e-c151-476e-8ef0-9e8088d1ec61",
   "metadata": {},
   "source": [
    "## 1.0 Introduction\n",
    "This notebook is intended to guide a PI through the process of sending data from the Rubin Science Platform (RSP) to the Zooniverse.\n",
    "A detailed guide to Citizen Science projects, outlining the process, requirements and support available is here: (*link to citscipiguide*)\n",
    "The data sent can be currated on the RSP as a necessary and take many forms. Here, we include an example of sending png cutout images. \n",
    "We encourage PIs new to the Rubin dataset to explore the tutorial notebooks and documentation.\n",
    "\n",
    "As explained in the guide, this notebook will restrict the number of object sent to the Zooniverse to 100 objects. This limit is intended to demonstrate your project prior to full approval from the EPO Data Rights Panel. \n",
    "\n",
    "Support is available and questions are welcome - (*some email/link etc*)\n",
    "\n",
    "\n",
    "**DEBUG VERSION note that this version of the notebook contains additional debugging and the first cell will need to be run once**"
   ]
  },
  {
   "cell_type": "markdown",
   "id": "10cb6f4f-ea5e-44b5-a066-319647eaa956",
   "metadata": {},
   "source": [
    "### Terminal Prep Work\n",
    "The follow cell will run the necessary terminal commands that make this notebook possible.\n",
    "\n",
    "**These cells only need to be run the first time this notebook is run and can be skipped after!**\n",
    "**This cell should be incorporated in to the RSP and will not be part of the final notebook**"
   ]
  },
  {
   "cell_type": "code",
   "execution_count": 1,
   "id": "77d8e89a-5696-4f76-9e26-9f5df9acd005",
   "metadata": {
    "execution": {
     "iopub.execute_input": "2023-05-01T22:36:14.707459Z",
     "iopub.status.busy": "2023-05-01T22:36:14.707220Z",
     "iopub.status.idle": "2023-05-01T22:36:25.457203Z",
     "shell.execute_reply": "2023-05-01T22:36:25.455991Z",
     "shell.execute_reply.started": "2023-05-01T22:36:14.707440Z"
    },
    "tags": []
   },
   "outputs": [
    {
     "name": "stdout",
     "output_type": "stream",
     "text": [
      "Installing external dependencies...\n",
      "Done installing external dependencies!\n"
     ]
    }
   ],
   "source": [
    "# %load_ext pycodestyle_magic\n",
    "# %flake8_on\n",
    "# Install panoptes client package to dependencies and create necessary folders\n",
    "!mkdir -p project/citizen-science/astro-cutouts/\n",
    "print(\"Installing external dependencies...\")\n",
    "!python -m pip install google-cloud-storage --quiet\n",
    "!pip install panoptes_client --quiet\n",
    "print(\"Done installing external dependencies!\")\n",
    "\n",
    "!export GOOGLE_APPLICATION_CREDENTIALS=/opt/lsst/software/jupyterlab/butler-secret/butler-gcs-idf-creds.json\n",
    "\n",
    "# Temporary debugging, won't affect anything with this notebook, instead helps Zooniverse developers troubleshoot issues on their side\n",
    "!export PANOPTES_DEBUG=1"
   ]
  },
  {
   "cell_type": "markdown",
   "id": "2450d25d",
   "metadata": {
    "tags": []
   },
   "source": [
    "## 2.0 Create a Zooniverse Account\n",
    "If you haven't already, [create a Zooniverse account here.](https://www.zooniverse.org/) \n",
    "and [create your project](https://www.zooniverse.org/lab). Your project must be set to \"public\". To set your project to public, select the \"Visibility\" tab.\n",
    "Note you will need to enter your username, password, and [project slug](https://www.zooniverse.org/talk/18/967061?comment=1898157&page=1) below.\n",
    "\n",
    "After creating your account and project, return to this notebook."
   ]
  },
  {
   "cell_type": "markdown",
   "id": "7b87346d",
   "metadata": {},
   "source": [
    "### Log in to Zooniverse\n",
    "Now that you have a Zooniverse account, log into the Zooniverse(Panoptes) client."
   ]
  },
  {
   "cell_type": "code",
   "execution_count": 2,
   "id": "8a9e14c0-24d3-4906-a060-66404e36155f",
   "metadata": {
    "execution": {
     "iopub.execute_input": "2023-05-01T22:37:19.321651Z",
     "iopub.status.busy": "2023-05-01T22:37:19.320894Z",
     "iopub.status.idle": "2023-05-01T22:37:29.626979Z",
     "shell.execute_reply": "2023-05-01T22:37:29.626189Z",
     "shell.execute_reply.started": "2023-05-01T22:37:19.321620Z"
    },
    "tags": []
   },
   "outputs": [
    {
     "name": "stdout",
     "output_type": "stream",
     "text": [
      "Enter your Zooniverse credentials...\n"
     ]
    },
    {
     "name": "stdin",
     "output_type": "stream",
     "text": [
      "Username:  sreevani\n",
      " ········\n"
     ]
    },
    {
     "name": "stdout",
     "output_type": "stream",
     "text": [
      "You now are logged in to the Zooniverse platform.\n"
     ]
    },
    {
     "data": {
      "text/html": [
       "<pre style=\"margin: 0.1em;\n",
       "padding-left: 0.25em;\n",
       "border-left-style: solid;\n",
       "font-family: var(--jp-code-font-family);\n",
       "font-size: var(--jp-code-font-size);\n",
       "line-height: var(--jp-code-line-height);\n",
       "\"><span style=\"color: var(--jp-warn-color2)\">flake8.options.manager</span> <span style=\"color: var(--jp-warn-color0)\">WARNING</span>: option --indent-size: please update `help=` text to use %(default)s instead of %default -- this will be an error in the future</pre>"
      ],
      "text/plain": [
       "<IPython.core.display.HTML object>"
      ]
     },
     "metadata": {},
     "output_type": "display_data"
    },
    {
     "data": {
      "text/html": [
       "<pre style=\"margin: 0.1em;\n",
       "padding-left: 0.25em;\n",
       "border-left-style: solid;\n",
       "font-family: var(--jp-code-font-family);\n",
       "font-size: var(--jp-code-font-size);\n",
       "line-height: var(--jp-code-line-height);\n",
       "\"><span style=\"color: var(--jp-warn-color2)\">flake8.options.manager</span> <span style=\"color: var(--jp-warn-color0)\">WARNING</span>: option --max-complexity: please update from optparse string `type=` to argparse callable `type=` -- this will be an error in the future</pre>"
      ],
      "text/plain": [
       "<IPython.core.display.HTML object>"
      ]
     },
     "metadata": {},
     "output_type": "display_data"
    }
   ],
   "source": [
    "import panoptes_client\n",
    "client = panoptes_client.Panoptes.connect(login=\"interactive\")\n",
    "print(\"You now are logged in to the Zooniverse platform.\")"
   ]
  },
  {
   "cell_type": "markdown",
   "id": "5eb732ad-0ae7-4ce4-aaf8-1dd2bb0a3194",
   "metadata": {},
   "source": [
    " ### Look Up Your Zooniverse Project\n",
    " Supply your email and project slug below. \n",
    "(If you don't know what a \"slug\" is in this context, see: https://www.zooniverse.org/talk/18/967061?comment=1898157&page=1)\n",
    "Do not include the leading forward slash.\n",
    " </br>\n",
    " \n",
    " IMPORTANT: Your Zooniverse project must be set to \"public\", a \"private\" project will not work. Select this setting under the \"Visibility\" tab, (it does not need to be set to live).\n",
    " The following code will not work if you have not authenticated in the cell titled \"Log in to Zooniverse\". "
   ]
  },
  {
   "cell_type": "code",
   "execution_count": 3,
   "id": "19c7e27c-f908-423f-88ee-2a3fb1c4d0df",
   "metadata": {
    "execution": {
     "iopub.execute_input": "2023-05-01T22:37:32.921872Z",
     "iopub.status.busy": "2023-05-01T22:37:32.920795Z",
     "iopub.status.idle": "2023-05-01T22:37:33.350248Z",
     "shell.execute_reply": "2023-05-01T22:37:33.349067Z",
     "shell.execute_reply.started": "2023-05-01T22:37:32.921842Z"
    },
    "tags": []
   },
   "outputs": [
    {
     "ename": "NameError",
     "evalue": "name 'slugName' is not defined",
     "output_type": "error",
     "traceback": [
      "\u001b[0;31m---------------------------------------------------------------------------\u001b[0m",
      "\u001b[0;31mNameError\u001b[0m                                 Traceback (most recent call last)",
      "Input \u001b[0;32mIn [3]\u001b[0m, in \u001b[0;36m<cell line: 2>\u001b[0;34m()\u001b[0m\n\u001b[1;32m      1\u001b[0m \u001b[38;5;28;01mfrom\u001b[39;00m \u001b[38;5;21;01mpanoptes_client\u001b[39;00m \u001b[38;5;28;01mimport\u001b[39;00m Project, SubjectSet, Classification\n\u001b[0;32m----> 2\u001b[0m project \u001b[38;5;241m=\u001b[39m Project\u001b[38;5;241m.\u001b[39mfind(slug\u001b[38;5;241m=\u001b[39m\u001b[43mslugName\u001b[49m)\n",
      "\u001b[0;31mNameError\u001b[0m: name 'slugName' is not defined"
     ]
    },
    {
     "data": {
      "text/html": [
       "<pre style=\"margin: 0.1em;\n",
       "padding-left: 0.25em;\n",
       "border-left-style: solid;\n",
       "font-family: var(--jp-code-font-family);\n",
       "font-size: var(--jp-code-font-size);\n",
       "line-height: var(--jp-code-line-height);\n",
       "\"><span style=\"color: var(--jp-warn-color2)\">flake8.options.manager</span> <span style=\"color: var(--jp-warn-color0)\">WARNING</span>: option --indent-size: please update `help=` text to use %(default)s instead of %default -- this will be an error in the future</pre>"
      ],
      "text/plain": [
       "<IPython.core.display.HTML object>"
      ]
     },
     "metadata": {},
     "output_type": "display_data"
    },
    {
     "data": {
      "text/html": [
       "<pre style=\"margin: 0.1em;\n",
       "padding-left: 0.25em;\n",
       "border-left-style: solid;\n",
       "font-family: var(--jp-code-font-family);\n",
       "font-size: var(--jp-code-font-size);\n",
       "line-height: var(--jp-code-line-height);\n",
       "\"><span style=\"color: var(--jp-warn-color2)\">flake8.options.manager</span> <span style=\"color: var(--jp-warn-color0)\">WARNING</span>: option --max-complexity: please update from optparse string `type=` to argparse callable `type=` -- this will be an error in the future</pre>"
      ],
      "text/plain": [
       "<IPython.core.display.HTML object>"
      ]
     },
     "metadata": {},
     "output_type": "display_data"
    }
   ],
   "source": [
    "from panoptes_client import Project, SubjectSet, Classification\n",
    "project = Project.find(slug=slugName)"
   ]
  },
  {
   "cell_type": "markdown",
   "id": "99f68a0f-2d89-4b8a-8eb3-42f81f272c7e",
   "metadata": {},
   "source": [
    "### Run the below cell to activate the Rubin Citizen Science SDK\n",
    "**just run this cell**\n",
    "\n",
    "**this cell should be gone in the final version**"
   ]
  },
  {
   "cell_type": "code",
   "execution_count": 3,
   "id": "330f0ec7-df55-4df4-a590-732871fd5074",
   "metadata": {
    "execution": {
     "iopub.execute_input": "2023-03-30T22:00:57.064884Z",
     "iopub.status.busy": "2023-03-30T22:00:57.064551Z",
     "iopub.status.idle": "2023-03-30T22:00:57.116526Z",
     "shell.execute_reply": "2023-03-30T22:00:57.115663Z",
     "shell.execute_reply.started": "2023-03-30T22:00:57.064858Z"
    },
    "tags": []
   },
   "outputs": [
    {
     "ename": "NameError",
     "evalue": "name 'project' is not defined",
     "output_type": "error",
     "traceback": [
      "\u001b[0;31m---------------------------------------------------------------------------\u001b[0m",
      "\u001b[0;31mNameError\u001b[0m                                 Traceback (most recent call last)",
      "Input \u001b[0;32mIn [3]\u001b[0m, in \u001b[0;36m<cell line: 21>\u001b[0;34m()\u001b[0m\n\u001b[1;32m     19\u001b[0m vendor_batch_id \u001b[38;5;241m=\u001b[39m \u001b[38;5;241m0\u001b[39m\n\u001b[1;32m     20\u001b[0m _HIPS_CUTOUTS \u001b[38;5;241m=\u001b[39m \u001b[38;5;124m\"\u001b[39m\u001b[38;5;124mhips_cutouts\u001b[39m\u001b[38;5;124m\"\u001b[39m\n\u001b[0;32m---> 21\u001b[0m project_id \u001b[38;5;241m=\u001b[39m \u001b[43mproject\u001b[49m\u001b[38;5;241m.\u001b[39mid\n\u001b[1;32m     22\u001b[0m guid \u001b[38;5;241m=\u001b[39m \u001b[38;5;124m\"\u001b[39m\u001b[38;5;124m\"\u001b[39m\n\u001b[1;32m     23\u001b[0m cutouts_dir \u001b[38;5;241m=\u001b[39m \u001b[38;5;124m\"\u001b[39m\u001b[38;5;124m\"\u001b[39m\n",
      "\u001b[0;31mNameError\u001b[0m: name 'project' is not defined"
     ]
    }
   ],
   "source": [
    "# HiPS astrocutout libraries\n",
    "from astroquery.hips2fits import hips2fits\n",
    "from IPython.display import display\n",
    "import matplotlib.pyplot as plt\n",
    "from matplotlib.colors import Colormap\n",
    "import astropy.units as u\n",
    "from astropy.coordinates import Longitude, Latitude, Angle\n",
    "import csv\n",
    "\n",
    "# GCP libraries\n",
    "from google.cloud import storage\n",
    "\n",
    "# Import organizational libraries\n",
    "import uuid, os, shutil, json, logging, urllib.request\n",
    "from datetime import datetime, timezone, timedelta\n",
    "\n",
    "# Prep work\n",
    "global email\n",
    "vendor_batch_id = 0\n",
    "_HIPS_CUTOUTS = \"hips_cutouts\"\n",
    "project_id = project.id\n",
    "guid = \"\"\n",
    "cutouts_dir = \"\"\n",
    "manifest_url = \"\"\n",
    "edc_response = \"\"\n",
    "step = 0\n",
    "\n",
    "def clean_up_unused_subject_set():\n",
    "    global client, vendor_batch_id\n",
    "    log_step(\"Cleaning up unused subject set on the Zooniverse platform, vendor_batch_id : \" + str(vendor_batch_id))\n",
    "    \n",
    "    try:\n",
    "        subject_set = SubjectSet.find(str(vendor_batch_id))\n",
    "\n",
    "        if subject_set.id == vendor_batch_id:\n",
    "            subject_set.delete()\n",
    "\n",
    "    except:\n",
    "        display(f\"** Warning: Failed to find the subject set with id: {str(vendor_batch_id)}- perhaps it's been deleted?.\")\n",
    "    return\n",
    "\n",
    "def send_zooniverse_manifest():\n",
    "    global vendor_batch_id, manifest_url, client\n",
    "    log_step(\"Sending the manifest URL to Zooniverse\")\n",
    "    display(\"** Information: subject_set.id: \" + str(vendor_batch_id) + \"; manifest: \" + manifest_url);\n",
    "\n",
    "    payload = {\"subject_set_imports\": {\"source_url\": manifest_url, \"links\": {\"subject_set\": str(vendor_batch_id)}}}\n",
    "    json_response, etag = client.post(path='/subject_set_imports', json=payload)\n",
    "    return\n",
    "\n",
    "def create_new_subject_set(name):\n",
    "    global project, panoptes_client, vendor_batch_id\n",
    "    log_step(\"Creating a new Zooniverse subject set\")\n",
    "    \n",
    "    # Create a new subject set\n",
    "    subject_set = panoptes_client.SubjectSet()\n",
    "    subject_set.links.project = project\n",
    "\n",
    "    # Give the subject set a display name (that will only be visible to you on the Zooniverse platform)\n",
    "    subject_set.display_name = name \n",
    "    subject_set.save()\n",
    "    project.reload()\n",
    "    vendor_batch_id = subject_set.id\n",
    "    return vendor_batch_id\n",
    "\n",
    "def check_status():\n",
    "    global guid\n",
    "    status_uri = \"https://rsp-data-exporter-dot-skyviewer.uw.r.appspot.com/citizen-science-ingest-status?guid=\" + guid\n",
    "    raw_response = urllib.request.urlopen(status_uri).read()\n",
    "    response = raw_response.decode('UTF-8')\n",
    "    return json.loads(response)\n",
    "\n",
    "def download_batch_metadata():\n",
    "    global guid\n",
    "    project_id_str = str(project_id)\n",
    "    dl_response = \"https://rsp-data-exporter-dot-skyviewer.uw.r.appspot.com/active-batch-metadata?vendor_project_id=\" + project_id_str\n",
    "    raw_response = urllib.request.urlopen(dl_response).read()\n",
    "    response = raw_response.decode('UTF-8')\n",
    "    return json.loads(response)\n",
    "\n",
    "\n",
    "# Validates that the RSP user is allowed to create a new subject set\n",
    "def send_data(subject_set_name, batch_dir, cutout_data = None):\n",
    "    global manifest_url, edc_response, step\n",
    "    step = 0\n",
    "    log_step(\"Checking batch status\")\n",
    "    if has_active_batch() is True:\n",
    "        raise CitizenScienceError(\"You cannot send another batch of data while a subject set is still active on the Zooniverse platform - you can only send a new batch of data if all subject sets associated to a project have been completed.\")\n",
    "    if __cit_sci_data_type == _HIPS_CUTOUTS:\n",
    "        zip_path = zip_hips_cutouts(batch_dir)\n",
    "        upload_hips_cutouts(zip_path)\n",
    "        subject_set_id = create_new_subject_set(subject_set_name)\n",
    "        \n",
    "        edc_response = alert_edc_of_new_citsci_data(subject_set_id)\n",
    "        if(edc_response == None):\n",
    "            edc_response = { \"status\": \"error\", \"messages\": \"An error occurred while processing the data transfer process upload\" }\n",
    "        else:\n",
    "            edc_response = json.loads(edc_response)\n",
    "\n",
    "    else:\n",
    "        # send_butler_data_to_edc()\n",
    "        subject_set_id = create_new_subject_set(subject_set_name)\n",
    "        manifest_url = send_butler_data_to_edc()\n",
    "    \n",
    "    if edc_response[\"status\"] == \"success\":\n",
    "        manifest_url = edc_response[\"manifest_url\"]\n",
    "        if len(edc_response[\"messages\"]) > 0:\n",
    "            display(\"** Additional information:\")\n",
    "            for message in edc_response[\"messages\"]:\n",
    "                logging.warning(message)\n",
    "                # display(\"    ** \" + message)\n",
    "        else:\n",
    "            log_step(\"Success! The URL to the manifest file can be found here:\")\n",
    "            display(manifest_url)\n",
    "    else:\n",
    "        clean_up_unused_subject_set()\n",
    "        logging.error(\"** One or more errors occurred during the last step **\")\n",
    "        logging.error(edc_response[\"messages\"])\n",
    "        logging.error(f\"Email address: {email}\")\n",
    "        logging.error(f\"Timestamp: {str(datetime.now(timezone(-timedelta(hours=7))))}\")\n",
    "        # for message in edc_response[\"messages\"]:\n",
    "        #     display(\"        ** \" + message)\n",
    "        return\n",
    "\n",
    "    send_zooniverse_manifest()\n",
    "    log_step(\"Transfer process complete, but further processing is required on the Zooniverse platform and you will receive an email at \" + email)\n",
    "    return\n",
    "\n",
    "def write_metadata_file(manifest, batch_dir):    \n",
    "    manifest_filename = 'metadata.csv'\n",
    "    with open(batch_dir + manifest_filename, 'w', newline='') as csvfile:\n",
    "        fieldnames = list(manifest[0].keys())\n",
    "        writer = csv.DictWriter(csvfile, fieldnames=fieldnames)\n",
    "        writer.writeheader()\n",
    "\n",
    "        for cutout in manifest:\n",
    "            writer.writerow(cutout)\n",
    "        \n",
    "    return f\"{batch_dir}{manifest_filename}\"\n",
    "\n",
    "def zip_hips_cutouts(batch_dir):\n",
    "    global guid\n",
    "    guid = str(uuid.uuid4())\n",
    "    log_step(\"Zipping up all the astro cutouts - this can take a few minutes with large data sets, but unlikely more than 10 minutes.\")\n",
    "    shutil.make_archive(\"./\" + guid, 'zip', batch_dir)\n",
    "    return [\"./\" + guid + '.zip', guid + '.zip']\n",
    "\n",
    "def upload_hips_cutouts(zip_path):\n",
    "    log_step(\"Uploading the citizen science data\")\n",
    "    bucket_name = \"citizen-science-data\"\n",
    "    destination_blob_name = zip_path[1]\n",
    "    source_file_name = zip_path[0]\n",
    "\n",
    "    storage_client = storage.Client()\n",
    "    bucket = storage_client.bucket(bucket_name)\n",
    "    blob = bucket.blob(destination_blob_name)\n",
    "\n",
    "    blob.upload_from_filename(source_file_name)\n",
    "    return\n",
    "\n",
    "def alert_edc_of_new_citsci_data(vendor_batch_id):\n",
    "    global guid\n",
    "    project_id_str = str(project_id)\n",
    "    log_step(\"Notifying the Rubin EPO Data Center of the new data, which will finish processing of the data and notify Zooniverse\")\n",
    "    \n",
    "    try:\n",
    "        edc_endpoint = \"https://rsp-data-exporter-dot-skyviewer.uw.r.appspot.com/citizen-science-bucket-ingest?email=\" + email + \"&vendor_project_id=\" + project_id_str + \"&guid=\" + guid + \"&vendor_batch_id=\" + str(vendor_batch_id) + \"&debug=True\"\n",
    "        response = urllib.request.urlopen(edc_endpoint).read()\n",
    "        manifestUrl = response.decode('UTF-8')\n",
    "        return manifestUrl\n",
    "    except Exception as e:\n",
    "        clean_up_unused_subject_set()\n",
    "        return None\n",
    "\n",
    "# def send_butler_data_to_edc():\n",
    "#     log_step(\"Notifying the Rubin EPO Data Center of the new data, which will finish processing of the data and notify Zooniverse\")\n",
    "#     edcEndpoint = \"https://rsp-data-exporter-e3g4rcii3q-uc.a.run.app/citizen-science-butler-ingest?email=\" + email + \"&collection=\" + datasetId + \"&sourceId=\" + sourceId + \"&vendorProjectId=\" + str(projectId) + \"&vendor_batch_id=\" + str(vendor_batch_id)\n",
    "#     log_step('Processing data for Zooniverse, this may take up to a few minutes.')\n",
    "#     response = urllib.request.urlopen(edcEndpoint).read()\n",
    "#     manifestUrl = response.decode('UTF-8')\n",
    "#     return\n",
    "\n",
    "def has_active_batch():\n",
    "    active_batch = False\n",
    "    for subject_set in project.links.subject_sets:\n",
    "        try:\n",
    "            for completeness_percent in list(subject_set.completeness.values()):\n",
    "                if completeness_percent == 1.0:\n",
    "                    active_batch = True\n",
    "                    break\n",
    "            if active_batch:\n",
    "                break\n",
    "        except:\n",
    "            display(\"    ** Warning! - The Zooniverse client is throwing an error about a missing subject set, this can likely safely be ignored.\");\n",
    "    return active_batch\n",
    "\n",
    "def log_step(msg):\n",
    "    global step\n",
    "    step += 1\n",
    "    display(str(step) + \". \" + msg)\n",
    "    return\n",
    "\n",
    "# Custom error handling for this notebook\n",
    "class CitizenScienceError(Exception):\n",
    "   \n",
    "    # Constructor or Initializer\n",
    "    def __init__(self, value):\n",
    "        self.value = value\n",
    "   \n",
    "    # __str__ is to print() the value\n",
    "    def __str__(self):\n",
    "        return(repr(self.value))\n",
    "    \n",
    "print(\"Loaded Citizen Science SDK\")              "
   ]
  },
  {
   "cell_type": "code",
   "execution_count": null,
   "id": "ded75445-cb65-42d6-9f34-957019d89e0f",
   "metadata": {},
   "outputs": [],
   "source": []
  },
  {
   "cell_type": "code",
   "execution_count": null,
   "id": "29c40949-3f22-4352-b5c6-9bdb26672de8",
   "metadata": {
    "tags": []
   },
   "outputs": [],
   "source": []
  },
  {
   "cell_type": "code",
   "execution_count": null,
   "id": "d895e927-d7d3-4e26-8b4d-4061cd7f746f",
   "metadata": {},
   "outputs": [],
   "source": []
  }
 ],
 "metadata": {
  "kernelspec": {
   "display_name": "LSST",
   "language": "python",
   "name": "lsst"
  },
  "language_info": {
   "codemirror_mode": {
    "name": "ipython",
    "version": 3
   },
   "file_extension": ".py",
   "mimetype": "text/x-python",
   "name": "python",
   "nbconvert_exporter": "python",
   "pygments_lexer": "ipython3",
   "version": "3.10.10"
  }
 },
 "nbformat": 4,
 "nbformat_minor": 5
}
