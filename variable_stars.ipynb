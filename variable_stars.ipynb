{
 "cells": [
  {
   "cell_type": "markdown",
   "id": "c8779321-6f90-42ad-a51b-8f07a3b4bf19",
   "metadata": {},
   "source": [
    "### Part of this notebook is taken from the tutorial-notebooks: 03a, 07b and 08 \n",
    "\n",
    "### Plotting functions taken from Melissa Graham's notebook and from Zooniverse testing\n",
    " https://github.com/rubin-dp0/cst-dev/blob/main/MLG_sandbox/DP02/citsci_sample_demo.ipynb"
   ]
  },
  {
   "cell_type": "code",
   "execution_count": 47,
   "id": "befe41f1-f04e-4807-9ee8-3b5654202e2e",
   "metadata": {
    "execution": {
     "iopub.execute_input": "2023-03-28T15:54:44.648876Z",
     "iopub.status.busy": "2023-03-28T15:54:44.647801Z",
     "iopub.status.idle": "2023-03-28T15:55:12.539638Z",
     "shell.execute_reply": "2023-03-28T15:55:12.538961Z",
     "shell.execute_reply.started": "2023-03-28T15:54:44.648842Z"
    },
    "tags": []
   },
   "outputs": [
    {
     "name": "stdout",
     "output_type": "stream",
     "text": [
      "Installing external dependencies...\n",
      "Done installing external dependencies!\n",
      "Enter your Zooniverse credentials...\n"
     ]
    },
    {
     "name": "stdin",
     "output_type": "stream",
     "text": [
      "Username:  sreevani\n",
      " ········\n"
     ]
    },
    {
     "name": "stdout",
     "output_type": "stream",
     "text": [
      "You now are logged in to the Zooniverse platform.\n",
      "Loaded Citizen Science SDK\n"
     ]
    }
   ],
   "source": [
    "email = \"jsv1206@gmail.com\"  \n",
    "slugName = \"sreevani/test-project-sj\" \n",
    "%run Citizen_Science_SDK.ipynb"
   ]
  },
  {
   "cell_type": "code",
   "execution_count": 1,
   "id": "843a7c50-8c33-417d-8d01-b02656361681",
   "metadata": {
    "execution": {
     "iopub.execute_input": "2023-03-28T14:14:21.060559Z",
     "iopub.status.busy": "2023-03-28T14:14:21.060322Z",
     "iopub.status.idle": "2023-03-28T14:14:22.562341Z",
     "shell.execute_reply": "2023-03-28T14:14:22.561239Z",
     "shell.execute_reply.started": "2023-03-28T14:14:21.060538Z"
    },
    "tags": []
   },
   "outputs": [],
   "source": [
    "import matplotlib.pyplot as plt\n",
    "import numpy as np\n",
    "import pandas as pd\n",
    "import warnings\n",
    "from lsst.rsp import get_tap_service, retrieve_query\n",
    "import gc\n",
    "import os\n",
    "\n",
    "# Astropy\n",
    "import astropy.units as u\n",
    "from astropy.units import UnitsWarning\n",
    "from astropy.timeseries import LombScargle\n",
    "\n",
    "import matplotlib.pyplot as plt\n",
    "plt.style.use('tableau-colorblind10')\n",
    "\n",
    "from lsst.daf.butler import Butler\n",
    "import lsst.daf.butler as dafButler\n",
    "import lsst.afw.display as afwDisplay\n",
    "import lsst.geom as geom"
   ]
  },
  {
   "cell_type": "code",
   "execution_count": 2,
   "id": "d4bfb889-1681-4481-8923-86c66619bcca",
   "metadata": {
    "execution": {
     "iopub.execute_input": "2023-03-28T14:14:22.566971Z",
     "iopub.status.busy": "2023-03-28T14:14:22.566539Z",
     "iopub.status.idle": "2023-03-28T14:14:22.582133Z",
     "shell.execute_reply": "2023-03-28T14:14:22.581264Z",
     "shell.execute_reply.started": "2023-03-28T14:14:22.566948Z"
    },
    "tags": []
   },
   "outputs": [],
   "source": [
    "%matplotlib inline"
   ]
  },
  {
   "cell_type": "code",
   "execution_count": 3,
   "id": "4ee439f4-2a67-48c6-b4c6-2642637b11c9",
   "metadata": {
    "execution": {
     "iopub.execute_input": "2023-03-28T14:14:22.586115Z",
     "iopub.status.busy": "2023-03-28T14:14:22.585873Z",
     "iopub.status.idle": "2023-03-28T14:14:22.711573Z",
     "shell.execute_reply": "2023-03-28T14:14:22.710634Z",
     "shell.execute_reply.started": "2023-03-28T14:14:22.586096Z"
    },
    "tags": []
   },
   "outputs": [],
   "source": [
    "#initializing Tap and Butler\n",
    "pd.set_option('display.max_rows', 20)\n",
    "warnings.simplefilter(\"ignore\", category=UnitsWarning)\n",
    "service = get_tap_service()\n",
    "assert service is not None\n",
    "assert service.baseurl == \"https://data.lsst.cloud/api/tap\"\n",
    "\n",
    "# Use lsst.afw.display with the matplotlib backend\n",
    "afwDisplay.setDefaultBackend('matplotlib')"
   ]
  },
  {
   "cell_type": "code",
   "execution_count": 4,
   "id": "7c7a58a1-945a-467f-97d0-a9389a9122fc",
   "metadata": {
    "execution": {
     "iopub.execute_input": "2023-03-28T14:14:22.719498Z",
     "iopub.status.busy": "2023-03-28T14:14:22.719291Z",
     "iopub.status.idle": "2023-03-28T14:14:22.724708Z",
     "shell.execute_reply": "2023-03-28T14:14:22.723768Z",
     "shell.execute_reply.started": "2023-03-28T14:14:22.719479Z"
    },
    "tags": []
   },
   "outputs": [],
   "source": [
    "params = {'axes.labelsize': 24,\n",
    "          'font.size': 20,\n",
    "          'legend.fontsize': 14,\n",
    "          'xtick.major.width': 3,\n",
    "          'xtick.minor.width': 2,\n",
    "          'xtick.major.size': 12,\n",
    "          'xtick.minor.size': 6,\n",
    "          'xtick.direction': 'in',\n",
    "          'xtick.top': True,\n",
    "          'lines.linewidth': 3,\n",
    "          'axes.linewidth': 3,\n",
    "          'axes.labelweight': 3,\n",
    "          'axes.titleweight': 3,\n",
    "          'ytick.major.width': 3,\n",
    "          'ytick.minor.width': 2,\n",
    "          'ytick.major.size': 12,\n",
    "          'ytick.minor.size': 6,\n",
    "          'ytick.direction': 'in',\n",
    "          'ytick.right': True,\n",
    "          'figure.figsize': [10, 8],\n",
    "          'figure.facecolor': 'White'\n",
    "          }\n",
    "\n",
    "plt.rcParams.update(params)"
   ]
  },
  {
   "cell_type": "code",
   "execution_count": 5,
   "id": "3123d8db-46fe-4147-9ee6-eca02bb77afc",
   "metadata": {
    "execution": {
     "iopub.execute_input": "2023-03-28T14:14:27.782638Z",
     "iopub.status.busy": "2023-03-28T14:14:27.781600Z",
     "iopub.status.idle": "2023-03-28T14:14:27.786890Z",
     "shell.execute_reply": "2023-03-28T14:14:27.785969Z",
     "shell.execute_reply.started": "2023-03-28T14:14:27.782606Z"
    },
    "tags": []
   },
   "outputs": [],
   "source": [
    "plot_filter_labels = {'u':'u', 'g':'g', 'r':'r', 'i':'i', 'z':'z', 'y':'y'}\n",
    "plot_filter_colors = {'u': '#56b4e9', 'g': '#008060', 'r': '#ff4000',\n",
    "                      'i': '#850000', 'z': '#6600cc', 'y': '#000000'}\n",
    "plot_filter_symbols = {'u': 'o', 'g': '^', 'r': 'v', 'i': 's', 'z': '*', 'y': 'p'}"
   ]
  },
  {
   "cell_type": "code",
   "execution_count": 6,
   "id": "80d48a58-3a15-4d8e-9d38-0bf220be224f",
   "metadata": {
    "execution": {
     "iopub.execute_input": "2023-03-28T14:14:28.226188Z",
     "iopub.status.busy": "2023-03-28T14:14:28.225268Z",
     "iopub.status.idle": "2023-03-28T14:14:28.229698Z",
     "shell.execute_reply": "2023-03-28T14:14:28.228863Z",
     "shell.execute_reply.started": "2023-03-28T14:14:28.226146Z"
    }
   },
   "outputs": [],
   "source": [
    "plots = []\n",
    "\n",
    "# band to get flux for\n",
    "bands = ['g','r','i'] "
   ]
  },
  {
   "cell_type": "code",
   "execution_count": 7,
   "id": "aad1eb57-df4c-4da0-b2dc-359c526ceeca",
   "metadata": {
    "execution": {
     "iopub.execute_input": "2023-03-28T14:14:28.845968Z",
     "iopub.status.busy": "2023-03-28T14:14:28.844986Z",
     "iopub.status.idle": "2023-03-28T14:14:28.849122Z",
     "shell.execute_reply": "2023-03-28T14:14:28.848376Z",
     "shell.execute_reply.started": "2023-03-28T14:14:28.845913Z"
    }
   },
   "outputs": [],
   "source": [
    "# image size for cutouts\n",
    "image_size = 100"
   ]
  },
  {
   "cell_type": "code",
   "execution_count": 8,
   "id": "b0ee631c-c7e6-431e-8529-eacaceeb5491",
   "metadata": {
    "execution": {
     "iopub.execute_input": "2023-03-28T14:14:29.227803Z",
     "iopub.status.busy": "2023-03-28T14:14:29.226893Z",
     "iopub.status.idle": "2023-03-28T14:14:29.231335Z",
     "shell.execute_reply": "2023-03-28T14:14:29.230604Z",
     "shell.execute_reply.started": "2023-03-28T14:14:29.227772Z"
    }
   },
   "outputs": [],
   "source": [
    "# number of stars to query \n",
    "query_num_stars = 2\n",
    "\n",
    "# Set any RA and DEC in degrees. This is the centre of your search radius\n",
    "# Let's look at one known RR-Lyrae. \n",
    "\n",
    "ra_known_rrl = 62.1479031\n",
    "dec_known_rrl = -35.799138\n",
    "\n",
    "# Search radius in degrees\n",
    "search_radius = 0.001"
   ]
  },
  {
   "cell_type": "code",
   "execution_count": 26,
   "id": "1671c000-e3f8-45af-910b-7d418fa4e7ef",
   "metadata": {
    "execution": {
     "iopub.execute_input": "2023-03-28T14:26:53.816716Z",
     "iopub.status.busy": "2023-03-28T14:26:53.815911Z",
     "iopub.status.idle": "2023-03-28T14:26:53.819794Z",
     "shell.execute_reply": "2023-03-28T14:26:53.819214Z",
     "shell.execute_reply.started": "2023-03-28T14:26:53.816688Z"
    }
   },
   "outputs": [],
   "source": [
    "# For each variable stars, number of images to query to create flipbook\n",
    "num_variable_images = 5"
   ]
  },
  {
   "cell_type": "code",
   "execution_count": 9,
   "id": "11e8be22-aa2e-4496-af34-4bd25276ef03",
   "metadata": {
    "execution": {
     "iopub.execute_input": "2023-03-28T14:14:30.156449Z",
     "iopub.status.busy": "2023-03-28T14:14:30.156055Z",
     "iopub.status.idle": "2023-03-28T14:14:33.632649Z",
     "shell.execute_reply": "2023-03-28T14:14:33.631685Z",
     "shell.execute_reply.started": "2023-03-28T14:14:30.156421Z"
    }
   },
   "outputs": [],
   "source": [
    "# Define the butler and collection to query from\n",
    "config = 'dp02'\n",
    "collection = '2.2i/runs/DP0.2'\n",
    "butler = dafButler.Butler(config, collections=collection)\n",
    "skymap = butler.get('skyMap')"
   ]
  },
  {
   "cell_type": "code",
   "execution_count": 42,
   "id": "5c69e266-8bb3-4d44-bb59-bb05e2826a6b",
   "metadata": {
    "execution": {
     "iopub.execute_input": "2023-03-28T15:50:45.977182Z",
     "iopub.status.busy": "2023-03-28T15:50:45.976712Z",
     "iopub.status.idle": "2023-03-28T15:50:46.091712Z",
     "shell.execute_reply": "2023-03-28T15:50:46.090543Z",
     "shell.execute_reply.started": "2023-03-28T15:50:45.977157Z"
    },
    "tags": []
   },
   "outputs": [],
   "source": [
    "## Creating directories to save images, lightcurves, and table\n",
    "\n",
    "batch_dir = './variable_stars_output' \n",
    "\n",
    "if os.path.isdir(batch_dir) == False:\n",
    "    os.mkdir(batch_dir)\n",
    "    \n",
    "if os.path.isdir(batch_dir+'/lc_plots') == False:\n",
    "    os.mkdir(batch_dir+'/lc_plots')\n",
    "else:\n",
    "    os.system('rm -r '+batch_dir+'/lc_plots/*')\n",
    "    \n",
    "if os.path.isdir(batch_dir+'/text_files') == False:\n",
    "    os.mkdir(batch_dir+'/text_files')\n",
    "else:\n",
    "    os.system('rm -r '+batch_dir+'/text_files/*')\n",
    "    \n",
    "if os.path.isdir(batch_dir+'/images') == False:\n",
    "    os.mkdir(batch_dir+'/images')\n",
    "else:\n",
    "    os.system('rm -r '+batch_dir+'/images/*')"
   ]
  },
  {
   "cell_type": "markdown",
   "id": "9d0bad26-e21b-4ee8-9ce6-6d1e29787133",
   "metadata": {},
   "source": [
    "## Plotting functions"
   ]
  },
  {
   "cell_type": "code",
   "execution_count": 32,
   "id": "c9b1f7a7-2a84-486f-8b98-0b0e16feee85",
   "metadata": {
    "execution": {
     "iopub.execute_input": "2023-03-28T14:56:09.227776Z",
     "iopub.status.busy": "2023-03-28T14:56:09.226729Z",
     "iopub.status.idle": "2023-03-28T14:56:09.234668Z",
     "shell.execute_reply": "2023-03-28T14:56:09.233969Z",
     "shell.execute_reply.started": "2023-03-28T14:56:09.227740Z"
    },
    "tags": []
   },
   "outputs": [],
   "source": [
    "def plotlc(days, magnitudes, out_name):\n",
    "    fig = plt.figure(figsize=(10,4))\n",
    "    for band in bands:\n",
    "        plt.plot(days[band], magnitudes[band],\\\n",
    "                 plot_filter_symbols[band], ms=4, label=plot_filter_labels[band])\n",
    "    plt.minorticks_on()\n",
    "    plt.xlabel('MJD (days)')\n",
    "    plt.ylabel('magnitude')\n",
    "    plt.legend('upper right')\n",
    "    plt.legend()\n",
    "    plt.savefig(out_name)\n",
    "    return fig\n",
    "    \n",
    "def make_calexp_fig(ra_deg,dec_deg,visit,detector,band,datasetType='calexp',cutoutSideLength=image_size):\n",
    "    \"\"\"\n",
    "    get the tract and patch of a source. currently retrieves i band only. \n",
    "\n",
    "    Parameters\n",
    "    ----------\n",
    "    ra : ra of source in degrees\n",
    "    dec : dec of source in degrees\n",
    "    \n",
    "    \"\"\"\n",
    "    cutoutSize = geom.ExtentI(cutoutSideLength, cutoutSideLength)\n",
    "    \n",
    "    radec = geom.SpherePoint(ra_deg,dec_deg, geom.degrees)\n",
    "    \n",
    "    dataId = {'visit': visit, 'detector': detector}  \n",
    "    calexp_wcs = butler.get('calexp.wcs', **dataId)\n",
    "    \n",
    "    xy = geom.PointI(calexp_wcs.skyToPixel(radec))\n",
    "    bbox = geom.BoxI(xy - cutoutSize // 2, cutoutSize)\n",
    "    parameters = {'bbox': bbox}\n",
    "    \n",
    "    cutout_image = butler.get('calexp', parameters=parameters, **dataId)\n",
    "\n",
    "    return cutout_image\n",
    "\n",
    "\n",
    "def remove_figure(fig):\n",
    "    \"\"\"\n",
    "    Remove a figure to reduce memory footprint.\n",
    "\n",
    "    Parameters\n",
    "    ----------\n",
    "    fig: matplotlib.figure.Figure\n",
    "        Figure to be removed.\n",
    "\n",
    "    Returns\n",
    "    -------\n",
    "    None\n",
    "    \"\"\"\n",
    "    # get the axes and clear their images\n",
    "    for ax in fig.get_axes():\n",
    "        for im in ax.get_images():\n",
    "            im.remove()\n",
    "    fig.clf()       # clear the figure\n",
    "    plt.close(fig)  # close the figure\n",
    "\n",
    "    gc.collect()    # call the garbage collector\n",
    "    "
   ]
  },
  {
   "cell_type": "markdown",
   "id": "b8059f56-2c0b-45d8-9481-bb25c23a9c4b",
   "metadata": {},
   "source": [
    "## Getting Images from Butler"
   ]
  },
  {
   "cell_type": "code",
   "execution_count": 13,
   "id": "267d385c-f391-4e07-af97-28347c1cb0ab",
   "metadata": {
    "execution": {
     "iopub.execute_input": "2023-03-28T14:15:28.679278Z",
     "iopub.status.busy": "2023-03-28T14:15:28.678517Z",
     "iopub.status.idle": "2023-03-28T14:15:28.685613Z",
     "shell.execute_reply": "2023-03-28T14:15:28.684608Z",
     "shell.execute_reply.started": "2023-03-28T14:15:28.679227Z"
    },
    "tags": []
   },
   "outputs": [],
   "source": [
    "def get_cutout_image(ra_deg,dec_deg,visit,detector,band,datasetType='calexp',cutoutSideLength=image_size):\n",
    "    \"\"\"\n",
    "    get the tract and patch of a source. currently retrieves i band only. \n",
    "\n",
    "    Parameters\n",
    "    ----------\n",
    "    ra : ra of source in degrees\n",
    "    dec : dec of source in degrees\n",
    "    \n",
    "    \"\"\"\n",
    "    cutoutSize = geom.ExtentI(cutoutSideLength, cutoutSideLength)\n",
    "    \n",
    "    radec = geom.SpherePoint(ra_deg,dec_deg, geom.degrees)\n",
    "    \n",
    "    dataId = {'visit': visit, 'detector': detector}  \n",
    "    calexp_wcs = butler.get('calexp.wcs', **dataId)\n",
    "    \n",
    "    xy = geom.PointI(calexp_wcs.skyToPixel(radec))\n",
    "    bbox = geom.BoxI(xy - cutoutSize // 2, cutoutSize)\n",
    "    parameters = {'bbox': bbox}\n",
    "    \n",
    "    cutout_image = butler.get('calexp', parameters=parameters, **dataId)\n",
    "\n",
    "    return cutout_image"
   ]
  },
  {
   "cell_type": "markdown",
   "id": "65df866f-c402-41e0-b47b-2ad688656dd2",
   "metadata": {},
   "source": [
    "## Extract MJD and flux from the queried table"
   ]
  },
  {
   "cell_type": "code",
   "execution_count": 14,
   "id": "9c8cddd0-4bc2-4f21-96f1-1fec61885f83",
   "metadata": {
    "execution": {
     "iopub.execute_input": "2023-03-28T14:15:29.973871Z",
     "iopub.status.busy": "2023-03-28T14:15:29.972971Z",
     "iopub.status.idle": "2023-03-28T14:15:29.979885Z",
     "shell.execute_reply": "2023-03-28T14:15:29.978871Z",
     "shell.execute_reply.started": "2023-03-28T14:15:29.973830Z"
    }
   },
   "outputs": [],
   "source": [
    "def get_flux(flux_table):\n",
    "    # Create masks for the bands\n",
    "    pick = {}\n",
    "    for filter in plot_filter_labels:\n",
    "        pick[filter] = (flux_table['band'] == filter)\n",
    "    mjd_days = {}\n",
    "    mags = {}\n",
    "    for filter in plot_filter_labels:\n",
    "        mjd_days[filter] = np.array(flux_table[pick[filter]]['expMidptMJD']) * u.day\n",
    "        mags[filter] = np.array(flux_table[pick[filter]]['psfMag'])\n",
    "        \n",
    "    return mjd_days, mags"
   ]
  },
  {
   "cell_type": "markdown",
   "id": "c5c3991d-09d8-493f-9c11-f558461bc4e4",
   "metadata": {},
   "source": [
    "## Query to get variable stars\n",
    "\n",
    "Selecting stars (truth_type=2)\n",
    "\n",
    "variable (is_variable = 1)\n",
    "\n",
    "is_pointsource = 1"
   ]
  },
  {
   "cell_type": "code",
   "execution_count": 18,
   "id": "060571f7-c73b-4a35-98b8-6ece29ce5b44",
   "metadata": {
    "execution": {
     "iopub.execute_input": "2023-03-28T14:16:06.737190Z",
     "iopub.status.busy": "2023-03-28T14:16:06.736780Z",
     "iopub.status.idle": "2023-03-28T14:16:06.741638Z",
     "shell.execute_reply": "2023-03-28T14:16:06.741026Z",
     "shell.execute_reply.started": "2023-03-28T14:16:06.737166Z"
    },
    "tags": []
   },
   "outputs": [],
   "source": [
    "# To query more than one star, change = 1 to <= 1\n",
    "\n",
    "def query_stars(ra_deg, dec_deg, radius_deg, limit):\n",
    "    #radius within which you want to query\n",
    "    query = \"SELECT mt.id_truth_type, mt.match_objectId, ts.ra, ts.dec \"\\\n",
    "            \"FROM dp02_dc2_catalogs.MatchesTruth AS mt \"\\\n",
    "            \"JOIN dp02_dc2_catalogs.TruthSummary AS ts ON mt.id_truth_type = ts.id_truth_type \"\\\n",
    "            \"WHERE ts.truth_type=2 \"\\\n",
    "            \"AND ts.is_variable = 1 \"\\\n",
    "            \"AND ts.is_pointsource = 1 \"\\\n",
    "            \"AND mt.match_objectId > 1 \"\\\n",
    "            \"AND CONTAINS(POINT('ICRS', ts.ra, ts.dec), CIRCLE('ICRS', \"+ str(ra_deg)+\", \"+str(dec_deg)+\", \"+str(radius_deg)+\")) = 1 \"\\\n",
    "            \"LIMIT \"+str(limit)+\" \"\n",
    "    results = service.search(query)\n",
    "    variable_stars = results.to_table().to_pandas()\n",
    "    return variable_stars"
   ]
  },
  {
   "cell_type": "markdown",
   "id": "450eb5ef-82af-450d-b386-f653467a17e6",
   "metadata": {},
   "source": [
    "## Query to get the flux at all the bands, visitId, and detector information visitId and detector information \n",
    "\n",
    "VisitId and detetor is needed to get the calexp images from Butler"
   ]
  },
  {
   "cell_type": "code",
   "execution_count": 29,
   "id": "76b84ceb-15c7-4637-b932-7ad514a9cf1c",
   "metadata": {
    "execution": {
     "iopub.execute_input": "2023-03-28T14:43:47.307168Z",
     "iopub.status.busy": "2023-03-28T14:43:47.306344Z",
     "iopub.status.idle": "2023-03-28T14:43:47.311469Z",
     "shell.execute_reply": "2023-03-28T14:43:47.310868Z",
     "shell.execute_reply.started": "2023-03-28T14:43:47.307133Z"
    },
    "tags": []
   },
   "outputs": [],
   "source": [
    "def query_flux(objid):\n",
    "    query = \"SELECT src.band, src.ccdVisitId, src.coord_ra, src.coord_dec, \"\\\n",
    "            \"src.objectId, src.psfFlux, src.psfFluxErr, \"\\\n",
    "            \"visinfo.detector, visinfo.visitId, \"\\\n",
    "            \"scisql_nanojanskyToAbMag(psfFlux) as psfMag, \"\\\n",
    "            \"visinfo.band, \"\\\n",
    "            \"visinfo.expMidptMJD \"\\\n",
    "            \"FROM dp02_dc2_catalogs.ForcedSource as src \"\\\n",
    "            \"JOIN dp02_dc2_catalogs.CcdVisit as visinfo \"\\\n",
    "            \"ON visinfo.ccdVisitId = src.ccdVisitId \"\\\n",
    "            \"WHERE src.objectId = \"+str(objid)+\" \"\n",
    "    table = service.search(query)\n",
    "    flux_table = table.to_table()\n",
    "    return flux_table"
   ]
  },
  {
   "cell_type": "code",
   "execution_count": 22,
   "id": "fb35503f-955f-490b-9100-d8bec98bbb1f",
   "metadata": {
    "execution": {
     "iopub.execute_input": "2023-03-28T14:19:16.702129Z",
     "iopub.status.busy": "2023-03-28T14:19:16.701667Z",
     "iopub.status.idle": "2023-03-28T14:19:18.751907Z",
     "shell.execute_reply": "2023-03-28T14:19:18.751069Z",
     "shell.execute_reply.started": "2023-03-28T14:19:16.702101Z"
    },
    "tags": []
   },
   "outputs": [
    {
     "name": "stdout",
     "output_type": "stream",
     "text": [
      "CPU times: user 8.88 ms, sys: 1.97 ms, total: 10.8 ms\n",
      "Wall time: 2.05 s\n"
     ]
    }
   ],
   "source": [
    "%%time\n",
    "variable_stars = query_stars(ra_known_rrl, dec_known_rrl, search_radius, query_num_stars)"
   ]
  },
  {
   "cell_type": "code",
   "execution_count": 23,
   "id": "95edb413-f9bd-4911-b1fd-c970c12ad4f2",
   "metadata": {
    "execution": {
     "iopub.execute_input": "2023-03-28T14:19:24.653071Z",
     "iopub.status.busy": "2023-03-28T14:19:24.652224Z",
     "iopub.status.idle": "2023-03-28T14:19:24.663972Z",
     "shell.execute_reply": "2023-03-28T14:19:24.663230Z",
     "shell.execute_reply.started": "2023-03-28T14:19:24.653040Z"
    },
    "tags": []
   },
   "outputs": [
    {
     "data": {
      "text/html": [
       "<div>\n",
       "<style scoped>\n",
       "    .dataframe tbody tr th:only-of-type {\n",
       "        vertical-align: middle;\n",
       "    }\n",
       "\n",
       "    .dataframe tbody tr th {\n",
       "        vertical-align: top;\n",
       "    }\n",
       "\n",
       "    .dataframe thead th {\n",
       "        text-align: right;\n",
       "    }\n",
       "</style>\n",
       "<table border=\"1\" class=\"dataframe\">\n",
       "  <thead>\n",
       "    <tr style=\"text-align: right;\">\n",
       "      <th></th>\n",
       "      <th>id_truth_type</th>\n",
       "      <th>match_objectId</th>\n",
       "      <th>ra</th>\n",
       "      <th>dec</th>\n",
       "    </tr>\n",
       "  </thead>\n",
       "  <tbody>\n",
       "    <tr>\n",
       "      <th>0</th>\n",
       "      <td>835714_2</td>\n",
       "      <td>1651589610221899038</td>\n",
       "      <td>62.147903</td>\n",
       "      <td>-35.799138</td>\n",
       "    </tr>\n",
       "  </tbody>\n",
       "</table>\n",
       "</div>"
      ],
      "text/plain": [
       "  id_truth_type       match_objectId         ra        dec\n",
       "0      835714_2  1651589610221899038  62.147903 -35.799138"
      ]
     },
     "execution_count": 23,
     "metadata": {},
     "output_type": "execute_result"
    }
   ],
   "source": [
    "variable_stars"
   ]
  },
  {
   "cell_type": "markdown",
   "id": "7efd312e-86a3-49e1-b1ea-e1714b32755a",
   "metadata": {},
   "source": [
    "## Get Calexp images and Lightcurves\n",
    "\n",
    "### Create csv for Zooniverse flipbook\n",
    "\n",
    "https://help.zooniverse.org/getting-started/example/#details-subject-sets-and-manifest-details-aka-what-is-a-manifesthttps://help.zooniverse.org/getting-started/example/#details-subject-sets-and-manifest-details-aka-what-is-a-manifestCreate \n"
   ]
  },
  {
   "cell_type": "code",
   "execution_count": 43,
   "id": "4017ff1d-99de-4bad-b8e8-095d13482d63",
   "metadata": {
    "execution": {
     "iopub.execute_input": "2023-03-28T15:50:52.261518Z",
     "iopub.status.busy": "2023-03-28T15:50:52.261148Z",
     "iopub.status.idle": "2023-03-28T15:54:09.081606Z",
     "shell.execute_reply": "2023-03-28T15:54:09.080816Z",
     "shell.execute_reply.started": "2023-03-28T15:50:52.261494Z"
    },
    "tags": []
   },
   "outputs": [
    {
     "name": "stdout",
     "output_type": "stream",
     "text": [
      "62.1479018 -35.7991382\n",
      "46 414861\n",
      "62.1479018 -35.7991382\n",
      "138 669797\n",
      "62.1479018 -35.7991382\n",
      "2 970049\n",
      "62.1479018 -35.7991382\n",
      "85 12467\n",
      "62.1479018 -35.7991382\n",
      "123 686630\n"
     ]
    }
   ],
   "source": [
    "stars_matchid = variable_stars['match_objectId'].to_numpy()\n",
    "df_row = []\n",
    "\n",
    "#fields to add to the maifest file\n",
    "fields_to_add = [\"objectId\", \"coord_ra\", \"coord_dec\"]\n",
    "cutouts = []\n",
    "\n",
    "for i, objid in enumerate(stars_matchid):\n",
    "    \n",
    "    # Query the variable star flux, detector and visit information\n",
    "    ccd_flux_table = query_flux(objid)\n",
    "    \n",
    "    # Get calexp images from Butler and plot them\n",
    "    idx_images = np.round(np.linspace(0, len(ccd_flux_table) - 1, num_variable_images)).astype(int)  #randomly select 5 images for each variable star\n",
    "    image_dict = {} \n",
    "    \n",
    "    for i,idx in enumerate(idx_images):\n",
    "        star_ra = ccd_flux_table['coord_ra'][idx]\n",
    "        star_dec = ccd_flux_table['coord_dec'][idx]\n",
    "        star_detector = ccd_flux_table['detector'][idx]\n",
    "        star_visitid = ccd_flux_table['visitId'][idx]\n",
    "        star_id = ccd_flux_table['objectId'][idx]\n",
    "        star_ccdid = ccd_flux_table['ccdVisitId'][idx]\n",
    "        # For now, get only 'r' band images for each variable star\n",
    "        calexp_image = get_cutout_image(star_ra, star_dec, star_visitid, star_detector, 'r', datasetType='calexp', cutoutSideLength=100)\n",
    "        figout = make_fig(calexp_image, star_ra,star_dec,batch_dir+\"/images/\"+str(star_id)+\"_\"+str(star_ccdid)+\".png\")\n",
    "        remove_figure(figout)\n",
    "        \n",
    "        image_dict['image_'+str(i)] = str(star_id)+\"_\"+str(star_ccdid)+\".png\"\n",
    "        figout_data = {\"filename\": str(star_id)+\"_\"+str(star_ccdid)+\".png\",\n",
    "                      \"objectId\": objid}\n",
    "        if \"coord_ra\" in fields_to_add:\n",
    "            figout_data[\"coord_ra\"] = star_ra\n",
    "        if \"coord_dec\" in fields_to_add:\n",
    "            figout_data[\"coord_dec\"] = star_dec\n",
    "            \n",
    "        cutouts.append(figout_data)\n",
    "     \n",
    "    # flipbook data for each variable star\n",
    "    df = pd.DataFrame(data = image_dict, index=[0])\n",
    "    df_row.append(df)\n",
    "        \n",
    "    # Light curve for each variable star    \n",
    "    mjd_days, mags = get_flux(ccd_flux_table)\n",
    "    figout = plotlc(mjd_days, mags, batch_dir+\"/lc_plots/\"+\"lc_\"+str(objid)+\".png\")\n",
    "    remove_figure(figout) \n",
    "    df_all_bands = []\n",
    "    for band in bands:\n",
    "        df = pd.DataFrame(data = {'band': [band]*len(mjd_days[band]), 'mjd_days': mjd_days[band], \\\n",
    "                          'mags': mags[band]}, index=None)\n",
    "        df_all_bands.append(df)\n",
    "    \n",
    "    df_final = pd.concat(df_all_bands)\n",
    "    outfile = batch_dir+\"/text_files/\"+\"lc_\"+str(objid)+\".csv\"\n",
    "    df_final.to_csv(outfile, index=False, sep=',')\n",
    "\n",
    "# flipbook with all variable stars\n",
    "df_flipbook = pd.concat(df_row)\n",
    "outfile = batch_dir+\"/zooniverse_flipbook_manifest.csv\"\n",
    "df_flipbook.to_csv(outfile, index=False, sep=',')"
   ]
  },
  {
   "cell_type": "markdown",
   "id": "83fcc033-0d3b-49bc-a99d-5d1fa70102b0",
   "metadata": {},
   "source": [
    "# Send data to Zooniverse"
   ]
  },
  {
   "cell_type": "code",
   "execution_count": 44,
   "id": "7468587f-fa51-4266-96b2-364c7ff1eec4",
   "metadata": {
    "execution": {
     "iopub.execute_input": "2023-03-28T15:54:27.402625Z",
     "iopub.status.busy": "2023-03-28T15:54:27.401623Z",
     "iopub.status.idle": "2023-03-28T15:54:27.405911Z",
     "shell.execute_reply": "2023-03-28T15:54:27.405261Z",
     "shell.execute_reply.started": "2023-03-28T15:54:27.402593Z"
    }
   },
   "outputs": [],
   "source": [
    "cutout_dir = batch_dir+\"/images/\""
   ]
  },
  {
   "cell_type": "code",
   "execution_count": 48,
   "id": "c08f519a-0ff4-4c2b-9d73-1bf632c20db9",
   "metadata": {
    "execution": {
     "iopub.execute_input": "2023-03-28T15:55:17.333600Z",
     "iopub.status.busy": "2023-03-28T15:55:17.332782Z",
     "iopub.status.idle": "2023-03-28T15:55:17.336584Z",
     "shell.execute_reply": "2023-03-28T15:55:17.336035Z",
     "shell.execute_reply.started": "2023-03-28T15:55:17.333573Z"
    },
    "tags": []
   },
   "outputs": [],
   "source": [
    "subject_set_name = \"variable stars cutouts\" "
   ]
  },
  {
   "cell_type": "code",
   "execution_count": 49,
   "id": "35016218-8203-4752-8f6f-9a302b140503",
   "metadata": {
    "execution": {
     "iopub.execute_input": "2023-03-28T15:55:18.078134Z",
     "iopub.status.busy": "2023-03-28T15:55:18.077699Z",
     "iopub.status.idle": "2023-03-28T15:55:26.092079Z",
     "shell.execute_reply": "2023-03-28T15:55:26.091340Z",
     "shell.execute_reply.started": "2023-03-28T15:55:18.078105Z"
    },
    "tags": []
   },
   "outputs": [
    {
     "data": {
      "text/plain": [
       "'1. Checking batch status'"
      ]
     },
     "metadata": {},
     "output_type": "display_data"
    },
    {
     "data": {
      "text/plain": [
       "'2. Writing metadata file required by the Rubin EPO Data Center.'"
      ]
     },
     "metadata": {},
     "output_type": "display_data"
    },
    {
     "data": {
      "text/plain": [
       "'3. Zipping up all the astro cutouts - this can take a few minutes with large data sets, but unlikely more than 10 minutes.'"
      ]
     },
     "metadata": {},
     "output_type": "display_data"
    },
    {
     "data": {
      "text/plain": [
       "'4. Uploading the citizen science data'"
      ]
     },
     "metadata": {},
     "output_type": "display_data"
    },
    {
     "data": {
      "text/plain": [
       "'5. Creating a new Zooniverse subject set'"
      ]
     },
     "metadata": {},
     "output_type": "display_data"
    },
    {
     "data": {
      "text/plain": [
       "'6. Notifying the Rubin EPO Data Center of the new data, which will finish processing of the data and notify Zooniverse'"
      ]
     },
     "metadata": {},
     "output_type": "display_data"
    },
    {
     "data": {
      "text/plain": [
       "'7. Cleaning up unused subject set on the Zooniverse platform, vendor_batch_id : 112435'"
      ]
     },
     "metadata": {},
     "output_type": "display_data"
    },
    {
     "data": {
      "text/plain": [
       "'8. Cleaning up unused subject set on the Zooniverse platform, vendor_batch_id : 112435'"
      ]
     },
     "metadata": {},
     "output_type": "display_data"
    },
    {
     "data": {
      "text/plain": [
       "\"** Warning: Failed to find the subject set with id: 112435- perhaps it's been deleted?.\""
      ]
     },
     "metadata": {},
     "output_type": "display_data"
    },
    {
     "data": {
      "text/html": [
       "<pre style=\"margin: 0.1em;\n",
       "padding-left: 0.25em;\n",
       "border-left-style: solid;\n",
       "font-family: var(--jp-code-font-family);\n",
       "font-size: var(--jp-code-font-size);\n",
       "line-height: var(--jp-code-line-height);\n",
       "\"><span style=\"color: var(--jp-warn-color2)\">root</span> <span style=\"color: var(--jp-error-color2)\">ERROR</span>: ** One or more errors occurred during the last step **</pre>"
      ],
      "text/plain": [
       "<IPython.core.display.HTML object>"
      ]
     },
     "metadata": {},
     "output_type": "display_data"
    },
    {
     "data": {
      "text/html": [
       "<pre style=\"margin: 0.1em;\n",
       "padding-left: 0.25em;\n",
       "border-left-style: solid;\n",
       "font-family: var(--jp-code-font-family);\n",
       "font-size: var(--jp-code-font-size);\n",
       "line-height: var(--jp-code-line-height);\n",
       "\"><span style=\"color: var(--jp-warn-color2)\">root</span> <span style=\"color: var(--jp-error-color2)\">ERROR</span>: An error occurred while processing the data transfer process upload</pre>"
      ],
      "text/plain": [
       "<IPython.core.display.HTML object>"
      ]
     },
     "metadata": {},
     "output_type": "display_data"
    },
    {
     "data": {
      "text/html": [
       "<pre style=\"margin: 0.1em;\n",
       "padding-left: 0.25em;\n",
       "border-left-style: solid;\n",
       "font-family: var(--jp-code-font-family);\n",
       "font-size: var(--jp-code-font-size);\n",
       "line-height: var(--jp-code-line-height);\n",
       "\"><span style=\"color: var(--jp-warn-color2)\">root</span> <span style=\"color: var(--jp-error-color2)\">ERROR</span>: Email address: jsv1206@gmail.com</pre>"
      ],
      "text/plain": [
       "<IPython.core.display.HTML object>"
      ]
     },
     "metadata": {},
     "output_type": "display_data"
    },
    {
     "data": {
      "text/html": [
       "<pre style=\"margin: 0.1em;\n",
       "padding-left: 0.25em;\n",
       "border-left-style: solid;\n",
       "font-family: var(--jp-code-font-family);\n",
       "font-size: var(--jp-code-font-size);\n",
       "line-height: var(--jp-code-line-height);\n",
       "\"><span style=\"color: var(--jp-warn-color2)\">root</span> <span style=\"color: var(--jp-error-color2)\">ERROR</span>: Timestamp: 2023-03-28 08:55:26.088703-07:00</pre>"
      ],
      "text/plain": [
       "<IPython.core.display.HTML object>"
      ]
     },
     "metadata": {},
     "output_type": "display_data"
    }
   ],
   "source": [
    "__cit_sci_data_type = _HIPS_CUTOUTS # Important: DO NOT change this value. Update - this value may be changed.\n",
    "send_data(subject_set_name, cutout_dir, cutouts)"
   ]
  },
  {
   "cell_type": "code",
   "execution_count": null,
   "id": "2cfb8780-569f-489c-98ea-d750e568d325",
   "metadata": {},
   "outputs": [],
   "source": []
  }
 ],
 "metadata": {
  "kernelspec": {
   "display_name": "LSST",
   "language": "python",
   "name": "lsst"
  },
  "language_info": {
   "codemirror_mode": {
    "name": "ipython",
    "version": 3
   },
   "file_extension": ".py",
   "mimetype": "text/x-python",
   "name": "python",
   "nbconvert_exporter": "python",
   "pygments_lexer": "ipython3",
   "version": "3.10.9"
  }
 },
 "nbformat": 4,
 "nbformat_minor": 5
}
