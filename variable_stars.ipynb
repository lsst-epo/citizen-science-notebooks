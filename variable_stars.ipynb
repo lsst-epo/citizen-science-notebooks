{
 "cells": [
  {
   "cell_type": "code",
   "execution_count": 1,
   "id": "70e4ca51-ba7d-4875-aa35-3ca1280a5c55",
   "metadata": {
    "execution": {
     "iopub.execute_input": "2023-10-12T21:29:30.839289Z",
     "iopub.status.busy": "2023-10-12T21:29:30.839049Z",
     "iopub.status.idle": "2023-10-12T21:29:30.843168Z",
     "shell.execute_reply": "2023-10-12T21:29:30.841991Z",
     "shell.execute_reply.started": "2023-10-12T21:29:30.839269Z"
    },
    "tags": []
   },
   "outputs": [],
   "source": [
    "# %load_ext pycodestyle_magic\n",
    "# %flake8_on\n",
    "# import logging\n",
    "# logging.getLogger(\"flake8\").setLevel(logging.FATAL)"
   ]
  },
  {
   "cell_type": "markdown",
   "id": "8fabc5dc-c078-4087-b377-21f36c9143d9",
   "metadata": {
    "tags": []
   },
   "source": [
    "<img align=\"left\" src = https://project.lsst.org/sites/default/files/Rubin-O-Logo_0.png width=250 style=\"padding: 10px\"> \n",
    "<b>Citzen Science Notebook</b> <br>\n",
    "Contact author: Sreevani Jarugula and Becky Nevin<br>\n",
    "Last verified to run: 2023-04-20 <br>\n",
    "LSST Science Pipelines version: Weekly 2023_xx <br>\n",
    "Container size: medium <br>\n"
   ]
  },
  {
   "cell_type": "markdown",
   "id": "894cd71b-ff56-4f39-8288-5cc7ab45264c",
   "metadata": {
    "jp-MarkdownHeadingCollapsed": true,
    "tags": []
   },
   "source": [
    "**Description:**\n",
    "Query and send variable star images and light curves from RSP to Zooniverse"
   ]
  },
  {
   "cell_type": "markdown",
   "id": "e7007893-1008-4613-8e91-b2a2d265dfac",
   "metadata": {},
   "source": [
    "**Skills:** Use various TAP tables, including joining multiple tables. Get calexp images. Extract time-series photometry."
   ]
  },
  {
   "cell_type": "markdown",
   "id": "1a3a9956-ea47-4a31-934a-c8388581de54",
   "metadata": {},
   "source": [
    "**LSST Data Products:** TAP tables dp02_dc2_catalogs.MatchesTruth, TruthSummary, ForcedSource, CcdVisit<br>"
   ]
  },
  {
   "cell_type": "markdown",
   "id": "14ff42dd-a31d-43d2-93cb-7caa541993aa",
   "metadata": {},
   "source": [
    "**Packages:** astropy, lsst.rsp.get_tap_service, lsst.rsp.retrieve_query, lsst.daf.butler, lsst.afw.display, lsst.geom "
   ]
  },
  {
   "cell_type": "markdown",
   "id": "2d955084-1fa1-42da-b0b4-584321c62db4",
   "metadata": {},
   "source": [
    "**Credit:** Tutorial notebooks 03a, 04a, 04b, 07b, and 08"
   ]
  },
  {
   "cell_type": "markdown",
   "id": "4cbc905d-8e9b-4ff9-b95d-e17b9b668385",
   "metadata": {},
   "source": [
    "**Support:** Support is available and questions are welcome - (some email/link etc)\n",
    "\n",
    "DEBUG VERSION note that this version of the notebook contains additional debugging and the first cell will need to be run once"
   ]
  },
  {
   "cell_type": "markdown",
   "id": "8f16c667-e2bb-4c82-9f96-af3b623810b2",
   "metadata": {},
   "source": [
    "## 1. Introduction <a class=\"anchor\" id=\"first-bullet\"></a>\n",
    "This notebook will guide you through the process of sending variable star data from the Rubin Science Platform (RSP) to the Zooniverse.\n",
    "\n",
    "This notebook will restrict the number of object sent to the Zooniverse to one variable star over five exposures. This limit is intended to demonstrate your project prior to full approval from the education and public outreach (EPO) Data Rights Panel."
   ]
  },
  {
   "cell_type": "markdown",
   "id": "5db9ea7f-f436-4680-9202-a32099f81162",
   "metadata": {
    "execution": {
     "iopub.execute_input": "2023-10-12T20:19:10.007584Z",
     "iopub.status.busy": "2023-10-12T20:19:10.007224Z",
     "iopub.status.idle": "2023-10-12T20:19:10.011538Z",
     "shell.execute_reply": "2023-10-12T20:19:10.010761Z",
     "shell.execute_reply.started": "2023-10-12T20:19:10.007563Z"
    },
    "tags": []
   },
   "source": [
    "### 1.1 Package imports <a class=\"anchor\" id=\"second-bullet\"></a>"
   ]
  },
  {
   "cell_type": "markdown",
   "id": "9735d0b1-bfb4-4b40-9021-4703255a9ad4",
   "metadata": {},
   "source": [
    "#### Install Pipeline Package\n",
    "\n",
    "First, install the Rubin Citizen Science Pipeline package by doing the following:\n",
    "\n",
    "1. Open up a New Launcher tab\n",
    "2. In the \"Other\" section of the New Launcher tab, click \"Terminal\"\n",
    "3. Use `pip` to install the `rubin.citsci` package by entering the following command:\n",
    "```\n",
    "pip install rubin.citsci\n",
    "```\n",
    "4. Confirm the next cell containing `from rubin.citsci import pipeline` works as expected and does not throw an error"
   ]
  },
  {
   "cell_type": "markdown",
   "id": "25cbe3a5-d06c-4e46-93be-88bdfa9db88c",
   "metadata": {
    "execution": {
     "iopub.execute_input": "2023-10-12T18:31:22.519931Z",
     "iopub.status.busy": "2023-10-12T18:31:22.519629Z",
     "iopub.status.idle": "2023-10-12T18:31:25.674406Z",
     "shell.execute_reply": "2023-10-12T18:31:25.673427Z",
     "shell.execute_reply.started": "2023-10-12T18:31:22.519902Z"
    },
    "tags": []
   },
   "source": [
    "!pip install --upgrade --force-reinstall --no-deps rubin.citsci --quiet"
   ]
  },
  {
   "cell_type": "code",
   "execution_count": 3,
   "id": "843a7c50-8c33-417d-8d01-b02656361681",
   "metadata": {
    "execution": {
     "iopub.execute_input": "2023-10-19T16:16:40.828839Z",
     "iopub.status.busy": "2023-10-19T16:16:40.828176Z",
     "iopub.status.idle": "2023-10-19T16:16:40.833557Z",
     "shell.execute_reply": "2023-10-19T16:16:40.832954Z",
     "shell.execute_reply.started": "2023-10-19T16:16:40.828815Z"
    },
    "tags": []
   },
   "outputs": [],
   "source": [
    "import utils\n",
    "from matplotlib import image as mpimg\n",
    "import matplotlib.pyplot as plt\n",
    "import gc\n",
    "import numpy as np\n",
    "import pandas\n",
    "import pandas as pd\n",
    "import time\n",
    "import os\n",
    "\n",
    "# Astropy imports\n",
    "from astropy.wcs import WCS\n",
    "from astropy.visualization import make_lupton_rgb\n",
    "from astropy import units as u\n",
    "from astropy.coordinates import SkyCoord\n",
    "\n",
    "# Import the Rubin TAP service utilities\n",
    "from lsst.rsp import get_tap_service, retrieve_query\n",
    "\n",
    "# Image visualization routines.\n",
    "import lsst.afw.display as afwDisplay\n",
    "# The Butler provides programmatic access to LSST data products.\n",
    "from lsst.daf.butler import Butler\n",
    "# Geometry package\n",
    "import lsst.geom as geom\n",
    "# Object for multi-band exposures\n",
    "from lsst.afw.image import MultibandExposure\n",
    "\n",
    "import lsst.daf.butler as dafButler\n",
    "import lsst.geom\n",
    "import lsst.afw.display as afwDisplay\n",
    "\n",
    "# Must explicitly set this to save figures\n",
    "afwDisplay.setDefaultBackend(\"matplotlib\")\n"
   ]
  },
  {
   "cell_type": "markdown",
   "id": "44f9d903-511b-42a9-b9ab-0d7d26d528db",
   "metadata": {},
   "source": [
    "### 1.2 Define functions and parameters <a class=\"anchor\" id=\"third-bullet\"></a>\n",
    "If you haven't already, [create a Zooniverse account](https://www.zooniverse.org/accounts/registerhttps://www.zooniverse.org/accounts/register) and create your project.\n",
    "\n",
    "IMPORTANT: Your Zooniverse project must be set to \"public\", a \"private\" project will not work. Select this setting under the \"Visibility\" tab, (it does not need to be set to live). \n",
    "\n",
    "\n",
    "A \"slug\" is the string of your Zooniverse username and your project name without the leading forward slash, for instance: \"username/project-name\". [Click here for more details](https://www.zooniverse.org/talk/18/967061?comment=1898157&page=1).\n"
   ]
  },
  {
   "cell_type": "code",
   "execution_count": 4,
   "id": "72b03aec-f204-45ac-b1d0-e66abd36e90e",
   "metadata": {
    "execution": {
     "iopub.execute_input": "2023-10-19T16:16:41.399973Z",
     "iopub.status.busy": "2023-10-19T16:16:41.399280Z",
     "iopub.status.idle": "2023-10-19T16:16:49.994217Z",
     "shell.execute_reply": "2023-10-19T16:16:49.993581Z",
     "shell.execute_reply.started": "2023-10-19T16:16:41.399947Z"
    },
    "tags": []
   },
   "outputs": [
    {
     "name": "stdout",
     "output_type": "stream",
     "text": [
      "Loading and running utilities to establish a link with Zooniverse\n",
      "Enter your Zooniverse username followed by password below\n",
      "Enter your Zooniverse credentials...\n"
     ]
    },
    {
     "name": "stdin",
     "output_type": "stream",
     "text": [
      "Username:  rebecca.nevin\n",
      " ········\n"
     ]
    },
    {
     "name": "stdout",
     "output_type": "stream",
     "text": [
      "You now are logged in to the Zooniverse platform.\n"
     ]
    }
   ],
   "source": [
    "# %load_ext pycodestyle_magic\n",
    "# %flake8_on\n",
    "# import logging\n",
    "# logging.getLogger(\"flake8\").setLevel(logging.FATAL)\n",
    "email = \"beckynevin@gmail.com\"  \n",
    "# slug_name = \"sreevani/test-pcw23\" \n",
    "slug_name = \"rebecca-dot-nevin/test-project\" \n",
    "\n",
    "from rubin.citsci import pipeline\n",
    "print(\"Loading and running utilities to establish a link with Zooniverse\")\n",
    "print(\"Enter your Zooniverse username followed by password below\")\n",
    "cit_sci_pipeline = pipeline.CitSciPipeline()\n",
    "cit_sci_pipeline.login_to_zooniverse(slug_name, email)"
   ]
  },
  {
   "cell_type": "markdown",
   "id": "3732cb8c-dd68-452c-b74c-748785b62a99",
   "metadata": {},
   "source": [
    "## 2. Make a subject set of variable stars to send to Zooniverse <a class=\"anchor\" id=\"fourth-bullet\"></a>\n",
    "A subject set is a collection of data (images, plots, etc) that are shown to citizen scientists. It is also the unit of data that is sent to Zooniverse.\n",
    "\n",
    "Here, we curate the subject set of objects to send to Zooniverse. This can be modified to create your own subject set. Your subject set must have 100 objects or less in the testing phase before your project is approved by the EPO Data Rights panel. \n",
    "\n",
    "This example makes two sets of image cutouts of two different variable stars at different moments in time."
   ]
  },
  {
   "cell_type": "markdown",
   "id": "694302cb-593a-4ed3-b640-ad2dcbc3f42e",
   "metadata": {},
   "source": [
    "### 2.1 Initialize TAP and Butler"
   ]
  },
  {
   "cell_type": "code",
   "execution_count": 5,
   "id": "4ee439f4-2a67-48c6-b4c6-2642637b11c9",
   "metadata": {
    "execution": {
     "iopub.execute_input": "2023-10-19T16:16:52.701803Z",
     "iopub.status.busy": "2023-10-19T16:16:52.701073Z",
     "iopub.status.idle": "2023-10-19T16:16:56.003027Z",
     "shell.execute_reply": "2023-10-19T16:16:56.002396Z",
     "shell.execute_reply.started": "2023-10-19T16:16:52.701777Z"
    },
    "tags": []
   },
   "outputs": [],
   "source": [
    "config = 'dp02'\n",
    "collection = '2.2i/runs/DP0.2'\n",
    "service, butler, skymap = utils.setup_butler(config, collection)"
   ]
  },
  {
   "cell_type": "markdown",
   "id": "b850948a-40cd-48f4-b2d4-e689159d0d87",
   "metadata": {},
   "source": [
    "### 2.2 Define variable star related parameters"
   ]
  },
  {
   "cell_type": "code",
   "execution_count": 6,
   "id": "b0ee631c-c7e6-431e-8529-eacaceeb5491",
   "metadata": {
    "execution": {
     "iopub.execute_input": "2023-10-19T16:16:56.009835Z",
     "iopub.status.busy": "2023-10-19T16:16:56.009660Z",
     "iopub.status.idle": "2023-10-19T16:16:56.012905Z",
     "shell.execute_reply": "2023-10-19T16:16:56.012413Z",
     "shell.execute_reply.started": "2023-10-19T16:16:56.009820Z"
    },
    "tags": []
   },
   "outputs": [],
   "source": [
    "query_num_stars = 1 # number of variable stars to query \n",
    "\n",
    "# Set any RA and DEC in degrees. This is the centre of your search radius\n",
    "# In this example notebook we are looking at one known RR-Lyrae. \n",
    "\n",
    "ra_known_rrl = 62.1479031\n",
    "dec_known_rrl = -35.799138\n",
    "\n",
    "\n",
    "search_radius = 0.001 # Search radius in degrees\n",
    "\n",
    "num_variable_images = 5 # For each variable stars, number of images to query to create flipbook (gif)\n",
    "\n",
    "image_size = 20 # image size for cutouts\n",
    "\n",
    "bands = ['g','r','i'] # bands to get flux for to create a lightcurve"
   ]
  },
  {
   "cell_type": "markdown",
   "id": "d4e5d710-210b-46e0-b212-4bad72d5d6dc",
   "metadata": {},
   "source": [
    "### 2.3 Create relevant directories"
   ]
  },
  {
   "cell_type": "code",
   "execution_count": 7,
   "id": "5c69e266-8bb3-4d44-bb59-bb05e2826a6b",
   "metadata": {
    "execution": {
     "iopub.execute_input": "2023-10-19T16:16:59.571912Z",
     "iopub.status.busy": "2023-10-19T16:16:59.571195Z",
     "iopub.status.idle": "2023-10-19T16:16:59.664952Z",
     "shell.execute_reply": "2023-10-19T16:16:59.664133Z",
     "shell.execute_reply.started": "2023-10-19T16:16:59.571887Z"
    },
    "tags": []
   },
   "outputs": [
    {
     "name": "stderr",
     "output_type": "stream",
     "text": [
      "rm: cannot remove ‘./variable_stars_output/images/*’: No such file or directory\n",
      "rm: cannot remove ‘./variable_stars_output/lc_plots/*’: No such file or directory\n",
      "rm: cannot remove ‘./variable_stars_output/text_files/*’: No such file or directory\n"
     ]
    }
   ],
   "source": [
    "plots = [] # empty list for plots\n",
    "\n",
    "# main directory\n",
    "batch_dir = './variable_stars_output/' \n",
    "\n",
    "if os.path.isdir(batch_dir) == False:\n",
    "    os.mkdir(batch_dir)\n",
    "\n",
    "# cutouts directory\n",
    "if os.path.isdir(batch_dir+'images') == False:\n",
    "    os.mkdir(batch_dir+'images')\n",
    "else:\n",
    "    os.system('rm -r '+batch_dir+'images/*')\n",
    "\n",
    "# light curve directory\n",
    "if os.path.isdir(batch_dir+'lc_plots') == False:\n",
    "    os.mkdir(batch_dir+'lc_plots')\n",
    "else:\n",
    "    os.system('rm -r '+batch_dir+'lc_plots/*')\n",
    "\n",
    "# light curve text file directory\n",
    "if os.path.isdir(batch_dir+'text_files') == False:\n",
    "    os.mkdir(batch_dir+'text_files')\n",
    "else:\n",
    "    os.system('rm -r '+batch_dir+'text_files/*')"
   ]
  },
  {
   "cell_type": "markdown",
   "id": "e294a393-997b-4c5a-8d72-87ff138dc4b5",
   "metadata": {},
   "source": [
    "### 2.4 Query and Plotting functions"
   ]
  },
  {
   "cell_type": "code",
   "execution_count": 12,
   "id": "7e79e7d5-6d45-4c79-81b5-02d3528ce7fc",
   "metadata": {
    "execution": {
     "iopub.execute_input": "2023-10-19T16:19:29.399211Z",
     "iopub.status.busy": "2023-10-19T16:19:29.398922Z",
     "iopub.status.idle": "2023-10-19T16:19:29.406112Z",
     "shell.execute_reply": "2023-10-19T16:19:29.405563Z",
     "shell.execute_reply.started": "2023-10-19T16:19:29.399186Z"
    },
    "tags": []
   },
   "outputs": [],
   "source": [
    "def query_stars(ra_deg, dec_deg, radius_deg, limit):\n",
    "    \"\"\"\n",
    "    Query variable stars from dp02_dc2_catalogs.MatchesTruth and dc2_catalogs.TruthSummary\n",
    "    \n",
    "    To query more than one star within the circle of search, change = 1 to <= 1\n",
    "    \n",
    "    Selecting stars (truth_type=2)\n",
    "    variable (is_variable = 1)\n",
    "    is_pointsource = 1\n",
    "\n",
    "    Input Parameters\n",
    "    ----------\n",
    "    ra_deg : ra of the centre of search in degrees\n",
    "    dec_deg : dec of the centre of search in degrees\n",
    "    radius_deg : radius within which to search for\n",
    "    limit : number of variable stars to retireve\n",
    "    \n",
    "    Returns\n",
    "    ----------\n",
    "    Table of variable stars as pandas dataframe\n",
    "    \"\"\"\n",
    "    query = \"SELECT mt.id_truth_type, mt.match_objectId, ts.ra, ts.dec \"\\\n",
    "            \"FROM dp02_dc2_catalogs.MatchesTruth AS mt \"\\\n",
    "            \"JOIN dp02_dc2_catalogs.TruthSummary AS ts ON mt.id_truth_type = ts.id_truth_type \"\\\n",
    "            \"WHERE ts.truth_type=2 \"\\\n",
    "            \"AND ts.is_variable = 1 \"\\\n",
    "            \"AND ts.is_pointsource = 1 \"\\\n",
    "            \"AND mt.match_objectId > 1 \"\\\n",
    "            \"AND CONTAINS(POINT('ICRS', ts.ra, ts.dec), CIRCLE('ICRS', \"+ str(ra_deg)+\", \"+str(dec_deg)+\", \"+str(radius_deg)+\")) <= 1 \"\\\n",
    "            \"LIMIT \"+str(limit)+\" \"\n",
    "    results = service.search(query)\n",
    "    variable_stars = results.to_table().to_pandas()\n",
    "    return variable_stars\n",
    "\n",
    "\n",
    "def query_stars_becky(ra_known_rrl, dec_known_rrl, radius):\n",
    "    results = service.search(\"SELECT TOP 100 \"\n",
    "                             \"coord_ra, coord_dec, objectId, \"\n",
    "                             \"g_psfFlux, r_psfFlux, i_psfFlux, detect_isPrimary, \"\n",
    "                             \"scisql_nanojanskyToAbMag(g_psfFlux) as gPSFMag, \"\n",
    "                             \"scisql_nanojanskyToAbMag(r_psfFlux) as rPSFMag, \"\n",
    "                             \"scisql_nanojanskyToAbMag(i_psfFlux) as iPSFMag, \"\n",
    "                             \"g_extendedness, r_extendedness, i_extendedness \"\n",
    "                             \"FROM dp02_dc2_catalogs.Object \"\n",
    "                             \"WHERE CONTAINS(POINT('ICRS', coord_ra, coord_dec), \"\n",
    "                             \"CIRCLE('ICRS',\" + str(ra_known_rrl) + \", \"\n",
    "                             + str(dec_known_rrl) + \", \"+str(radius)+\")) = 1 \"\n",
    "                             \"AND detect_isPrimary = 1\")\n",
    "\n",
    "    return results.to_table().to_pandas()\n",
    "                             \n",
    "\n",
    "\n",
    "def query_flux(objid):\n",
    "    \"\"\"\n",
    "    Query to get the flux for each variable star at all bands\n",
    "\n",
    "    Input Parameters\n",
    "    ----------\n",
    "    objid : Object ID of the variable star obtained from query_stars\n",
    "    \n",
    "    Returns\n",
    "    ----------\n",
    "    Table of flux of variable star \n",
    "    \"\"\"\n",
    "    query = \"SELECT src.band, src.ccdVisitId, src.coord_ra, src.coord_dec, \"\\\n",
    "            \"src.objectId, src.psfFlux, src.psfFluxErr, \"\\\n",
    "            \"visinfo.detector, visinfo.visitId, \"\\\n",
    "            \"scisql_nanojanskyToAbMag(psfFlux) as psfMag, \"\\\n",
    "            \"visinfo.band, \"\\\n",
    "            \"visinfo.expMidptMJD \"\\\n",
    "            \"FROM dp02_dc2_catalogs.ForcedSource as src \"\\\n",
    "            \"JOIN dp02_dc2_catalogs.CcdVisit as visinfo \"\\\n",
    "            \"ON visinfo.ccdVisitId = src.ccdVisitId \"\\\n",
    "            \"WHERE src.objectId = \"+str(objid)+\" \"\n",
    "    table = service.search(query)\n",
    "    flux_table = table.to_table()\n",
    "    return flux_table"
   ]
  },
  {
   "cell_type": "markdown",
   "id": "efac2893-43c4-4aff-9434-fdfec3f67914",
   "metadata": {},
   "source": [
    "## 3. Query and plot the variable stars"
   ]
  },
  {
   "cell_type": "code",
   "execution_count": 9,
   "id": "fb35503f-955f-490b-9100-d8bec98bbb1f",
   "metadata": {
    "execution": {
     "iopub.execute_input": "2023-10-19T16:17:04.618855Z",
     "iopub.status.busy": "2023-10-19T16:17:04.618216Z",
     "iopub.status.idle": "2023-10-19T16:17:10.515528Z",
     "shell.execute_reply": "2023-10-19T16:17:10.514891Z",
     "shell.execute_reply.started": "2023-10-19T16:17:04.618830Z"
    },
    "tags": []
   },
   "outputs": [
    {
     "name": "stdout",
     "output_type": "stream",
     "text": [
      "CPU times: user 18.2 ms, sys: 3.05 ms, total: 21.3 ms\n",
      "Wall time: 5.89 s\n"
     ]
    }
   ],
   "source": [
    "%%time\n",
    "variable_stars = query_stars(ra_known_rrl, dec_known_rrl, search_radius, query_num_stars)"
   ]
  },
  {
   "cell_type": "code",
   "execution_count": 10,
   "id": "95edb413-f9bd-4911-b1fd-c970c12ad4f2",
   "metadata": {
    "execution": {
     "iopub.execute_input": "2023-10-19T16:17:10.526350Z",
     "iopub.status.busy": "2023-10-19T16:17:10.526021Z",
     "iopub.status.idle": "2023-10-19T16:17:10.535931Z",
     "shell.execute_reply": "2023-10-19T16:17:10.535419Z",
     "shell.execute_reply.started": "2023-10-19T16:17:10.526331Z"
    },
    "tags": []
   },
   "outputs": [
    {
     "data": {
      "text/html": [
       "<div>\n",
       "<style scoped>\n",
       "    .dataframe tbody tr th:only-of-type {\n",
       "        vertical-align: middle;\n",
       "    }\n",
       "\n",
       "    .dataframe tbody tr th {\n",
       "        vertical-align: top;\n",
       "    }\n",
       "\n",
       "    .dataframe thead th {\n",
       "        text-align: right;\n",
       "    }\n",
       "</style>\n",
       "<table border=\"1\" class=\"dataframe\">\n",
       "  <thead>\n",
       "    <tr style=\"text-align: right;\">\n",
       "      <th></th>\n",
       "      <th>id_truth_type</th>\n",
       "      <th>match_objectId</th>\n",
       "      <th>ra</th>\n",
       "      <th>dec</th>\n",
       "    </tr>\n",
       "  </thead>\n",
       "  <tbody>\n",
       "    <tr>\n",
       "      <th>0</th>\n",
       "      <td>40745496103_2</td>\n",
       "      <td>1251666444874161581</td>\n",
       "      <td>65.542978</td>\n",
       "      <td>-44.480496</td>\n",
       "    </tr>\n",
       "  </tbody>\n",
       "</table>\n",
       "</div>"
      ],
      "text/plain": [
       "   id_truth_type       match_objectId         ra        dec\n",
       "0  40745496103_2  1251666444874161581  65.542978 -44.480496"
      ]
     },
     "execution_count": 10,
     "metadata": {},
     "output_type": "execute_result"
    }
   ],
   "source": [
    "variable_stars"
   ]
  },
  {
   "cell_type": "markdown",
   "id": "ad78835c-b889-4a0b-8a38-a5bbebb4e8b6",
   "metadata": {},
   "source": [
    "## Run Becky's query"
   ]
  },
  {
   "cell_type": "code",
   "execution_count": 13,
   "id": "4e59bf17-86f1-41bf-bf0f-d8e66ce67868",
   "metadata": {
    "execution": {
     "iopub.execute_input": "2023-10-19T16:20:07.454758Z",
     "iopub.status.busy": "2023-10-19T16:20:07.454006Z",
     "iopub.status.idle": "2023-10-19T16:20:07.980245Z",
     "shell.execute_reply": "2023-10-19T16:20:07.979716Z",
     "shell.execute_reply.started": "2023-10-19T16:20:07.454732Z"
    },
    "tags": []
   },
   "outputs": [
    {
     "data": {
      "text/html": [
       "<div>\n",
       "<style scoped>\n",
       "    .dataframe tbody tr th:only-of-type {\n",
       "        vertical-align: middle;\n",
       "    }\n",
       "\n",
       "    .dataframe tbody tr th {\n",
       "        vertical-align: top;\n",
       "    }\n",
       "\n",
       "    .dataframe thead th {\n",
       "        text-align: right;\n",
       "    }\n",
       "</style>\n",
       "<table border=\"1\" class=\"dataframe\">\n",
       "  <thead>\n",
       "    <tr style=\"text-align: right;\">\n",
       "      <th></th>\n",
       "      <th>coord_ra</th>\n",
       "      <th>coord_dec</th>\n",
       "      <th>objectId</th>\n",
       "      <th>g_psfFlux</th>\n",
       "      <th>r_psfFlux</th>\n",
       "      <th>i_psfFlux</th>\n",
       "      <th>detect_isPrimary</th>\n",
       "      <th>gPSFMag</th>\n",
       "      <th>rPSFMag</th>\n",
       "      <th>iPSFMag</th>\n",
       "      <th>g_extendedness</th>\n",
       "      <th>r_extendedness</th>\n",
       "      <th>i_extendedness</th>\n",
       "    </tr>\n",
       "  </thead>\n",
       "  <tbody>\n",
       "    <tr>\n",
       "      <th>0</th>\n",
       "      <td>62.147902</td>\n",
       "      <td>-35.799138</td>\n",
       "      <td>1651589610221899038</td>\n",
       "      <td>148048.932761</td>\n",
       "      <td>185964.384865</td>\n",
       "      <td>173109.351754</td>\n",
       "      <td>True</td>\n",
       "      <td>18.473987</td>\n",
       "      <td>18.226426</td>\n",
       "      <td>18.304199</td>\n",
       "      <td>0.0</td>\n",
       "      <td>0.0</td>\n",
       "      <td>0.0</td>\n",
       "    </tr>\n",
       "  </tbody>\n",
       "</table>\n",
       "</div>"
      ],
      "text/plain": [
       "    coord_ra  coord_dec             objectId      g_psfFlux      r_psfFlux  \\\n",
       "0  62.147902 -35.799138  1651589610221899038  148048.932761  185964.384865   \n",
       "\n",
       "       i_psfFlux  detect_isPrimary    gPSFMag    rPSFMag    iPSFMag  \\\n",
       "0  173109.351754              True  18.473987  18.226426  18.304199   \n",
       "\n",
       "   g_extendedness  r_extendedness  i_extendedness  \n",
       "0             0.0             0.0             0.0  "
      ]
     },
     "execution_count": 13,
     "metadata": {},
     "output_type": "execute_result"
    }
   ],
   "source": [
    "variable_stars = query_stars_becky(ra_known_rrl, dec_known_rrl, search_radius)\n",
    "variable_stars"
   ]
  },
  {
   "cell_type": "code",
   "execution_count": 44,
   "id": "fe55b63b-54ca-4ebe-97bb-2e769c4132f1",
   "metadata": {
    "execution": {
     "iopub.execute_input": "2023-10-12T21:37:06.173899Z",
     "iopub.status.busy": "2023-10-12T21:37:06.172844Z",
     "iopub.status.idle": "2023-10-12T21:37:07.290325Z",
     "shell.execute_reply": "2023-10-12T21:37:07.289403Z",
     "shell.execute_reply.started": "2023-10-12T21:37:06.173866Z"
    },
    "tags": []
   },
   "outputs": [
    {
     "name": "stdout",
     "output_type": "stream",
     "text": [
      "    id_truth_type       match_objectId         ra        dec\n",
      "0   41020661318_2  1250813223851033852  60.865609 -44.478279\n",
      "1   40969420415_2  1250813223851031684  60.879529 -44.509635\n",
      "2   41020665982_2  1250813223851004928  60.908793 -44.513800\n",
      "3   40966103623_2  1250804427757978807  61.202658 -44.627513\n",
      "4   40966079593_2  1250804427757981142  61.234926 -44.563318\n",
      "..            ...                  ...        ...        ...\n",
      "95  40969429799_2  1250813223851024952  61.062810 -44.626229\n",
      "96  40969429305_2  1250813223851001289  61.063021 -44.619922\n",
      "97  40745517912_2  1250813223851025053  61.103519 -44.625196\n",
      "98  40969427818_2  1250813223851001790  61.071665 -44.605357\n",
      "99  40966099692_2  1250813223851001837  61.075878 -44.603951\n",
      "\n",
      "[100 rows x 4 columns]\n"
     ]
    },
    {
     "ename": "NameError",
     "evalue": "name 'STOP' is not defined",
     "output_type": "error",
     "traceback": [
      "\u001b[0;31m---------------------------------------------------------------------------\u001b[0m",
      "\u001b[0;31mNameError\u001b[0m                                 Traceback (most recent call last)",
      "Cell \u001b[0;32mIn[44], line 7\u001b[0m\n\u001b[1;32m      5\u001b[0m     variable_stars \u001b[38;5;241m=\u001b[39m query_stars(ra_known_rrl, dec_known_rrl, search_radius, \u001b[38;5;241m100\u001b[39m)\n\u001b[1;32m      6\u001b[0m     \u001b[38;5;28mprint\u001b[39m(variable_stars)\n\u001b[0;32m----> 7\u001b[0m     \u001b[43mSTOP\u001b[49m\n\u001b[1;32m      8\u001b[0m     list_id\u001b[38;5;241m.\u001b[39mappend(variable_stars[\u001b[38;5;124m'\u001b[39m\u001b[38;5;124mmatch_objectId\u001b[39m\u001b[38;5;124m'\u001b[39m]\u001b[38;5;241m.\u001b[39mvalues[\u001b[38;5;241m0\u001b[39m])\n\u001b[1;32m     10\u001b[0m \u001b[38;5;28mprint\u001b[39m(list_id)\n",
      "\u001b[0;31mNameError\u001b[0m: name 'STOP' is not defined"
     ]
    }
   ],
   "source": [
    "# run the query a bunch of times\n",
    "search_radius = 0.000000000000000000000000000000001\n",
    "list_id = []\n",
    "for i in range(10):\n",
    "    variable_stars = query_stars(ra_known_rrl, dec_known_rrl, search_radius, 100)\n",
    "    print(variable_stars)\n",
    "    STOP\n",
    "    list_id.append(variable_stars['match_objectId'].values[0])\n",
    "    \n",
    "print(list_id)"
   ]
  },
  {
   "cell_type": "code",
   "execution_count": 10,
   "id": "fcb42f9f-267e-40ae-8e24-0be1e6551c23",
   "metadata": {
    "execution": {
     "iopub.execute_input": "2023-10-12T21:29:45.029748Z",
     "iopub.status.busy": "2023-10-12T21:29:45.029415Z",
     "iopub.status.idle": "2023-10-12T21:29:45.482062Z",
     "shell.execute_reply": "2023-10-12T21:29:45.480004Z",
     "shell.execute_reply.started": "2023-10-12T21:29:45.029701Z"
    }
   },
   "outputs": [
    {
     "ename": "NameError",
     "evalue": "name 'STOP' is not defined",
     "output_type": "error",
     "traceback": [
      "\u001b[0;31m---------------------------------------------------------------------------\u001b[0m",
      "\u001b[0;31mNameError\u001b[0m                                 Traceback (most recent call last)",
      "Cell \u001b[0;32mIn[10], line 1\u001b[0m\n\u001b[0;32m----> 1\u001b[0m \u001b[43mSTOP\u001b[49m\n",
      "\u001b[0;31mNameError\u001b[0m: name 'STOP' is not defined"
     ]
    }
   ],
   "source": [
    "STOP"
   ]
  },
  {
   "cell_type": "markdown",
   "id": "7efd312e-86a3-49e1-b1ea-e1714b32755a",
   "metadata": {},
   "source": [
    "### 2.1 Get Calexp images and Lightcurves\n",
    "\n",
    "How to create csv for Zooniverse flipbook\n",
    "\n",
    "https://help.zooniverse.org/getting-started/example/#details-subject-sets-and-manifest-details-aka-what-is-a-manifesthttps://help.zooniverse.org/getting-started/example/#details-subject-sets-and-manifest-details-aka-what-is-a-manifestCreate \n"
   ]
  },
  {
   "cell_type": "code",
   "execution_count": null,
   "id": "6e10e00b-227a-4a1a-9b3e-5b968ec0904d",
   "metadata": {
    "execution": {
     "iopub.status.busy": "2023-10-12T21:29:45.483182Z",
     "iopub.status.idle": "2023-10-12T21:29:45.483509Z",
     "shell.execute_reply": "2023-10-12T21:29:45.483384Z",
     "shell.execute_reply.started": "2023-10-12T21:29:45.483370Z"
    },
    "tags": []
   },
   "outputs": [],
   "source": [
    "def get_cutout_image(butler, ra_deg, dec_deg, visit, detector, band, cutoutSideLength, datasetType='calexp'):\n",
    "    \"\"\"\n",
    "    Get the cutout image information from butler. \n",
    "    This shoudl be followed by make_fig\n",
    "\n",
    "    Input Parameters\n",
    "    ----------\n",
    "    ra : ra of source in degrees\n",
    "    dec : dec of source in degrees\n",
    "    visit : visit id\n",
    "    detector : detector number\n",
    "    band : band to get cutput for\n",
    "    cutoutSideLength : size of the cutout\n",
    "    \n",
    "    Returns\n",
    "    ----------\n",
    "    Cutout image information\n",
    "    \"\"\"\n",
    "    cutoutSize = geom.ExtentI(cutoutSideLength, cutoutSideLength)\n",
    "    \n",
    "    radec = geom.SpherePoint(ra_deg,dec_deg, geom.degrees)\n",
    "    \n",
    "    dataId = {'visit': visit, 'detector': detector}  \n",
    "    calexp_wcs = butler.get('calexp.wcs', **dataId)\n",
    "    \n",
    "    print('calexp wcs: ', calexp_wcs)\n",
    "    \n",
    "    xy = geom.PointI(calexp_wcs.skyToPixel(radec))\n",
    "    bbox = geom.BoxI(xy - cutoutSize // 2, cutoutSize)\n",
    "    parameters = {'bbox': bbox}\n",
    "    print('xy: ',xy)\n",
    "    print('bbox: ',bbox)\n",
    "    \n",
    "    cutout_image = butler.get('calexp', parameters=parameters, **dataId)\n",
    "    \n",
    "    return cutout_image\n",
    "    \n",
    "    \n",
    "def make_calexp_fig(cutout_image, ra, dec, out_name):\n",
    "    \"\"\"\n",
    "    Create an image.\n",
    "    should be followed with remove_figure\n",
    "    \n",
    "    Parameters\n",
    "    ----------\n",
    "    cutout_image : cutout_image from butler.get\n",
    "    ra : ra of source in degrees\n",
    "    dec : dec of source in degrees\n",
    "    out_name : file name where you'd like to save it\n",
    "    \n",
    "    Returns\n",
    "    ----------\n",
    "    cutout image\n",
    "    \"\"\"\n",
    "    # fig = plt.figure(figsize=(4, 4))\n",
    "    # afw_display = afwDisplay.Display(frame=fig)\n",
    "    # afw_display.scale('asinh', 'zscale')\n",
    "    # afw_display.mtv(cutout_image.image)\n",
    "    \n",
    "#     cutout_wcs = cutout_image.getWcs()\n",
    "#     radec = geom.SpherePoint(ra, dec, geom.degrees)\n",
    "#     xy = geom.PointI(cutout_wcs.skyToPixel(radec))\n",
    "    \n",
    "#     afw_display.dot('x', xy.getX(), xy.getY(), size=1, ctype='orange')\n",
    "#     plt.gca().axis('off')\n",
    "#     plt.savefig(out_name)\n",
    "    \n",
    "    fig = plt.figure()\n",
    "    plt.subplot(projection=WCS(cutout_image.getWcs().getFitsMetadata()))\n",
    "    \n",
    "    #print('wcs ra: ', cutout_image.getWcs().getFitsMetadata()['CRVAL1'])\n",
    "    #print('wcs dec: ', cutout_image.getWcs().getFitsMetadata()['CRVAL2'])\n",
    "    \n",
    "    calexp_extent = (cutout_image.getBBox().beginX, cutout_image.getBBox().endX,\n",
    "                 cutout_image.getBBox().beginY, cutout_image.getBBox().endY)\n",
    "    im = plt.imshow(cutout_image.image.array, cmap='gray', vmin=-200.0, vmax=1000,\n",
    "                extent=calexp_extent, origin='lower')\n",
    "    plt.colorbar(location='right', anchor=(0, 0.1))\n",
    "    # plt.gca().axis('off')\n",
    "    plt.xlabel('Right Ascension')\n",
    "    plt.ylabel('Declination')\n",
    "    plt.savefig(out_name)\n",
    "    \n",
    "    return fig\n"
   ]
  },
  {
   "cell_type": "code",
   "execution_count": null,
   "id": "40bba49b-20f3-4633-b44b-8a49e9fa615b",
   "metadata": {
    "execution": {
     "iopub.status.busy": "2023-10-12T21:29:45.485011Z",
     "iopub.status.idle": "2023-10-12T21:29:45.485327Z",
     "shell.execute_reply": "2023-10-12T21:29:45.485211Z",
     "shell.execute_reply.started": "2023-10-12T21:29:45.485197Z"
    },
    "tags": []
   },
   "outputs": [],
   "source": [
    "plot_filter_symbols = {'u': 'o', 'g': '^', 'r': 'v', 'i': 's', 'z': '*', 'y': 'p'}\n",
    "plot_filter_labels = {'u':'u', 'g':'g', 'r':'r', 'i':'i', 'z':'z', 'y':'y'}\n",
    "plot_filter_colors = {'u': '#56b4e9', 'g': '#008060', 'r': '#ff4000',\n",
    "                      'i': '#850000', 'z': '#6600cc', 'y': '#000000'}\n",
    "def plotlc(bands, days, magnitudes, out_name):\n",
    "    \"\"\"\n",
    "    Create a light curve.\n",
    "\n",
    "    Input Parameters\n",
    "    ----------\n",
    "    days : dictionary for MJD in each band \n",
    "    magnitudes : dictionary for flux in each band\n",
    "    out_name : file name where you'd like to save it\n",
    "    \n",
    "    Returns\n",
    "    ----------\n",
    "    light curve image\n",
    "    \"\"\"\n",
    "\n",
    "    fig = plt.figure(figsize=(10,4))\n",
    "    for band in bands:\n",
    "        plt.plot(days[band], magnitudes[band] - np.mean(magnitudes[band]),\\\n",
    "                 plot_filter_symbols[band], ms=4, label=plot_filter_labels[band])\n",
    "    plt.minorticks_on()\n",
    "    plt.xlabel('MJD (days)')\n",
    "    plt.ylabel('magnitude')\n",
    "    plt.legend('upper right')\n",
    "    plt.legend()\n",
    "    plt.savefig(out_name)\n",
    "    return fig\n",
    "\n",
    "def remove_figure(fig):\n",
    "    \"\"\"\n",
    "    Remove a figure to reduce memory footprint.\n",
    "    Parameters\n",
    "    ----------\n",
    "    fig: matplotlib.figure.Figure\n",
    "        Figure to be removed.\n",
    "    Returns\n",
    "    -------\n",
    "    None\n",
    "    \"\"\"\n",
    "    # get the axes and clear their images\n",
    "    for ax in fig.get_axes():\n",
    "        for im in ax.get_images():\n",
    "            im.remove()\n",
    "    fig.clf()       # clear the figure\n",
    "    plt.close(fig)  # close the figure\n",
    "\n",
    "    gc.collect()    # call th"
   ]
  },
  {
   "cell_type": "code",
   "execution_count": null,
   "id": "4017ff1d-99de-4bad-b8e8-095d13482d63",
   "metadata": {
    "execution": {
     "iopub.status.busy": "2023-10-12T21:29:45.486471Z",
     "iopub.status.idle": "2023-10-12T21:29:45.486807Z",
     "shell.execute_reply": "2023-10-12T21:29:45.486635Z",
     "shell.execute_reply.started": "2023-10-12T21:29:45.486623Z"
    },
    "tags": []
   },
   "outputs": [],
   "source": [
    "stars_matchid = variable_stars['match_objectId'].to_numpy()\n",
    "stars_ra = variable_stars['ra'].to_numpy()\n",
    "stars_dec = variable_stars['dec'].to_numpy()\n",
    "\n",
    "df_row = []\n",
    "df_final = []\n",
    "\n",
    "fields_to_add = [\"sourceId\", \"coord_ra\", \"coord_dec\"] # fields to add to the maifest file\n",
    "\n",
    "for j, objid in enumerate(stars_matchid):\n",
    "# for j, objid in enumerate([\"1251270620688185329\"]):\n",
    "    cutouts = []\n",
    "    \n",
    "    figout_data = {\"sourceId\": stars_matchid[j]}\n",
    "    if \"coord_ra\" in fields_to_add:\n",
    "        figout_data[\"coord_ra\"] = stars_ra[j]\n",
    "    if \"coord_dec\" in fields_to_add:\n",
    "        figout_data[\"coord_dec\"] = stars_dec[j]\n",
    "    \n",
    "    # Query the variable star flux, detector and visit information\n",
    "    ccd_flux_table = query_flux(objid)\n",
    "    \n",
    "    # Get calexp images from Butler and plot them\n",
    "    idx_images = np.round(np.linspace(0, len(ccd_flux_table) - 1, num_variable_images)).astype(int)  #randomly select 5 images for each variable star\n",
    "    image_dict = {} \n",
    "    \n",
    "    for i,idx in enumerate(idx_images):\n",
    "        star_ra = ccd_flux_table['coord_ra'][idx]\n",
    "        star_dec = ccd_flux_table['coord_dec'][idx]\n",
    "        star_detector = ccd_flux_table['detector'][idx]\n",
    "        star_visitid = ccd_flux_table['visitId'][idx]\n",
    "        star_id = ccd_flux_table['objectId'][idx]\n",
    "        star_ccdid = ccd_flux_table['ccdVisitId'][idx]\n",
    "        \n",
    "        calexp_image = get_cutout_image(butler, star_ra, star_dec, star_visitid, star_detector, 'r', image_size, datasetType='calexp') # only r-band images \n",
    "        figout = make_calexp_fig(calexp_image, star_ra,star_dec,batch_dir+\"/images/\"+str(star_id)+\"_\"+str(star_ccdid)+\".png\")\n",
    "        remove_figure(figout)\n",
    "        \n",
    "        figout_data['location:image_'+str(i)] = str(star_id)+\"_\"+str(star_ccdid)+\".png\"\n",
    "        figout_data['filename'] = str(star_id)+\"_\"+str(star_ccdid)+\".png\"\n",
    "        \n",
    "    cutouts.append(figout_data)\n",
    "    \n",
    "    # manifest file\n",
    "    df_star = pd.DataFrame(data = cutouts, index=[0])\n",
    "    df_final.append(df_star)\n",
    "    \n",
    "    # flipbook data for each variable star\n",
    "    df = pd.DataFrame(data = image_dict, index=[0])\n",
    "    df_row.append(df)\n",
    "        \n",
    "    # Light curve for each variable star    \n",
    "    mjd_days, mags = utils.get_flux(ccd_flux_table)\n",
    "    figout = utils.plotlc(bands, mjd_days, mags, batch_dir+\"/lc_plots/\"+\"lc_\"+str(objid)+\".png\")\n",
    "    remove_figure(figout) \n",
    "    df_all_bands = []\n",
    "    for band in bands:\n",
    "        df = pd.DataFrame(data = {'band': [band]*len(mjd_days[band]), 'mjd_days': mjd_days[band], \\\n",
    "                          'mags': mags[band]}, index=None)\n",
    "        df_all_bands.append(df)\n",
    "    \n",
    "    df_final_lc = pd.concat(df_all_bands)\n",
    "    outfile = batch_dir+\"/text_files/\"+\"lc_\"+str(objid)+\".csv\"\n",
    "    df_final_lc.to_csv(outfile, index=False, sep=',')\n",
    "    \n",
    "df_manifest = pd.concat(df_final) # final manifest file with all variable stars\n",
    "outfile = batch_dir+\"images/manifest.csv\"\n",
    "df_manifest.to_csv(outfile, index=False, sep=',')\n"
   ]
  },
  {
   "cell_type": "markdown",
   "id": "bc11700a-5e27-4393-945e-fa235d0ef7dc",
   "metadata": {},
   "source": [
    "## Visualize the images we have saved\n",
    "Separating the two stars."
   ]
  },
  {
   "cell_type": "code",
   "execution_count": null,
   "id": "d3f3716a-82f8-41fd-b9f6-e7023b4e36cc",
   "metadata": {
    "execution": {
     "iopub.status.busy": "2023-10-12T21:29:45.488046Z",
     "iopub.status.idle": "2023-10-12T21:29:45.488336Z",
     "shell.execute_reply": "2023-10-12T21:29:45.488224Z",
     "shell.execute_reply.started": "2023-10-12T21:29:45.488211Z"
    },
    "tags": []
   },
   "outputs": [],
   "source": [
    "# go through your variable_stars_output/images\n",
    "# and make a figure\n",
    "\n",
    "image_dir = 'variable_stars_output/images/'\n",
    "star_name = np.zeros((query_num_stars, num_variable_images))\n",
    "star_name = []\n",
    "for i, id_star in enumerate(stars_matchid):\n",
    "    # go through and sort by ccdID so that they are in order of time\n",
    "    # DOUBLE CHECK THAT THIS IS TIME ORDER\n",
    "    ccdID_list = []\n",
    "    for j, file in enumerate(os.listdir(image_dir)):\n",
    "        if str.split(file,'.')[1] == 'png' and str.split(file,'_')[0] == str(id_star):\n",
    "            star_name.append(str(id_star)+'_'+str(int(str.split(str.split(file,'_')[1],'.')[0]))+'.png')\n",
    "\n",
    "# Okay now go through and plot each of these\n",
    "fig, axs = plt.subplots(1,5, figsize = (20,20))\n",
    "print('star', stars_matchid[0])\n",
    "for j in range(num_variable_images):\n",
    "    image = mpimg.imread(image_dir + star_name[j])\n",
    "    axs[j].imshow(image)\n",
    "    axs[j].axis('off')\n",
    "plt.show()\n",
    "\n",
    "fig, axs = plt.subplots(1,5, figsize = (20,20))\n",
    "print('star', stars_matchid[1])\n",
    "for j in range(num_variable_images):\n",
    "    image = mpimg.imread(image_dir + star_name[j+num_variable_images])\n",
    "    axs[j].imshow(image)\n",
    "    axs[j].axis('off')\n",
    "plt.show()\n"
   ]
  },
  {
   "cell_type": "code",
   "execution_count": null,
   "id": "0a53bb4f-7f78-4637-b193-723e25725d93",
   "metadata": {
    "execution": {
     "iopub.status.busy": "2023-10-12T21:29:45.489319Z",
     "iopub.status.idle": "2023-10-12T21:29:45.489588Z",
     "shell.execute_reply": "2023-10-12T21:29:45.489481Z",
     "shell.execute_reply.started": "2023-10-12T21:29:45.489469Z"
    },
    "tags": []
   },
   "outputs": [],
   "source": [
    "STOP"
   ]
  },
  {
   "cell_type": "code",
   "execution_count": null,
   "id": "d600c67b-2632-4873-a66b-bf1a09132438",
   "metadata": {
    "execution": {
     "iopub.status.busy": "2023-10-12T21:29:45.490787Z",
     "iopub.status.idle": "2023-10-12T21:29:45.491064Z",
     "shell.execute_reply": "2023-10-12T21:29:45.490950Z",
     "shell.execute_reply.started": "2023-10-12T21:29:45.490939Z"
    },
    "tags": []
   },
   "outputs": [],
   "source": [
    "# cutout_dir = batch_dir+\"images/\""
   ]
  },
  {
   "cell_type": "code",
   "execution_count": null,
   "id": "e6257c57-ac5d-40d9-86d7-014c95b0b930",
   "metadata": {
    "execution": {
     "iopub.status.busy": "2023-10-12T21:29:45.492104Z",
     "iopub.status.idle": "2023-10-12T21:29:45.492381Z",
     "shell.execute_reply": "2023-10-12T21:29:45.492277Z",
     "shell.execute_reply.started": "2023-10-12T21:29:45.492265Z"
    },
    "tags": []
   },
   "outputs": [],
   "source": [
    "# manifest_path = write_metadata_file(cutouts, cutout_dir)\n",
    "\n",
    "# print(\"The manifest CSV file can be found at the following relative path:\")\n",
    "# print(manifest_path)"
   ]
  },
  {
   "cell_type": "markdown",
   "id": "83fcc033-0d3b-49bc-a99d-5d1fa70102b0",
   "metadata": {},
   "source": [
    "## 3. Send data to Zooniverse"
   ]
  },
  {
   "cell_type": "code",
   "execution_count": null,
   "id": "7468587f-fa51-4266-96b2-364c7ff1eec4",
   "metadata": {
    "execution": {
     "iopub.status.busy": "2023-10-12T21:29:45.502520Z",
     "iopub.status.idle": "2023-10-12T21:29:45.503645Z",
     "shell.execute_reply": "2023-10-12T21:29:45.503410Z",
     "shell.execute_reply.started": "2023-10-12T21:29:45.503384Z"
    },
    "tags": []
   },
   "outputs": [],
   "source": [
    "cutout_dir = batch_dir+\"images/\""
   ]
  },
  {
   "cell_type": "code",
   "execution_count": null,
   "id": "c08f519a-0ff4-4c2b-9d73-1bf632c20db9",
   "metadata": {
    "execution": {
     "iopub.status.busy": "2023-10-12T21:29:45.504647Z",
     "iopub.status.idle": "2023-10-12T21:29:45.504993Z",
     "shell.execute_reply": "2023-10-12T21:29:45.504876Z",
     "shell.execute_reply.started": "2023-10-12T21:29:45.504861Z"
    },
    "tags": []
   },
   "outputs": [],
   "source": [
    "subject_set_name = \"test_flipbook\" "
   ]
  },
  {
   "cell_type": "code",
   "execution_count": null,
   "id": "970eefc1-592e-4d0a-b276-1463f20b0f7f",
   "metadata": {
    "execution": {
     "iopub.status.busy": "2023-10-12T21:29:45.507068Z",
     "iopub.status.idle": "2023-10-12T21:29:45.507469Z",
     "shell.execute_reply": "2023-10-12T21:29:45.507322Z",
     "shell.execute_reply.started": "2023-10-12T21:29:45.507305Z"
    },
    "tags": []
   },
   "outputs": [],
   "source": [
    "cit_sci_pipeline.send_image_data(subject_set_name, cutout_dir)"
   ]
  },
  {
   "cell_type": "code",
   "execution_count": null,
   "id": "2cfb8780-569f-489c-98ea-d750e568d325",
   "metadata": {},
   "outputs": [],
   "source": []
  }
 ],
 "metadata": {
  "kernelspec": {
   "display_name": "LSST",
   "language": "python",
   "name": "lsst"
  },
  "language_info": {
   "codemirror_mode": {
    "name": "ipython",
    "version": 3
   },
   "file_extension": ".py",
   "mimetype": "text/x-python",
   "name": "python",
   "nbconvert_exporter": "python",
   "pygments_lexer": "ipython3",
   "version": "3.11.4"
  }
 },
 "nbformat": 4,
 "nbformat_minor": 5
}
