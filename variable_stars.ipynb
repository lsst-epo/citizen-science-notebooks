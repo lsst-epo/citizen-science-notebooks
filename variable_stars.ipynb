{
 "cells": [
  {
   "cell_type": "code",
   "execution_count": null,
   "id": "70e4ca51-ba7d-4875-aa35-3ca1280a5c55",
   "metadata": {
    "tags": []
   },
   "outputs": [],
   "source": [
    "# %load_ext pycodestyle_magic\n",
    "# %flake8_on\n",
    "# import logging\n",
    "# logging.getLogger(\"flake8\").setLevel(logging.FATAL)"
   ]
  },
  {
   "cell_type": "markdown",
   "id": "8fabc5dc-c078-4087-b377-21f36c9143d9",
   "metadata": {
    "tags": []
   },
   "source": [
    "<img align=\"left\" src = https://project.lsst.org/sites/default/files/Rubin-O-Logo_0.png width=250 style=\"padding: 10px\"> \n",
    "<b>Citzen Science Notebook</b> <br>\n",
    "Contact author: Sreevani Jarugula <br>\n",
    "Last verified to run: 2023-04-20 <br>\n",
    "LSST Science Pipelines version: Weekly 2023_xx <br>\n",
    "Container size: medium <br>\n"
   ]
  },
  {
   "cell_type": "markdown",
   "id": "894cd71b-ff56-4f39-8288-5cc7ab45264c",
   "metadata": {
    "jp-MarkdownHeadingCollapsed": true,
    "tags": []
   },
   "source": [
    "**Description:**\n",
    "Query and send variable star images and light curves from RSP to Zooniverse"
   ]
  },
  {
   "cell_type": "markdown",
   "id": "e7007893-1008-4613-8e91-b2a2d265dfac",
   "metadata": {},
   "source": [
    "**Skills:** Use various TAP tables, including joining multiple tables. Get calexp images. Extract time-series photometry."
   ]
  },
  {
   "cell_type": "markdown",
   "id": "1a3a9956-ea47-4a31-934a-c8388581de54",
   "metadata": {},
   "source": [
    "**LSST Data Products:** TAP tables dp02_dc2_catalogs.MatchesTruth, TruthSummary, ForcedSource, CcdVisit<br>"
   ]
  },
  {
   "cell_type": "markdown",
   "id": "14ff42dd-a31d-43d2-93cb-7caa541993aa",
   "metadata": {},
   "source": [
    "**Packages:** astropy, lsst.rsp.get_tap_service, lsst.rsp.retrieve_query, lsst.daf.butler, lsst.afw.display, lsst.geom "
   ]
  },
  {
   "cell_type": "markdown",
   "id": "2d955084-1fa1-42da-b0b4-584321c62db4",
   "metadata": {},
   "source": [
    "**Credit:** Tutorial notebooks 03a, 04a, 04b, 07b, and 08"
   ]
  },
  {
   "cell_type": "markdown",
   "id": "4cbc905d-8e9b-4ff9-b95d-e17b9b668385",
   "metadata": {},
   "source": [
    "**Support:** Support is available and questions are welcome - (some email/link etc)\n",
    "\n",
    "DEBUG VERSION note that this version of the notebook contains additional debugging and the first cell will need to be run once"
   ]
  },
  {
   "cell_type": "markdown",
   "id": "38b0044f-d4c2-4810-a842-33f49bf5f969",
   "metadata": {},
   "source": [
    "## 1. Introduction\n",
    "\n",
    "This notebook is intended to guide a PI through the process of sending variable data from the Rubin Science Platform (RSP) to the Zooniverse. A detailed guide to Citizen Science projects, outlining the process, requirements and support available is here: (link to citscipiguide) The data sent can be currated on the RSP as a necessary and take many forms. Here, we include an example of sending png cutout images of a single variable star over different exposures. We encourage PIs new to the Rubin dataset to explore the tutorial notebooks and documentation.\n",
    "\n",
    "This notebook will restrict the number of object sent to the Zooniverse to one variable star over five exposures."
   ]
  },
  {
   "cell_type": "markdown",
   "id": "276fc1c1-8cf6-4224-b554-86eee8078c19",
   "metadata": {},
   "source": [
    "### Log in to the Zooniverse Platform & Activate Citizen Science SDK\n",
    "\n",
    "If you haven't already, create a Zooniverse account here. and create your project. Your project must be set to \"public\". To set your project to public, select the \"Visibility\" tab. Note you will need to enter your username, password, and project slug below.\n",
    "\n",
    "After creating your account and project, return to this notebook.\n",
    "\n",
    "Supply your email and project slug below.\n",
    "\n",
    "A \"slug\" is the string of your Zooniverse username and your project name without the leading forward slash, for instance: \"username/project-name\".\n",
    "\n",
    "For more details, see: https://www.zooniverse.org/talk/18/967061?comment=1898157&page=1.\n",
    "\n",
    "IMPORTANT: Your Zooniverse project must be set to \"public\", a \"private\" project will not work. Select this setting under the \"Visibility\" tab, (it does not need to be set to live). The following code will not work if you have not authenticated in the cell titled \"Log in to Zooniverse\"."
   ]
  },
  {
   "cell_type": "code",
   "execution_count": null,
   "id": "fbf75f65-c43b-416c-88ae-ada6bae363ba",
   "metadata": {
    "tags": []
   },
   "outputs": [],
   "source": [
    "!pip install citsci-notebook-core-pipeline --quiet"
   ]
  },
  {
   "cell_type": "code",
   "execution_count": null,
   "id": "72b03aec-f204-45ac-b1d0-e66abd36e90e",
   "metadata": {
    "tags": []
   },
   "outputs": [],
   "source": [
    "# %load_ext pycodestyle_magic\n",
    "# %flake8_on\n",
    "# import logging\n",
    "# logging.getLogger(\"flake8\").setLevel(logging.FATAL)\n",
    "email = \"\"  \n",
    "slug_name = \"\" \n",
    "\n",
    "from citsci_notebook_core_pipeline import rubin_citsci_core_pipeline\n",
    "cit_sci_pipeline = rubin_citsci_core_pipeline.CitSciPipeline()\n",
    "cit_sci_pipeline.login_to_zooniverse(slug_name, email)"
   ]
  },
  {
   "cell_type": "markdown",
   "id": "c2ac0fe9-0a21-48a2-a4e8-8c5d605967a9",
   "metadata": {},
   "source": [
    "## 1.1 Package imports"
   ]
  },
  {
   "cell_type": "code",
   "execution_count": null,
   "id": "843a7c50-8c33-417d-8d01-b02656361681",
   "metadata": {
    "tags": []
   },
   "outputs": [],
   "source": [
    "from utils import *"
   ]
  },
  {
   "cell_type": "markdown",
   "id": "694302cb-593a-4ed3-b640-ad2dcbc3f42e",
   "metadata": {},
   "source": [
    "### 1.1.1 Initializing TAP and Butler"
   ]
  },
  {
   "cell_type": "code",
   "execution_count": null,
   "id": "4ee439f4-2a67-48c6-b4c6-2642637b11c9",
   "metadata": {
    "tags": []
   },
   "outputs": [],
   "source": [
    "config = 'dp02'\n",
    "collection = '2.2i/runs/DP0.2'\n",
    "service, butler, skymap = setup_butler(config, collection)"
   ]
  },
  {
   "cell_type": "markdown",
   "id": "2cc06051-63d0-4537-bdf1-57d25a6e4d71",
   "metadata": {},
   "source": [
    "### 1.2 Define Functions and Parameters"
   ]
  },
  {
   "cell_type": "markdown",
   "id": "b850948a-40cd-48f4-b2d4-e689159d0d87",
   "metadata": {},
   "source": [
    "### 1.2.1 Variable star related parameters"
   ]
  },
  {
   "cell_type": "code",
   "execution_count": null,
   "id": "b0ee631c-c7e6-431e-8529-eacaceeb5491",
   "metadata": {
    "tags": []
   },
   "outputs": [],
   "source": [
    "query_num_stars = 2 # number of variable stars to query \n",
    "\n",
    "# Set any RA and DEC in degrees. This is the centre of your search radius\n",
    "# In this example notebook we are looking at one known RR-Lyrae. \n",
    "\n",
    "ra_known_rrl = 62.1479031\n",
    "dec_known_rrl = -35.799138\n",
    "\n",
    "search_radius = 0.001 # Search radius in degrees\n",
    "\n",
    "num_variable_images = 5 # For each variable stars, number of images to query to create flipbook (gif)\n",
    "\n",
    "image_size = 20 # image size for cutouts\n",
    "\n",
    "bands = ['g','r','i'] # bands to get flux for to create a lightcurve"
   ]
  },
  {
   "cell_type": "markdown",
   "id": "d4e5d710-210b-46e0-b212-4bad72d5d6dc",
   "metadata": {},
   "source": [
    "### 1.2.4 Create relevant directories"
   ]
  },
  {
   "cell_type": "code",
   "execution_count": null,
   "id": "5c69e266-8bb3-4d44-bb59-bb05e2826a6b",
   "metadata": {
    "tags": []
   },
   "outputs": [],
   "source": [
    "plots = [] # empty list for plots\n",
    "\n",
    "# main directory\n",
    "batch_dir = './variable_stars_output/' \n",
    "\n",
    "if os.path.isdir(batch_dir) == False:\n",
    "    os.mkdir(batch_dir)\n",
    "\n",
    "# cutputs directory\n",
    "if os.path.isdir(batch_dir+'images') == False:\n",
    "    os.mkdir(batch_dir+'images')\n",
    "else:\n",
    "    os.system('rm -r '+batch_dir+'images/*')\n",
    "\n",
    "# light curve directory\n",
    "if os.path.isdir(batch_dir+'lc_plots') == False:\n",
    "    os.mkdir(batch_dir+'lc_plots')\n",
    "else:\n",
    "    os.system('rm -r '+batch_dir+'lc_plots/*')\n",
    "\n",
    "# light curve text file directory\n",
    "if os.path.isdir(batch_dir+'text_files') == False:\n",
    "    os.mkdir(batch_dir+'text_files')\n",
    "else:\n",
    "    os.system('rm -r '+batch_dir+'text_files/*')"
   ]
  },
  {
   "cell_type": "markdown",
   "id": "e294a393-997b-4c5a-8d72-87ff138dc4b5",
   "metadata": {},
   "source": [
    "### 1.2.5 Query and Plotting functions"
   ]
  },
  {
   "cell_type": "code",
   "execution_count": null,
   "id": "7e79e7d5-6d45-4c79-81b5-02d3528ce7fc",
   "metadata": {
    "tags": []
   },
   "outputs": [],
   "source": [
    "def query_stars(ra_deg, dec_deg, radius_deg, limit):\n",
    "    \"\"\"\n",
    "    Query variable stars from dp02_dc2_catalogs.MatchesTruth and dc2_catalogs.TruthSummary\n",
    "    \n",
    "    To query more than one star within the circle of search, change = 1 to <= 1\n",
    "    \n",
    "    Selecting stars (truth_type=2)\n",
    "    variable (is_variable = 1)\n",
    "    is_pointsource = 1\n",
    "\n",
    "    Input Parameters\n",
    "    ----------\n",
    "    ra_deg : ra of the centre of search in degrees\n",
    "    dec_deg : dec of the centre of search in degrees\n",
    "    radius_deg : radius within which to search for\n",
    "    limit : number of variable stars to retireve\n",
    "    \n",
    "    Returns\n",
    "    ----------\n",
    "    Table of variable stars as pandas dataframe\n",
    "    \"\"\"\n",
    "    query = \"SELECT mt.id_truth_type, mt.match_objectId, ts.ra, ts.dec \"\\\n",
    "            \"FROM dp02_dc2_catalogs.MatchesTruth AS mt \"\\\n",
    "            \"JOIN dp02_dc2_catalogs.TruthSummary AS ts ON mt.id_truth_type = ts.id_truth_type \"\\\n",
    "            \"WHERE ts.truth_type=2 \"\\\n",
    "            \"AND ts.is_variable = 1 \"\\\n",
    "            \"AND ts.is_pointsource = 1 \"\\\n",
    "            \"AND mt.match_objectId > 1 \"\\\n",
    "            \"AND CONTAINS(POINT('ICRS', ts.ra, ts.dec), CIRCLE('ICRS', \"+ str(ra_deg)+\", \"+str(dec_deg)+\", \"+str(radius_deg)+\")) <= 1 \"\\\n",
    "            \"LIMIT \"+str(limit)+\" \"\n",
    "    results = service.search(query)\n",
    "    variable_stars = results.to_table().to_pandas()\n",
    "    return variable_stars\n",
    "\n",
    "def query_flux(objid):\n",
    "    \"\"\"\n",
    "    Query to get the flux for each variable star at all bands\n",
    "\n",
    "    Input Parameters\n",
    "    ----------\n",
    "    objid : Object ID of the variable star obtained from query_stars\n",
    "    \n",
    "    Returns\n",
    "    ----------\n",
    "    Table of flux of variable star \n",
    "    \"\"\"\n",
    "    query = \"SELECT src.band, src.ccdVisitId, src.coord_ra, src.coord_dec, \"\\\n",
    "            \"src.objectId, src.psfFlux, src.psfFluxErr, \"\\\n",
    "            \"visinfo.detector, visinfo.visitId, \"\\\n",
    "            \"scisql_nanojanskyToAbMag(psfFlux) as psfMag, \"\\\n",
    "            \"visinfo.band, \"\\\n",
    "            \"visinfo.expMidptMJD \"\\\n",
    "            \"FROM dp02_dc2_catalogs.ForcedSource as src \"\\\n",
    "            \"JOIN dp02_dc2_catalogs.CcdVisit as visinfo \"\\\n",
    "            \"ON visinfo.ccdVisitId = src.ccdVisitId \"\\\n",
    "            \"WHERE src.objectId = \"+str(objid)+\" \"\n",
    "    table = service.search(query)\n",
    "    flux_table = table.to_table()\n",
    "    return flux_table"
   ]
  },
  {
   "cell_type": "markdown",
   "id": "efac2893-43c4-4aff-9434-fdfec3f67914",
   "metadata": {},
   "source": [
    "## 2. Query and plot the variable stars"
   ]
  },
  {
   "cell_type": "code",
   "execution_count": null,
   "id": "fb35503f-955f-490b-9100-d8bec98bbb1f",
   "metadata": {
    "tags": []
   },
   "outputs": [],
   "source": [
    "%%time\n",
    "variable_stars = query_stars(ra_known_rrl, dec_known_rrl, search_radius, query_num_stars)"
   ]
  },
  {
   "cell_type": "code",
   "execution_count": null,
   "id": "95edb413-f9bd-4911-b1fd-c970c12ad4f2",
   "metadata": {
    "tags": []
   },
   "outputs": [],
   "source": [
    "variable_stars"
   ]
  },
  {
   "cell_type": "markdown",
   "id": "7efd312e-86a3-49e1-b1ea-e1714b32755a",
   "metadata": {},
   "source": [
    "### 2.1 Get Calexp images and Lightcurves\n",
    "\n",
    "How to create csv for Zooniverse flipbook\n",
    "\n",
    "https://help.zooniverse.org/getting-started/example/#details-subject-sets-and-manifest-details-aka-what-is-a-manifesthttps://help.zooniverse.org/getting-started/example/#details-subject-sets-and-manifest-details-aka-what-is-a-manifestCreate \n"
   ]
  },
  {
   "cell_type": "code",
   "execution_count": null,
   "id": "6e10e00b-227a-4a1a-9b3e-5b968ec0904d",
   "metadata": {
    "tags": []
   },
   "outputs": [],
   "source": [
    "def get_cutout_image(butler, ra_deg, dec_deg, visit, detector, band, cutoutSideLength, datasetType='calexp'):\n",
    "    \"\"\"\n",
    "    Get the cutout image information from butler. \n",
    "    This shoudl be followed by make_fig\n",
    "\n",
    "    Input Parameters\n",
    "    ----------\n",
    "    ra : ra of source in degrees\n",
    "    dec : dec of source in degrees\n",
    "    visit : visit id\n",
    "    detector : detector number\n",
    "    band : band to get cutput for\n",
    "    cutoutSideLength : size of the cutout\n",
    "    \n",
    "    Returns\n",
    "    ----------\n",
    "    Cutout image information\n",
    "    \"\"\"\n",
    "    cutoutSize = geom.ExtentI(cutoutSideLength, cutoutSideLength)\n",
    "    \n",
    "    radec = geom.SpherePoint(ra_deg,dec_deg, geom.degrees)\n",
    "    \n",
    "    dataId = {'visit': visit, 'detector': detector}  \n",
    "    calexp_wcs = butler.get('calexp.wcs', **dataId)\n",
    "    \n",
    "    print('calexp wcs: ', calexp_wcs)\n",
    "    \n",
    "    xy = geom.PointI(calexp_wcs.skyToPixel(radec))\n",
    "    bbox = geom.BoxI(xy - cutoutSize // 2, cutoutSize)\n",
    "    parameters = {'bbox': bbox}\n",
    "    print('xy: ',xy)\n",
    "    print('bbox: ',bbox)\n",
    "    \n",
    "    cutout_image = butler.get('calexp', parameters=parameters, **dataId)\n",
    "    \n",
    "    return cutout_image\n",
    "    \n",
    "    \n",
    "def make_calexp_fig(cutout_image, ra, dec, out_name):\n",
    "    \"\"\"\n",
    "    Create an image.\n",
    "    should be followed with remove_figure\n",
    "    \n",
    "    Parameters\n",
    "    ----------\n",
    "    cutout_image : cutout_image from butler.get\n",
    "    ra : ra of source in degrees\n",
    "    dec : dec of source in degrees\n",
    "    out_name : file name where you'd like to save it\n",
    "    \n",
    "    Returns\n",
    "    ----------\n",
    "    cutout image\n",
    "    \"\"\"\n",
    "    # fig = plt.figure(figsize=(4, 4))\n",
    "    # afw_display = afwDisplay.Display(frame=fig)\n",
    "    # afw_display.scale('asinh', 'zscale')\n",
    "    # afw_display.mtv(cutout_image.image)\n",
    "    \n",
    "#     cutout_wcs = cutout_image.getWcs()\n",
    "#     radec = geom.SpherePoint(ra, dec, geom.degrees)\n",
    "#     xy = geom.PointI(cutout_wcs.skyToPixel(radec))\n",
    "    \n",
    "#     afw_display.dot('x', xy.getX(), xy.getY(), size=1, ctype='orange')\n",
    "#     plt.gca().axis('off')\n",
    "#     plt.savefig(out_name)\n",
    "    \n",
    "    fig = plt.figure()\n",
    "    plt.subplot(projection=WCS(cutout_image.getWcs().getFitsMetadata()))\n",
    "    \n",
    "    #print('wcs ra: ', cutout_image.getWcs().getFitsMetadata()['CRVAL1'])\n",
    "    #print('wcs dec: ', cutout_image.getWcs().getFitsMetadata()['CRVAL2'])\n",
    "    \n",
    "    calexp_extent = (cutout_image.getBBox().beginX, cutout_image.getBBox().endX,\n",
    "                 cutout_image.getBBox().beginY, cutout_image.getBBox().endY)\n",
    "    im = plt.imshow(cutout_image.image.array, cmap='gray', vmin=-200.0, vmax=1000,\n",
    "                extent=calexp_extent, origin='lower')\n",
    "    plt.colorbar(location='right', anchor=(0, 0.1))\n",
    "    # plt.gca().axis('off')\n",
    "    plt.xlabel('Right Ascension')\n",
    "    plt.ylabel('Declination')\n",
    "    plt.savefig(out_name)\n",
    "    \n",
    "    return fig\n"
   ]
  },
  {
   "cell_type": "code",
   "execution_count": null,
   "id": "4017ff1d-99de-4bad-b8e8-095d13482d63",
   "metadata": {
    "tags": []
   },
   "outputs": [],
   "source": [
    "stars_matchid = variable_stars['match_objectId'].to_numpy()\n",
    "stars_ra = variable_stars['ra'].to_numpy()\n",
    "stars_dec = variable_stars['dec'].to_numpy()\n",
    "df_row = []\n",
    "df_final = []\n",
    "\n",
    "fields_to_add = [\"sourceId\", \"coord_ra\", \"coord_dec\"] # fields to add to the maifest file\n",
    "\n",
    "#for j, objid in enumerate(stars_matchid):\n",
    "for j, objid in enumerate([\"1251270620688185329\"]):\n",
    "    cutouts = []\n",
    "    \n",
    "    figout_data = {\"sourceId\": stars_matchid[j]}\n",
    "    if \"coord_ra\" in fields_to_add:\n",
    "        figout_data[\"coord_ra\"] = stars_ra[j]\n",
    "    if \"coord_dec\" in fields_to_add:\n",
    "        figout_data[\"coord_dec\"] = stars_dec[j]\n",
    "    \n",
    "    # Query the variable star flux, detector and visit information\n",
    "    ccd_flux_table = query_flux(objid)\n",
    "    \n",
    "    # Get calexp images from Butler and plot them\n",
    "    idx_images = np.round(np.linspace(0, len(ccd_flux_table) - 1, num_variable_images)).astype(int)  #randomly select 5 images for each variable star\n",
    "    image_dict = {} \n",
    "    \n",
    "    for i,idx in enumerate(idx_images):\n",
    "        star_ra = ccd_flux_table['coord_ra'][idx]\n",
    "        star_dec = ccd_flux_table['coord_dec'][idx]\n",
    "        star_detector = ccd_flux_table['detector'][idx]\n",
    "        star_visitid = ccd_flux_table['visitId'][idx]\n",
    "        star_id = ccd_flux_table['objectId'][idx]\n",
    "        star_ccdid = ccd_flux_table['ccdVisitId'][idx]\n",
    "        \n",
    "        calexp_image = get_cutout_image(butler, star_ra, star_dec, star_visitid, star_detector, 'r', image_size, datasetType='calexp') # only r-band images \n",
    "        figout = make_calexp_fig(calexp_image, star_ra,star_dec,batch_dir+\"/images/\"+str(star_id)+\"_\"+str(star_ccdid)+\".png\")\n",
    "        remove_figure(figout)\n",
    "        \n",
    "        figout_data['location:image_'+str(i)] = str(star_id)+\"_\"+str(star_ccdid)+\".png\"\n",
    "        figout_data['filename'] = str(star_id)+\"_\"+str(star_ccdid)+\".png\"\n",
    "        \n",
    "    cutouts.append(figout_data)\n",
    "    \n",
    "    # manifest file\n",
    "    df_star = pd.DataFrame(data = cutouts, index=[0])\n",
    "    df_final.append(df_star)\n",
    "    \n",
    "    # flipbook data for each variable star\n",
    "    df = pd.DataFrame(data = image_dict, index=[0])\n",
    "    df_row.append(df)\n",
    "        \n",
    "    # Light curve for each variable star    \n",
    "    mjd_days, mags = get_flux(ccd_flux_table)\n",
    "    figout = plotlc(bands, mjd_days, mags, batch_dir+\"/lc_plots/\"+\"lc_\"+str(objid)+\".png\")\n",
    "    remove_figure(figout) \n",
    "    df_all_bands = []\n",
    "    for band in bands:\n",
    "        df = pd.DataFrame(data = {'band': [band]*len(mjd_days[band]), 'mjd_days': mjd_days[band], \\\n",
    "                          'mags': mags[band]}, index=None)\n",
    "        df_all_bands.append(df)\n",
    "    \n",
    "    df_final_lc = pd.concat(df_all_bands)\n",
    "    outfile = batch_dir+\"/text_files/\"+\"lc_\"+str(objid)+\".csv\"\n",
    "    df_final_lc.to_csv(outfile, index=False, sep=',')\n",
    "    \n",
    "df_manifest = pd.concat(df_final) # final manifest file with all variable stars\n",
    "outfile = batch_dir+\"images/manifest.csv\"\n",
    "df_manifest.to_csv(outfile, index=False, sep=',')\n"
   ]
  },
  {
   "cell_type": "code",
   "execution_count": null,
   "id": "d600c67b-2632-4873-a66b-bf1a09132438",
   "metadata": {
    "tags": []
   },
   "outputs": [],
   "source": [
    "# cutout_dir = batch_dir+\"images/\""
   ]
  },
  {
   "cell_type": "code",
   "execution_count": null,
   "id": "e6257c57-ac5d-40d9-86d7-014c95b0b930",
   "metadata": {
    "tags": []
   },
   "outputs": [],
   "source": [
    "# manifest_path = write_metadata_file(cutouts, cutout_dir)\n",
    "\n",
    "# print(\"The manifest CSV file can be found at the following relative path:\")\n",
    "# print(manifest_path)"
   ]
  },
  {
   "cell_type": "markdown",
   "id": "83fcc033-0d3b-49bc-a99d-5d1fa70102b0",
   "metadata": {},
   "source": [
    "## 3. Send data to Zooniverse"
   ]
  },
  {
   "cell_type": "code",
   "execution_count": null,
   "id": "7468587f-fa51-4266-96b2-364c7ff1eec4",
   "metadata": {
    "tags": []
   },
   "outputs": [],
   "source": [
    "cutout_dir = batch_dir+\"images/\""
   ]
  },
  {
   "cell_type": "code",
   "execution_count": null,
   "id": "c08f519a-0ff4-4c2b-9d73-1bf632c20db9",
   "metadata": {
    "tags": []
   },
   "outputs": [],
   "source": [
    "subject_set_name = \"\" "
   ]
  },
  {
   "cell_type": "code",
   "execution_count": null,
   "id": "35016218-8203-4752-8f6f-9a302b140503",
   "metadata": {
    "tags": []
   },
   "outputs": [],
   "source": [
    "cit_sci_pipeline.send_image_data(subject_set_name, cutout_dir, cutouts)"
   ]
  },
  {
   "cell_type": "code",
   "execution_count": null,
   "id": "2cfb8780-569f-489c-98ea-d750e568d325",
   "metadata": {},
   "outputs": [],
   "source": []
  }
 ],
 "metadata": {
  "kernelspec": {
   "display_name": "LSST",
   "language": "python",
   "name": "lsst"
  },
  "language_info": {
   "codemirror_mode": {
    "name": "ipython",
    "version": 3
   },
   "file_extension": ".py",
   "mimetype": "text/x-python",
   "name": "python",
   "nbconvert_exporter": "python",
   "pygments_lexer": "ipython3",
   "version": "3.10.10"
  }
 },
 "nbformat": 4,
 "nbformat_minor": 5
}
