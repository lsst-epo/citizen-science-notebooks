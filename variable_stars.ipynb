{
 "cells": [
  {
   "cell_type": "code",
   "execution_count": 3,
   "id": "70e4ca51-ba7d-4875-aa35-3ca1280a5c55",
   "metadata": {
    "execution": {
     "iopub.execute_input": "2023-04-27T18:56:32.012531Z",
     "iopub.status.busy": "2023-04-27T18:56:32.011097Z",
     "iopub.status.idle": "2023-04-27T18:56:32.073391Z",
     "shell.execute_reply": "2023-04-27T18:56:32.072492Z",
     "shell.execute_reply.started": "2023-04-27T18:56:32.012487Z"
    },
    "tags": []
   },
   "outputs": [],
   "source": [
    "%load_ext pycodestyle_magic\n",
    "%flake8_on\n",
    "import logging\n",
    "logging.getLogger(\"flake8\").setLevel(logging.FATAL)"
   ]
  },
  {
   "cell_type": "markdown",
   "id": "8fabc5dc-c078-4087-b377-21f36c9143d9",
   "metadata": {
    "tags": []
   },
   "source": [
    "<img align=\"left\" src = https://project.lsst.org/sites/default/files/Rubin-O-Logo_0.png width=250 style=\"padding: 10px\"> \n",
    "<b>Citzen Science Notebook</b> <br>\n",
    "Contact author: Sreevani Jarugula <br>\n",
    "Last verified to run: 2023-04-20 <br>\n",
    "LSST Science Pipelines version: Weekly 2023_xx <br>\n",
    "Container size: medium <br>\n"
   ]
  },
  {
   "cell_type": "markdown",
   "id": "894cd71b-ff56-4f39-8288-5cc7ab45264c",
   "metadata": {
    "jp-MarkdownHeadingCollapsed": true,
    "tags": []
   },
   "source": [
    "**Description:**\n",
    "Query and send variable star images and light curves from RSP to Zooniverse"
   ]
  },
  {
   "cell_type": "markdown",
   "id": "e7007893-1008-4613-8e91-b2a2d265dfac",
   "metadata": {},
   "source": [
    "**Skills:** Use various TAP tables, including joining multiple tables. Get calexp images. Extract time-series photometry."
   ]
  },
  {
   "cell_type": "markdown",
   "id": "1a3a9956-ea47-4a31-934a-c8388581de54",
   "metadata": {},
   "source": [
    "**LSST Data Products:** TAP tables dp02_dc2_catalogs.MatchesTruth, TruthSummary, ForcedSource, CcdVisit<br>"
   ]
  },
  {
   "cell_type": "markdown",
   "id": "14ff42dd-a31d-43d2-93cb-7caa541993aa",
   "metadata": {},
   "source": [
    "**Packages:** astropy, lsst.rsp.get_tap_service, lsst.rsp.retrieve_query, lsst.daf.butler, lsst.afw.display, lsst.geom "
   ]
  },
  {
   "cell_type": "markdown",
   "id": "2d955084-1fa1-42da-b0b4-584321c62db4",
   "metadata": {},
   "source": [
    "**Credit:** Tutorial notebooks 03a, 04a, 04b, 07b, and 08"
   ]
  },
  {
   "cell_type": "markdown",
   "id": "4cbc905d-8e9b-4ff9-b95d-e17b9b668385",
   "metadata": {},
   "source": [
    "**Support:** Support is available and questions are welcome - (some email/link etc)\n",
    "\n",
    "DEBUG VERSION note that this version of the notebook contains additional debugging and the first cell will need to be run once"
   ]
  },
  {
   "cell_type": "markdown",
   "id": "38b0044f-d4c2-4810-a842-33f49bf5f969",
   "metadata": {},
   "source": [
    "## 1. Introduction\n",
    "\n",
    "This notebook is intended to guide a PI through the process of sending variable data from the Rubin Science Platform (RSP) to the Zooniverse. A detailed guide to Citizen Science projects, outlining the process, requirements and support available is here: (link to citscipiguide) The data sent can be currated on the RSP as a necessary and take many forms. Here, we include an example of sending png cutout images of a single variable star over different exposures. We encourage PIs new to the Rubin dataset to explore the tutorial notebooks and documentation.\n",
    "\n",
    "This notebook will restrict the number of object sent to the Zooniverse to one variable star over five exposures."
   ]
  },
  {
   "cell_type": "markdown",
   "id": "276fc1c1-8cf6-4224-b554-86eee8078c19",
   "metadata": {},
   "source": [
    "### Log in to the Zooniverse Platform & Activate Citizen Science SDK\n",
    "\n",
    "If you haven't already, create a Zooniverse account here. and create your project. Your project must be set to \"public\". To set your project to public, select the \"Visibility\" tab. Note you will need to enter your username, password, and project slug below.\n",
    "\n",
    "After creating your account and project, return to this notebook.\n",
    "\n",
    "Supply your email and project slug below.\n",
    "\n",
    "A \"slug\" is the string of your Zooniverse username and your project name without the leading forward slash, for instance: \"username/project-name\".\n",
    "\n",
    "For more details, see: https://www.zooniverse.org/talk/18/967061?comment=1898157&page=1.\n",
    "\n",
    "IMPORTANT: Your Zooniverse project must be set to \"public\", a \"private\" project will not work. Select this setting under the \"Visibility\" tab, (it does not need to be set to live). The following code will not work if you have not authenticated in the cell titled \"Log in to Zooniverse\"."
   ]
  },
  {
   "cell_type": "code",
   "execution_count": 4,
   "id": "befe41f1-f04e-4807-9ee8-3b5654202e2e",
   "metadata": {
    "execution": {
     "iopub.execute_input": "2023-04-27T18:56:35.103695Z",
     "iopub.status.busy": "2023-04-27T18:56:35.102326Z",
     "iopub.status.idle": "2023-04-27T18:59:18.382194Z",
     "shell.execute_reply": "2023-04-27T18:59:18.381515Z",
     "shell.execute_reply.started": "2023-04-27T18:56:35.103659Z"
    },
    "tags": []
   },
   "outputs": [
    {
     "name": "stdout",
     "output_type": "stream",
     "text": [
      "Installing external dependencies...\n",
      "Done installing external dependencies!\n",
      "Enter your Zooniverse credentials...\n"
     ]
    },
    {
     "name": "stdin",
     "output_type": "stream",
     "text": [
      "Username:  sreevani\n",
      " ········\n"
     ]
    },
    {
     "name": "stdout",
     "output_type": "stream",
     "text": [
      "You now are logged in to the Zooniverse platform.\n",
      "Loaded Citizen Science SDK\n",
      "Error in callback <bound method VarWatcher.auto_run_flake8 of <pycodestyle_magic.VarWatcher object at 0x7f8552459ed0>> (for post_run_cell):\n"
     ]
    },
    {
     "ename": "AttributeError",
     "evalue": "'int' object has no attribute 'rstrip'",
     "output_type": "error",
     "traceback": [
      "\u001b[0;31m---------------------------------------------------------------------------\u001b[0m",
      "\u001b[0;31mSyntaxError\u001b[0m                               Traceback (most recent call last)",
      "File \u001b[0;32m~/.local/lib/python3.10/site-packages/flake8/checker.py:478\u001b[0m, in \u001b[0;36mFileChecker.run_ast_checks\u001b[0;34m(self)\u001b[0m\n\u001b[1;32m    477\u001b[0m \u001b[38;5;28;01mtry\u001b[39;00m:\n\u001b[0;32m--> 478\u001b[0m     ast \u001b[38;5;241m=\u001b[39m \u001b[38;5;28;43mself\u001b[39;49m\u001b[38;5;241;43m.\u001b[39;49m\u001b[43mprocessor\u001b[49m\u001b[38;5;241;43m.\u001b[39;49m\u001b[43mbuild_ast\u001b[49m\u001b[43m(\u001b[49m\u001b[43m)\u001b[49m\n\u001b[1;32m    479\u001b[0m \u001b[38;5;28;01mexcept\u001b[39;00m (\u001b[38;5;167;01mValueError\u001b[39;00m, \u001b[38;5;167;01mSyntaxError\u001b[39;00m, \u001b[38;5;167;01mTypeError\u001b[39;00m) \u001b[38;5;28;01mas\u001b[39;00m e:\n",
      "File \u001b[0;32m~/.local/lib/python3.10/site-packages/flake8/processor.py:225\u001b[0m, in \u001b[0;36mFileProcessor.build_ast\u001b[0;34m(self)\u001b[0m\n\u001b[1;32m    224\u001b[0m \u001b[38;5;124;03m\"\"\"Build an abstract syntax tree from the list of lines.\"\"\"\u001b[39;00m\n\u001b[0;32m--> 225\u001b[0m \u001b[38;5;28;01mreturn\u001b[39;00m \u001b[43mast\u001b[49m\u001b[38;5;241;43m.\u001b[39;49m\u001b[43mparse\u001b[49m\u001b[43m(\u001b[49m\u001b[38;5;124;43m\"\u001b[39;49m\u001b[38;5;124;43m\"\u001b[39;49m\u001b[38;5;241;43m.\u001b[39;49m\u001b[43mjoin\u001b[49m\u001b[43m(\u001b[49m\u001b[38;5;28;43mself\u001b[39;49m\u001b[38;5;241;43m.\u001b[39;49m\u001b[43mlines\u001b[49m\u001b[43m)\u001b[49m\u001b[43m)\u001b[49m\n",
      "File \u001b[0;32m/opt/lsst/software/stack/conda/miniconda3-py38_4.9.2/envs/lsst-scipipe-5.1.0/lib/python3.10/ast.py:50\u001b[0m, in \u001b[0;36mparse\u001b[0;34m(source, filename, mode, type_comments, feature_version)\u001b[0m\n\u001b[1;32m     49\u001b[0m \u001b[38;5;66;03m# Else it should be an int giving the minor version for 3.x.\u001b[39;00m\n\u001b[0;32m---> 50\u001b[0m \u001b[38;5;28;01mreturn\u001b[39;00m \u001b[38;5;28;43mcompile\u001b[39;49m\u001b[43m(\u001b[49m\u001b[43msource\u001b[49m\u001b[43m,\u001b[49m\u001b[43m \u001b[49m\u001b[43mfilename\u001b[49m\u001b[43m,\u001b[49m\u001b[43m \u001b[49m\u001b[43mmode\u001b[49m\u001b[43m,\u001b[49m\u001b[43m \u001b[49m\u001b[43mflags\u001b[49m\u001b[43m,\u001b[49m\n\u001b[1;32m     51\u001b[0m \u001b[43m               \u001b[49m\u001b[43m_feature_version\u001b[49m\u001b[38;5;241;43m=\u001b[39;49m\u001b[43mfeature_version\u001b[49m\u001b[43m)\u001b[49m\n",
      "\u001b[0;31mSyntaxError\u001b[0m: invalid syntax (<unknown>, line 3)",
      "\nDuring handling of the above exception, another exception occurred:\n",
      "\u001b[0;31mAttributeError\u001b[0m                            Traceback (most recent call last)",
      "File \u001b[0;32m~/.local/lib/python3.10/site-packages/pycodestyle_magic.py:41\u001b[0m, in \u001b[0;36mVarWatcher.auto_run_flake8\u001b[0;34m(self, result)\u001b[0m\n\u001b[1;32m     40\u001b[0m \u001b[38;5;28;01mdef\u001b[39;00m \u001b[38;5;21mauto_run_flake8\u001b[39m(\u001b[38;5;28mself\u001b[39m, result):\n\u001b[0;32m---> 41\u001b[0m     \u001b[43mflake8\u001b[49m\u001b[43m(\u001b[49m\u001b[38;5;241;43m1\u001b[39;49m\u001b[43m,\u001b[49m\u001b[43m \u001b[49m\u001b[43mresult\u001b[49m\u001b[38;5;241;43m.\u001b[39;49m\u001b[43minfo\u001b[49m\u001b[38;5;241;43m.\u001b[39;49m\u001b[43mraw_cell\u001b[49m\u001b[43m,\u001b[49m\u001b[43m \u001b[49m\u001b[43mauto\u001b[49m\u001b[38;5;241;43m=\u001b[39;49m\u001b[38;5;28;43;01mTrue\u001b[39;49;00m\u001b[43m)\u001b[49m\n\u001b[1;32m     42\u001b[0m     \u001b[38;5;28;01mif\u001b[39;00m result\u001b[38;5;241m.\u001b[39merror_before_exec:\n\u001b[1;32m     43\u001b[0m         \u001b[38;5;28mprint\u001b[39m(\u001b[38;5;124m'\u001b[39m\u001b[38;5;124mError before execution: \u001b[39m\u001b[38;5;132;01m%s\u001b[39;00m\u001b[38;5;124m'\u001b[39m \u001b[38;5;241m%\u001b[39m result\u001b[38;5;241m.\u001b[39merror_before_exec)\n",
      "File \u001b[0;32m~/.local/lib/python3.10/site-packages/pycodestyle_magic.py:218\u001b[0m, in \u001b[0;36mflake8\u001b[0;34m(line, cell, auto)\u001b[0m\n\u001b[1;32m    211\u001b[0m flake \u001b[38;5;241m=\u001b[39m flake8_module\u001b[38;5;241m.\u001b[39mget_style_guide(\n\u001b[1;32m    212\u001b[0m     extend_ignore\u001b[38;5;241m=\u001b[39mignore_codes, \n\u001b[1;32m    213\u001b[0m     max_line_length\u001b[38;5;241m=\u001b[39mmax_line_length\n\u001b[1;32m    214\u001b[0m )\n\u001b[1;32m    217\u001b[0m \u001b[38;5;28;01mwith\u001b[39;00m io\u001b[38;5;241m.\u001b[39mStringIO() \u001b[38;5;28;01mas\u001b[39;00m buf, redirect_stdout(buf):\n\u001b[0;32m--> 218\u001b[0m     _ \u001b[38;5;241m=\u001b[39m \u001b[43mflake\u001b[49m\u001b[38;5;241;43m.\u001b[39;49m\u001b[43mcheck_files\u001b[49m\u001b[43m(\u001b[49m\u001b[43m[\u001b[49m\u001b[43mf\u001b[49m\u001b[38;5;241;43m.\u001b[39;49m\u001b[43mname\u001b[49m\u001b[43m]\u001b[49m\u001b[43m)\u001b[49m\n\u001b[1;32m    219\u001b[0m     \u001b[38;5;28;01mfor\u001b[39;00m line \u001b[38;5;129;01min\u001b[39;00m buf\u001b[38;5;241m.\u001b[39mgetvalue()\u001b[38;5;241m.\u001b[39msplitlines():\n\u001b[1;32m    220\u001b[0m         \u001b[38;5;66;03m# on windows drive path also contains :\u001b[39;00m\n\u001b[1;32m    221\u001b[0m         temp_file, line, col, error \u001b[38;5;241m=\u001b[39m line\u001b[38;5;241m.\u001b[39msplit(\u001b[38;5;124m'\u001b[39m\u001b[38;5;124m:\u001b[39m\u001b[38;5;124m'\u001b[39m)[\u001b[38;5;241m-\u001b[39m\u001b[38;5;241m4\u001b[39m:] \n",
      "File \u001b[0;32m~/.local/lib/python3.10/site-packages/flake8/api/legacy.py:109\u001b[0m, in \u001b[0;36mStyleGuide.check_files\u001b[0;34m(self, paths)\u001b[0m\n\u001b[1;32m     96\u001b[0m \u001b[38;5;28;01mdef\u001b[39;00m \u001b[38;5;21mcheck_files\u001b[39m(\u001b[38;5;28mself\u001b[39m, paths\u001b[38;5;241m=\u001b[39m\u001b[38;5;28;01mNone\u001b[39;00m):\n\u001b[1;32m     97\u001b[0m     \u001b[38;5;124;03m\"\"\"Run collected checks on the files provided.\u001b[39;00m\n\u001b[1;32m     98\u001b[0m \n\u001b[1;32m     99\u001b[0m \u001b[38;5;124;03m    This will check the files passed in and return a :class:`Report`\u001b[39;00m\n\u001b[0;32m   (...)\u001b[0m\n\u001b[1;32m    107\u001b[0m \u001b[38;5;124;03m        flake8.api.legacy.Report\u001b[39;00m\n\u001b[1;32m    108\u001b[0m \u001b[38;5;124;03m    \"\"\"\u001b[39;00m\n\u001b[0;32m--> 109\u001b[0m     \u001b[38;5;28;43mself\u001b[39;49m\u001b[38;5;241;43m.\u001b[39;49m\u001b[43m_application\u001b[49m\u001b[38;5;241;43m.\u001b[39;49m\u001b[43mrun_checks\u001b[49m\u001b[43m(\u001b[49m\u001b[43mpaths\u001b[49m\u001b[43m)\u001b[49m\n\u001b[1;32m    110\u001b[0m     \u001b[38;5;28mself\u001b[39m\u001b[38;5;241m.\u001b[39m_application\u001b[38;5;241m.\u001b[39mreport_errors()\n\u001b[1;32m    111\u001b[0m     \u001b[38;5;28;01mreturn\u001b[39;00m Report(\u001b[38;5;28mself\u001b[39m\u001b[38;5;241m.\u001b[39m_application)\n",
      "File \u001b[0;32m~/.local/lib/python3.10/site-packages/flake8/main/application.py:264\u001b[0m, in \u001b[0;36mApplication.run_checks\u001b[0;34m(self, files)\u001b[0m\n\u001b[1;32m    262\u001b[0m \u001b[38;5;28mself\u001b[39m\u001b[38;5;241m.\u001b[39mfile_checker_manager\u001b[38;5;241m.\u001b[39mstart(files)\n\u001b[1;32m    263\u001b[0m \u001b[38;5;28;01mtry\u001b[39;00m:\n\u001b[0;32m--> 264\u001b[0m     \u001b[38;5;28;43mself\u001b[39;49m\u001b[38;5;241;43m.\u001b[39;49m\u001b[43mfile_checker_manager\u001b[49m\u001b[38;5;241;43m.\u001b[39;49m\u001b[43mrun\u001b[49m\u001b[43m(\u001b[49m\u001b[43m)\u001b[49m\n\u001b[1;32m    265\u001b[0m \u001b[38;5;28;01mexcept\u001b[39;00m exceptions\u001b[38;5;241m.\u001b[39mPluginExecutionFailed \u001b[38;5;28;01mas\u001b[39;00m plugin_failed:\n\u001b[1;32m    266\u001b[0m     \u001b[38;5;28mprint\u001b[39m(\u001b[38;5;28mstr\u001b[39m(plugin_failed))\n",
      "File \u001b[0;32m~/.local/lib/python3.10/site-packages/flake8/checker.py:323\u001b[0m, in \u001b[0;36mManager.run\u001b[0;34m(self)\u001b[0m\n\u001b[1;32m    321\u001b[0m         \u001b[38;5;28mself\u001b[39m\u001b[38;5;241m.\u001b[39mrun_parallel()\n\u001b[1;32m    322\u001b[0m     \u001b[38;5;28;01melse\u001b[39;00m:\n\u001b[0;32m--> 323\u001b[0m         \u001b[38;5;28;43mself\u001b[39;49m\u001b[38;5;241;43m.\u001b[39;49m\u001b[43mrun_serial\u001b[49m\u001b[43m(\u001b[49m\u001b[43m)\u001b[49m\n\u001b[1;32m    324\u001b[0m \u001b[38;5;28;01mexcept\u001b[39;00m \u001b[38;5;167;01mKeyboardInterrupt\u001b[39;00m:\n\u001b[1;32m    325\u001b[0m     LOG\u001b[38;5;241m.\u001b[39mwarning(\u001b[38;5;124m\"\u001b[39m\u001b[38;5;124mFlake8 was interrupted by the user\u001b[39m\u001b[38;5;124m\"\u001b[39m)\n",
      "File \u001b[0;32m~/.local/lib/python3.10/site-packages/flake8/checker.py:307\u001b[0m, in \u001b[0;36mManager.run_serial\u001b[0;34m(self)\u001b[0m\n\u001b[1;32m    305\u001b[0m \u001b[38;5;124;03m\"\"\"Run the checkers in serial.\"\"\"\u001b[39;00m\n\u001b[1;32m    306\u001b[0m \u001b[38;5;28;01mfor\u001b[39;00m checker \u001b[38;5;129;01min\u001b[39;00m \u001b[38;5;28mself\u001b[39m\u001b[38;5;241m.\u001b[39mcheckers:\n\u001b[0;32m--> 307\u001b[0m     \u001b[43mchecker\u001b[49m\u001b[38;5;241;43m.\u001b[39;49m\u001b[43mrun_checks\u001b[49m\u001b[43m(\u001b[49m\u001b[43m)\u001b[49m\n",
      "File \u001b[0;32m~/.local/lib/python3.10/site-packages/flake8/checker.py:589\u001b[0m, in \u001b[0;36mFileChecker.run_checks\u001b[0;34m(self)\u001b[0m\n\u001b[1;32m    587\u001b[0m \u001b[38;5;28;01mtry\u001b[39;00m:\n\u001b[1;32m    588\u001b[0m     \u001b[38;5;28mself\u001b[39m\u001b[38;5;241m.\u001b[39mprocess_tokens()\n\u001b[0;32m--> 589\u001b[0m     \u001b[38;5;28;43mself\u001b[39;49m\u001b[38;5;241;43m.\u001b[39;49m\u001b[43mrun_ast_checks\u001b[49m\u001b[43m(\u001b[49m\u001b[43m)\u001b[49m\n\u001b[1;32m    590\u001b[0m \u001b[38;5;28;01mexcept\u001b[39;00m exceptions\u001b[38;5;241m.\u001b[39mInvalidSyntax \u001b[38;5;28;01mas\u001b[39;00m exc:\n\u001b[1;32m    591\u001b[0m     \u001b[38;5;28mself\u001b[39m\u001b[38;5;241m.\u001b[39mreport(\n\u001b[1;32m    592\u001b[0m         exc\u001b[38;5;241m.\u001b[39merror_code,\n\u001b[1;32m    593\u001b[0m         exc\u001b[38;5;241m.\u001b[39mline_number,\n\u001b[1;32m    594\u001b[0m         exc\u001b[38;5;241m.\u001b[39mcolumn_number,\n\u001b[1;32m    595\u001b[0m         exc\u001b[38;5;241m.\u001b[39merror_message,\n\u001b[1;32m    596\u001b[0m     )\n",
      "File \u001b[0;32m~/.local/lib/python3.10/site-packages/flake8/checker.py:480\u001b[0m, in \u001b[0;36mFileChecker.run_ast_checks\u001b[0;34m(self)\u001b[0m\n\u001b[1;32m    478\u001b[0m     ast \u001b[38;5;241m=\u001b[39m \u001b[38;5;28mself\u001b[39m\u001b[38;5;241m.\u001b[39mprocessor\u001b[38;5;241m.\u001b[39mbuild_ast()\n\u001b[1;32m    479\u001b[0m \u001b[38;5;28;01mexcept\u001b[39;00m (\u001b[38;5;167;01mValueError\u001b[39;00m, \u001b[38;5;167;01mSyntaxError\u001b[39;00m, \u001b[38;5;167;01mTypeError\u001b[39;00m) \u001b[38;5;28;01mas\u001b[39;00m e:\n\u001b[0;32m--> 480\u001b[0m     row, column \u001b[38;5;241m=\u001b[39m \u001b[38;5;28;43mself\u001b[39;49m\u001b[38;5;241;43m.\u001b[39;49m\u001b[43m_extract_syntax_information\u001b[49m\u001b[43m(\u001b[49m\u001b[43me\u001b[49m\u001b[43m)\u001b[49m\n\u001b[1;32m    481\u001b[0m     \u001b[38;5;28mself\u001b[39m\u001b[38;5;241m.\u001b[39mreport(\n\u001b[1;32m    482\u001b[0m         \u001b[38;5;124m\"\u001b[39m\u001b[38;5;124mE999\u001b[39m\u001b[38;5;124m\"\u001b[39m, row, column, \u001b[38;5;124m\"\u001b[39m\u001b[38;5;132;01m%s\u001b[39;00m\u001b[38;5;124m: \u001b[39m\u001b[38;5;132;01m%s\u001b[39;00m\u001b[38;5;124m\"\u001b[39m \u001b[38;5;241m%\u001b[39m (\u001b[38;5;28mtype\u001b[39m(e)\u001b[38;5;241m.\u001b[39m\u001b[38;5;18m__name__\u001b[39m, e\u001b[38;5;241m.\u001b[39margs[\u001b[38;5;241m0\u001b[39m])\n\u001b[1;32m    483\u001b[0m     )\n\u001b[1;32m    484\u001b[0m     \u001b[38;5;28;01mreturn\u001b[39;00m\n",
      "File \u001b[0;32m~/.local/lib/python3.10/site-packages/flake8/checker.py:465\u001b[0m, in \u001b[0;36mFileChecker._extract_syntax_information\u001b[0;34m(exception)\u001b[0m\n\u001b[1;32m    457\u001b[0m \u001b[38;5;66;03m# NOTE(sigmavirus24): Not all \"tokens\" have a string as the last\u001b[39;00m\n\u001b[1;32m    458\u001b[0m \u001b[38;5;66;03m# argument. In this event, let's skip trying to find the correct\u001b[39;00m\n\u001b[1;32m    459\u001b[0m \u001b[38;5;66;03m# column and row values.\u001b[39;00m\n\u001b[1;32m    460\u001b[0m \u001b[38;5;28;01mif\u001b[39;00m physical_line \u001b[38;5;129;01mis\u001b[39;00m \u001b[38;5;129;01mnot\u001b[39;00m \u001b[38;5;28;01mNone\u001b[39;00m:\n\u001b[1;32m    461\u001b[0m     \u001b[38;5;66;03m# NOTE(sigmavirus24): SyntaxErrors also don't exactly have a\u001b[39;00m\n\u001b[1;32m    462\u001b[0m     \u001b[38;5;66;03m# \"physical\" line so much as what was accumulated by the point\u001b[39;00m\n\u001b[1;32m    463\u001b[0m     \u001b[38;5;66;03m# tokenizing failed.\u001b[39;00m\n\u001b[1;32m    464\u001b[0m     \u001b[38;5;66;03m# See also: https://gitlab.com/pycqa/flake8/issues/237\u001b[39;00m\n\u001b[0;32m--> 465\u001b[0m     lines \u001b[38;5;241m=\u001b[39m \u001b[43mphysical_line\u001b[49m\u001b[38;5;241;43m.\u001b[39;49m\u001b[43mrstrip\u001b[49m(\u001b[38;5;124m\"\u001b[39m\u001b[38;5;130;01m\\n\u001b[39;00m\u001b[38;5;124m\"\u001b[39m)\u001b[38;5;241m.\u001b[39msplit(\u001b[38;5;124m\"\u001b[39m\u001b[38;5;130;01m\\n\u001b[39;00m\u001b[38;5;124m\"\u001b[39m)\n\u001b[1;32m    466\u001b[0m     row_offset \u001b[38;5;241m=\u001b[39m \u001b[38;5;28mlen\u001b[39m(lines) \u001b[38;5;241m-\u001b[39m \u001b[38;5;241m1\u001b[39m\n\u001b[1;32m    467\u001b[0m     logical_line \u001b[38;5;241m=\u001b[39m lines[\u001b[38;5;241m0\u001b[39m]\n",
      "\u001b[0;31mAttributeError\u001b[0m: 'int' object has no attribute 'rstrip'"
     ]
    }
   ],
   "source": [
    "email = \"jsv1206@gmail.com\"  \n",
    "slugName = \"sreevani/test-project-sj\" \n",
    "%run Citizen_Science_SDK.ipynb"
   ]
  },
  {
   "cell_type": "markdown",
   "id": "052d86d3-033f-401b-bf5a-0e0efaa72043",
   "metadata": {},
   "source": [
    "### 1.1 Package Imports"
   ]
  },
  {
   "cell_type": "code",
   "execution_count": 2,
   "id": "843a7c50-8c33-417d-8d01-b02656361681",
   "metadata": {
    "execution": {
     "iopub.execute_input": "2023-04-18T19:57:44.384406Z",
     "iopub.status.busy": "2023-04-18T19:57:44.383659Z",
     "iopub.status.idle": "2023-04-18T19:57:45.546428Z",
     "shell.execute_reply": "2023-04-18T19:57:45.545691Z",
     "shell.execute_reply.started": "2023-04-18T19:57:44.384380Z"
    },
    "tags": []
   },
   "outputs": [],
   "source": [
    "import numpy as np\n",
    "import pandas as pd\n",
    "import warnings\n",
    "import gc\n",
    "import os\n",
    "import matplotlib.pyplot as plt\n",
    "plt.style.use('tableau-colorblind10')\n",
    "%matplotlib inline\n",
    "\n",
    "import astropy.units as u\n",
    "from astropy.units import UnitsWarning\n",
    "from astropy.timeseries import LombScargle\n",
    "\n",
    "from lsst.rsp import get_tap_service, retrieve_query\n",
    "from lsst.daf.butler import Butler\n",
    "import lsst.daf.butler as dafButler\n",
    "import lsst.afw.display as afwDisplay\n",
    "import lsst.geom as geom"
   ]
  },
  {
   "cell_type": "markdown",
   "id": "694302cb-593a-4ed3-b640-ad2dcbc3f42e",
   "metadata": {},
   "source": [
    "### 1.1.1 Initializing TAP"
   ]
  },
  {
   "cell_type": "code",
   "execution_count": 4,
   "id": "4ee439f4-2a67-48c6-b4c6-2642637b11c9",
   "metadata": {
    "execution": {
     "iopub.execute_input": "2023-04-18T19:57:45.869113Z",
     "iopub.status.busy": "2023-04-18T19:57:45.868310Z",
     "iopub.status.idle": "2023-04-18T19:57:46.093531Z",
     "shell.execute_reply": "2023-04-18T19:57:46.092824Z",
     "shell.execute_reply.started": "2023-04-18T19:57:45.869086Z"
    },
    "tags": []
   },
   "outputs": [],
   "source": [
    "pd.set_option('display.max_rows', 20)\n",
    "warnings.simplefilter(\"ignore\", category=UnitsWarning)\n",
    "service = get_tap_service()\n",
    "assert service is not None\n",
    "assert service.baseurl == \"https://data.lsst.cloud/api/tap\"\n",
    "\n",
    "afwDisplay.setDefaultBackend('matplotlib')"
   ]
  },
  {
   "cell_type": "markdown",
   "id": "0c0c82de-1de7-4f47-8e4a-180279b1a917",
   "metadata": {},
   "source": [
    "### 1.2 Define Functions and Parameters"
   ]
  },
  {
   "cell_type": "markdown",
   "id": "b850948a-40cd-48f4-b2d4-e689159d0d87",
   "metadata": {},
   "source": [
    "### 1.2.1 Variable star related parameters"
   ]
  },
  {
   "cell_type": "code",
   "execution_count": 9,
   "id": "b0ee631c-c7e6-431e-8529-eacaceeb5491",
   "metadata": {
    "execution": {
     "iopub.execute_input": "2023-04-18T19:57:50.037564Z",
     "iopub.status.busy": "2023-04-18T19:57:50.036792Z",
     "iopub.status.idle": "2023-04-18T19:57:50.041018Z",
     "shell.execute_reply": "2023-04-18T19:57:50.040250Z",
     "shell.execute_reply.started": "2023-04-18T19:57:50.037534Z"
    },
    "tags": []
   },
   "outputs": [],
   "source": [
    "query_num_stars = 2 # number of variable stars to query \n",
    "\n",
    "# Set any RA and DEC in degrees. This is the centre of your search radius\n",
    "# In this example notebook we are looking at one known RR-Lyrae. \n",
    "\n",
    "ra_known_rrl = 62.1479031\n",
    "dec_known_rrl = -35.799138\n",
    "\n",
    "search_radius = 0.001 # Search radius in degrees\n",
    "\n",
    "num_variable_images = 5 # For each variable stars, number of images to query to create flipbook (gif)\n",
    "\n",
    "image_size = 100 # image size for cutouts\n",
    "\n",
    "bands = ['g','r','i'] # bands to get flux for to create a lightcurve"
   ]
  },
  {
   "cell_type": "markdown",
   "id": "1d4862eb-049f-4b49-9308-5bd59176dcd8",
   "metadata": {},
   "source": [
    "### 1.2.2 Plotting related parameters"
   ]
  },
  {
   "cell_type": "code",
   "execution_count": 6,
   "id": "3123d8db-46fe-4147-9ee6-eca02bb77afc",
   "metadata": {
    "execution": {
     "iopub.execute_input": "2023-04-18T19:57:47.730360Z",
     "iopub.status.busy": "2023-04-18T19:57:47.729559Z",
     "iopub.status.idle": "2023-04-18T19:57:47.734043Z",
     "shell.execute_reply": "2023-04-18T19:57:47.733354Z",
     "shell.execute_reply.started": "2023-04-18T19:57:47.730329Z"
    },
    "tags": []
   },
   "outputs": [],
   "source": [
    "plots = []\n",
    "\n",
    "plot_filter_labels = {'u':'u', 'g':'g', 'r':'r', 'i':'i', 'z':'z', 'y':'y'}\n",
    "plot_filter_colors = {'u': '#56b4e9', 'g': '#008060', 'r': '#ff4000',\n",
    "                      'i': '#850000', 'z': '#6600cc', 'y': '#000000'}\n",
    "plot_filter_symbols = {'u': 'o', 'g': '^', 'r': 'v', 'i': 's', 'z': '*', 'y': 'p'}"
   ]
  },
  {
   "cell_type": "markdown",
   "id": "01780179-8af6-4261-8c39-c102ce984c84",
   "metadata": {},
   "source": [
    "### 1.2.3 Butler parameters for querying variable stars from"
   ]
  },
  {
   "cell_type": "code",
   "execution_count": 11,
   "id": "11e8be22-aa2e-4496-af34-4bd25276ef03",
   "metadata": {
    "execution": {
     "iopub.execute_input": "2023-04-18T19:57:50.901317Z",
     "iopub.status.busy": "2023-04-18T19:57:50.901009Z",
     "iopub.status.idle": "2023-04-18T19:57:53.873015Z",
     "shell.execute_reply": "2023-04-18T19:57:53.872301Z",
     "shell.execute_reply.started": "2023-04-18T19:57:50.901294Z"
    },
    "tags": []
   },
   "outputs": [],
   "source": [
    "config = 'dp02'\n",
    "collection = '2.2i/runs/DP0.2'\n",
    "butler = dafButler.Butler(config, collections=collection)\n",
    "skymap = butler.get('skyMap')"
   ]
  },
  {
   "cell_type": "markdown",
   "id": "d4e5d710-210b-46e0-b212-4bad72d5d6dc",
   "metadata": {},
   "source": [
    "### 1.2.4 Create relevant directories"
   ]
  },
  {
   "cell_type": "code",
   "execution_count": 12,
   "id": "5c69e266-8bb3-4d44-bb59-bb05e2826a6b",
   "metadata": {
    "execution": {
     "iopub.execute_input": "2023-04-17T15:53:48.395926Z",
     "iopub.status.busy": "2023-04-17T15:53:48.395674Z",
     "iopub.status.idle": "2023-04-17T15:53:48.515355Z",
     "shell.execute_reply": "2023-04-17T15:53:48.514214Z",
     "shell.execute_reply.started": "2023-04-17T15:53:48.395908Z"
    },
    "tags": []
   },
   "outputs": [],
   "source": [
    "# main directory\n",
    "batch_dir = './variable_stars_output/' \n",
    "\n",
    "if os.path.isdir(batch_dir) == False:\n",
    "    os.mkdir(batch_dir)\n",
    "\n",
    "# cutputs directory\n",
    "if os.path.isdir(batch_dir+'images') == False:\n",
    "    os.mkdir(batch_dir+'images')\n",
    "else:\n",
    "    os.system('rm -r '+batch_dir+'images/*')\n",
    "\n",
    "# light curve directory\n",
    "if os.path.isdir(batch_dir+'lc_plots') == False:\n",
    "    os.mkdir(batch_dir+'lc_plots')\n",
    "else:\n",
    "    os.system('rm -r '+batch_dir+'lc_plots/*')\n",
    "\n",
    "# light curve text file directory\n",
    "if os.path.isdir(batch_dir+'text_files') == False:\n",
    "    os.mkdir(batch_dir+'text_files')\n",
    "else:\n",
    "    os.system('rm -r '+batch_dir+'text_files/*')"
   ]
  },
  {
   "cell_type": "markdown",
   "id": "9d0bad26-e21b-4ee8-9ce6-6d1e29787133",
   "metadata": {},
   "source": [
    "### 1.2.5 Query and Plotting functions"
   ]
  },
  {
   "cell_type": "code",
   "execution_count": 13,
   "id": "c9b1f7a7-2a84-486f-8b98-0b0e16feee85",
   "metadata": {
    "execution": {
     "iopub.execute_input": "2023-04-18T19:57:55.869382Z",
     "iopub.status.busy": "2023-04-18T19:57:55.868595Z",
     "iopub.status.idle": "2023-04-18T19:57:55.876930Z",
     "shell.execute_reply": "2023-04-18T19:57:55.876064Z",
     "shell.execute_reply.started": "2023-04-18T19:57:55.869355Z"
    },
    "tags": []
   },
   "outputs": [],
   "source": [
    "def query_stars(ra_deg, dec_deg, radius_deg, limit):\n",
    "    \"\"\"\n",
    "    Query variable stars from dp02_dc2_catalogs.MatchesTruth and dc2_catalogs.TruthSummary\n",
    "    \n",
    "    To query more than one star within the circle of search, change = 1 to <= 1\n",
    "    \n",
    "    Selecting stars (truth_type=2)\n",
    "    variable (is_variable = 1)\n",
    "    is_pointsource = 1\n",
    "\n",
    "    Input Parameters\n",
    "    ----------\n",
    "    ra_deg : ra of the centre of search in degrees\n",
    "    dec_deg : dec of the centre of search in degrees\n",
    "    radius_deg : radius within which to search for\n",
    "    limit : number of variable stars to retireve\n",
    "    \n",
    "    Returns\n",
    "    ----------\n",
    "    Table of variable stars as pandas dataframe\n",
    "    \"\"\"\n",
    "    query = \"SELECT mt.id_truth_type, mt.match_objectId, ts.ra, ts.dec \"\\\n",
    "            \"FROM dp02_dc2_catalogs.MatchesTruth AS mt \"\\\n",
    "            \"JOIN dp02_dc2_catalogs.TruthSummary AS ts ON mt.id_truth_type = ts.id_truth_type \"\\\n",
    "            \"WHERE ts.truth_type=2 \"\\\n",
    "            \"AND ts.is_variable = 1 \"\\\n",
    "            \"AND ts.is_pointsource = 1 \"\\\n",
    "            \"AND mt.match_objectId > 1 \"\\\n",
    "            \"AND CONTAINS(POINT('ICRS', ts.ra, ts.dec), CIRCLE('ICRS', \"+ str(ra_deg)+\", \"+str(dec_deg)+\", \"+str(radius_deg)+\")) = 1 \"\\\n",
    "            \"LIMIT \"+str(limit)+\" \"\n",
    "    results = service.search(query)\n",
    "    variable_stars = results.to_table().to_pandas()\n",
    "    return variable_stars\n",
    "\n",
    "\n",
    "def query_flux(objid):\n",
    "    \"\"\"\n",
    "    Query to get the flux for each variable star at all bands\n",
    "\n",
    "    Input Parameters\n",
    "    ----------\n",
    "    objid : Object ID of the variable star obtained from query_stars\n",
    "    \n",
    "    Returns\n",
    "    ----------\n",
    "    Table of flux of variable star \n",
    "    \"\"\"\n",
    "    query = \"SELECT src.band, src.ccdVisitId, src.coord_ra, src.coord_dec, \"\\\n",
    "            \"src.objectId, src.psfFlux, src.psfFluxErr, \"\\\n",
    "            \"visinfo.detector, visinfo.visitId, \"\\\n",
    "            \"scisql_nanojanskyToAbMag(psfFlux) as psfMag, \"\\\n",
    "            \"visinfo.band, \"\\\n",
    "            \"visinfo.expMidptMJD \"\\\n",
    "            \"FROM dp02_dc2_catalogs.ForcedSource as src \"\\\n",
    "            \"JOIN dp02_dc2_catalogs.CcdVisit as visinfo \"\\\n",
    "            \"ON visinfo.ccdVisitId = src.ccdVisitId \"\\\n",
    "            \"WHERE src.objectId = \"+str(objid)+\" \"\n",
    "    table = service.search(query)\n",
    "    flux_table = table.to_table()\n",
    "    return flux_table\n",
    "    \n",
    "\n",
    "def get_cutout_image(ra_deg, dec_deg, visit, detector, band, datasetType='calexp', cutoutSideLength=image_size):\n",
    "    \"\"\"\n",
    "    Get the cutout image information from butler. \n",
    "    This shoudl be followed by make_fig\n",
    "\n",
    "    Input Parameters\n",
    "    ----------\n",
    "    ra : ra of source in degrees\n",
    "    dec : dec of source in degrees\n",
    "    visit : visit id\n",
    "    detector : detector number\n",
    "    band : band to get cutput for\n",
    "    cutoutSideLength : size of the cutout\n",
    "    \n",
    "    Returns\n",
    "    ----------\n",
    "    Cutout image information\n",
    "    \"\"\"\n",
    "    cutoutSize = geom.ExtentI(cutoutSideLength, cutoutSideLength)\n",
    "    \n",
    "    radec = geom.SpherePoint(ra_deg,dec_deg, geom.degrees)\n",
    "    \n",
    "    dataId = {'visit': visit, 'detector': detector}  \n",
    "    calexp_wcs = butler.get('calexp.wcs', **dataId)\n",
    "    \n",
    "    xy = geom.PointI(calexp_wcs.skyToPixel(radec))\n",
    "    bbox = geom.BoxI(xy - cutoutSize // 2, cutoutSize)\n",
    "    parameters = {'bbox': bbox}\n",
    "    \n",
    "    cutout_image = butler.get('calexp', parameters=parameters, **dataId)\n",
    "\n",
    "    return cutout_image\n",
    "    \n",
    "def make_fig(cutout_image, ra, dec, out_name):\n",
    "    \"\"\"\n",
    "    Create an image.\n",
    "    should be followed with remove_figure\n",
    "    \n",
    "    Parameters\n",
    "    ----------\n",
    "    cutout_image : cutout_image from butler.get\n",
    "    ra : ra of source in degrees\n",
    "    dec : dec of source in degrees\n",
    "    out_name : file name where you'd like to save it\n",
    "    \n",
    "    Returns\n",
    "    ----------\n",
    "    cutout image\n",
    "    \"\"\"\n",
    "    fig = plt.figure(figsize=(4, 4))\n",
    "    afw_display = afwDisplay.Display(frame=fig)\n",
    "    afw_display.scale('asinh', 'zscale')\n",
    "    afw_display.mtv(cutout_image.image)\n",
    "    \n",
    "    cutout_wcs = cutout_image.getWcs()\n",
    "    radec = geom.SpherePoint(ra, dec, geom.degrees)\n",
    "    xy = geom.PointI(cutout_wcs.skyToPixel(radec))\n",
    "    \n",
    "    afw_display.dot('x', xy.getX(), xy.getY(), size=1, ctype='orange')\n",
    "    plt.gca().axis('off')\n",
    "    plt.savefig(out_name)\n",
    "    \n",
    "    return fig\n",
    "\n",
    "\n",
    "def remove_figure(fig):\n",
    "    \"\"\"\n",
    "    Remove a figure to reduce memory footprint.\n",
    "\n",
    "    Parameters\n",
    "    ----------\n",
    "    fig: matplotlib.figure.Figure\n",
    "        Figure to be removed.\n",
    "\n",
    "    Returns\n",
    "    -------\n",
    "    None\n",
    "    \"\"\"\n",
    "    # get the axes and clear their images\n",
    "    for ax in fig.get_axes():\n",
    "        for im in ax.get_images():\n",
    "            im.remove()\n",
    "    fig.clf()       # clear the figure\n",
    "    plt.close(fig)  # close the figure\n",
    "\n",
    "    gc.collect()    # call the garbage collector\n",
    "    \n",
    "\n",
    "    \n",
    "def get_flux(flux_table):\n",
    "    \"\"\"\n",
    "    Create dictionary of light curve.\n",
    "    This should be follwed by plotlc\n",
    "\n",
    "    Input Parameters\n",
    "    ----------\n",
    "    flux_table : from query_flux\n",
    "    \n",
    "    Returns\n",
    "    ----------\n",
    "    two dictionaries of days in MJD and flux for each band\n",
    "    \"\"\"\n",
    "    pick = {}\n",
    "    for filter in plot_filter_labels:\n",
    "        pick[filter] = (flux_table['band'] == filter)\n",
    "    mjd_days = {}\n",
    "    mags = {}\n",
    "    for filter in plot_filter_labels:\n",
    "        mjd_days[filter] = np.array(flux_table[pick[filter]]['expMidptMJD']) * u.day\n",
    "        mags[filter] = np.array(flux_table[pick[filter]]['psfMag'])\n",
    "        \n",
    "    return mjd_days, mags\n",
    "    \n",
    "def plotlc(days, magnitudes, out_name):\n",
    "    \"\"\"\n",
    "    Create a light curve.\n",
    "\n",
    "    Input Parameters\n",
    "    ----------\n",
    "    days : dictionary for MJD in each band \n",
    "    magnitudes : dictionary for flux in each band\n",
    "    out_name : file name where you'd like to save it\n",
    "    \n",
    "    Returns\n",
    "    ----------\n",
    "    light curve image\n",
    "    \"\"\"\n",
    "    \n",
    "    fig = plt.figure(figsize=(10,4))\n",
    "    for band in bands:\n",
    "        plt.plot(days[band], magnitudes[band],\\\n",
    "                 plot_filter_symbols[band], ms=4, label=plot_filter_labels[band])\n",
    "    plt.minorticks_on()\n",
    "    plt.xlabel('MJD (days)')\n",
    "    plt.ylabel('magnitude')\n",
    "    plt.legend('upper right')\n",
    "    plt.legend()\n",
    "    plt.savefig(out_name)\n",
    "    return fig\n",
    "    "
   ]
  },
  {
   "cell_type": "markdown",
   "id": "efac2893-43c4-4aff-9434-fdfec3f67914",
   "metadata": {},
   "source": [
    "## 2. Query and plot the variable stars"
   ]
  },
  {
   "cell_type": "code",
   "execution_count": 18,
   "id": "fb35503f-955f-490b-9100-d8bec98bbb1f",
   "metadata": {
    "execution": {
     "iopub.execute_input": "2023-04-18T19:58:02.533284Z",
     "iopub.status.busy": "2023-04-18T19:58:02.532459Z",
     "iopub.status.idle": "2023-04-18T19:58:08.108425Z",
     "shell.execute_reply": "2023-04-18T19:58:08.107684Z",
     "shell.execute_reply.started": "2023-04-18T19:58:02.533253Z"
    },
    "tags": []
   },
   "outputs": [
    {
     "name": "stdout",
     "output_type": "stream",
     "text": [
      "CPU times: user 15.9 ms, sys: 3.21 ms, total: 19.1 ms\n",
      "Wall time: 5.57 s\n"
     ]
    }
   ],
   "source": [
    "%%time\n",
    "variable_stars = query_stars(ra_known_rrl, dec_known_rrl, search_radius, query_num_stars)"
   ]
  },
  {
   "cell_type": "code",
   "execution_count": 19,
   "id": "95edb413-f9bd-4911-b1fd-c970c12ad4f2",
   "metadata": {
    "execution": {
     "iopub.execute_input": "2023-04-18T19:58:08.120344Z",
     "iopub.status.busy": "2023-04-18T19:58:08.119817Z",
     "iopub.status.idle": "2023-04-18T19:58:08.130406Z",
     "shell.execute_reply": "2023-04-18T19:58:08.129731Z",
     "shell.execute_reply.started": "2023-04-18T19:58:08.120320Z"
    },
    "tags": []
   },
   "outputs": [
    {
     "data": {
      "text/html": [
       "<div>\n",
       "<style scoped>\n",
       "    .dataframe tbody tr th:only-of-type {\n",
       "        vertical-align: middle;\n",
       "    }\n",
       "\n",
       "    .dataframe tbody tr th {\n",
       "        vertical-align: top;\n",
       "    }\n",
       "\n",
       "    .dataframe thead th {\n",
       "        text-align: right;\n",
       "    }\n",
       "</style>\n",
       "<table border=\"1\" class=\"dataframe\">\n",
       "  <thead>\n",
       "    <tr style=\"text-align: right;\">\n",
       "      <th></th>\n",
       "      <th>id_truth_type</th>\n",
       "      <th>match_objectId</th>\n",
       "      <th>ra</th>\n",
       "      <th>dec</th>\n",
       "    </tr>\n",
       "  </thead>\n",
       "  <tbody>\n",
       "    <tr>\n",
       "      <th>0</th>\n",
       "      <td>835714_2</td>\n",
       "      <td>1651589610221899038</td>\n",
       "      <td>62.147903</td>\n",
       "      <td>-35.799138</td>\n",
       "    </tr>\n",
       "  </tbody>\n",
       "</table>\n",
       "</div>"
      ],
      "text/plain": [
       "  id_truth_type       match_objectId         ra        dec\n",
       "0      835714_2  1651589610221899038  62.147903 -35.799138"
      ]
     },
     "execution_count": 19,
     "metadata": {},
     "output_type": "execute_result"
    }
   ],
   "source": [
    "variable_stars"
   ]
  },
  {
   "cell_type": "markdown",
   "id": "7efd312e-86a3-49e1-b1ea-e1714b32755a",
   "metadata": {},
   "source": [
    "### 2.1 Get Calexp images and Lightcurves\n",
    "\n",
    "How to create csv for Zooniverse flipbook\n",
    "\n",
    "https://help.zooniverse.org/getting-started/example/#details-subject-sets-and-manifest-details-aka-what-is-a-manifesthttps://help.zooniverse.org/getting-started/example/#details-subject-sets-and-manifest-details-aka-what-is-a-manifestCreate \n"
   ]
  },
  {
   "cell_type": "code",
   "execution_count": 28,
   "id": "4017ff1d-99de-4bad-b8e8-095d13482d63",
   "metadata": {
    "execution": {
     "iopub.execute_input": "2023-04-18T20:01:27.648224Z",
     "iopub.status.busy": "2023-04-18T20:01:27.647896Z",
     "iopub.status.idle": "2023-04-18T20:01:28.503193Z",
     "shell.execute_reply": "2023-04-18T20:01:28.502444Z",
     "shell.execute_reply.started": "2023-04-18T20:01:27.648200Z"
    },
    "tags": []
   },
   "outputs": [],
   "source": [
    "stars_matchid = variable_stars['match_objectId'].to_numpy()\n",
    "stars_ra = variable_stars['ra'].to_numpy()\n",
    "stars_dec = variable_stars['dec'].to_numpy()\n",
    "df_row = []\n",
    "df_final = []\n",
    "\n",
    "fields_to_add = [\"sourceId\", \"coord_ra\", \"coord_dec\"] # fields to add to the maifest file\n",
    "cutouts = []\n",
    "\n",
    "for j, objid in enumerate(stars_matchid):\n",
    "    \n",
    "    figout_data = {\"sourceId\": stars_matchid[j]}\n",
    "    if \"coord_ra\" in fields_to_add:\n",
    "        figout_data[\"coord_ra\"] = stars_ra[j]\n",
    "    if \"coord_dec\" in fields_to_add:\n",
    "        figout_data[\"coord_dec\"] = stars_dec[j]\n",
    "    \n",
    "    # Query the variable star flux, detector and visit information\n",
    "    ccd_flux_table = query_flux(objid)\n",
    "    \n",
    "    # Get calexp images from Butler and plot them\n",
    "    idx_images = np.round(np.linspace(0, len(ccd_flux_table) - 1, num_variable_images)).astype(int)  #randomly select 5 images for each variable star\n",
    "    image_dict = {} \n",
    "    \n",
    "    for i,idx in enumerate(idx_images):\n",
    "        star_ra = ccd_flux_table['coord_ra'][idx]\n",
    "        star_dec = ccd_flux_table['coord_dec'][idx]\n",
    "        star_detector = ccd_flux_table['detector'][idx]\n",
    "        star_visitid = ccd_flux_table['visitId'][idx]\n",
    "        star_id = ccd_flux_table['objectId'][idx]\n",
    "        star_ccdid = ccd_flux_table['ccdVisitId'][idx]\n",
    "        \n",
    "        calexp_image = get_cutout_image(star_ra, star_dec, star_visitid, star_detector, 'r', datasetType='calexp', cutoutSideLength=100) # only r-band images \n",
    "        figout = make_fig(calexp_image, star_ra,star_dec,batch_dir+\"/images/\"+str(star_id)+\"_\"+str(star_ccdid)+\".png\")\n",
    "        remove_figure(figout)\n",
    "        \n",
    "        image_dict['image_'+str(i)] = str(star_id)+\"_\"+str(star_ccdid)+\".png\"\n",
    "        figout_data['image_'+str(i)] = str(star_id)+\"_\"+str(star_ccdid)+\".png\"\n",
    "        figout_data['filename'] = str(star_id)+\"_\"+str(star_ccdid)+\".png\"\n",
    "        \n",
    "    cutouts.append(figout_data)\n",
    "    \n",
    "    # manifest file\n",
    "    df_star = pd.DataFrame(data = cutouts, index=[0])\n",
    "    df_final.append(df_star)\n",
    "    \n",
    "    # flipbook data for each variable star\n",
    "    df = pd.DataFrame(data = image_dict, index=[0])\n",
    "    df_row.append(df)\n",
    "        \n",
    "    # Light curve for each variable star    \n",
    "    mjd_days, mags = get_flux(ccd_flux_table)\n",
    "    figout = plotlc(mjd_days, mags, batch_dir+\"/lc_plots/\"+\"lc_\"+str(objid)+\".png\")\n",
    "    remove_figure(figout) \n",
    "    df_all_bands = []\n",
    "    for band in bands:\n",
    "        df = pd.DataFrame(data = {'band': [band]*len(mjd_days[band]), 'mjd_days': mjd_days[band], \\\n",
    "                          'mags': mags[band]}, index=None)\n",
    "        df_all_bands.append(df)\n",
    "    \n",
    "    df_final_lc = pd.concat(df_all_bands)\n",
    "    outfile = batch_dir+\"/text_files/\"+\"lc_\"+str(objid)+\".csv\"\n",
    "    df_final_lc.to_csv(outfile, index=False, sep=',')\n",
    "    \n",
    "df_manifest = pd.concat(df_final) # final manifest file with all variable stars\n",
    "df_manifest = df_manifest.iloc[:, [4,0,1,2,3,5,6,7]]\n",
    "outfile = batch_dir+\"images/metadata.csv\"\n",
    "df_manifest.to_csv(outfile, index=False, sep=',')\n",
    "    \n",
    "df_flipbook = pd.concat(df_row) # flipbook with all variable stars\n",
    "outfile = batch_dir+\"/zooniverse_flipbook_manifest.csv\"\n",
    "df_flipbook.to_csv(outfile, index=False, sep=',')"
   ]
  },
  {
   "cell_type": "code",
   "execution_count": 117,
   "id": "d600c67b-2632-4873-a66b-bf1a09132438",
   "metadata": {
    "execution": {
     "iopub.execute_input": "2023-04-18T19:18:36.542628Z",
     "iopub.status.busy": "2023-04-18T19:18:36.541949Z",
     "iopub.status.idle": "2023-04-18T19:18:36.545849Z",
     "shell.execute_reply": "2023-04-18T19:18:36.545023Z",
     "shell.execute_reply.started": "2023-04-18T19:18:36.542597Z"
    },
    "tags": []
   },
   "outputs": [],
   "source": [
    "# cutout_dir = batch_dir+\"images/\""
   ]
  },
  {
   "cell_type": "code",
   "execution_count": 118,
   "id": "e6257c57-ac5d-40d9-86d7-014c95b0b930",
   "metadata": {
    "execution": {
     "iopub.execute_input": "2023-04-18T19:18:37.093071Z",
     "iopub.status.busy": "2023-04-18T19:18:37.092160Z",
     "iopub.status.idle": "2023-04-18T19:18:37.095863Z",
     "shell.execute_reply": "2023-04-18T19:18:37.095247Z",
     "shell.execute_reply.started": "2023-04-18T19:18:37.093038Z"
    },
    "tags": []
   },
   "outputs": [],
   "source": [
    "# manifest_path = write_metadata_file(cutouts, cutout_dir)\n",
    "\n",
    "# print(\"The manifest CSV file can be found at the following relative path:\")\n",
    "# print(manifest_path)"
   ]
  },
  {
   "cell_type": "markdown",
   "id": "83fcc033-0d3b-49bc-a99d-5d1fa70102b0",
   "metadata": {},
   "source": [
    "# Send data to Zooniverse"
   ]
  },
  {
   "cell_type": "code",
   "execution_count": 91,
   "id": "7468587f-fa51-4266-96b2-364c7ff1eec4",
   "metadata": {
    "execution": {
     "iopub.execute_input": "2023-04-18T18:05:28.920807Z",
     "iopub.status.busy": "2023-04-18T18:05:28.920357Z",
     "iopub.status.idle": "2023-04-18T18:05:28.924954Z",
     "shell.execute_reply": "2023-04-18T18:05:28.924084Z",
     "shell.execute_reply.started": "2023-04-18T18:05:28.920772Z"
    },
    "tags": []
   },
   "outputs": [],
   "source": [
    "cutout_dir = batch_dir+\"images/\""
   ]
  },
  {
   "cell_type": "code",
   "execution_count": 93,
   "id": "c08f519a-0ff4-4c2b-9d73-1bf632c20db9",
   "metadata": {
    "execution": {
     "iopub.execute_input": "2023-04-18T18:05:31.099456Z",
     "iopub.status.busy": "2023-04-18T18:05:31.098663Z",
     "iopub.status.idle": "2023-04-18T18:05:31.103076Z",
     "shell.execute_reply": "2023-04-18T18:05:31.102078Z",
     "shell.execute_reply.started": "2023-04-18T18:05:31.099426Z"
    },
    "tags": []
   },
   "outputs": [],
   "source": [
    "subject_set_name = \"variable stars gifs\" "
   ]
  },
  {
   "cell_type": "code",
   "execution_count": 94,
   "id": "35016218-8203-4752-8f6f-9a302b140503",
   "metadata": {
    "execution": {
     "iopub.execute_input": "2023-04-18T18:05:31.843118Z",
     "iopub.status.busy": "2023-04-18T18:05:31.842299Z",
     "iopub.status.idle": "2023-04-18T18:05:37.504059Z",
     "shell.execute_reply": "2023-04-18T18:05:37.503531Z",
     "shell.execute_reply.started": "2023-04-18T18:05:31.843082Z"
    },
    "tags": []
   },
   "outputs": [
    {
     "data": {
      "text/plain": [
       "'1. Checking batch status'"
      ]
     },
     "metadata": {},
     "output_type": "display_data"
    },
    {
     "data": {
      "text/plain": [
       "'    ** Warning! - The Zooniverse client is throwing an error about a missing subject set, this can likely safely be ignored.'"
      ]
     },
     "metadata": {},
     "output_type": "display_data"
    },
    {
     "data": {
      "text/plain": [
       "'2. Zipping up all the astro cutouts - this can take a few minutes with large data sets, but unlikely more than 10 minutes.'"
      ]
     },
     "metadata": {},
     "output_type": "display_data"
    },
    {
     "data": {
      "text/plain": [
       "'3. Uploading the citizen science data'"
      ]
     },
     "metadata": {},
     "output_type": "display_data"
    },
    {
     "data": {
      "text/plain": [
       "'4. Creating a new Zooniverse subject set'"
      ]
     },
     "metadata": {},
     "output_type": "display_data"
    },
    {
     "data": {
      "text/plain": [
       "'5. Notifying the Rubin EPO Data Center of the new data, which will finish processing of the data and notify Zooniverse'"
      ]
     },
     "metadata": {},
     "output_type": "display_data"
    },
    {
     "data": {
      "text/plain": [
       "'6. Cleaning up unused subject set on the Zooniverse platform, vendor_batch_id : 112798'"
      ]
     },
     "metadata": {},
     "output_type": "display_data"
    },
    {
     "data": {
      "text/html": [
       "<pre style=\"margin: 0.1em;\n",
       "padding-left: 0.25em;\n",
       "border-left-style: solid;\n",
       "font-family: var(--jp-code-font-family);\n",
       "font-size: var(--jp-code-font-size);\n",
       "line-height: var(--jp-code-line-height);\n",
       "\"><span style=\"color: var(--jp-warn-color2)\">root</span> <span style=\"color: var(--jp-error-color2)\">ERROR</span>: ** One or more errors occurred during the last step **</pre>"
      ],
      "text/plain": [
       "<IPython.core.display.HTML object>"
      ]
     },
     "metadata": {},
     "output_type": "display_data"
    },
    {
     "data": {
      "text/html": [
       "<pre style=\"margin: 0.1em;\n",
       "padding-left: 0.25em;\n",
       "border-left-style: solid;\n",
       "font-family: var(--jp-code-font-family);\n",
       "font-size: var(--jp-code-font-size);\n",
       "line-height: var(--jp-code-line-height);\n",
       "\"><span style=\"color: var(--jp-warn-color2)\">root</span> <span style=\"color: var(--jp-error-color2)\">ERROR</span>: [&#x27;You currently have an active batch of data on the Zooniverse platform and cannot create a new batch until the current batch has been completed.&#x27;]</pre>"
      ],
      "text/plain": [
       "<IPython.core.display.HTML object>"
      ]
     },
     "metadata": {},
     "output_type": "display_data"
    },
    {
     "data": {
      "text/html": [
       "<pre style=\"margin: 0.1em;\n",
       "padding-left: 0.25em;\n",
       "border-left-style: solid;\n",
       "font-family: var(--jp-code-font-family);\n",
       "font-size: var(--jp-code-font-size);\n",
       "line-height: var(--jp-code-line-height);\n",
       "\"><span style=\"color: var(--jp-warn-color2)\">root</span> <span style=\"color: var(--jp-error-color2)\">ERROR</span>: Email address: jsv1206@gmail.com</pre>"
      ],
      "text/plain": [
       "<IPython.core.display.HTML object>"
      ]
     },
     "metadata": {},
     "output_type": "display_data"
    },
    {
     "data": {
      "text/html": [
       "<pre style=\"margin: 0.1em;\n",
       "padding-left: 0.25em;\n",
       "border-left-style: solid;\n",
       "font-family: var(--jp-code-font-family);\n",
       "font-size: var(--jp-code-font-size);\n",
       "line-height: var(--jp-code-line-height);\n",
       "\"><span style=\"color: var(--jp-warn-color2)\">root</span> <span style=\"color: var(--jp-error-color2)\">ERROR</span>: Timestamp: 2023-04-18 11:05:37.501600-07:00</pre>"
      ],
      "text/plain": [
       "<IPython.core.display.HTML object>"
      ]
     },
     "metadata": {},
     "output_type": "display_data"
    }
   ],
   "source": [
    "__cit_sci_data_type = _HIPS_CUTOUTS # Important: DO NOT change this value. Update - this value may be changed.\n",
    "send_data(subject_set_name, cutout_dir, cutouts)"
   ]
  },
  {
   "cell_type": "code",
   "execution_count": null,
   "id": "2cfb8780-569f-489c-98ea-d750e568d325",
   "metadata": {},
   "outputs": [],
   "source": []
  }
 ],
 "metadata": {
  "kernelspec": {
   "display_name": "LSST",
   "language": "python",
   "name": "lsst"
  },
  "language_info": {
   "codemirror_mode": {
    "name": "ipython",
    "version": 3
   },
   "file_extension": ".py",
   "mimetype": "text/x-python",
   "name": "python",
   "nbconvert_exporter": "python",
   "pygments_lexer": "ipython3",
   "version": "3.10.9"
  }
 },
 "nbformat": 4,
 "nbformat_minor": 5
}
