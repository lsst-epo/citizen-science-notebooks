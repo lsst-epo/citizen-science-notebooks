{
 "cells": [
  {
   "cell_type": "markdown",
   "id": "4ca66653-c815-47a4-af85-65b646a67e57",
   "metadata": {},
   "source": [
    "<img align=\"left\" src = https://project.lsst.org/sites/default/files/Rubin-O-Logo_0.png width=250 style=\"padding: 10px\"> \n",
    "<b>Citzen Science Notebook</b> <br>\n",
    "Contact author: Clare Higgs & Eric Rosas <br>\n",
    "Last verified to run: 2022-10-20 <br>\n",
    "LSST Science Piplines version: Weekly 2022_40 <br>\n",
    "Container size: medium <br>\n"
   ]
  },
  {
   "cell_type": "markdown",
   "id": "6f8b563e-c151-476e-8ef0-9e8088d1ec61",
   "metadata": {},
   "source": [
    "## 1.0 Introduction\n",
    "This notebook is intended to guide a PI through the process of sending data from the Rubin Science Platform (RSP) to the Zooniverse.\n",
    "A detailed guide to Citizen Science projects, outlining the process, requirements and support available is here: (*link to citscipiguide*)\n",
    "The data sent can be currated on the RSP as a necessary and take many forms. Here, we include an example of sending png cutout images. \n",
    "We encourage PIs new to the Rubin dataset to explore the tutorial notebooks and documentation.\n",
    "\n",
    "As explained in the guide, this notebook will restrict the number of object sent to the Zooniverse to 100 objects. This limit is intended to demonstrate your project prior to full approval from the EPO Data Rights Panel. \n",
    "\n",
    "Support is available and questions are welcome - (*some email/link etc*)\n",
    "\n",
    "\n",
    "**DEBUG VERSION note that this version of the notebook contains additional debugging and the first cell will need to be run once**"
   ]
  },
  {
   "cell_type": "markdown",
   "id": "b108a439-1f3e-4962-adeb-ce144a8d8be7",
   "metadata": {},
   "source": [
    "### Log in to the Zooniverse Platform & Activate Citizen Science SDK\n",
    "\n",
    "If you haven't already, create a Zooniverse account here. and create your project. Your project must be set to \"public\". To set your project to public, select the \"Visibility\" tab. Note you will need to enter your username, password, and project slug below.\n",
    "\n",
    "After creating your account and project, return to this notebook.\n",
    "\n",
    "---\n",
    "\n",
    "Supply your email and project slug below. \n",
    "\n",
    "A \"slug\" is the string of your Zooniverse username and your project name without the leading forward slash, for instance: \"username/project-name\". \n",
    "\n",
    "For more details, see: https://www.zooniverse.org/talk/18/967061?comment=1898157&page=1.\n",
    "\n",
    "IMPORTANT: Your Zooniverse project must be set to \"public\", a \"private\" project will not work. Select this setting under the \"Visibility\" tab, (it does not need to be set to live). The following code will not work if you have not authenticated in the cell titled \"Log in to Zooniverse\"."
   ]
  },
  {
   "cell_type": "code",
   "execution_count": 1,
   "id": "0edb67a4-1508-4b90-872c-8c42e642126b",
   "metadata": {
    "execution": {
     "iopub.execute_input": "2023-04-07T20:14:48.180836Z",
     "iopub.status.busy": "2023-04-07T20:14:48.180088Z",
     "iopub.status.idle": "2023-04-07T20:15:05.928626Z",
     "shell.execute_reply": "2023-04-07T20:15:05.927963Z",
     "shell.execute_reply.started": "2023-04-07T20:14:48.180813Z"
    },
    "tags": []
   },
   "outputs": [
    {
     "name": "stdout",
     "output_type": "stream",
     "text": [
      "Installing external dependencies...\n",
      "Done installing external dependencies!\n",
      "Enter your Zooniverse credentials...\n"
     ]
    },
    {
     "name": "stdin",
     "output_type": "stream",
     "text": [
      "Username:  rebecca.nevin\n",
      " ········\n"
     ]
    },
    {
     "name": "stdout",
     "output_type": "stream",
     "text": [
      "You now are logged in to the Zooniverse platform.\n",
      "Loaded Citizen Science SDK\n"
     ]
    }
   ],
   "source": [
    "email = \"beckynevin@gmail.com\" # Please continue to use the same email address moving forward, as this is how we associate \n",
    "slugName = \"rebecca-dot-nevin/test-project\" # Replace this placholder text with your slug name, do not include the leading forward-slash\n",
    "%run Citizen_Science_SDK.ipynb"
   ]
  },
  {
   "cell_type": "markdown",
   "id": "36dbc0bb-19c3-4d3f-8a06-3150c7517fcd",
   "metadata": {},
   "source": [
    "## 2.0 Make a Subject Set to Send\n",
    "\n",
    "Here, the subject set of objects to send to Zooniverse should be curated. This can (and should!) be modified to create your own subject set. Your subject set must have 100 objects or less in the testing phase before your project is approved by the EPO Data Rights panel. \n",
    "\n",
    "Currently, this example makes a set of image cutouts of extended sources. "
   ]
  },
  {
   "cell_type": "code",
   "execution_count": 2,
   "id": "ee20b45b-ec67-4058-9c50-7c0ce68764aa",
   "metadata": {
    "execution": {
     "iopub.execute_input": "2023-04-07T20:15:08.603056Z",
     "iopub.status.busy": "2023-04-07T20:15:08.602149Z",
     "iopub.status.idle": "2023-04-07T20:15:12.852142Z",
     "shell.execute_reply": "2023-04-07T20:15:12.851438Z",
     "shell.execute_reply.started": "2023-04-07T20:15:08.603011Z"
    },
    "tags": []
   },
   "outputs": [],
   "source": [
    "import utils\n",
    "\n",
    "config = 'dp02'\n",
    "collection = '2.2i/runs/DP0.2'\n",
    "service, butler, skymap = utils.setup_butler(config, collection)   "
   ]
  },
  {
   "cell_type": "code",
   "execution_count": 3,
   "id": "a82ef1a9-4835-4aeb-afdf-accaaf7e3007",
   "metadata": {
    "execution": {
     "iopub.execute_input": "2023-04-07T20:15:14.911431Z",
     "iopub.status.busy": "2023-04-07T20:15:14.910510Z",
     "iopub.status.idle": "2023-04-07T20:15:14.914595Z",
     "shell.execute_reply": "2023-04-07T20:15:14.913933Z",
     "shell.execute_reply.started": "2023-04-07T20:15:14.911401Z"
    },
    "tags": []
   },
   "outputs": [],
   "source": [
    "max_rec=5 # make 100 for full subject set test\n",
    "use_center_coords = \"62, -37\"\n",
    "use_radius = \"1.0\""
   ]
  },
  {
   "cell_type": "markdown",
   "id": "8e240d4a-f8d3-4837-923f-12be9bff5f79",
   "metadata": {},
   "source": [
    "Query can be modified to other sources - currently just selecting 10 objects (change max_rec above)"
   ]
  },
  {
   "cell_type": "code",
   "execution_count": 4,
   "id": "119358cc-5244-4984-872c-a6311052d9c8",
   "metadata": {
    "execution": {
     "iopub.execute_input": "2023-04-07T20:15:17.038826Z",
     "iopub.status.busy": "2023-04-07T20:15:17.038501Z",
     "iopub.status.idle": "2023-04-07T20:15:18.722192Z",
     "shell.execute_reply": "2023-04-07T20:15:18.721332Z",
     "shell.execute_reply.started": "2023-04-07T20:15:17.038801Z"
    },
    "tags": []
   },
   "outputs": [],
   "source": [
    "query = \"SELECT TOP \" + str(max_rec) + \" \" + \\\n",
    "        \"objectId, coord_ra, coord_dec, detect_isPrimary \" + \\\n",
    "        \"g_cModelFlux, r_cModelFlux, r_extendedness, r_inputCount \" + \\\n",
    "        \"FROM dp02_dc2_catalogs.Object \" + \\\n",
    "        \"WHERE CONTAINS(POINT('ICRS', coord_ra, coord_dec), \" + \\\n",
    "        \"CIRCLE('ICRS', \" + use_center_coords + \", \" + use_radius + \")) = 1 \" + \\\n",
    "        \"AND detect_isPrimary = 1 \" + \\\n",
    "        \"AND r_extendedness = 1 \" + \\\n",
    "        \"AND scisql_nanojanskyToAbMag(r_cModelFlux) < 18.0 \" + \\\n",
    "        \"ORDER by r_cModelFlux DESC\"\n",
    "results = service.search(query)\n",
    "assert len(results) == max_rec"
   ]
  },
  {
   "cell_type": "code",
   "execution_count": 5,
   "id": "9bf4c80e-4402-4f0f-abe1-a6cd5ce6587c",
   "metadata": {
    "execution": {
     "iopub.execute_input": "2023-04-07T20:15:20.122216Z",
     "iopub.status.busy": "2023-04-07T20:15:20.121247Z",
     "iopub.status.idle": "2023-04-07T20:15:20.137409Z",
     "shell.execute_reply": "2023-04-07T20:15:20.136692Z",
     "shell.execute_reply.started": "2023-04-07T20:15:20.122180Z"
    },
    "tags": []
   },
   "outputs": [],
   "source": [
    "results_table = results.to_table().to_pandas()\n",
    "results_table['dataId'] = results_table.apply(lambda x: utils.get_bandtractpatch(x['coord_ra'], x['coord_dec'], skymap), axis=1)"
   ]
  },
  {
   "cell_type": "markdown",
   "id": "6422604f-0b48-4d81-a40b-a04f3434cfac",
   "metadata": {},
   "source": [
    "### Additional Data to Send\n",
    "You may desire to send additional data in addition to the image cutout. The fields represented as strings within the `fields_to_add` array will be sent along with each image. If there are any fields that you do not need then feel free to remove them from the array.\n",
    "\n",
    "__Note:__ : Object ID is always included."
   ]
  },
  {
   "cell_type": "code",
   "execution_count": 6,
   "id": "8a8b74ee-828f-432e-b8f8-68674749cea5",
   "metadata": {
    "execution": {
     "iopub.execute_input": "2023-04-07T20:15:22.489848Z",
     "iopub.status.busy": "2023-04-07T20:15:22.489508Z",
     "iopub.status.idle": "2023-04-07T20:15:52.599047Z",
     "shell.execute_reply": "2023-04-07T20:15:52.598139Z",
     "shell.execute_reply.started": "2023-04-07T20:15:22.489826Z"
    },
    "tags": []
   },
   "outputs": [],
   "source": [
    "# In-memory manifest file as an array of dicts\n",
    "manifest = []\n",
    "\n",
    "# Specify the directory that the cutouts will be output to:\n",
    "batch_dir = \"./cutouts/\"\n",
    "\n",
    "# Create directory if it does not already exist\n",
    "if os.path.isdir(batch_dir) == False:\n",
    "    os.mkdir(batch_dir)\n",
    "\n",
    "# Loop over results_table, or any other iterable provided by the PI:\n",
    "for index, row in results_table.iterrows():\n",
    "    # Use the Butler to get data based on the data within the iterable\n",
    "    deepCoadd = butler.get('deepCoadd', dataId=row['dataId'])\n",
    "    filename = \"cutout\"+str(row['objectId'])+\".png\"\n",
    "    figout = utils.make_figure(deepCoadd, batch_dir + filename)\n",
    "    \n",
    "    # Create the CSV-file-row-as-dict \n",
    "    csv_row = {\n",
    "        \"filename\": filename, # required column, do not change the column name\n",
    "        \"sourceId\": row.objectId, # required column, do not change the column name\n",
    "        # Add your desired columns:\n",
    "        \"coord_ra\": row.coord_ra,\n",
    "        \"coord_dec\": row.coord_dec,\n",
    "        \"g_cModelFlux\": row.g_cModelFlux,\n",
    "        \"r_cModelFlux\": row.r_cModelFlux,\n",
    "        \"r_extendedness\": row.r_extendedness,\n",
    "        \"r_inputCount\": row.r_inputCount\n",
    "    }\n",
    "    manifest.append(csv_row)\n",
    "    utils.remove_figure(figout)\n",
    "    "
   ]
  },
  {
   "cell_type": "markdown",
   "id": "320f390d-578a-4151-8cbd-f34954bbbb33",
   "metadata": {
    "tags": []
   },
   "source": [
    "## 3.0 Preparing the Manifest File\n",
    "\n",
    "The manifest file _must_ abide by [RFC4180](https://datatracker.ietf.org/doc/html/rfc4180.html) as the backend service that parses the manifest file expects that this is so. In addition, you may have a column with no values, but there _must_ be an empty column value indicated with a comma. E.g.:\n",
    "\n",
    "Valid syntax for empty column:\n",
    "```\n",
    "column1,column2,empty_column,column4\n",
    "1,1,,4\n",
    "1,1,,4\n",
    "1,1,,4\n",
    "```\n",
    "\n",
    "**Important!**: The manifest file must be named `metadata.csv` in order for the processing on the backend to work correctly!"
   ]
  },
  {
   "cell_type": "markdown",
   "id": "1a14e18a-22fe-4c84-a05a-17c248fdee1b",
   "metadata": {
    "tags": []
   },
   "source": [
    "### Option 1: Write the manifest file to the filesystem automatically\n",
    "\n",
    "Running the below cell should take care of writing the `metadata.csv` file to the filesystem, which will ultimately be used as the manifest file by Zooniverse. You are welcome to edit the automatically created manifest file, just ensure that it's format abides by RFC4180.\n"
   ]
  },
  {
   "cell_type": "code",
   "execution_count": 7,
   "id": "c2605029-f988-4d7c-991d-82aabb60e07b",
   "metadata": {
    "execution": {
     "iopub.execute_input": "2023-04-07T20:16:00.878166Z",
     "iopub.status.busy": "2023-04-07T20:16:00.877357Z",
     "iopub.status.idle": "2023-04-07T20:16:00.887658Z",
     "shell.execute_reply": "2023-04-07T20:16:00.887041Z",
     "shell.execute_reply.started": "2023-04-07T20:16:00.878138Z"
    },
    "tags": []
   },
   "outputs": [
    {
     "name": "stdout",
     "output_type": "stream",
     "text": [
      "The manifest CSV file can be found at the following relative path:\n",
      "./cutouts/metadata.csv\n"
     ]
    }
   ],
   "source": [
    "manifest_path = write_metadata_file(manifest, batch_dir)\n",
    "\n",
    "print(\"The manifest CSV file can be found at the following relative path:\")\n",
    "print(manifest_path)"
   ]
  },
  {
   "cell_type": "markdown",
   "id": "c3309b77-ebe1-4f09-bd30-924df77369dc",
   "metadata": {
    "tags": []
   },
   "source": [
    "### Option 2: Specify the path to your own manifest file\n",
    "If desirable, specify the manifest CSV file manually. This is a simple matter of ensuring that it is named `metadata.csv` and placed in the `./cutouts/` folder (or whatever you renamed the `batch_dir` variable to)"
   ]
  },
  {
   "cell_type": "markdown",
   "id": "76e65f2f-f161-480d-ad8e-26f977136c64",
   "metadata": {},
   "source": [
    "## 4.0 Send the cutouts to Zooniverse\n",
    "\n",
    "Send your subject set to the Zooniverse. This cell will let you send one subject set. If you already have a set on Zooniverse, it will notify you and fail. If you want to send more data, delete what is on the Zooniverse and send again. You *may* get a warning that your set still exists or a \"Could not find subject_set with id=' '\" error. If so, wait (~10min) and try again, as Zooniverse takes a minute to process your changes. You may also have re-run the \"Look up your project cell\". Don't click the below cell multiple times, the upload will fail if multiple runs are attempted.\n",
    "\n",
    "It has successfully worked if you get nofication and an email saying your data has been sent."
   ]
  },
  {
   "cell_type": "markdown",
   "id": "b5e1886b-0b90-4214-8dc4-037fa87a28b4",
   "metadata": {},
   "source": [
    "### Name the new subject set\n",
    "Name your subject set as it will appear on the Zooniverse. Try not to reuse names. "
   ]
  },
  {
   "cell_type": "code",
   "execution_count": 11,
   "id": "9cb27552-1f98-4930-a72f-1a09f1118834",
   "metadata": {
    "execution": {
     "iopub.execute_input": "2023-04-07T20:16:49.068725Z",
     "iopub.status.busy": "2023-04-07T20:16:49.067917Z",
     "iopub.status.idle": "2023-04-07T20:16:49.072898Z",
     "shell.execute_reply": "2023-04-07T20:16:49.072315Z",
     "shell.execute_reply.started": "2023-04-07T20:16:49.068694Z"
    },
    "tags": []
   },
   "outputs": [
    {
     "data": {
      "text/plain": [
       "'set_2'"
      ]
     },
     "execution_count": 11,
     "metadata": {},
     "output_type": "execute_result"
    }
   ],
   "source": [
    "subject_set_name = \"set_2\"\n",
    "subject_set_name"
   ]
  },
  {
   "cell_type": "code",
   "execution_count": 12,
   "id": "7af45f7d-192d-4215-9b00-512afd11590f",
   "metadata": {
    "execution": {
     "iopub.execute_input": "2023-04-07T20:16:53.587884Z",
     "iopub.status.busy": "2023-04-07T20:16:53.586921Z",
     "iopub.status.idle": "2023-04-07T20:17:06.333968Z",
     "shell.execute_reply": "2023-04-07T20:17:06.333219Z",
     "shell.execute_reply.started": "2023-04-07T20:16:53.587854Z"
    },
    "tags": []
   },
   "outputs": [
    {
     "data": {
      "text/plain": [
       "'1. Checking batch status'"
      ]
     },
     "metadata": {},
     "output_type": "display_data"
    },
    {
     "data": {
      "text/plain": [
       "'    ** Warning! - The Zooniverse client is throwing an error about a missing subject set, this can likely safely be ignored.'"
      ]
     },
     "metadata": {},
     "output_type": "display_data"
    },
    {
     "data": {
      "text/plain": [
       "'2. Zipping up all the astro cutouts - this can take a few minutes with large data sets, but unlikely more than 10 minutes.'"
      ]
     },
     "metadata": {},
     "output_type": "display_data"
    },
    {
     "data": {
      "text/plain": [
       "'3. Uploading the citizen science data'"
      ]
     },
     "metadata": {},
     "output_type": "display_data"
    },
    {
     "data": {
      "text/plain": [
       "'4. Creating a new Zooniverse subject set'"
      ]
     },
     "metadata": {},
     "output_type": "display_data"
    },
    {
     "data": {
      "text/plain": [
       "'5. Notifying the Rubin EPO Data Center of the new data, which will finish processing of the data and notify Zooniverse'"
      ]
     },
     "metadata": {},
     "output_type": "display_data"
    },
    {
     "data": {
      "text/plain": [
       "'6. Success! The URL to the manifest file can be found here:'"
      ]
     },
     "metadata": {},
     "output_type": "display_data"
    },
    {
     "data": {
      "text/plain": [
       "'https://storage.googleapis.com/citizen-science-data-public/bc6e24c1-9261-46d2-a03e-9a787c04abdb/manifest.csv'"
      ]
     },
     "metadata": {},
     "output_type": "display_data"
    },
    {
     "data": {
      "text/plain": [
       "'7. Sending the manifest URL to Zooniverse'"
      ]
     },
     "metadata": {},
     "output_type": "display_data"
    },
    {
     "data": {
      "text/plain": [
       "'** Information: subject_set.id: 112644; manifest: https://storage.googleapis.com/citizen-science-data-public/bc6e24c1-9261-46d2-a03e-9a787c04abdb/manifest.csv'"
      ]
     },
     "metadata": {},
     "output_type": "display_data"
    },
    {
     "data": {
      "text/plain": [
       "'8. Transfer process complete, but further processing is required on the Zooniverse platform and you will receive an email at beckynevin@gmail.com'"
      ]
     },
     "metadata": {},
     "output_type": "display_data"
    }
   ],
   "source": [
    "__cit_sci_data_type = _HIPS_CUTOUTS # Important: DO NOT change this value. Update - this value may be changed.\n",
    "send_data(subject_set_name, batch_dir, manifest)"
   ]
  },
  {
   "cell_type": "code",
   "execution_count": 13,
   "id": "e2155f27-e2c5-4ae1-9386-8bfbe40389ee",
   "metadata": {
    "execution": {
     "iopub.execute_input": "2023-04-07T20:17:06.346676Z",
     "iopub.status.busy": "2023-04-07T20:17:06.346475Z",
     "iopub.status.idle": "2023-04-07T20:17:06.350591Z",
     "shell.execute_reply": "2023-04-07T20:17:06.349994Z",
     "shell.execute_reply.started": "2023-04-07T20:17:06.346659Z"
    },
    "tags": []
   },
   "outputs": [
    {
     "data": {
      "text/plain": [
       "'./cutouts/'"
      ]
     },
     "execution_count": 13,
     "metadata": {},
     "output_type": "execute_result"
    }
   ],
   "source": [
    "batch_dir"
   ]
  },
  {
   "cell_type": "markdown",
   "id": "820c7931-260a-48f9-831f-ce23f8906c04",
   "metadata": {},
   "source": [
    "## Download Batch Metadata\n",
    "This functionality is in an experimental/alpha state and as such unexpected behavior may occur. Do not attempt to run this cell without first running the top cell in this notebook that prompts you to log in to the Zooniverse platform."
   ]
  },
  {
   "cell_type": "code",
   "execution_count": null,
   "id": "14a625ef-9952-4d59-97fe-fa6c874a60d4",
   "metadata": {},
   "outputs": [],
   "source": [
    "test = download_batch_metadata()\n",
    "test"
   ]
  },
  {
   "cell_type": "markdown",
   "id": "a67d0b65-3ff9-44b3-9a8c-50749642b503",
   "metadata": {},
   "source": [
    "### Explicitly check the status of your data batch\n",
    "Is the send_data() call above stalling on \"Notifying the Rubin EPO Data Center...\" step? Run the below cell every few minutes to check the status of your data. Large datasets can cause the response to get lost, but that does not necessarily mean that your data was not sent to Zooniverse."
   ]
  },
  {
   "cell_type": "code",
   "execution_count": null,
   "id": "085e54d1-4872-4467-988c-8f2ac87f9850",
   "metadata": {},
   "outputs": [],
   "source": [
    "res = check_status()\n",
    "print(\"Status:\")\n",
    "print(res[\"status\"])\n",
    "print(\"Manifest:\")\n",
    "print(res[\"manifest_url\"])\n",
    "print(\"Messages:\")\n",
    "print(res[\"messages\"])\n",
    "if res[\"status\"] == \"success\":\n",
    "    global manifest_url\n",
    "    manifest_url = res[\"manifest_url\"]\n",
    "    send_zooniverse_manifest()"
   ]
  },
  {
   "cell_type": "markdown",
   "id": "dc25572f-5f14-46c6-8883-ac95e3aa072c",
   "metadata": {},
   "source": [
    "## Retrieve the data\n",
    "There are two ways to do this:\n",
    "1) Programatically (we show this here), \n",
    "2) By directly going to your Zooniverse project and downloading the output csv files\n",
    "\n",
    "First, let's do it programatically. (Note that this currently only works if you are the owner of the project.)"
   ]
  },
  {
   "cell_type": "code",
   "execution_count": 17,
   "id": "03327003-fe3b-4695-9e64-e2859a1c0fb1",
   "metadata": {
    "execution": {
     "iopub.execute_input": "2023-04-07T20:19:59.281172Z",
     "iopub.status.busy": "2023-04-07T20:19:59.280380Z",
     "iopub.status.idle": "2023-04-07T20:20:05.553705Z",
     "shell.execute_reply": "2023-04-07T20:20:05.553051Z",
     "shell.execute_reply.started": "2023-04-07T20:19:59.281142Z"
    },
    "tags": []
   },
   "outputs": [
    {
     "name": "stdout",
     "output_type": "stream",
     "text": [
      "Enter your Zooniverse credentials...\n"
     ]
    },
    {
     "name": "stdin",
     "output_type": "stream",
     "text": [
      "Username:  rebecca.nevin\n",
      " ········\n"
     ]
    },
    {
     "name": "stdout",
     "output_type": "stream",
     "text": [
      "Sets : \n",
      "({'workflows': [{'id': '23254', 'display_name': 'Classification', 'tasks': {'T0': {'help': 'Is this a galaxy?', 'type': 'single', 'answers': [{'label': 'Yes'}, {'label': 'No'}], 'question': 'Is this a galaxy?', 'required': True}}, 'steps': [], 'classifications_count': 0, 'subjects_count': 200, 'created_at': '2023-01-05T16:59:46.979Z', 'updated_at': '2023-01-05T17:07:32.650Z', 'finished_at': None, 'first_task': 'T0', 'primary_language': 'en', 'version': '9.7', 'content_language': 'en', 'prioritized': False, 'grouped': False, 'pairwise': False, 'retirement': {'options': {'count': 1}, 'criteria': 'classification_count'}, 'retired_set_member_subjects_count': 0, 'href': '/workflows/23254', 'active': True, 'mobile_friendly': False, 'aggregation': {}, 'configuration': {'invert_subject': True}, 'public_gold_standard': False, 'completeness': 0.0, 'links': {'project': '19539', 'subject_sets': [], 'tutorial_subject': None, 'published_version': None, 'attached_images': {'href': '/workflows/23254/attached_images', 'type': 'attached_images', 'ids': []}, 'classifications_export': {'href': '/workflows/23254/classifications_export', 'type': 'classifications_exports'}}}], 'links': {'workflows.project': {'href': '/projects/{workflows.project}', 'type': 'projects'}, 'workflows.subject_sets': {'href': '/subject_sets?workflow_id={workflows.id}', 'type': 'subject_sets'}, 'workflows.tutorial_subject': {'href': '/subjects/{workflows.tutorial_subject}', 'type': 'tutorial_subjects'}, 'workflows.published_version': {'href': '/workflow_versions/{workflows.published_version}', 'type': 'published_versions'}, 'workflows.attached_images': {'href': '/workflows/{workflows.id}/attached_images', 'type': 'media'}, 'workflows.classifications_export': {'href': '/workflows/{workflows.id}/classifications_export', 'type': 'media'}}, 'meta': {'workflows': {'page': 1, 'page_size': 20, 'count': 1, 'include': [], 'page_count': 1, 'previous_page': None, 'next_page': None, 'first_href': '/workflows?project_id=19539', 'previous_href': None, 'next_href': None, 'last_href': '/workflows?project_id=19539'}}}, 'W/\"895bedcf30eaac5a14cc2f753bf2889c\"')\n",
      "\n",
      "\n",
      "Workflow : \n",
      "({'workflows': [{'id': '23254', 'display_name': 'Classification', 'tasks': {'T0': {'help': 'Is this a galaxy?', 'type': 'single', 'answers': [{'label': 'Yes'}, {'label': 'No'}], 'question': 'Is this a galaxy?', 'required': True}}, 'steps': [], 'classifications_count': 0, 'subjects_count': 200, 'created_at': '2023-01-05T16:59:46.979Z', 'updated_at': '2023-01-05T17:07:32.650Z', 'finished_at': None, 'first_task': 'T0', 'primary_language': 'en', 'version': '9.7', 'content_language': 'en', 'prioritized': False, 'grouped': False, 'pairwise': False, 'retirement': {'options': {'count': 1}, 'criteria': 'classification_count'}, 'retired_set_member_subjects_count': 0, 'href': '/workflows/23254', 'active': True, 'mobile_friendly': False, 'aggregation': {}, 'configuration': {'invert_subject': True}, 'public_gold_standard': False, 'completeness': 0.0, 'links': {'project': '19539', 'subject_sets': [], 'tutorial_subject': None, 'published_version': None, 'attached_images': {'href': '/workflows/23254/attached_images', 'type': 'attached_images', 'ids': []}, 'classifications_export': {'href': '/workflows/23254/classifications_export', 'type': 'classifications_exports'}}}], 'links': {'workflows.project': {'href': '/projects/{workflows.project}', 'type': 'projects'}, 'workflows.subject_sets': {'href': '/subject_sets?workflow_id={workflows.id}', 'type': 'subject_sets'}, 'workflows.tutorial_subject': {'href': '/subjects/{workflows.tutorial_subject}', 'type': 'tutorial_subjects'}, 'workflows.published_version': {'href': '/workflow_versions/{workflows.published_version}', 'type': 'published_versions'}, 'workflows.attached_images': {'href': '/workflows/{workflows.id}/attached_images', 'type': 'media'}, 'workflows.classifications_export': {'href': '/workflows/{workflows.id}/classifications_export', 'type': 'media'}}, 'meta': {'workflows': {'page': 1, 'page_size': 20, 'count': 1, 'include': [], 'page_count': 1, 'previous_page': None, 'next_page': None, 'first_href': '/workflows?id=23254', 'previous_href': None, 'next_href': None, 'last_href': '/workflows?id=23254'}}}, 'W/\"4c94a94e6d360565afc545f59dac0d7c\"')\n",
      "\n",
      "\n",
      "Classifications : \n",
      "({'workflows': [{'id': '23254', 'display_name': 'Classification', 'tasks': {'T0': {'help': 'Is this a galaxy?', 'type': 'single', 'answers': [{'label': 'Yes'}, {'label': 'No'}], 'question': 'Is this a galaxy?', 'required': True}}, 'steps': [], 'classifications_count': 0, 'subjects_count': 200, 'created_at': '2023-01-05T16:59:46.979Z', 'updated_at': '2023-01-05T17:07:32.650Z', 'finished_at': None, 'first_task': 'T0', 'primary_language': 'en', 'version': '9.7', 'content_language': 'en', 'prioritized': False, 'grouped': False, 'pairwise': False, 'retirement': {'options': {'count': 1}, 'criteria': 'classification_count'}, 'retired_set_member_subjects_count': 0, 'href': '/workflows/23254', 'active': True, 'mobile_friendly': False, 'aggregation': {}, 'configuration': {'invert_subject': True}, 'public_gold_standard': False, 'completeness': 0.0, 'links': {'project': '19539', 'subject_sets': [], 'tutorial_subject': None, 'published_version': None, 'attached_images': {'href': '/workflows/23254/attached_images', 'type': 'attached_images', 'ids': []}, 'classifications_export': {'href': '/workflows/23254/classifications_export', 'type': 'classifications_exports'}}}], 'links': {'workflows.project': {'href': '/projects/{workflows.project}', 'type': 'projects'}, 'workflows.subject_sets': {'href': '/subject_sets?workflow_id={workflows.id}', 'type': 'subject_sets'}, 'workflows.tutorial_subject': {'href': '/subjects/{workflows.tutorial_subject}', 'type': 'tutorial_subjects'}, 'workflows.published_version': {'href': '/workflow_versions/{workflows.published_version}', 'type': 'published_versions'}, 'workflows.attached_images': {'href': '/workflows/{workflows.id}/attached_images', 'type': 'media'}, 'workflows.classifications_export': {'href': '/workflows/{workflows.id}/classifications_export', 'type': 'media'}}, 'meta': {'workflows': {'page': 1, 'page_size': 20, 'count': 1, 'include': [], 'page_count': 1, 'previous_page': None, 'next_page': None, 'first_href': '/workflows?id=23254', 'previous_href': None, 'next_href': None, 'last_href': '/workflows?id=23254'}}}, 'W/\"4c94a94e6d360565afc545f59dac0d7c\"')\n"
     ]
    }
   ],
   "source": [
    "import panoptes_client\n",
    "client = panoptes_client.Panoptes.connect(login=\"interactive\")\n",
    "\n",
    "# The above should be happening already in the SDK cell\n",
    "\n",
    "###############################################################################################\n",
    "\n",
    "# First get the workflow ID from the Zooniverse API:\n",
    "\n",
    "clares_project_id = 19539\n",
    "sets = client.get(f\"/workflows?project_id={clares_project_id}\", {}, {\n",
    "  'Accept': 'application/vnd.api+json; version=1',\n",
    "  'Content-Type': 'application/json'\n",
    "})\n",
    "\n",
    "print(\"Sets : \")\n",
    "print(sets)\n",
    "\n",
    "# Then get the href/URL for the workflow classification output:\n",
    "\n",
    "workflow_id = '23254' # change this workflow.id found in the above print(sets) output\n",
    "workflow = client.get(f\"/workflows/{workflow_id}\", {}, {\n",
    "  'Accept': 'application/vnd.api+json; version=1',\n",
    "  'Content-Type': 'application/json'\n",
    "})\n",
    "\n",
    "print(\"\\n\\nWorkflow : \")\n",
    "print(workflow)\n",
    "\n",
    "# Then attempt to retrieve the classification export:\n",
    "\n",
    "classification_export_href = '/workflows/23254' # Change this to the workflows.classifications_export.href value in the above print(workflow) output\n",
    "\n",
    "# The below line fails for eric\n",
    "classification = client.get(classification_export_href, {}, {\n",
    "  'Accept': 'application/vnd.api+json; version=1',\n",
    "  'Content-Type': 'application/json'\n",
    "})\n",
    "\n",
    "print(\"\\n\\nClassifications : \")\n",
    "print(classification) "
   ]
  },
  {
   "cell_type": "code",
   "execution_count": 23,
   "id": "7ff2af3a-8a0b-4c6d-802d-270898bdfaf3",
   "metadata": {
    "execution": {
     "iopub.execute_input": "2023-04-07T20:21:09.109763Z",
     "iopub.status.busy": "2023-04-07T20:21:09.109005Z",
     "iopub.status.idle": "2023-04-07T20:21:09.113140Z",
     "shell.execute_reply": "2023-04-07T20:21:09.112550Z",
     "shell.execute_reply.started": "2023-04-07T20:21:09.109738Z"
    },
    "tags": []
   },
   "outputs": [
    {
     "name": "stdout",
     "output_type": "stream",
     "text": [
      "({'workflows': [{'id': '23254', 'display_name': 'Classification', 'tasks': {'T0': {'help': 'Is this a galaxy?', 'type': 'single', 'answers': [{'label': 'Yes'}, {'label': 'No'}], 'question': 'Is this a galaxy?', 'required': True}}, 'steps': [], 'classifications_count': 0, 'subjects_count': 200, 'created_at': '2023-01-05T16:59:46.979Z', 'updated_at': '2023-01-05T17:07:32.650Z', 'finished_at': None, 'first_task': 'T0', 'primary_language': 'en', 'version': '9.7', 'content_language': 'en', 'prioritized': False, 'grouped': False, 'pairwise': False, 'retirement': {'options': {'count': 1}, 'criteria': 'classification_count'}, 'retired_set_member_subjects_count': 0, 'href': '/workflows/23254', 'active': True, 'mobile_friendly': False, 'aggregation': {}, 'configuration': {'invert_subject': True}, 'public_gold_standard': False, 'completeness': 0.0, 'links': {'project': '19539', 'subject_sets': [], 'tutorial_subject': None, 'published_version': None, 'attached_images': {'href': '/workflows/23254/attached_images', 'type': 'attached_images', 'ids': []}, 'classifications_export': {'href': '/workflows/23254/classifications_export', 'type': 'classifications_exports'}}}], 'links': {'workflows.project': {'href': '/projects/{workflows.project}', 'type': 'projects'}, 'workflows.subject_sets': {'href': '/subject_sets?workflow_id={workflows.id}', 'type': 'subject_sets'}, 'workflows.tutorial_subject': {'href': '/subjects/{workflows.tutorial_subject}', 'type': 'tutorial_subjects'}, 'workflows.published_version': {'href': '/workflow_versions/{workflows.published_version}', 'type': 'published_versions'}, 'workflows.attached_images': {'href': '/workflows/{workflows.id}/attached_images', 'type': 'media'}, 'workflows.classifications_export': {'href': '/workflows/{workflows.id}/classifications_export', 'type': 'media'}}, 'meta': {'workflows': {'page': 1, 'page_size': 20, 'count': 1, 'include': [], 'page_count': 1, 'previous_page': None, 'next_page': None, 'first_href': '/workflows?id=23254', 'previous_href': None, 'next_href': None, 'last_href': '/workflows?id=23254'}}}, 'W/\"4c94a94e6d360565afc545f59dac0d7c\"')\n"
     ]
    }
   ],
   "source": [
    "print(classification)"
   ]
  },
  {
   "cell_type": "code",
   "execution_count": null,
   "id": "3243f1ac-1f8c-47c4-8770-ec20d21e6aee",
   "metadata": {},
   "outputs": [],
   "source": []
  }
 ],
 "metadata": {
  "kernelspec": {
   "display_name": "LSST",
   "language": "python",
   "name": "lsst"
  },
  "language_info": {
   "codemirror_mode": {
    "name": "ipython",
    "version": 3
   },
   "file_extension": ".py",
   "mimetype": "text/x-python",
   "name": "python",
   "nbconvert_exporter": "python",
   "pygments_lexer": "ipython3",
   "version": "3.10.9"
  }
 },
 "nbformat": 4,
 "nbformat_minor": 5
}
