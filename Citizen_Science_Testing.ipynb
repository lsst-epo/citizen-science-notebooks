{
 "cells": [
  {
   "cell_type": "markdown",
   "id": "4ca66653-c815-47a4-af85-65b646a67e57",
   "metadata": {},
   "source": [
    "<img align=\"left\" src = https://project.lsst.org/sites/default/files/Rubin-O-Logo_0.png width=250 style=\"padding: 10px\"> \n",
    "<b>Citzen Science Notebook</b> <br>\n",
    "Contact author: Clare Higgs & Eric Rosas <br>\n",
    "Last verified to run: 2022-10-20 <br>\n",
    "LSST Science Piplines version: Weekly 2022_40 <br>\n",
    "Container size: medium <br>\n"
   ]
  },
  {
   "cell_type": "markdown",
   "id": "6f8b563e-c151-476e-8ef0-9e8088d1ec61",
   "metadata": {},
   "source": [
    "## 1.0 Introduction\n",
    "This notebook is intended to guide a PI through the process of sending data from the Rubin Science Platform (RSP) to the Zooniverse.\n",
    "A detailed guide to Citizen Science projects, outlining the process, requirements and support available is here: (*link to citscipiguide*)\n",
    "The data sent can be currated on the RSP as a necessary and take many forms. Here, we include an example of sending png cutout images. \n",
    "We encourage PIs new to the Rubin dataset to explore the tutorial notebooks and documentation.\n",
    "\n",
    "As explained in the guide, this notebook will restrict the number of object sent to the Zooniverse to 100 objects. This limit is intended to demonstrate your project prior to full approval from the EPO Data Rights Panel. \n",
    "\n",
    "Support is available and questions are welcome - (*some email/link etc*)\n",
    "\n",
    "\n",
    "**DEBUG VERSION note that this version of the notebook contains additional debugging and the first cell will need to be run once**"
   ]
  },
  {
   "cell_type": "markdown",
   "id": "b108a439-1f3e-4962-adeb-ce144a8d8be7",
   "metadata": {},
   "source": [
    "### Log in to the Zooniverse Platform & Activate Citizen Science SDK\n",
    "\n",
    "If you haven't already, create a Zooniverse account here. and create your project. Your project must be set to \"public\". To set your project to public, select the \"Visibility\" tab. Note you will need to enter your username, password, and project slug below.\n",
    "\n",
    "After creating your account and project, return to this notebook.\n",
    "\n",
    "---\n",
    "\n",
    "Supply your email and project slug below. \n",
    "\n",
    "A \"slug\" is the string of your Zooniverse username and your project name without the leading forward slash, for instance: \"username/project-name\". \n",
    "\n",
    "For more details, see: https://www.zooniverse.org/talk/18/967061?comment=1898157&page=1.\n",
    "\n",
    "IMPORTANT: Your Zooniverse project must be set to \"public\", a \"private\" project will not work. Select this setting under the \"Visibility\" tab, (it does not need to be set to live). The following code will not work if you have not authenticated in the cell titled \"Log in to Zooniverse\"."
   ]
  },
  {
   "cell_type": "code",
   "execution_count": 1,
   "id": "0edb67a4-1508-4b90-872c-8c42e642126b",
   "metadata": {
    "execution": {
     "iopub.execute_input": "2023-04-21T14:11:32.592907Z",
     "iopub.status.busy": "2023-04-21T14:11:32.592561Z",
     "iopub.status.idle": "2023-04-21T14:11:48.424885Z",
     "shell.execute_reply": "2023-04-21T14:11:48.424219Z",
     "shell.execute_reply.started": "2023-04-21T14:11:32.592887Z"
    },
    "tags": []
   },
   "outputs": [
    {
     "name": "stdout",
     "output_type": "stream",
     "text": [
      "Installing external dependencies...\n",
      "Done installing external dependencies!\n",
      "Enter your Zooniverse credentials...\n"
     ]
    },
    {
     "name": "stdin",
     "output_type": "stream",
     "text": [
      "Username:  rebecca.nevin\n",
      " ········\n"
     ]
    },
    {
     "name": "stdout",
     "output_type": "stream",
     "text": [
      "You now are logged in to the Zooniverse platform.\n",
      "Loaded Citizen Science SDK\n"
     ]
    }
   ],
   "source": [
    "email = \"beckynevin@gmail.com\" # Please continue to use the same email address moving forward, as this is how we associate \n",
    "slugName = \"rebecca-dot-nevin/test-project\" # Replace this placholder text with your slug name, do not include the leading forward-slash\n",
    "%run Citizen_Science_SDK.ipynb"
   ]
  },
  {
   "cell_type": "markdown",
   "id": "36dbc0bb-19c3-4d3f-8a06-3150c7517fcd",
   "metadata": {},
   "source": [
    "## 2.0 Make a Subject Set to Send\n",
    "\n",
    "Here, the subject set of objects to send to Zooniverse should be curated. This can (and should!) be modified to create your own subject set. Your subject set must have 100 objects or less in the testing phase before your project is approved by the EPO Data Rights panel. \n",
    "\n",
    "Currently, this example makes a set of image cutouts of extended sources. "
   ]
  },
  {
   "cell_type": "code",
   "execution_count": 4,
   "id": "ee20b45b-ec67-4058-9c50-7c0ce68764aa",
   "metadata": {
    "execution": {
     "iopub.execute_input": "2023-04-21T14:17:07.499312Z",
     "iopub.status.busy": "2023-04-21T14:17:07.498673Z",
     "iopub.status.idle": "2023-04-21T14:17:11.442987Z",
     "shell.execute_reply": "2023-04-21T14:17:11.442275Z",
     "shell.execute_reply.started": "2023-04-21T14:17:07.499281Z"
    },
    "tags": []
   },
   "outputs": [],
   "source": [
    "import utils\n",
    "\n",
    "config = 'dp02'\n",
    "collection = '2.2i/runs/DP0.2'\n",
    "service, butler, skymap = utils.setup_butler(config, collection)   "
   ]
  },
  {
   "cell_type": "code",
   "execution_count": null,
   "id": "a82ef1a9-4835-4aeb-afdf-accaaf7e3007",
   "metadata": {
    "tags": []
   },
   "outputs": [],
   "source": [
    "max_rec=5 # make 100 for full subject set test\n",
    "use_center_coords = \"62, -37\"\n",
    "use_radius = \"1.0\""
   ]
  },
  {
   "cell_type": "markdown",
   "id": "8e240d4a-f8d3-4837-923f-12be9bff5f79",
   "metadata": {},
   "source": [
    "Query can be modified to other sources - currently just selecting 10 objects (change max_rec above)"
   ]
  },
  {
   "cell_type": "code",
   "execution_count": null,
   "id": "119358cc-5244-4984-872c-a6311052d9c8",
   "metadata": {
    "tags": []
   },
   "outputs": [],
   "source": [
    "query = \"SELECT TOP \" + str(max_rec) + \" \" + \\\n",
    "        \"objectId, coord_ra, coord_dec, detect_isPrimary \" + \\\n",
    "        \"g_cModelFlux, r_cModelFlux, r_extendedness, r_inputCount \" + \\\n",
    "        \"FROM dp02_dc2_catalogs.Object \" + \\\n",
    "        \"WHERE CONTAINS(POINT('ICRS', coord_ra, coord_dec), \" + \\\n",
    "        \"CIRCLE('ICRS', \" + use_center_coords + \", \" + use_radius + \")) = 1 \" + \\\n",
    "        \"AND detect_isPrimary = 1 \" + \\\n",
    "        \"AND r_extendedness = 1 \" + \\\n",
    "        \"AND scisql_nanojanskyToAbMag(r_cModelFlux) < 18.0 \" + \\\n",
    "        \"ORDER by r_cModelFlux DESC\"\n",
    "results = service.search(query)\n",
    "assert len(results) == max_rec"
   ]
  },
  {
   "cell_type": "code",
   "execution_count": null,
   "id": "9bf4c80e-4402-4f0f-abe1-a6cd5ce6587c",
   "metadata": {
    "tags": []
   },
   "outputs": [],
   "source": [
    "results_table = results.to_table().to_pandas()\n",
    "results_table['dataId'] = results_table.apply(lambda x: utils.get_bandtractpatch(x['coord_ra'], x['coord_dec'], skymap), axis=1)"
   ]
  },
  {
   "cell_type": "markdown",
   "id": "6422604f-0b48-4d81-a40b-a04f3434cfac",
   "metadata": {},
   "source": [
    "### Additional Data to Send\n",
    "You may desire to send additional data in addition to the image cutout. The fields represented as strings within the `fields_to_add` array will be sent along with each image. If there are any fields that you do not need then feel free to remove them from the array.\n",
    "\n",
    "__Note:__ : Object ID is always included."
   ]
  },
  {
   "cell_type": "code",
   "execution_count": null,
   "id": "8a8b74ee-828f-432e-b8f8-68674749cea5",
   "metadata": {
    "tags": []
   },
   "outputs": [],
   "source": [
    "# In-memory manifest file as an array of dicts\n",
    "manifest = []\n",
    "\n",
    "# Specify the directory that the cutouts will be output to:\n",
    "batch_dir = \"./cutouts/\"\n",
    "\n",
    "# Create directory if it does not already exist\n",
    "if os.path.isdir(batch_dir) == False:\n",
    "    os.mkdir(batch_dir)\n",
    "\n",
    "# Loop over results_table, or any other iterable provided by the PI:\n",
    "for index, row in results_table.iterrows():\n",
    "    # Use the Butler to get data based on the data within the iterable\n",
    "    deepCoadd = butler.get('deepCoadd', dataId=row['dataId'])\n",
    "    filename = \"cutout\"+str(row['objectId'])+\".png\"\n",
    "    figout = utils.make_figure(deepCoadd, batch_dir + filename)\n",
    "    \n",
    "    # Create the CSV-file-row-as-dict \n",
    "    csv_row = {\n",
    "        \"filename\": filename, # required column, do not change the column name\n",
    "        \"sourceId\": row.objectId, # required column, do not change the column name\n",
    "        # Add your desired columns:\n",
    "        \"coord_ra\": row.coord_ra,\n",
    "        \"coord_dec\": row.coord_dec,\n",
    "        \"g_cModelFlux\": row.g_cModelFlux,\n",
    "        \"r_cModelFlux\": row.r_cModelFlux,\n",
    "        \"r_extendedness\": row.r_extendedness,\n",
    "        \"r_inputCount\": row.r_inputCount\n",
    "    }\n",
    "    manifest.append(csv_row)\n",
    "    utils.remove_figure(figout)\n",
    "    "
   ]
  },
  {
   "cell_type": "markdown",
   "id": "320f390d-578a-4151-8cbd-f34954bbbb33",
   "metadata": {
    "tags": []
   },
   "source": [
    "## 3.0 Preparing the Manifest File\n",
    "\n",
    "The manifest file _must_ abide by [RFC4180](https://datatracker.ietf.org/doc/html/rfc4180.html) as the backend service that parses the manifest file expects that this is so. In addition, you may have a column with no values, but there _must_ be an empty column value indicated with a comma. E.g.:\n",
    "\n",
    "Valid syntax for empty column:\n",
    "```\n",
    "column1,column2,empty_column,column4\n",
    "1,1,,4\n",
    "1,1,,4\n",
    "1,1,,4\n",
    "```\n",
    "\n",
    "**Important!**: The manifest file must be named `metadata.csv` in order for the processing on the backend to work correctly!"
   ]
  },
  {
   "cell_type": "markdown",
   "id": "1a14e18a-22fe-4c84-a05a-17c248fdee1b",
   "metadata": {
    "tags": []
   },
   "source": [
    "### Option 1: Write the manifest file to the filesystem automatically\n",
    "\n",
    "Running the below cell should take care of writing the `metadata.csv` file to the filesystem, which will ultimately be used as the manifest file by Zooniverse. You are welcome to edit the automatically created manifest file, just ensure that it's format abides by RFC4180.\n"
   ]
  },
  {
   "cell_type": "code",
   "execution_count": null,
   "id": "c2605029-f988-4d7c-991d-82aabb60e07b",
   "metadata": {
    "tags": []
   },
   "outputs": [],
   "source": [
    "manifest_path = write_metadata_file(manifest, batch_dir)\n",
    "\n",
    "print(\"The manifest CSV file can be found at the following relative path:\")\n",
    "print(manifest_path)"
   ]
  },
  {
   "cell_type": "markdown",
   "id": "c3309b77-ebe1-4f09-bd30-924df77369dc",
   "metadata": {
    "tags": []
   },
   "source": [
    "### Option 2: Specify the path to your own manifest file\n",
    "If desirable, specify the manifest CSV file manually. This is a simple matter of ensuring that it is named `metadata.csv` and placed in the `./cutouts/` folder (or whatever you renamed the `batch_dir` variable to)"
   ]
  },
  {
   "cell_type": "markdown",
   "id": "76e65f2f-f161-480d-ad8e-26f977136c64",
   "metadata": {},
   "source": [
    "## 4.0 Send the cutouts to Zooniverse\n",
    "\n",
    "Send your subject set to the Zooniverse. This cell will let you send one subject set. If you already have a set on Zooniverse, it will notify you and fail. If you want to send more data, delete what is on the Zooniverse and send again. You *may* get a warning that your set still exists or a \"Could not find subject_set with id=' '\" error. If so, wait (~10min) and try again, as Zooniverse takes a minute to process your changes. You may also have re-run the \"Look up your project cell\". Don't click the below cell multiple times, the upload will fail if multiple runs are attempted.\n",
    "\n",
    "It has successfully worked if you get nofication and an email saying your data has been sent."
   ]
  },
  {
   "cell_type": "markdown",
   "id": "b5e1886b-0b90-4214-8dc4-037fa87a28b4",
   "metadata": {},
   "source": [
    "### Name the new subject set\n",
    "Name your subject set as it will appear on the Zooniverse. Try not to reuse names. "
   ]
  },
  {
   "cell_type": "code",
   "execution_count": null,
   "id": "9cb27552-1f98-4930-a72f-1a09f1118834",
   "metadata": {
    "tags": []
   },
   "outputs": [],
   "source": [
    "subject_set_name = \"set_2\"\n",
    "subject_set_name"
   ]
  },
  {
   "cell_type": "code",
   "execution_count": null,
   "id": "7af45f7d-192d-4215-9b00-512afd11590f",
   "metadata": {
    "tags": []
   },
   "outputs": [],
   "source": [
    "__cit_sci_data_type = _HIPS_CUTOUTS # Important: DO NOT change this value. Update - this value may be changed.\n",
    "send_data(subject_set_name, batch_dir, manifest)"
   ]
  },
  {
   "cell_type": "code",
   "execution_count": null,
   "id": "e2155f27-e2c5-4ae1-9386-8bfbe40389ee",
   "metadata": {
    "tags": []
   },
   "outputs": [],
   "source": [
    "batch_dir"
   ]
  },
  {
   "cell_type": "markdown",
   "id": "820c7931-260a-48f9-831f-ce23f8906c04",
   "metadata": {},
   "source": [
    "## Download Batch Metadata\n",
    "This functionality is in an experimental/alpha state and as such unexpected behavior may occur. Do not attempt to run this cell without first running the top cell in this notebook that prompts you to log in to the Zooniverse platform."
   ]
  },
  {
   "cell_type": "code",
   "execution_count": null,
   "id": "14a625ef-9952-4d59-97fe-fa6c874a60d4",
   "metadata": {},
   "outputs": [],
   "source": [
    "test = download_batch_metadata()\n",
    "test"
   ]
  },
  {
   "cell_type": "markdown",
   "id": "a67d0b65-3ff9-44b3-9a8c-50749642b503",
   "metadata": {},
   "source": [
    "### Explicitly check the status of your data batch\n",
    "Is the send_data() call above stalling on \"Notifying the Rubin EPO Data Center...\" step? Run the below cell every few minutes to check the status of your data. Large datasets can cause the response to get lost, but that does not necessarily mean that your data was not sent to Zooniverse."
   ]
  },
  {
   "cell_type": "code",
   "execution_count": null,
   "id": "085e54d1-4872-4467-988c-8f2ac87f9850",
   "metadata": {},
   "outputs": [],
   "source": [
    "res = check_status()\n",
    "print(\"Status:\")\n",
    "print(res[\"status\"])\n",
    "print(\"Manifest:\")\n",
    "print(res[\"manifest_url\"])\n",
    "print(\"Messages:\")\n",
    "print(res[\"messages\"])\n",
    "if res[\"status\"] == \"success\":\n",
    "    global manifest_url\n",
    "    manifest_url = res[\"manifest_url\"]\n",
    "    send_zooniverse_manifest()"
   ]
  },
  {
   "cell_type": "markdown",
   "id": "dc25572f-5f14-46c6-8883-ac95e3aa072c",
   "metadata": {},
   "source": [
    "## Retrieve the data\n",
    "There are two ways to do this:\n",
    "1) By directly going to your Zooniverse project and downloading the output csv files found on the 'Data Exports' tab. Click the 'Request new classification report' button and per Zooniverse: \"Please note some exports may take a long time to process. We will email you when they are ready. You can only request one of each export within a 24-hour time period.\"\n",
    "2) Programatically (as we show below):"
   ]
  },
  {
   "cell_type": "code",
   "execution_count": 5,
   "id": "ff6fa05d-7ba5-4410-b89c-29bf589dd173",
   "metadata": {
    "execution": {
     "iopub.execute_input": "2023-04-21T14:17:15.513061Z",
     "iopub.status.busy": "2023-04-21T14:17:15.512734Z",
     "iopub.status.idle": "2023-04-21T14:17:20.655570Z",
     "shell.execute_reply": "2023-04-21T14:17:20.654874Z",
     "shell.execute_reply.started": "2023-04-21T14:17:15.513037Z"
    },
    "tags": []
   },
   "outputs": [
    {
     "name": "stdout",
     "output_type": "stream",
     "text": [
      "Enter your Zooniverse credentials...\n"
     ]
    },
    {
     "name": "stdin",
     "output_type": "stream",
     "text": [
      "Username:  rebecca.nevin\n",
      " ········\n"
     ]
    },
    {
     "name": "stdout",
     "output_type": "stream",
     "text": [
      "   classification_id      user_name  user_id               user_ip  \\\n",
      "0          460251424  rebecca.nevin  1946584  cbfbf6eb78413a32bf60   \n",
      "1          460251464  rebecca.nevin  1946584  cbfbf6eb78413a32bf60   \n",
      "2          460251470       sreevani  1672374  7a7b641fa98e42d34bde   \n",
      "3          460251475  rebecca.nevin  1946584  cbfbf6eb78413a32bf60   \n",
      "4          460251484  rebecca.nevin  1946584  cbfbf6eb78413a32bf60   \n",
      "5          460251498  rebecca.nevin  1946584  cbfbf6eb78413a32bf60   \n",
      "6          460251507       sreevani  1672374  7a7b641fa98e42d34bde   \n",
      "7          460251508  rebecca.nevin  1946584  cbfbf6eb78413a32bf60   \n",
      "8          460251529  rebecca.nevin  1946584  cbfbf6eb78413a32bf60   \n",
      "9          460251542  rebecca.nevin  1946584  cbfbf6eb78413a32bf60   \n",
      "10         460251551  rebecca.nevin  1946584  cbfbf6eb78413a32bf60   \n",
      "11         460251562  rebecca.nevin  1946584  cbfbf6eb78413a32bf60   \n",
      "12         460251572  rebecca.nevin  1946584  cbfbf6eb78413a32bf60   \n",
      "13         460251578  rebecca.nevin  1946584  cbfbf6eb78413a32bf60   \n",
      "14         460251586  rebecca.nevin  1946584  cbfbf6eb78413a32bf60   \n",
      "15         460251591       sreevani  1672374  7a7b641fa98e42d34bde   \n",
      "16         460251628       sreevani  1672374  7a7b641fa98e42d34bde   \n",
      "17         460251730       sreevani  1672374  7a7b641fa98e42d34bde   \n",
      "18         460252017  rebecca.nevin  1946584  cbfbf6eb78413a32bf60   \n",
      "19         460252026       sreevani  1672374  7a7b641fa98e42d34bde   \n",
      "20         460252033  rebecca.nevin  1946584  cbfbf6eb78413a32bf60   \n",
      "21         460252218  rebecca.nevin  1946584  cbfbf6eb78413a32bf60   \n",
      "22         460252229  rebecca.nevin  1946584  cbfbf6eb78413a32bf60   \n",
      "23         460252306  rebecca.nevin  1946584  cbfbf6eb78413a32bf60   \n",
      "24         460252318  rebecca.nevin  1946584  cbfbf6eb78413a32bf60   \n",
      "25         460252330  rebecca.nevin  1946584  cbfbf6eb78413a32bf60   \n",
      "26         460252338  rebecca.nevin  1946584  cbfbf6eb78413a32bf60   \n",
      "27         460252349  rebecca.nevin  1946584  cbfbf6eb78413a32bf60   \n",
      "28         460252358  rebecca.nevin  1946584  cbfbf6eb78413a32bf60   \n",
      "29         460252388  rebecca.nevin  1946584  cbfbf6eb78413a32bf60   \n",
      "30         460252838  rebecca.nevin  1946584  cbfbf6eb78413a32bf60   \n",
      "31         460252855  rebecca.nevin  1946584  cbfbf6eb78413a32bf60   \n",
      "32         460252872  rebecca.nevin  1946584  cbfbf6eb78413a32bf60   \n",
      "\n",
      "   workflow_id   workflow_name workflow_version               created_at  \\\n",
      "0        23254  Classification              9.7  2023-01-05 17:09:18 UTC   \n",
      "1        23254  Classification              9.7  2023-01-05 17:09:27 UTC   \n",
      "2        23254  Classification              9.7  2023-01-05 17:09:29 UTC   \n",
      "3        23254  Classification              9.7  2023-01-05 17:09:30 UTC   \n",
      "4        23254  Classification              9.7  2023-01-05 17:09:32 UTC   \n",
      "5        23254  Classification              9.7  2023-01-05 17:09:34 UTC   \n",
      "6        23254  Classification              9.7  2023-01-05 17:09:36 UTC   \n",
      "7        23254  Classification              9.7  2023-01-05 17:09:37 UTC   \n",
      "8        23254  Classification              9.7  2023-01-05 17:09:40 UTC   \n",
      "9        23254  Classification              9.7  2023-01-05 17:09:42 UTC   \n",
      "10       23254  Classification              9.7  2023-01-05 17:09:44 UTC   \n",
      "11       23254  Classification              9.7  2023-01-05 17:09:47 UTC   \n",
      "12       23254  Classification              9.7  2023-01-05 17:09:49 UTC   \n",
      "13       23254  Classification              9.7  2023-01-05 17:09:51 UTC   \n",
      "14       23254  Classification              9.7  2023-01-05 17:09:53 UTC   \n",
      "15       23254  Classification              9.7  2023-01-05 17:09:54 UTC   \n",
      "16       23254  Classification              9.7  2023-01-05 17:10:03 UTC   \n",
      "17       23254  Classification              9.7  2023-01-05 17:10:34 UTC   \n",
      "18       23254  Classification              9.7  2023-01-05 17:12:10 UTC   \n",
      "19       23254  Classification              9.7  2023-01-05 17:12:12 UTC   \n",
      "20       23254  Classification              9.7  2023-01-05 17:12:15 UTC   \n",
      "21       23254  Classification              9.7  2023-01-05 17:13:14 UTC   \n",
      "22       23254  Classification              9.7  2023-01-05 17:13:19 UTC   \n",
      "23       23254  Classification              9.7  2023-01-05 17:13:41 UTC   \n",
      "24       23254  Classification              9.7  2023-01-05 17:13:44 UTC   \n",
      "25       23254  Classification              9.7  2023-01-05 17:13:48 UTC   \n",
      "26       23254  Classification              9.7  2023-01-05 17:13:52 UTC   \n",
      "27       23254  Classification              9.7  2023-01-05 17:13:55 UTC   \n",
      "28       23254  Classification              9.7  2023-01-05 17:13:57 UTC   \n",
      "29       23254  Classification              9.7  2023-01-05 17:14:05 UTC   \n",
      "30       23254  Classification              9.7  2023-01-05 17:16:35 UTC   \n",
      "31       23254  Classification              9.7  2023-01-05 17:16:40 UTC   \n",
      "32       23254  Classification              9.7  2023-01-05 17:16:44 UTC   \n",
      "\n",
      "   gold_standard expert                                           metadata  \\\n",
      "0                        {\"source\":\"api\",\"session\":\"17680efb53f0c9ec4a9...   \n",
      "1                        {\"source\":\"api\",\"session\":\"17680efb53f0c9ec4a9...   \n",
      "2                        {\"source\":\"api\",\"session\":\"faf6ac09286ac159d2d...   \n",
      "3                        {\"source\":\"api\",\"session\":\"17680efb53f0c9ec4a9...   \n",
      "4                        {\"source\":\"api\",\"session\":\"17680efb53f0c9ec4a9...   \n",
      "5                        {\"source\":\"api\",\"session\":\"17680efb53f0c9ec4a9...   \n",
      "6                        {\"source\":\"api\",\"session\":\"faf6ac09286ac159d2d...   \n",
      "7                        {\"source\":\"api\",\"session\":\"17680efb53f0c9ec4a9...   \n",
      "8                        {\"source\":\"api\",\"session\":\"17680efb53f0c9ec4a9...   \n",
      "9                        {\"source\":\"api\",\"session\":\"17680efb53f0c9ec4a9...   \n",
      "10                       {\"source\":\"api\",\"session\":\"17680efb53f0c9ec4a9...   \n",
      "11                       {\"source\":\"api\",\"session\":\"17680efb53f0c9ec4a9...   \n",
      "12                       {\"source\":\"api\",\"session\":\"17680efb53f0c9ec4a9...   \n",
      "13                       {\"source\":\"api\",\"session\":\"17680efb53f0c9ec4a9...   \n",
      "14                       {\"source\":\"api\",\"session\":\"17680efb53f0c9ec4a9...   \n",
      "15                       {\"source\":\"api\",\"session\":\"faf6ac09286ac159d2d...   \n",
      "16                       {\"source\":\"api\",\"session\":\"faf6ac09286ac159d2d...   \n",
      "17                       {\"source\":\"api\",\"session\":\"faf6ac09286ac159d2d...   \n",
      "18                       {\"source\":\"api\",\"session\":\"17680efb53f0c9ec4a9...   \n",
      "19                       {\"source\":\"api\",\"session\":\"faf6ac09286ac159d2d...   \n",
      "20                       {\"source\":\"api\",\"session\":\"17680efb53f0c9ec4a9...   \n",
      "21                       {\"source\":\"api\",\"session\":\"17680efb53f0c9ec4a9...   \n",
      "22                       {\"source\":\"api\",\"session\":\"17680efb53f0c9ec4a9...   \n",
      "23                       {\"source\":\"api\",\"session\":\"fbccd7eed6a5fb4904f...   \n",
      "24                       {\"source\":\"api\",\"session\":\"fbccd7eed6a5fb4904f...   \n",
      "25                       {\"source\":\"api\",\"session\":\"fbccd7eed6a5fb4904f...   \n",
      "26                       {\"source\":\"api\",\"session\":\"fbccd7eed6a5fb4904f...   \n",
      "27                       {\"source\":\"api\",\"session\":\"fbccd7eed6a5fb4904f...   \n",
      "28                       {\"source\":\"api\",\"session\":\"fbccd7eed6a5fb4904f...   \n",
      "29                       {\"source\":\"api\",\"session\":\"fbccd7eed6a5fb4904f...   \n",
      "30                       {\"source\":\"api\",\"session\":\"18486065bb961c2f1bd...   \n",
      "31                       {\"source\":\"api\",\"session\":\"18486065bb961c2f1bd...   \n",
      "32                       {\"source\":\"api\",\"session\":\"18486065bb961c2f1bd...   \n",
      "\n",
      "                                          annotations  \\\n",
      "0   [{\"task\":\"T0\",\"task_label\":\"Is this a galaxy?\"...   \n",
      "1   [{\"task\":\"T0\",\"task_label\":\"Is this a galaxy?\"...   \n",
      "2   [{\"task\":\"T0\",\"task_label\":\"Is this a galaxy?\"...   \n",
      "3   [{\"task\":\"T0\",\"task_label\":\"Is this a galaxy?\"...   \n",
      "4   [{\"task\":\"T0\",\"task_label\":\"Is this a galaxy?\"...   \n",
      "5   [{\"task\":\"T0\",\"task_label\":\"Is this a galaxy?\"...   \n",
      "6   [{\"task\":\"T0\",\"task_label\":\"Is this a galaxy?\"...   \n",
      "7   [{\"task\":\"T0\",\"task_label\":\"Is this a galaxy?\"...   \n",
      "8   [{\"task\":\"T0\",\"task_label\":\"Is this a galaxy?\"...   \n",
      "9   [{\"task\":\"T0\",\"task_label\":\"Is this a galaxy?\"...   \n",
      "10  [{\"task\":\"T0\",\"task_label\":\"Is this a galaxy?\"...   \n",
      "11  [{\"task\":\"T0\",\"task_label\":\"Is this a galaxy?\"...   \n",
      "12  [{\"task\":\"T0\",\"task_label\":\"Is this a galaxy?\"...   \n",
      "13  [{\"task\":\"T0\",\"task_label\":\"Is this a galaxy?\"...   \n",
      "14  [{\"task\":\"T0\",\"task_label\":\"Is this a galaxy?\"...   \n",
      "15  [{\"task\":\"T0\",\"task_label\":\"Is this a galaxy?\"...   \n",
      "16  [{\"task\":\"T0\",\"task_label\":\"Is this a galaxy?\"...   \n",
      "17  [{\"task\":\"T0\",\"task_label\":\"Is this a galaxy?\"...   \n",
      "18  [{\"task\":\"T0\",\"task_label\":\"Is this a galaxy?\"...   \n",
      "19  [{\"task\":\"T0\",\"task_label\":\"Is this a galaxy?\"...   \n",
      "20  [{\"task\":\"T0\",\"task_label\":\"Is this a galaxy?\"...   \n",
      "21  [{\"task\":\"T0\",\"task_label\":\"Is this a galaxy?\"...   \n",
      "22  [{\"task\":\"T0\",\"task_label\":\"Is this a galaxy?\"...   \n",
      "23  [{\"task\":\"T0\",\"task_label\":\"Is this a galaxy?\"...   \n",
      "24  [{\"task\":\"T0\",\"task_label\":\"Is this a galaxy?\"...   \n",
      "25  [{\"task\":\"T0\",\"task_label\":\"Is this a galaxy?\"...   \n",
      "26  [{\"task\":\"T0\",\"task_label\":\"Is this a galaxy?\"...   \n",
      "27  [{\"task\":\"T0\",\"task_label\":\"Is this a galaxy?\"...   \n",
      "28  [{\"task\":\"T0\",\"task_label\":\"Is this a galaxy?\"...   \n",
      "29  [{\"task\":\"T0\",\"task_label\":\"Is this a galaxy?\"...   \n",
      "30  [{\"task\":\"T0\",\"task_label\":\"Is this a galaxy?\"...   \n",
      "31  [{\"task\":\"T0\",\"task_label\":\"Is this a galaxy?\"...   \n",
      "32  [{\"task\":\"T0\",\"task_label\":\"Is this a galaxy?\"...   \n",
      "\n",
      "                     subject_data subject_ids  \n",
      "0   {\"83428507\":{\"retired\":null}}    83428507  \n",
      "1   {\"83428528\":{\"retired\":null}}    83428528  \n",
      "2   {\"83428673\":{\"retired\":null}}    83428673  \n",
      "3   {\"83428522\":{\"retired\":null}}    83428522  \n",
      "4   {\"83428624\":{\"retired\":null}}    83428624  \n",
      "5   {\"83428488\":{\"retired\":null}}    83428488  \n",
      "6   {\"83428610\":{\"retired\":null}}    83428610  \n",
      "7   {\"83428619\":{\"retired\":null}}    83428619  \n",
      "8   {\"83428583\":{\"retired\":null}}    83428583  \n",
      "9   {\"83428592\":{\"retired\":null}}    83428592  \n",
      "10  {\"83428578\":{\"retired\":null}}    83428578  \n",
      "11  {\"83428626\":{\"retired\":null}}    83428626  \n",
      "12  {\"83428649\":{\"retired\":null}}    83428649  \n",
      "13  {\"83428516\":{\"retired\":null}}    83428516  \n",
      "14  {\"83428615\":{\"retired\":null}}    83428615  \n",
      "15  {\"83428676\":{\"retired\":null}}    83428676  \n",
      "16  {\"83428515\":{\"retired\":null}}    83428515  \n",
      "17  {\"83428561\":{\"retired\":null}}    83428561  \n",
      "18  {\"83428608\":{\"retired\":null}}    83428608  \n",
      "19  {\"83428551\":{\"retired\":null}}    83428551  \n",
      "20  {\"83428576\":{\"retired\":null}}    83428576  \n",
      "21  {\"83428504\":{\"retired\":null}}    83428504  \n",
      "22  {\"83428569\":{\"retired\":null}}    83428569  \n",
      "23  {\"83428643\":{\"retired\":null}}    83428643  \n",
      "24  {\"83428673\":{\"retired\":null}}    83428673  \n",
      "25  {\"83428637\":{\"retired\":null}}    83428637  \n",
      "26  {\"83428551\":{\"retired\":null}}    83428551  \n",
      "27  {\"83428504\":{\"retired\":null}}    83428504  \n",
      "28  {\"83428665\":{\"retired\":null}}    83428665  \n",
      "29  {\"83428489\":{\"retired\":null}}    83428489  \n",
      "30  {\"83428494\":{\"retired\":null}}    83428494  \n",
      "31  {\"83428593\":{\"retired\":null}}    83428593  \n",
      "32  {\"83428650\":{\"retired\":null}}    83428650  \n"
     ]
    }
   ],
   "source": [
    "# I currently have this cell set up to run independently from all of the above cells\n",
    "#from panoptes_client import Panoptes, Project\n",
    "import panoptes_client\n",
    "panoptes_client.Panoptes.connect(login=\"interactive\")\n",
    "# This project_id is found on Zooniverse by selecting 'build a project' and then selecting the project\n",
    "# I also don't think you need to be the project owner, but I'm not sure\n",
    "project_id = 19539\n",
    "classification_export = panoptes_client.Project(project_id).get_export('classifications')\n",
    "list_rows = []\n",
    "counter = 0\n",
    "# I get a weird error if I run the rest of this notebook first and don't rerun the import and call\n",
    "# to panoptes_client above: \n",
    "# Error: iterator should return strings, not bytes (the file should be opened in text mode)\n",
    "for row in classification_export.csv_reader():\n",
    "    if counter == 0:\n",
    "        header = row\n",
    "    else:\n",
    "        #print(row)\n",
    "        list_rows.append(row)\n",
    "    counter += 1\n",
    "      \n",
    "df = utils.pandas.DataFrame(list_rows, columns = header)\n",
    "print(df)"
   ]
  },
  {
   "cell_type": "code",
   "execution_count": null,
   "id": "c48cab44-ccb6-4178-b439-5e484144750e",
   "metadata": {},
   "outputs": [],
   "source": []
  }
 ],
 "metadata": {
  "kernelspec": {
   "display_name": "LSST",
   "language": "python",
   "name": "lsst"
  },
  "language_info": {
   "codemirror_mode": {
    "name": "ipython",
    "version": 3
   },
   "file_extension": ".py",
   "mimetype": "text/x-python",
   "name": "python",
   "nbconvert_exporter": "python",
   "pygments_lexer": "ipython3",
   "version": "3.10.9"
  }
 },
 "nbformat": 4,
 "nbformat_minor": 5
}
