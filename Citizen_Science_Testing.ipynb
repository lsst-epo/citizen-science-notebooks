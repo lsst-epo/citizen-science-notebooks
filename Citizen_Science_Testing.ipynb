{
 "cells": [
  {
   "cell_type": "markdown",
   "id": "4ca66653-c815-47a4-af85-65b646a67e57",
   "metadata": {},
   "source": [
    "<img align=\"left\" src = https://project.lsst.org/sites/default/files/Rubin-O-Logo_0.png width=250 style=\"padding: 10px\"> \n",
    "<b>Citzen Science Notebook</b> <br>\n",
    "Contact author: Clare Higgs & Eric Rosas <br>\n",
    "Last verified to run: 2022-10-20 <br>\n",
    "LSST Science Piplines version: Weekly 2022_40 <br>\n",
    "Container size: medium <br>\n"
   ]
  },
  {
   "cell_type": "markdown",
   "id": "6f8b563e-c151-476e-8ef0-9e8088d1ec61",
   "metadata": {},
   "source": [
    "## 1.0 Introduction\n",
    "This notebook is intended to guide a PI through the process of sending data from the Rubin Science Platform (RSP) to the Zooniverse.\n",
    "A detailed guide to Citizen Science projects, outlining the process, requirements and support available is here: (*link to citscipiguide*)\n",
    "The data sent can be currated on the RSP as a necessary and take many forms. Here, we include an example of sending png cutout images. \n",
    "We encourage PIs new to the Rubin dataset to explore the tutorial notebooks and documentation.\n",
    "\n",
    "As explained in the guide, this notebook will restrict the number of object sent to the Zooniverse to 100 objects. This limit is intended to demonstrate your project prior to full approval from the EPO Data Rights Panel. \n",
    "\n",
    "Support is available and questions are welcome - (*some email/link etc*)\n",
    "\n",
    "\n",
    "**DEBUG VERSION note that this version of the notebook contains additional debugging and the first cell will need to be run once**"
   ]
  },
  {
   "cell_type": "markdown",
   "id": "b108a439-1f3e-4962-adeb-ce144a8d8be7",
   "metadata": {},
   "source": [
    "### Log in to the Zooniverse Platform & Activate Citizen Science SDK\n",
    "\n",
    "If you haven't already, create a Zooniverse account here. and create your project. Your project must be set to \"public\". To set your project to public, select the \"Visibility\" tab. Note you will need to enter your username, password, and project slug below.\n",
    "\n",
    "After creating your account and project, return to this notebook.\n",
    "\n",
    "---\n",
    "\n",
    "Supply your email and project slug below. \n",
    "\n",
    "A \"slug\" is the string of your Zooniverse username and your project name without the leading forward slash, for instance: \"username/project-name\". \n",
    "\n",
    "For more details, see: https://www.zooniverse.org/talk/18/967061?comment=1898157&page=1.\n",
    "\n",
    "IMPORTANT: Your Zooniverse project must be set to \"public\", a \"private\" project will not work. Select this setting under the \"Visibility\" tab, (it does not need to be set to live). The following code will not work if you have not authenticated in the cell titled \"Log in to Zooniverse\"."
   ]
  },
  {
   "cell_type": "code",
   "execution_count": null,
   "id": "0edb67a4-1508-4b90-872c-8c42e642126b",
   "metadata": {
    "tags": []
   },
   "outputs": [],
   "source": [
    "email = \"beckynevin@gmail.com\" # Please continue to use the same email address moving forward, as this is how we associate \n",
    "slugName = \"rebecca-dot-nevin/test-project\" # Replace this placholder text with your slug name, do not include the leading forward-slash\n",
    "%run Citizen_Science_SDK.ipynb"
   ]
  },
  {
   "cell_type": "markdown",
   "id": "36dbc0bb-19c3-4d3f-8a06-3150c7517fcd",
   "metadata": {},
   "source": [
    "## 2.0 Make a Subject Set to Send\n",
    "\n",
    "Here, the subject set of objects to send to Zooniverse should be curated. This can (and should!) be modified to create your own subject set. Your subject set must have 100 objects or less in the testing phase before your project is approved by the EPO Data Rights panel. \n",
    "\n",
    "Currently, this example makes a set of image cutouts of extended sources. "
   ]
  },
  {
   "cell_type": "code",
   "execution_count": null,
   "id": "ee20b45b-ec67-4058-9c50-7c0ce68764aa",
   "metadata": {
    "tags": []
   },
   "outputs": [],
   "source": [
    "import utils\n",
    "\n",
    "config = 'dp02'\n",
    "collection = '2.2i/runs/DP0.2'\n",
    "service, butler, skymap = utils.setup_butler(config, collection)   "
   ]
  },
  {
   "cell_type": "code",
   "execution_count": null,
   "id": "a82ef1a9-4835-4aeb-afdf-accaaf7e3007",
   "metadata": {
    "tags": []
   },
   "outputs": [],
   "source": [
    "max_rec=5 # make 100 for full subject set test\n",
    "use_center_coords = \"62, -37\"\n",
    "use_radius = \"1.0\""
   ]
  },
  {
   "cell_type": "markdown",
   "id": "8e240d4a-f8d3-4837-923f-12be9bff5f79",
   "metadata": {},
   "source": [
    "Query can be modified to other sources - currently just selecting 10 objects (change max_rec above)"
   ]
  },
  {
   "cell_type": "code",
   "execution_count": null,
   "id": "119358cc-5244-4984-872c-a6311052d9c8",
   "metadata": {
    "tags": []
   },
   "outputs": [],
   "source": [
    "query = \"SELECT TOP \" + str(max_rec) + \" \" + \\\n",
    "        \"objectId, coord_ra, coord_dec, detect_isPrimary \" + \\\n",
    "        \"g_cModelFlux, r_cModelFlux, r_extendedness, r_inputCount \" + \\\n",
    "        \"FROM dp02_dc2_catalogs.Object \" + \\\n",
    "        \"WHERE CONTAINS(POINT('ICRS', coord_ra, coord_dec), \" + \\\n",
    "        \"CIRCLE('ICRS', \" + use_center_coords + \", \" + use_radius + \")) = 1 \" + \\\n",
    "        \"AND detect_isPrimary = 1 \" + \\\n",
    "        \"AND r_extendedness = 1 \" + \\\n",
    "        \"AND scisql_nanojanskyToAbMag(r_cModelFlux) < 18.0 \" + \\\n",
    "        \"ORDER by r_cModelFlux DESC\"\n",
    "results = service.search(query)\n",
    "assert len(results) == max_rec"
   ]
  },
  {
   "cell_type": "code",
   "execution_count": null,
   "id": "9bf4c80e-4402-4f0f-abe1-a6cd5ce6587c",
   "metadata": {
    "tags": []
   },
   "outputs": [],
   "source": [
    "results_table = results.to_table().to_pandas()\n",
    "results_table['dataId'] = results_table.apply(lambda x: utils.get_bandtractpatch(x['coord_ra'], x['coord_dec'], skymap), axis=1)"
   ]
  },
  {
   "cell_type": "markdown",
   "id": "6422604f-0b48-4d81-a40b-a04f3434cfac",
   "metadata": {},
   "source": [
    "### Additional Data to Send\n",
    "You may desire to send additional data in addition to the image cutout. The fields represented as strings within the `fields_to_add` array will be sent along with each image. If there are any fields that you do not need then feel free to remove them from the array.\n",
    "\n",
    "__Note:__ : Object ID is always included."
   ]
  },
  {
   "cell_type": "code",
   "execution_count": null,
   "id": "8a8b74ee-828f-432e-b8f8-68674749cea5",
   "metadata": {
    "tags": []
   },
   "outputs": [],
   "source": [
    "# In-memory manifest file as an array of dicts\n",
    "manifest = []\n",
    "\n",
    "# Specify the directory that the cutouts will be output to:\n",
    "batch_dir = \"./cutouts/\"\n",
    "\n",
    "# Create directory if it does not already exist\n",
    "if os.path.isdir(batch_dir) == False:\n",
    "    os.mkdir(batch_dir)\n",
    "\n",
    "# Loop over results_table, or any other iterable provided by the PI:\n",
    "for index, row in results_table.iterrows():\n",
    "    # Use the Butler to get data based on the data within the iterable\n",
    "    deepCoadd = butler.get('deepCoadd', dataId=row['dataId'])\n",
    "    filename = \"cutout\"+str(row['objectId'])+\".png\"\n",
    "    figout = utils.make_figure(deepCoadd, batch_dir + filename)\n",
    "    \n",
    "    # Create the CSV-file-row-as-dict \n",
    "    csv_row = {\n",
    "        \"filename\": filename, # required column, do not change the column name\n",
    "        \"sourceId\": row.objectId, # required column, do not change the column name\n",
    "        # Add your desired columns:\n",
    "        \"coord_ra\": row.coord_ra,\n",
    "        \"coord_dec\": row.coord_dec,\n",
    "        \"g_cModelFlux\": row.g_cModelFlux,\n",
    "        \"r_cModelFlux\": row.r_cModelFlux,\n",
    "        \"r_extendedness\": row.r_extendedness,\n",
    "        \"r_inputCount\": row.r_inputCount\n",
    "    }\n",
    "    manifest.append(csv_row)\n",
    "    utils.remove_figure(figout)\n",
    "    "
   ]
  },
  {
   "cell_type": "markdown",
   "id": "320f390d-578a-4151-8cbd-f34954bbbb33",
   "metadata": {
    "tags": []
   },
   "source": [
    "## 3.0 Preparing the Manifest File\n",
    "\n",
    "The manifest file _must_ abide by [RFC4180](https://datatracker.ietf.org/doc/html/rfc4180.html) as the backend service that parses the manifest file expects that this is so. In addition, you may have a column with no values, but there _must_ be an empty column value indicated with a comma. E.g.:\n",
    "\n",
    "Valid syntax for empty column:\n",
    "```\n",
    "column1,column2,empty_column,column4\n",
    "1,1,,4\n",
    "1,1,,4\n",
    "1,1,,4\n",
    "```\n",
    "\n",
    "**Important!**: The manifest file must be named `metadata.csv` in order for the processing on the backend to work correctly!"
   ]
  },
  {
   "cell_type": "markdown",
   "id": "1a14e18a-22fe-4c84-a05a-17c248fdee1b",
   "metadata": {
    "tags": []
   },
   "source": [
    "### Option 1: Write the manifest file to the filesystem automatically\n",
    "\n",
    "Running the below cell should take care of writing the `metadata.csv` file to the filesystem, which will ultimately be used as the manifest file by Zooniverse. You are welcome to edit the automatically created manifest file, just ensure that it's format abides by RFC4180.\n"
   ]
  },
  {
   "cell_type": "code",
   "execution_count": null,
   "id": "c2605029-f988-4d7c-991d-82aabb60e07b",
   "metadata": {
    "tags": []
   },
   "outputs": [],
   "source": [
    "manifest_path = write_metadata_file(manifest, batch_dir)\n",
    "\n",
    "print(\"The manifest CSV file can be found at the following relative path:\")\n",
    "print(manifest_path)"
   ]
  },
  {
   "cell_type": "markdown",
   "id": "c3309b77-ebe1-4f09-bd30-924df77369dc",
   "metadata": {
    "tags": []
   },
   "source": [
    "### Option 2: Specify the path to your own manifest file\n",
    "If desirable, specify the manifest CSV file manually. This is a simple matter of ensuring that it is named `metadata.csv` and placed in the `./cutouts/` folder (or whatever you renamed the `batch_dir` variable to)"
   ]
  },
  {
   "cell_type": "markdown",
   "id": "76e65f2f-f161-480d-ad8e-26f977136c64",
   "metadata": {},
   "source": [
    "## 4.0 Send the cutouts to Zooniverse\n",
    "\n",
    "Send your subject set to the Zooniverse. This cell will let you send one subject set. If you already have a set on Zooniverse, it will notify you and fail. If you want to send more data, delete what is on the Zooniverse and send again. You *may* get a warning that your set still exists or a \"Could not find subject_set with id=' '\" error. If so, wait (~10min) and try again, as Zooniverse takes a minute to process your changes. You may also have re-run the \"Look up your project cell\". Don't click the below cell multiple times, the upload will fail if multiple runs are attempted.\n",
    "\n",
    "It has successfully worked if you get nofication and an email saying your data has been sent."
   ]
  },
  {
   "cell_type": "markdown",
   "id": "b5e1886b-0b90-4214-8dc4-037fa87a28b4",
   "metadata": {},
   "source": [
    "### Name the new subject set\n",
    "Name your subject set as it will appear on the Zooniverse. Try not to reuse names. "
   ]
  },
  {
   "cell_type": "code",
   "execution_count": null,
   "id": "9cb27552-1f98-4930-a72f-1a09f1118834",
   "metadata": {
    "tags": []
   },
   "outputs": [],
   "source": [
    "subject_set_name = \"set_2\"\n",
    "subject_set_name"
   ]
  },
  {
   "cell_type": "code",
   "execution_count": null,
   "id": "7af45f7d-192d-4215-9b00-512afd11590f",
   "metadata": {
    "tags": []
   },
   "outputs": [],
   "source": [
    "__cit_sci_data_type = _HIPS_CUTOUTS # Important: DO NOT change this value. Update - this value may be changed.\n",
    "send_data(subject_set_name, batch_dir, manifest)"
   ]
  },
  {
   "cell_type": "code",
   "execution_count": null,
   "id": "e2155f27-e2c5-4ae1-9386-8bfbe40389ee",
   "metadata": {
    "tags": []
   },
   "outputs": [],
   "source": [
    "batch_dir"
   ]
  },
  {
   "cell_type": "markdown",
   "id": "820c7931-260a-48f9-831f-ce23f8906c04",
   "metadata": {},
   "source": [
    "## Download Batch Metadata\n",
    "This functionality is in an experimental/alpha state and as such unexpected behavior may occur. Do not attempt to run this cell without first running the top cell in this notebook that prompts you to log in to the Zooniverse platform."
   ]
  },
  {
   "cell_type": "code",
   "execution_count": null,
   "id": "14a625ef-9952-4d59-97fe-fa6c874a60d4",
   "metadata": {},
   "outputs": [],
   "source": [
    "test = download_batch_metadata()\n",
    "test"
   ]
  },
  {
   "cell_type": "markdown",
   "id": "a67d0b65-3ff9-44b3-9a8c-50749642b503",
   "metadata": {},
   "source": [
    "### Explicitly check the status of your data batch\n",
    "Is the send_data() call above stalling on \"Notifying the Rubin EPO Data Center...\" step? Run the below cell every few minutes to check the status of your data. Large datasets can cause the response to get lost, but that does not necessarily mean that your data was not sent to Zooniverse."
   ]
  },
  {
   "cell_type": "code",
   "execution_count": null,
   "id": "085e54d1-4872-4467-988c-8f2ac87f9850",
   "metadata": {},
   "outputs": [],
   "source": [
    "res = check_status()\n",
    "print(\"Status:\")\n",
    "print(res[\"status\"])\n",
    "print(\"Manifest:\")\n",
    "print(res[\"manifest_url\"])\n",
    "print(\"Messages:\")\n",
    "print(res[\"messages\"])\n",
    "if res[\"status\"] == \"success\":\n",
    "    global manifest_url\n",
    "    manifest_url = res[\"manifest_url\"]\n",
    "    send_zooniverse_manifest()"
   ]
  },
  {
   "cell_type": "markdown",
   "id": "dc25572f-5f14-46c6-8883-ac95e3aa072c",
   "metadata": {},
   "source": [
    "## Retrieve the data\n",
    "There are two ways to do this:\n",
    "1) By directly going to your Zooniverse project and downloading the output csv files found on the 'Data Exports' tab. Click the 'Request new classification report' button and per Zooniverse: \"Please note some exports may take a long time to process. We will email you when they are ready. You can only request one of each export within a 24-hour time period.\"\n",
    "2) Programatically (as we show below):"
   ]
  },
  {
   "cell_type": "code",
   "execution_count": 1,
   "id": "ff6fa05d-7ba5-4410-b89c-29bf589dd173",
   "metadata": {
    "execution": {
     "iopub.execute_input": "2023-04-21T18:38:45.606354Z",
     "iopub.status.busy": "2023-04-21T18:38:45.606161Z",
     "iopub.status.idle": "2023-04-21T18:38:53.220410Z",
     "shell.execute_reply": "2023-04-21T18:38:53.219145Z",
     "shell.execute_reply.started": "2023-04-21T18:38:45.606337Z"
    },
    "tags": []
   },
   "outputs": [
    {
     "name": "stdout",
     "output_type": "stream",
     "text": [
      "Enter your Zooniverse credentials...\n"
     ]
    },
    {
     "name": "stdin",
     "output_type": "stream",
     "text": [
      "Username:  rebecca.nevin\n",
      " ········\n"
     ]
    },
    {
     "ename": "Error",
     "evalue": "iterator should return strings, not bytes (the file should be opened in text mode)",
     "output_type": "error",
     "traceback": [
      "\u001b[0;31m---------------------------------------------------------------------------\u001b[0m",
      "\u001b[0;31mError\u001b[0m                                     Traceback (most recent call last)",
      "Input \u001b[0;32mIn [1]\u001b[0m, in \u001b[0;36m<cell line: 17>\u001b[0;34m()\u001b[0m\n\u001b[1;32m     13\u001b[0m counter \u001b[38;5;241m=\u001b[39m \u001b[38;5;241m0\u001b[39m\n\u001b[1;32m     14\u001b[0m \u001b[38;5;66;03m# Panoptes_client sometimes produces the following error here:\u001b[39;00m\n\u001b[1;32m     15\u001b[0m \u001b[38;5;66;03m# Error: iterator should return strings, not bytes (the file should be opened in text mode)\u001b[39;00m\n\u001b[1;32m     16\u001b[0m \u001b[38;5;66;03m# To fix it, you can re-run this cell in order to log in again\u001b[39;00m\n\u001b[0;32m---> 17\u001b[0m \u001b[38;5;28;01mfor\u001b[39;00m row \u001b[38;5;129;01min\u001b[39;00m classification_export\u001b[38;5;241m.\u001b[39mcsv_reader():\n\u001b[1;32m     18\u001b[0m     \u001b[38;5;28;01mif\u001b[39;00m counter \u001b[38;5;241m==\u001b[39m \u001b[38;5;241m0\u001b[39m:\n\u001b[1;32m     19\u001b[0m         header \u001b[38;5;241m=\u001b[39m row\n",
      "\u001b[0;31mError\u001b[0m: iterator should return strings, not bytes (the file should be opened in text mode)"
     ]
    }
   ],
   "source": [
    "# I currently have this cell set up to run independently from all of the above cells\n",
    "# These first three lines of code are not necessary if you've already run the first two\n",
    "# cells in the notebook\n",
    "import panoptes_client\n",
    "import utils\n",
    "panoptes_client.Panoptes.connect(login=\"interactive\")\n",
    "\n",
    "# This project_id is found on Zooniverse by selecting 'build a project' and then selecting the project\n",
    "# I also don't think you need to be the project owner, but I'm not sure\n",
    "project_id = 19539\n",
    "classification_export = panoptes_client.Project(project_id).get_export('classifications')\n",
    "list_rows = []\n",
    "counter = 0\n",
    "# Panoptes_client sometimes produces the following error here:\n",
    "# Error: iterator should return strings, not bytes (the file should be opened in text mode)\n",
    "# To fix it, you can re-run this cell in order to log in again\n",
    "for row in classification_export.csv_reader():\n",
    "    if counter == 0:\n",
    "        header = row\n",
    "    else:\n",
    "        list_rows.append(row)\n",
    "    counter += 1 \n",
    "utils.pandas.DataFrame(list_rows, columns = header)"
   ]
  },
  {
   "cell_type": "code",
   "execution_count": null,
   "id": "c48cab44-ccb6-4178-b439-5e484144750e",
   "metadata": {},
   "outputs": [],
   "source": []
  }
 ],
 "metadata": {
  "kernelspec": {
   "display_name": "LSST",
   "language": "python",
   "name": "lsst"
  },
  "language_info": {
   "codemirror_mode": {
    "name": "ipython",
    "version": 3
   },
   "file_extension": ".py",
   "mimetype": "text/x-python",
   "name": "python",
   "nbconvert_exporter": "python",
   "pygments_lexer": "ipython3",
   "version": "3.10.9"
  }
 },
 "nbformat": 4,
 "nbformat_minor": 5
}
