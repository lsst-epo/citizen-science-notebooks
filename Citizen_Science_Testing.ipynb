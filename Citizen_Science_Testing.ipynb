{
 "cells": [
  {
   "cell_type": "markdown",
   "id": "4ca66653-c815-47a4-af85-65b646a67e57",
   "metadata": {},
   "source": [
    "<img align=\"left\" src = https://project.lsst.org/sites/default/files/Rubin-O-Logo_0.png width=250 style=\"padding: 10px\"> \n",
    "<b>Citizen Science Notebook</b> <br>\n",
    "Contact author: Clare Higgs & Eric Rosas <br>\n",
    "Last verified to run: 2023-07-06 <br>"
   ]
  },
  {
   "cell_type": "markdown",
   "id": "0e6fb8a1-9e30-470d-9a35-93742d276e6e",
   "metadata": {},
   "source": [
    "## <font color='#5A5A5A'>Table of Contents</font>\n",
    "* [Introduction](#first-bullet)\n",
    "* [Set up necessary modules and log on to the Zooniverse platform](#second-bullet)\n",
    "* [Make a subject set to send to Zooniverse](#third-bullet)\n",
    "* [Create a manifest file](#fourth-bullet)\n",
    "* [Send the data to Zooniverse](#fifth-bullet)\n",
    "* [Retrieve the data](#sixth-bullet)"
   ]
  },
  {
   "cell_type": "markdown",
   "id": "6f8b563e-c151-476e-8ef0-9e8088d1ec61",
   "metadata": {},
   "source": [
    "## <font color='#5A5A5A'>Introduction <a class=\"anchor\" id=\"first-bullet\"></a></font>"
   ]
  },
  {
   "cell_type": "markdown",
   "id": "308b9db0-393f-40d5-b429-8b1167d351ac",
   "metadata": {},
   "source": [
    "<font color='#5A5A5A'>This notebook is intended to guide a PI through the process of sending data from the Rubin Science Platform (RSP) to the Zooniverse. We encourage PIs new to the Rubin dataset to explore the RSP tutorial notebooks and documentation ('/home/your_username/notebooks/tutorial-notebooks').</font>\n",
    "\n",
    "<font color='#5A5A5A'>In this notebook, we include an example of creating a citizen science project on Zooniverse, sending data from RSP to Zooniverse, and retrieving the results of the Zooniverse classification.</font>\n",
    "\n",
    "\n",
    "<font color='#5A5A5A'>As explained in the guide, this notebook will restrict the number of object sent to the Zooniverse to 100 objects. This limit is intended to demonstrate your project prior to full approval from the EPO Data Rights Panel.</font> \n",
    "\n",
    "<font color='#5A5A5A'>Support is available and questions are welcome - (cscience@lsst.org)</font>"
   ]
  },
  {
   "cell_type": "markdown",
   "id": "b108a439-1f3e-4962-adeb-ce144a8d8be7",
   "metadata": {},
   "source": [
    "## <font color='#5A5A5A'>1.0 Set up necessary modules and log on to the Zooniverse platform <a class=\"anchor\" id=\"second-bullet\"></a></font>\n",
    "\n",
    "<font color='#5A5A5A'>If you haven't already, [create a Zooniverse account](https://www.zooniverse.org/accounts/registerhttps://www.zooniverse.org/accounts/register) and create your project.</font>\n",
    "\n",
    "<font color='#5A5A5A'>IMPORTANT: Your Zooniverse project must be set to \"public\", a \"private\" project will not work. Select this setting under the \"Visibility\" tab, (it does not need to be set to live). </font>\n",
    "\n",
    "<font color='#5A5A5A'>Supply your email and project slug below. </font>\n",
    "\n",
    "> <font color='#5A5A5A'>A \"slug\" is the string of your Zooniverse username and your project name without the leading forward slash, for instance: \"username/project-name\". [Click here for more details](https://www.zooniverse.org/talk/18/967061?comment=1898157&page=1).</font>\n",
    "\n"
   ]
  },
  {
   "cell_type": "code",
   "execution_count": null,
   "id": "ee20b45b-ec67-4058-9c50-7c0ce68764aa",
   "metadata": {
    "tags": []
   },
   "outputs": [],
   "source": [
    "import utils"
   ]
  },
  {
   "cell_type": "code",
   "execution_count": null,
   "id": "0edb67a4-1508-4b90-872c-8c42e642126b",
   "metadata": {
    "tags": []
   },
   "outputs": [],
   "source": [
    "email = \"\"  # Email associated with Zooniverse account\n",
    "slugName = \"\"  # Do not include the leading forward-slash, see above\n",
    "print('Loading and running utilities to establish a link with Zooniverse')\n",
    "print('Enter your Zooniverse username followed by password below')\n",
    "%run Citizen_Science_SDK.ipynb"
   ]
  },
  {
   "cell_type": "markdown",
   "id": "36dbc0bb-19c3-4d3f-8a06-3150c7517fcd",
   "metadata": {},
   "source": [
    "## <font color='#5A5A5A'>2.0 Make a subject set to send to Zooniverse <a class=\"anchor\" id=\"third-bullet\"></a></font>\n",
    "> <font color='#5A5A5A'>A subject set is a collection of data (images, plots, etc) that are shown to citizen scientists. It is also the unit of data that is sent to Zooniverse.</font>\n",
    "\n",
    "<font color='#5A5A5A'>Here, we curate the subject set of objects to send to Zooniverse. This can be modified to create your own subject set. Your subject set must have 100 objects or less in the testing phase before your project is approved by the EPO Data Rights panel. </font>\n",
    "\n",
    "<font color='#5A5A5A'>This example makes a set of image cutouts of galaxies. </font>"
   ]
  },
  {
   "cell_type": "code",
   "execution_count": null,
   "id": "7701a319-3c4a-4c37-a460-ef5f3169b483",
   "metadata": {
    "tags": []
   },
   "outputs": [],
   "source": [
    "print('Establishing the connection to the Butler')\n",
    "config = \"dp02\"\n",
    "collection = \"2.2i/runs/DP0.2\"\n",
    "service, butler, skymap = utils.setup_butler(config, collection)\n",
    "print('Connected')"
   ]
  },
  {
   "cell_type": "code",
   "execution_count": null,
   "id": "a82ef1a9-4835-4aeb-afdf-accaaf7e3007",
   "metadata": {
    "tags": []
   },
   "outputs": [],
   "source": [
    "print('Setting the parameters for making image cutouts')\n",
    "number_sources = 5  # change this to 100 for a full subject set test\n",
    "use_center_coords = \"62, -37\"\n",
    "use_radius = \"1.0\""
   ]
  },
  {
   "cell_type": "markdown",
   "id": "8e240d4a-f8d3-4837-923f-12be9bff5f79",
   "metadata": {},
   "source": [
    "<font color='#5A5A5A'>This query can be modified to select other types of sources. This query can be modified to select other types of sources. </font>\n",
    "\n",
    "<font color='#5A5A5A'>If you want more details on this please have a look at the RSP tutorial notebooks ('/home/your_username/notebooks/tutorial-notebooks').</font>"
   ]
  },
  {
   "cell_type": "code",
   "execution_count": null,
   "id": "119358cc-5244-4984-872c-a6311052d9c8",
   "metadata": {
    "tags": []
   },
   "outputs": [],
   "source": [
    "print('Running the Butler query to return objects')\n",
    "results = utils.run_butler_query(service, number_sources, use_center_coords, use_radius)"
   ]
  },
  {
   "cell_type": "code",
   "execution_count": null,
   "id": "9bf4c80e-4402-4f0f-abe1-a6cd5ce6587c",
   "metadata": {
    "tags": []
   },
   "outputs": [],
   "source": [
    "print('Preparing the table')\n",
    "results_table = utils.prep_table(results, skymap)"
   ]
  },
  {
   "cell_type": "markdown",
   "id": "972cec6c-be76-4d5a-8a67-7034968270e3",
   "metadata": {},
   "source": [
    "<font color='#5A5A5A'>Have a look at the table you'll use to save the cutout images.</font>"
   ]
  },
  {
   "cell_type": "code",
   "execution_count": null,
   "id": "ea7c6026-9d87-40ee-9f64-c507b72a36fc",
   "metadata": {
    "tags": []
   },
   "outputs": [],
   "source": [
    "results_table"
   ]
  },
  {
   "cell_type": "markdown",
   "id": "6422604f-0b48-4d81-a40b-a04f3434cfac",
   "metadata": {},
   "source": [
    "## <font color='#5A5A5A'>3.0 Create a manifest file <a class=\"anchor\" id=\"fourth-bullet\"></a></font>\n",
    "> <font color='#5A5A5A'>A manifest file is a csv file that is used to send all of the classification subjects to the Zooniverse. This file can be used to initiate options on the Zooniverse side. [Click here for an overview](https://about.pfe-preview.zooniverse.org/lab-how-tohttps://about.pfe-preview.zooniverse.org/lab-how-to)</font>\n",
    "\n",
    "<font color='#5A5A5A'>You may desire to send data besides the image cutouts. To do so, edit the make_manifest_and_images utility. __Note:__ Object ID must be included.</font>"
   ]
  },
  {
   "cell_type": "code",
   "execution_count": null,
   "id": "8a8b74ee-828f-432e-b8f8-68674749cea5",
   "metadata": {
    "tags": []
   },
   "outputs": [],
   "source": [
    "print('Specify the directory that the cutouts will be output to')\n",
    "batch_dir = \"./cutouts/\"\n",
    "print(f\"Make the manifest file and save both the manifest and the cutout images in this folder: {batch_dir}\")\n",
    "manifest = utils.make_manifest_and_images(results_table, butler, batch_dir)"
   ]
  },
  {
   "cell_type": "markdown",
   "id": "e237db04-0e98-4dae-a515-56bb9bf4e6d5",
   "metadata": {},
   "source": [
    "<font color='#5A5A5A'>Let's have a look at some of the cutout images you saved.</font>"
   ]
  },
  {
   "cell_type": "code",
   "execution_count": null,
   "id": "e4e9239a-83fb-4052-8af1-a82b46be7775",
   "metadata": {
    "tags": []
   },
   "outputs": [],
   "source": [
    "from matplotlib import image as mpimg\n",
    "for file in os.listdir(batch_dir):\n",
    "    try:\n",
    "        plt.title(file)\n",
    "        image = mpimg.imread(batch_dir + file)\n",
    "        plt.imshow(image)\n",
    "        plt.axis('off')\n",
    "        plt.show()\n",
    "    except:\n",
    "        continue"
   ]
  },
  {
   "cell_type": "markdown",
   "id": "1a14e18a-22fe-4c84-a05a-17c248fdee1b",
   "metadata": {
    "tags": []
   },
   "source": [
    "### <font color='#5A5A5A'>Option 1: Write the manifest file to the filesystem automatically</font>\n",
    "\n",
    "<font color='#5A5A5A'>The below cell writes the `manifest.csv` file to the filesystem, which will be used by Zooniverse.</font> \n"
   ]
  },
  {
   "cell_type": "code",
   "execution_count": null,
   "id": "c2605029-f988-4d7c-991d-82aabb60e07b",
   "metadata": {
    "tags": []
   },
   "outputs": [],
   "source": [
    "manifest_path = write_manifest_file(manifest, batch_dir)\n",
    "print(\"The manifest CSV file can be found at the following relative path:\")\n",
    "print(manifest_path)"
   ]
  },
  {
   "cell_type": "markdown",
   "id": "be75075b-4c84-4653-9c3a-a01232afc3dd",
   "metadata": {
    "tags": []
   },
   "source": [
    "### <font color='#5A5A5A'>Option 2: Specify the path to your own manifest file</font>\n",
    "<font color='#5A5A5A'>If desirable, specify the manifest CSV file manually. This is a simple matter of ensuring that it is named `metadata.csv` and placed in the `./cutouts/` folder (or whatever you renamed the `batch_dir` variable to)</font>"
   ]
  },
  {
   "cell_type": "markdown",
   "id": "320f390d-578a-4151-8cbd-f34954bbbb33",
   "metadata": {
    "tags": []
   },
   "source": [
    "### <font color='#5A5A5A'>Option 3: Make your own manifest file</font>\n",
    "\n",
    "<font color='#5A5A5A'>You are welcome to edit the automatically created manifest file (option 1) or create a new manifest file (option 2).</font>\n",
    "\n",
    "<font color='#5A5A5A'>The manifest file _must_ abide by [RFC4180](https://datatracker.ietf.org/doc/html/rfc4180.html) as the backend service that parses the manifest file expects this format. In addition, you may have a column with no values, but there _must_ be an empty column value indicated with a comma. For example:</font>\n",
    "\n",
    "<font color='#5A5A5A'>Valid syntax for empty column:</font>\n",
    "```\n",
    "column1,column2,empty_column,column4\n",
    "1,1,,4\n",
    "1,1,,4\n",
    "1,1,,4\n",
    "```\n",
    "\n",
    "<font color='#5A5A5A'>**Important**: The manifest file must be named `manifest.csv` in order for the processing on the backend to work correctly.</font>"
   ]
  },
  {
   "cell_type": "markdown",
   "id": "76e65f2f-f161-480d-ad8e-26f977136c64",
   "metadata": {},
   "source": [
    "## <font color='#5A5A5A'>4.0 Send the data to Zooniverse <a class=\"anchor\" id=\"fifth-bullet\"></a></font>\n",
    "\n",
    "<font color='#5A5A5A'>This cell will let you send one subject set. If you already have a set on Zooniverse, it will notify you and fail. If you want to send more data, delete what is on the Zooniverse and send again. You *may* get a warning that your set still exists or a \"Could not find subject_set with id=' '\" error. If so, wait (~10min) and try again, as Zooniverse takes a minute to process your changes. You may also have re-run the \"Look up your project cell\". Don't click the below cell multiple times, the upload will fail if multiple runs are attempted.</font>\n",
    "\n",
    "<font color='#5A5A5A'>It has successfully worked if you get nofication and an email saying your data has been sent.</font>"
   ]
  },
  {
   "cell_type": "markdown",
   "id": "b5e1886b-0b90-4214-8dc4-037fa87a28b4",
   "metadata": {},
   "source": [
    "<font color='#5A5A5A'>Name your subject set as it will appear on the Zooniverse. Try not to reuse names.</font>"
   ]
  },
  {
   "cell_type": "code",
   "execution_count": null,
   "id": "7af45f7d-192d-4215-9b00-512afd11590f",
   "metadata": {
    "tags": []
   },
   "outputs": [],
   "source": [
    "print('Send the data to Zooniverse')\n",
    "subject_set_name = \"set_5\"\n",
    "send_image_data(subject_set_name, batch_dir, manifest)"
   ]
  },
  {
   "cell_type": "markdown",
   "id": "dc25572f-5f14-46c6-8883-ac95e3aa072c",
   "metadata": {},
   "source": [
    "## <font color='#5A5A5A'>5.0 Retrieve the data<a class=\"anchor\" id=\"sixth-bullet\"></a></font>\n",
    "<font color='#5A5A5A'>There are two ways to do this:</font>\n",
    "<font color='#5A5A5A'>1) By directly going to your Zooniverse project and downloading the output csv files found on the 'Data Exports' tab. Click the 'Request new classification report' button and per Zooniverse: \"Please note some exports may take a long time to process. We will email you when they are ready. You can only request one of each type of data export within a 24-hour time period.\"</font>\n",
    "<font color='#5A5A5A'>2) Programatically (as we show below):</font>"
   ]
  },
  {
   "cell_type": "code",
   "execution_count": null,
   "id": "2f3c9b83-6d0b-4574-b1ba-e63e6684ef13",
   "metadata": {
    "tags": []
   },
   "outputs": [],
   "source": [
    "# This project_id is found on Zooniverse by selecting 'build a project' and then selecting the project\n",
    "# You don't need to be the project owner.\n",
    "print('Retrieve the classifications from Zooniverse')\n",
    "project_id = 19539\n",
    "df = retrieve_data(project_id)\n",
    "df"
   ]
  },
  {
   "cell_type": "code",
   "execution_count": null,
   "id": "7907a0a2-f74d-4a54-9c00-0823b6a93912",
   "metadata": {},
   "outputs": [],
   "source": []
  }
 ],
 "metadata": {
  "kernelspec": {
   "display_name": "LSST",
   "language": "python",
   "name": "lsst"
  },
  "language_info": {
   "codemirror_mode": {
    "name": "ipython",
    "version": 3
   },
   "file_extension": ".py",
   "mimetype": "text/x-python",
   "name": "python",
   "nbconvert_exporter": "python",
   "pygments_lexer": "ipython3",
   "version": "3.10.10"
  },
  "toc-autonumbering": false,
  "toc-showcode": true,
  "toc-showmarkdowntxt": true,
  "toc-showtags": false
 },
 "nbformat": 4,
 "nbformat_minor": 5
}
