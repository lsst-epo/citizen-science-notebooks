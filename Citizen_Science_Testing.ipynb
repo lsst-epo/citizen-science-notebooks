{
 "cells": [
  {
   "cell_type": "markdown",
   "id": "4ca66653-c815-47a4-af85-65b646a67e57",
   "metadata": {},
   "source": [
    "<img align=\"left\" src = https://project.lsst.org/sites/default/files/Rubin-O-Logo_0.png width=250 style=\"padding: 10px\"> \n",
    "<b>Citzen Science Notebook</b> <br>\n",
    "Contact author: Clare Higgs & Eric Rosas <br>\n",
    "Last verified to run: 2022-10-20 <br>\n",
    "LSST Science Piplines version: Weekly 2022_40 <br>\n",
    "Container size: medium <br>\n"
   ]
  },
  {
   "cell_type": "markdown",
   "id": "6f8b563e-c151-476e-8ef0-9e8088d1ec61",
   "metadata": {},
   "source": [
    "## 1.0 Introduction\n",
    "This notebook is intended to guide a PI through the process of sending data from the Rubin Science Platform (RSP) to the Zooniverse.\n",
    "A detailed guide to Citizen Science projects, outlining the process, requirements and support available is here: (*link to citscipiguide*)\n",
    "The data sent can be currated on the RSP as a necessary and take many forms. Here, we include an example of sending png cutout images. \n",
    "We encourage PIs new to the Rubin dataset to explore the tutorial notebooks and documentation.\n",
    "\n",
    "As explained in the guide, this notebook will restrict the number of object sent to the Zooniverse to 100 objects. This limit is intended to demonstrate your project prior to full approval from the EPO Data Rights Panel. \n",
    "\n",
    "Support is available and questions are welcome - (*some email/link etc*)\n",
    "\n",
    "\n",
    "**DEBUG VERSION note that this version of the notebook contains additional debugging and the first cell will need to be run once**"
   ]
  },
  {
   "cell_type": "markdown",
   "id": "b108a439-1f3e-4962-adeb-ce144a8d8be7",
   "metadata": {},
   "source": [
    "### Log in to the Zooniverse Platform & Activate Citizen Science SDK\n",
    "\n",
    "If you haven't already, create a Zooniverse account here. and create your project. Your project must be set to \"public\". To set your project to public, select the \"Visibility\" tab. Note you will need to enter your username, password, and project slug below.\n",
    "\n",
    "After creating your account and project, return to this notebook.\n",
    "\n",
    "---\n",
    "\n",
    "Supply your email and project slug below. \n",
    "\n",
    "A \"slug\" is the string of your Zooniverse username and your project name without the leading forward slash, for instance: \"username/project-name\". \n",
    "\n",
    "For more details, see: https://www.zooniverse.org/talk/18/967061?comment=1898157&page=1.\n",
    "\n",
    "IMPORTANT: Your Zooniverse project must be set to \"public\", a \"private\" project will not work. Select this setting under the \"Visibility\" tab, (it does not need to be set to live). The following code will not work if you have not authenticated in the cell titled \"Log in to Zooniverse\"."
   ]
  },
  {
   "cell_type": "code",
   "execution_count": 1,
   "id": "0edb67a4-1508-4b90-872c-8c42e642126b",
   "metadata": {
    "execution": {
     "iopub.execute_input": "2023-04-06T19:55:11.865908Z",
     "iopub.status.busy": "2023-04-06T19:55:11.865566Z",
     "iopub.status.idle": "2023-04-06T19:55:29.854316Z",
     "shell.execute_reply": "2023-04-06T19:55:29.853917Z",
     "shell.execute_reply.started": "2023-04-06T19:55:11.865891Z"
    },
    "tags": []
   },
   "outputs": [
    {
     "name": "stdout",
     "output_type": "stream",
     "text": [
      "Installing external dependencies...\n",
      "Done installing external dependencies!\n",
      "Enter your Zooniverse credentials...\n"
     ]
    },
    {
     "name": "stdin",
     "output_type": "stream",
     "text": [
      "Username:  rebecca.nevin\n",
      " ········\n"
     ]
    },
    {
     "name": "stdout",
     "output_type": "stream",
     "text": [
      "You now are logged in to the Zooniverse platform.\n",
      "Loaded Citizen Science SDK\n"
     ]
    }
   ],
   "source": [
    "email = \"beckynevin@gmail.com\" # Please continue to use the same email address moving forward, as this is how we associate \n",
    "slugName = \"rebecca-dot-nevin/test-project\" # Replace this placholder text with your slug name, do not include the leading forward-slash\n",
    "%run Citizen_Science_SDK.ipynb"
   ]
  },
  {
   "cell_type": "markdown",
   "id": "36dbc0bb-19c3-4d3f-8a06-3150c7517fcd",
   "metadata": {},
   "source": [
    "## 2.0 Make a Subject Set to Send\n",
    "\n",
    "Here, the subject set of objects to send to Zooniverse should be curated. This can (and should!) be modified to create your own subject set. Your subject set must have 100 objects or less in the testing phase before your project is approved by the EPO Data Rights panel. \n",
    "\n",
    "Currently, this example makes a set of image cutouts of extended sources. "
   ]
  },
  {
   "cell_type": "code",
   "execution_count": 1,
   "id": "ee20b45b-ec67-4058-9c50-7c0ce68764aa",
   "metadata": {
    "execution": {
     "iopub.execute_input": "2023-04-06T19:56:49.844396Z",
     "iopub.status.busy": "2023-04-06T19:56:49.844263Z",
     "iopub.status.idle": "2023-04-06T19:56:51.018662Z",
     "shell.execute_reply": "2023-04-06T19:56:51.017727Z",
     "shell.execute_reply.started": "2023-04-06T19:56:49.844382Z"
    },
    "tags": []
   },
   "outputs": [
    {
     "ename": "FileNotFoundError",
     "evalue": "Config location /home/r/rnevin/citizen-science-notebooks/dp02 does not exist. (known aliases: /repo/tts, LATISS, LSSTCam, /repo/embargo, /repo/ir2, /repo/main, LSSTComCam, /repo/embargo_txn, /repo/hsc-temp, /repo/dc2, /repo/oga, /repo/main_txn, /repo/dc2_txn, /repo/tts_txn, /repo/ir2_txn)",
     "output_type": "error",
     "traceback": [
      "\u001b[0;31m---------------------------------------------------------------------------\u001b[0m",
      "\u001b[0;31mFileNotFoundError\u001b[0m                         Traceback (most recent call last)",
      "File \u001b[0;32m/opt/lsst/software/stack/stack/miniconda3-py38_4.9.2-5.1.0/Linux64/daf_butler/gf8dc3d25d9+8feadece27/python/lsst/daf/butler/_butler.py:267\u001b[0m, in \u001b[0;36mButler.__init__\u001b[0;34m(self, config, butler, collections, run, searchPaths, writeable, inferDefaults, **kwargs)\u001b[0m\n\u001b[1;32m    266\u001b[0m \u001b[38;5;28;01mtry\u001b[39;00m:\n\u001b[0;32m--> 267\u001b[0m     \u001b[38;5;28mself\u001b[39m\u001b[38;5;241m.\u001b[39m_config \u001b[38;5;241m=\u001b[39m \u001b[43mButlerConfig\u001b[49m\u001b[43m(\u001b[49m\u001b[43mconfig\u001b[49m\u001b[43m,\u001b[49m\u001b[43m \u001b[49m\u001b[43msearchPaths\u001b[49m\u001b[38;5;241;43m=\u001b[39;49m\u001b[43msearchPaths\u001b[49m\u001b[43m)\u001b[49m\n\u001b[1;32m    268\u001b[0m \u001b[38;5;28;01mexcept\u001b[39;00m \u001b[38;5;167;01mFileNotFoundError\u001b[39;00m \u001b[38;5;28;01mas\u001b[39;00m e:\n",
      "File \u001b[0;32m/opt/lsst/software/stack/stack/miniconda3-py38_4.9.2-5.1.0/Linux64/daf_butler/gf8dc3d25d9+8feadece27/python/lsst/daf/butler/_butlerConfig.py:109\u001b[0m, in \u001b[0;36mButlerConfig.__init__\u001b[0;34m(self, other, searchPaths)\u001b[0m\n\u001b[1;32m    107\u001b[0m \u001b[38;5;66;03m# Read the supplied config so that we can work out which other\u001b[39;00m\n\u001b[1;32m    108\u001b[0m \u001b[38;5;66;03m# defaults to use.\u001b[39;00m\n\u001b[0;32m--> 109\u001b[0m butlerConfig \u001b[38;5;241m=\u001b[39m \u001b[43mConfig\u001b[49m\u001b[43m(\u001b[49m\u001b[43mother\u001b[49m\u001b[43m)\u001b[49m\n\u001b[1;32m    111\u001b[0m configFile \u001b[38;5;241m=\u001b[39m butlerConfig\u001b[38;5;241m.\u001b[39mconfigFile\n",
      "File \u001b[0;32m/opt/lsst/software/stack/stack/miniconda3-py38_4.9.2-5.1.0/Linux64/daf_butler/gf8dc3d25d9+8feadece27/python/lsst/daf/butler/core/config.py:266\u001b[0m, in \u001b[0;36mConfig.__init__\u001b[0;34m(self, other)\u001b[0m\n\u001b[1;32m    264\u001b[0m \u001b[38;5;28;01melif\u001b[39;00m \u001b[38;5;28misinstance\u001b[39m(other, (\u001b[38;5;28mstr\u001b[39m, ResourcePath, Path)):\n\u001b[1;32m    265\u001b[0m     \u001b[38;5;66;03m# if other is a string, assume it is a file path/URI\u001b[39;00m\n\u001b[0;32m--> 266\u001b[0m     \u001b[38;5;28;43mself\u001b[39;49m\u001b[38;5;241;43m.\u001b[39;49m\u001b[43m__initFromUri\u001b[49m\u001b[43m(\u001b[49m\u001b[43mother\u001b[49m\u001b[43m)\u001b[49m\n\u001b[1;32m    267\u001b[0m     \u001b[38;5;28mself\u001b[39m\u001b[38;5;241m.\u001b[39m_processExplicitIncludes()\n",
      "File \u001b[0;32m/opt/lsst/software/stack/stack/miniconda3-py38_4.9.2-5.1.0/Linux64/daf_butler/gf8dc3d25d9+8feadece27/python/lsst/daf/butler/core/config.py:372\u001b[0m, in \u001b[0;36mConfig.__initFromUri\u001b[0;34m(self, path)\u001b[0m\n\u001b[1;32m    371\u001b[0m \u001b[38;5;28;01mif\u001b[39;00m \u001b[38;5;129;01mnot\u001b[39;00m uri\u001b[38;5;241m.\u001b[39mexists():\n\u001b[0;32m--> 372\u001b[0m     \u001b[38;5;28;01mraise\u001b[39;00m \u001b[38;5;167;01mFileNotFoundError\u001b[39;00m(\u001b[38;5;124mf\u001b[39m\u001b[38;5;124m\"\u001b[39m\u001b[38;5;124mConfig location \u001b[39m\u001b[38;5;132;01m{\u001b[39;00muri\u001b[38;5;132;01m}\u001b[39;00m\u001b[38;5;124m does not exist.\u001b[39m\u001b[38;5;124m\"\u001b[39m)\n\u001b[1;32m    373\u001b[0m \u001b[38;5;28;01mraise\u001b[39;00m \u001b[38;5;167;01mRuntimeError\u001b[39;00m(\u001b[38;5;124mf\u001b[39m\u001b[38;5;124m\"\u001b[39m\u001b[38;5;124mThe Config URI does not have a supported extension: \u001b[39m\u001b[38;5;132;01m{\u001b[39;00muri\u001b[38;5;132;01m}\u001b[39;00m\u001b[38;5;124m\"\u001b[39m)\n",
      "\u001b[0;31mFileNotFoundError\u001b[0m: Config location /home/r/rnevin/citizen-science-notebooks/dp02 does not exist.",
      "\nThe above exception was the direct cause of the following exception:\n",
      "\u001b[0;31mFileNotFoundError\u001b[0m                         Traceback (most recent call last)",
      "Input \u001b[0;32mIn [1]\u001b[0m, in \u001b[0;36m<cell line: 5>\u001b[0;34m()\u001b[0m\n\u001b[1;32m      3\u001b[0m config \u001b[38;5;241m=\u001b[39m \u001b[38;5;124m'\u001b[39m\u001b[38;5;124mdp02\u001b[39m\u001b[38;5;124m'\u001b[39m\n\u001b[1;32m      4\u001b[0m collection \u001b[38;5;241m=\u001b[39m \u001b[38;5;124m'\u001b[39m\u001b[38;5;124m2.2i/runs/DP0.2\u001b[39m\u001b[38;5;124m'\u001b[39m\n\u001b[0;32m----> 5\u001b[0m service, butler, skymap \u001b[38;5;241m=\u001b[39m \u001b[43mutils\u001b[49m\u001b[38;5;241;43m.\u001b[39;49m\u001b[43msetup_butler\u001b[49m\u001b[43m(\u001b[49m\u001b[43mconfig\u001b[49m\u001b[43m,\u001b[49m\u001b[43m \u001b[49m\u001b[43mcollection\u001b[49m\u001b[43m)\u001b[49m   \n",
      "File \u001b[0;32m~/citizen-science-notebooks/utils.py:140\u001b[0m, in \u001b[0;36msetup_butler\u001b[0;34m(config, collection)\u001b[0m\n\u001b[1;32m    132\u001b[0m service \u001b[38;5;241m=\u001b[39m get_tap_service()\n\u001b[1;32m    133\u001b[0m \u001b[38;5;66;03m#assert service is not None\u001b[39;00m\n\u001b[1;32m    134\u001b[0m \u001b[38;5;66;03m#assert service.baseurl == \"https://data.lsst.cloud/api/tap\"\u001b[39;00m\n\u001b[1;32m    135\u001b[0m \n\u001b[0;32m   (...)\u001b[0m\n\u001b[1;32m    138\u001b[0m \u001b[38;5;66;03m#config = 'dp02'\u001b[39;00m\n\u001b[1;32m    139\u001b[0m \u001b[38;5;66;03m#collection = '2.2i/runs/DP0.2'\u001b[39;00m\n\u001b[0;32m--> 140\u001b[0m butler \u001b[38;5;241m=\u001b[39m \u001b[43mdafButler\u001b[49m\u001b[38;5;241;43m.\u001b[39;49m\u001b[43mButler\u001b[49m\u001b[43m(\u001b[49m\u001b[43mconfig\u001b[49m\u001b[43m,\u001b[49m\u001b[43m \u001b[49m\u001b[43mcollections\u001b[49m\u001b[38;5;241;43m=\u001b[39;49m\u001b[43mcollection\u001b[49m\u001b[43m)\u001b[49m\n\u001b[1;32m    141\u001b[0m skymap \u001b[38;5;241m=\u001b[39m butler\u001b[38;5;241m.\u001b[39mget(\u001b[38;5;124m'\u001b[39m\u001b[38;5;124mskyMap\u001b[39m\u001b[38;5;124m'\u001b[39m)\n\u001b[1;32m    143\u001b[0m \u001b[38;5;28;01mreturn\u001b[39;00m service, butler, skymap\n",
      "File \u001b[0;32m/opt/lsst/software/stack/stack/miniconda3-py38_4.9.2-5.1.0/Linux64/daf_butler/gf8dc3d25d9+8feadece27/python/lsst/daf/butler/_butler.py:273\u001b[0m, in \u001b[0;36mButler.__init__\u001b[0;34m(self, config, butler, collections, run, searchPaths, writeable, inferDefaults, **kwargs)\u001b[0m\n\u001b[1;32m    271\u001b[0m     \u001b[38;5;28;01melse\u001b[39;00m:\n\u001b[1;32m    272\u001b[0m         aliases \u001b[38;5;241m=\u001b[39m \u001b[38;5;124m\"\u001b[39m\u001b[38;5;124m(no known aliases)\u001b[39m\u001b[38;5;124m\"\u001b[39m\n\u001b[0;32m--> 273\u001b[0m     \u001b[38;5;28;01mraise\u001b[39;00m \u001b[38;5;167;01mFileNotFoundError\u001b[39;00m(\u001b[38;5;124mf\u001b[39m\u001b[38;5;124m\"\u001b[39m\u001b[38;5;132;01m{\u001b[39;00me\u001b[38;5;132;01m}\u001b[39;00m\u001b[38;5;124m \u001b[39m\u001b[38;5;132;01m{\u001b[39;00maliases\u001b[38;5;132;01m}\u001b[39;00m\u001b[38;5;124m\"\u001b[39m) \u001b[38;5;28;01mfrom\u001b[39;00m \u001b[38;5;21;01me\u001b[39;00m\n\u001b[1;32m    274\u001b[0m \u001b[38;5;28mself\u001b[39m\u001b[38;5;241m.\u001b[39m_config \u001b[38;5;241m=\u001b[39m ButlerConfig(config, searchPaths\u001b[38;5;241m=\u001b[39msearchPaths)\n\u001b[1;32m    275\u001b[0m \u001b[38;5;28;01mtry\u001b[39;00m:\n",
      "\u001b[0;31mFileNotFoundError\u001b[0m: Config location /home/r/rnevin/citizen-science-notebooks/dp02 does not exist. (known aliases: /repo/tts, LATISS, LSSTCam, /repo/embargo, /repo/ir2, /repo/main, LSSTComCam, /repo/embargo_txn, /repo/hsc-temp, /repo/dc2, /repo/oga, /repo/main_txn, /repo/dc2_txn, /repo/tts_txn, /repo/ir2_txn)"
     ]
    }
   ],
   "source": [
    "import utils\n",
    "\n",
    "config = 'dp02'\n",
    "collection = '2.2i/runs/DP0.2'\n",
    "service, butler, skymap = utils.setup_butler(config, collection)   "
   ]
  },
  {
   "cell_type": "code",
   "execution_count": null,
   "id": "a82ef1a9-4835-4aeb-afdf-accaaf7e3007",
   "metadata": {
    "tags": []
   },
   "outputs": [],
   "source": [
    "max_rec=5 # make 100 for full subject set test\n",
    "use_center_coords = \"62, -37\"\n",
    "use_radius = \"1.0\""
   ]
  },
  {
   "cell_type": "markdown",
   "id": "8e240d4a-f8d3-4837-923f-12be9bff5f79",
   "metadata": {},
   "source": [
    "Query can be modified to other sources - currently just selecting 10 objects (change max_rec above)"
   ]
  },
  {
   "cell_type": "code",
   "execution_count": null,
   "id": "119358cc-5244-4984-872c-a6311052d9c8",
   "metadata": {
    "tags": []
   },
   "outputs": [],
   "source": [
    "query = \"SELECT TOP \" + str(max_rec) + \" \" + \\\n",
    "        \"objectId, coord_ra, coord_dec, detect_isPrimary \" + \\\n",
    "        \"g_cModelFlux, r_cModelFlux, r_extendedness, r_inputCount \" + \\\n",
    "        \"FROM dp02_dc2_catalogs.Object \" + \\\n",
    "        \"WHERE CONTAINS(POINT('ICRS', coord_ra, coord_dec), \" + \\\n",
    "        \"CIRCLE('ICRS', \" + use_center_coords + \", \" + use_radius + \")) = 1 \" + \\\n",
    "        \"AND detect_isPrimary = 1 \" + \\\n",
    "        \"AND r_extendedness = 1 \" + \\\n",
    "        \"AND scisql_nanojanskyToAbMag(r_cModelFlux) < 18.0 \" + \\\n",
    "        \"ORDER by r_cModelFlux DESC\"\n",
    "results = service.search(query)\n",
    "assert len(results) == max_rec"
   ]
  },
  {
   "cell_type": "code",
   "execution_count": null,
   "id": "9bf4c80e-4402-4f0f-abe1-a6cd5ce6587c",
   "metadata": {
    "tags": []
   },
   "outputs": [],
   "source": [
    "results_table = results.to_table().to_pandas()\n",
    "results_table['dataId'] = results_table.apply(lambda x: utils.get_bandtractpatch(x['coord_ra'], x['coord_dec'], skymap), axis=1)"
   ]
  },
  {
   "cell_type": "markdown",
   "id": "6422604f-0b48-4d81-a40b-a04f3434cfac",
   "metadata": {},
   "source": [
    "### Additional Data to Send\n",
    "You may desire to send additional data in addition to the image cutout. The fields represented as strings within the `fields_to_add` array will be sent along with each image. If there are any fields that you do not need then feel free to remove them from the array.\n",
    "\n",
    "__Note:__ : Object ID is always included."
   ]
  },
  {
   "cell_type": "code",
   "execution_count": null,
   "id": "8a8b74ee-828f-432e-b8f8-68674749cea5",
   "metadata": {
    "tags": []
   },
   "outputs": [],
   "source": [
    "# In-memory manifest file as an array of dicts\n",
    "manifest = []\n",
    "\n",
    "# Specify the directory that the cutouts will be output to:\n",
    "batch_dir = \"./cutouts/\"\n",
    "\n",
    "# Create directory if it does not already exist\n",
    "if os.path.isdir(batch_dir) == False:\n",
    "    os.mkdir(batch_dir)\n",
    "\n",
    "# Loop over results_table, or any other iterable provided by the PI:\n",
    "for index, row in results_table.iterrows():\n",
    "    # Use the Butler to get data based on the data within the iterable\n",
    "    deepCoadd = butler.get('deepCoadd', dataId=row['dataId'])\n",
    "    filename = \"cutout\"+str(row['objectId'])+\".png\"\n",
    "    figout = utils.make_figure(deepCoadd, batch_dir + filename)\n",
    "    \n",
    "    # Create the CSV-file-row-as-dict \n",
    "    csv_row = {\n",
    "        \"filename\": filename, # required column, do not change the column name\n",
    "        \"sourceId\": row.objectId, # required column, do not change the column name\n",
    "        # Add your desired columns:\n",
    "        \"coord_ra\": row.coord_ra,\n",
    "        \"coord_dec\": row.coord_dec,\n",
    "        \"g_cModelFlux\": row.g_cModelFlux,\n",
    "        \"r_cModelFlux\": row.r_cModelFlux,\n",
    "        \"r_extendedness\": row.r_extendedness,\n",
    "        \"r_inputCount\": row.r_inputCount\n",
    "    }\n",
    "    manifest.append(csv_row)\n",
    "    utils.remove_figure(figout)\n",
    "    "
   ]
  },
  {
   "cell_type": "markdown",
   "id": "320f390d-578a-4151-8cbd-f34954bbbb33",
   "metadata": {
    "tags": []
   },
   "source": [
    "## 3.0 Preparing the Manifest File\n",
    "\n",
    "The manifest file _must_ abide by [RFC4180](https://datatracker.ietf.org/doc/html/rfc4180.html) as the backend service that parses the manifest file expects that this is so. In addition, you may have a column with no values, but there _must_ be an empty column value indicated with a comma. E.g.:\n",
    "\n",
    "Valid syntax for empty column:\n",
    "```\n",
    "column1,column2,empty_column,column4\n",
    "1,1,,4\n",
    "1,1,,4\n",
    "1,1,,4\n",
    "```\n",
    "\n",
    "**Important!**: The manifest file must be named `metadata.csv` in order for the processing on the backend to work correctly!"
   ]
  },
  {
   "cell_type": "markdown",
   "id": "1a14e18a-22fe-4c84-a05a-17c248fdee1b",
   "metadata": {
    "tags": []
   },
   "source": [
    "### Option 1: Write the manifest file to the filesystem automatically\n",
    "\n",
    "Running the below cell should take care of writing the `metadata.csv` file to the filesystem, which will ultimately be used as the manifest file by Zooniverse. You are welcome to edit the automatically created manifest file, just ensure that it's format abides by RFC4180.\n"
   ]
  },
  {
   "cell_type": "code",
   "execution_count": null,
   "id": "c2605029-f988-4d7c-991d-82aabb60e07b",
   "metadata": {
    "tags": []
   },
   "outputs": [],
   "source": [
    "manifest_path = write_metadata_file(manifest, batch_dir)\n",
    "\n",
    "print(\"The manifest CSV file can be found at the following relative path:\")\n",
    "print(manifest_path)"
   ]
  },
  {
   "cell_type": "markdown",
   "id": "c3309b77-ebe1-4f09-bd30-924df77369dc",
   "metadata": {
    "tags": []
   },
   "source": [
    "### Option 2: Specify the path to your own manifest file\n",
    "If desirable, specify the manifest CSV file manually. This is a simple matter of ensuring that it is named `metadata.csv` and placed in the `./cutouts/` folder (or whatever you renamed the `batch_dir` variable to)"
   ]
  },
  {
   "cell_type": "markdown",
   "id": "76e65f2f-f161-480d-ad8e-26f977136c64",
   "metadata": {},
   "source": [
    "## 4.0 Send the cutouts to Zooniverse\n",
    "\n",
    "Send your subject set to the Zooniverse. This cell will let you send one subject set. If you already have a set on Zooniverse, it will notify you and fail. If you want to send more data, delete what is on the Zooniverse and send again. You *may* get a warning that your set still exists or a \"Could not find subject_set with id=' '\" error. If so, wait (~10min) and try again, as Zooniverse takes a minute to process your changes. You may also have re-run the \"Look up your project cell\". Don't click the below cell multiple times, the upload will fail if multiple runs are attempted.\n",
    "\n",
    "It has successfully worked if you get nofication and an email saying your data has been sent."
   ]
  },
  {
   "cell_type": "markdown",
   "id": "b5e1886b-0b90-4214-8dc4-037fa87a28b4",
   "metadata": {},
   "source": [
    "### Name the new subject set\n",
    "Name your subject set as it will appear on the Zooniverse. Try not to reuse names. "
   ]
  },
  {
   "cell_type": "code",
   "execution_count": null,
   "id": "9cb27552-1f98-4930-a72f-1a09f1118834",
   "metadata": {
    "tags": []
   },
   "outputs": [],
   "source": [
    "subject_set_name = \"\"\n",
    "subject_set_name"
   ]
  },
  {
   "cell_type": "code",
   "execution_count": null,
   "id": "7af45f7d-192d-4215-9b00-512afd11590f",
   "metadata": {
    "tags": []
   },
   "outputs": [],
   "source": [
    "__cit_sci_data_type = _HIPS_CUTOUTS # Important: DO NOT change this value. Update - this value may be changed.\n",
    "send_data(subject_set_name, batch_dir, manifest)"
   ]
  },
  {
   "cell_type": "code",
   "execution_count": null,
   "id": "e2155f27-e2c5-4ae1-9386-8bfbe40389ee",
   "metadata": {},
   "outputs": [],
   "source": [
    "batch_dir"
   ]
  },
  {
   "cell_type": "markdown",
   "id": "820c7931-260a-48f9-831f-ce23f8906c04",
   "metadata": {},
   "source": [
    "## Download Batch Metadata\n",
    "This functionality is in an experimental/alpha state and as such unexpected behavior may occur. Do not attempt to run this cell without first running the top cell in this notebook that prompts you to log in to the Zooniverse platform."
   ]
  },
  {
   "cell_type": "code",
   "execution_count": null,
   "id": "14a625ef-9952-4d59-97fe-fa6c874a60d4",
   "metadata": {},
   "outputs": [],
   "source": [
    "test = download_batch_metadata()\n",
    "test"
   ]
  },
  {
   "cell_type": "markdown",
   "id": "a67d0b65-3ff9-44b3-9a8c-50749642b503",
   "metadata": {},
   "source": [
    "### Explicitly check the status of your data batch\n",
    "Is the send_data() call above stalling on \"Notifying the Rubin EPO Data Center...\" step? Run the below cell every few minutes to check the status of your data. Large datasets can cause the response to get lost, but that does not necessarily mean that your data was not sent to Zooniverse."
   ]
  },
  {
   "cell_type": "code",
   "execution_count": null,
   "id": "085e54d1-4872-4467-988c-8f2ac87f9850",
   "metadata": {},
   "outputs": [],
   "source": [
    "res = check_status()\n",
    "print(\"Status:\")\n",
    "print(res[\"status\"])\n",
    "print(\"Manifest:\")\n",
    "print(res[\"manifest_url\"])\n",
    "print(\"Messages:\")\n",
    "print(res[\"messages\"])\n",
    "if res[\"status\"] == \"success\":\n",
    "    global manifest_url\n",
    "    manifest_url = res[\"manifest_url\"]\n",
    "    send_zooniverse_manifest()"
   ]
  },
  {
   "cell_type": "markdown",
   "id": "dc25572f-5f14-46c6-8883-ac95e3aa072c",
   "metadata": {},
   "source": [
    "## Retrieve the data\n",
    "There are two ways to do this:\n",
    "1) Programatically (we show this here), \n",
    "2) By directly going to your Zooniverse project and downloading the output csv files\n",
    "\n",
    "First, let's do it programatically. (Note that this currently only works if you are the owner of the project.)"
   ]
  },
  {
   "cell_type": "code",
   "execution_count": null,
   "id": "03327003-fe3b-4695-9e64-e2859a1c0fb1",
   "metadata": {},
   "outputs": [],
   "source": [
    "import panoptes_client\n",
    "client = panoptes_client.Panoptes.connect(login=\"interactive\")\n",
    "\n",
    "# The above should be happening already in the SDK cell\n",
    "\n",
    "###############################################################################################\n",
    "\n",
    "# First get the workflow ID from the Zooniverse API:\n",
    "\n",
    "clares_project_id = 19539\n",
    "sets = client.get(f\"/workflows?project_id={clares_project_id}\", {}, {\n",
    "  'Accept': 'application/vnd.api+json; version=1',\n",
    "  'Content-Type': 'application/json'\n",
    "})\n",
    "\n",
    "print(\"Sets : \")\n",
    "print(sets)\n",
    "\n",
    "# Then get the href/URL for the workflow classification output:\n",
    "\n",
    "workflow_id = None # change this workflow.id found in the above print(sets) output\n",
    "workflow = client.get(f\"/workflows/{workflow_id}\", {}, {\n",
    "  'Accept': 'application/vnd.api+json; version=1',\n",
    "  'Content-Type': 'application/json'\n",
    "})\n",
    "\n",
    "print(\"\\n\\nWorkflow : \")\n",
    "print(workflow)\n",
    "\n",
    "# Then attempt to retrieve the classification export:\n",
    "\n",
    "classification_export_href = None # Change this to the workflows.classifications_export.href value in the above print(workflow) output\n",
    "\n",
    "# The below line fails for eric\n",
    "classification = client.get(classification_export_href, {}, {\n",
    "  'Accept': 'application/vnd.api+json; version=1',\n",
    "  'Content-Type': 'application/json'\n",
    "})\n",
    "\n",
    "print(\"\\n\\nClassifications : \")\n",
    "print(classification) "
   ]
  }
 ],
 "metadata": {
  "kernelspec": {
   "display_name": "LSST",
   "language": "python",
   "name": "lsst"
  },
  "language_info": {
   "codemirror_mode": {
    "name": "ipython",
    "version": 3
   },
   "file_extension": ".py",
   "mimetype": "text/x-python",
   "name": "python",
   "nbconvert_exporter": "python",
   "pygments_lexer": "ipython3",
   "version": "3.10.9"
  }
 },
 "nbformat": 4,
 "nbformat_minor": 5
}
