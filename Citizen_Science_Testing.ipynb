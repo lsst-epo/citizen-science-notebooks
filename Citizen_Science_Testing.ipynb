{
 "cells": [
  {
   "cell_type": "markdown",
   "id": "4ca66653-c815-47a4-af85-65b646a67e57",
   "metadata": {},
   "source": [
    "<img align=\"left\" src = https://project.lsst.org/sites/default/files/Rubin-O-Logo_0.png width=250 style=\"padding: 10px\"> \n",
    "<b>Citizen Science Notebook</b> <br>\n",
    "Contact author: Clare Higgs & Eric Rosas <br>\n",
    "Last verified to run: 2023-09-01 <br>\n",
    "LSST Science Pipelines version: Weekly 2023_21 <br>\n",
    "Container size: small or medium <br>\n",
    "Targeted learning level: beginner "
   ]
  },
  {
   "cell_type": "code",
   "execution_count": 1,
   "id": "eba4a36f-134d-40f9-be1b-bf276a302832",
   "metadata": {
    "execution": {
     "iopub.execute_input": "2023-09-01T15:48:57.938682Z",
     "iopub.status.busy": "2023-09-01T15:48:57.937896Z",
     "iopub.status.idle": "2023-09-01T15:48:57.981122Z",
     "shell.execute_reply": "2023-09-01T15:48:57.980328Z",
     "shell.execute_reply.started": "2023-09-01T15:48:57.938651Z"
    },
    "tags": []
   },
   "outputs": [],
   "source": [
    "%load_ext pycodestyle_magic\n",
    "%flake8_on\n",
    "import logging\n",
    "logging.getLogger(\"flake8\").setLevel(logging.FATAL)"
   ]
  },
  {
   "cell_type": "markdown",
   "id": "7ab73f57-e2e2-4cfb-a32d-da2a86b4e675",
   "metadata": {
    "execution": {
     "iopub.execute_input": "2023-09-08T02:10:17.367615Z",
     "iopub.status.busy": "2023-09-08T02:10:17.367250Z",
     "iopub.status.idle": "2023-09-08T02:10:17.373559Z",
     "shell.execute_reply": "2023-09-08T02:10:17.372613Z",
     "shell.execute_reply.started": "2023-09-08T02:10:17.367586Z"
    },
    "tags": []
   },
   "source": [
    "<b>Description:</b> This notebook is intended to guide a PI through the process of sending data from the Rubin Science Platform (RSP) to the Zooniverse and retrieving classifications from Zooniverse. <br><br>\n",
    "<b>Skills:</b> TAP query, Butler query, create and display cutout images, send cutout images to Zooniverse<br><br>\n",
    "<b>LSST Data Products:</b> TAP table, deepCoadd images, manifest file<br><br>\n",
    "<b>Packages:</b> citsci_notebook_core_pipeline.rubin_citsci_core_pipeline.CitSciPipeline(), utils (citsci plotting and display utilities) <br><br>\n",
    "<b>Credit:</b> The TAP query is based on notebooks developed by Leanne Guy and the Butler <br><br>\n",
    "<b>Get Support: </b>We encourage PIs new to DP0 to find documentation and resources at <a href=\"https://dp0-2.lsst.io/\">dp0-2.lsst.io</a>. Support for this notebook is available and questions are welcome at cscience@lsst.org."
   ]
  },
  {
   "cell_type": "markdown",
   "id": "0e6fb8a1-9e30-470d-9a35-93742d276e6e",
   "metadata": {},
   "source": [
    "## Table of Contents\n",
    "* [Introduction](#first-bullet)\n",
    "* [Set up necessary modules and log on to the Zooniverse platform](#second-bullet)\n",
    "* [Make a subject set to send to Zooniverse](#third-bullet)\n",
    "* [Create a manifest file](#fourth-bullet)\n",
    "* [Send the data to Zooniverse](#fifth-bullet)\n",
    "* [Retrieve the data](#sixth-bullet)"
   ]
  },
  {
   "cell_type": "code",
   "execution_count": null,
   "id": "73d12fc0-c926-489b-9713-2e427566274e",
   "metadata": {},
   "outputs": [],
   "source": [
    "!pip install --upgrade --force-reinstall --no-deps citsci-notebook-core-pipeline --quiet\n",
    "import utils\n",
    "from matplotlib import image as mpimg\n",
    "import matplotlib.pyplot as plt\n",
    "from citsci_notebook_core_pipeline import rubin_citsci_core_pipeline\n"
   ]
  },
  {
   "cell_type": "markdown",
   "id": "6f8b563e-c151-476e-8ef0-9e8088d1ec61",
   "metadata": {},
   "source": [
    "## Introduction <a class=\"anchor\" id=\"first-bullet\"></a>"
   ]
  },
  {
   "cell_type": "markdown",
   "id": "3acf47de-d8df-41a1-b966-7f16c87413cf",
   "metadata": {},
   "source": [
    "<div class=\"alert alert-info\">\n",
    "\n",
    "As explained in the guide, this notebook will restrict the number of object sent to the Zooniverse to 100 objects. This limit is intended to demonstrate your project prior to full approval from the EPO Data Rights Panel.\n",
    "    \n",
    "\n",
    "\n",
    "</div>"
   ]
  },
  {
   "cell_type": "markdown",
   "id": "b108a439-1f3e-4962-adeb-ce144a8d8be7",
   "metadata": {},
   "source": [
    "## 1.0 Set up necessary modules and log on to the Zooniverse platform <a class=\"anchor\" id=\"second-bullet\"></a>\n",
    "\n"
   ]
  },
  {
   "cell_type": "markdown",
   "id": "31708bc8-a527-4ccb-b2cd-6187a61cef21",
   "metadata": {},
   "source": [
    "<div class=\"alert alert-info\">\n",
    "\n",
    "If you haven't already, [create a Zooniverse account](https://www.zooniverse.org/accounts/registerhttps://www.zooniverse.org/accounts/register) and create your project.\n",
    "\n",
    "IMPORTANT: Your Zooniverse project must be set to \"public\", a \"private\" project will not work. Select this setting under the \"Visibility\" tab, (it does not need to be set to live). \n",
    "\n",
    "Supply your email and project slug below. \n",
    "\n",
    "> A \"slug\" is the string of your Zooniverse username and your project name without the leading forward slash, for instance: \"username/project-name\". [Click here for more details](https://www.zooniverse.org/talk/18/967061?comment=1898157&page=1).\n",
    "\n",
    "</div>"
   ]
  },
  {
   "cell_type": "markdown",
   "id": "09bfadd7-fa36-48c1-bb3b-f2c193c798fd",
   "metadata": {
    "execution": {
     "iopub.execute_input": "2023-09-25T18:31:03.183596Z",
     "iopub.status.busy": "2023-09-25T18:31:03.183249Z",
     "iopub.status.idle": "2023-09-25T18:31:32.779954Z",
     "shell.execute_reply": "2023-09-25T18:31:32.779107Z",
     "shell.execute_reply.started": "2023-09-25T18:31:03.183570Z"
    },
    "tags": []
   },
   "source": [
    "### Install Pipeline Package\n",
    "\n",
    "First, install the Rubin Citizen Science Pipeline package by doing the following:\n",
    "\n",
    "1. Open up a New Launcher tab\n",
    "2. In the \"Other\" section of the New Launcher tab, click \"Terminal\"\n",
    "3. Use `pip` to install the `rubin.citsci` package by entering the following command:\n",
    "```\n",
    "pip install rubin.citsci\n",
    "```\n",
    "4. Confirm the next cell containing `from rubin.citsci import pipeline` works as expected and does not throw an error"
   ]
  },
  {
   "cell_type": "code",
   "execution_count": null,
   "id": "4b986242-5524-4b9d-bd5f-3025c02361d2",
   "metadata": {
    "tags": []
   },
   "outputs": [],
   "source": [
    "from rubin.citsci import pipeline"
   ]
  },
  {
   "cell_type": "code",
   "execution_count": null,
   "id": "60cd5b7b-39a0-4565-b55b-f40ea9784b7f",
   "metadata": {
    "tags": []
   },
   "outputs": [],
   "source": [
    "import utils"
   ]
  },
  {
   "cell_type": "code",
   "execution_count": null,
   "id": "0edb67a4-1508-4b90-872c-8c42e642126b",
   "metadata": {
    "tags": []
   },
   "outputs": [],
   "source": [
    "email = \"\" # Email associated with Zooniverse account \n",
    "slug_name = \"\" # Do not include the leading forward-slash, see above \n",
    "\n",
    "print(\"Loading and running utilities to establish a link with Zooniverse\")\n",
    "print(\"Enter your Zooniverse username followed by password below\")\n",
    "cit_sci_pipeline = pipeline.CitSciPipeline()\n",
    "cit_sci_pipeline.login_to_zooniverse(slug_name, email)"
   ]
  },
  {
   "cell_type": "markdown",
   "id": "1cf92062-0e45-44a8-988c-010104405ab3",
   "metadata": {},
   "source": [
    "## 2.0 Make a subject set to send to Zooniverse <a class=\"anchor\" id=\"third-bullet\"></a>"
   ]
  },
  {
   "cell_type": "markdown",
   "id": "83901854-459d-495b-8008-bb6ddb1055a2",
   "metadata": {},
   "source": [
    "<div class=\"alert alert-info\">\n",
    "\n",
    "> A subject set is a collection of data (images, plots, etc) that are shown to citizen scientists. It is also the unit of data that is sent to Zooniverse.\n",
    "\n",
    "Here, we curate the subject set of objects to send to Zooniverse. This can be modified to create your own subject set. Your subject set must have 100 objects or less in the testing phase before your project is approved by the EPO Data Rights panel. \n",
    "\n",
    "This example makes a set of image cutouts of galaxies.\n",
    "</div>"
   ]
  },
  {
   "cell_type": "code",
   "execution_count": null,
   "id": "7701a319-3c4a-4c37-a460-ef5f3169b483",
   "metadata": {
    "tags": []
   },
   "outputs": [],
   "source": [
    "print('Establishing the connection to the Butler')\n",
    "config = \"dp02\"\n",
    "collection = \"2.2i/runs/DP0.2\"\n",
    "service, butler, skymap = utils.setup_butler(config, collection)\n",
    "print('Connected')"
   ]
  },
  {
   "cell_type": "code",
   "execution_count": null,
   "id": "a82ef1a9-4835-4aeb-afdf-accaaf7e3007",
   "metadata": {
    "tags": []
   },
   "outputs": [],
   "source": [
    "print('Setting the parameters for making image cutouts')\n",
    "number_sources = 5  # change this to 100 for a full subject set test\n",
    "use_center_coords = \"62, -37\"\n",
    "use_radius = \"1.0\""
   ]
  },
  {
   "cell_type": "markdown",
   "id": "8e240d4a-f8d3-4837-923f-12be9bff5f79",
   "metadata": {},
   "source": [
    "<div class=\"alert alert-info\">\n",
    "This query can be modified to select other types of sources. This query can be modified to select other types of sources. \n",
    "\n",
    "If you want more details on this please have a look at the RSP tutorial notebooks ('/home/your_username/notebooks/tutorial-notebooks').\n",
    "</div>"
   ]
  },
  {
   "cell_type": "code",
   "execution_count": null,
   "id": "119358cc-5244-4984-872c-a6311052d9c8",
   "metadata": {
    "tags": []
   },
   "outputs": [],
   "source": [
    "print('Running the Butler query to return objects')\n",
    "results = utils.run_butler_query(service, number_sources, use_center_coords, use_radius)"
   ]
  },
  {
   "cell_type": "code",
   "execution_count": null,
   "id": "9bf4c80e-4402-4f0f-abe1-a6cd5ce6587c",
   "metadata": {
    "tags": []
   },
   "outputs": [],
   "source": [
    "print('Preparing the table')\n",
    "results_table = utils.prep_table(results, skymap)"
   ]
  },
  {
   "cell_type": "markdown",
   "id": "972cec6c-be76-4d5a-8a67-7034968270e3",
   "metadata": {},
   "source": [
    "<div class=\"alert alert-info\">\n",
    "Have a look at the table you'll use to save the cutout images.\n",
    "</div>"
   ]
  },
  {
   "cell_type": "code",
   "execution_count": null,
   "id": "ea7c6026-9d87-40ee-9f64-c507b72a36fc",
   "metadata": {
    "tags": []
   },
   "outputs": [],
   "source": [
    "results_table"
   ]
  },
  {
   "cell_type": "markdown",
   "id": "6422604f-0b48-4d81-a40b-a04f3434cfac",
   "metadata": {},
   "source": [
    "## 3.0 Create a manifest file <a class=\"anchor\" id=\"fourth-bullet\"></a>\n"
   ]
  },
  {
   "cell_type": "markdown",
   "id": "7347661c-1db0-4db5-bb16-8850d2bd7477",
   "metadata": {},
   "source": [
    "<div class=\"alert alert-info\">\n",
    "\n",
    "> A manifest file is a csv file that is used to send all of the classification subjects to the Zooniverse. This file can be used to initiate options on the Zooniverse side. [Click here for an overview](https://about.pfe-preview.zooniverse.org/lab-how-to)\n",
    "\n",
    "You may desire to send data besides the image cutouts. To do so, edit the `make_manifest_and_images` utility. __Note:__ Object ID must be included.\n",
    "</div>"
   ]
  },
  {
   "cell_type": "code",
   "execution_count": null,
   "id": "8a8b74ee-828f-432e-b8f8-68674749cea5",
   "metadata": {
    "tags": []
   },
   "outputs": [],
   "source": [
    "print('Specify the directory that the cutouts will be output to')\n",
    "batch_dir = \"./cutouts/\"\n",
    "print(f\"Make the manifest file and save both the manifest and the cutout images in this folder: {batch_dir}\")\n",
    "manifest = utils.make_manifest_with_images(results_table, butler, batch_dir)"
   ]
  },
  {
   "cell_type": "markdown",
   "id": "e237db04-0e98-4dae-a515-56bb9bf4e6d5",
   "metadata": {},
   "source": [
    "<div class=\"alert alert-info\">\n",
    "Let's have a look at some of the cutout images you saved.\n",
    "</div>"
   ]
  },
  {
   "cell_type": "code",
   "execution_count": null,
   "id": "e4e9239a-83fb-4052-8af1-a82b46be7775",
   "metadata": {
    "tags": []
   },
   "outputs": [],
   "source": [
    "\n",
    "\n",
    "for file in os.listdir(batch_dir):\n",
    "    try:\n",
    "        plt.title(file)\n",
    "        image = mpimg.imread(batch_dir + file)\n",
    "        plt.imshow(image)\n",
    "        plt.axis('off')\n",
    "        plt.show()\n",
    "    except:\n",
    "        continue"
   ]
  },
  {
   "cell_type": "markdown",
   "id": "839852b0-4c95-424d-a2bf-f57e638b67df",
   "metadata": {},
   "source": [
    "### Option 1: Write the manifest file to the filesystem automatically"
   ]
  },
  {
   "cell_type": "markdown",
   "id": "1a14e18a-22fe-4c84-a05a-17c248fdee1b",
   "metadata": {
    "tags": []
   },
   "source": [
    "<div class=\"alert alert-info\">\n",
    "\n",
    "The below cell writes the `manifest.csv` file to the filesystem, which will be used by Zooniverse.\n",
    "</div> \n"
   ]
  },
  {
   "cell_type": "code",
   "execution_count": null,
   "id": "c2605029-f988-4d7c-991d-82aabb60e07b",
   "metadata": {
    "tags": []
   },
   "outputs": [],
   "source": [
    "manifest_path = cit_sci_pipeline.write_manifest_file(manifest, batch_dir)\n",
    "print(\"The manifest CSV file can be found at the following relative path:\")\n",
    "print(manifest_path)"
   ]
  },
  {
   "cell_type": "markdown",
   "id": "be75075b-4c84-4653-9c3a-a01232afc3dd",
   "metadata": {
    "tags": []
   },
   "source": [
    "### Option 2: Specify the path to your own manifest file"
   ]
  },
  {
   "cell_type": "markdown",
   "id": "66c4b803-d2f9-46c5-9db8-87a23d508be8",
   "metadata": {},
   "source": [
    "<div class=\"alert alert-info\">\n",
    "    \n",
    "If desirable, specify the manifest CSV file manually. This is a simple matter of ensuring that it is named `metadata.csv` and placed in the `./cutouts/` folder (or whatever you renamed the `batch_dir` variable to).\n",
    "</div>\n"
   ]
  },
  {
   "cell_type": "markdown",
   "id": "320f390d-578a-4151-8cbd-f34954bbbb33",
   "metadata": {
    "tags": []
   },
   "source": [
    "### Option 3: Make your own manifest file\n"
   ]
  },
  {
   "cell_type": "markdown",
   "id": "8113df75-ce7a-43e9-b6a8-7814d7c5452e",
   "metadata": {},
   "source": [
    "<div class=\"alert alert-info\">\n",
    "    \n",
    "You are welcome to edit the automatically created manifest file (option 1) or create a new manifest file (option 2).\n",
    "\n",
    "The manifest file _must_ abide by [RFC4180](https://datatracker.ietf.org/doc/html/rfc4180.html) as the backend service that parses the manifest file expects this format. In addition, you may have a column with no values, but there _must_ be an empty column value indicated with a comma. For example:\n",
    "\n",
    "Valid syntax for empty column:\n",
    "```\n",
    "column1,column2,empty_column,column4\n",
    "1,1,,4\n",
    "1,1,,4\n",
    "1,1,,4\n",
    "```\n",
    "\n",
    "**Important**: The manifest file must be named `manifest.csv` in order for the processing on the backend to work correctly.\n",
    "</div>"
   ]
  },
  {
   "cell_type": "markdown",
   "id": "76e65f2f-f161-480d-ad8e-26f977136c64",
   "metadata": {},
   "source": [
    "## 4.0 Send the data to Zooniverse <a class=\"anchor\" id=\"fifth-bullet\"></a>"
   ]
  },
  {
   "cell_type": "markdown",
   "id": "080ae215-c6d7-41af-86c3-58fd0cc1a19f",
   "metadata": {},
   "source": [
    "<div class=\"alert alert-info\">\n",
    "\n",
    "This cell will let you send one subject set. If you already have a set on Zooniverse, it will notify you and fail. If you want to send more data, delete what is on the Zooniverse and send again. You *may* get a warning that your set still exists or a \"Could not find subject_set with id=' '\" error. If so, wait (~10min) and try again, as Zooniverse takes a minute to process your changes. You may also have re-run the \"Look up your project cell\". Don't click the below cell multiple times, the upload will fail if multiple runs are attempted.\n",
    "\n",
    "It has successfully worked if you get nofication and an email saying your data has been sent.\n",
    "</div>\n"
   ]
  },
  {
   "cell_type": "markdown",
   "id": "b5e1886b-0b90-4214-8dc4-037fa87a28b4",
   "metadata": {},
   "source": [
    "<div class=\"alert alert-info\">\n",
    "Name your subject set as it will appear on the Zooniverse. Try not to reuse names.\n",
    "</div>"
   ]
  },
  {
   "cell_type": "code",
   "execution_count": null,
   "id": "7af45f7d-192d-4215-9b00-512afd11590f",
   "metadata": {
    "tags": []
   },
   "outputs": [],
   "source": [
    "print('Send the data to Zooniverse')\n",
    "subject_set_name = \"\"\n",
    "if len(subject_set_name) != 0:\n",
    "    cit_sci_pipeline.send_image_data(subject_set_name, batch_dir, manifest)\n",
    "else:\n",
    "    print(\"please set the subject set name, did not send batch\")"
   ]
  },
  {
   "cell_type": "markdown",
   "id": "dc25572f-5f14-46c6-8883-ac95e3aa072c",
   "metadata": {},
   "source": [
    "## 5.0 Retrieve the data <a class=\"anchor\" id=\"sixth-bullet\"></a>"
   ]
  },
  {
   "cell_type": "markdown",
   "id": "24396f20-cdea-41bc-8386-502a82f07886",
   "metadata": {},
   "source": [
    "<div class=\"alert alert-info\">\n",
    "There are two ways to do this:\n",
    "\n",
    "1) By directly going to your Zooniverse project and downloading the output csv files found on the 'Data Exports' tab. Click the 'Request new classification report' button and per Zooniverse: \"Please note some exports may take a long time to process. We will email you when they are ready. You can only request one of each type of data export within a 24-hour time period.\"\n",
    "\n",
    "2) Programatically (as we show below):\n",
    "</div>"
   ]
  },
  {
   "cell_type": "code",
   "execution_count": null,
   "id": "2f3c9b83-6d0b-4574-b1ba-e63e6684ef13",
   "metadata": {
    "tags": []
   },
   "outputs": [],
   "source": [
    "# This project_id is found on Zooniverse by selecting 'build a project' and then selecting the project\n",
    "# You don't need to be the project owner.\n",
    "print('Retrieve the classifications from Zooniverse')\n",
    "project_id = 19539\n",
    "raw_clas_data = cit_sci_pipeline.retrieve_data(project_id)\n",
    "\n",
    "counter = 0\n",
    "list_rows = []\n",
    "# If the following line throws an error, restart the kernel and rerun the cell.\n",
    "for row in raw_clas_data:\n",
    "    if counter == 0:\n",
    "        header = row\n",
    "    else:\n",
    "        list_rows.append(row)\n",
    "    counter += 1\n",
    "    \n",
    "df = utils.pandas.DataFrame(list_rows, columns=header)\n",
    "df"
   ]
  },
  {
   "cell_type": "code",
   "execution_count": null,
   "id": "05d32dad-0ced-4bdb-8684-2d9a84917be0",
   "metadata": {},
   "outputs": [],
   "source": []
  }
 ],
 "metadata": {
  "kernelspec": {
   "display_name": "LSST",
   "language": "python",
   "name": "lsst"
  },
  "language_info": {
   "codemirror_mode": {
    "name": "ipython",
    "version": 3
   },
   "file_extension": ".py",
   "mimetype": "text/x-python",
   "name": "python",
   "nbconvert_exporter": "python",
   "pygments_lexer": "ipython3",
   "version": "3.11.4"
  },
  "toc-autonumbering": false,
  "toc-showcode": true,
  "toc-showmarkdowntxt": true,
  "toc-showtags": false
 },
 "nbformat": 4,
 "nbformat_minor": 5
}
