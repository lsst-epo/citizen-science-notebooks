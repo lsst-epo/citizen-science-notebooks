{
 "cells": [
  {
   "cell_type": "markdown",
   "id": "4ca66653-c815-47a4-af85-65b646a67e57",
   "metadata": {},
   "source": [
    "<img align=\"left\" src = https://project.lsst.org/sites/default/files/Rubin-O-Logo_0.png width=250 style=\"padding: 10px\"> \n",
    "<b>Citzen Science Notebook</b> <br>\n",
    "Contact author: Clare Higgs & Eric Rosas <br>\n",
    "Last verified to run: 2022-10-20 <br>\n",
    "LSST Science Piplines version: Weekly 2022_40 <br>\n",
    "Container size: medium <br>\n"
   ]
  },
  {
   "cell_type": "markdown",
   "id": "6f8b563e-c151-476e-8ef0-9e8088d1ec61",
   "metadata": {},
   "source": [
    "## 1.0 Introduction\n",
    "This notebook is intended to guide a PI through the process of sending data from the Rubin Science Platform (RSP) to the Zooniverse.\n",
    "A detailed guide to Citizen Science projects, outlining the process, requirements and support available is here: (*link to citscipiguide*)\n",
    "The data sent can be currated on the RSP as a necessary and take many forms. Here, we include an example of sending png cutout images. \n",
    "We encourage PIs new to the Rubin dataset to explore the tutorial notebooks and documentation.\n",
    "\n",
    "As explained in the guide, this notebook will restrict the number of object sent to the Zooniverse to 100 objects. This limit is intended to demonstrate your project prior to full approval from the EPO Data Rights Panel. \n",
    "\n",
    "Support is available and questions are welcome - (*some email/link etc*)\n",
    "\n",
    "\n",
    "**DEBUG VERSION note that this version of the notebook contains additional debugging and the first cell will need to be run once**"
   ]
  },
  {
   "cell_type": "markdown",
   "id": "b108a439-1f3e-4962-adeb-ce144a8d8be7",
   "metadata": {},
   "source": [
    "### Log in to the Zooniverse Platform & Activate Citizen Science SDK\n",
    "\n",
    "If you haven't already, create a Zooniverse account here. and create your project. Your project must be set to \"public\". To set your project to public, select the \"Visibility\" tab. Note you will need to enter your username, password, and project slug below.\n",
    "\n",
    "After creating your account and project, return to this notebook.\n",
    "\n",
    "---\n",
    "\n",
    "Supply your email and project slug below. \n",
    "\n",
    "A \"slug\" is the string of your Zooniverse username and your project name without the leading forward slash, for instance: \"username/project-name\". \n",
    "\n",
    "For more details, see: https://www.zooniverse.org/talk/18/967061?comment=1898157&page=1.\n",
    "\n",
    "IMPORTANT: Your Zooniverse project must be set to \"public\", a \"private\" project will not work. Select this setting under the \"Visibility\" tab, (it does not need to be set to live). The following code will not work if you have not authenticated in the cell titled \"Log in to Zooniverse\"."
   ]
  },
  {
   "cell_type": "code",
   "execution_count": 1,
   "id": "0edb67a4-1508-4b90-872c-8c42e642126b",
   "metadata": {
    "execution": {
     "iopub.execute_input": "2023-03-23T16:16:24.606716Z",
     "iopub.status.busy": "2023-03-23T16:16:24.606013Z",
     "iopub.status.idle": "2023-03-23T16:16:42.072343Z",
     "shell.execute_reply": "2023-03-23T16:16:42.071443Z",
     "shell.execute_reply.started": "2023-03-23T16:16:24.606690Z"
    },
    "tags": []
   },
   "outputs": [
    {
     "name": "stdout",
     "output_type": "stream",
     "text": [
      "Installing external dependencies...\n",
      "Done installing external dependencies!\n",
      "Enter your Zooniverse credentials...\n"
     ]
    },
    {
     "name": "stdin",
     "output_type": "stream",
     "text": [
      "Username:  rebecca.nevin\n",
      " ········\n"
     ]
    },
    {
     "name": "stdout",
     "output_type": "stream",
     "text": [
      "You now are logged in to the Zooniverse platform.\n",
      "Loaded Citizen Science SDK\n"
     ]
    }
   ],
   "source": [
    "email = \"beckynevin@gmail.com\" # Please continue to use the same email address moving forward, as this is how we associate \n",
    "slugName = \"rebecca-dot-nevin/test-project\" # Replace this placholder text with your slug name, do not include the leading forward-slash\n",
    "%run Citizen_Science_SDK.ipynb"
   ]
  },
  {
   "cell_type": "markdown",
   "id": "36dbc0bb-19c3-4d3f-8a06-3150c7517fcd",
   "metadata": {},
   "source": [
    "## 2.0 Make a Subject Set to Send\n",
    "\n",
    "Here, the subject set of objects to send to Zooniverse should be curated. This can (and should!) be modified to create your own subject set. Your subject set must have 100 objects or less in the testing phase before your project is approved by the EPO Data Rights panel. \n",
    "\n",
    "Currently, this example makes a set of image cutouts of extended sources. "
   ]
  },
  {
   "cell_type": "code",
   "execution_count": 2,
   "id": "ee20b45b-ec67-4058-9c50-7c0ce68764aa",
   "metadata": {
    "execution": {
     "iopub.execute_input": "2023-03-23T16:16:45.553636Z",
     "iopub.status.busy": "2023-03-23T16:16:45.552813Z",
     "iopub.status.idle": "2023-03-23T16:16:49.019617Z",
     "shell.execute_reply": "2023-03-23T16:16:49.019105Z",
     "shell.execute_reply.started": "2023-03-23T16:16:45.553606Z"
    },
    "tags": []
   },
   "outputs": [],
   "source": [
    "import utils\n",
    "\n",
    "config = 'dp02'\n",
    "collection = '2.2i/runs/DP0.2'\n",
    "service, config, collection, butler, skymap = utils.setup_butler(config,collection)   "
   ]
  },
  {
   "cell_type": "code",
   "execution_count": 3,
   "id": "a82ef1a9-4835-4aeb-afdf-accaaf7e3007",
   "metadata": {
    "execution": {
     "iopub.execute_input": "2023-03-23T16:16:51.986893Z",
     "iopub.status.busy": "2023-03-23T16:16:51.986239Z",
     "iopub.status.idle": "2023-03-23T16:16:51.989398Z",
     "shell.execute_reply": "2023-03-23T16:16:51.988955Z",
     "shell.execute_reply.started": "2023-03-23T16:16:51.986871Z"
    },
    "tags": []
   },
   "outputs": [],
   "source": [
    "max_rec=5 # make 100 for full subject set test\n",
    "use_center_coords = \"62, -37\"\n",
    "use_radius = \"1.0\""
   ]
  },
  {
   "cell_type": "markdown",
   "id": "8e240d4a-f8d3-4837-923f-12be9bff5f79",
   "metadata": {},
   "source": [
    "Query can be modified to other sources - currently just selecting 10 objects (change max_rec above)"
   ]
  },
  {
   "cell_type": "code",
   "execution_count": 4,
   "id": "119358cc-5244-4984-872c-a6311052d9c8",
   "metadata": {
    "execution": {
     "iopub.execute_input": "2023-03-23T16:16:53.145212Z",
     "iopub.status.busy": "2023-03-23T16:16:53.144514Z",
     "iopub.status.idle": "2023-03-23T16:17:10.623372Z",
     "shell.execute_reply": "2023-03-23T16:17:10.622620Z",
     "shell.execute_reply.started": "2023-03-23T16:16:53.145180Z"
    },
    "tags": []
   },
   "outputs": [],
   "source": [
    "query = \"SELECT TOP \" + str(max_rec) + \" \" + \\\n",
    "        \"objectId, coord_ra, coord_dec, detect_isPrimary \" + \\\n",
    "        \"g_cModelFlux, r_cModelFlux, r_extendedness, r_inputCount \" + \\\n",
    "        \"FROM dp02_dc2_catalogs.Object \" + \\\n",
    "        \"WHERE CONTAINS(POINT('ICRS', coord_ra, coord_dec), \" + \\\n",
    "        \"CIRCLE('ICRS', \" + use_center_coords + \", \" + use_radius + \")) = 1 \" + \\\n",
    "        \"AND detect_isPrimary = 1 \" + \\\n",
    "        \"AND r_extendedness = 1 \" + \\\n",
    "        \"AND scisql_nanojanskyToAbMag(r_cModelFlux) < 18.0 \" + \\\n",
    "        \"ORDER by r_cModelFlux DESC\"\n",
    "results = service.search(query)\n",
    "assert len(results) == max_rec"
   ]
  },
  {
   "cell_type": "code",
   "execution_count": 5,
   "id": "9bf4c80e-4402-4f0f-abe1-a6cd5ce6587c",
   "metadata": {
    "execution": {
     "iopub.execute_input": "2023-03-23T16:17:10.641018Z",
     "iopub.status.busy": "2023-03-23T16:17:10.640819Z",
     "iopub.status.idle": "2023-03-23T16:17:10.653930Z",
     "shell.execute_reply": "2023-03-23T16:17:10.653282Z",
     "shell.execute_reply.started": "2023-03-23T16:17:10.641002Z"
    },
    "tags": []
   },
   "outputs": [],
   "source": [
    "results_table = results.to_table().to_pandas()\n",
    "results_table['dataId'] = results_table.apply(lambda x: utils.get_bandtractpatch(x['coord_ra'], x['coord_dec'], skymap), axis=1)"
   ]
  },
  {
   "cell_type": "markdown",
   "id": "6422604f-0b48-4d81-a40b-a04f3434cfac",
   "metadata": {},
   "source": [
    "### Additional Data to Send\n",
    "You may desire to send additional data in addition to the image cutout. The fields represented as strings within the `fields_to_add` array will be sent along with each image. If there are any fields that you do not need then feel free to remove them from the array.\n",
    "\n",
    "__Note:__ : Object ID is always included."
   ]
  },
  {
   "cell_type": "code",
   "execution_count": 7,
   "id": "8a8b74ee-828f-432e-b8f8-68674749cea5",
   "metadata": {
    "execution": {
     "iopub.execute_input": "2023-03-23T16:19:59.071377Z",
     "iopub.status.busy": "2023-03-23T16:19:59.071013Z",
     "iopub.status.idle": "2023-03-23T16:20:02.424954Z",
     "shell.execute_reply": "2023-03-23T16:20:02.424017Z",
     "shell.execute_reply.started": "2023-03-23T16:19:59.071352Z"
    },
    "tags": []
   },
   "outputs": [
    {
     "name": "stdout",
     "output_type": "stream",
     "text": [
      "waiting for ds9...\r"
     ]
    },
    {
     "name": "stderr",
     "output_type": "stream",
     "text": [
      "XPA$ERROR no 'xpaset' access points match template: ds9\n",
      "Error writing image: : Broken pipe\n"
     ]
    },
    {
     "ename": "RuntimeError",
     "evalue": "\n  File \"python/lsst/afw/display/simpleFits.cc\", line 433, in void lsst::afw::display::writeBasicFits(int, const ImageT&, const lsst::afw::geom::SkyWcs*, const char*) [with ImageT = lsst::afw::image::Image<float>]\n    Error writing data for row 5 {0}\nlsst::pex::exceptions::RuntimeError: 'Error writing data for row 5'\n",
     "output_type": "error",
     "traceback": [
      "\u001b[0;31m---------------------------------------------------------------------------\u001b[0m",
      "\u001b[0;31mRuntimeError\u001b[0m                              Traceback (most recent call last)",
      "Input \u001b[0;32mIn [7]\u001b[0m, in \u001b[0;36m<cell line: 9>\u001b[0;34m()\u001b[0m\n\u001b[1;32m     10\u001b[0m deepCoadd \u001b[38;5;241m=\u001b[39m butler\u001b[38;5;241m.\u001b[39mget(\u001b[38;5;124m'\u001b[39m\u001b[38;5;124mdeepCoadd\u001b[39m\u001b[38;5;124m'\u001b[39m, dataId\u001b[38;5;241m=\u001b[39mrow[\u001b[38;5;124m'\u001b[39m\u001b[38;5;124mdataId\u001b[39m\u001b[38;5;124m'\u001b[39m])\n\u001b[1;32m     11\u001b[0m filename \u001b[38;5;241m=\u001b[39m \u001b[38;5;124m\"\u001b[39m\u001b[38;5;124mcutout\u001b[39m\u001b[38;5;124m\"\u001b[39m\u001b[38;5;241m+\u001b[39m\u001b[38;5;28mstr\u001b[39m(row[\u001b[38;5;124m'\u001b[39m\u001b[38;5;124mobjectId\u001b[39m\u001b[38;5;124m'\u001b[39m])\u001b[38;5;241m+\u001b[39m\u001b[38;5;124m\"\u001b[39m\u001b[38;5;124m.png\u001b[39m\u001b[38;5;124m\"\u001b[39m\n\u001b[0;32m---> 12\u001b[0m figout \u001b[38;5;241m=\u001b[39m \u001b[43mutils\u001b[49m\u001b[38;5;241;43m.\u001b[39;49m\u001b[43mmake_figure\u001b[49m\u001b[43m(\u001b[49m\u001b[43mdeepCoadd\u001b[49m\u001b[43m,\u001b[49m\u001b[43m \u001b[49m\u001b[43mbatch_dir\u001b[49m\u001b[43m \u001b[49m\u001b[38;5;241;43m+\u001b[39;49m\u001b[43m \u001b[49m\u001b[43mfilename\u001b[49m\u001b[43m)\u001b[49m\n\u001b[1;32m     13\u001b[0m figout_data \u001b[38;5;241m=\u001b[39m {\n\u001b[1;32m     14\u001b[0m     \u001b[38;5;66;03m# \"image\": figout,\u001b[39;00m\n\u001b[1;32m     15\u001b[0m     \u001b[38;5;124m\"\u001b[39m\u001b[38;5;124mfilename\u001b[39m\u001b[38;5;124m\"\u001b[39m: filename,\n\u001b[1;32m     16\u001b[0m     \u001b[38;5;124m\"\u001b[39m\u001b[38;5;124medc_ver_id\u001b[39m\u001b[38;5;124m\"\u001b[39m: \u001b[38;5;28mround\u001b[39m(time\u001b[38;5;241m.\u001b[39mtime() \u001b[38;5;241m*\u001b[39m \u001b[38;5;241m1000\u001b[39m),\n\u001b[1;32m     17\u001b[0m     \u001b[38;5;124m\"\u001b[39m\u001b[38;5;124mobjectId\u001b[39m\u001b[38;5;124m\"\u001b[39m: row\u001b[38;5;241m.\u001b[39mobjectId\n\u001b[1;32m     18\u001b[0m }\n\u001b[1;32m     19\u001b[0m \u001b[38;5;28;01mif\u001b[39;00m \u001b[38;5;124m\"\u001b[39m\u001b[38;5;124mcoord_ra\u001b[39m\u001b[38;5;124m\"\u001b[39m \u001b[38;5;129;01min\u001b[39;00m fields_to_add:\n",
      "File \u001b[0;32m~/citizen-science-notebooks/utils.py:74\u001b[0m, in \u001b[0;36mmake_figure\u001b[0;34m(exp, out_name)\u001b[0m\n\u001b[1;32m     72\u001b[0m afw_display \u001b[38;5;241m=\u001b[39m afwDisplay\u001b[38;5;241m.\u001b[39mDisplay(\u001b[38;5;241m1\u001b[39m)\n\u001b[1;32m     73\u001b[0m afw_display\u001b[38;5;241m.\u001b[39mscale(\u001b[38;5;124m'\u001b[39m\u001b[38;5;124masinh\u001b[39m\u001b[38;5;124m'\u001b[39m, \u001b[38;5;124m'\u001b[39m\u001b[38;5;124mzscale\u001b[39m\u001b[38;5;124m'\u001b[39m)\n\u001b[0;32m---> 74\u001b[0m \u001b[43mafw_display\u001b[49m\u001b[38;5;241;43m.\u001b[39;49m\u001b[43mmtv\u001b[49m\u001b[43m(\u001b[49m\u001b[43mexp\u001b[49m\u001b[38;5;241;43m.\u001b[39;49m\u001b[43mimage\u001b[49m\u001b[43m)\u001b[49m\n\u001b[1;32m     75\u001b[0m plt\u001b[38;5;241m.\u001b[39mgca()\u001b[38;5;241m.\u001b[39maxis(\u001b[38;5;124m'\u001b[39m\u001b[38;5;124mon\u001b[39m\u001b[38;5;124m'\u001b[39m)\n\u001b[1;32m     76\u001b[0m plt\u001b[38;5;241m.\u001b[39msavefig(out_name)\n",
      "File \u001b[0;32m/opt/lsst/software/stack/stack/miniconda3-py38_4.9.2-5.1.0/Linux64/afw/g093c4c12c6+579e1af31e/python/lsst/afw/display/interface.py:562\u001b[0m, in \u001b[0;36mDisplay.mtv\u001b[0;34m(self, data, title, wcs)\u001b[0m\n\u001b[1;32m    559\u001b[0m     \u001b[38;5;28mself\u001b[39m\u001b[38;5;241m.\u001b[39m_xy0 \u001b[38;5;241m=\u001b[39m data\u001b[38;5;241m.\u001b[39mgetXY0()   \u001b[38;5;66;03m# DecoratedImage doesn't have getXY0()\u001b[39;00m\n\u001b[1;32m    561\u001b[0m \u001b[38;5;28;01mif\u001b[39;00m \u001b[38;5;28misinstance\u001b[39m(data, afwImage\u001b[38;5;241m.\u001b[39mImage):  \u001b[38;5;66;03m# it's an Image; display it\u001b[39;00m\n\u001b[0;32m--> 562\u001b[0m     \u001b[38;5;28;43mself\u001b[39;49m\u001b[38;5;241;43m.\u001b[39;49m\u001b[43m_impl\u001b[49m\u001b[38;5;241;43m.\u001b[39;49m\u001b[43m_mtv\u001b[49m\u001b[43m(\u001b[49m\u001b[43mdata\u001b[49m\u001b[43m,\u001b[49m\u001b[43m \u001b[49m\u001b[38;5;28;43;01mNone\u001b[39;49;00m\u001b[43m,\u001b[49m\u001b[43m \u001b[49m\u001b[43mwcs\u001b[49m\u001b[43m,\u001b[49m\u001b[43m \u001b[49m\u001b[43mtitle\u001b[49m\u001b[43m)\u001b[49m\n\u001b[1;32m    563\u001b[0m \u001b[38;5;66;03m# it's a Mask; display it, bitplane by bitplane\u001b[39;00m\n\u001b[1;32m    564\u001b[0m \u001b[38;5;28;01melif\u001b[39;00m \u001b[38;5;28misinstance\u001b[39m(data, afwImage\u001b[38;5;241m.\u001b[39mMask):\n",
      "File \u001b[0;32m/opt/lsst/software/stack/stack/miniconda3-py38_4.9.2-5.1.0/Linux64/display_ds9/gd01420fc67+e9273eb57a/python/lsst/display/ds9/ds9.py:426\u001b[0m, in \u001b[0;36mDisplayImpl._mtv\u001b[0;34m(self, image, mask, wcs, title)\u001b[0m\n\u001b[1;32m    423\u001b[0m \u001b[38;5;28mself\u001b[39m\u001b[38;5;241m.\u001b[39m_erase()\n\u001b[1;32m    425\u001b[0m \u001b[38;5;28;01mif\u001b[39;00m image:\n\u001b[0;32m--> 426\u001b[0m     \u001b[43m_i_mtv\u001b[49m\u001b[43m(\u001b[49m\u001b[43mimage\u001b[49m\u001b[43m,\u001b[49m\u001b[43m \u001b[49m\u001b[43mwcs\u001b[49m\u001b[43m,\u001b[49m\u001b[43m \u001b[49m\u001b[43mtitle\u001b[49m\u001b[43m,\u001b[49m\u001b[43m \u001b[49m\u001b[38;5;28;43;01mFalse\u001b[39;49;00m\u001b[43m)\u001b[49m\n\u001b[1;32m    428\u001b[0m \u001b[38;5;28;01mif\u001b[39;00m mask:\n\u001b[1;32m    429\u001b[0m     maskPlanes \u001b[38;5;241m=\u001b[39m mask\u001b[38;5;241m.\u001b[39mgetMaskPlaneDict()\n",
      "File \u001b[0;32m/opt/lsst/software/stack/stack/miniconda3-py38_4.9.2-5.1.0/Linux64/display_ds9/gd01420fc67+e9273eb57a/python/lsst/display/ds9/ds9.py:685\u001b[0m, in \u001b[0;36m_i_mtv\u001b[0;34m(data, wcs, title, isMask)\u001b[0m\n\u001b[1;32m    682\u001b[0m     \u001b[38;5;28;01mexcept\u001b[39;00m \u001b[38;5;167;01mException\u001b[39;00m:\n\u001b[1;32m    683\u001b[0m         \u001b[38;5;28;01mpass\u001b[39;00m\n\u001b[0;32m--> 685\u001b[0m     \u001b[38;5;28;01mraise\u001b[39;00m e\n\u001b[1;32m    687\u001b[0m \u001b[38;5;28;01mtry\u001b[39;00m:\n\u001b[1;32m    688\u001b[0m     pfd\u001b[38;5;241m.\u001b[39mclose()\n",
      "File \u001b[0;32m/opt/lsst/software/stack/stack/miniconda3-py38_4.9.2-5.1.0/Linux64/display_ds9/gd01420fc67+e9273eb57a/python/lsst/display/ds9/ds9.py:678\u001b[0m, in \u001b[0;36m_i_mtv\u001b[0;34m(data, wcs, title, isMask)\u001b[0m\n\u001b[1;32m    675\u001b[0m ds9Cmd(flush\u001b[38;5;241m=\u001b[39m\u001b[38;5;28;01mTrue\u001b[39;00m, silent\u001b[38;5;241m=\u001b[39m\u001b[38;5;28;01mTrue\u001b[39;00m)\n\u001b[1;32m    677\u001b[0m \u001b[38;5;28;01mtry\u001b[39;00m:\n\u001b[0;32m--> 678\u001b[0m     \u001b[43mafwDisplay\u001b[49m\u001b[38;5;241;43m.\u001b[39;49m\u001b[43mwriteFitsImage\u001b[49m\u001b[43m(\u001b[49m\u001b[43mpfd\u001b[49m\u001b[38;5;241;43m.\u001b[39;49m\u001b[43mfileno\u001b[49m\u001b[43m(\u001b[49m\u001b[43m)\u001b[49m\u001b[43m,\u001b[49m\u001b[43m \u001b[49m\u001b[43mdata\u001b[49m\u001b[43m,\u001b[49m\u001b[43m \u001b[49m\u001b[43mwcs\u001b[49m\u001b[43m,\u001b[49m\u001b[43m \u001b[49m\u001b[43mtitle\u001b[49m\u001b[43m)\u001b[49m\n\u001b[1;32m    679\u001b[0m \u001b[38;5;28;01mexcept\u001b[39;00m \u001b[38;5;167;01mException\u001b[39;00m \u001b[38;5;28;01mas\u001b[39;00m e:\n\u001b[1;32m    680\u001b[0m     \u001b[38;5;28;01mtry\u001b[39;00m:\n",
      "\u001b[0;31mRuntimeError\u001b[0m: \n  File \"python/lsst/afw/display/simpleFits.cc\", line 433, in void lsst::afw::display::writeBasicFits(int, const ImageT&, const lsst::afw::geom::SkyWcs*, const char*) [with ImageT = lsst::afw::image::Image<float>]\n    Error writing data for row 5 {0}\nlsst::pex::exceptions::RuntimeError: 'Error writing data for row 5'\n"
     ]
    },
    {
     "data": {
      "text/plain": [
       "<Figure size 1000x800 with 0 Axes>"
      ]
     },
     "metadata": {},
     "output_type": "display_data"
    }
   ],
   "source": [
    "%matplotlib inline\n",
    "cutouts=[]\n",
    "fields_to_add = [\"objectId\", \"coord_ra\", \"coord_dec\", \"detect_isPrimary\", \"g_cModelFlux\", \"r_cModelFlux\", \"r_extendedness\", \"r_inputCount\"]\n",
    "\n",
    "batch_dir = \"./cutouts/\"\n",
    "if os.path.isdir(batch_dir) == False:\n",
    "    os.mkdir(batch_dir)\n",
    "\n",
    "for index, row in results_table.iterrows():\n",
    "    deepCoadd = butler.get('deepCoadd', dataId=row['dataId'])\n",
    "    filename = \"cutout\"+str(row['objectId'])+\".png\"\n",
    "    figout = utils.make_figure(deepCoadd, batch_dir + filename)\n",
    "    figout_data = {\n",
    "        # \"image\": figout,\n",
    "        \"filename\": filename,\n",
    "        \"edc_ver_id\": round(time.time() * 1000),\n",
    "        \"objectId\": row.objectId\n",
    "    }\n",
    "    if \"coord_ra\" in fields_to_add:\n",
    "        figout_data[\"coord_ra\"] = row.coord_ra\n",
    "    if \"coord_dec\" in fields_to_add:\n",
    "        figout_data[\"coord_dec\"] = row.coord_dec\n",
    "    # if hasattr(row, 'detect_isPrimary') and \"detect_isPrimary\" in fields_to_add:\n",
    "    #     figout_data[\"detect_isPrimary\"] = row.detect_isPrimary\n",
    "    if \"g_cModelFlux\" in fields_to_add:\n",
    "        figout_data[\"g_cModelFlux\"] = row.g_cModelFlux\n",
    "    if \"r_cModelFlux\" in fields_to_add:\n",
    "        figout_data[\"r_cModelFlux\"] = row.r_cModelFlux\n",
    "    if \"r_extendedness\" in fields_to_add:\n",
    "        figout_data[\"r_extendedness\"] = row.r_extendedness\n",
    "    if \"r_inputCount\" in fields_to_add:\n",
    "        figout_data[\"r_inputCount\"] = row.r_extendedness\n",
    "    cutouts.append(figout_data)\n",
    "    utils.remove_figure(figout)\n",
    "    "
   ]
  },
  {
   "cell_type": "code",
   "execution_count": 8,
   "id": "0117899b-80ad-431c-b6ef-8a358b293603",
   "metadata": {
    "execution": {
     "iopub.execute_input": "2023-03-23T16:29:32.414044Z",
     "iopub.status.busy": "2023-03-23T16:29:32.413314Z",
     "iopub.status.idle": "2023-03-23T16:29:32.426726Z",
     "shell.execute_reply": "2023-03-23T16:29:32.425791Z",
     "shell.execute_reply.started": "2023-03-23T16:29:32.414010Z"
    },
    "tags": []
   },
   "outputs": [
    {
     "ename": "IndexError",
     "evalue": "list index out of range",
     "output_type": "error",
     "traceback": [
      "\u001b[0;31m---------------------------------------------------------------------------\u001b[0m",
      "\u001b[0;31mIndexError\u001b[0m                                Traceback (most recent call last)",
      "Input \u001b[0;32mIn [8]\u001b[0m, in \u001b[0;36m<cell line: 1>\u001b[0;34m()\u001b[0m\n\u001b[0;32m----> 1\u001b[0m \u001b[38;5;28mlist\u001b[39m(\u001b[43mcutouts\u001b[49m\u001b[43m[\u001b[49m\u001b[38;5;241;43m0\u001b[39;49m\u001b[43m]\u001b[49m\u001b[38;5;241m.\u001b[39mkeys())\n",
      "\u001b[0;31mIndexError\u001b[0m: list index out of range"
     ]
    }
   ],
   "source": [
    "list(cutouts[0].keys())"
   ]
  },
  {
   "cell_type": "markdown",
   "id": "5082536e-5cc6-4261-8bce-721e5bc0afe9",
   "metadata": {},
   "source": [
    "### Create a new subject set\n",
    "Name your subject set as it will appear on the Zooniverse. Try not to reuse names. "
   ]
  },
  {
   "cell_type": "code",
   "execution_count": 9,
   "id": "9cb27552-1f98-4930-a72f-1a09f1118834",
   "metadata": {
    "execution": {
     "iopub.execute_input": "2023-03-23T16:29:35.484266Z",
     "iopub.status.busy": "2023-03-23T16:29:35.483579Z",
     "iopub.status.idle": "2023-03-23T16:29:35.487798Z",
     "shell.execute_reply": "2023-03-23T16:29:35.487010Z",
     "shell.execute_reply.started": "2023-03-23T16:29:35.484241Z"
    }
   },
   "outputs": [],
   "source": [
    "subject_set_name = \"manifest download 1\" "
   ]
  },
  {
   "cell_type": "markdown",
   "id": "855364cd-8a1c-49b2-ab65-d00c88b94667",
   "metadata": {},
   "source": [
    "## 3.0 Send the cutouts to Zooniverse\n",
    "\n",
    "Send your subject set to the Zooniverse. This cell will let you send one subject set. If you already have a set on Zooniverse, it will notify you and fail. If you want to send more data, delete what is on the Zooniverse and send again. You *may* get a warning that your set still exists or a \"Could not find subject_set with id=' '\" error. If so, wait (~10min) and try again, as Zooniverse takes a minute to process your changes. You may also have re-run the \"Look up your project cell\". Don't click the below cell multiple times, the upload will fail if multiple runs are attempted.\n",
    "\n",
    "It has successfully worked if you get nofication and an email saying your data has been sent."
   ]
  },
  {
   "cell_type": "code",
   "execution_count": 10,
   "id": "7af45f7d-192d-4215-9b00-512afd11590f",
   "metadata": {
    "execution": {
     "iopub.execute_input": "2023-03-23T16:29:43.296182Z",
     "iopub.status.busy": "2023-03-23T16:29:43.295466Z",
     "iopub.status.idle": "2023-03-23T16:29:43.663702Z",
     "shell.execute_reply": "2023-03-23T16:29:43.662544Z",
     "shell.execute_reply.started": "2023-03-23T16:29:43.296148Z"
    }
   },
   "outputs": [
    {
     "data": {
      "text/plain": [
       "'1. Checking batch status'"
      ]
     },
     "metadata": {},
     "output_type": "display_data"
    },
    {
     "data": {
      "text/plain": [
       "'2. Writing metadata file required by the Rubin EPO Data Center.'"
      ]
     },
     "metadata": {},
     "output_type": "display_data"
    },
    {
     "ename": "IndexError",
     "evalue": "list index out of range",
     "output_type": "error",
     "traceback": [
      "\u001b[0;31m---------------------------------------------------------------------------\u001b[0m",
      "\u001b[0;31mIndexError\u001b[0m                                Traceback (most recent call last)",
      "Input \u001b[0;32mIn [10]\u001b[0m, in \u001b[0;36m<cell line: 2>\u001b[0;34m()\u001b[0m\n\u001b[1;32m      1\u001b[0m __cit_sci_data_type \u001b[38;5;241m=\u001b[39m _HIPS_CUTOUTS \u001b[38;5;66;03m# Important: DO NOT change this value. Update - this value may be changed.\u001b[39;00m\n\u001b[0;32m----> 2\u001b[0m \u001b[43msend_data\u001b[49m\u001b[43m(\u001b[49m\u001b[43msubject_set_name\u001b[49m\u001b[43m,\u001b[49m\u001b[43m \u001b[49m\u001b[43mbatch_dir\u001b[49m\u001b[43m,\u001b[49m\u001b[43m \u001b[49m\u001b[43mcutouts\u001b[49m\u001b[43m)\u001b[49m\n",
      "File \u001b[0;32m/tmp/ipykernel_11329/305309966.py:90\u001b[0m, in \u001b[0;36msend_data\u001b[0;34m(subject_set_name, batch_dir, cutout_data)\u001b[0m\n\u001b[1;32m     88\u001b[0m     \u001b[38;5;28;01mraise\u001b[39;00m CitizenScienceError(\u001b[38;5;124m\"\u001b[39m\u001b[38;5;124mYou cannot send another batch of data while a subject set is still active on the Zooniverse platform - you can only send a new batch of data if all subject sets associated to a project have been completed.\u001b[39m\u001b[38;5;124m\"\u001b[39m)\n\u001b[1;32m     89\u001b[0m \u001b[38;5;28;01mif\u001b[39;00m __cit_sci_data_type \u001b[38;5;241m==\u001b[39m _HIPS_CUTOUTS:\n\u001b[0;32m---> 90\u001b[0m     \u001b[43mwrite_metadata_file\u001b[49m\u001b[43m(\u001b[49m\u001b[43mcutout_data\u001b[49m\u001b[43m,\u001b[49m\u001b[43m \u001b[49m\u001b[43mbatch_dir\u001b[49m\u001b[43m)\u001b[49m\n\u001b[1;32m     91\u001b[0m     zip_path \u001b[38;5;241m=\u001b[39m zip_hips_cutouts(batch_dir)\n\u001b[1;32m     92\u001b[0m     upload_hips_cutouts(zip_path)\n",
      "File \u001b[0;32m/tmp/ipykernel_11329/305309966.py:134\u001b[0m, in \u001b[0;36mwrite_metadata_file\u001b[0;34m(cutout_data, batch_dir)\u001b[0m\n\u001b[1;32m    131\u001b[0m log_step(\u001b[38;5;124m\"\u001b[39m\u001b[38;5;124mWriting metadata file required by the Rubin EPO Data Center.\u001b[39m\u001b[38;5;124m\"\u001b[39m)\n\u001b[1;32m    133\u001b[0m \u001b[38;5;28;01mwith\u001b[39;00m \u001b[38;5;28mopen\u001b[39m(batch_dir \u001b[38;5;241m+\u001b[39m \u001b[38;5;124m'\u001b[39m\u001b[38;5;124mmetadata.csv\u001b[39m\u001b[38;5;124m'\u001b[39m, \u001b[38;5;124m'\u001b[39m\u001b[38;5;124mw\u001b[39m\u001b[38;5;124m'\u001b[39m, newline\u001b[38;5;241m=\u001b[39m\u001b[38;5;124m'\u001b[39m\u001b[38;5;124m'\u001b[39m) \u001b[38;5;28;01mas\u001b[39;00m csvfile:\n\u001b[0;32m--> 134\u001b[0m     fieldnames \u001b[38;5;241m=\u001b[39m \u001b[38;5;28mlist\u001b[39m(\u001b[43mcutout_data\u001b[49m\u001b[43m[\u001b[49m\u001b[38;5;241;43m0\u001b[39;49m\u001b[43m]\u001b[49m\u001b[38;5;241m.\u001b[39mkeys())\n\u001b[1;32m    135\u001b[0m     writer \u001b[38;5;241m=\u001b[39m csv\u001b[38;5;241m.\u001b[39mDictWriter(csvfile, fieldnames\u001b[38;5;241m=\u001b[39mfieldnames)\n\u001b[1;32m    136\u001b[0m     writer\u001b[38;5;241m.\u001b[39mwriteheader()\n",
      "\u001b[0;31mIndexError\u001b[0m: list index out of range"
     ]
    }
   ],
   "source": [
    "__cit_sci_data_type = _HIPS_CUTOUTS # Important: DO NOT change this value. Update - this value may be changed.\n",
    "send_data(subject_set_name, batch_dir, cutouts)"
   ]
  },
  {
   "cell_type": "code",
   "execution_count": null,
   "id": "e2155f27-e2c5-4ae1-9386-8bfbe40389ee",
   "metadata": {},
   "outputs": [],
   "source": [
    "batch_dir"
   ]
  },
  {
   "cell_type": "markdown",
   "id": "820c7931-260a-48f9-831f-ce23f8906c04",
   "metadata": {},
   "source": [
    "## Download Batch Metadata\n",
    "This functionality is in an experimental/alpha state and as such unexpected behavior may occur. Do not attempt to run this cell without first running the top cell in this notebook that prompts you to log in to the Zooniverse platform."
   ]
  },
  {
   "cell_type": "code",
   "execution_count": null,
   "id": "14a625ef-9952-4d59-97fe-fa6c874a60d4",
   "metadata": {},
   "outputs": [],
   "source": [
    "test = download_batch_metadata()\n",
    "test"
   ]
  },
  {
   "cell_type": "markdown",
   "id": "a67d0b65-3ff9-44b3-9a8c-50749642b503",
   "metadata": {},
   "source": [
    "### Explicitly check the status of your data batch\n",
    "Is the send_data() call above stalling on \"Notifying the Rubin EPO Data Center...\" step? Run the below cell every few minutes to check the status of your data. Large datasets can cause the response to get lost, but that does not necessarily mean that your data was not sent to Zooniverse."
   ]
  },
  {
   "cell_type": "code",
   "execution_count": null,
   "id": "085e54d1-4872-4467-988c-8f2ac87f9850",
   "metadata": {},
   "outputs": [],
   "source": [
    "res = check_status()\n",
    "print(\"Status:\")\n",
    "print(res[\"status\"])\n",
    "print(\"Manifest:\")\n",
    "print(res[\"manifest_url\"])\n",
    "print(\"Messages:\")\n",
    "print(res[\"messages\"])\n",
    "if res[\"status\"] == \"success\":\n",
    "    global manifest_url\n",
    "    manifest_url = res[\"manifest_url\"]\n",
    "    send_zooniverse_manifest()"
   ]
  },
  {
   "cell_type": "code",
   "execution_count": null,
   "id": "ce80f068-b5e4-40fc-a30b-2e371e91ed9f",
   "metadata": {},
   "outputs": [],
   "source": []
  }
 ],
 "metadata": {
  "kernelspec": {
   "display_name": "LSST",
   "language": "python",
   "name": "lsst"
  },
  "language_info": {
   "codemirror_mode": {
    "name": "ipython",
    "version": 3
   },
   "file_extension": ".py",
   "mimetype": "text/x-python",
   "name": "python",
   "nbconvert_exporter": "python",
   "pygments_lexer": "ipython3",
   "version": "3.10.9"
  }
 },
 "nbformat": 4,
 "nbformat_minor": 5
}
