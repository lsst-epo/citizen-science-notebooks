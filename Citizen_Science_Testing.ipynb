{
 "cells": [
  {
   "cell_type": "markdown",
   "id": "4ca66653-c815-47a4-af85-65b646a67e57",
   "metadata": {},
   "source": [
    "<img align=\"left\" src = https://project.lsst.org/sites/default/files/Rubin-O-Logo_0.png width=250 style=\"padding: 10px\"> \n",
    "<b>Citzen Science Notebook</b> <br>\n",
    "Contact author: Clare Higgs & Eric Rosas <br>\n",
    "Last verified to run: 2022-10-20 <br>\n",
    "LSST Science Piplines version: Weekly 2022_40 <br>\n",
    "Container size: medium <br>\n"
   ]
  },
  {
   "cell_type": "markdown",
   "id": "6f8b563e-c151-476e-8ef0-9e8088d1ec61",
   "metadata": {},
   "source": [
    "## 1.0 Introduction\n",
    "This notebook is intended to guide a PI through the process of sending data from the Rubin Science Platform (RSP) to the Zooniverse.\n",
    "A detailed guide to Citizen Science projects, outlining the process, requirements and support available is here: (*link to citscipiguide*)\n",
    "The data sent can be currated on the RSP as a necessary and take many forms. Here, we include an example of sending png cutout images. \n",
    "We encourage PIs new to the Rubin dataset to explore the tutorial notebooks and documentation.\n",
    "\n",
    "As explained in the guide, this notebook will restrict the number of object sent to the Zooniverse to 100 objects. This limit is intended to demonstrate your project prior to full approval from the EPO Data Rights Panel. \n",
    "\n",
    "Support is available and questions are welcome - (*some email/link etc*)\n",
    "\n",
    "\n",
    "**DEBUG VERSION note that this version of the notebook contains additional debugging and the first cell will need to be run once**"
   ]
  },
  {
   "cell_type": "markdown",
   "id": "b108a439-1f3e-4962-adeb-ce144a8d8be7",
   "metadata": {},
   "source": [
    "### Log in to the Zooniverse Platform & Activate Citizen Science SDK\n",
    "\n",
    "If you haven't already, create a Zooniverse account here. and create your project. Your project must be set to \"public\". To set your project to public, select the \"Visibility\" tab. Note you will need to enter your username, password, and project slug below.\n",
    "\n",
    "After creating your account and project, return to this notebook.\n",
    "\n",
    "---\n",
    "\n",
    "Supply your email and project slug below. \n",
    "\n",
    "A \"slug\" is the string of your Zooniverse username and your project name without the leading forward slash, for instance: \"username/project-name\". \n",
    "\n",
    "For more details, see: https://www.zooniverse.org/talk/18/967061?comment=1898157&page=1.\n",
    "\n",
    "IMPORTANT: Your Zooniverse project must be set to \"public\", a \"private\" project will not work. Select this setting under the \"Visibility\" tab, (it does not need to be set to live). The following code will not work if you have not authenticated in the cell titled \"Log in to Zooniverse\"."
   ]
  },
  {
   "cell_type": "code",
   "execution_count": 1,
   "id": "0edb67a4-1508-4b90-872c-8c42e642126b",
   "metadata": {
    "execution": {
     "iopub.execute_input": "2023-04-17T16:19:26.053398Z",
     "iopub.status.busy": "2023-04-17T16:19:26.052569Z",
     "iopub.status.idle": "2023-04-17T16:20:14.709646Z",
     "shell.execute_reply": "2023-04-17T16:20:14.708855Z",
     "shell.execute_reply.started": "2023-04-17T16:19:26.053369Z"
    },
    "tags": []
   },
   "outputs": [
    {
     "name": "stdout",
     "output_type": "stream",
     "text": [
      "Installing external dependencies...\n",
      "Done installing external dependencies!\n",
      "Enter your Zooniverse credentials...\n"
     ]
    },
    {
     "name": "stdin",
     "output_type": "stream",
     "text": [
      "Username:  sreevani\n",
      " ········\n"
     ]
    },
    {
     "name": "stdout",
     "output_type": "stream",
     "text": [
      "You now are logged in to the Zooniverse platform.\n",
      "Loaded Citizen Science SDK\n"
     ]
    }
   ],
   "source": [
    "email = \"jsv1206@gmail.com\" # Please continue to use the same email address moving forward, as this is how we associate \n",
    "slugName = \"sreevani/test-project-sj\" # Replace this placholder text with your slug name, do not include the leading forward-slash\n",
    "%run Citizen_Science_SDK.ipynb"
   ]
  },
  {
   "cell_type": "markdown",
   "id": "36dbc0bb-19c3-4d3f-8a06-3150c7517fcd",
   "metadata": {},
   "source": [
    "## 2.0 Make a Subject Set to Send\n",
    "\n",
    "Here, the subject set of objects to send to Zooniverse should be curated. This can (and should!) be modified to create your own subject set. Your subject set must have 100 objects or less in the testing phase before your project is approved by the EPO Data Rights panel. \n",
    "\n",
    "Currently, this example makes a set of image cutouts of extended sources. "
   ]
  },
  {
   "cell_type": "code",
   "execution_count": 2,
   "id": "ee20b45b-ec67-4058-9c50-7c0ce68764aa",
   "metadata": {
    "execution": {
     "iopub.execute_input": "2023-04-17T16:20:15.837098Z",
     "iopub.status.busy": "2023-04-17T16:20:15.836312Z",
     "iopub.status.idle": "2023-04-17T16:20:20.267621Z",
     "shell.execute_reply": "2023-04-17T16:20:20.266620Z",
     "shell.execute_reply.started": "2023-04-17T16:20:15.837068Z"
    },
    "tags": []
   },
   "outputs": [],
   "source": [
    "import utils\n",
    "\n",
    "config = 'dp02'\n",
    "collection = '2.2i/runs/DP0.2'\n",
    "service, butler, skymap = utils.setup_butler(config, collection)   "
   ]
  },
  {
   "cell_type": "code",
   "execution_count": 3,
   "id": "a82ef1a9-4835-4aeb-afdf-accaaf7e3007",
   "metadata": {
    "execution": {
     "iopub.execute_input": "2023-04-17T16:20:20.279898Z",
     "iopub.status.busy": "2023-04-17T16:20:20.279594Z",
     "iopub.status.idle": "2023-04-17T16:20:20.283352Z",
     "shell.execute_reply": "2023-04-17T16:20:20.282637Z",
     "shell.execute_reply.started": "2023-04-17T16:20:20.279870Z"
    },
    "tags": []
   },
   "outputs": [],
   "source": [
    "max_rec=5 # make 100 for full subject set test\n",
    "use_center_coords = \"62, -37\"\n",
    "use_radius = \"1.0\""
   ]
  },
  {
   "cell_type": "markdown",
   "id": "8e240d4a-f8d3-4837-923f-12be9bff5f79",
   "metadata": {},
   "source": [
    "Query can be modified to other sources - currently just selecting 10 objects (change max_rec above)"
   ]
  },
  {
   "cell_type": "code",
   "execution_count": 4,
   "id": "119358cc-5244-4984-872c-a6311052d9c8",
   "metadata": {
    "execution": {
     "iopub.execute_input": "2023-04-17T16:20:20.284941Z",
     "iopub.status.busy": "2023-04-17T16:20:20.284711Z",
     "iopub.status.idle": "2023-04-17T16:21:31.777513Z",
     "shell.execute_reply": "2023-04-17T16:21:31.776792Z",
     "shell.execute_reply.started": "2023-04-17T16:20:20.284922Z"
    },
    "tags": []
   },
   "outputs": [],
   "source": [
    "query = \"SELECT TOP \" + str(max_rec) + \" \" + \\\n",
    "        \"objectId, coord_ra, coord_dec, detect_isPrimary \" + \\\n",
    "        \"g_cModelFlux, r_cModelFlux, r_extendedness, r_inputCount \" + \\\n",
    "        \"FROM dp02_dc2_catalogs.Object \" + \\\n",
    "        \"WHERE CONTAINS(POINT('ICRS', coord_ra, coord_dec), \" + \\\n",
    "        \"CIRCLE('ICRS', \" + use_center_coords + \", \" + use_radius + \")) = 1 \" + \\\n",
    "        \"AND detect_isPrimary = 1 \" + \\\n",
    "        \"AND r_extendedness = 1 \" + \\\n",
    "        \"AND scisql_nanojanskyToAbMag(r_cModelFlux) < 18.0 \" + \\\n",
    "        \"ORDER by r_cModelFlux DESC\"\n",
    "results = service.search(query)\n",
    "assert len(results) == max_rec"
   ]
  },
  {
   "cell_type": "code",
   "execution_count": 5,
   "id": "9bf4c80e-4402-4f0f-abe1-a6cd5ce6587c",
   "metadata": {
    "execution": {
     "iopub.execute_input": "2023-04-17T16:21:31.778851Z",
     "iopub.status.busy": "2023-04-17T16:21:31.778382Z",
     "iopub.status.idle": "2023-04-17T16:21:31.793124Z",
     "shell.execute_reply": "2023-04-17T16:21:31.792474Z",
     "shell.execute_reply.started": "2023-04-17T16:21:31.778829Z"
    },
    "tags": []
   },
   "outputs": [],
   "source": [
    "results_table = results.to_table().to_pandas()\n",
    "results_table['dataId'] = results_table.apply(lambda x: utils.get_bandtractpatch(x['coord_ra'], x['coord_dec'], skymap), axis=1)"
   ]
  },
  {
   "cell_type": "markdown",
   "id": "6422604f-0b48-4d81-a40b-a04f3434cfac",
   "metadata": {},
   "source": [
    "### Additional Data to Send\n",
    "You may desire to send additional data in addition to the image cutout. The fields represented as strings within the `fields_to_add` array will be sent along with each image. If there are any fields that you do not need then feel free to remove them from the array.\n",
    "\n",
    "__Note:__ : Object ID is always included."
   ]
  },
  {
   "cell_type": "code",
   "execution_count": 6,
   "id": "8a8b74ee-828f-432e-b8f8-68674749cea5",
   "metadata": {
    "execution": {
     "iopub.execute_input": "2023-04-17T16:21:31.815116Z",
     "iopub.status.busy": "2023-04-17T16:21:31.814747Z",
     "iopub.status.idle": "2023-04-17T16:22:01.804189Z",
     "shell.execute_reply": "2023-04-17T16:22:01.803433Z",
     "shell.execute_reply.started": "2023-04-17T16:21:31.815096Z"
    },
    "tags": []
   },
   "outputs": [],
   "source": [
    "# In-memory manifest file as an array of dicts\n",
    "manifest = []\n",
    "\n",
    "# Specify the directory that the cutouts will be output to:\n",
    "batch_dir = \"./cutouts/\"\n",
    "\n",
    "# Create directory if it does not already exist\n",
    "if os.path.isdir(batch_dir) == False:\n",
    "    os.mkdir(batch_dir)\n",
    "\n",
    "# Loop over results_table, or any other iterable provided by the PI:\n",
    "for index, row in results_table.iterrows():\n",
    "    # Use the Butler to get data based on the data within the iterable\n",
    "    deepCoadd = butler.get('deepCoadd', dataId=row['dataId'])\n",
    "    filename = \"cutout\"+str(row['objectId'])+\".png\"\n",
    "    figout = utils.make_figure(deepCoadd, batch_dir + filename)\n",
    "    \n",
    "    # Create the CSV-file-row-as-dict \n",
    "    csv_row = {\n",
    "        \"filename\": filename, # required column, do not change the column name\n",
    "        \"sourceId\": row.objectId, # required column, do not change the column name\n",
    "        # Add your desired columns:\n",
    "        \"coord_ra\": row.coord_ra,\n",
    "        \"coord_dec\": row.coord_dec,\n",
    "        \"g_cModelFlux\": row.g_cModelFlux,\n",
    "        \"r_cModelFlux\": row.r_cModelFlux,\n",
    "        \"r_extendedness\": row.r_extendedness,\n",
    "        \"r_inputCount\": row.r_inputCount\n",
    "    }\n",
    "    manifest.append(csv_row)\n",
    "    utils.remove_figure(figout)\n",
    "    "
   ]
  },
  {
   "cell_type": "code",
   "execution_count": 9,
   "id": "4dd16476-34f8-42e6-a75f-aa47861904b3",
   "metadata": {
    "execution": {
     "iopub.execute_input": "2023-04-17T16:27:45.477731Z",
     "iopub.status.busy": "2023-04-17T16:27:45.476838Z",
     "iopub.status.idle": "2023-04-17T16:27:45.482868Z",
     "shell.execute_reply": "2023-04-17T16:27:45.482195Z",
     "shell.execute_reply.started": "2023-04-17T16:27:45.477701Z"
    }
   },
   "outputs": [
    {
     "data": {
      "text/plain": [
       "[{'filename': 'cutout1567965153859768169.png',\n",
       "  'sourceId': 1567965153859768169,\n",
       "  'coord_ra': 61.6998044,\n",
       "  'coord_dec': -37.2739044,\n",
       "  'g_cModelFlux': True,\n",
       "  'r_cModelFlux': 16744617.769149,\n",
       "  'r_extendedness': 1.0,\n",
       "  'r_inputCount': 106},\n",
       " {'filename': 'cutout1650947495431285770.png',\n",
       "  'sourceId': 1650947495431285770,\n",
       "  'coord_ra': 61.1583878,\n",
       "  'coord_dec': -36.3657651,\n",
       "  'g_cModelFlux': True,\n",
       "  'r_cModelFlux': 6384481.3380183,\n",
       "  'r_extendedness': 1.0,\n",
       "  'r_inputCount': 105},\n",
       " {'filename': 'cutout1651448872733547971.png',\n",
       "  'sourceId': 1651448872733547971,\n",
       "  'coord_ra': 62.5770683,\n",
       "  'coord_dec': -36.1977335,\n",
       "  'g_cModelFlux': True,\n",
       "  'r_cModelFlux': 4869250.829788,\n",
       "  'r_extendedness': 1.0,\n",
       "  'r_inputCount': 116},\n",
       " {'filename': 'cutout1651536833663756158.png',\n",
       "  'sourceId': 1651536833663756158,\n",
       "  'coord_ra': 61.8484527,\n",
       "  'coord_dec': -36.1061415,\n",
       "  'g_cModelFlux': True,\n",
       "  'r_cModelFlux': 2902863.6049941,\n",
       "  'r_extendedness': 1.0,\n",
       "  'r_inputCount': 105},\n",
       " {'filename': 'cutout1651325727431231924.png',\n",
       "  'sourceId': 1651325727431231924,\n",
       "  'coord_ra': 62.7137842,\n",
       "  'coord_dec': -36.6836861,\n",
       "  'g_cModelFlux': True,\n",
       "  'r_cModelFlux': 2524685.6146864,\n",
       "  'r_extendedness': 1.0,\n",
       "  'r_inputCount': 117}]"
      ]
     },
     "execution_count": 9,
     "metadata": {},
     "output_type": "execute_result"
    }
   ],
   "source": [
    "manifest"
   ]
  },
  {
   "cell_type": "markdown",
   "id": "320f390d-578a-4151-8cbd-f34954bbbb33",
   "metadata": {
    "tags": []
   },
   "source": [
    "## 3.0 Preparing the Manifest File\n",
    "\n",
    "The manifest file _must_ abide by [RFC4180](https://datatracker.ietf.org/doc/html/rfc4180.html) as the backend service that parses the manifest file expects that this is so. In addition, you may have a column with no values, but there _must_ be an empty column value indicated with a comma. E.g.:\n",
    "\n",
    "Valid syntax for empty column:\n",
    "```\n",
    "column1,column2,empty_column,column4\n",
    "1,1,,4\n",
    "1,1,,4\n",
    "1,1,,4\n",
    "```\n",
    "\n",
    "**Important!**: The manifest file must be named `metadata.csv` in order for the processing on the backend to work correctly!"
   ]
  },
  {
   "cell_type": "markdown",
   "id": "1a14e18a-22fe-4c84-a05a-17c248fdee1b",
   "metadata": {
    "tags": []
   },
   "source": [
    "### Option 1: Write the manifest file to the filesystem automatically\n",
    "\n",
    "Running the below cell should take care of writing the `metadata.csv` file to the filesystem, which will ultimately be used as the manifest file by Zooniverse. You are welcome to edit the automatically created manifest file, just ensure that it's format abides by RFC4180.\n"
   ]
  },
  {
   "cell_type": "code",
   "execution_count": 7,
   "id": "c2605029-f988-4d7c-991d-82aabb60e07b",
   "metadata": {
    "execution": {
     "iopub.execute_input": "2023-04-17T16:22:01.805408Z",
     "iopub.status.busy": "2023-04-17T16:22:01.805150Z",
     "iopub.status.idle": "2023-04-17T16:22:01.816889Z",
     "shell.execute_reply": "2023-04-17T16:22:01.815920Z",
     "shell.execute_reply.started": "2023-04-17T16:22:01.805389Z"
    },
    "tags": []
   },
   "outputs": [
    {
     "name": "stdout",
     "output_type": "stream",
     "text": [
      "The manifest CSV file can be found at the following relative path:\n",
      "./cutouts/metadata.csv\n"
     ]
    }
   ],
   "source": [
    "manifest_path = write_metadata_file(manifest, batch_dir)\n",
    "\n",
    "print(\"The manifest CSV file can be found at the following relative path:\")\n",
    "print(manifest_path)"
   ]
  },
  {
   "cell_type": "markdown",
   "id": "c3309b77-ebe1-4f09-bd30-924df77369dc",
   "metadata": {
    "tags": []
   },
   "source": [
    "### Option 2: Specify the path to your own manifest file\n",
    "If desirable, specify the manifest CSV file manually. This is a simple matter of ensuring that it is named `metadata.csv` and placed in the `./cutouts/` folder (or whatever you renamed the `batch_dir` variable to)"
   ]
  },
  {
   "cell_type": "markdown",
   "id": "76e65f2f-f161-480d-ad8e-26f977136c64",
   "metadata": {},
   "source": [
    "## 4.0 Send the cutouts to Zooniverse\n",
    "\n",
    "Send your subject set to the Zooniverse. This cell will let you send one subject set. If you already have a set on Zooniverse, it will notify you and fail. If you want to send more data, delete what is on the Zooniverse and send again. You *may* get a warning that your set still exists or a \"Could not find subject_set with id=' '\" error. If so, wait (~10min) and try again, as Zooniverse takes a minute to process your changes. You may also have re-run the \"Look up your project cell\". Don't click the below cell multiple times, the upload will fail if multiple runs are attempted.\n",
    "\n",
    "It has successfully worked if you get nofication and an email saying your data has been sent."
   ]
  },
  {
   "cell_type": "markdown",
   "id": "b5e1886b-0b90-4214-8dc4-037fa87a28b4",
   "metadata": {},
   "source": [
    "### Name the new subject set\n",
    "Name your subject set as it will appear on the Zooniverse. Try not to reuse names. "
   ]
  },
  {
   "cell_type": "code",
   "execution_count": 8,
   "id": "9cb27552-1f98-4930-a72f-1a09f1118834",
   "metadata": {
    "execution": {
     "iopub.execute_input": "2023-04-17T16:22:01.818081Z",
     "iopub.status.busy": "2023-04-17T16:22:01.817839Z",
     "iopub.status.idle": "2023-04-17T16:22:01.831120Z",
     "shell.execute_reply": "2023-04-17T16:22:01.830404Z",
     "shell.execute_reply.started": "2023-04-17T16:22:01.818062Z"
    },
    "tags": []
   },
   "outputs": [
    {
     "data": {
      "text/plain": [
       "''"
      ]
     },
     "execution_count": 8,
     "metadata": {},
     "output_type": "execute_result"
    }
   ],
   "source": [
    "subject_set_name = \"\"\n",
    "subject_set_name"
   ]
  },
  {
   "cell_type": "code",
   "execution_count": null,
   "id": "7af45f7d-192d-4215-9b00-512afd11590f",
   "metadata": {
    "tags": []
   },
   "outputs": [],
   "source": [
    "__cit_sci_data_type = _HIPS_CUTOUTS # Important: DO NOT change this value. Update - this value may be changed.\n",
    "send_data(subject_set_name, batch_dir, manifest)"
   ]
  },
  {
   "cell_type": "code",
   "execution_count": null,
   "id": "e2155f27-e2c5-4ae1-9386-8bfbe40389ee",
   "metadata": {},
   "outputs": [],
   "source": [
    "batch_dir"
   ]
  },
  {
   "cell_type": "markdown",
   "id": "820c7931-260a-48f9-831f-ce23f8906c04",
   "metadata": {},
   "source": [
    "## Download Batch Metadata\n",
    "This functionality is in an experimental/alpha state and as such unexpected behavior may occur. Do not attempt to run this cell without first running the top cell in this notebook that prompts you to log in to the Zooniverse platform."
   ]
  },
  {
   "cell_type": "code",
   "execution_count": null,
   "id": "14a625ef-9952-4d59-97fe-fa6c874a60d4",
   "metadata": {},
   "outputs": [],
   "source": [
    "test = download_batch_metadata()\n",
    "test"
   ]
  },
  {
   "cell_type": "markdown",
   "id": "a67d0b65-3ff9-44b3-9a8c-50749642b503",
   "metadata": {},
   "source": [
    "### Explicitly check the status of your data batch\n",
    "Is the send_data() call above stalling on \"Notifying the Rubin EPO Data Center...\" step? Run the below cell every few minutes to check the status of your data. Large datasets can cause the response to get lost, but that does not necessarily mean that your data was not sent to Zooniverse."
   ]
  },
  {
   "cell_type": "code",
   "execution_count": null,
   "id": "085e54d1-4872-4467-988c-8f2ac87f9850",
   "metadata": {},
   "outputs": [],
   "source": [
    "res = check_status()\n",
    "print(\"Status:\")\n",
    "print(res[\"status\"])\n",
    "print(\"Manifest:\")\n",
    "print(res[\"manifest_url\"])\n",
    "print(\"Messages:\")\n",
    "print(res[\"messages\"])\n",
    "if res[\"status\"] == \"success\":\n",
    "    global manifest_url\n",
    "    manifest_url = res[\"manifest_url\"]\n",
    "    send_zooniverse_manifest()"
   ]
  },
  {
   "cell_type": "code",
   "execution_count": null,
   "id": "ce80f068-b5e4-40fc-a30b-2e371e91ed9f",
   "metadata": {},
   "outputs": [],
   "source": []
  }
 ],
 "metadata": {
  "kernelspec": {
   "display_name": "LSST",
   "language": "python",
   "name": "lsst"
  },
  "language_info": {
   "codemirror_mode": {
    "name": "ipython",
    "version": 3
   },
   "file_extension": ".py",
   "mimetype": "text/x-python",
   "name": "python",
   "nbconvert_exporter": "python",
   "pygments_lexer": "ipython3",
   "version": "3.10.9"
  }
 },
 "nbformat": 4,
 "nbformat_minor": 5
}
