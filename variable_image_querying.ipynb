{
 "cells": [
  {
   "cell_type": "code",
   "execution_count": 1,
   "id": "eb66913a-304a-4230-97ff-2f6d75dc06b0",
   "metadata": {
    "execution": {
     "iopub.execute_input": "2023-03-16T16:31:21.938826Z",
     "iopub.status.busy": "2023-03-16T16:31:21.938301Z",
     "iopub.status.idle": "2023-03-16T16:31:23.363686Z",
     "shell.execute_reply": "2023-03-16T16:31:23.362837Z",
     "shell.execute_reply.started": "2023-03-16T16:31:21.938802Z"
    },
    "tags": []
   },
   "outputs": [],
   "source": [
    "import matplotlib.pyplot as plt\n",
    "import numpy as np\n",
    "import pandas as pd\n",
    "import warnings\n",
    "from lsst.rsp import get_tap_service, retrieve_query\n",
    "import gc\n",
    "import os\n",
    "\n",
    "# Astropy\n",
    "import astropy.units as u\n",
    "from astropy.units import UnitsWarning\n",
    "from astropy.timeseries import LombScargle\n",
    "\n",
    "import matplotlib.pyplot as plt\n",
    "plt.style.use('tableau-colorblind10')\n",
    "\n",
    "from lsst.daf.butler import Butler\n",
    "import lsst.daf.butler as dafButler\n",
    "import lsst.afw.display as afwDisplay\n",
    "import lsst.geom as geom"
   ]
  },
  {
   "cell_type": "code",
   "execution_count": 2,
   "id": "8e232d48-4d4a-4815-8492-a7aa23de4e47",
   "metadata": {
    "execution": {
     "iopub.execute_input": "2023-03-16T16:31:23.367446Z",
     "iopub.status.busy": "2023-03-16T16:31:23.367219Z",
     "iopub.status.idle": "2023-03-16T16:31:23.509936Z",
     "shell.execute_reply": "2023-03-16T16:31:23.509166Z",
     "shell.execute_reply.started": "2023-03-16T16:31:23.367427Z"
    },
    "tags": []
   },
   "outputs": [],
   "source": [
    "#initializing Tap and Butler\n",
    "pd.set_option('display.max_rows', 20)\n",
    "warnings.simplefilter(\"ignore\", category=UnitsWarning)\n",
    "service = get_tap_service()\n",
    "assert service is not None\n",
    "assert service.baseurl == \"https://data.lsst.cloud/api/tap\"\n",
    "\n",
    "# Use lsst.afw.display with the matplotlib backend\n",
    "afwDisplay.setDefaultBackend('matplotlib')"
   ]
  },
  {
   "cell_type": "code",
   "execution_count": 3,
   "id": "24faac31-23a1-4b51-a00a-0e3481f0fc59",
   "metadata": {
    "execution": {
     "iopub.execute_input": "2023-03-16T16:31:23.513415Z",
     "iopub.status.busy": "2023-03-16T16:31:23.513191Z",
     "iopub.status.idle": "2023-03-16T16:31:26.611516Z",
     "shell.execute_reply": "2023-03-16T16:31:26.610597Z",
     "shell.execute_reply.started": "2023-03-16T16:31:23.513398Z"
    },
    "tags": []
   },
   "outputs": [],
   "source": [
    "config = 'dp02'\n",
    "collection = '2.2i/runs/DP0.2'\n",
    "butler = dafButler.Butler(config, collections=collection)\n",
    "skymap = butler.get('skyMap')\n",
    "image_size = 100 #pixels"
   ]
  },
  {
   "cell_type": "markdown",
   "id": "22aa4e3f-1f9a-47c1-a668-59298976f195",
   "metadata": {},
   "source": [
    "## explore tables, columns, and datasets available"
   ]
  },
  {
   "cell_type": "code",
   "execution_count": 4,
   "id": "e7db6ecb-9d79-4088-a51d-40d6c551372f",
   "metadata": {
    "execution": {
     "iopub.execute_input": "2023-03-16T16:31:26.648993Z",
     "iopub.status.busy": "2023-03-16T16:31:26.648663Z",
     "iopub.status.idle": "2023-03-16T16:31:26.656047Z",
     "shell.execute_reply": "2023-03-16T16:31:26.655504Z",
     "shell.execute_reply.started": "2023-03-16T16:31:26.648975Z"
    },
    "tags": []
   },
   "outputs": [
    {
     "name": "stdout",
     "output_type": "stream",
     "text": [
      "DatasetType('calexp', {band, instrument, detector, physical_filter, visit_system, visit}, ExposureF)\n",
      "DatasetType('calexpBackground', {band, instrument, detector, physical_filter, visit_system, visit}, Background)\n",
      "DatasetType('calexpCutoutTask_config', {}, Config)\n",
      "DatasetType('calexpCutoutTask_log', {band, instrument, detector, physical_filter, visit_system, visit}, ButlerLogRecords)\n",
      "DatasetType('calexpCutoutTask_metadata', {band, instrument, detector, physical_filter, visit_system, visit}, PropertySet)\n",
      "DatasetType('calexp_camera', {band, instrument, physical_filter, visit_system, visit}, ImageF)\n",
      "DatasetType('calexp_cutouts', {band, instrument, detector, physical_filter, visit_system, visit}, Stamps)\n"
     ]
    }
   ],
   "source": [
    "#print all the available dataset types\n",
    "for dt in sorted(butler.registry.queryDatasetTypes('calexp*')):\n",
    "    print(dt)"
   ]
  },
  {
   "cell_type": "code",
   "execution_count": 5,
   "id": "77366fd1-5b87-4cae-81de-d212f82352d6",
   "metadata": {
    "execution": {
     "iopub.execute_input": "2023-03-16T16:31:26.656957Z",
     "iopub.status.busy": "2023-03-16T16:31:26.656770Z",
     "iopub.status.idle": "2023-03-16T16:31:26.768020Z",
     "shell.execute_reply": "2023-03-16T16:31:26.767437Z",
     "shell.execute_reply.started": "2023-03-16T16:31:26.656942Z"
    },
    "tags": []
   },
   "outputs": [
    {
     "data": {
      "text/html": [
       "<div><i>Table length=5</i>\n",
       "<table id=\"table140522648391200\" class=\"table-striped table-bordered table-condensed\">\n",
       "<thead><tr><th>description</th><th>schema_index</th><th>schema_name</th><th>utype</th></tr></thead>\n",
       "<thead><tr><th>str512</th><th>int32</th><th>str64</th><th>str512</th></tr></thead>\n",
       "<tr><td>Data Preview 0.1 includes five tables based on the DESC&apos;s Data Challenge 2 simulation of 300 square degrees of the wide-fast-deep LSST survey region after 5 years. All tables contain objects detected in coadded images.</td><td>2</td><td>dp01_dc2_catalogs</td><td></td></tr>\n",
       "<tr><td>Data Preview 0.2 contains the image and catalog products of the Rubin Science Pipelines v23 processing of the DESC Data Challenge 2 simulation, which covered 300 square degrees of the wide-fast-deep LSST survey region over 5 years.</td><td>0</td><td>dp02_dc2_catalogs</td><td></td></tr>\n",
       "<tr><td>ObsCore v1.1 attributes in ObsTAP realization</td><td>1</td><td>ivoa</td><td></td></tr>\n",
       "<tr><td>A TAP-standard-mandated schema to describe tablesets in a TAP 1.1 service</td><td>100000</td><td>tap_schema</td><td></td></tr>\n",
       "<tr><td>UWS Metadata</td><td>120000</td><td>uws</td><td></td></tr>\n",
       "</table></div>"
      ],
      "text/plain": [
       "<Table length=5>\n",
       "                                                                                                              description                                                                                                               ...\n",
       "                                                                                                                 str512                                                                                                                 ...\n",
       "--------------------------------------------------------------------------------------------------------------------------------------------------------------------------------------------------------------------------------------- ...\n",
       "             Data Preview 0.1 includes five tables based on the DESC's Data Challenge 2 simulation of 300 square degrees of the wide-fast-deep LSST survey region after 5 years. All tables contain objects detected in coadded images. ...\n",
       "Data Preview 0.2 contains the image and catalog products of the Rubin Science Pipelines v23 processing of the DESC Data Challenge 2 simulation, which covered 300 square degrees of the wide-fast-deep LSST survey region over 5 years. ...\n",
       "                                                                                                                                                                                          ObsCore v1.1 attributes in ObsTAP realization ...\n",
       "                                                                                                                                                              A TAP-standard-mandated schema to describe tablesets in a TAP 1.1 service ...\n",
       "                                                                                                                                                                                                                           UWS Metadata ..."
      ]
     },
     "execution_count": 5,
     "metadata": {},
     "output_type": "execute_result"
    }
   ],
   "source": [
    "query = \"SELECT * FROM tap_schema.schemas\"\n",
    "results = service.search(query).to_table()\n",
    "results"
   ]
  },
  {
   "cell_type": "code",
   "execution_count": 6,
   "id": "3f0cce83-a255-4ca8-ae4f-73d0522f9e69",
   "metadata": {
    "execution": {
     "iopub.execute_input": "2023-03-16T16:31:27.357798Z",
     "iopub.status.busy": "2023-03-16T16:31:27.357008Z",
     "iopub.status.idle": "2023-03-16T16:31:27.361922Z",
     "shell.execute_reply": "2023-03-16T16:31:27.361214Z",
     "shell.execute_reply.started": "2023-03-16T16:31:27.357772Z"
    },
    "tags": []
   },
   "outputs": [
    {
     "name": "stdout",
     "output_type": "stream",
     "text": [
      "DP0.2 schema is dp02_dc2_catalogs\n"
     ]
    }
   ],
   "source": [
    "schema_names = results['schema_name']\n",
    "for name in schema_names:\n",
    "    if name.find('dp02') > -1:\n",
    "        dp02_schema_name = name\n",
    "        break\n",
    "print(\"DP0.2 schema is \" + dp02_schema_name)"
   ]
  },
  {
   "cell_type": "code",
   "execution_count": 7,
   "id": "6f1f5aee-91be-456c-9ee7-7691b71beaef",
   "metadata": {
    "execution": {
     "iopub.execute_input": "2023-03-16T16:31:27.803922Z",
     "iopub.status.busy": "2023-03-16T16:31:27.803265Z",
     "iopub.status.idle": "2023-03-16T16:31:27.911806Z",
     "shell.execute_reply": "2023-03-16T16:31:27.911197Z",
     "shell.execute_reply.started": "2023-03-16T16:31:27.803899Z"
    },
    "tags": []
   },
   "outputs": [
    {
     "name": "stdout",
     "output_type": "stream",
     "text": [
      "SELECT * FROM tap_schema.tables WHERE tap_schema.tables.schema_name = 'dp02_dc2_catalogs' order by table_index ASC\n"
     ]
    },
    {
     "data": {
      "text/html": [
       "<div><i>Table length=11</i>\n",
       "<table id=\"table140522648389808\" class=\"table-striped table-bordered table-condensed\">\n",
       "<thead><tr><th>description</th><th>schema_name</th><th>table_index</th><th>table_name</th><th>table_type</th><th>utype</th></tr></thead>\n",
       "<thead><tr><th>str512</th><th>str512</th><th>int32</th><th>str64</th><th>str8</th><th>str512</th></tr></thead>\n",
       "<tr><td>Properties of the astronomical objects detected and measured on the deep coadded images.</td><td>dp02_dc2_catalogs</td><td>1</td><td>dp02_dc2_catalogs.Object</td><td>table</td><td></td></tr>\n",
       "<tr><td>Properties of detections on the single-epoch visit images, performed independently of the Object detections on coadded images.</td><td>dp02_dc2_catalogs</td><td>2</td><td>dp02_dc2_catalogs.Source</td><td>table</td><td></td></tr>\n",
       "<tr><td>Forced-photometry measurements on individual single-epoch visit images and difference images, based on and linked to the entries in the Object table. Point-source PSF photometry is performed, based on coordinates from a reference band chosen for each Object and reported in the Object.refBand column.</td><td>dp02_dc2_catalogs</td><td>3</td><td>dp02_dc2_catalogs.ForcedSource</td><td>table</td><td></td></tr>\n",
       "<tr><td>Properties of time-varying astronomical objects based on association of data from one or more spatially-related DiaSource detections on individual single-epoch difference images.</td><td>dp02_dc2_catalogs</td><td>4</td><td>dp02_dc2_catalogs.DiaObject</td><td>table</td><td></td></tr>\n",
       "<tr><td>Properties of transient-object detections on the single-epoch difference images.</td><td>dp02_dc2_catalogs</td><td>5</td><td>dp02_dc2_catalogs.DiaSource</td><td>table</td><td></td></tr>\n",
       "<tr><td>Point-source forced-photometry measurements on individual single-epoch visit images and difference images, based on and linked to the entries in the DiaObject table.</td><td>dp02_dc2_catalogs</td><td>6</td><td>dp02_dc2_catalogs.ForcedSourceOnDiaObject</td><td>table</td><td></td></tr>\n",
       "<tr><td>Metadata about the pointings of the DC2 simulated survey, largely associated with the boresight of the entire focal plane.</td><td>dp02_dc2_catalogs</td><td>7</td><td>dp02_dc2_catalogs.Visit</td><td>table</td><td></td></tr>\n",
       "<tr><td>Metadata about the 189 individual CCD images for each Visit in the DC2 simulated survey.</td><td>dp02_dc2_catalogs</td><td>8</td><td>dp02_dc2_catalogs.CcdVisit</td><td>table</td><td></td></tr>\n",
       "<tr><td>Static information about the subset of tracts and patches from the standard LSST skymap that apply to coadds in these catalogs</td><td>dp02_dc2_catalogs</td><td>9</td><td>dp02_dc2_catalogs.CoaddPatches</td><td>table</td><td></td></tr>\n",
       "<tr><td>Summary properties of objects from the DESC DC2 truth catalog, as described in arXiv:2101.04855. Includes the noiseless astrometric and photometric parameters.</td><td>dp02_dc2_catalogs</td><td>10</td><td>dp02_dc2_catalogs.TruthSummary</td><td>table</td><td></td></tr>\n",
       "<tr><td>Match information for TruthSummary objects.</td><td>dp02_dc2_catalogs</td><td>11</td><td>dp02_dc2_catalogs.MatchesTruth</td><td>table</td><td></td></tr>\n",
       "</table></div>"
      ],
      "text/plain": [
       "<Table length=11>\n",
       "                                                                                                                                                description                                                                                                                                                  ...\n",
       "                                                                                                                                                   str512                                                                                                                                                    ...\n",
       "------------------------------------------------------------------------------------------------------------------------------------------------------------------------------------------------------------------------------------------------------------------------------------------------------------ ...\n",
       "                                                                                                                                                                                                                    Properties of the astronomical objects detected and measured on the deep coadded images. ...\n",
       "                                                                                                                                                                              Properties of detections on the single-epoch visit images, performed independently of the Object detections on coadded images. ...\n",
       "Forced-photometry measurements on individual single-epoch visit images and difference images, based on and linked to the entries in the Object table. Point-source PSF photometry is performed, based on coordinates from a reference band chosen for each Object and reported in the Object.refBand column. ...\n",
       "                                                                                                                          Properties of time-varying astronomical objects based on association of data from one or more spatially-related DiaSource detections on individual single-epoch difference images. ...\n",
       "                                                                                                                                                                                                                            Properties of transient-object detections on the single-epoch difference images. ...\n",
       "                                                                                                                                       Point-source forced-photometry measurements on individual single-epoch visit images and difference images, based on and linked to the entries in the DiaObject table. ...\n",
       "                                                                                                                                                                                  Metadata about the pointings of the DC2 simulated survey, largely associated with the boresight of the entire focal plane. ...\n",
       "                                                                                                                                                                                                                    Metadata about the 189 individual CCD images for each Visit in the DC2 simulated survey. ...\n",
       "                                                                                                                                                                              Static information about the subset of tracts and patches from the standard LSST skymap that apply to coadds in these catalogs ...\n",
       "                                                                                                                                             Summary properties of objects from the DESC DC2 truth catalog, as described in arXiv:2101.04855. Includes the noiseless astrometric and photometric parameters. ...\n",
       "                                                                                                                                                                                                                                                                 Match information for TruthSummary objects. ..."
      ]
     },
     "execution_count": 7,
     "metadata": {},
     "output_type": "execute_result"
    }
   ],
   "source": [
    "query = \"SELECT * FROM tap_schema.tables \" \\\n",
    "        \"WHERE tap_schema.tables.schema_name = '\" \\\n",
    "        + dp02_schema_name + \"' order by table_index ASC\"\n",
    "print(query)\n",
    "\n",
    "results = service.search(query)\n",
    "results = results.to_table()\n",
    "results"
   ]
  },
  {
   "cell_type": "code",
   "execution_count": 8,
   "id": "25506146-8d1e-43d0-8f99-919636fa52d6",
   "metadata": {
    "execution": {
     "iopub.execute_input": "2023-03-16T16:31:30.086531Z",
     "iopub.status.busy": "2023-03-16T16:31:30.085746Z",
     "iopub.status.idle": "2023-03-16T16:31:30.089331Z",
     "shell.execute_reply": "2023-03-16T16:31:30.088728Z",
     "shell.execute_reply.started": "2023-03-16T16:31:30.086504Z"
    },
    "tags": []
   },
   "outputs": [],
   "source": [
    "# def get_columns_from_table(table_name):\n",
    "#     results = service.search(\"SELECT column_name, datatype, description, unit from TAP_SCHEMA.columns \"\n",
    "#                          \"WHERE table_name = \"+table_name+\" \")\n",
    "#     df_table = results.to_table().to_pandas()\n",
    "#     column_names = df_table['column_name'].to_list()\n",
    "#     return column_names"
   ]
  },
  {
   "cell_type": "code",
   "execution_count": 9,
   "id": "35adedb9-9ced-458e-8b8c-519a30bd9b9a",
   "metadata": {
    "execution": {
     "iopub.execute_input": "2023-03-16T16:31:30.698856Z",
     "iopub.status.busy": "2023-03-16T16:31:30.698077Z",
     "iopub.status.idle": "2023-03-16T16:31:30.805686Z",
     "shell.execute_reply": "2023-03-16T16:31:30.804623Z",
     "shell.execute_reply.started": "2023-03-16T16:31:30.698831Z"
    },
    "tags": []
   },
   "outputs": [
    {
     "data": {
      "text/plain": [
       "['band',\n",
       " 'ccdVisitId',\n",
       " 'darkTime',\n",
       " 'decl',\n",
       " 'detector',\n",
       " 'expMidpt',\n",
       " 'expMidptMJD',\n",
       " 'expTime',\n",
       " 'llcdec',\n",
       " 'llcra',\n",
       " 'lrcdec',\n",
       " 'lrcra',\n",
       " 'obsStart',\n",
       " 'obsStartMJD',\n",
       " 'physical_filter',\n",
       " 'psfSigma',\n",
       " 'ra',\n",
       " 'seeing',\n",
       " 'skyBg',\n",
       " 'skyNoise',\n",
       " 'skyRotation',\n",
       " 'ulcdec',\n",
       " 'ulcra',\n",
       " 'urcdec',\n",
       " 'urcra',\n",
       " 'visitId',\n",
       " 'xSize',\n",
       " 'ySize',\n",
       " 'zenithDistance',\n",
       " 'zeroPoint']"
      ]
     },
     "execution_count": 9,
     "metadata": {},
     "output_type": "execute_result"
    }
   ],
   "source": [
    "results = service.search(\"SELECT column_name, datatype, description, unit from TAP_SCHEMA.columns \"\n",
    "                         \"WHERE table_name = 'dp02_dc2_catalogs.CcdVisit'\")\n",
    "df_ccdvisit_table = results.to_table().to_pandas()\n",
    "df_ccdvisit_table['column_name'].to_list()"
   ]
  },
  {
   "cell_type": "code",
   "execution_count": 10,
   "id": "2ba2fce6-9790-4b53-9fa2-5b3ffb975b48",
   "metadata": {
    "execution": {
     "iopub.execute_input": "2023-03-16T16:31:31.884082Z",
     "iopub.status.busy": "2023-03-16T16:31:31.883098Z",
     "iopub.status.idle": "2023-03-16T16:31:31.984029Z",
     "shell.execute_reply": "2023-03-16T16:31:31.982928Z",
     "shell.execute_reply.started": "2023-03-16T16:31:31.884051Z"
    },
    "tags": []
   },
   "outputs": [
    {
     "data": {
      "text/plain": [
       "['band',\n",
       " 'ccdVisitId',\n",
       " 'coord_dec',\n",
       " 'coord_ra',\n",
       " 'detect_isPatchInner',\n",
       " 'detect_isPrimary',\n",
       " 'detect_isTractInner',\n",
       " 'forcedSourceId',\n",
       " 'localBackground_instFlux',\n",
       " 'localBackground_instFluxErr',\n",
       " 'localPhotoCalib',\n",
       " 'localPhotoCalib_flag',\n",
       " 'localPhotoCalibErr',\n",
       " 'localWcs_CDMatrix_1_1',\n",
       " 'localWcs_CDMatrix_1_2',\n",
       " 'localWcs_CDMatrix_2_1',\n",
       " 'localWcs_CDMatrix_2_2',\n",
       " 'localWcs_flag',\n",
       " 'objectId',\n",
       " 'parentObjectId',\n",
       " 'patch',\n",
       " 'pixelFlags_bad',\n",
       " 'pixelFlags_cr',\n",
       " 'pixelFlags_crCenter',\n",
       " 'pixelFlags_edge',\n",
       " 'pixelFlags_interpolated',\n",
       " 'pixelFlags_interpolatedCenter',\n",
       " 'pixelFlags_saturated',\n",
       " 'pixelFlags_saturatedCenter',\n",
       " 'pixelFlags_suspect',\n",
       " 'pixelFlags_suspectCenter',\n",
       " 'psfDiffFlux',\n",
       " 'psfDiffFlux_flag',\n",
       " 'psfDiffFluxErr',\n",
       " 'psfFlux',\n",
       " 'psfFlux_flag',\n",
       " 'psfFluxErr',\n",
       " 'skymap',\n",
       " 'tract']"
      ]
     },
     "execution_count": 10,
     "metadata": {},
     "output_type": "execute_result"
    }
   ],
   "source": [
    "results = service.search(\"SELECT column_name, datatype, description, unit from TAP_SCHEMA.columns \"\n",
    "                         \"WHERE table_name = 'dp02_dc2_catalogs.ForcedSource'\")\n",
    "df_forcedsrc_table = results.to_table().to_pandas()\n",
    "df_forcedsrc_table['column_name'].to_list()"
   ]
  },
  {
   "cell_type": "markdown",
   "id": "0d1addfd-0834-4cc0-9b43-02ed5b8aa2dd",
   "metadata": {},
   "source": [
    "## variable stars"
   ]
  },
  {
   "cell_type": "code",
   "execution_count": 11,
   "id": "32ad3a04-26ba-4114-8393-4a64a42c1415",
   "metadata": {
    "execution": {
     "iopub.execute_input": "2023-03-16T16:31:35.715912Z",
     "iopub.status.busy": "2023-03-16T16:31:35.714900Z",
     "iopub.status.idle": "2023-03-16T16:31:35.722405Z",
     "shell.execute_reply": "2023-03-16T16:31:35.721587Z",
     "shell.execute_reply.started": "2023-03-16T16:31:35.715878Z"
    },
    "tags": []
   },
   "outputs": [],
   "source": [
    "def make_fig(cutout_image, ra, dec, out_name):\n",
    "    \"\"\"\n",
    "    Create an image.\n",
    "    should be followed with remove_figure\n",
    "\n",
    "    Parameters\n",
    "    ----------\n",
    "    cutout_image : cutout_image from butler.get\n",
    "    out_name : file name where you'd like to save it\n",
    "    \n",
    "    \"\"\"\n",
    "    fig = plt.figure(figsize=(4, 4))\n",
    "    afw_display = afwDisplay.Display(frame=fig)\n",
    "    afw_display.scale('asinh', 'zscale')\n",
    "    afw_display.mtv(cutout_image.image)\n",
    "    \n",
    "    cutout_wcs = cutout_image.getWcs()\n",
    "    radec = geom.SpherePoint(ra, dec, geom.degrees)\n",
    "    xy = geom.PointI(cutout_wcs.skyToPixel(radec))\n",
    "    \n",
    "    afw_display.dot('x', xy.getX(), xy.getY(), size=1, ctype='orange')\n",
    "    plt.gca().axis('off')\n",
    "    plt.savefig(out_name)\n",
    "    \n",
    "    return fig\n",
    "    \n",
    "    \n",
    "def remove_figure(fig):\n",
    "    \"\"\"\n",
    "    Remove a figure to reduce memory footprint.\n",
    "\n",
    "    Parameters\n",
    "    ----------\n",
    "    fig: matplotlib.figure.Figure\n",
    "        Figure to be removed.\n",
    "\n",
    "    Returns\n",
    "    -------\n",
    "    None\n",
    "    \"\"\"\n",
    "    # get the axes and clear their images\n",
    "    for ax in fig.get_axes():\n",
    "        for im in ax.get_images():\n",
    "            im.remove()\n",
    "    fig.clf()       # clear the figure\n",
    "    plt.close(fig)  # close the figure\n",
    "\n",
    "    gc.collect()    # call the garbage collector"
   ]
  },
  {
   "cell_type": "code",
   "execution_count": 12,
   "id": "fe8c8d59-5f95-4cfd-b1be-b34aa3dcb21f",
   "metadata": {
    "execution": {
     "iopub.execute_input": "2023-03-16T16:31:37.262885Z",
     "iopub.status.busy": "2023-03-16T16:31:37.262503Z",
     "iopub.status.idle": "2023-03-16T16:31:37.266923Z",
     "shell.execute_reply": "2023-03-16T16:31:37.266116Z",
     "shell.execute_reply.started": "2023-03-16T16:31:37.262860Z"
    },
    "tags": []
   },
   "outputs": [],
   "source": [
    "plots = []\n",
    "bands = ['g']\n",
    "batch_dir = './variable_stars_output'"
   ]
  },
  {
   "cell_type": "code",
   "execution_count": 13,
   "id": "fa57f419-e133-4ddb-ae55-eb8fe60a0261",
   "metadata": {
    "execution": {
     "iopub.execute_input": "2023-03-16T16:31:42.105272Z",
     "iopub.status.busy": "2023-03-16T16:31:42.104245Z",
     "iopub.status.idle": "2023-03-16T16:31:42.156235Z",
     "shell.execute_reply": "2023-03-16T16:31:42.154844Z",
     "shell.execute_reply.started": "2023-03-16T16:31:42.105221Z"
    },
    "tags": []
   },
   "outputs": [],
   "source": [
    "if os.path.isdir(batch_dir) == False:\n",
    "    os.mkdir(batch_dir)\n",
    "    \n",
    "if os.path.isdir(batch_dir+'/coadd_images') == False:\n",
    "    os.mkdir(batch_dir+'/coadd_images')\n",
    "else:\n",
    "    os.system('rm -r '+batch_dir+'/coadd_images/*')"
   ]
  },
  {
   "cell_type": "code",
   "execution_count": 14,
   "id": "134fc446-408e-4f87-97e9-3acc734281f0",
   "metadata": {
    "execution": {
     "iopub.execute_input": "2023-03-16T16:31:48.807903Z",
     "iopub.status.busy": "2023-03-16T16:31:48.806797Z",
     "iopub.status.idle": "2023-03-16T16:31:48.812182Z",
     "shell.execute_reply": "2023-03-16T16:31:48.811425Z",
     "shell.execute_reply.started": "2023-03-16T16:31:48.807872Z"
    },
    "tags": []
   },
   "outputs": [],
   "source": [
    "def query_stars(ra_deg, dec_deg, radius_deg, limit):\n",
    "    #radius within which you want to query\n",
    "    \n",
    "    query = \"SELECT mt.id_truth_type, mt.match_objectId, ts.ra, ts.dec \"\\\n",
    "            \"FROM dp02_dc2_catalogs.MatchesTruth AS mt \"\\\n",
    "            \"JOIN dp02_dc2_catalogs.TruthSummary AS ts ON mt.id_truth_type = ts.id_truth_type \"\\\n",
    "            \"WHERE ts.truth_type=2 \"\\\n",
    "            \"AND ts.is_variable = 1 \"\\\n",
    "            \"AND ts.is_pointsource = 1 \"\\\n",
    "            \"AND mt.match_objectId > 1 \"\\\n",
    "            \"AND CONTAINS(POINT('ICRS', ts.ra, ts.dec), CIRCLE('ICRS', \"+ str(ra_deg)+\", \"+str(dec_deg)+\", \"+str(radius_deg)+\")) <= 1 \"\\\n",
    "            \"LIMIT \"+str(limit)+\" \"\n",
    "    results = service.search(query)\n",
    "    variable_stars = results.to_table().to_pandas()\n",
    "    return variable_stars"
   ]
  },
  {
   "cell_type": "code",
   "execution_count": 15,
   "id": "f1e0d96f-fe1e-4b0c-ba16-8502985ececa",
   "metadata": {
    "execution": {
     "iopub.execute_input": "2023-03-16T16:31:50.291306Z",
     "iopub.status.busy": "2023-03-16T16:31:50.290514Z",
     "iopub.status.idle": "2023-03-16T16:31:51.456241Z",
     "shell.execute_reply": "2023-03-16T16:31:51.455280Z",
     "shell.execute_reply.started": "2023-03-16T16:31:50.291277Z"
    },
    "tags": []
   },
   "outputs": [
    {
     "name": "stdout",
     "output_type": "stream",
     "text": [
      "CPU times: user 16.2 ms, sys: 4.84 ms, total: 21.1 ms\n",
      "Wall time: 1.16 s\n"
     ]
    }
   ],
   "source": [
    "%%time\n",
    "variable_stars = query_stars(62.1, -35.8, 0.10,10)"
   ]
  },
  {
   "cell_type": "code",
   "execution_count": 16,
   "id": "d0f01407-5558-4752-ba85-e2e5bf75e312",
   "metadata": {
    "execution": {
     "iopub.execute_input": "2023-03-16T16:31:51.472413Z",
     "iopub.status.busy": "2023-03-16T16:31:51.471698Z",
     "iopub.status.idle": "2023-03-16T16:31:51.484577Z",
     "shell.execute_reply": "2023-03-16T16:31:51.483871Z",
     "shell.execute_reply.started": "2023-03-16T16:31:51.472390Z"
    },
    "tags": []
   },
   "outputs": [
    {
     "data": {
      "text/html": [
       "<div>\n",
       "<style scoped>\n",
       "    .dataframe tbody tr th:only-of-type {\n",
       "        vertical-align: middle;\n",
       "    }\n",
       "\n",
       "    .dataframe tbody tr th {\n",
       "        vertical-align: top;\n",
       "    }\n",
       "\n",
       "    .dataframe thead th {\n",
       "        text-align: right;\n",
       "    }\n",
       "</style>\n",
       "<table border=\"1\" class=\"dataframe\">\n",
       "  <thead>\n",
       "    <tr style=\"text-align: right;\">\n",
       "      <th></th>\n",
       "      <th>id_truth_type</th>\n",
       "      <th>match_objectId</th>\n",
       "      <th>ra</th>\n",
       "      <th>dec</th>\n",
       "    </tr>\n",
       "  </thead>\n",
       "  <tbody>\n",
       "    <tr>\n",
       "      <th>0</th>\n",
       "      <td>40966017306_2</td>\n",
       "      <td>1251261824595168123</td>\n",
       "      <td>62.400122</td>\n",
       "      <td>-44.492471</td>\n",
       "    </tr>\n",
       "    <tr>\n",
       "      <th>1</th>\n",
       "      <td>40966012618_2</td>\n",
       "      <td>1251261824595168965</td>\n",
       "      <td>62.433290</td>\n",
       "      <td>-44.481177</td>\n",
       "    </tr>\n",
       "    <tr>\n",
       "      <th>2</th>\n",
       "      <td>40969404941_2</td>\n",
       "      <td>1251261824595168905</td>\n",
       "      <td>62.498074</td>\n",
       "      <td>-44.485888</td>\n",
       "    </tr>\n",
       "    <tr>\n",
       "      <th>3</th>\n",
       "      <td>40966005530_2</td>\n",
       "      <td>1251261824595169442</td>\n",
       "      <td>62.554306</td>\n",
       "      <td>-44.470786</td>\n",
       "    </tr>\n",
       "    <tr>\n",
       "      <th>4</th>\n",
       "      <td>41020640403_2</td>\n",
       "      <td>1251261824595168496</td>\n",
       "      <td>62.541632</td>\n",
       "      <td>-44.489484</td>\n",
       "    </tr>\n",
       "    <tr>\n",
       "      <th>5</th>\n",
       "      <td>40901174328_2</td>\n",
       "      <td>1251261824595168050</td>\n",
       "      <td>62.582894</td>\n",
       "      <td>-44.495585</td>\n",
       "    </tr>\n",
       "    <tr>\n",
       "      <th>6</th>\n",
       "      <td>40745504819_2</td>\n",
       "      <td>1251261824595169490</td>\n",
       "      <td>62.511065</td>\n",
       "      <td>-44.477417</td>\n",
       "    </tr>\n",
       "    <tr>\n",
       "      <th>7</th>\n",
       "      <td>40555681803_2</td>\n",
       "      <td>1251261824595168058</td>\n",
       "      <td>62.375589</td>\n",
       "      <td>-44.493046</td>\n",
       "    </tr>\n",
       "    <tr>\n",
       "      <th>8</th>\n",
       "      <td>40901174286_2</td>\n",
       "      <td>1251261824595168554</td>\n",
       "      <td>62.571105</td>\n",
       "      <td>-44.489517</td>\n",
       "    </tr>\n",
       "    <tr>\n",
       "      <th>9</th>\n",
       "      <td>40745505268_2</td>\n",
       "      <td>1251261824595168630</td>\n",
       "      <td>62.530818</td>\n",
       "      <td>-44.488077</td>\n",
       "    </tr>\n",
       "  </tbody>\n",
       "</table>\n",
       "</div>"
      ],
      "text/plain": [
       "   id_truth_type       match_objectId         ra        dec\n",
       "0  40966017306_2  1251261824595168123  62.400122 -44.492471\n",
       "1  40966012618_2  1251261824595168965  62.433290 -44.481177\n",
       "2  40969404941_2  1251261824595168905  62.498074 -44.485888\n",
       "3  40966005530_2  1251261824595169442  62.554306 -44.470786\n",
       "4  41020640403_2  1251261824595168496  62.541632 -44.489484\n",
       "5  40901174328_2  1251261824595168050  62.582894 -44.495585\n",
       "6  40745504819_2  1251261824595169490  62.511065 -44.477417\n",
       "7  40555681803_2  1251261824595168058  62.375589 -44.493046\n",
       "8  40901174286_2  1251261824595168554  62.571105 -44.489517\n",
       "9  40745505268_2  1251261824595168630  62.530818 -44.488077"
      ]
     },
     "execution_count": 16,
     "metadata": {},
     "output_type": "execute_result"
    }
   ],
   "source": [
    "variable_stars"
   ]
  },
  {
   "cell_type": "code",
   "execution_count": 17,
   "id": "2b1efec3-952f-4863-8a46-ff5fb8e94765",
   "metadata": {
    "execution": {
     "iopub.execute_input": "2023-03-16T16:31:53.868428Z",
     "iopub.status.busy": "2023-03-16T16:31:53.867692Z",
     "iopub.status.idle": "2023-03-16T16:31:54.036568Z",
     "shell.execute_reply": "2023-03-16T16:31:54.035735Z",
     "shell.execute_reply.started": "2023-03-16T16:31:53.868393Z"
    },
    "tags": []
   },
   "outputs": [],
   "source": [
    "ccd_query = \"SELECT src.ccdVisitId, src.coord_ra, src.coord_dec, src.objectId, \"\\\n",
    "        \"ccdvis.detector, ccdvis.ccdVisitId \"\\\n",
    "        \"FROM dp02_dc2_catalogs.ForcedSource AS src \"\\\n",
    "        \"JOIN dp02_dc2_catalogs.CcdVisit AS ccdvis \"\\\n",
    "        \"ON src.ccdVisitId = ccdvis.ccdVisitId \"\\\n",
    "        \"WHERE src.objectId = \"+str(1252985858827510315)+\" \"\n",
    "ccd_results = service.search(ccd_query)"
   ]
  },
  {
   "cell_type": "code",
   "execution_count": 18,
   "id": "8f9c793c-9809-4479-b781-a0c107e0d494",
   "metadata": {
    "execution": {
     "iopub.execute_input": "2023-03-16T16:32:07.554965Z",
     "iopub.status.busy": "2023-03-16T16:32:07.553884Z",
     "iopub.status.idle": "2023-03-16T16:32:07.561807Z",
     "shell.execute_reply": "2023-03-16T16:32:07.560898Z",
     "shell.execute_reply.started": "2023-03-16T16:32:07.554930Z"
    },
    "tags": []
   },
   "outputs": [],
   "source": [
    "ccd_results = ccd_results.to_table().to_pandas()"
   ]
  },
  {
   "cell_type": "code",
   "execution_count": 19,
   "id": "51afc7c0-a899-49f1-94cc-5e417a5cea44",
   "metadata": {
    "execution": {
     "iopub.execute_input": "2023-03-16T16:32:08.505740Z",
     "iopub.status.busy": "2023-03-16T16:32:08.504968Z",
     "iopub.status.idle": "2023-03-16T16:32:08.516784Z",
     "shell.execute_reply": "2023-03-16T16:32:08.516195Z",
     "shell.execute_reply.started": "2023-03-16T16:32:08.505714Z"
    },
    "tags": []
   },
   "outputs": [
    {
     "data": {
      "text/html": [
       "<div>\n",
       "<style scoped>\n",
       "    .dataframe tbody tr th:only-of-type {\n",
       "        vertical-align: middle;\n",
       "    }\n",
       "\n",
       "    .dataframe tbody tr th {\n",
       "        vertical-align: top;\n",
       "    }\n",
       "\n",
       "    .dataframe thead th {\n",
       "        text-align: right;\n",
       "    }\n",
       "</style>\n",
       "<table border=\"1\" class=\"dataframe\">\n",
       "  <thead>\n",
       "    <tr style=\"text-align: right;\">\n",
       "      <th></th>\n",
       "      <th>ccdVisitId</th>\n",
       "      <th>coord_ra</th>\n",
       "      <th>coord_dec</th>\n",
       "      <th>objectId</th>\n",
       "      <th>detector</th>\n",
       "      <th>ccdVisitId2</th>\n",
       "    </tr>\n",
       "  </thead>\n",
       "  <tbody>\n",
       "    <tr>\n",
       "      <th>0</th>\n",
       "      <td>904739114</td>\n",
       "      <td>70.574304</td>\n",
       "      <td>-44.59494</td>\n",
       "      <td>1252985858827510315</td>\n",
       "      <td>114</td>\n",
       "      <td>904739114</td>\n",
       "    </tr>\n",
       "    <tr>\n",
       "      <th>1</th>\n",
       "      <td>1006105001</td>\n",
       "      <td>70.574304</td>\n",
       "      <td>-44.59494</td>\n",
       "      <td>1252985858827510315</td>\n",
       "      <td>1</td>\n",
       "      <td>1006105001</td>\n",
       "    </tr>\n",
       "    <tr>\n",
       "      <th>2</th>\n",
       "      <td>1006101180</td>\n",
       "      <td>70.574304</td>\n",
       "      <td>-44.59494</td>\n",
       "      <td>1252985858827510315</td>\n",
       "      <td>180</td>\n",
       "      <td>1006101180</td>\n",
       "    </tr>\n",
       "    <tr>\n",
       "      <th>3</th>\n",
       "      <td>1162585058</td>\n",
       "      <td>70.574304</td>\n",
       "      <td>-44.59494</td>\n",
       "      <td>1252985858827510315</td>\n",
       "      <td>58</td>\n",
       "      <td>1162585058</td>\n",
       "    </tr>\n",
       "    <tr>\n",
       "      <th>4</th>\n",
       "      <td>1234500023</td>\n",
       "      <td>70.574304</td>\n",
       "      <td>-44.59494</td>\n",
       "      <td>1252985858827510315</td>\n",
       "      <td>23</td>\n",
       "      <td>1234500023</td>\n",
       "    </tr>\n",
       "    <tr>\n",
       "      <th>...</th>\n",
       "      <td>...</td>\n",
       "      <td>...</td>\n",
       "      <td>...</td>\n",
       "      <td>...</td>\n",
       "      <td>...</td>\n",
       "      <td>...</td>\n",
       "    </tr>\n",
       "    <tr>\n",
       "      <th>152</th>\n",
       "      <td>1197720145</td>\n",
       "      <td>70.574304</td>\n",
       "      <td>-44.59494</td>\n",
       "      <td>1252985858827510315</td>\n",
       "      <td>145</td>\n",
       "      <td>1197720145</td>\n",
       "    </tr>\n",
       "    <tr>\n",
       "      <th>153</th>\n",
       "      <td>1227927125</td>\n",
       "      <td>70.574304</td>\n",
       "      <td>-44.59494</td>\n",
       "      <td>1252985858827510315</td>\n",
       "      <td>125</td>\n",
       "      <td>1227927125</td>\n",
       "    </tr>\n",
       "    <tr>\n",
       "      <th>154</th>\n",
       "      <td>444114188</td>\n",
       "      <td>70.574304</td>\n",
       "      <td>-44.59494</td>\n",
       "      <td>1252985858827510315</td>\n",
       "      <td>188</td>\n",
       "      <td>444114188</td>\n",
       "    </tr>\n",
       "    <tr>\n",
       "      <th>155</th>\n",
       "      <td>995038159</td>\n",
       "      <td>70.574304</td>\n",
       "      <td>-44.59494</td>\n",
       "      <td>1252985858827510315</td>\n",
       "      <td>159</td>\n",
       "      <td>995038159</td>\n",
       "    </tr>\n",
       "    <tr>\n",
       "      <th>156</th>\n",
       "      <td>1172777034</td>\n",
       "      <td>70.574304</td>\n",
       "      <td>-44.59494</td>\n",
       "      <td>1252985858827510315</td>\n",
       "      <td>34</td>\n",
       "      <td>1172777034</td>\n",
       "    </tr>\n",
       "  </tbody>\n",
       "</table>\n",
       "<p>157 rows × 6 columns</p>\n",
       "</div>"
      ],
      "text/plain": [
       "     ccdVisitId   coord_ra  coord_dec             objectId  detector  \\\n",
       "0     904739114  70.574304  -44.59494  1252985858827510315       114   \n",
       "1    1006105001  70.574304  -44.59494  1252985858827510315         1   \n",
       "2    1006101180  70.574304  -44.59494  1252985858827510315       180   \n",
       "3    1162585058  70.574304  -44.59494  1252985858827510315        58   \n",
       "4    1234500023  70.574304  -44.59494  1252985858827510315        23   \n",
       "..          ...        ...        ...                  ...       ...   \n",
       "152  1197720145  70.574304  -44.59494  1252985858827510315       145   \n",
       "153  1227927125  70.574304  -44.59494  1252985858827510315       125   \n",
       "154   444114188  70.574304  -44.59494  1252985858827510315       188   \n",
       "155   995038159  70.574304  -44.59494  1252985858827510315       159   \n",
       "156  1172777034  70.574304  -44.59494  1252985858827510315        34   \n",
       "\n",
       "     ccdVisitId2  \n",
       "0      904739114  \n",
       "1     1006105001  \n",
       "2     1006101180  \n",
       "3     1162585058  \n",
       "4     1234500023  \n",
       "..           ...  \n",
       "152   1197720145  \n",
       "153   1227927125  \n",
       "154    444114188  \n",
       "155    995038159  \n",
       "156   1172777034  \n",
       "\n",
       "[157 rows x 6 columns]"
      ]
     },
     "execution_count": 19,
     "metadata": {},
     "output_type": "execute_result"
    }
   ],
   "source": [
    "ccd_results"
   ]
  },
  {
   "cell_type": "code",
   "execution_count": 20,
   "id": "3c32a5a2-ebc3-49b1-9174-8444617c4c89",
   "metadata": {
    "execution": {
     "iopub.execute_input": "2023-03-16T16:32:10.322284Z",
     "iopub.status.busy": "2023-03-16T16:32:10.321507Z",
     "iopub.status.idle": "2023-03-16T16:32:10.327128Z",
     "shell.execute_reply": "2023-03-16T16:32:10.326479Z",
     "shell.execute_reply.started": "2023-03-16T16:32:10.322257Z"
    },
    "tags": []
   },
   "outputs": [],
   "source": [
    "def get_cutout_image(ra_deg,dec_deg,visit, detector, band,datasetType='calexp',cutoutSideLength=image_size):\n",
    "    \"\"\"\n",
    "    get the tract and patch of a source. currently retrieves i band only. \n",
    "\n",
    "    Parameters\n",
    "    ----------\n",
    "    ra : ra of source in degrees\n",
    "    dec : dec of source in degrees\n",
    "    \n",
    "    \"\"\"\n",
    "    cutoutSize = geom.ExtentI(cutoutSideLength, cutoutSideLength)\n",
    "    \n",
    "    spherePoint = geom.SpherePoint(ra_deg*geom.degrees, dec_deg*geom.degrees)\n",
    "    tract = skymap.findTract(spherePoint)\n",
    "    patch = tract.findPatch(spherePoint)\n",
    "    xy = geom.PointI(tract.getWcs().skyToPixel(spherePoint))\n",
    "    bbox = geom.BoxI(xy - cutoutSize // 2, cutoutSize)\n",
    "    \n",
    "    my_tract = tract.getId()\n",
    "    my_patch = tract.getSequentialPatchIndex(patch)\n",
    "    \n",
    "    parameters = {'bbox': bbox}\n",
    "    dataId = {'band': band, 'tract': my_tract, 'patch': my_patch, 'visit': visit, 'detector':detector}\n",
    "    cutout_image = butler.get(datasetType, dataId=dataId, parameters=parameters)\n",
    "    return cutout_image"
   ]
  },
  {
   "cell_type": "code",
   "execution_count": 21,
   "id": "09e6e0d2-7b0c-489e-be29-88fc110ceb79",
   "metadata": {
    "execution": {
     "iopub.execute_input": "2023-03-16T16:32:11.323314Z",
     "iopub.status.busy": "2023-03-16T16:32:11.322569Z",
     "iopub.status.idle": "2023-03-16T16:32:11.572530Z",
     "shell.execute_reply": "2023-03-16T16:32:11.571514Z",
     "shell.execute_reply.started": "2023-03-16T16:32:11.323289Z"
    },
    "tags": []
   },
   "outputs": [
    {
     "ename": "LookupError",
     "evalue": "Dataset calexp with data ID {instrument: 'LSSTCam-imSim', detector: 114, visit: 904739114} could not be found in collections ('2.2i/runs/DP0.2',).",
     "output_type": "error",
     "traceback": [
      "\u001b[0;31m---------------------------------------------------------------------------\u001b[0m",
      "\u001b[0;31mLookupError\u001b[0m                               Traceback (most recent call last)",
      "Input \u001b[0;32mIn [21]\u001b[0m, in \u001b[0;36m<cell line: 1>\u001b[0;34m()\u001b[0m\n\u001b[1;32m      3\u001b[0m \u001b[38;5;28;01mfor\u001b[39;00m visit \u001b[38;5;129;01min\u001b[39;00m ccd_results[\u001b[38;5;124m'\u001b[39m\u001b[38;5;124mccdVisitId\u001b[39m\u001b[38;5;124m'\u001b[39m][\u001b[38;5;241m0\u001b[39m:\u001b[38;5;241m2\u001b[39m]:\n\u001b[1;32m      4\u001b[0m     \u001b[38;5;28;01mfor\u001b[39;00m detector \u001b[38;5;129;01min\u001b[39;00m ccd_results[\u001b[38;5;124m'\u001b[39m\u001b[38;5;124mdetector\u001b[39m\u001b[38;5;124m'\u001b[39m][\u001b[38;5;241m0\u001b[39m:\u001b[38;5;241m2\u001b[39m]:\n\u001b[0;32m----> 5\u001b[0m         deepCoadd\u001b[38;5;241m=\u001b[39m \u001b[43mget_cutout_image\u001b[49m\u001b[43m(\u001b[49m\u001b[43mrow\u001b[49m\u001b[43m[\u001b[49m\u001b[38;5;124;43m'\u001b[39;49m\u001b[38;5;124;43mra\u001b[39;49m\u001b[38;5;124;43m'\u001b[39;49m\u001b[43m]\u001b[49m\u001b[43m,\u001b[49m\u001b[43mrow\u001b[49m\u001b[43m[\u001b[49m\u001b[38;5;124;43m'\u001b[39;49m\u001b[38;5;124;43mdec\u001b[39;49m\u001b[38;5;124;43m'\u001b[39;49m\u001b[43m]\u001b[49m\u001b[43m,\u001b[49m\u001b[43mvisit\u001b[49m\u001b[43m,\u001b[49m\u001b[43mdetector\u001b[49m\u001b[43m,\u001b[49m\u001b[43mband\u001b[49m\u001b[43m,\u001b[49m\u001b[43mdatasetType\u001b[49m\u001b[38;5;241;43m=\u001b[39;49m\u001b[38;5;124;43m'\u001b[39;49m\u001b[38;5;124;43mcalexp\u001b[39;49m\u001b[38;5;124;43m'\u001b[39;49m\u001b[43m)\u001b[49m\n\u001b[1;32m      6\u001b[0m         figout \u001b[38;5;241m=\u001b[39m make_fig(deepCoadd, row[\u001b[38;5;124m'\u001b[39m\u001b[38;5;124mra\u001b[39m\u001b[38;5;124m'\u001b[39m],row[\u001b[38;5;124m'\u001b[39m\u001b[38;5;124mdec\u001b[39m\u001b[38;5;124m'\u001b[39m],batch_dir\u001b[38;5;241m+\u001b[39m\u001b[38;5;124m\"\u001b[39m\u001b[38;5;124m/coadd_images/\u001b[39m\u001b[38;5;124m\"\u001b[39m\u001b[38;5;241m+\u001b[39m\u001b[38;5;28mstr\u001b[39m(row[\u001b[38;5;124m'\u001b[39m\u001b[38;5;124mid_truth_type\u001b[39m\u001b[38;5;124m'\u001b[39m])\u001b[38;5;241m+\u001b[39m\\\n\u001b[1;32m      7\u001b[0m                           \u001b[38;5;124m\"\u001b[39m\u001b[38;5;124m_\u001b[39m\u001b[38;5;124m\"\u001b[39m\u001b[38;5;241m+\u001b[39mband\u001b[38;5;241m+\u001b[39m\u001b[38;5;124m\"\u001b[39m\u001b[38;5;124m_\u001b[39m\u001b[38;5;124m\"\u001b[39m\u001b[38;5;241m+\u001b[39m\u001b[38;5;28mstr\u001b[39m(visit)\u001b[38;5;241m+\u001b[39m\u001b[38;5;124m\"\u001b[39m\u001b[38;5;124m.png\u001b[39m\u001b[38;5;124m\"\u001b[39m)\n\u001b[1;32m      8\u001b[0m         remove_figure(figout)\n",
      "Input \u001b[0;32mIn [20]\u001b[0m, in \u001b[0;36mget_cutout_image\u001b[0;34m(ra_deg, dec_deg, visit, detector, band, datasetType, cutoutSideLength)\u001b[0m\n\u001b[1;32m     22\u001b[0m parameters \u001b[38;5;241m=\u001b[39m {\u001b[38;5;124m'\u001b[39m\u001b[38;5;124mbbox\u001b[39m\u001b[38;5;124m'\u001b[39m: bbox}\n\u001b[1;32m     23\u001b[0m dataId \u001b[38;5;241m=\u001b[39m {\u001b[38;5;124m'\u001b[39m\u001b[38;5;124mband\u001b[39m\u001b[38;5;124m'\u001b[39m: band, \u001b[38;5;124m'\u001b[39m\u001b[38;5;124mtract\u001b[39m\u001b[38;5;124m'\u001b[39m: my_tract, \u001b[38;5;124m'\u001b[39m\u001b[38;5;124mpatch\u001b[39m\u001b[38;5;124m'\u001b[39m: my_patch, \u001b[38;5;124m'\u001b[39m\u001b[38;5;124mvisit\u001b[39m\u001b[38;5;124m'\u001b[39m: visit, \u001b[38;5;124m'\u001b[39m\u001b[38;5;124mdetector\u001b[39m\u001b[38;5;124m'\u001b[39m:detector}\n\u001b[0;32m---> 24\u001b[0m cutout_image \u001b[38;5;241m=\u001b[39m \u001b[43mbutler\u001b[49m\u001b[38;5;241;43m.\u001b[39;49m\u001b[43mget\u001b[49m\u001b[43m(\u001b[49m\u001b[43mdatasetType\u001b[49m\u001b[43m,\u001b[49m\u001b[43m \u001b[49m\u001b[43mdataId\u001b[49m\u001b[38;5;241;43m=\u001b[39;49m\u001b[43mdataId\u001b[49m\u001b[43m,\u001b[49m\u001b[43m \u001b[49m\u001b[43mparameters\u001b[49m\u001b[38;5;241;43m=\u001b[39;49m\u001b[43mparameters\u001b[49m\u001b[43m)\u001b[49m\n\u001b[1;32m     25\u001b[0m \u001b[38;5;28;01mreturn\u001b[39;00m cutout_image\n",
      "File \u001b[0;32m/opt/lsst/software/stack/stack/miniconda3-py38_4.9.2-5.1.0/Linux64/daf_butler/gf8dc3d25d9+8feadece27/python/lsst/daf/butler/_butler.py:1429\u001b[0m, in \u001b[0;36mButler.get\u001b[0;34m(self, datasetRefOrType, dataId, parameters, collections, storageClass, **kwargs)\u001b[0m\n\u001b[1;32m   1374\u001b[0m \u001b[38;5;124;03m\"\"\"Retrieve a stored dataset.\u001b[39;00m\n\u001b[1;32m   1375\u001b[0m \n\u001b[1;32m   1376\u001b[0m \u001b[38;5;124;03mParameters\u001b[39;00m\n\u001b[0;32m   (...)\u001b[0m\n\u001b[1;32m   1426\u001b[0m \u001b[38;5;124;03m``exposure`` is a temporal dimension.\u001b[39;00m\n\u001b[1;32m   1427\u001b[0m \u001b[38;5;124;03m\"\"\"\u001b[39;00m\n\u001b[1;32m   1428\u001b[0m log\u001b[38;5;241m.\u001b[39mdebug(\u001b[38;5;124m\"\u001b[39m\u001b[38;5;124mButler get: \u001b[39m\u001b[38;5;132;01m%s\u001b[39;00m\u001b[38;5;124m, dataId=\u001b[39m\u001b[38;5;132;01m%s\u001b[39;00m\u001b[38;5;124m, parameters=\u001b[39m\u001b[38;5;132;01m%s\u001b[39;00m\u001b[38;5;124m\"\u001b[39m, datasetRefOrType, dataId, parameters)\n\u001b[0;32m-> 1429\u001b[0m ref \u001b[38;5;241m=\u001b[39m \u001b[38;5;28;43mself\u001b[39;49m\u001b[38;5;241;43m.\u001b[39;49m\u001b[43m_findDatasetRef\u001b[49m\u001b[43m(\u001b[49m\u001b[43mdatasetRefOrType\u001b[49m\u001b[43m,\u001b[49m\u001b[43m \u001b[49m\u001b[43mdataId\u001b[49m\u001b[43m,\u001b[49m\u001b[43m \u001b[49m\u001b[43mcollections\u001b[49m\u001b[38;5;241;43m=\u001b[39;49m\u001b[43mcollections\u001b[49m\u001b[43m,\u001b[49m\u001b[43m \u001b[49m\u001b[38;5;241;43m*\u001b[39;49m\u001b[38;5;241;43m*\u001b[39;49m\u001b[43mkwargs\u001b[49m\u001b[43m)\u001b[49m\n\u001b[1;32m   1430\u001b[0m \u001b[38;5;28;01mreturn\u001b[39;00m \u001b[38;5;28mself\u001b[39m\u001b[38;5;241m.\u001b[39mgetDirect(ref, parameters\u001b[38;5;241m=\u001b[39mparameters, storageClass\u001b[38;5;241m=\u001b[39mstorageClass)\n",
      "File \u001b[0;32m/opt/lsst/software/stack/stack/miniconda3-py38_4.9.2-5.1.0/Linux64/daf_butler/gf8dc3d25d9+8feadece27/python/lsst/daf/butler/_butler.py:1109\u001b[0m, in \u001b[0;36mButler._findDatasetRef\u001b[0;34m(self, datasetRefOrType, dataId, collections, allowUnresolved, **kwargs)\u001b[0m\n\u001b[1;32m   1107\u001b[0m         \u001b[38;5;28;01mif\u001b[39;00m collections \u001b[38;5;129;01mis\u001b[39;00m \u001b[38;5;28;01mNone\u001b[39;00m:\n\u001b[1;32m   1108\u001b[0m             collections \u001b[38;5;241m=\u001b[39m \u001b[38;5;28mself\u001b[39m\u001b[38;5;241m.\u001b[39mregistry\u001b[38;5;241m.\u001b[39mdefaults\u001b[38;5;241m.\u001b[39mcollections\n\u001b[0;32m-> 1109\u001b[0m         \u001b[38;5;28;01mraise\u001b[39;00m \u001b[38;5;167;01mLookupError\u001b[39;00m(\n\u001b[1;32m   1110\u001b[0m             \u001b[38;5;124mf\u001b[39m\u001b[38;5;124m\"\u001b[39m\u001b[38;5;124mDataset \u001b[39m\u001b[38;5;132;01m{\u001b[39;00mdatasetType\u001b[38;5;241m.\u001b[39mname\u001b[38;5;132;01m}\u001b[39;00m\u001b[38;5;124m with data ID \u001b[39m\u001b[38;5;132;01m{\u001b[39;00mdataId\u001b[38;5;132;01m}\u001b[39;00m\u001b[38;5;124m \u001b[39m\u001b[38;5;124m\"\u001b[39m\n\u001b[1;32m   1111\u001b[0m             \u001b[38;5;124mf\u001b[39m\u001b[38;5;124m\"\u001b[39m\u001b[38;5;124mcould not be found in collections \u001b[39m\u001b[38;5;132;01m{\u001b[39;00mcollections\u001b[38;5;132;01m}\u001b[39;00m\u001b[38;5;124m.\u001b[39m\u001b[38;5;124m\"\u001b[39m\n\u001b[1;32m   1112\u001b[0m         )\n\u001b[1;32m   1113\u001b[0m \u001b[38;5;28;01mif\u001b[39;00m idNumber \u001b[38;5;129;01mis\u001b[39;00m \u001b[38;5;129;01mnot\u001b[39;00m \u001b[38;5;28;01mNone\u001b[39;00m \u001b[38;5;129;01mand\u001b[39;00m idNumber \u001b[38;5;241m!=\u001b[39m ref\u001b[38;5;241m.\u001b[39mid:\n\u001b[1;32m   1114\u001b[0m     \u001b[38;5;28;01mif\u001b[39;00m collections \u001b[38;5;129;01mis\u001b[39;00m \u001b[38;5;28;01mNone\u001b[39;00m:\n",
      "\u001b[0;31mLookupError\u001b[0m: Dataset calexp with data ID {instrument: 'LSSTCam-imSim', detector: 114, visit: 904739114} could not be found in collections ('2.2i/runs/DP0.2',)."
     ]
    }
   ],
   "source": [
    "for index, row in variable_stars[0:1].iterrows():\n",
    "    for band in ['r']:\n",
    "        for visit in ccd_results['ccdVisitId'][0:2]:\n",
    "            for detector in ccd_results['detector'][0:2]:\n",
    "                deepCoadd= get_cutout_image(row['ra'],row['dec'],visit,detector,band,datasetType='calexp')\n",
    "                figout = make_fig(deepCoadd, row['ra'],row['dec'],batch_dir+\"/coadd_images/\"+str(row['id_truth_type'])+\\\n",
    "                                  \"_\"+band+\"_\"+str(visit)+\".png\")\n",
    "                remove_figure(figout)"
   ]
  },
  {
   "cell_type": "code",
   "execution_count": null,
   "id": "2418b48b-0239-4c7a-b87c-3444a9cf9617",
   "metadata": {},
   "outputs": [],
   "source": []
  }
 ],
 "metadata": {
  "kernelspec": {
   "display_name": "LSST",
   "language": "python",
   "name": "lsst"
  },
  "language_info": {
   "codemirror_mode": {
    "name": "ipython",
    "version": 3
   },
   "file_extension": ".py",
   "mimetype": "text/x-python",
   "name": "python",
   "nbconvert_exporter": "python",
   "pygments_lexer": "ipython3",
   "version": "3.10.9"
  }
 },
 "nbformat": 4,
 "nbformat_minor": 5
}
