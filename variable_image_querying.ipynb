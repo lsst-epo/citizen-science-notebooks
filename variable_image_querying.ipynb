{
 "cells": [
  {
   "cell_type": "code",
   "execution_count": 1,
   "id": "eb66913a-304a-4230-97ff-2f6d75dc06b0",
   "metadata": {
    "execution": {
     "iopub.execute_input": "2023-03-20T16:09:11.146389Z",
     "iopub.status.busy": "2023-03-20T16:09:11.145972Z",
     "iopub.status.idle": "2023-03-20T16:09:12.756480Z",
     "shell.execute_reply": "2023-03-20T16:09:12.755243Z",
     "shell.execute_reply.started": "2023-03-20T16:09:11.146366Z"
    },
    "tags": []
   },
   "outputs": [],
   "source": [
    "import matplotlib.pyplot as plt\n",
    "import numpy as np\n",
    "import pandas as pd\n",
    "import warnings\n",
    "from lsst.rsp import get_tap_service, retrieve_query\n",
    "import gc\n",
    "import os\n",
    "\n",
    "# Astropy\n",
    "import astropy.units as u\n",
    "from astropy.units import UnitsWarning\n",
    "from astropy.timeseries import LombScargle\n",
    "\n",
    "import matplotlib.pyplot as plt\n",
    "plt.style.use('tableau-colorblind10')\n",
    "\n",
    "from lsst.daf.butler import Butler\n",
    "import lsst.daf.butler as dafButler\n",
    "import lsst.afw.display as afwDisplay\n",
    "import lsst.geom as geom"
   ]
  },
  {
   "cell_type": "code",
   "execution_count": 2,
   "id": "8e232d48-4d4a-4815-8492-a7aa23de4e47",
   "metadata": {
    "execution": {
     "iopub.execute_input": "2023-03-20T16:09:12.761661Z",
     "iopub.status.busy": "2023-03-20T16:09:12.761019Z",
     "iopub.status.idle": "2023-03-20T16:09:12.891957Z",
     "shell.execute_reply": "2023-03-20T16:09:12.891016Z",
     "shell.execute_reply.started": "2023-03-20T16:09:12.761630Z"
    },
    "tags": []
   },
   "outputs": [],
   "source": [
    "#initializing Tap and Butler\n",
    "pd.set_option('display.max_rows', 20)\n",
    "warnings.simplefilter(\"ignore\", category=UnitsWarning)\n",
    "service = get_tap_service()\n",
    "assert service is not None\n",
    "assert service.baseurl == \"https://data.lsst.cloud/api/tap\"\n",
    "\n",
    "# Use lsst.afw.display with the matplotlib backend\n",
    "afwDisplay.setDefaultBackend('matplotlib')"
   ]
  },
  {
   "cell_type": "code",
   "execution_count": 3,
   "id": "24faac31-23a1-4b51-a00a-0e3481f0fc59",
   "metadata": {
    "execution": {
     "iopub.execute_input": "2023-03-20T16:09:12.896011Z",
     "iopub.status.busy": "2023-03-20T16:09:12.895761Z",
     "iopub.status.idle": "2023-03-20T16:09:16.203954Z",
     "shell.execute_reply": "2023-03-20T16:09:16.203111Z",
     "shell.execute_reply.started": "2023-03-20T16:09:12.895991Z"
    },
    "tags": []
   },
   "outputs": [],
   "source": [
    "config = 'dp02'\n",
    "collection = '2.2i/runs/DP0.2'\n",
    "butler = dafButler.Butler(config, collections=collection)\n",
    "skymap = butler.get('skyMap')\n",
    "image_size = 100 #pixels"
   ]
  },
  {
   "cell_type": "markdown",
   "id": "22aa4e3f-1f9a-47c1-a668-59298976f195",
   "metadata": {},
   "source": [
    "## explore tables, columns, and datasets available"
   ]
  },
  {
   "cell_type": "code",
   "execution_count": 4,
   "id": "e7db6ecb-9d79-4088-a51d-40d6c551372f",
   "metadata": {
    "execution": {
     "iopub.execute_input": "2023-03-20T16:09:16.207235Z",
     "iopub.status.busy": "2023-03-20T16:09:16.206944Z",
     "iopub.status.idle": "2023-03-20T16:09:16.214709Z",
     "shell.execute_reply": "2023-03-20T16:09:16.214075Z",
     "shell.execute_reply.started": "2023-03-20T16:09:16.207214Z"
    },
    "tags": []
   },
   "outputs": [
    {
     "name": "stdout",
     "output_type": "stream",
     "text": [
      "DatasetType('calexp', {band, instrument, detector, physical_filter, visit_system, visit}, ExposureF)\n",
      "DatasetType('calexpBackground', {band, instrument, detector, physical_filter, visit_system, visit}, Background)\n",
      "DatasetType('calexpCutoutTask_config', {}, Config)\n",
      "DatasetType('calexpCutoutTask_log', {band, instrument, detector, physical_filter, visit_system, visit}, ButlerLogRecords)\n",
      "DatasetType('calexpCutoutTask_metadata', {band, instrument, detector, physical_filter, visit_system, visit}, PropertySet)\n",
      "DatasetType('calexp_camera', {band, instrument, physical_filter, visit_system, visit}, ImageF)\n",
      "DatasetType('calexp_cutouts', {band, instrument, detector, physical_filter, visit_system, visit}, Stamps)\n"
     ]
    }
   ],
   "source": [
    "#print all the available dataset types\n",
    "for dt in sorted(butler.registry.queryDatasetTypes('calexp*')):\n",
    "    print(dt)"
   ]
  },
  {
   "cell_type": "code",
   "execution_count": 5,
   "id": "77366fd1-5b87-4cae-81de-d212f82352d6",
   "metadata": {
    "execution": {
     "iopub.execute_input": "2023-03-20T16:09:16.221184Z",
     "iopub.status.busy": "2023-03-20T16:09:16.220919Z",
     "iopub.status.idle": "2023-03-20T16:09:16.345113Z",
     "shell.execute_reply": "2023-03-20T16:09:16.344203Z",
     "shell.execute_reply.started": "2023-03-20T16:09:16.221143Z"
    },
    "tags": []
   },
   "outputs": [
    {
     "data": {
      "text/html": [
       "<div><i>Table length=5</i>\n",
       "<table id=\"table140256103115808\" class=\"table-striped table-bordered table-condensed\">\n",
       "<thead><tr><th>description</th><th>schema_index</th><th>schema_name</th><th>utype</th></tr></thead>\n",
       "<thead><tr><th>str512</th><th>int32</th><th>str64</th><th>str512</th></tr></thead>\n",
       "<tr><td>Data Preview 0.1 includes five tables based on the DESC&apos;s Data Challenge 2 simulation of 300 square degrees of the wide-fast-deep LSST survey region after 5 years. All tables contain objects detected in coadded images.</td><td>2</td><td>dp01_dc2_catalogs</td><td></td></tr>\n",
       "<tr><td>Data Preview 0.2 contains the image and catalog products of the Rubin Science Pipelines v23 processing of the DESC Data Challenge 2 simulation, which covered 300 square degrees of the wide-fast-deep LSST survey region over 5 years.</td><td>0</td><td>dp02_dc2_catalogs</td><td></td></tr>\n",
       "<tr><td>ObsCore v1.1 attributes in ObsTAP realization</td><td>1</td><td>ivoa</td><td></td></tr>\n",
       "<tr><td>A TAP-standard-mandated schema to describe tablesets in a TAP 1.1 service</td><td>100000</td><td>tap_schema</td><td></td></tr>\n",
       "<tr><td>UWS Metadata</td><td>120000</td><td>uws</td><td></td></tr>\n",
       "</table></div>"
      ],
      "text/plain": [
       "<Table length=5>\n",
       "                                                                                                              description                                                                                                               ...\n",
       "                                                                                                                 str512                                                                                                                 ...\n",
       "--------------------------------------------------------------------------------------------------------------------------------------------------------------------------------------------------------------------------------------- ...\n",
       "             Data Preview 0.1 includes five tables based on the DESC's Data Challenge 2 simulation of 300 square degrees of the wide-fast-deep LSST survey region after 5 years. All tables contain objects detected in coadded images. ...\n",
       "Data Preview 0.2 contains the image and catalog products of the Rubin Science Pipelines v23 processing of the DESC Data Challenge 2 simulation, which covered 300 square degrees of the wide-fast-deep LSST survey region over 5 years. ...\n",
       "                                                                                                                                                                                          ObsCore v1.1 attributes in ObsTAP realization ...\n",
       "                                                                                                                                                              A TAP-standard-mandated schema to describe tablesets in a TAP 1.1 service ...\n",
       "                                                                                                                                                                                                                           UWS Metadata ..."
      ]
     },
     "execution_count": 5,
     "metadata": {},
     "output_type": "execute_result"
    }
   ],
   "source": [
    "query = \"SELECT * FROM tap_schema.schemas\"\n",
    "results = service.search(query).to_table()\n",
    "results"
   ]
  },
  {
   "cell_type": "code",
   "execution_count": 6,
   "id": "3f0cce83-a255-4ca8-ae4f-73d0522f9e69",
   "metadata": {
    "execution": {
     "iopub.execute_input": "2023-03-20T16:09:16.348532Z",
     "iopub.status.busy": "2023-03-20T16:09:16.348247Z",
     "iopub.status.idle": "2023-03-20T16:09:16.352756Z",
     "shell.execute_reply": "2023-03-20T16:09:16.352087Z",
     "shell.execute_reply.started": "2023-03-20T16:09:16.348511Z"
    },
    "tags": []
   },
   "outputs": [
    {
     "name": "stdout",
     "output_type": "stream",
     "text": [
      "DP0.2 schema is dp02_dc2_catalogs\n"
     ]
    }
   ],
   "source": [
    "schema_names = results['schema_name']\n",
    "for name in schema_names:\n",
    "    if name.find('dp02') > -1:\n",
    "        dp02_schema_name = name\n",
    "        break\n",
    "print(\"DP0.2 schema is \" + dp02_schema_name)"
   ]
  },
  {
   "cell_type": "code",
   "execution_count": 7,
   "id": "6f1f5aee-91be-456c-9ee7-7691b71beaef",
   "metadata": {
    "execution": {
     "iopub.execute_input": "2023-03-20T16:09:16.447039Z",
     "iopub.status.busy": "2023-03-20T16:09:16.446722Z",
     "iopub.status.idle": "2023-03-20T16:09:16.550945Z",
     "shell.execute_reply": "2023-03-20T16:09:16.550215Z",
     "shell.execute_reply.started": "2023-03-20T16:09:16.447010Z"
    },
    "tags": []
   },
   "outputs": [
    {
     "name": "stdout",
     "output_type": "stream",
     "text": [
      "SELECT * FROM tap_schema.tables WHERE tap_schema.tables.schema_name = 'dp02_dc2_catalogs' order by table_index ASC\n"
     ]
    },
    {
     "data": {
      "text/html": [
       "<div><i>Table length=11</i>\n",
       "<table id=\"table140256195121200\" class=\"table-striped table-bordered table-condensed\">\n",
       "<thead><tr><th>description</th><th>schema_name</th><th>table_index</th><th>table_name</th><th>table_type</th><th>utype</th></tr></thead>\n",
       "<thead><tr><th>str512</th><th>str512</th><th>int32</th><th>str64</th><th>str8</th><th>str512</th></tr></thead>\n",
       "<tr><td>Properties of the astronomical objects detected and measured on the deep coadded images.</td><td>dp02_dc2_catalogs</td><td>1</td><td>dp02_dc2_catalogs.Object</td><td>table</td><td></td></tr>\n",
       "<tr><td>Properties of detections on the single-epoch visit images, performed independently of the Object detections on coadded images.</td><td>dp02_dc2_catalogs</td><td>2</td><td>dp02_dc2_catalogs.Source</td><td>table</td><td></td></tr>\n",
       "<tr><td>Forced-photometry measurements on individual single-epoch visit images and difference images, based on and linked to the entries in the Object table. Point-source PSF photometry is performed, based on coordinates from a reference band chosen for each Object and reported in the Object.refBand column.</td><td>dp02_dc2_catalogs</td><td>3</td><td>dp02_dc2_catalogs.ForcedSource</td><td>table</td><td></td></tr>\n",
       "<tr><td>Properties of time-varying astronomical objects based on association of data from one or more spatially-related DiaSource detections on individual single-epoch difference images.</td><td>dp02_dc2_catalogs</td><td>4</td><td>dp02_dc2_catalogs.DiaObject</td><td>table</td><td></td></tr>\n",
       "<tr><td>Properties of transient-object detections on the single-epoch difference images.</td><td>dp02_dc2_catalogs</td><td>5</td><td>dp02_dc2_catalogs.DiaSource</td><td>table</td><td></td></tr>\n",
       "<tr><td>Point-source forced-photometry measurements on individual single-epoch visit images and difference images, based on and linked to the entries in the DiaObject table.</td><td>dp02_dc2_catalogs</td><td>6</td><td>dp02_dc2_catalogs.ForcedSourceOnDiaObject</td><td>table</td><td></td></tr>\n",
       "<tr><td>Metadata about the pointings of the DC2 simulated survey, largely associated with the boresight of the entire focal plane.</td><td>dp02_dc2_catalogs</td><td>7</td><td>dp02_dc2_catalogs.Visit</td><td>table</td><td></td></tr>\n",
       "<tr><td>Metadata about the 189 individual CCD images for each Visit in the DC2 simulated survey.</td><td>dp02_dc2_catalogs</td><td>8</td><td>dp02_dc2_catalogs.CcdVisit</td><td>table</td><td></td></tr>\n",
       "<tr><td>Static information about the subset of tracts and patches from the standard LSST skymap that apply to coadds in these catalogs</td><td>dp02_dc2_catalogs</td><td>9</td><td>dp02_dc2_catalogs.CoaddPatches</td><td>table</td><td></td></tr>\n",
       "<tr><td>Summary properties of objects from the DESC DC2 truth catalog, as described in arXiv:2101.04855. Includes the noiseless astrometric and photometric parameters.</td><td>dp02_dc2_catalogs</td><td>10</td><td>dp02_dc2_catalogs.TruthSummary</td><td>table</td><td></td></tr>\n",
       "<tr><td>Match information for TruthSummary objects.</td><td>dp02_dc2_catalogs</td><td>11</td><td>dp02_dc2_catalogs.MatchesTruth</td><td>table</td><td></td></tr>\n",
       "</table></div>"
      ],
      "text/plain": [
       "<Table length=11>\n",
       "                                                                                                                                                description                                                                                                                                                  ...\n",
       "                                                                                                                                                   str512                                                                                                                                                    ...\n",
       "------------------------------------------------------------------------------------------------------------------------------------------------------------------------------------------------------------------------------------------------------------------------------------------------------------ ...\n",
       "                                                                                                                                                                                                                    Properties of the astronomical objects detected and measured on the deep coadded images. ...\n",
       "                                                                                                                                                                              Properties of detections on the single-epoch visit images, performed independently of the Object detections on coadded images. ...\n",
       "Forced-photometry measurements on individual single-epoch visit images and difference images, based on and linked to the entries in the Object table. Point-source PSF photometry is performed, based on coordinates from a reference band chosen for each Object and reported in the Object.refBand column. ...\n",
       "                                                                                                                          Properties of time-varying astronomical objects based on association of data from one or more spatially-related DiaSource detections on individual single-epoch difference images. ...\n",
       "                                                                                                                                                                                                                            Properties of transient-object detections on the single-epoch difference images. ...\n",
       "                                                                                                                                       Point-source forced-photometry measurements on individual single-epoch visit images and difference images, based on and linked to the entries in the DiaObject table. ...\n",
       "                                                                                                                                                                                  Metadata about the pointings of the DC2 simulated survey, largely associated with the boresight of the entire focal plane. ...\n",
       "                                                                                                                                                                                                                    Metadata about the 189 individual CCD images for each Visit in the DC2 simulated survey. ...\n",
       "                                                                                                                                                                              Static information about the subset of tracts and patches from the standard LSST skymap that apply to coadds in these catalogs ...\n",
       "                                                                                                                                             Summary properties of objects from the DESC DC2 truth catalog, as described in arXiv:2101.04855. Includes the noiseless astrometric and photometric parameters. ...\n",
       "                                                                                                                                                                                                                                                                 Match information for TruthSummary objects. ..."
      ]
     },
     "execution_count": 7,
     "metadata": {},
     "output_type": "execute_result"
    }
   ],
   "source": [
    "query = \"SELECT * FROM tap_schema.tables \" \\\n",
    "        \"WHERE tap_schema.tables.schema_name = '\" \\\n",
    "        + dp02_schema_name + \"' order by table_index ASC\"\n",
    "print(query)\n",
    "\n",
    "results = service.search(query)\n",
    "results = results.to_table()\n",
    "results"
   ]
  },
  {
   "cell_type": "code",
   "execution_count": 8,
   "id": "25506146-8d1e-43d0-8f99-919636fa52d6",
   "metadata": {
    "execution": {
     "iopub.execute_input": "2023-03-20T16:09:16.552114Z",
     "iopub.status.busy": "2023-03-20T16:09:16.551854Z",
     "iopub.status.idle": "2023-03-20T16:09:16.555307Z",
     "shell.execute_reply": "2023-03-20T16:09:16.554687Z",
     "shell.execute_reply.started": "2023-03-20T16:09:16.552093Z"
    },
    "tags": []
   },
   "outputs": [],
   "source": [
    "# def get_columns_from_table(table_name):\n",
    "#     results = service.search(\"SELECT column_name, datatype, description, unit from TAP_SCHEMA.columns \"\n",
    "#                          \"WHERE table_name = \"+table_name+\" \")\n",
    "#     df_table = results.to_table().to_pandas()\n",
    "#     column_names = df_table['column_name'].to_list()\n",
    "#     return column_names"
   ]
  },
  {
   "cell_type": "code",
   "execution_count": 9,
   "id": "35adedb9-9ced-458e-8b8c-519a30bd9b9a",
   "metadata": {
    "execution": {
     "iopub.execute_input": "2023-03-20T16:09:18.063675Z",
     "iopub.status.busy": "2023-03-20T16:09:18.062697Z",
     "iopub.status.idle": "2023-03-20T16:09:18.176104Z",
     "shell.execute_reply": "2023-03-20T16:09:18.175174Z",
     "shell.execute_reply.started": "2023-03-20T16:09:18.063634Z"
    },
    "tags": []
   },
   "outputs": [
    {
     "data": {
      "text/plain": [
       "['band',\n",
       " 'ccdVisitId',\n",
       " 'darkTime',\n",
       " 'decl',\n",
       " 'detector',\n",
       " 'expMidpt',\n",
       " 'expMidptMJD',\n",
       " 'expTime',\n",
       " 'llcdec',\n",
       " 'llcra',\n",
       " 'lrcdec',\n",
       " 'lrcra',\n",
       " 'obsStart',\n",
       " 'obsStartMJD',\n",
       " 'physical_filter',\n",
       " 'psfSigma',\n",
       " 'ra',\n",
       " 'seeing',\n",
       " 'skyBg',\n",
       " 'skyNoise',\n",
       " 'skyRotation',\n",
       " 'ulcdec',\n",
       " 'ulcra',\n",
       " 'urcdec',\n",
       " 'urcra',\n",
       " 'visitId',\n",
       " 'xSize',\n",
       " 'ySize',\n",
       " 'zenithDistance',\n",
       " 'zeroPoint']"
      ]
     },
     "execution_count": 9,
     "metadata": {},
     "output_type": "execute_result"
    }
   ],
   "source": [
    "results = service.search(\"SELECT column_name, datatype, description, unit from TAP_SCHEMA.columns \"\n",
    "                         \"WHERE table_name = 'dp02_dc2_catalogs.CcdVisit'\")\n",
    "df_ccdvisit_table = results.to_table().to_pandas()\n",
    "df_ccdvisit_table['column_name'].to_list()"
   ]
  },
  {
   "cell_type": "code",
   "execution_count": 10,
   "id": "2ba2fce6-9790-4b53-9fa2-5b3ffb975b48",
   "metadata": {
    "execution": {
     "iopub.execute_input": "2023-03-20T16:09:19.321443Z",
     "iopub.status.busy": "2023-03-20T16:09:19.320992Z",
     "iopub.status.idle": "2023-03-20T16:09:19.433276Z",
     "shell.execute_reply": "2023-03-20T16:09:19.432405Z",
     "shell.execute_reply.started": "2023-03-20T16:09:19.321413Z"
    },
    "tags": []
   },
   "outputs": [
    {
     "data": {
      "text/plain": [
       "['band',\n",
       " 'ccdVisitId',\n",
       " 'coord_dec',\n",
       " 'coord_ra',\n",
       " 'detect_isPatchInner',\n",
       " 'detect_isPrimary',\n",
       " 'detect_isTractInner',\n",
       " 'forcedSourceId',\n",
       " 'localBackground_instFlux',\n",
       " 'localBackground_instFluxErr',\n",
       " 'localPhotoCalib',\n",
       " 'localPhotoCalib_flag',\n",
       " 'localPhotoCalibErr',\n",
       " 'localWcs_CDMatrix_1_1',\n",
       " 'localWcs_CDMatrix_1_2',\n",
       " 'localWcs_CDMatrix_2_1',\n",
       " 'localWcs_CDMatrix_2_2',\n",
       " 'localWcs_flag',\n",
       " 'objectId',\n",
       " 'parentObjectId',\n",
       " 'patch',\n",
       " 'pixelFlags_bad',\n",
       " 'pixelFlags_cr',\n",
       " 'pixelFlags_crCenter',\n",
       " 'pixelFlags_edge',\n",
       " 'pixelFlags_interpolated',\n",
       " 'pixelFlags_interpolatedCenter',\n",
       " 'pixelFlags_saturated',\n",
       " 'pixelFlags_saturatedCenter',\n",
       " 'pixelFlags_suspect',\n",
       " 'pixelFlags_suspectCenter',\n",
       " 'psfDiffFlux',\n",
       " 'psfDiffFlux_flag',\n",
       " 'psfDiffFluxErr',\n",
       " 'psfFlux',\n",
       " 'psfFlux_flag',\n",
       " 'psfFluxErr',\n",
       " 'skymap',\n",
       " 'tract']"
      ]
     },
     "execution_count": 10,
     "metadata": {},
     "output_type": "execute_result"
    }
   ],
   "source": [
    "results = service.search(\"SELECT column_name, datatype, description, unit from TAP_SCHEMA.columns \"\n",
    "                         \"WHERE table_name = 'dp02_dc2_catalogs.ForcedSource'\")\n",
    "df_forcedsrc_table = results.to_table().to_pandas()\n",
    "df_forcedsrc_table['column_name'].to_list()"
   ]
  },
  {
   "cell_type": "markdown",
   "id": "0d1addfd-0834-4cc0-9b43-02ed5b8aa2dd",
   "metadata": {},
   "source": [
    "## variable stars"
   ]
  },
  {
   "cell_type": "code",
   "execution_count": 11,
   "id": "32ad3a04-26ba-4114-8393-4a64a42c1415",
   "metadata": {
    "execution": {
     "iopub.execute_input": "2023-03-20T16:09:27.892209Z",
     "iopub.status.busy": "2023-03-20T16:09:27.891324Z",
     "iopub.status.idle": "2023-03-20T16:09:27.898716Z",
     "shell.execute_reply": "2023-03-20T16:09:27.897862Z",
     "shell.execute_reply.started": "2023-03-20T16:09:27.892145Z"
    },
    "tags": []
   },
   "outputs": [],
   "source": [
    "def make_fig(cutout_image, ra, dec, out_name):\n",
    "    \"\"\"\n",
    "    Create an image.\n",
    "    should be followed with remove_figure\n",
    "\n",
    "    Parameters\n",
    "    ----------\n",
    "    cutout_image : cutout_image from butler.get\n",
    "    out_name : file name where you'd like to save it\n",
    "    \n",
    "    \"\"\"\n",
    "    fig = plt.figure(figsize=(4, 4))\n",
    "    afw_display = afwDisplay.Display(frame=fig)\n",
    "    afw_display.scale('asinh', 'zscale')\n",
    "    afw_display.mtv(cutout_image.image)\n",
    "    \n",
    "    cutout_wcs = cutout_image.getWcs()\n",
    "    radec = geom.SpherePoint(ra, dec, geom.degrees)\n",
    "    xy = geom.PointI(cutout_wcs.skyToPixel(radec))\n",
    "    \n",
    "    afw_display.dot('x', xy.getX(), xy.getY(), size=1, ctype='orange')\n",
    "    plt.gca().axis('off')\n",
    "    plt.savefig(out_name)\n",
    "    \n",
    "    return fig\n",
    "    \n",
    "    \n",
    "def remove_figure(fig):\n",
    "    \"\"\"\n",
    "    Remove a figure to reduce memory footprint.\n",
    "\n",
    "    Parameters\n",
    "    ----------\n",
    "    fig: matplotlib.figure.Figure\n",
    "        Figure to be removed.\n",
    "\n",
    "    Returns\n",
    "    -------\n",
    "    None\n",
    "    \"\"\"\n",
    "    # get the axes and clear their images\n",
    "    for ax in fig.get_axes():\n",
    "        for im in ax.get_images():\n",
    "            im.remove()\n",
    "    fig.clf()       # clear the figure\n",
    "    plt.close(fig)  # close the figure\n",
    "\n",
    "    gc.collect()    # call the garbage collector"
   ]
  },
  {
   "cell_type": "code",
   "execution_count": 12,
   "id": "fe8c8d59-5f95-4cfd-b1be-b34aa3dcb21f",
   "metadata": {
    "execution": {
     "iopub.execute_input": "2023-03-20T16:09:30.293149Z",
     "iopub.status.busy": "2023-03-20T16:09:30.292088Z",
     "iopub.status.idle": "2023-03-20T16:09:30.296812Z",
     "shell.execute_reply": "2023-03-20T16:09:30.295917Z",
     "shell.execute_reply.started": "2023-03-20T16:09:30.293114Z"
    },
    "tags": []
   },
   "outputs": [],
   "source": [
    "plots = []\n",
    "bands = ['g']\n",
    "batch_dir = './variable_stars_output'"
   ]
  },
  {
   "cell_type": "code",
   "execution_count": 13,
   "id": "fa57f419-e133-4ddb-ae55-eb8fe60a0261",
   "metadata": {
    "execution": {
     "iopub.execute_input": "2023-03-20T16:09:39.953904Z",
     "iopub.status.busy": "2023-03-20T16:09:39.953082Z",
     "iopub.status.idle": "2023-03-20T16:09:40.032554Z",
     "shell.execute_reply": "2023-03-20T16:09:40.031272Z",
     "shell.execute_reply.started": "2023-03-20T16:09:39.953872Z"
    },
    "tags": []
   },
   "outputs": [],
   "source": [
    "if os.path.isdir(batch_dir) == False:\n",
    "    os.mkdir(batch_dir)\n",
    "    \n",
    "if os.path.isdir(batch_dir+'/coadd_images') == False:\n",
    "    os.mkdir(batch_dir+'/coadd_images')\n",
    "else:\n",
    "    os.system('rm -r '+batch_dir+'/coadd_images/*')"
   ]
  },
  {
   "cell_type": "code",
   "execution_count": 14,
   "id": "134fc446-408e-4f87-97e9-3acc734281f0",
   "metadata": {
    "execution": {
     "iopub.execute_input": "2023-03-20T16:09:40.538300Z",
     "iopub.status.busy": "2023-03-20T16:09:40.537493Z",
     "iopub.status.idle": "2023-03-20T16:09:40.542601Z",
     "shell.execute_reply": "2023-03-20T16:09:40.541942Z",
     "shell.execute_reply.started": "2023-03-20T16:09:40.538270Z"
    },
    "tags": []
   },
   "outputs": [],
   "source": [
    "def query_stars(ra_deg, dec_deg, radius_deg, limit):\n",
    "    #radius within which you want to query\n",
    "    \n",
    "    query = \"SELECT mt.id_truth_type, mt.match_objectId, ts.ra, ts.dec \"\\\n",
    "            \"FROM dp02_dc2_catalogs.MatchesTruth AS mt \"\\\n",
    "            \"JOIN dp02_dc2_catalogs.TruthSummary AS ts ON mt.id_truth_type = ts.id_truth_type \"\\\n",
    "            \"WHERE ts.truth_type=2 \"\\\n",
    "            \"AND ts.is_variable = 1 \"\\\n",
    "            \"AND ts.is_pointsource = 1 \"\\\n",
    "            \"AND mt.match_objectId > 1 \"\\\n",
    "            \"AND CONTAINS(POINT('ICRS', ts.ra, ts.dec), CIRCLE('ICRS', \"+ str(ra_deg)+\", \"+str(dec_deg)+\", \"+str(radius_deg)+\")) <= 1 \"\\\n",
    "            \"LIMIT \"+str(limit)+\" \"\n",
    "    results = service.search(query)\n",
    "    variable_stars = results.to_table().to_pandas()\n",
    "    return variable_stars"
   ]
  },
  {
   "cell_type": "code",
   "execution_count": 15,
   "id": "f1e0d96f-fe1e-4b0c-ba16-8502985ececa",
   "metadata": {
    "execution": {
     "iopub.execute_input": "2023-03-20T16:09:41.666772Z",
     "iopub.status.busy": "2023-03-20T16:09:41.665837Z",
     "iopub.status.idle": "2023-03-20T16:09:42.816294Z",
     "shell.execute_reply": "2023-03-20T16:09:42.815314Z",
     "shell.execute_reply.started": "2023-03-20T16:09:41.666721Z"
    },
    "tags": []
   },
   "outputs": [
    {
     "name": "stdout",
     "output_type": "stream",
     "text": [
      "CPU times: user 18.2 ms, sys: 4.31 ms, total: 22.6 ms\n",
      "Wall time: 1.14 s\n"
     ]
    }
   ],
   "source": [
    "%%time\n",
    "variable_stars = query_stars(62.1, -35.8, 0.10,10)"
   ]
  },
  {
   "cell_type": "code",
   "execution_count": 16,
   "id": "d0f01407-5558-4752-ba85-e2e5bf75e312",
   "metadata": {
    "execution": {
     "iopub.execute_input": "2023-03-20T16:09:43.935899Z",
     "iopub.status.busy": "2023-03-20T16:09:43.935552Z",
     "iopub.status.idle": "2023-03-20T16:09:43.949811Z",
     "shell.execute_reply": "2023-03-20T16:09:43.948936Z",
     "shell.execute_reply.started": "2023-03-20T16:09:43.935877Z"
    },
    "tags": []
   },
   "outputs": [
    {
     "data": {
      "text/html": [
       "<div>\n",
       "<style scoped>\n",
       "    .dataframe tbody tr th:only-of-type {\n",
       "        vertical-align: middle;\n",
       "    }\n",
       "\n",
       "    .dataframe tbody tr th {\n",
       "        vertical-align: top;\n",
       "    }\n",
       "\n",
       "    .dataframe thead th {\n",
       "        text-align: right;\n",
       "    }\n",
       "</style>\n",
       "<table border=\"1\" class=\"dataframe\">\n",
       "  <thead>\n",
       "    <tr style=\"text-align: right;\">\n",
       "      <th></th>\n",
       "      <th>id_truth_type</th>\n",
       "      <th>match_objectId</th>\n",
       "      <th>ra</th>\n",
       "      <th>dec</th>\n",
       "    </tr>\n",
       "  </thead>\n",
       "  <tbody>\n",
       "    <tr>\n",
       "      <th>0</th>\n",
       "      <td>40965999294_2</td>\n",
       "      <td>1251235436316070742</td>\n",
       "      <td>63.355981</td>\n",
       "      <td>-44.515211</td>\n",
       "    </tr>\n",
       "    <tr>\n",
       "      <th>1</th>\n",
       "      <td>40065527359_2</td>\n",
       "      <td>1251235436316070661</td>\n",
       "      <td>63.339771</td>\n",
       "      <td>-44.517845</td>\n",
       "    </tr>\n",
       "    <tr>\n",
       "      <th>2</th>\n",
       "      <td>40245808735_2</td>\n",
       "      <td>1251235436316070466</td>\n",
       "      <td>63.364462</td>\n",
       "      <td>-44.523103</td>\n",
       "    </tr>\n",
       "    <tr>\n",
       "      <th>3</th>\n",
       "      <td>40966006573_2</td>\n",
       "      <td>1251235436316096242</td>\n",
       "      <td>63.215729</td>\n",
       "      <td>-44.526375</td>\n",
       "    </tr>\n",
       "    <tr>\n",
       "      <th>4</th>\n",
       "      <td>40966001392_2</td>\n",
       "      <td>1251235436316070609</td>\n",
       "      <td>63.327880</td>\n",
       "      <td>-44.519353</td>\n",
       "    </tr>\n",
       "    <tr>\n",
       "      <th>5</th>\n",
       "      <td>40965999378_2</td>\n",
       "      <td>1251235436316096683</td>\n",
       "      <td>63.400589</td>\n",
       "      <td>-44.518769</td>\n",
       "    </tr>\n",
       "    <tr>\n",
       "      <th>6</th>\n",
       "      <td>40965999411_2</td>\n",
       "      <td>1251235436316096531</td>\n",
       "      <td>63.428029</td>\n",
       "      <td>-44.520884</td>\n",
       "    </tr>\n",
       "    <tr>\n",
       "      <th>7</th>\n",
       "      <td>40969400681_2</td>\n",
       "      <td>1251235436316071384</td>\n",
       "      <td>63.289877</td>\n",
       "      <td>-44.499279</td>\n",
       "    </tr>\n",
       "    <tr>\n",
       "      <th>8</th>\n",
       "      <td>40965993094_2</td>\n",
       "      <td>1251235436316071035</td>\n",
       "      <td>63.498219</td>\n",
       "      <td>-44.507477</td>\n",
       "    </tr>\n",
       "    <tr>\n",
       "      <th>9</th>\n",
       "      <td>41020634597_2</td>\n",
       "      <td>1251235436316071014</td>\n",
       "      <td>63.292031</td>\n",
       "      <td>-44.508647</td>\n",
       "    </tr>\n",
       "  </tbody>\n",
       "</table>\n",
       "</div>"
      ],
      "text/plain": [
       "   id_truth_type       match_objectId         ra        dec\n",
       "0  40965999294_2  1251235436316070742  63.355981 -44.515211\n",
       "1  40065527359_2  1251235436316070661  63.339771 -44.517845\n",
       "2  40245808735_2  1251235436316070466  63.364462 -44.523103\n",
       "3  40966006573_2  1251235436316096242  63.215729 -44.526375\n",
       "4  40966001392_2  1251235436316070609  63.327880 -44.519353\n",
       "5  40965999378_2  1251235436316096683  63.400589 -44.518769\n",
       "6  40965999411_2  1251235436316096531  63.428029 -44.520884\n",
       "7  40969400681_2  1251235436316071384  63.289877 -44.499279\n",
       "8  40965993094_2  1251235436316071035  63.498219 -44.507477\n",
       "9  41020634597_2  1251235436316071014  63.292031 -44.508647"
      ]
     },
     "execution_count": 16,
     "metadata": {},
     "output_type": "execute_result"
    }
   ],
   "source": [
    "variable_stars"
   ]
  },
  {
   "cell_type": "markdown",
   "id": "91c2b15e-742f-40f7-8d31-979ff4dad6ff",
   "metadata": {},
   "source": [
    "## Querying visit id and detector information for one source based on object ID"
   ]
  },
  {
   "cell_type": "code",
   "execution_count": 36,
   "id": "2b1efec3-952f-4863-8a46-ff5fb8e94765",
   "metadata": {
    "execution": {
     "iopub.execute_input": "2023-03-20T16:21:10.103459Z",
     "iopub.status.busy": "2023-03-20T16:21:10.102482Z",
     "iopub.status.idle": "2023-03-20T16:21:10.359411Z",
     "shell.execute_reply": "2023-03-20T16:21:10.358511Z",
     "shell.execute_reply.started": "2023-03-20T16:21:10.103423Z"
    },
    "tags": []
   },
   "outputs": [],
   "source": [
    "ccd_query = \"SELECT src.coord_ra, src.coord_dec, src.objectId, \"\\\n",
    "        \"ccdvis.detector, ccdvis.visitId \"\\\n",
    "        \"FROM dp02_dc2_catalogs.ForcedSource AS src \"\\\n",
    "        \"JOIN dp02_dc2_catalogs.CcdVisit AS ccdvis \"\\\n",
    "        \"ON src.ccdVisitId = ccdvis.ccdVisitId \"\\\n",
    "        \"WHERE src.objectId = \"+str(1251235436316071014)+\" \"\n",
    "ccd_results = service.search(ccd_query)"
   ]
  },
  {
   "cell_type": "code",
   "execution_count": 37,
   "id": "8f9c793c-9809-4479-b781-a0c107e0d494",
   "metadata": {
    "execution": {
     "iopub.execute_input": "2023-03-20T16:21:10.913547Z",
     "iopub.status.busy": "2023-03-20T16:21:10.912515Z",
     "iopub.status.idle": "2023-03-20T16:21:10.920671Z",
     "shell.execute_reply": "2023-03-20T16:21:10.919862Z",
     "shell.execute_reply.started": "2023-03-20T16:21:10.913503Z"
    },
    "tags": []
   },
   "outputs": [],
   "source": [
    "ccd_results = ccd_results.to_table().to_pandas()"
   ]
  },
  {
   "cell_type": "code",
   "execution_count": 38,
   "id": "51afc7c0-a899-49f1-94cc-5e417a5cea44",
   "metadata": {
    "execution": {
     "iopub.execute_input": "2023-03-20T16:21:11.437117Z",
     "iopub.status.busy": "2023-03-20T16:21:11.435984Z",
     "iopub.status.idle": "2023-03-20T16:21:11.448431Z",
     "shell.execute_reply": "2023-03-20T16:21:11.447446Z",
     "shell.execute_reply.started": "2023-03-20T16:21:11.437081Z"
    },
    "tags": []
   },
   "outputs": [
    {
     "data": {
      "text/html": [
       "<div>\n",
       "<style scoped>\n",
       "    .dataframe tbody tr th:only-of-type {\n",
       "        vertical-align: middle;\n",
       "    }\n",
       "\n",
       "    .dataframe tbody tr th {\n",
       "        vertical-align: top;\n",
       "    }\n",
       "\n",
       "    .dataframe thead th {\n",
       "        text-align: right;\n",
       "    }\n",
       "</style>\n",
       "<table border=\"1\" class=\"dataframe\">\n",
       "  <thead>\n",
       "    <tr style=\"text-align: right;\">\n",
       "      <th></th>\n",
       "      <th>coord_ra</th>\n",
       "      <th>coord_dec</th>\n",
       "      <th>objectId</th>\n",
       "      <th>detector</th>\n",
       "      <th>visitId</th>\n",
       "    </tr>\n",
       "  </thead>\n",
       "  <tbody>\n",
       "    <tr>\n",
       "      <th>0</th>\n",
       "      <td>63.292031</td>\n",
       "      <td>-44.508647</td>\n",
       "      <td>1251235436316071014</td>\n",
       "      <td>102</td>\n",
       "      <td>466723</td>\n",
       "    </tr>\n",
       "    <tr>\n",
       "      <th>1</th>\n",
       "      <td>63.292031</td>\n",
       "      <td>-44.508647</td>\n",
       "      <td>1251235436316071014</td>\n",
       "      <td>12</td>\n",
       "      <td>1188282</td>\n",
       "    </tr>\n",
       "    <tr>\n",
       "      <th>2</th>\n",
       "      <td>63.292031</td>\n",
       "      <td>-44.508647</td>\n",
       "      <td>1251235436316071014</td>\n",
       "      <td>56</td>\n",
       "      <td>700225</td>\n",
       "    </tr>\n",
       "    <tr>\n",
       "      <th>3</th>\n",
       "      <td>63.292031</td>\n",
       "      <td>-44.508647</td>\n",
       "      <td>1251235436316071014</td>\n",
       "      <td>175</td>\n",
       "      <td>1187453</td>\n",
       "    </tr>\n",
       "    <tr>\n",
       "      <th>4</th>\n",
       "      <td>63.292031</td>\n",
       "      <td>-44.508647</td>\n",
       "      <td>1251235436316071014</td>\n",
       "      <td>168</td>\n",
       "      <td>657552</td>\n",
       "    </tr>\n",
       "    <tr>\n",
       "      <th>...</th>\n",
       "      <td>...</td>\n",
       "      <td>...</td>\n",
       "      <td>...</td>\n",
       "      <td>...</td>\n",
       "      <td>...</td>\n",
       "    </tr>\n",
       "    <tr>\n",
       "      <th>235</th>\n",
       "      <td>63.292031</td>\n",
       "      <td>-44.508647</td>\n",
       "      <td>1251235436316071014</td>\n",
       "      <td>172</td>\n",
       "      <td>1006061</td>\n",
       "    </tr>\n",
       "    <tr>\n",
       "      <th>236</th>\n",
       "      <td>63.292031</td>\n",
       "      <td>-44.508647</td>\n",
       "      <td>1251235436316071014</td>\n",
       "      <td>176</td>\n",
       "      <td>1197762</td>\n",
       "    </tr>\n",
       "    <tr>\n",
       "      <th>237</th>\n",
       "      <td>63.292031</td>\n",
       "      <td>-44.508647</td>\n",
       "      <td>1251235436316071014</td>\n",
       "      <td>50</td>\n",
       "      <td>752189</td>\n",
       "    </tr>\n",
       "    <tr>\n",
       "      <th>238</th>\n",
       "      <td>63.292031</td>\n",
       "      <td>-44.508647</td>\n",
       "      <td>1251235436316071014</td>\n",
       "      <td>44</td>\n",
       "      <td>976339</td>\n",
       "    </tr>\n",
       "    <tr>\n",
       "      <th>239</th>\n",
       "      <td>63.292031</td>\n",
       "      <td>-44.508647</td>\n",
       "      <td>1251235436316071014</td>\n",
       "      <td>118</td>\n",
       "      <td>421672</td>\n",
       "    </tr>\n",
       "  </tbody>\n",
       "</table>\n",
       "<p>240 rows × 5 columns</p>\n",
       "</div>"
      ],
      "text/plain": [
       "      coord_ra  coord_dec             objectId  detector  visitId\n",
       "0    63.292031 -44.508647  1251235436316071014       102   466723\n",
       "1    63.292031 -44.508647  1251235436316071014        12  1188282\n",
       "2    63.292031 -44.508647  1251235436316071014        56   700225\n",
       "3    63.292031 -44.508647  1251235436316071014       175  1187453\n",
       "4    63.292031 -44.508647  1251235436316071014       168   657552\n",
       "..         ...        ...                  ...       ...      ...\n",
       "235  63.292031 -44.508647  1251235436316071014       172  1006061\n",
       "236  63.292031 -44.508647  1251235436316071014       176  1197762\n",
       "237  63.292031 -44.508647  1251235436316071014        50   752189\n",
       "238  63.292031 -44.508647  1251235436316071014        44   976339\n",
       "239  63.292031 -44.508647  1251235436316071014       118   421672\n",
       "\n",
       "[240 rows x 5 columns]"
      ]
     },
     "execution_count": 38,
     "metadata": {},
     "output_type": "execute_result"
    }
   ],
   "source": [
    "ccd_results"
   ]
  },
  {
   "cell_type": "code",
   "execution_count": 53,
   "id": "3c32a5a2-ebc3-49b1-9174-8444617c4c89",
   "metadata": {
    "execution": {
     "iopub.execute_input": "2023-03-20T18:20:22.371596Z",
     "iopub.status.busy": "2023-03-20T18:20:22.371228Z",
     "iopub.status.idle": "2023-03-20T18:20:22.377592Z",
     "shell.execute_reply": "2023-03-20T18:20:22.376790Z",
     "shell.execute_reply.started": "2023-03-20T18:20:22.371573Z"
    },
    "tags": []
   },
   "outputs": [],
   "source": [
    "def get_cutout_image(ra_deg,dec_deg,visit,detector,band,datasetType='calexp',cutoutSideLength=image_size):\n",
    "    \"\"\"\n",
    "    get the tract and patch of a source. currently retrieves i band only. \n",
    "\n",
    "    Parameters\n",
    "    ----------\n",
    "    ra : ra of source in degrees\n",
    "    dec : dec of source in degrees\n",
    "    \n",
    "    \"\"\"\n",
    "    cutoutSize = geom.ExtentI(cutoutSideLength, cutoutSideLength)\n",
    "    \n",
    "    radec = geom.SpherePoint(ra_deg,dec_deg, geom.degrees)\n",
    "    \n",
    "    dataId = {'visit': visit, 'detector': detector}  \n",
    "    calexp_wcs = butler.get('calexp.wcs', **dataId)\n",
    "    \n",
    "    xy = geom.PointI(calexp_wcs.skyToPixel(radec))\n",
    "    bbox = geom.BoxI(xy - cutoutSize // 2, cutoutSize)\n",
    "    parameters = {'bbox': bbox}\n",
    "    \n",
    "    cutout_image = butler.get('calexp', parameters=parameters, **dataId)\n",
    "\n",
    "    return cutout_image"
   ]
  },
  {
   "cell_type": "code",
   "execution_count": 59,
   "id": "a659c418-9d64-4e1e-aa65-2f825e536f70",
   "metadata": {
    "execution": {
     "iopub.execute_input": "2023-03-20T18:49:26.104747Z",
     "iopub.status.busy": "2023-03-20T18:49:26.103856Z",
     "iopub.status.idle": "2023-03-20T18:49:26.667835Z",
     "shell.execute_reply": "2023-03-20T18:49:26.666905Z",
     "shell.execute_reply.started": "2023-03-20T18:49:26.104717Z"
    },
    "tags": []
   },
   "outputs": [],
   "source": [
    "image_r = get_cutout_image(63.292031,-44.508647,466723,102, 'r',datasetType='calexp',cutoutSideLength=100)\n",
    "image_g = get_cutout_image(63.292031,-44.508647,466723,102, 'g',datasetType='calexp',cutoutSideLength=100)\n",
    "image_b = get_cutout_image(63.292031,-44.508647,466723,102, 'b',datasetType='calexp',cutoutSideLength=100)"
   ]
  },
  {
   "cell_type": "code",
   "execution_count": 60,
   "id": "ed8f4449-ba6b-4b57-99e7-18e709b619ab",
   "metadata": {
    "execution": {
     "iopub.execute_input": "2023-03-20T18:49:27.367086Z",
     "iopub.status.busy": "2023-03-20T18:49:27.366267Z",
     "iopub.status.idle": "2023-03-20T18:49:27.370299Z",
     "shell.execute_reply": "2023-03-20T18:49:27.369629Z",
     "shell.execute_reply.started": "2023-03-20T18:49:27.367057Z"
    },
    "tags": []
   },
   "outputs": [],
   "source": [
    "from astropy.visualization import make_lupton_rgb"
   ]
  },
  {
   "cell_type": "code",
   "execution_count": 62,
   "id": "e7c0c16d-c8bc-4dc3-bcf1-b84caf12352c",
   "metadata": {
    "execution": {
     "iopub.execute_input": "2023-03-20T18:50:15.276273Z",
     "iopub.status.busy": "2023-03-20T18:50:15.275724Z",
     "iopub.status.idle": "2023-03-20T18:50:15.315841Z",
     "shell.execute_reply": "2023-03-20T18:50:15.314971Z",
     "shell.execute_reply.started": "2023-03-20T18:50:15.276241Z"
    },
    "tags": []
   },
   "outputs": [
    {
     "ename": "NotImplementedError",
     "evalue": "This arithmetic operation is not implemented, in order to prevent the accidental proliferation of temporaries. Please use the in-place arithmetic operations (e.g., += instead of +) or operate on the underlying arrays.",
     "output_type": "error",
     "traceback": [
      "\u001b[0;31m---------------------------------------------------------------------------\u001b[0m",
      "\u001b[0;31mNotImplementedError\u001b[0m                       Traceback (most recent call last)",
      "Input \u001b[0;32mIn [62]\u001b[0m, in \u001b[0;36m<cell line: 1>\u001b[0;34m()\u001b[0m\n\u001b[0;32m----> 1\u001b[0m image \u001b[38;5;241m=\u001b[39m \u001b[43mmake_lupton_rgb\u001b[49m\u001b[43m(\u001b[49m\u001b[43mimage_r\u001b[49m\u001b[43m,\u001b[49m\u001b[43m \u001b[49m\u001b[43mimage_g\u001b[49m\u001b[43m,\u001b[49m\u001b[43m \u001b[49m\u001b[43mimage_b\u001b[49m\u001b[43m)\u001b[49m\n\u001b[1;32m      2\u001b[0m plt\u001b[38;5;241m.\u001b[39mimshow(image)\n",
      "File \u001b[0;32m/opt/lsst/software/stack/conda/miniconda3-py38_4.9.2/envs/lsst-scipipe-5.1.0/lib/python3.10/site-packages/astropy/visualization/lupton_rgb.py:386\u001b[0m, in \u001b[0;36mmake_lupton_rgb\u001b[0;34m(image_r, image_g, image_b, minimum, stretch, Q, filename)\u001b[0m\n\u001b[1;32m    355\u001b[0m \u001b[38;5;124;03m\"\"\"\u001b[39;00m\n\u001b[1;32m    356\u001b[0m \u001b[38;5;124;03mReturn a Red/Green/Blue color image from up to 3 images using an asinh stretch.\u001b[39;00m\n\u001b[1;32m    357\u001b[0m \u001b[38;5;124;03mThe input images can be int or float, and in any range or bit-depth.\u001b[39;00m\n\u001b[0;32m   (...)\u001b[0m\n\u001b[1;32m    383\u001b[0m \u001b[38;5;124;03m    RGB (integer, 8-bits per channel) color image as an NxNx3 numpy array.\u001b[39;00m\n\u001b[1;32m    384\u001b[0m \u001b[38;5;124;03m\"\"\"\u001b[39;00m\n\u001b[1;32m    385\u001b[0m asinhMap \u001b[38;5;241m=\u001b[39m AsinhMapping(minimum, stretch, Q)\n\u001b[0;32m--> 386\u001b[0m rgb \u001b[38;5;241m=\u001b[39m \u001b[43masinhMap\u001b[49m\u001b[38;5;241;43m.\u001b[39;49m\u001b[43mmake_rgb_image\u001b[49m\u001b[43m(\u001b[49m\u001b[43mimage_r\u001b[49m\u001b[43m,\u001b[49m\u001b[43m \u001b[49m\u001b[43mimage_g\u001b[49m\u001b[43m,\u001b[49m\u001b[43m \u001b[49m\u001b[43mimage_b\u001b[49m\u001b[43m)\u001b[49m\n\u001b[1;32m    388\u001b[0m \u001b[38;5;28;01mif\u001b[39;00m filename:\n\u001b[1;32m    389\u001b[0m     \u001b[38;5;28;01mimport\u001b[39;00m \u001b[38;5;21;01mmatplotlib\u001b[39;00m\u001b[38;5;21;01m.\u001b[39;00m\u001b[38;5;21;01mimage\u001b[39;00m\n",
      "File \u001b[0;32m/opt/lsst/software/stack/conda/miniconda3-py38_4.9.2/envs/lsst-scipipe-5.1.0/lib/python3.10/site-packages/astropy/visualization/lupton_rgb.py:102\u001b[0m, in \u001b[0;36mMapping.make_rgb_image\u001b[0;34m(self, image_r, image_g, image_b)\u001b[0m\n\u001b[1;32m     98\u001b[0m     msg \u001b[38;5;241m=\u001b[39m \u001b[38;5;124m\"\u001b[39m\u001b[38;5;124mThe image shapes must match. r: \u001b[39m\u001b[38;5;132;01m{}\u001b[39;00m\u001b[38;5;124m, g: \u001b[39m\u001b[38;5;132;01m{}\u001b[39;00m\u001b[38;5;124m b: \u001b[39m\u001b[38;5;132;01m{}\u001b[39;00m\u001b[38;5;124m\"\u001b[39m\n\u001b[1;32m     99\u001b[0m     \u001b[38;5;28;01mraise\u001b[39;00m \u001b[38;5;167;01mValueError\u001b[39;00m(msg\u001b[38;5;241m.\u001b[39mformat(image_r\u001b[38;5;241m.\u001b[39mshape, image_g\u001b[38;5;241m.\u001b[39mshape, image_b\u001b[38;5;241m.\u001b[39mshape))\n\u001b[1;32m    101\u001b[0m \u001b[38;5;28;01mreturn\u001b[39;00m np\u001b[38;5;241m.\u001b[39mdstack(\n\u001b[0;32m--> 102\u001b[0m     \u001b[38;5;28;43mself\u001b[39;49m\u001b[38;5;241;43m.\u001b[39;49m\u001b[43m_convert_images_to_uint8\u001b[49m\u001b[43m(\u001b[49m\u001b[43mimage_r\u001b[49m\u001b[43m,\u001b[49m\u001b[43m \u001b[49m\u001b[43mimage_g\u001b[49m\u001b[43m,\u001b[49m\u001b[43m \u001b[49m\u001b[43mimage_b\u001b[49m\u001b[43m)\u001b[49m\n\u001b[1;32m    103\u001b[0m )\u001b[38;5;241m.\u001b[39mastype(np\u001b[38;5;241m.\u001b[39muint8)\n",
      "File \u001b[0;32m/opt/lsst/software/stack/conda/miniconda3-py38_4.9.2/envs/lsst-scipipe-5.1.0/lib/python3.10/site-packages/astropy/visualization/lupton_rgb.py:153\u001b[0m, in \u001b[0;36mMapping._convert_images_to_uint8\u001b[0;34m(self, image_r, image_g, image_b)\u001b[0m\n\u001b[1;32m    149\u001b[0m \u001b[38;5;28;01mdef\u001b[39;00m \u001b[38;5;21m_convert_images_to_uint8\u001b[39m(\u001b[38;5;28mself\u001b[39m, image_r, image_g, image_b):\n\u001b[1;32m    150\u001b[0m     \u001b[38;5;124;03m\"\"\"\u001b[39;00m\n\u001b[1;32m    151\u001b[0m \u001b[38;5;124;03m    Use the mapping to convert images image_r, image_g, and image_b to a triplet of uint8 images\u001b[39;00m\n\u001b[1;32m    152\u001b[0m \u001b[38;5;124;03m    \"\"\"\u001b[39;00m\n\u001b[0;32m--> 153\u001b[0m     image_r \u001b[38;5;241m=\u001b[39m \u001b[43mimage_r\u001b[49m\u001b[43m \u001b[49m\u001b[38;5;241;43m-\u001b[39;49m\u001b[43m \u001b[49m\u001b[38;5;28;43mself\u001b[39;49m\u001b[38;5;241;43m.\u001b[39;49m\u001b[43mminimum\u001b[49m\u001b[43m[\u001b[49m\u001b[38;5;241;43m0\u001b[39;49m\u001b[43m]\u001b[49m  \u001b[38;5;66;03m# n.b. makes copy\u001b[39;00m\n\u001b[1;32m    154\u001b[0m     image_g \u001b[38;5;241m=\u001b[39m image_g \u001b[38;5;241m-\u001b[39m \u001b[38;5;28mself\u001b[39m\u001b[38;5;241m.\u001b[39mminimum[\u001b[38;5;241m1\u001b[39m]\n\u001b[1;32m    155\u001b[0m     image_b \u001b[38;5;241m=\u001b[39m image_b \u001b[38;5;241m-\u001b[39m \u001b[38;5;28mself\u001b[39m\u001b[38;5;241m.\u001b[39mminimum[\u001b[38;5;241m2\u001b[39m]\n",
      "File \u001b[0;32m/opt/lsst/software/stack/stack/miniconda3-py38_4.9.2-5.1.0/Linux64/afw/g093c4c12c6+579e1af31e/python/lsst/afw/image/image/_disableArithmetic.py:59\u001b[0m, in \u001b[0;36mwrapNotImplemented.<locals>.notImplemented\u001b[0;34m(self, other)\u001b[0m\n\u001b[1;32m     57\u001b[0m \u001b[38;5;28;01mif\u001b[39;00m existing \u001b[38;5;129;01mis\u001b[39;00m \u001b[38;5;129;01mnot\u001b[39;00m \u001b[38;5;28;01mNone\u001b[39;00m \u001b[38;5;129;01mand\u001b[39;00m \u001b[38;5;28misinstance\u001b[39m(other, (ImageSliceF, ImageSliceD)):\n\u001b[1;32m     58\u001b[0m     \u001b[38;5;28;01mreturn\u001b[39;00m existing(\u001b[38;5;28mself\u001b[39m, other)\n\u001b[0;32m---> 59\u001b[0m \u001b[38;5;28;01mraise\u001b[39;00m \u001b[38;5;167;01mNotImplementedError\u001b[39;00m(\u001b[38;5;124m\"\u001b[39m\u001b[38;5;124mThis arithmetic operation is not implemented, in order to prevent the \u001b[39m\u001b[38;5;124m\"\u001b[39m\n\u001b[1;32m     60\u001b[0m                           \u001b[38;5;124m\"\u001b[39m\u001b[38;5;124maccidental proliferation of temporaries. Please use the in-place \u001b[39m\u001b[38;5;124m\"\u001b[39m\n\u001b[1;32m     61\u001b[0m                           \u001b[38;5;124m\"\u001b[39m\u001b[38;5;124marithmetic operations (e.g., += instead of +) or operate on the \u001b[39m\u001b[38;5;124m\"\u001b[39m\n\u001b[1;32m     62\u001b[0m                           \u001b[38;5;124m\"\u001b[39m\u001b[38;5;124munderlying arrays.\u001b[39m\u001b[38;5;124m\"\u001b[39m)\n",
      "\u001b[0;31mNotImplementedError\u001b[0m: This arithmetic operation is not implemented, in order to prevent the accidental proliferation of temporaries. Please use the in-place arithmetic operations (e.g., += instead of +) or operate on the underlying arrays."
     ]
    }
   ],
   "source": [
    "image = make_lupton_rgb(image_r, image_g, image_b)\n",
    "plt.imshow(image)"
   ]
  },
  {
   "cell_type": "code",
   "execution_count": 55,
   "id": "037e8cba-c536-4193-8bad-c83d109e4ecb",
   "metadata": {
    "execution": {
     "iopub.execute_input": "2023-03-20T18:20:25.654024Z",
     "iopub.status.busy": "2023-03-20T18:20:25.652972Z",
     "iopub.status.idle": "2023-03-20T18:20:26.055295Z",
     "shell.execute_reply": "2023-03-20T18:20:26.054513Z",
     "shell.execute_reply.started": "2023-03-20T18:20:25.653993Z"
    },
    "tags": []
   },
   "outputs": [
    {
     "data": {
      "image/png": "[encoded data removed]",
      "text/plain": [
       "<Figure size 640x480 with 2 Axes>"
      ]
     },
     "metadata": {},
     "output_type": "display_data"
    }
   ],
   "source": [
    "fig = plt.figure()\n",
    "display = afwDisplay.Display(frame=fig)\n",
    "display.scale('asinh', 'zscale')\n",
    "display.mtv(cutout_image.image)\n",
    "plt.show()"
   ]
  },
  {
   "cell_type": "code",
   "execution_count": null,
   "id": "301d3555-971a-4ce3-81b5-c4e3625abdec",
   "metadata": {},
   "outputs": [],
   "source": []
  },
  {
   "cell_type": "code",
   "execution_count": null,
   "id": "af0d08cb-c6b7-4de2-8269-09147f281243",
   "metadata": {},
   "outputs": [],
   "source": []
  },
  {
   "cell_type": "code",
   "execution_count": null,
   "id": "bd55f77f-4373-4d9a-bf30-9928f6111c04",
   "metadata": {},
   "outputs": [],
   "source": []
  },
  {
   "cell_type": "code",
   "execution_count": 24,
   "id": "09e6e0d2-7b0c-489e-be29-88fc110ceb79",
   "metadata": {
    "execution": {
     "iopub.execute_input": "2023-03-16T17:19:37.353906Z",
     "iopub.status.busy": "2023-03-16T17:19:37.353552Z",
     "iopub.status.idle": "2023-03-16T17:19:37.407214Z",
     "shell.execute_reply": "2023-03-16T17:19:37.406203Z",
     "shell.execute_reply.started": "2023-03-16T17:19:37.353883Z"
    },
    "tags": []
   },
   "outputs": [
    {
     "ename": "LookupError",
     "evalue": "Dataset calexp with data ID {instrument: 'LSSTCam-imSim', detector: 180, visit: 1006101180} could not be found in collections ('2.2i/runs/DP0.2',).",
     "output_type": "error",
     "traceback": [
      "\u001b[0;31m---------------------------------------------------------------------------\u001b[0m",
      "\u001b[0;31mLookupError\u001b[0m                               Traceback (most recent call last)",
      "Input \u001b[0;32mIn [24]\u001b[0m, in \u001b[0;36m<cell line: 1>\u001b[0;34m()\u001b[0m\n\u001b[1;32m      3\u001b[0m \u001b[38;5;28;01mfor\u001b[39;00m visit \u001b[38;5;129;01min\u001b[39;00m ccd_results[\u001b[38;5;124m'\u001b[39m\u001b[38;5;124mccdVisitId\u001b[39m\u001b[38;5;124m'\u001b[39m][\u001b[38;5;241m2\u001b[39m:\u001b[38;5;241m4\u001b[39m]:\n\u001b[1;32m      4\u001b[0m     \u001b[38;5;28;01mfor\u001b[39;00m detector \u001b[38;5;129;01min\u001b[39;00m ccd_results[\u001b[38;5;124m'\u001b[39m\u001b[38;5;124mdetector\u001b[39m\u001b[38;5;124m'\u001b[39m][\u001b[38;5;241m2\u001b[39m:\u001b[38;5;241m4\u001b[39m]:\n\u001b[1;32m      5\u001b[0m         \u001b[38;5;66;03m#deepCoadd= get_cutout_image(row['ra'],row['dec'],visit,detector,band,datasetType='deepCoadd')\u001b[39;00m\n\u001b[0;32m----> 6\u001b[0m         deepCoadd\u001b[38;5;241m=\u001b[39m \u001b[43mget_cutout_image\u001b[49m\u001b[43m(\u001b[49m\u001b[43mrow\u001b[49m\u001b[43m[\u001b[49m\u001b[38;5;124;43m'\u001b[39;49m\u001b[38;5;124;43mra\u001b[39;49m\u001b[38;5;124;43m'\u001b[39;49m\u001b[43m]\u001b[49m\u001b[43m,\u001b[49m\u001b[43mrow\u001b[49m\u001b[43m[\u001b[49m\u001b[38;5;124;43m'\u001b[39;49m\u001b[38;5;124;43mdec\u001b[39;49m\u001b[38;5;124;43m'\u001b[39;49m\u001b[43m]\u001b[49m\u001b[43m,\u001b[49m\u001b[43mvisit\u001b[49m\u001b[43m,\u001b[49m\u001b[43mdetector\u001b[49m\u001b[43m,\u001b[49m\u001b[43mband\u001b[49m\u001b[43m,\u001b[49m\u001b[43mdatasetType\u001b[49m\u001b[38;5;241;43m=\u001b[39;49m\u001b[38;5;124;43m'\u001b[39;49m\u001b[38;5;124;43mcalexp\u001b[39;49m\u001b[38;5;124;43m'\u001b[39;49m\u001b[43m)\u001b[49m\n\u001b[1;32m      7\u001b[0m         figout \u001b[38;5;241m=\u001b[39m make_fig(deepCoadd, row[\u001b[38;5;124m'\u001b[39m\u001b[38;5;124mra\u001b[39m\u001b[38;5;124m'\u001b[39m],row[\u001b[38;5;124m'\u001b[39m\u001b[38;5;124mdec\u001b[39m\u001b[38;5;124m'\u001b[39m],batch_dir\u001b[38;5;241m+\u001b[39m\u001b[38;5;124m\"\u001b[39m\u001b[38;5;124m/coadd_images/\u001b[39m\u001b[38;5;124m\"\u001b[39m\u001b[38;5;241m+\u001b[39m\u001b[38;5;28mstr\u001b[39m(row[\u001b[38;5;124m'\u001b[39m\u001b[38;5;124mid_truth_type\u001b[39m\u001b[38;5;124m'\u001b[39m])\u001b[38;5;241m+\u001b[39m\\\n\u001b[1;32m      8\u001b[0m                           \u001b[38;5;124m\"\u001b[39m\u001b[38;5;124m_\u001b[39m\u001b[38;5;124m\"\u001b[39m\u001b[38;5;241m+\u001b[39mband\u001b[38;5;241m+\u001b[39m\u001b[38;5;124m\"\u001b[39m\u001b[38;5;124m_\u001b[39m\u001b[38;5;124m\"\u001b[39m\u001b[38;5;241m+\u001b[39m\u001b[38;5;28mstr\u001b[39m(visit)\u001b[38;5;241m+\u001b[39m\u001b[38;5;124m\"\u001b[39m\u001b[38;5;124m.png\u001b[39m\u001b[38;5;124m\"\u001b[39m)\n\u001b[1;32m      9\u001b[0m         remove_figure(figout)\n",
      "Input \u001b[0;32mIn [20]\u001b[0m, in \u001b[0;36mget_cutout_image\u001b[0;34m(ra_deg, dec_deg, visit, detector, band, datasetType, cutoutSideLength)\u001b[0m\n\u001b[1;32m     22\u001b[0m parameters \u001b[38;5;241m=\u001b[39m {\u001b[38;5;124m'\u001b[39m\u001b[38;5;124mbbox\u001b[39m\u001b[38;5;124m'\u001b[39m: bbox}\n\u001b[1;32m     23\u001b[0m dataId \u001b[38;5;241m=\u001b[39m {\u001b[38;5;124m'\u001b[39m\u001b[38;5;124mband\u001b[39m\u001b[38;5;124m'\u001b[39m: band, \u001b[38;5;124m'\u001b[39m\u001b[38;5;124mtract\u001b[39m\u001b[38;5;124m'\u001b[39m: my_tract, \u001b[38;5;124m'\u001b[39m\u001b[38;5;124mpatch\u001b[39m\u001b[38;5;124m'\u001b[39m: my_patch, \u001b[38;5;124m'\u001b[39m\u001b[38;5;124mvisit\u001b[39m\u001b[38;5;124m'\u001b[39m: visit, \u001b[38;5;124m'\u001b[39m\u001b[38;5;124mdetector\u001b[39m\u001b[38;5;124m'\u001b[39m:detector}\n\u001b[0;32m---> 24\u001b[0m cutout_image \u001b[38;5;241m=\u001b[39m \u001b[43mbutler\u001b[49m\u001b[38;5;241;43m.\u001b[39;49m\u001b[43mget\u001b[49m\u001b[43m(\u001b[49m\u001b[43mdatasetType\u001b[49m\u001b[43m,\u001b[49m\u001b[43m \u001b[49m\u001b[43mdataId\u001b[49m\u001b[38;5;241;43m=\u001b[39;49m\u001b[43mdataId\u001b[49m\u001b[43m,\u001b[49m\u001b[43m \u001b[49m\u001b[43mparameters\u001b[49m\u001b[38;5;241;43m=\u001b[39;49m\u001b[43mparameters\u001b[49m\u001b[43m)\u001b[49m\n\u001b[1;32m     25\u001b[0m \u001b[38;5;28;01mreturn\u001b[39;00m cutout_image\n",
      "File \u001b[0;32m/opt/lsst/software/stack/stack/miniconda3-py38_4.9.2-5.1.0/Linux64/daf_butler/gf8dc3d25d9+8feadece27/python/lsst/daf/butler/_butler.py:1429\u001b[0m, in \u001b[0;36mButler.get\u001b[0;34m(self, datasetRefOrType, dataId, parameters, collections, storageClass, **kwargs)\u001b[0m\n\u001b[1;32m   1374\u001b[0m \u001b[38;5;124;03m\"\"\"Retrieve a stored dataset.\u001b[39;00m\n\u001b[1;32m   1375\u001b[0m \n\u001b[1;32m   1376\u001b[0m \u001b[38;5;124;03mParameters\u001b[39;00m\n\u001b[0;32m   (...)\u001b[0m\n\u001b[1;32m   1426\u001b[0m \u001b[38;5;124;03m``exposure`` is a temporal dimension.\u001b[39;00m\n\u001b[1;32m   1427\u001b[0m \u001b[38;5;124;03m\"\"\"\u001b[39;00m\n\u001b[1;32m   1428\u001b[0m log\u001b[38;5;241m.\u001b[39mdebug(\u001b[38;5;124m\"\u001b[39m\u001b[38;5;124mButler get: \u001b[39m\u001b[38;5;132;01m%s\u001b[39;00m\u001b[38;5;124m, dataId=\u001b[39m\u001b[38;5;132;01m%s\u001b[39;00m\u001b[38;5;124m, parameters=\u001b[39m\u001b[38;5;132;01m%s\u001b[39;00m\u001b[38;5;124m\"\u001b[39m, datasetRefOrType, dataId, parameters)\n\u001b[0;32m-> 1429\u001b[0m ref \u001b[38;5;241m=\u001b[39m \u001b[38;5;28;43mself\u001b[39;49m\u001b[38;5;241;43m.\u001b[39;49m\u001b[43m_findDatasetRef\u001b[49m\u001b[43m(\u001b[49m\u001b[43mdatasetRefOrType\u001b[49m\u001b[43m,\u001b[49m\u001b[43m \u001b[49m\u001b[43mdataId\u001b[49m\u001b[43m,\u001b[49m\u001b[43m \u001b[49m\u001b[43mcollections\u001b[49m\u001b[38;5;241;43m=\u001b[39;49m\u001b[43mcollections\u001b[49m\u001b[43m,\u001b[49m\u001b[43m \u001b[49m\u001b[38;5;241;43m*\u001b[39;49m\u001b[38;5;241;43m*\u001b[39;49m\u001b[43mkwargs\u001b[49m\u001b[43m)\u001b[49m\n\u001b[1;32m   1430\u001b[0m \u001b[38;5;28;01mreturn\u001b[39;00m \u001b[38;5;28mself\u001b[39m\u001b[38;5;241m.\u001b[39mgetDirect(ref, parameters\u001b[38;5;241m=\u001b[39mparameters, storageClass\u001b[38;5;241m=\u001b[39mstorageClass)\n",
      "File \u001b[0;32m/opt/lsst/software/stack/stack/miniconda3-py38_4.9.2-5.1.0/Linux64/daf_butler/gf8dc3d25d9+8feadece27/python/lsst/daf/butler/_butler.py:1109\u001b[0m, in \u001b[0;36mButler._findDatasetRef\u001b[0;34m(self, datasetRefOrType, dataId, collections, allowUnresolved, **kwargs)\u001b[0m\n\u001b[1;32m   1107\u001b[0m         \u001b[38;5;28;01mif\u001b[39;00m collections \u001b[38;5;129;01mis\u001b[39;00m \u001b[38;5;28;01mNone\u001b[39;00m:\n\u001b[1;32m   1108\u001b[0m             collections \u001b[38;5;241m=\u001b[39m \u001b[38;5;28mself\u001b[39m\u001b[38;5;241m.\u001b[39mregistry\u001b[38;5;241m.\u001b[39mdefaults\u001b[38;5;241m.\u001b[39mcollections\n\u001b[0;32m-> 1109\u001b[0m         \u001b[38;5;28;01mraise\u001b[39;00m \u001b[38;5;167;01mLookupError\u001b[39;00m(\n\u001b[1;32m   1110\u001b[0m             \u001b[38;5;124mf\u001b[39m\u001b[38;5;124m\"\u001b[39m\u001b[38;5;124mDataset \u001b[39m\u001b[38;5;132;01m{\u001b[39;00mdatasetType\u001b[38;5;241m.\u001b[39mname\u001b[38;5;132;01m}\u001b[39;00m\u001b[38;5;124m with data ID \u001b[39m\u001b[38;5;132;01m{\u001b[39;00mdataId\u001b[38;5;132;01m}\u001b[39;00m\u001b[38;5;124m \u001b[39m\u001b[38;5;124m\"\u001b[39m\n\u001b[1;32m   1111\u001b[0m             \u001b[38;5;124mf\u001b[39m\u001b[38;5;124m\"\u001b[39m\u001b[38;5;124mcould not be found in collections \u001b[39m\u001b[38;5;132;01m{\u001b[39;00mcollections\u001b[38;5;132;01m}\u001b[39;00m\u001b[38;5;124m.\u001b[39m\u001b[38;5;124m\"\u001b[39m\n\u001b[1;32m   1112\u001b[0m         )\n\u001b[1;32m   1113\u001b[0m \u001b[38;5;28;01mif\u001b[39;00m idNumber \u001b[38;5;129;01mis\u001b[39;00m \u001b[38;5;129;01mnot\u001b[39;00m \u001b[38;5;28;01mNone\u001b[39;00m \u001b[38;5;129;01mand\u001b[39;00m idNumber \u001b[38;5;241m!=\u001b[39m ref\u001b[38;5;241m.\u001b[39mid:\n\u001b[1;32m   1114\u001b[0m     \u001b[38;5;28;01mif\u001b[39;00m collections \u001b[38;5;129;01mis\u001b[39;00m \u001b[38;5;28;01mNone\u001b[39;00m:\n",
      "\u001b[0;31mLookupError\u001b[0m: Dataset calexp with data ID {instrument: 'LSSTCam-imSim', detector: 180, visit: 1006101180} could not be found in collections ('2.2i/runs/DP0.2',)."
     ]
    }
   ],
   "source": [
    "for index, row in variable_stars[0:1].iterrows():\n",
    "    for band in ['r']:\n",
    "        for visit in ccd_results['ccdVisitId'][2:4]:\n",
    "            for detector in ccd_results['detector'][2:4]:\n",
    "                #deepCoadd= get_cutout_image(row['ra'],row['dec'],visit,detector,band,datasetType='deepCoadd')\n",
    "                deepCoadd= get_cutout_image(row['ra'],row['dec'],visit,detector,band,datasetType='calexp')\n",
    "                figout = make_fig(deepCoadd, row['ra'],row['dec'],batch_dir+\"/coadd_images/\"+str(row['id_truth_type'])+\\\n",
    "                                  \"_\"+band+\"_\"+str(visit)+\".png\")\n",
    "                remove_figure(figout)"
   ]
  },
  {
   "cell_type": "code",
   "execution_count": null,
   "id": "2418b48b-0239-4c7a-b87c-3444a9cf9617",
   "metadata": {},
   "outputs": [],
   "source": []
  }
 ],
 "metadata": {
  "kernelspec": {
   "display_name": "LSST",
   "language": "python",
   "name": "lsst"
  },
  "language_info": {
   "codemirror_mode": {
    "name": "ipython",
    "version": 3
   },
   "file_extension": ".py",
   "mimetype": "text/x-python",
   "name": "python",
   "nbconvert_exporter": "python",
   "pygments_lexer": "ipython3",
   "version": "3.10.9"
  }
 },
 "nbformat": 4,
 "nbformat_minor": 5
}
